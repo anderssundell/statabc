{
 "cells": [
  {
   "cell_type": "markdown",
   "metadata": {},
   "source": [
    "# Regression analysis with logarithmic variables\n",
    "_By Anders Sundell_\n",
    "\n",
    "[In another guide](logarithm_en.html) we discussed how to create logarithmic variables, and what they mean. Here we will instead focus on how to use them in regression analysis, and what to keep in mind when interpreting the coefficients.\n",
    "\n",
    "We will use the same data as in the other example, tha tis the QoG Basic (version 2018) dataset. The code snippet below loads the data, and creates a variable that is the natural logarithm of GDP per capita, `gle_rgdpc`."
   ]
  },
  {
   "cell_type": "code",
   "execution_count": 1,
   "metadata": {},
   "outputs": [
    {
     "name": "stdout",
     "output_type": "stream",
     "text": [
      "\n",
      "(Quality of Government Basic dataset 2018 - Cross-Section)\n",
      "\n",
      "(2 missing values generated)\n"
     ]
    }
   ],
   "source": [
    "use \"https://www.qogdata.pol.gu.se/dataarchive/qog_bas_cs_jan18.dta\", clear\n",
    "gen ln_gdpc = ln(gle_rgdpc)"
   ]
  },
  {
   "cell_type": "markdown",
   "metadata": {},
   "source": [
    "## Logarithmic variable as independent\n",
    "We will use this new variable as our independent variable, and life expectancy as the dependent. The idea is that higher GDP per capita is associated with longer life expectancy - for instance because higher national incomes can be used to improve infrastructure and health care.\n",
    "\n",
    "In the code below we run two analyses, both with actual GDP per capita and with the log-transformed variable, in separate models. The raw output is suppressed by the addition of `quietly` ahead of the regression command. Therafter we save the output with `estimates store` and finally present the results together in a table made with the `esttab` command ([see separate guide](esttab_en.html)), to make the results easier to compare."
   ]
  },
  {
   "cell_type": "code",
   "execution_count": 2,
   "metadata": {},
   "outputs": [
    {
     "name": "stdout",
     "output_type": "stream",
     "text": [
      "\n",
      "\n",
      "\n",
      "\n",
      "\n",
      "\n",
      "--------------------------------------------\n",
      "                      (1)             (2)   \n",
      "               wdi_lifexp      wdi_lifexp   \n",
      "--------------------------------------------\n",
      "gle_rgdpc        0.000346***                \n",
      "                  (11.00)                   \n",
      "\n",
      "ln_gdpc                             5.082***\n",
      "                                  (18.37)   \n",
      "\n",
      "_cons               67.17***        27.17***\n",
      "                 (111.73)         (11.17)   \n",
      "--------------------------------------------\n",
      "N                     183             183   \n",
      "R-sq                0.401           0.651   \n",
      "--------------------------------------------\n",
      "t statistics in parentheses\n",
      "* p<0.05, ** p<0.01, *** p<0.001\n"
     ]
    }
   ],
   "source": [
    "quietly reg wdi_lifexp gle_rgdpc\n",
    "estimates store m1\n",
    "\n",
    "quietly reg wdi_lifexp ln_gdpc\n",
    "\n",
    "estimates store m2\n",
    "esttab m1 m2, r2"
   ]
  },
  {
   "cell_type": "markdown",
   "metadata": {},
   "source": [
    "The main impression from both analyses are of course the same (it is the same underlying data): There is a positive and significant relationship. People live longer in richer countries. But we can see that the $R^2$-value is higher in the second model, with the logarithmic variable, which indicates that it fits the data better.\n",
    "\n",
    "__But how to interpret the coefficients?__ In model 1, with the regular variable, it is easy. The coefficient shows what would happen with the dependent variable if the independent increased one step. If GDP per capita increases with one dollar, life expectancy increases with 0.000346 years. Not a lot, but neither is one dollar.\n",
    "\n",
    "In the other model, we need to do a completely different interpretation. Technically, it is the same thing. The coefficient shows that if we increase the logarithmic variable with one step, life expectancy will increase with 5.082 years. But what does this _mean_? To reinterpret it in more concrete terms, we can divide the coefficient by 100, so that it is 0.05082. __This represents the increase in life expectancy, if we increase GDP per capita with one percent, compared to what it was previously.__\n",
    "\n",
    "Why divide the coefficient by 100? Can we not just say that life expectancy will go up 5.082 years if we increase GDP per capita with a 100 percent?\n",
    "\n",
    "The answer is that the rate of change only is true at a specific point. The larger step we take, the less precision. To increase the logarithm of GDP per capita with a whole step, we need much more than a 100 percent increase."
   ]
  },
  {
   "cell_type": "markdown",
   "metadata": {},
   "source": [
    "## An analogy\n",
    "The reason is compound interest, that is, __interest on interest__. Imagine you have 100 dollars, that you want to deposit in the bank, and keep there for a 100 days. The bank (which is a very good bank) allows you to choose among the following interest plans:\n",
    "\n",
    "Alternative 1: 100 percent interest every 100th day<br>\n",
    "Alternative 2: 10 percent interest every 10th day<br>\n",
    "Alternative 3: 1 percent interest every day\n",
    "\n",
    "Which is best? The alternatives might seem equivalent. But that is not the case. With alternative 1, you would have 200 dollars after the hundred days. First, nothing happens for 99 days, and then you get 100 dollars.\n",
    "\n",
    "With alternative 2 you would have 110 dollars after 10 days, and when you next time get you interest, it is calculated also on the basis of the 10 additional dollars you received last time. If you follow this plan, you will have 259 dollars after 100 days!\n",
    "\n",
    "And with alternative 3 you would have even more opportunity to get interest on your interests payment, which means that after 100 days, you would have 270 dollars. If you get an interest rate of 0.1%, paid 10 times each day, you would improve your earnings even more (but only up to 271 dollars).\n",
    "\n",
    "To increase life expectancy with 5.082 years thus requires that we increase GDP per capita with 1 percent, a hundred times. Or if we want to be evan more exact, with one tenth of a percent, 1000 times. In practice, this means that we need to increase it so that it is 2.71828 times as large as it was before. Do you recognize the number? It is the number $e$, which is the base for the natural logarithm we used to construct the variable."
   ]
  },
  {
   "cell_type": "markdown",
   "metadata": {},
   "source": [
    "## Logarithmic variable as dependent\n",
    "\n",
    "What is the case if have a logarithmic dependent variable? Then we need to think a bit differently. Imagine for instance that we want to investigate how the logarithm of GDP per capita is associated with the level of corruption `ti_cpi`, where higher values indicate less corruption. We then run the following regression (with raw output suppressed, and then presented with `esttab`."
   ]
  },
  {
   "cell_type": "code",
   "execution_count": 3,
   "metadata": {},
   "outputs": [
    {
     "name": "stdout",
     "output_type": "stream",
     "text": [
      "\n",
      "\n",
      "\n",
      "----------------------------\n",
      "                      (1)   \n",
      "                  ln_gdpc   \n",
      "----------------------------\n",
      "ti_cpi             0.0463***\n",
      "                  (13.09)   \n",
      "\n",
      "_cons               6.695***\n",
      "                  (40.04)   \n",
      "----------------------------\n",
      "N                     179   \n",
      "----------------------------\n",
      "t statistics in parentheses\n",
      "* p<0.05, ** p<0.01, *** p<0.001\n"
     ]
    }
   ],
   "source": [
    "quietly reg ln_gdpc ti_cpi\n",
    "esttab"
   ]
  },
  {
   "cell_type": "markdown",
   "metadata": {},
   "source": [
    "The coefficient for the corruption variable is 0.0463. In this case we can multiplie the coefficient by 100, to get the expected change in percent in the dependent variable, if we increase the independent by one step. For each step up on `ti_cpi`, we get an increase in GDP per capita of 4.63% compared to what GDP what was before."
   ]
  },
  {
   "cell_type": "markdown",
   "metadata": {},
   "source": [
    "## Logarithmic variables as both dependent and independent\n",
    "\n",
    "The simplest case is when we have logarithmic scales as both dependent and independent. Then we can interpret the coefficient as the expected change in percent in the dependent variable when the independent variable is increased by one percent. For instance, if we want to see the relationship between the logarithm of population, and the logarithm of GDP (not per capita)."
   ]
  },
  {
   "cell_type": "code",
   "execution_count": 7,
   "metadata": {},
   "outputs": [
    {
     "name": "stdout",
     "output_type": "stream",
     "text": [
      "\n",
      "(2 missing values generated)\n",
      "\n",
      "(2 missing values generated)\n",
      "\n",
      "\n",
      "\n",
      "----------------------------\n",
      "                      (1)   \n",
      "                   ln_gdp   \n",
      "----------------------------\n",
      "ln_pop              0.942***\n",
      "                  (22.41)   \n",
      "\n",
      "_cons               2.321***\n",
      "                   (6.23)   \n",
      "----------------------------\n",
      "N                     192   \n",
      "R-sq                0.726   \n",
      "----------------------------\n",
      "t statistics in parentheses\n",
      "* p<0.05, ** p<0.01, *** p<0.001\n"
     ]
    }
   ],
   "source": [
    "gen ln_gdp = ln(gle_gdp)\n",
    "gen ln_pop = ln(gle_pop)\n",
    "\n",
    "quietly reg ln_gdp ln_pop\n",
    "esttab, r2"
   ]
  },
  {
   "cell_type": "markdown",
   "metadata": {},
   "source": [
    "An increase in the population of one percent is associated with an increase of GDP by 0.942%."
   ]
  },
  {
   "cell_type": "markdown",
   "metadata": {},
   "source": [
    "## Conclusion\n",
    "\n",
    "It is often warranted and a good idea to use logarithmic variables in regression analyses, when the data is continous biut skewed. But it is imporant to interpret the coefficients in the right way. Here is a table that shows the correct interpretation for four different scenarios:\n",
    "\n",
    "| Dependent | Independent | Interpretation of the b-coefficient |\n",
    "|----------|-----------|----------|\n",
    "| Regular   | Regular    | How many __scale units__ the dependent changes when we increase the independent with __one unit__. |\n",
    "| Dependent   | Logarithmic    | Divide the coefficient by 100: How many __scale units__ the dependent changes when we increase the independent by __one percent__. |\n",
    "| Logarithmic   | Regular    | Multiply the coefficient by 100: How many __percent__ the dependent changes when we increase the independent with __one unit__.|\n",
    "| Logarithmic   | Logarithmic    | How many __percent__ the dependent changes when we increase the independent by __one percent__. |"
   ]
  }
 ],
 "metadata": {
  "kernelspec": {
   "display_name": "Stata",
   "language": "stata",
   "name": "stata"
  },
  "language_info": {
   "codemirror_mode": "stata",
   "file_extension": ".do",
   "mimetype": "text/x-stata",
   "name": "stata",
   "version": "15.1"
  }
 },
 "nbformat": 4,
 "nbformat_minor": 4
}
