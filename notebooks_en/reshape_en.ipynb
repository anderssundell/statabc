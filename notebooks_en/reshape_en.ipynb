{
 "cells": [
  {
   "cell_type": "markdown",
   "metadata": {},
   "source": [
    "# Transform panel data between long and wide with `reshape`\n",
    "\n",
    "Panel data can, as described in [another post](xtset_en.html) be structured in a \"long\" or \"wide\" way, depending on the question asked. Below are examples of what the structures look like.\n",
    "* In wide data each variable is included several times, once for every unit of time, but each panel unit (country in this case) only has one observation.\n",
    "* In long data each variable is only included once, but each panel unit has many observations. Time is also shown in a special variable.\n",
    "\n",
    "In this guide we will cover how to transform the data between the two formats, with the command `reshape`.\n",
    "\n",
    "**Wide data:**\n",
    "\n",
    "| country | population2000  | population2001  | population2002  |\n",
    "|---------|-----------------|-----------------|-----------------|\n",
    "| Sweden  | 8872284         | 8888675         | 8911899         |\n",
    "| Norway  | 4491572         | 4514907         | 4537240         |\n",
    "\n",
    "\n",
    "**Long data:**\n",
    "\n",
    "| country | year     | population      |\n",
    "|---------|----------|-----------------|\n",
    "| Sweden  | 2000     | 8872284         | \n",
    "| Sweden  | 2001     | 8888675         | \n",
    "| Sweden  | 2002     | 8911899         | \n",
    "| Norway  | 2000     | 4491572         | \n",
    "| Norway  | 2001     | 4514907         | \n",
    "| Norway  | 2002     | 4537240         |\n",
    "\n"
   ]
  },
  {
   "cell_type": "markdown",
   "metadata": {},
   "source": [
    "## Reshape from long to wide\n",
    "First we load the data to work with: The QoG institute time-series cross-section data. It holds data on the countries of the world, over time. To make it a little bit easier to grasp we will throw away most of the variables. We will only `keep` the variables \"cname\", \"year\", \"fh_status\" (democracy status) and \"unna_pop\" (population), and only the years 2010 and 2011. We do this with the command `keep` and an [if-statement.](ifstatements_en.html)"
   ]
  },
  {
   "cell_type": "code",
   "execution_count": 1,
   "metadata": {},
   "outputs": [
    {
     "name": "stdout",
     "output_type": "stream",
     "text": [
      "\n",
      "(Quality of Government Basic dataset 2018 - Time-Series)\n",
      "\n",
      "\n",
      "(14,770 observations deleted)\n"
     ]
    }
   ],
   "source": [
    "use \"https://www.qogdata.pol.gu.se/dataarchive/qog_bas_ts_jan18.dta\", clear\n",
    "keep cname year fh_status unna_pop\n",
    "keep if year==2010 | year==2011"
   ]
  },
  {
   "cell_type": "markdown",
   "metadata": {},
   "source": [
    "If we look at the first six rows of the dataset (using `list`) we can see that each country is included twice, once for 2010 and once for 2011. Each variable is only included once. **The data is in \"long\" format.**"
   ]
  },
  {
   "cell_type": "code",
   "execution_count": 2,
   "metadata": {},
   "outputs": [
    {
     "name": "stdout",
     "output_type": "stream",
     "text": [
      "\n",
      "     +---------------------------------------------+\n",
      "     |       cname   year     fh_status   unna_pop |\n",
      "     |---------------------------------------------|\n",
      "  1. | Afghanistan   2010      Not Free   27962207 |\n",
      "  2. | Afghanistan   2011      Not Free   28809167 |\n",
      "  3. |     Albania   2010   Partly Free    2901883 |\n",
      "  4. |     Albania   2011   Partly Free    2886010 |\n",
      "  5. |     Algeria   2010      Not Free   36036159 |\n",
      "     |---------------------------------------------|\n",
      "  6. |     Algeria   2011      Not Free   36717132 |\n",
      "     +---------------------------------------------+\n"
     ]
    }
   ],
   "source": [
    "list in 1/6"
   ]
  },
  {
   "cell_type": "markdown",
   "metadata": {},
   "source": [
    "### The `reshape` command from long to wide\n",
    "Now we shall run the `reshape` command. We need to specify a few things:\n",
    "1. If the end result should be long or wide\n",
    "2. Which variables to transform (fh_status and unna_pop, in this case)\n",
    "3. Which variable that shows the panel unit (cname, in this case)\n",
    "4. Which variable that shows the time (year, in this case)\n",
    "\n",
    "The first two pieces of information are included before the comma sign, and the other two in the options `i()` (the panel unit) and `j()` (time). It looks like this:"
   ]
  },
  {
   "cell_type": "code",
   "execution_count": 3,
   "metadata": {},
   "outputs": [
    {
     "name": "stdout",
     "output_type": "stream",
     "text": [
      "(note: j = 2010 2011)\n",
      "\n",
      "Data                               long   ->   wide\n",
      "-----------------------------------------------------------------------------\n",
      "Number of obs.                      422   ->     211\n",
      "Number of variables                   4   ->       5\n",
      "j variable (2 values)              year   ->   (dropped)\n",
      "xij variables:\n",
      "                              fh_status   ->   fh_status2010 fh_status2011\n",
      "                               unna_pop   ->   unna_pop2010 unna_pop2011\n",
      "-----------------------------------------------------------------------------\n"
     ]
    }
   ],
   "source": [
    "reshape wide fh_status-unna_pop, i(cname) j(year)"
   ]
  },
  {
   "cell_type": "markdown",
   "metadata": {},
   "source": [
    "Stata shows us a little status report that shows the result: The number of observations has been cut in half, just as expected. Previously, each country was included twice, now it is only included once. The number of variables has however increase. The variable \"year\" is gone (it is now reflected in the other variable names): \"fh_status\" has turned into \"fh_status2010\" and \"fh_status2011\", while \"unna_pop\" has turned into \"unna_pop2010\" and \"unna_pop2011\". We can again look at the first six rows to make sure that it worked:"
   ]
  },
  {
   "cell_type": "code",
   "execution_count": 4,
   "metadata": {},
   "outputs": [
    {
     "name": "stdout",
     "output_type": "stream",
     "text": [
      "\n",
      "     +-----------------------------------------------------------------------+\n",
      "     |               cname   fh_sta~2010   unn~2010   fh_sta~2011   unn~2011 |\n",
      "     |-----------------------------------------------------------------------|\n",
      "  1. |         Afghanistan      Not Free   27962207      Not Free   28809167 |\n",
      "  2. |             Albania   Partly Free    2901883   Partly Free    2886010 |\n",
      "  3. |             Algeria      Not Free   36036159      Not Free   36717132 |\n",
      "  4. |             Andorra          Free      84419          Free      82326 |\n",
      "  5. |              Angola      Not Free   21219954      Not Free   21942296 |\n",
      "     |-----------------------------------------------------------------------|\n",
      "  6. | Antigua and Barbuda          Free      87233          Free      88152 |\n",
      "     +-----------------------------------------------------------------------+\n"
     ]
    }
   ],
   "source": [
    "list in 1/6"
   ]
  },
  {
   "cell_type": "markdown",
   "metadata": {},
   "source": [
    "### A possible problem: Duplicate values (\"values of variable not unique\")\n",
    "If the command doesn't work a problem might be that there are duplicate values in the panel and time variables. We then get the error message \"values of variable year not unique within cname\". Use the command `duplicates list` to find these duplicate values: `duplicates list cname year` and figure out what went wrong."
   ]
  },
  {
   "cell_type": "markdown",
   "metadata": {},
   "source": [
    "## Reshape from wide to long\n",
    "\n",
    "We have now created a \"wide\" dataset. If we want to turn it back to long format we can do so with `reshape`. This might actually be the more common case when collecting data from various official sources.\n",
    "\n",
    "In order for it to work the variable must be named in a specific way. All variables that show the same information needs to have the same name, but with different numbers at the end. They are supporsed to be named (for instance) \"unna_pop2010\", \"unna_pop2011\", \"unna_pop2012\". They cannot be called \"unna2010pop\" and \"unna2011pop\". The numbers have to be at the end.\n",
    "Siffrorna måste vara på slutet för att Stata ska fatta.\n",
    "\n",
    "### The reshape command from wide to long\n",
    "\n",
    "The command is very similar to what we did previously, but not entirely. First we write `reshape long` to indicate that we want to create a long dataset. Then we write the name of the variables we want to reshape, but only the \"stem\" - not the time. Stata will then look for this variable name \"stems\" in the variable list. If we have variables that are called fh_status2010 and fh_status2011 we only write \"fh_status\".\n",
    "\n",
    "In the option `i()` we state the name of the panel unit variable, and in option `j()` we name the time variable. But this time, there is no existing time variable! We set the name of it in this command. We will call the vairable that shows the year for \"year\". The full command is thus:"
   ]
  },
  {
   "cell_type": "code",
   "execution_count": 5,
   "metadata": {},
   "outputs": [
    {
     "name": "stdout",
     "output_type": "stream",
     "text": [
      "(note: j = 2010 2011)\n",
      "\n",
      "Data                               wide   ->   long\n",
      "-----------------------------------------------------------------------------\n",
      "Number of obs.                      211   ->     422\n",
      "Number of variables                   5   ->       4\n",
      "j variable (2 values)                     ->   year\n",
      "xij variables:\n",
      "            fh_status2010 fh_status2011   ->   fh_status\n",
      "              unna_pop2010 unna_pop2011   ->   unna_pop\n",
      "-----------------------------------------------------------------------------\n"
     ]
    }
   ],
   "source": [
    "reshape long fh_status unna_pop, i(cname) j(year)"
   ]
  },
  {
   "cell_type": "markdown",
   "metadata": {},
   "source": [
    "The number of observations doubles, from 211 to 422, because there were two years. Previously, the years were spread out over columns - now they are spread out over more observations instead. There are now only four variables, down from five, and Stata has also created a new variable: \"year\". The information in \"fh_status2010\" and \"fh_status2011\" are now contained in the variable \"fh_status\", and the information in the variables \"unna_pop2010\" and \"unna_pop2011\" are now in the variable \"unna_pop\". Let's look at the first six rows:"
   ]
  },
  {
   "cell_type": "code",
   "execution_count": 6,
   "metadata": {},
   "outputs": [
    {
     "name": "stdout",
     "output_type": "stream",
     "text": [
      "\n",
      "     +---------------------------------------------+\n",
      "     |       cname   year     fh_status   unna_pop |\n",
      "     |---------------------------------------------|\n",
      "  1. | Afghanistan   2010      Not Free   27962207 |\n",
      "  2. | Afghanistan   2011      Not Free   28809167 |\n",
      "  3. |     Albania   2010   Partly Free    2901883 |\n",
      "  4. |     Albania   2011   Partly Free    2886010 |\n",
      "  5. |     Algeria   2010      Not Free   36036159 |\n",
      "     |---------------------------------------------|\n",
      "  6. |     Algeria   2011      Not Free   36717132 |\n",
      "     +---------------------------------------------+\n"
     ]
    }
   ],
   "source": [
    "list in 1/6"
   ]
  },
  {
   "cell_type": "markdown",
   "metadata": {},
   "source": [
    "## Conclusion\n",
    "`reshape` can be used to transform data to and from long and wide format.\n",
    "\n",
    "* Going from long to wide:<br>\n",
    "`reshape long variabelnamn, i(panelvariabel) j(tidsvariabel)`\n",
    "\n",
    "* Going from wide to long:<br>\n",
    "`reshape wide variabelnamn, i(panelvariabel) j(ny tidsvariabel)`\n",
    "\n",
    "For most (but not all) statistical analysis long format is better, since we then can [set the panel structure with `xtset`](xtset_sv.html) and do analyses that take time into account."
   ]
  }
 ],
 "metadata": {
  "kernelspec": {
   "display_name": "Stata",
   "language": "stata",
   "name": "stata"
  },
  "language_info": {
   "codemirror_mode": "stata",
   "file_extension": ".do",
   "mimetype": "text/x-stata",
   "name": "stata",
   "version": "15.1"
  }
 },
 "nbformat": 4,
 "nbformat_minor": 4
}
