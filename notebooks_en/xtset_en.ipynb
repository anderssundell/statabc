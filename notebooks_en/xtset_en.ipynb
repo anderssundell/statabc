{
 "cells": [
  {
   "cell_type": "markdown",
   "metadata": {},
   "source": [
    "# Panel data (time-series cross-section)\n",
    "\n",
    "**Cross sectional data** means that we have data from many units, at one point in time.<br>\n",
    "**Time series data** means that we have data from one unit, over many points in time.<br>\n",
    "**Panel data (or time series cross section)** means that we have data from many units, over many points in time.\n",
    "\n",
    "We can perform more interesting analyses with panel data than with both cross section and time series data, and gives us better opportunity to rule out alternative explanations, thereby making it easier to talk about cause and effect.\n",
    "\n",
    "In Stata we can use time series commands ([se separate guide for them!](timesseries_en.html)) in panel data to create lagged and leading variables. We can also use special regression commands that are suited for panel data, such as `xtreg`.\n",
    "\n",
    "**But first we need to make sure that the data is set up for panel analysis. This guide is about that.**"
   ]
  },
  {
   "cell_type": "markdown",
   "metadata": {},
   "source": [
    "## The panel data structure: long or wide\n",
    "\n",
    "Panel data can be structured in two ways: \"long\" or \"wide\". To take an example, let's say we have data on countries, over time.\n",
    "\n",
    "### Wide data\n",
    "With wide data each row in the dataset stands for one country, and each column a variable at one point in time. For instance the population size of a country, a certain year. Like this:\n",
    "\n",
    "| country | population2000  | population2001  | population2002  |\n",
    "|---------|-----------------|-----------------|-----------------|\n",
    "| Sweden  | 8872284         | 8888675         | 8911899         |\n",
    "| Norway  | 4491572         | 4514907         | 4537240         |\n",
    "\n",
    "It might seem intuitive at first glance, and it makes it easy to compare certain years to each other. But it is harder to do more advanced analyses, with many different variables (population, GDP, unemployment, and so on) we will need a lot of columns.\n",
    "\n",
    "### Long data\n",
    "In general it is more convenient to have the data in long form. In long data each row represents one country one year, and each column represents one variable. But we also need a variable that shows which year the row represents. The table above would look like this in long form:\n",
    "\n",
    "\n",
    "| country | year     | population      |\n",
    "|---------|----------|-----------------|\n",
    "| Sweden  | 2000     | 8872284         | \n",
    "| Sweden  | 2001     | 8888675         | \n",
    "| Sweden  | 2002     | 8911899         | \n",
    "| Norway  | 2000     | 4491572         | \n",
    "| Norway  | 2001     | 4514907         | \n",
    "| Norway  | 2002     | 4537240         |\n",
    "\n",
    "The same data, in another format. Here we instead have few columns, but a lot of rows, but rows are easier to work with in Stata. To change format from wide to long, or from long to wide, use the command `reshape`. There will be another guide about that. The rest of the guide presumes that the data is in long form."
   ]
  },
  {
   "cell_type": "markdown",
   "metadata": {},
   "source": [
    "## Set the panel data structure with `xtset`\n",
    "We need to specify two variables for Stata: A panel (unit) variable and a time variable. The panel variable is country in this case - all observations for Sweden are connected, all observations for Norway are connected, and so on. The time variable is year, in this case.\n",
    "\n",
    "The command to specify these variables is `xtset`. We simply type `xtset country year` - the panel variable first, and then the time variable. Let us try, with the QoG institute's time series cross section dataset, which contains information about countries, over time. The data is in long format."
   ]
  },
  {
   "cell_type": "code",
   "execution_count": 1,
   "metadata": {},
   "outputs": [
    {
     "name": "stdout",
     "output_type": "stream",
     "text": [
      "(Quality of Government Basic dataset 2018 - Time-Series)\n"
     ]
    }
   ],
   "source": [
    "use \"https://www.qogdata.pol.gu.se/dataarchive/qog_bas_ts_jan18.dta\", clear"
   ]
  },
  {
   "cell_type": "markdown",
   "metadata": {},
   "source": [
    "### A common problem: The panel variable is text (a string)\n",
    "The variable \"cname\" shows the name of each country in the data, and the variable \"year\" shows the year which the row in the data refers to. But if we try to use these variables with `xtset` we get the following error message:"
   ]
  },
  {
   "cell_type": "code",
   "execution_count": 2,
   "metadata": {},
   "outputs": [
    {
     "name": "stdout",
     "output_type": "stream",
     "text": [
      "string variables not allowed in varlist;\n",
      "cname is a string variable\n"
     ]
    },
    {
     "name": "stderr",
     "output_type": "stream",
     "text": [
      "r(109);\n"
     ]
    },
    {
     "name": "stdout",
     "output_type": "stream",
     "text": [
      "\n"
     ]
    }
   ],
   "source": [
    "xtset cname year"
   ]
  },
  {
   "cell_type": "markdown",
   "metadata": {},
   "source": [
    "Stata objects that the panel variable \"cname\" is a string variable. Stata wants it to be a numeric code. In the QoG data we have such variables, for instance the variable \"ccode\". But in other cases, for instance when we collect the data ourselves, we might not be so lucky. In those cases we can easily construct a country code ourselves, with the command `egen`, combined with `group()`:"
   ]
  },
  {
   "cell_type": "code",
   "execution_count": 3,
   "metadata": {},
   "outputs": [],
   "source": [
    "egen countryid = group(cname)"
   ]
  },
  {
   "cell_type": "markdown",
   "metadata": {},
   "source": [
    "Stata then creates a new variable called \"countryid\", that gives each unique value of the variable \"cname\" its own numeric code, from one and up. We can now use this variable as our panel variable.\n",
    "\n",
    "### Set the panel data the right way"
   ]
  },
  {
   "cell_type": "code",
   "execution_count": 4,
   "metadata": {},
   "outputs": [
    {
     "name": "stdout",
     "output_type": "stream",
     "text": [
      "       panel variable:  countryid (strongly balanced)\n",
      "        time variable:  year, 1946 to 2017\n",
      "                delta:  1 unit\n"
     ]
    }
   ],
   "source": [
    "xtset countryid year"
   ]
  },
  {
   "cell_type": "markdown",
   "metadata": {},
   "source": [
    "This is the message we get when the command worked. We can now see that our new variable \"countryid\" is the panel variable, and that the time variable is \"year\"."
   ]
  },
  {
   "cell_type": "markdown",
   "metadata": {},
   "source": [
    "### A common problem: Duplicates (repeated time values within panel)"
   ]
  },
  {
   "cell_type": "markdown",
   "metadata": {},
   "source": [
    "Another common error message is \"repeated time values within panel\". It means that we have duplicate observations for at least one country-year. The two variables we specify with `xtset` must give unique combinations for all observations. Stata will not know what do with observations that are included in multiple places, for instance Sweden in the year 2000, and then shows us the error message. It looks like this:"
   ]
  },
  {
   "cell_type": "code",
   "execution_count": 11,
   "metadata": {},
   "outputs": [
    {
     "name": "stdout",
     "output_type": "stream",
     "text": [
      "repeated time values within panel\n"
     ]
    },
    {
     "name": "stderr",
     "output_type": "stream",
     "text": [
      "r(451);\n"
     ]
    },
    {
     "name": "stdout",
     "output_type": "stream",
     "text": [
      "\n"
     ]
    }
   ],
   "source": [
    "xtset countryid year"
   ]
  },
  {
   "cell_type": "markdown",
   "metadata": {},
   "source": [
    "Unfortunately Stata does not tell us which observations that caused the error. But we can use the command `duplicates` to find them. We then write `duplicates list` followed by the variables in question, both of them (countryid year). If we only write on of them, for instance `duplicates list countryid` we will get a very long list of observations, as each country is included many times (once for each year). But if we instead write `duplicates list countryid year` we only get the observations that have identical values on both the variables:"
   ]
  },
  {
   "cell_type": "code",
   "execution_count": 12,
   "metadata": {},
   "outputs": [
    {
     "name": "stdout",
     "output_type": "stream",
     "text": [
      "\n",
      "Duplicates in terms of countryid year\n",
      "\n",
      "  +-------------------------+\n",
      "  |  obs:   countr~d   year |\n",
      "  |-------------------------|\n",
      "  | 15193        483   2000 |\n",
      "  | 15194        483   2000 |\n",
      "  | 15195        483   2000 |\n",
      "  | 15196        483   2000 |\n",
      "  | 15197        483   2000 |\n",
      "  |-------------------------|\n",
      "  | 15198        483   2000 |\n",
      "  | 15199        483   2000 |\n",
      "  | 15200        483   2000 |\n",
      "  +-------------------------+\n"
     ]
    }
   ],
   "source": [
    "duplicates list countryid year"
   ]
  },
  {
   "cell_type": "markdown",
   "metadata": {},
   "source": [
    "We can here see that 8 observations are causing the problem. They have the value 483 on the variable \"countryid\", and the value 2000 on the variable \"year\".\n",
    "\n",
    "Now that we know who the culprits are we need to think about why they were duplicates in the first place. In this case it was because I created them, to demonstrate the error message, and we can safely delete them. But in general we don't know which of the duplicates that are the problematic ones - there might be one good observation of Sweden in 2000, and a bad one (caused by some error in data entry for instance). In those cases it is necessary to take a close look at the data, to determine what went wrong, and which observation that should be deleted.\n",
    "\n",
    "If we have decided to remove them we can use the command `drop` in combination with an [if-statement](ifstatements_en.html). Below we instruct Stata to remove all observations with the value 483 on \"countryid\" and 2000 on \"year\"."
   ]
  },
  {
   "cell_type": "code",
   "execution_count": 13,
   "metadata": {},
   "outputs": [
    {
     "name": "stdout",
     "output_type": "stream",
     "text": [
      "(8 observations deleted)\n"
     ]
    }
   ],
   "source": [
    "drop if countryid==483 & year==2000"
   ]
  },
  {
   "cell_type": "markdown",
   "metadata": {},
   "source": [
    "After doing so, we should be able to use `xtset` as intended."
   ]
  },
  {
   "cell_type": "code",
   "execution_count": 14,
   "metadata": {},
   "outputs": [
    {
     "name": "stdout",
     "output_type": "stream",
     "text": [
      "       panel variable:  countryid (strongly balanced)\n",
      "        time variable:  year, 1946 to 2017\n",
      "                delta:  1 unit\n"
     ]
    }
   ],
   "source": [
    "xtset countryid year"
   ]
  },
  {
   "cell_type": "markdown",
   "metadata": {},
   "source": [
    "## Create lagged variables\n",
    "Now we are ready to start using the data. We can for instance create a lagged variable, that shows the population the previous year. Here we use normal [time series commands](timeseries_en.html)."
   ]
  },
  {
   "cell_type": "code",
   "execution_count": 15,
   "metadata": {},
   "outputs": [
    {
     "name": "stdout",
     "output_type": "stream",
     "text": [
      "(7,121 missing values generated)\n"
     ]
    }
   ],
   "source": [
    "gen lag_pop = l.unna_pop"
   ]
  },
  {
   "cell_type": "markdown",
   "metadata": {},
   "source": [
    "If we now look at a segment of the data we can see that it worked:"
   ]
  },
  {
   "cell_type": "code",
   "execution_count": 16,
   "metadata": {},
   "outputs": [
    {
     "name": "stdout",
     "output_type": "stream",
     "text": [
      "\n",
      "       +------------------------------------+\n",
      "       |  cname   year   unna_pop   lag_pop |\n",
      "       |------------------------------------|\n",
      "12738. | Sweden   2011    9462352   9382297 |\n",
      "12739. | Sweden   2012    9543457   9462352 |\n",
      "12740. | Sweden   2013    9624247   9543457 |\n",
      "12741. | Sweden   2014    9703247   9624247 |\n",
      "12742. | Sweden   2015    9779426   9703247 |\n",
      "       |------------------------------------|\n",
      "12743. | Sweden   2016          .   9779426 |\n",
      "12744. | Sweden   2017          .         . |\n",
      "       +------------------------------------+\n"
     ]
    }
   ],
   "source": [
    "list cname year unna_pop lag_pop if cname==\"Sweden\" & year>2010"
   ]
  },
  {
   "cell_type": "markdown",
   "metadata": {},
   "source": [
    "The value on the variable \"unna_pop\" is for Sweden in 2011 9462352 persons. The year after the variable \"lag_pop\" also has the value 9462352. As planned! The good thing is that Stata has not simply shifted all observations down one row, but takes into account which observation that belongs to which country. One country's last year is not assigned to the next country's first."
   ]
  },
  {
   "cell_type": "markdown",
   "metadata": {},
   "source": [
    "## Finally\n",
    "It is sometimes a bit tricky to set up panel data the right way, so Stata will understand how to deal with the data. It is important that the data is in long form, so that each row is a country year, and that we have a separate variable that shows which year the data corresponds to. With the command `reshape` we can transform the data from long to wide, or from wide to long. There will be a separate guide for this command."
   ]
  }
 ],
 "metadata": {
  "kernelspec": {
   "display_name": "Stata",
   "language": "stata",
   "name": "stata"
  },
  "language_info": {
   "codemirror_mode": "stata",
   "file_extension": ".do",
   "mimetype": "text/x-stata",
   "name": "stata",
   "version": "15.1"
  }
 },
 "nbformat": 4,
 "nbformat_minor": 4
}
