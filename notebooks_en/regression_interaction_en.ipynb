{
 "cells": [
  {
   "cell_type": "markdown",
   "metadata": {},
   "source": [
    "# Regression analysis with interaction effects\n",
    "*av Anders Sundell*\n",
    "\n",
    "Regression analysis is used to investigate relationships between variables, with or without control for other vairables. However, in the real world, we often find that relationships are different in different sub-groups of the population, or during different circumstances. The effect of becoming a parent is for instance different among women and men; women see a much larger drop in incomes.\n",
    "\n",
    "How to account for this in our analyses? One way is to run two separate analyses, one for each group we are interested in (in this case women and men). We then get the effect of becoming a parent among men, and among women.\n",
    "\n",
    "But we can also do this in one single regression analysis. We then get a sense of how much the effect differs between groups, and also whether the *difference* in effect is statistically significant. We can then decide whether it is worth the effort to complicate our theoretical model by introducing these separate effects. We can then also hold the effects of all control variables constant. If we run two separate analyses, the control variables would also get different effects in the two models, and that might not be part of our theory.\n",
    "\n",
    "__This is called an interaction analysis. It can also be called a moderation analysis, or that we are investigating conditional effects. It means that we let the effect of one variable vary over the values of another variable.__ It is often graphically represented by a a diagram with an arrow pointing at another arrow. The third variable in this schematic affects *the effect* of the main independent variable, rather than *the value* of the independent and dependent variables.\n",
    "\n",
    "<img src = \"../images/interaction_en.png\" alt=\"An interaktion\" width=451>\n",
    "\n",
    "In this guide we will discuss how to do regression analyses where both independent variable and interaction variable only has two values, and how to best present the results.\n",
    "\n",
    "We will work with data from the american <a href=\"http://gss.norc.org/get-the-data/stata\">General Social Survey</a>, which is a survey with regular citizens, with questions about a lot of subjects. We will use the 2016 edition. Download the data and put it in your project folder to follow along in the example."
   ]
  },
  {
   "cell_type": "code",
   "execution_count": 3,
   "metadata": {},
   "outputs": [
    {
     "name": "stdout",
     "output_type": "stream",
     "text": [
      "\n",
      "/Users/xsunde/Dropbox/Jupyter/stathelp/data\n",
      "\n"
     ]
    }
   ],
   "source": [
    "cd \"/Users/xsunde/Dropbox/Jupyter/stathelp/data/\"\n",
    "use \"GSS2016.dta\", clear"
   ]
  },
  {
   "cell_type": "markdown",
   "metadata": {},
   "source": [
    "## Prepare the data for analysis\n",
    "\n",
    "The question to investigate is the one mentioned above: how becoming a parent affects incomes for women and men. We should really have longitudinal data to properly investigate the question. It would allow us to track individuals before and after they have kids. Since this is cross-sectional data, with information from one point in time, this is not possible. Our conclusions will thus be based on comparisons between parents and non-parents. Of course, this limits our ability to draw conclusions about cause and effect.\n",
    "\n",
    "We need three variables: gender, income, and number of kids. Information about gender is found in the variable `sex` where 1 means \"male\" and 2 \"female\". To make results more easy to interpret later, we will recode the variable so men have the value 0 and women the value 1. We also rename the variable to \"woman\" instead of sex. When we increase our variable, it means that the respondent becomes \"more woman\", metaphorically speaking."
   ]
  },
  {
   "cell_type": "code",
   "execution_count": 4,
   "metadata": {},
   "outputs": [
    {
     "name": "stdout",
     "output_type": "stream",
     "text": [
      "\n",
      "(2867 differences between sex and woman)\n",
      "\n",
      "\n",
      "  RECODE of |\n",
      "        sex |\n",
      "(respondent |\n",
      "     s sex) |      Freq.     Percent        Cum.\n",
      "------------+-----------------------------------\n",
      "          0 |      1,276       44.51       44.51\n",
      "          1 |      1,591       55.49      100.00\n",
      "------------+-----------------------------------\n",
      "      Total |      2,867      100.00\n"
     ]
    }
   ],
   "source": [
    "recode sex (1=0) (2=1), generate(woman)\n",
    "tab woman"
   ]
  },
  {
   "cell_type": "markdown",
   "metadata": {},
   "source": [
    "We also need a variable for income. There are some to choose from, but the simplest seem to be `realrinc`, which expresses the respondent's income in dolalrs per year. We can see below that the mean is 23773."
   ]
  },
  {
   "cell_type": "code",
   "execution_count": 5,
   "metadata": {},
   "outputs": [
    {
     "name": "stdout",
     "output_type": "stream",
     "text": [
      "\n",
      "    Variable |        Obs        Mean    Std. Dev.       Min        Max\n",
      "-------------+---------------------------------------------------------\n",
      "    realrinc |      1,632    23772.92    29407.37        234     164382\n"
     ]
    }
   ],
   "source": [
    "sum realrinc"
   ]
  },
  {
   "cell_type": "markdown",
   "metadata": {},
   "source": [
    "Finally, we need a variable for the number of kids. There is one that shows exactly that, `childs`:"
   ]
  },
  {
   "cell_type": "code",
   "execution_count": 7,
   "metadata": {},
   "outputs": [
    {
     "name": "stdout",
     "output_type": "stream",
     "text": [
      "\n",
      "    number of |\n",
      "     children |      Freq.     Percent        Cum.\n",
      "--------------+-----------------------------------\n",
      "            0 |        797       27.88       27.88\n",
      "            1 |        459       16.05       43.93\n",
      "            2 |        733       25.64       69.57\n",
      "            3 |        467       16.33       85.90\n",
      "            4 |        213        7.45       93.35\n",
      "            5 |         92        3.22       96.57\n",
      "            6 |         51        1.78       98.36\n",
      "            7 |         25        0.87       99.23\n",
      "eight or more |         22        0.77      100.00\n",
      "--------------+-----------------------------------\n",
      "        Total |      2,859      100.00\n"
     ]
    }
   ],
   "source": [
    "tab childs"
   ]
  },
  {
   "cell_type": "markdown",
   "metadata": {},
   "source": [
    "In this guide we will only compare parents to non-parents, that is the zeros on the varibale to the rest. The largest effects are probably found when you get your first child. Now we create a dummy variable that has the value 0 for respondents without kids, and 1 for respondents with one or more kids. We call it `dum_kids`."
   ]
  },
  {
   "cell_type": "code",
   "execution_count": 6,
   "metadata": {},
   "outputs": [
    {
     "name": "stdout",
     "output_type": "stream",
     "text": [
      "\n",
      "(1603 differences between childs and dum_kids)\n",
      "\n",
      "\n",
      "  RECODE of |\n",
      "     childs |\n",
      " (number of |\n",
      "  children) |      Freq.     Percent        Cum.\n",
      "------------+-----------------------------------\n",
      "          0 |        797       27.88       27.88\n",
      "          1 |      2,062       72.12      100.00\n",
      "------------+-----------------------------------\n",
      "      Total |      2,859      100.00\n"
     ]
    }
   ],
   "source": [
    "recode childs (0=0) (1/8 = 1), generate(dum_kids)\n",
    "tab dum_kids"
   ]
  },
  {
   "cell_type": "markdown",
   "metadata": {},
   "source": [
    "We now have all the variables we need for the analysis. We can start by doing a correlation matrix that shows how the variables are related, and we also add the variable `age`, that shows the respondent's age. We will include it as a control variable later on."
   ]
  },
  {
   "cell_type": "code",
   "execution_count": 7,
   "metadata": {},
   "outputs": [
    {
     "name": "stdout",
     "output_type": "stream",
     "text": [
      "\n",
      "             |    woman realrinc dum_kids      age\n",
      "-------------+------------------------------------\n",
      "       woman |   1.0000 \n",
      "    realrinc |  -0.1628   1.0000 \n",
      "    dum_kids |   0.1047   0.0821   1.0000 \n",
      "         age |   0.0418   0.1332   0.3493   1.0000 \n"
     ]
    }
   ],
   "source": [
    "pwcorr woman realrinc dum_kids age"
   ]
  },
  {
   "cell_type": "markdown",
   "metadata": {},
   "source": [
    "The correlation between woman and income is negative, which means that women earn less. More woman = less income. Woman is also positively correlated with having kids. Having kids is in turn positively correlated with incomes - possibly owing to the fact that parents are older, and older people have higher incomes. Age has a positive relationship both with incomes and kids."
   ]
  },
  {
   "cell_type": "markdown",
   "metadata": {},
   "source": [
    "## Interaction analysis where variables have two values\n",
    "\n",
    "In the first analysis we will examine how being a parent is related to income, and then redo the analysis for women and men. But first we run a regular regression analysis, without interaction, where we just enter all variables like they are. The dependent variable is income."
   ]
  },
  {
   "cell_type": "code",
   "execution_count": 8,
   "metadata": {},
   "outputs": [
    {
     "name": "stdout",
     "output_type": "stream",
     "text": [
      "\n",
      "      Source |       SS           df       MS      Number of obs   =     1,627\n",
      "-------------+----------------------------------   F(3, 1623)      =     26.64\n",
      "       Model |  6.5114e+10         3  2.1705e+10   Prob > F        =    0.0000\n",
      "    Residual |  1.3225e+12     1,623   814854652   R-squared       =    0.0469\n",
      "-------------+----------------------------------   Adj R-squared   =    0.0452\n",
      "       Total |  1.3876e+12     1,626   853396969   Root MSE        =     28546\n",
      "\n",
      "------------------------------------------------------------------------------\n",
      "    realrinc |      Coef.   Std. Err.      t    P>|t|     [95% Conf. Interval]\n",
      "-------------+----------------------------------------------------------------\n",
      "       woman |  -9748.911   1421.057    -6.86   0.000    -12536.21   -6961.612\n",
      "    dum_kids |    3603.04   1636.325     2.20   0.028     393.5083    6812.571\n",
      "         age |   241.0386   52.86283     4.56   0.000      137.352    344.7252\n",
      "       _cons |   15430.49   2452.935     6.29   0.000     10619.24    20241.74\n",
      "------------------------------------------------------------------------------\n"
     ]
    }
   ],
   "source": [
    "reg realrinc woman dum_kids age "
   ]
  },
  {
   "cell_type": "markdown",
   "metadata": {},
   "source": [
    "Results are as expected. The coefficient for `woman` is -9748, which means that women in general have 9748 less income (per year) than men, even when controlling for age and having kids.\n",
    "\n",
    "The coefficient for age is 241, which means that for each extra year of age, the respondents in general have 241 dollars more in yearly income. Being a man does thus has the same effect on income as being $9748/241=40$ years older!\n",
    "\n",
    "Parents on average have 3603 dollars more in yearly income (when controlling for age and gender).\n",
    "\n",
    "The effect of having kids is here assumed to be the same for women and men, and we will now investigate whether that is a reasonable assumption. TO do so we need to add what is called an *interaction term*, a new variable that is the product of `woman` times `dum_kids`. Conveniently enough there are automatic functions for doing so in Stata, so we can let Stata create the variable within the analysis. We just add ## between the variables we want to interacti to get the interaction term automatically:"
   ]
  },
  {
   "cell_type": "code",
   "execution_count": 9,
   "metadata": {},
   "outputs": [
    {
     "name": "stdout",
     "output_type": "stream",
     "text": [
      "\n",
      "      Source |       SS           df       MS      Number of obs   =     1,627\n",
      "-------------+----------------------------------   F(4, 1622)      =     23.62\n",
      "       Model |  7.6368e+10         4  1.9092e+10   Prob > F        =    0.0000\n",
      "    Residual |  1.3113e+12     1,622   808418921   R-squared       =    0.0550\n",
      "-------------+----------------------------------   Adj R-squared   =    0.0527\n",
      "       Total |  1.3876e+12     1,626   853396969   Root MSE        =     28433\n",
      "\n",
      "--------------------------------------------------------------------------------\n",
      "      realrinc |      Coef.   Std. Err.      t    P>|t|     [95% Conf. Interval]\n",
      "---------------+----------------------------------------------------------------\n",
      "       1.woman |   -1673.06   2586.229    -0.65   0.518     -6745.76    3399.641\n",
      "    1.dum_kids |    9213.15   2217.508     4.15   0.000     4863.668    13562.63\n",
      "               |\n",
      "woman#dum_kids |\n",
      "          1 1  |  -11546.67   3094.776    -3.73   0.000    -17616.85   -5476.495\n",
      "               |\n",
      "           age |   228.0699   52.76827     4.32   0.000     124.5687     331.571\n",
      "         _cons |   12306.06   2582.758     4.76   0.000     7240.167    17371.95\n",
      "--------------------------------------------------------------------------------\n"
     ]
    }
   ],
   "source": [
    "reg realrinc woman##dum_kids age"
   ]
  },
  {
   "cell_type": "markdown",
   "metadata": {},
   "source": [
    "We now have a new variable in the table, `woman#dum_kids`. This is the interaction term. We can also note that the coefficients for `woman` and `dum_kids` changed a lot. They can now not be interpreted in the same way. __The coefficients now show the effect of the variable when the other variable in the interaction is zero.__ The variable `woman` shows the difference between women and men *that don't have kids.* The variable `dum_kids` shows the difference between parents and non-parents *among men*.\n",
    "\n",
    "We need to add the coefficients with the interaction term to calculate what the effects are for the other groups. **The interaction term shows how the COEFFICIENTS change when the other variable increases with one unit.**\n",
    "\n",
    "The \"effect\" of having kids is thus +9213.15 for men. To get the effect for women we need to add the `dum_kids` coefficient with the interaction term: $9213.15 - 11546.67 * 1 = -2333.52$. __This means that mothers have lower incomes than women who are not parents, while fathers have higher income than men who are not parents.__\n",
    "\n",
    "Can we trust this difference in effects? Yes, since the interaction term is significant. It is unlikely that a difference in effects of this size would arise simply because of randomness in the sampling. If the interaction term had been insignificant, it would have been better to trust the simpler model without interaction term, both because it is easier to interpret, and because simpler models all else equal are preferrable (if the more complicated models don't add any explanatory power).\n",
    "\n",
    "Conversely, women who don't have kids have 1673.06 lower incomes than men without kids. But how much lower are incomes for mothers compared to fathers? We get this effect by calculating $-1673.06 - 11546.67 * 1 = -13219.73$. The difference in incomes between men and women thus grows dramatically after having kids."
   ]
  },
  {
   "cell_type": "markdown",
   "metadata": {},
   "source": [
    "## Comparison with separate analyses\n",
    "\n",
    "Let's now try to run the analysis in the other way, separating the sample on men and women. We then only include the variables `dum_kids` and `age` - woman cannot be included, as there will only be one gender in each analysis. To do these analyses, we use <a href=\"ifstatements_en.html\" target=\"_new\">if qualifiers</a> to separate the genders. First we get the analysis for men, and then for women. Not that we now have much fewer observations in the analysis:"
   ]
  },
  {
   "cell_type": "code",
   "execution_count": 16,
   "metadata": {},
   "outputs": [
    {
     "name": "stdout",
     "output_type": "stream",
     "text": [
      "\n",
      "      Source |       SS           df       MS      Number of obs   =       795\n",
      "-------------+----------------------------------   F(2, 792)       =     15.24\n",
      "       Model |  3.2066e+10         2  1.6033e+10   Prob > F        =    0.0000\n",
      "    Residual |  8.3316e+11       792  1.0520e+09   R-squared       =    0.0371\n",
      "-------------+----------------------------------   Adj R-squared   =    0.0346\n",
      "       Total |  8.6522e+11       794  1.0897e+09   Root MSE        =     32434\n",
      "\n",
      "------------------------------------------------------------------------------\n",
      "    realrinc |      Coef.   Std. Err.      t    P>|t|     [95% Conf. Interval]\n",
      "-------------+----------------------------------------------------------------\n",
      "    dum_kids |   9325.868   2635.179     3.54   0.000     4153.107    14498.63\n",
      "         age |   218.5634   86.61915     2.52   0.012     48.53316    388.5937\n",
      "       _cons |   12652.01   3717.253     3.40   0.001     5355.177    19948.84\n",
      "------------------------------------------------------------------------------\n"
     ]
    }
   ],
   "source": [
    "reg realrinc dum_kids age if woman==0"
   ]
  },
  {
   "cell_type": "code",
   "execution_count": 17,
   "metadata": {},
   "outputs": [
    {
     "name": "stdout",
     "output_type": "stream",
     "text": [
      "\n",
      "      Source |       SS           df       MS      Number of obs   =       832\n",
      "-------------+----------------------------------   F(2, 829)       =      7.34\n",
      "       Model |  8.4705e+09         2  4.2353e+09   Prob > F        =    0.0007\n",
      "    Residual |  4.7807e+11       829   576687842   R-squared       =    0.0174\n",
      "-------------+----------------------------------   Adj R-squared   =    0.0150\n",
      "       Total |  4.8654e+11       831   585493068   Root MSE        =     24014\n",
      "\n",
      "------------------------------------------------------------------------------\n",
      "    realrinc |      Coef.   Std. Err.      t    P>|t|     [95% Conf. Interval]\n",
      "-------------+----------------------------------------------------------------\n",
      "    dum_kids |  -2404.498   1954.356    -1.23   0.219    -6240.567     1431.57\n",
      "         age |   236.9486   61.97975     3.82   0.000     115.2929    358.6043\n",
      "       _cons |   10289.93   2892.852     3.56   0.000     4611.756    15968.11\n",
      "------------------------------------------------------------------------------\n"
     ]
    }
   ],
   "source": [
    "reg realrinc dum_kids age if woman==1"
   ]
  },
  {
   "cell_type": "markdown",
   "metadata": {},
   "source": [
    "We can see that the coefficients for `dum_kids` are very similar to the ones we calculated in the previous analysis. For men the effect of having kids is +9326, while it was +9213 in the previous analysis. For women, the effect is -2404, and was -2334 in the previous analysis. The reason for why they are not exactly the same is because the effect of `age` here is allowed to vary - it is slightly higher for women than for men. When the control variable gets different coefficients, the other variables are affected as well. In the integrated analysis, `age` only had one coefficient (288, almost in the middle between 219 and 237).\n",
    "\n",
    "This way of doing the analysis might seem more intuitive, but we don't get a significance test for the difference in effect. And we also here model an interaction with age and gender. If we don't have a theory about that, it is better to assume that the effect is the same, which we do in the other, integrated analysis."
   ]
  },
  {
   "cell_type": "markdown",
   "metadata": {},
   "source": [
    "## Presenting results when the values \n",
    "\n",
    "To interpret interaction effects is difficult (to most people). They therefore need to be presented in a more intutive way than a regression table. And the table also does not show whether the effect of having kids is significant for women or not.\n",
    "\n",
    "In order to get the conditional effects, the coefficients for the variables over values of the other variables, we use the command `margins` together with options `dydx()` and `at()`. Dydx stands for delta Y and delta X. Delta is in mathematics used to signify change. We want to see how much Y (the dependent variable) changes when we increase X (the independnet variable). We use the `at` opion to tell Stata for which values of the interaction variable we want to see the marginal effect of the independent variable.\n",
    "\n",
    "To get the effect of having kids for women and men we write the following. The margins command has to follow a regression command, and I have here suppressed the output of the regression table with `quietly`:"
   ]
  },
  {
   "cell_type": "code",
   "execution_count": 21,
   "metadata": {},
   "outputs": [
    {
     "name": "stdout",
     "output_type": "stream",
     "text": [
      "\n",
      "\n",
      "\n",
      "Average marginal effects                        Number of obs     =      1,627\n",
      "Model VCE    : OLS\n",
      "\n",
      "Expression   : Linear prediction, predict()\n",
      "dy/dx w.r.t. : 1.dum_kids\n",
      "\n",
      "1._at        : woman           =           0\n",
      "\n",
      "2._at        : woman           =           1\n",
      "\n",
      "------------------------------------------------------------------------------\n",
      "             |            Delta-method\n",
      "             |      dy/dx   Std. Err.      t    P>|t|     [95% Conf. Interval]\n",
      "-------------+----------------------------------------------------------------\n",
      "0.dum_kids   |  (base outcome)\n",
      "-------------+----------------------------------------------------------------\n",
      "1.dum_kids   |\n",
      "         _at |\n",
      "          1  |    9213.15   2217.508     4.15   0.000     4863.668    13562.63\n",
      "          2  |  -2333.525   2277.746    -1.02   0.306    -6801.159     2134.11\n",
      "------------------------------------------------------------------------------\n",
      "Note: dy/dx for factor levels is the discrete change from the base level.\n"
     ]
    }
   ],
   "source": [
    "quietly reg realrinc woman##dum_kids age\n",
    "margins, dydx(dum_kids) at(woman=(0 1))"
   ]
  },
  {
   "cell_type": "markdown",
   "metadata": {},
   "source": [
    "Since we wrote `at(woman=(0 1))` we get two coefficients: one when woman is 0, and one when woman is 1. We can then see that the coefficient for `dum_kids` is 9213.15 when `woman` is 0, and -2333.525 when `woman` is 1. Having kids is positive for men, and negative for women. The coefficients are the same as what we calculated by hand above. The negative effect for women is however not significant, since the p-value is 0.306.\n",
    "\n",
    "We can illustrate this by just running the command `marginsplot` after the margins command. By adding the option `yline(0)` we also get a reference line, drawn at 0. If the confidence intervals do not cover the line, the variable is statistically significant."
   ]
  },
  {
   "cell_type": "code",
   "execution_count": 22,
   "metadata": {},
   "outputs": [
    {
     "name": "stdout",
     "output_type": "stream",
     "text": [
      "\n",
      "  Variables that uniquely identify margins: woman\n",
      "\n",
      ".     noi gr export /Users/xsunde/.stata_kernel_cache/graph$stata_kernel_graph_\n",
      "> counter.svg, width(600) replace\n"
     ]
    },
    {
     "data": {
      "application/pdf": "[encoded data removed]",
      "image/svg+xml": [
       "<?xml version=\"1.0\" encoding=\"UTF-8\" standalone=\"no\"?>\n",
       "<!-- This is a Stata 16.0 generated SVG file (http://www.stata.com) -->\n",
       "\n",
       "<svg version=\"1.1\" width=\"600px\" height=\"436px\" viewBox=\"0 0 3960 2880\" xmlns=\"http://www.w3.org/2000/svg\" xmlns:xlink=\"http://www.w3.org/1999/xlink\">\n",
       "\t<desc>Stata Graph - Graph</desc>\n",
       "\t<rect x=\"0\" y=\"0\" width=\"3960\" height=\"2880\" style=\"fill:#EAF2F3;stroke:none\"/>\n",
       "\t<rect x=\"0.00\" y=\"0.00\" width=\"3959.88\" height=\"2880.00\" style=\"fill:#EAF2F3\"/>\n",
       "\t<rect x=\"2.88\" y=\"2.88\" width=\"3954.12\" height=\"2874.24\" style=\"fill:none;stroke:#EAF2F3;stroke-width:5.76\"/>\n",
       "\t<rect x=\"390.80\" y=\"261.37\" width=\"3468.22\" height=\"2227.82\" style=\"fill:#FFFFFF\"/>\n",
       "\t<rect x=\"393.68\" y=\"264.25\" width=\"3462.46\" height=\"2222.06\" style=\"fill:none;stroke:#FFFFFF;stroke-width:5.76\"/>\n",
       "\t<line x1=\"390.80\" y1=\"2252.20\" x2=\"3859.02\" y2=\"2252.20\" style=\"stroke:#EAF2F3;stroke-width:8.64\"/>\n",
       "\t<line x1=\"390.80\" y1=\"1770.42\" x2=\"3859.02\" y2=\"1770.42\" style=\"stroke:#EAF2F3;stroke-width:8.64\"/>\n",
       "\t<line x1=\"390.80\" y1=\"1288.53\" x2=\"3859.02\" y2=\"1288.53\" style=\"stroke:#EAF2F3;stroke-width:8.64\"/>\n",
       "\t<line x1=\"390.80\" y1=\"806.63\" x2=\"3859.02\" y2=\"806.63\" style=\"stroke:#EAF2F3;stroke-width:8.64\"/>\n",
       "\t<line x1=\"390.80\" y1=\"324.73\" x2=\"3859.02\" y2=\"324.73\" style=\"stroke:#EAF2F3;stroke-width:8.64\"/>\n",
       "\t<line x1=\"390.80\" y1=\"1770.42\" x2=\"3859.02\" y2=\"1770.42\" style=\"stroke:#C10534;stroke-width:8.64\"/>\n",
       "\t<line x1=\"454.16\" y1=\"1301.64\" x2=\"454.16\" y2=\"463.21\" style=\"stroke:#1A476F;stroke-width:8.64\"/>\n",
       "\t<line x1=\"432.13\" y1=\"463.21\" x2=\"476.19\" y2=\"463.21\" stroke-linecap=\"round\" style=\"stroke:#1A476F;stroke-width:8.64\"/>\n",
       "\t<line x1=\"432.13\" y1=\"1301.64\" x2=\"476.19\" y2=\"1301.64\" stroke-linecap=\"round\" style=\"stroke:#1A476F;stroke-width:8.64\"/>\n",
       "\t<line x1=\"3795.66\" y1=\"2425.82\" x2=\"3795.66\" y2=\"1564.74\" style=\"stroke:#1A476F;stroke-width:8.64\"/>\n",
       "\t<line x1=\"3773.63\" y1=\"1564.74\" x2=\"3817.69\" y2=\"1564.74\" stroke-linecap=\"round\" style=\"stroke:#1A476F;stroke-width:8.64\"/>\n",
       "\t<line x1=\"3773.63\" y1=\"2425.82\" x2=\"3817.69\" y2=\"2425.82\" stroke-linecap=\"round\" style=\"stroke:#1A476F;stroke-width:8.64\"/>\n",
       "\t<path d=\" M454.04 882.49 L3795.66 1995.28\" stroke-linejoin=\"round\" style=\"fill:none;stroke:#1A476F;stroke-width:8.64\"/>\n",
       "\t<circle cx=\"454.04\" cy=\"882.49\" r=\"26.35\" style=\"fill:#1A476F\"/>\n",
       "\t<circle cx=\"454.04\" cy=\"882.49\" r=\"22.03\" style=\"fill:none;stroke:#1A476F;stroke-width:8.64\"/>\n",
       "\t<circle cx=\"3795.66\" cy=\"1995.28\" r=\"26.35\" style=\"fill:#1A476F\"/>\n",
       "\t<circle cx=\"3795.66\" cy=\"1995.28\" r=\"22.03\" style=\"fill:none;stroke:#1A476F;stroke-width:8.64\"/>\n",
       "\t<line x1=\"390.80\" y1=\"2489.19\" x2=\"390.80\" y2=\"261.37\" style=\"stroke:#000000;stroke-width:5.76\"/>\n",
       "\t<line x1=\"390.80\" y1=\"2252.20\" x2=\"350.83\" y2=\"2252.20\" style=\"stroke:#000000;stroke-width:5.76\"/>\n",
       "\t<text x=\"300.72\" y=\"2252.20\" style=\"font-family:'Helvetica';font-size:99.99px;fill:#000000\" transform=\"rotate(-90 300.72,2252.20)\" text-anchor=\"middle\">-5000</text>\n",
       "\t<line x1=\"390.80\" y1=\"1770.42\" x2=\"350.83\" y2=\"1770.42\" style=\"stroke:#000000;stroke-width:5.76\"/>\n",
       "\t<text x=\"300.72\" y=\"1770.42\" style=\"font-family:'Helvetica';font-size:99.99px;fill:#000000\" transform=\"rotate(-90 300.72,1770.42)\" text-anchor=\"middle\">0</text>\n",
       "\t<line x1=\"390.80\" y1=\"1288.53\" x2=\"350.83\" y2=\"1288.53\" style=\"stroke:#000000;stroke-width:5.76\"/>\n",
       "\t<text x=\"300.72\" y=\"1288.53\" style=\"font-family:'Helvetica';font-size:99.99px;fill:#000000\" transform=\"rotate(-90 300.72,1288.53)\" text-anchor=\"middle\">5000</text>\n",
       "\t<line x1=\"390.80\" y1=\"806.63\" x2=\"350.83\" y2=\"806.63\" style=\"stroke:#000000;stroke-width:5.76\"/>\n",
       "\t<text x=\"300.72\" y=\"806.63\" style=\"font-family:'Helvetica';font-size:99.99px;fill:#000000\" transform=\"rotate(-90 300.72,806.63)\" text-anchor=\"middle\">10000</text>\n",
       "\t<line x1=\"390.80\" y1=\"324.73\" x2=\"350.83\" y2=\"324.73\" style=\"stroke:#000000;stroke-width:5.76\"/>\n",
       "\t<text x=\"300.72\" y=\"324.73\" style=\"font-family:'Helvetica';font-size:99.99px;fill:#000000\" transform=\"rotate(-90 300.72,324.73)\" text-anchor=\"middle\">15000</text>\n",
       "\t<text x=\"190.71\" y=\"1375.28\" style=\"font-family:'Helvetica';font-size:99.99px;fill:#000000\" transform=\"rotate(-90 190.71,1375.28)\" text-anchor=\"middle\">Effects on Linear Prediction</text>\n",
       "\t<line x1=\"390.80\" y1=\"2489.19\" x2=\"3859.02\" y2=\"2489.19\" style=\"stroke:#000000;stroke-width:5.76\"/>\n",
       "\t<line x1=\"454.16\" y1=\"2489.19\" x2=\"454.16\" y2=\"2529.16\" style=\"stroke:#000000;stroke-width:5.76\"/>\n",
       "\t<text x=\"454.16\" y=\"2619.14\" style=\"font-family:'Helvetica';font-size:99.99px;fill:#000000\" text-anchor=\"middle\">0</text>\n",
       "\t<line x1=\"3795.66\" y1=\"2489.19\" x2=\"3795.66\" y2=\"2529.16\" style=\"stroke:#000000;stroke-width:5.76\"/>\n",
       "\t<text x=\"3795.66\" y=\"2619.14\" style=\"font-family:'Helvetica';font-size:99.99px;fill:#000000\" text-anchor=\"middle\">1</text>\n",
       "\t<text x=\"2124.91\" y=\"2729.16\" style=\"font-family:'Helvetica';font-size:99.99px;fill:#000000\" text-anchor=\"middle\">RECODE of sex (respondents sex)</text>\n",
       "\t<text x=\"1979.88\" y=\"206.19\" style=\"font-family:'Helvetica';font-size:125.98px;fill:#1E2D53\" text-anchor=\"middle\">Average Marginal Effects of 1.dum_kids with 95% CIs</text>\n",
       "</svg>\n"
      ],
      "text/html": [
       "                <iframe frameborder=\"0\" scrolling=\"no\" height=\"436\" width=\"600\"                srcdoc=\"<html><body>&lt;?xml version=&quot;1.0&quot; encoding=&quot;UTF-8&quot; standalone=&quot;no&quot;?&gt;\n",
       "&lt;!-- This is a Stata 16.0 generated SVG file (http://www.stata.com) --&gt;\n",
       "\n",
       "&lt;svg version=&quot;1.1&quot; width=&quot;600px&quot; height=&quot;436px&quot; viewBox=&quot;0 0 3960 2880&quot; xmlns=&quot;http://www.w3.org/2000/svg&quot; xmlns:xlink=&quot;http://www.w3.org/1999/xlink&quot;&gt;\n",
       "\t&lt;desc&gt;Stata Graph - Graph&lt;/desc&gt;\n",
       "\t&lt;rect x=&quot;0&quot; y=&quot;0&quot; width=&quot;3960&quot; height=&quot;2880&quot; style=&quot;fill:#EAF2F3;stroke:none&quot;/&gt;\n",
       "\t&lt;rect x=&quot;0.00&quot; y=&quot;0.00&quot; width=&quot;3959.88&quot; height=&quot;2880.00&quot; style=&quot;fill:#EAF2F3&quot;/&gt;\n",
       "\t&lt;rect x=&quot;2.88&quot; y=&quot;2.88&quot; width=&quot;3954.12&quot; height=&quot;2874.24&quot; style=&quot;fill:none;stroke:#EAF2F3;stroke-width:5.76&quot;/&gt;\n",
       "\t&lt;rect x=&quot;390.80&quot; y=&quot;261.37&quot; width=&quot;3468.22&quot; height=&quot;2227.82&quot; style=&quot;fill:#FFFFFF&quot;/&gt;\n",
       "\t&lt;rect x=&quot;393.68&quot; y=&quot;264.25&quot; width=&quot;3462.46&quot; height=&quot;2222.06&quot; style=&quot;fill:none;stroke:#FFFFFF;stroke-width:5.76&quot;/&gt;\n",
       "\t&lt;line x1=&quot;390.80&quot; y1=&quot;2252.20&quot; x2=&quot;3859.02&quot; y2=&quot;2252.20&quot; style=&quot;stroke:#EAF2F3;stroke-width:8.64&quot;/&gt;\n",
       "\t&lt;line x1=&quot;390.80&quot; y1=&quot;1770.42&quot; x2=&quot;3859.02&quot; y2=&quot;1770.42&quot; style=&quot;stroke:#EAF2F3;stroke-width:8.64&quot;/&gt;\n",
       "\t&lt;line x1=&quot;390.80&quot; y1=&quot;1288.53&quot; x2=&quot;3859.02&quot; y2=&quot;1288.53&quot; style=&quot;stroke:#EAF2F3;stroke-width:8.64&quot;/&gt;\n",
       "\t&lt;line x1=&quot;390.80&quot; y1=&quot;806.63&quot; x2=&quot;3859.02&quot; y2=&quot;806.63&quot; style=&quot;stroke:#EAF2F3;stroke-width:8.64&quot;/&gt;\n",
       "\t&lt;line x1=&quot;390.80&quot; y1=&quot;324.73&quot; x2=&quot;3859.02&quot; y2=&quot;324.73&quot; style=&quot;stroke:#EAF2F3;stroke-width:8.64&quot;/&gt;\n",
       "\t&lt;line x1=&quot;390.80&quot; y1=&quot;1770.42&quot; x2=&quot;3859.02&quot; y2=&quot;1770.42&quot; style=&quot;stroke:#C10534;stroke-width:8.64&quot;/&gt;\n",
       "\t&lt;line x1=&quot;454.16&quot; y1=&quot;1301.64&quot; x2=&quot;454.16&quot; y2=&quot;463.21&quot; style=&quot;stroke:#1A476F;stroke-width:8.64&quot;/&gt;\n",
       "\t&lt;line x1=&quot;432.13&quot; y1=&quot;463.21&quot; x2=&quot;476.19&quot; y2=&quot;463.21&quot; stroke-linecap=&quot;round&quot; style=&quot;stroke:#1A476F;stroke-width:8.64&quot;/&gt;\n",
       "\t&lt;line x1=&quot;432.13&quot; y1=&quot;1301.64&quot; x2=&quot;476.19&quot; y2=&quot;1301.64&quot; stroke-linecap=&quot;round&quot; style=&quot;stroke:#1A476F;stroke-width:8.64&quot;/&gt;\n",
       "\t&lt;line x1=&quot;3795.66&quot; y1=&quot;2425.82&quot; x2=&quot;3795.66&quot; y2=&quot;1564.74&quot; style=&quot;stroke:#1A476F;stroke-width:8.64&quot;/&gt;\n",
       "\t&lt;line x1=&quot;3773.63&quot; y1=&quot;1564.74&quot; x2=&quot;3817.69&quot; y2=&quot;1564.74&quot; stroke-linecap=&quot;round&quot; style=&quot;stroke:#1A476F;stroke-width:8.64&quot;/&gt;\n",
       "\t&lt;line x1=&quot;3773.63&quot; y1=&quot;2425.82&quot; x2=&quot;3817.69&quot; y2=&quot;2425.82&quot; stroke-linecap=&quot;round&quot; style=&quot;stroke:#1A476F;stroke-width:8.64&quot;/&gt;\n",
       "\t&lt;path d=&quot; M454.04 882.49 L3795.66 1995.28&quot; stroke-linejoin=&quot;round&quot; style=&quot;fill:none;stroke:#1A476F;stroke-width:8.64&quot;/&gt;\n",
       "\t&lt;circle cx=&quot;454.04&quot; cy=&quot;882.49&quot; r=&quot;26.35&quot; style=&quot;fill:#1A476F&quot;/&gt;\n",
       "\t&lt;circle cx=&quot;454.04&quot; cy=&quot;882.49&quot; r=&quot;22.03&quot; style=&quot;fill:none;stroke:#1A476F;stroke-width:8.64&quot;/&gt;\n",
       "\t&lt;circle cx=&quot;3795.66&quot; cy=&quot;1995.28&quot; r=&quot;26.35&quot; style=&quot;fill:#1A476F&quot;/&gt;\n",
       "\t&lt;circle cx=&quot;3795.66&quot; cy=&quot;1995.28&quot; r=&quot;22.03&quot; style=&quot;fill:none;stroke:#1A476F;stroke-width:8.64&quot;/&gt;\n",
       "\t&lt;line x1=&quot;390.80&quot; y1=&quot;2489.19&quot; x2=&quot;390.80&quot; y2=&quot;261.37&quot; style=&quot;stroke:#000000;stroke-width:5.76&quot;/&gt;\n",
       "\t&lt;line x1=&quot;390.80&quot; y1=&quot;2252.20&quot; x2=&quot;350.83&quot; y2=&quot;2252.20&quot; style=&quot;stroke:#000000;stroke-width:5.76&quot;/&gt;\n",
       "\t&lt;text x=&quot;300.72&quot; y=&quot;2252.20&quot; style=&quot;font-family:&#x27;Helvetica&#x27;;font-size:99.99px;fill:#000000&quot; transform=&quot;rotate(-90 300.72,2252.20)&quot; text-anchor=&quot;middle&quot;&gt;-5000&lt;/text&gt;\n",
       "\t&lt;line x1=&quot;390.80&quot; y1=&quot;1770.42&quot; x2=&quot;350.83&quot; y2=&quot;1770.42&quot; style=&quot;stroke:#000000;stroke-width:5.76&quot;/&gt;\n",
       "\t&lt;text x=&quot;300.72&quot; y=&quot;1770.42&quot; style=&quot;font-family:&#x27;Helvetica&#x27;;font-size:99.99px;fill:#000000&quot; transform=&quot;rotate(-90 300.72,1770.42)&quot; text-anchor=&quot;middle&quot;&gt;0&lt;/text&gt;\n",
       "\t&lt;line x1=&quot;390.80&quot; y1=&quot;1288.53&quot; x2=&quot;350.83&quot; y2=&quot;1288.53&quot; style=&quot;stroke:#000000;stroke-width:5.76&quot;/&gt;\n",
       "\t&lt;text x=&quot;300.72&quot; y=&quot;1288.53&quot; style=&quot;font-family:&#x27;Helvetica&#x27;;font-size:99.99px;fill:#000000&quot; transform=&quot;rotate(-90 300.72,1288.53)&quot; text-anchor=&quot;middle&quot;&gt;5000&lt;/text&gt;\n",
       "\t&lt;line x1=&quot;390.80&quot; y1=&quot;806.63&quot; x2=&quot;350.83&quot; y2=&quot;806.63&quot; style=&quot;stroke:#000000;stroke-width:5.76&quot;/&gt;\n",
       "\t&lt;text x=&quot;300.72&quot; y=&quot;806.63&quot; style=&quot;font-family:&#x27;Helvetica&#x27;;font-size:99.99px;fill:#000000&quot; transform=&quot;rotate(-90 300.72,806.63)&quot; text-anchor=&quot;middle&quot;&gt;10000&lt;/text&gt;\n",
       "\t&lt;line x1=&quot;390.80&quot; y1=&quot;324.73&quot; x2=&quot;350.83&quot; y2=&quot;324.73&quot; style=&quot;stroke:#000000;stroke-width:5.76&quot;/&gt;\n",
       "\t&lt;text x=&quot;300.72&quot; y=&quot;324.73&quot; style=&quot;font-family:&#x27;Helvetica&#x27;;font-size:99.99px;fill:#000000&quot; transform=&quot;rotate(-90 300.72,324.73)&quot; text-anchor=&quot;middle&quot;&gt;15000&lt;/text&gt;\n",
       "\t&lt;text x=&quot;190.71&quot; y=&quot;1375.28&quot; style=&quot;font-family:&#x27;Helvetica&#x27;;font-size:99.99px;fill:#000000&quot; transform=&quot;rotate(-90 190.71,1375.28)&quot; text-anchor=&quot;middle&quot;&gt;Effects on Linear Prediction&lt;/text&gt;\n",
       "\t&lt;line x1=&quot;390.80&quot; y1=&quot;2489.19&quot; x2=&quot;3859.02&quot; y2=&quot;2489.19&quot; style=&quot;stroke:#000000;stroke-width:5.76&quot;/&gt;\n",
       "\t&lt;line x1=&quot;454.16&quot; y1=&quot;2489.19&quot; x2=&quot;454.16&quot; y2=&quot;2529.16&quot; style=&quot;stroke:#000000;stroke-width:5.76&quot;/&gt;\n",
       "\t&lt;text x=&quot;454.16&quot; y=&quot;2619.14&quot; style=&quot;font-family:&#x27;Helvetica&#x27;;font-size:99.99px;fill:#000000&quot; text-anchor=&quot;middle&quot;&gt;0&lt;/text&gt;\n",
       "\t&lt;line x1=&quot;3795.66&quot; y1=&quot;2489.19&quot; x2=&quot;3795.66&quot; y2=&quot;2529.16&quot; style=&quot;stroke:#000000;stroke-width:5.76&quot;/&gt;\n",
       "\t&lt;text x=&quot;3795.66&quot; y=&quot;2619.14&quot; style=&quot;font-family:&#x27;Helvetica&#x27;;font-size:99.99px;fill:#000000&quot; text-anchor=&quot;middle&quot;&gt;1&lt;/text&gt;\n",
       "\t&lt;text x=&quot;2124.91&quot; y=&quot;2729.16&quot; style=&quot;font-family:&#x27;Helvetica&#x27;;font-size:99.99px;fill:#000000&quot; text-anchor=&quot;middle&quot;&gt;RECODE of sex (respondents sex)&lt;/text&gt;\n",
       "\t&lt;text x=&quot;1979.88&quot; y=&quot;206.19&quot; style=&quot;font-family:&#x27;Helvetica&#x27;;font-size:125.98px;fill:#1E2D53&quot; text-anchor=&quot;middle&quot;&gt;Average Marginal Effects of 1.dum_kids with 95% CIs&lt;/text&gt;\n",
       "&lt;/svg&gt;\n",
       "</body></html>\"></iframe>\n"
      ],
      "text/plain": [
       "This front-end cannot display the desired image type."
      ]
     },
     "metadata": {
      "image/svg+xml": {
       "height": 436,
       "width": 600
      },
      "text/html": {
       "height": 436,
       "width": 600
      }
     },
     "output_type": "display_data"
    },
    {
     "name": "stdout",
     "output_type": "stream",
     "text": [
      "\n",
      ".     global stata_kernel_graph_counter = $stata_kernel_graph_counter + 1\n",
      ". }            \n"
     ]
    }
   ],
   "source": [
    "marginsplot, yline(0)"
   ]
  },
  {
   "cell_type": "markdown",
   "metadata": {},
   "source": [
    "This is just a graphical representation of what we saw earlier. This is not predicted values; the Y-axis shows the EFFECT of having kids. The confidence intervals do not cover 0 when woman = 0, but when woman = 1, the confidence intervals do cover 0. This means (as we saw earlier) that only the positive effect for men is significant - the negative effect for women is insignificant.\n",
    "\n",
    "In the same way, we can pull out the coefficients for `woman`, among the different values on `dum_kids`."
   ]
  },
  {
   "cell_type": "code",
   "execution_count": 23,
   "metadata": {},
   "outputs": [
    {
     "name": "stdout",
     "output_type": "stream",
     "text": [
      "\n",
      "Average marginal effects                        Number of obs     =      1,627\n",
      "Model VCE    : OLS\n",
      "\n",
      "Expression   : Linear prediction, predict()\n",
      "dy/dx w.r.t. : 1.woman\n",
      "\n",
      "1._at        : dum_kids        =           0\n",
      "\n",
      "2._at        : dum_kids        =           1\n",
      "\n",
      "------------------------------------------------------------------------------\n",
      "             |            Delta-method\n",
      "             |      dy/dx   Std. Err.      t    P>|t|     [95% Conf. Interval]\n",
      "-------------+----------------------------------------------------------------\n",
      "0.woman      |  (base outcome)\n",
      "-------------+----------------------------------------------------------------\n",
      "1.woman      |\n",
      "         _at |\n",
      "          1  |   -1673.06   2586.229    -0.65   0.518     -6745.76    3399.641\n",
      "          2  |  -13219.73   1693.765    -7.80   0.000    -16541.93   -9897.537\n",
      "------------------------------------------------------------------------------\n",
      "Note: dy/dx for factor levels is the discrete change from the base level.\n"
     ]
    }
   ],
   "source": [
    "margins, dydx(woman) at(dum_kids=(0 1))"
   ]
  },
  {
   "cell_type": "markdown",
   "metadata": {},
   "source": [
    "Women earn less than men, regardless if they have kids or not. But among those that do not have kids, the difference is insignificant. We only find a significant difference between men and women who have kids. We can also see this in the graph below:"
   ]
  },
  {
   "cell_type": "code",
   "execution_count": 24,
   "metadata": {},
   "outputs": [
    {
     "name": "stdout",
     "output_type": "stream",
     "text": [
      "\n",
      "  Variables that uniquely identify margins: dum_kids\n",
      "\n",
      ".     noi gr export /Users/xsunde/.stata_kernel_cache/graph$stata_kernel_graph_\n",
      "> counter.svg, width(600) replace\n"
     ]
    },
    {
     "data": {
      "application/pdf": "[encoded data removed]",
      "image/svg+xml": [
       "<?xml version=\"1.0\" encoding=\"UTF-8\" standalone=\"no\"?>\n",
       "<!-- This is a Stata 16.0 generated SVG file (http://www.stata.com) -->\n",
       "\n",
       "<svg version=\"1.1\" width=\"600px\" height=\"436px\" viewBox=\"0 0 3960 2880\" xmlns=\"http://www.w3.org/2000/svg\" xmlns:xlink=\"http://www.w3.org/1999/xlink\">\n",
       "\t<desc>Stata Graph - Graph</desc>\n",
       "\t<rect x=\"0\" y=\"0\" width=\"3960\" height=\"2880\" style=\"fill:#EAF2F3;stroke:none\"/>\n",
       "\t<rect x=\"0.00\" y=\"0.00\" width=\"3959.88\" height=\"2880.00\" style=\"fill:#EAF2F3\"/>\n",
       "\t<rect x=\"2.88\" y=\"2.88\" width=\"3954.12\" height=\"2874.24\" style=\"fill:none;stroke:#EAF2F3;stroke-width:5.76\"/>\n",
       "\t<rect x=\"390.80\" y=\"261.37\" width=\"3468.22\" height=\"2227.82\" style=\"fill:#FFFFFF\"/>\n",
       "\t<rect x=\"393.68\" y=\"264.25\" width=\"3462.46\" height=\"2222.06\" style=\"fill:none;stroke:#FFFFFF;stroke-width:5.76\"/>\n",
       "\t<line x1=\"390.80\" y1=\"2275.46\" x2=\"3859.02\" y2=\"2275.46\" style=\"stroke:#EAF2F3;stroke-width:8.64\"/>\n",
       "\t<line x1=\"390.80\" y1=\"1787.75\" x2=\"3859.02\" y2=\"1787.75\" style=\"stroke:#EAF2F3;stroke-width:8.64\"/>\n",
       "\t<line x1=\"390.80\" y1=\"1300.03\" x2=\"3859.02\" y2=\"1300.03\" style=\"stroke:#EAF2F3;stroke-width:8.64\"/>\n",
       "\t<line x1=\"390.80\" y1=\"812.44\" x2=\"3859.02\" y2=\"812.44\" style=\"stroke:#EAF2F3;stroke-width:8.64\"/>\n",
       "\t<line x1=\"390.80\" y1=\"324.73\" x2=\"3859.02\" y2=\"324.73\" style=\"stroke:#EAF2F3;stroke-width:8.64\"/>\n",
       "\t<line x1=\"390.80\" y1=\"812.44\" x2=\"3859.02\" y2=\"812.44\" style=\"stroke:#C10534;stroke-width:8.64\"/>\n",
       "\t<line x1=\"454.16\" y1=\"1470.32\" x2=\"454.16\" y2=\"480.78\" style=\"stroke:#1A476F;stroke-width:8.64\"/>\n",
       "\t<line x1=\"432.13\" y1=\"480.78\" x2=\"476.19\" y2=\"480.78\" stroke-linecap=\"round\" style=\"stroke:#1A476F;stroke-width:8.64\"/>\n",
       "\t<line x1=\"432.13\" y1=\"1470.32\" x2=\"476.19\" y2=\"1470.32\" stroke-linecap=\"round\" style=\"stroke:#1A476F;stroke-width:8.64\"/>\n",
       "\t<line x1=\"3795.66\" y1=\"2425.82\" x2=\"3795.66\" y2=\"1777.72\" style=\"stroke:#1A476F;stroke-width:8.64\"/>\n",
       "\t<line x1=\"3773.63\" y1=\"1777.72\" x2=\"3817.69\" y2=\"1777.72\" stroke-linecap=\"round\" style=\"stroke:#1A476F;stroke-width:8.64\"/>\n",
       "\t<line x1=\"3773.63\" y1=\"2425.82\" x2=\"3817.69\" y2=\"2425.82\" stroke-linecap=\"round\" style=\"stroke:#1A476F;stroke-width:8.64\"/>\n",
       "\t<path d=\" M454.04 975.68 L3795.66 2101.84\" stroke-linejoin=\"round\" style=\"fill:none;stroke:#1A476F;stroke-width:8.64\"/>\n",
       "\t<circle cx=\"454.04\" cy=\"975.68\" r=\"26.35\" style=\"fill:#1A476F\"/>\n",
       "\t<circle cx=\"454.04\" cy=\"975.68\" r=\"22.03\" style=\"fill:none;stroke:#1A476F;stroke-width:8.64\"/>\n",
       "\t<circle cx=\"3795.66\" cy=\"2101.84\" r=\"26.35\" style=\"fill:#1A476F\"/>\n",
       "\t<circle cx=\"3795.66\" cy=\"2101.84\" r=\"22.03\" style=\"fill:none;stroke:#1A476F;stroke-width:8.64\"/>\n",
       "\t<line x1=\"390.80\" y1=\"2489.19\" x2=\"390.80\" y2=\"261.37\" style=\"stroke:#000000;stroke-width:5.76\"/>\n",
       "\t<line x1=\"390.80\" y1=\"2275.46\" x2=\"350.83\" y2=\"2275.46\" style=\"stroke:#000000;stroke-width:5.76\"/>\n",
       "\t<text x=\"300.72\" y=\"2275.46\" style=\"font-family:'Helvetica';font-size:99.99px;fill:#000000\" transform=\"rotate(-90 300.72,2275.46)\" text-anchor=\"middle\">-15000</text>\n",
       "\t<line x1=\"390.80\" y1=\"1787.75\" x2=\"350.83\" y2=\"1787.75\" style=\"stroke:#000000;stroke-width:5.76\"/>\n",
       "\t<text x=\"300.72\" y=\"1787.75\" style=\"font-family:'Helvetica';font-size:99.99px;fill:#000000\" transform=\"rotate(-90 300.72,1787.75)\" text-anchor=\"middle\">-10000</text>\n",
       "\t<line x1=\"390.80\" y1=\"1300.03\" x2=\"350.83\" y2=\"1300.03\" style=\"stroke:#000000;stroke-width:5.76\"/>\n",
       "\t<text x=\"300.72\" y=\"1300.03\" style=\"font-family:'Helvetica';font-size:99.99px;fill:#000000\" transform=\"rotate(-90 300.72,1300.03)\" text-anchor=\"middle\">-5000</text>\n",
       "\t<line x1=\"390.80\" y1=\"812.44\" x2=\"350.83\" y2=\"812.44\" style=\"stroke:#000000;stroke-width:5.76\"/>\n",
       "\t<text x=\"300.72\" y=\"812.44\" style=\"font-family:'Helvetica';font-size:99.99px;fill:#000000\" transform=\"rotate(-90 300.72,812.44)\" text-anchor=\"middle\">0</text>\n",
       "\t<line x1=\"390.80\" y1=\"324.73\" x2=\"350.83\" y2=\"324.73\" style=\"stroke:#000000;stroke-width:5.76\"/>\n",
       "\t<text x=\"300.72\" y=\"324.73\" style=\"font-family:'Helvetica';font-size:99.99px;fill:#000000\" transform=\"rotate(-90 300.72,324.73)\" text-anchor=\"middle\">5000</text>\n",
       "\t<text x=\"190.71\" y=\"1375.28\" style=\"font-family:'Helvetica';font-size:99.99px;fill:#000000\" transform=\"rotate(-90 190.71,1375.28)\" text-anchor=\"middle\">Effects on Linear Prediction</text>\n",
       "\t<line x1=\"390.80\" y1=\"2489.19\" x2=\"3859.02\" y2=\"2489.19\" style=\"stroke:#000000;stroke-width:5.76\"/>\n",
       "\t<line x1=\"454.16\" y1=\"2489.19\" x2=\"454.16\" y2=\"2529.16\" style=\"stroke:#000000;stroke-width:5.76\"/>\n",
       "\t<text x=\"454.16\" y=\"2619.14\" style=\"font-family:'Helvetica';font-size:99.99px;fill:#000000\" text-anchor=\"middle\">0</text>\n",
       "\t<line x1=\"3795.66\" y1=\"2489.19\" x2=\"3795.66\" y2=\"2529.16\" style=\"stroke:#000000;stroke-width:5.76\"/>\n",
       "\t<text x=\"3795.66\" y=\"2619.14\" style=\"font-family:'Helvetica';font-size:99.99px;fill:#000000\" text-anchor=\"middle\">1</text>\n",
       "\t<text x=\"2124.91\" y=\"2729.16\" style=\"font-family:'Helvetica';font-size:99.99px;fill:#000000\" text-anchor=\"middle\">RECODE of childs (number of children)</text>\n",
       "\t<text x=\"1979.88\" y=\"206.19\" style=\"font-family:'Helvetica';font-size:125.98px;fill:#1E2D53\" text-anchor=\"middle\">Average Marginal Effects of 1.woman with 95% CIs</text>\n",
       "</svg>\n"
      ],
      "text/html": [
       "                <iframe frameborder=\"0\" scrolling=\"no\" height=\"436\" width=\"600\"                srcdoc=\"<html><body>&lt;?xml version=&quot;1.0&quot; encoding=&quot;UTF-8&quot; standalone=&quot;no&quot;?&gt;\n",
       "&lt;!-- This is a Stata 16.0 generated SVG file (http://www.stata.com) --&gt;\n",
       "\n",
       "&lt;svg version=&quot;1.1&quot; width=&quot;600px&quot; height=&quot;436px&quot; viewBox=&quot;0 0 3960 2880&quot; xmlns=&quot;http://www.w3.org/2000/svg&quot; xmlns:xlink=&quot;http://www.w3.org/1999/xlink&quot;&gt;\n",
       "\t&lt;desc&gt;Stata Graph - Graph&lt;/desc&gt;\n",
       "\t&lt;rect x=&quot;0&quot; y=&quot;0&quot; width=&quot;3960&quot; height=&quot;2880&quot; style=&quot;fill:#EAF2F3;stroke:none&quot;/&gt;\n",
       "\t&lt;rect x=&quot;0.00&quot; y=&quot;0.00&quot; width=&quot;3959.88&quot; height=&quot;2880.00&quot; style=&quot;fill:#EAF2F3&quot;/&gt;\n",
       "\t&lt;rect x=&quot;2.88&quot; y=&quot;2.88&quot; width=&quot;3954.12&quot; height=&quot;2874.24&quot; style=&quot;fill:none;stroke:#EAF2F3;stroke-width:5.76&quot;/&gt;\n",
       "\t&lt;rect x=&quot;390.80&quot; y=&quot;261.37&quot; width=&quot;3468.22&quot; height=&quot;2227.82&quot; style=&quot;fill:#FFFFFF&quot;/&gt;\n",
       "\t&lt;rect x=&quot;393.68&quot; y=&quot;264.25&quot; width=&quot;3462.46&quot; height=&quot;2222.06&quot; style=&quot;fill:none;stroke:#FFFFFF;stroke-width:5.76&quot;/&gt;\n",
       "\t&lt;line x1=&quot;390.80&quot; y1=&quot;2275.46&quot; x2=&quot;3859.02&quot; y2=&quot;2275.46&quot; style=&quot;stroke:#EAF2F3;stroke-width:8.64&quot;/&gt;\n",
       "\t&lt;line x1=&quot;390.80&quot; y1=&quot;1787.75&quot; x2=&quot;3859.02&quot; y2=&quot;1787.75&quot; style=&quot;stroke:#EAF2F3;stroke-width:8.64&quot;/&gt;\n",
       "\t&lt;line x1=&quot;390.80&quot; y1=&quot;1300.03&quot; x2=&quot;3859.02&quot; y2=&quot;1300.03&quot; style=&quot;stroke:#EAF2F3;stroke-width:8.64&quot;/&gt;\n",
       "\t&lt;line x1=&quot;390.80&quot; y1=&quot;812.44&quot; x2=&quot;3859.02&quot; y2=&quot;812.44&quot; style=&quot;stroke:#EAF2F3;stroke-width:8.64&quot;/&gt;\n",
       "\t&lt;line x1=&quot;390.80&quot; y1=&quot;324.73&quot; x2=&quot;3859.02&quot; y2=&quot;324.73&quot; style=&quot;stroke:#EAF2F3;stroke-width:8.64&quot;/&gt;\n",
       "\t&lt;line x1=&quot;390.80&quot; y1=&quot;812.44&quot; x2=&quot;3859.02&quot; y2=&quot;812.44&quot; style=&quot;stroke:#C10534;stroke-width:8.64&quot;/&gt;\n",
       "\t&lt;line x1=&quot;454.16&quot; y1=&quot;1470.32&quot; x2=&quot;454.16&quot; y2=&quot;480.78&quot; style=&quot;stroke:#1A476F;stroke-width:8.64&quot;/&gt;\n",
       "\t&lt;line x1=&quot;432.13&quot; y1=&quot;480.78&quot; x2=&quot;476.19&quot; y2=&quot;480.78&quot; stroke-linecap=&quot;round&quot; style=&quot;stroke:#1A476F;stroke-width:8.64&quot;/&gt;\n",
       "\t&lt;line x1=&quot;432.13&quot; y1=&quot;1470.32&quot; x2=&quot;476.19&quot; y2=&quot;1470.32&quot; stroke-linecap=&quot;round&quot; style=&quot;stroke:#1A476F;stroke-width:8.64&quot;/&gt;\n",
       "\t&lt;line x1=&quot;3795.66&quot; y1=&quot;2425.82&quot; x2=&quot;3795.66&quot; y2=&quot;1777.72&quot; style=&quot;stroke:#1A476F;stroke-width:8.64&quot;/&gt;\n",
       "\t&lt;line x1=&quot;3773.63&quot; y1=&quot;1777.72&quot; x2=&quot;3817.69&quot; y2=&quot;1777.72&quot; stroke-linecap=&quot;round&quot; style=&quot;stroke:#1A476F;stroke-width:8.64&quot;/&gt;\n",
       "\t&lt;line x1=&quot;3773.63&quot; y1=&quot;2425.82&quot; x2=&quot;3817.69&quot; y2=&quot;2425.82&quot; stroke-linecap=&quot;round&quot; style=&quot;stroke:#1A476F;stroke-width:8.64&quot;/&gt;\n",
       "\t&lt;path d=&quot; M454.04 975.68 L3795.66 2101.84&quot; stroke-linejoin=&quot;round&quot; style=&quot;fill:none;stroke:#1A476F;stroke-width:8.64&quot;/&gt;\n",
       "\t&lt;circle cx=&quot;454.04&quot; cy=&quot;975.68&quot; r=&quot;26.35&quot; style=&quot;fill:#1A476F&quot;/&gt;\n",
       "\t&lt;circle cx=&quot;454.04&quot; cy=&quot;975.68&quot; r=&quot;22.03&quot; style=&quot;fill:none;stroke:#1A476F;stroke-width:8.64&quot;/&gt;\n",
       "\t&lt;circle cx=&quot;3795.66&quot; cy=&quot;2101.84&quot; r=&quot;26.35&quot; style=&quot;fill:#1A476F&quot;/&gt;\n",
       "\t&lt;circle cx=&quot;3795.66&quot; cy=&quot;2101.84&quot; r=&quot;22.03&quot; style=&quot;fill:none;stroke:#1A476F;stroke-width:8.64&quot;/&gt;\n",
       "\t&lt;line x1=&quot;390.80&quot; y1=&quot;2489.19&quot; x2=&quot;390.80&quot; y2=&quot;261.37&quot; style=&quot;stroke:#000000;stroke-width:5.76&quot;/&gt;\n",
       "\t&lt;line x1=&quot;390.80&quot; y1=&quot;2275.46&quot; x2=&quot;350.83&quot; y2=&quot;2275.46&quot; style=&quot;stroke:#000000;stroke-width:5.76&quot;/&gt;\n",
       "\t&lt;text x=&quot;300.72&quot; y=&quot;2275.46&quot; style=&quot;font-family:&#x27;Helvetica&#x27;;font-size:99.99px;fill:#000000&quot; transform=&quot;rotate(-90 300.72,2275.46)&quot; text-anchor=&quot;middle&quot;&gt;-15000&lt;/text&gt;\n",
       "\t&lt;line x1=&quot;390.80&quot; y1=&quot;1787.75&quot; x2=&quot;350.83&quot; y2=&quot;1787.75&quot; style=&quot;stroke:#000000;stroke-width:5.76&quot;/&gt;\n",
       "\t&lt;text x=&quot;300.72&quot; y=&quot;1787.75&quot; style=&quot;font-family:&#x27;Helvetica&#x27;;font-size:99.99px;fill:#000000&quot; transform=&quot;rotate(-90 300.72,1787.75)&quot; text-anchor=&quot;middle&quot;&gt;-10000&lt;/text&gt;\n",
       "\t&lt;line x1=&quot;390.80&quot; y1=&quot;1300.03&quot; x2=&quot;350.83&quot; y2=&quot;1300.03&quot; style=&quot;stroke:#000000;stroke-width:5.76&quot;/&gt;\n",
       "\t&lt;text x=&quot;300.72&quot; y=&quot;1300.03&quot; style=&quot;font-family:&#x27;Helvetica&#x27;;font-size:99.99px;fill:#000000&quot; transform=&quot;rotate(-90 300.72,1300.03)&quot; text-anchor=&quot;middle&quot;&gt;-5000&lt;/text&gt;\n",
       "\t&lt;line x1=&quot;390.80&quot; y1=&quot;812.44&quot; x2=&quot;350.83&quot; y2=&quot;812.44&quot; style=&quot;stroke:#000000;stroke-width:5.76&quot;/&gt;\n",
       "\t&lt;text x=&quot;300.72&quot; y=&quot;812.44&quot; style=&quot;font-family:&#x27;Helvetica&#x27;;font-size:99.99px;fill:#000000&quot; transform=&quot;rotate(-90 300.72,812.44)&quot; text-anchor=&quot;middle&quot;&gt;0&lt;/text&gt;\n",
       "\t&lt;line x1=&quot;390.80&quot; y1=&quot;324.73&quot; x2=&quot;350.83&quot; y2=&quot;324.73&quot; style=&quot;stroke:#000000;stroke-width:5.76&quot;/&gt;\n",
       "\t&lt;text x=&quot;300.72&quot; y=&quot;324.73&quot; style=&quot;font-family:&#x27;Helvetica&#x27;;font-size:99.99px;fill:#000000&quot; transform=&quot;rotate(-90 300.72,324.73)&quot; text-anchor=&quot;middle&quot;&gt;5000&lt;/text&gt;\n",
       "\t&lt;text x=&quot;190.71&quot; y=&quot;1375.28&quot; style=&quot;font-family:&#x27;Helvetica&#x27;;font-size:99.99px;fill:#000000&quot; transform=&quot;rotate(-90 190.71,1375.28)&quot; text-anchor=&quot;middle&quot;&gt;Effects on Linear Prediction&lt;/text&gt;\n",
       "\t&lt;line x1=&quot;390.80&quot; y1=&quot;2489.19&quot; x2=&quot;3859.02&quot; y2=&quot;2489.19&quot; style=&quot;stroke:#000000;stroke-width:5.76&quot;/&gt;\n",
       "\t&lt;line x1=&quot;454.16&quot; y1=&quot;2489.19&quot; x2=&quot;454.16&quot; y2=&quot;2529.16&quot; style=&quot;stroke:#000000;stroke-width:5.76&quot;/&gt;\n",
       "\t&lt;text x=&quot;454.16&quot; y=&quot;2619.14&quot; style=&quot;font-family:&#x27;Helvetica&#x27;;font-size:99.99px;fill:#000000&quot; text-anchor=&quot;middle&quot;&gt;0&lt;/text&gt;\n",
       "\t&lt;line x1=&quot;3795.66&quot; y1=&quot;2489.19&quot; x2=&quot;3795.66&quot; y2=&quot;2529.16&quot; style=&quot;stroke:#000000;stroke-width:5.76&quot;/&gt;\n",
       "\t&lt;text x=&quot;3795.66&quot; y=&quot;2619.14&quot; style=&quot;font-family:&#x27;Helvetica&#x27;;font-size:99.99px;fill:#000000&quot; text-anchor=&quot;middle&quot;&gt;1&lt;/text&gt;\n",
       "\t&lt;text x=&quot;2124.91&quot; y=&quot;2729.16&quot; style=&quot;font-family:&#x27;Helvetica&#x27;;font-size:99.99px;fill:#000000&quot; text-anchor=&quot;middle&quot;&gt;RECODE of childs (number of children)&lt;/text&gt;\n",
       "\t&lt;text x=&quot;1979.88&quot; y=&quot;206.19&quot; style=&quot;font-family:&#x27;Helvetica&#x27;;font-size:125.98px;fill:#1E2D53&quot; text-anchor=&quot;middle&quot;&gt;Average Marginal Effects of 1.woman with 95% CIs&lt;/text&gt;\n",
       "&lt;/svg&gt;\n",
       "</body></html>\"></iframe>\n"
      ],
      "text/plain": [
       "This front-end cannot display the desired image type."
      ]
     },
     "metadata": {
      "image/svg+xml": {
       "height": 436,
       "width": 600
      },
      "text/html": {
       "height": 436,
       "width": 600
      }
     },
     "output_type": "display_data"
    },
    {
     "name": "stdout",
     "output_type": "stream",
     "text": [
      "\n",
      ".     global stata_kernel_graph_counter = $stata_kernel_graph_counter + 1\n",
      ". }            \n"
     ]
    }
   ],
   "source": [
    "marginsplot, yline(0)"
   ]
  },
  {
   "cell_type": "markdown",
   "metadata": {},
   "source": [
    "Finally, and most pedagogically, we can illustrate the whole relationship by calculating predicted values on the dependent variable, from the coefficients in the tables above. We do this with the `margins` command - this time without the `dydx` option."
   ]
  },
  {
   "cell_type": "code",
   "execution_count": 25,
   "metadata": {},
   "outputs": [
    {
     "name": "stdout",
     "output_type": "stream",
     "text": [
      "\n",
      "Predictive margins                              Number of obs     =      1,627\n",
      "Model VCE    : OLS\n",
      "\n",
      "Expression   : Linear prediction, predict()\n",
      "\n",
      "1._at        : woman           =           0\n",
      "               dum_kids        =           0\n",
      "\n",
      "2._at        : woman           =           0\n",
      "               dum_kids        =           1\n",
      "\n",
      "3._at        : woman           =           1\n",
      "               dum_kids        =           0\n",
      "\n",
      "4._at        : woman           =           1\n",
      "               dum_kids        =           1\n",
      "\n",
      "------------------------------------------------------------------------------\n",
      "             |            Delta-method\n",
      "             |     Margin   Std. Err.      t    P>|t|     [95% Conf. Interval]\n",
      "-------------+----------------------------------------------------------------\n",
      "         _at |\n",
      "          1  |    22425.8   1777.756    12.61   0.000     18938.86    25912.74\n",
      "          2  |   31638.95   1258.823    25.13   0.000     29169.86    34108.04\n",
      "          3  |   20752.74   1944.967    10.67   0.000     16937.83    24567.65\n",
      "          4  |   18419.22   1154.571    15.95   0.000     16154.61    20683.82\n",
      "------------------------------------------------------------------------------\n"
     ]
    }
   ],
   "source": [
    "margins, at(dum_kids=(0 1) woman=(0 1))"
   ]
  },
  {
   "cell_type": "markdown",
   "metadata": {},
   "source": [
    "This table does not show coefficients, but rather guesses on the dependent variable. The coefficients we saw earlier represents the differences between the values we see in this table. For instance, the difference between the third row (woman without kids) and the fourth row (woman with kids) is $18419.22-20752.74=-2333.52$ - the coefficent for having kids, as a woman.\n",
    "\n",
    "We also present these values with `marginsplot` (this time without a reference line)."
   ]
  },
  {
   "cell_type": "code",
   "execution_count": 28,
   "metadata": {},
   "outputs": [
    {
     "name": "stdout",
     "output_type": "stream",
     "text": [
      "\n",
      "  Variables that uniquely identify margins: dum_kids woman\n",
      "\n",
      ".     noi gr export /Users/xsunde/.stata_kernel_cache/graph$stata_kernel_graph_\n",
      "> counter.svg, width(600) replace\n"
     ]
    },
    {
     "data": {
      "application/pdf": "[encoded data removed]",
      "image/svg+xml": [
       "<?xml version=\"1.0\" encoding=\"UTF-8\" standalone=\"no\"?>\n",
       "<!-- This is a Stata 16.0 generated SVG file (http://www.stata.com) -->\n",
       "\n",
       "<svg version=\"1.1\" width=\"600px\" height=\"436px\" viewBox=\"0 0 3960 2880\" xmlns=\"http://www.w3.org/2000/svg\" xmlns:xlink=\"http://www.w3.org/1999/xlink\">\n",
       "\t<desc>Stata Graph - Graph</desc>\n",
       "\t<rect x=\"0\" y=\"0\" width=\"3960\" height=\"2880\" style=\"fill:#EAF2F3;stroke:none\"/>\n",
       "\t<rect x=\"0.00\" y=\"0.00\" width=\"3959.88\" height=\"2880.00\" style=\"fill:#EAF2F3\"/>\n",
       "\t<rect x=\"2.88\" y=\"2.88\" width=\"3954.12\" height=\"2874.24\" style=\"fill:none;stroke:#EAF2F3;stroke-width:5.76\"/>\n",
       "\t<rect x=\"390.80\" y=\"261.37\" width=\"3468.22\" height=\"1972.27\" style=\"fill:#FFFFFF\"/>\n",
       "\t<rect x=\"393.68\" y=\"264.25\" width=\"3462.46\" height=\"1966.51\" style=\"fill:none;stroke:#FFFFFF;stroke-width:5.76\"/>\n",
       "\t<line x1=\"390.80\" y1=\"2170.27\" x2=\"3859.02\" y2=\"2170.27\" style=\"stroke:#EAF2F3;stroke-width:8.64\"/>\n",
       "\t<line x1=\"390.80\" y1=\"1708.92\" x2=\"3859.02\" y2=\"1708.92\" style=\"stroke:#EAF2F3;stroke-width:8.64\"/>\n",
       "\t<line x1=\"390.80\" y1=\"1247.56\" x2=\"3859.02\" y2=\"1247.56\" style=\"stroke:#EAF2F3;stroke-width:8.64\"/>\n",
       "\t<line x1=\"390.80\" y1=\"786.08\" x2=\"3859.02\" y2=\"786.08\" style=\"stroke:#EAF2F3;stroke-width:8.64\"/>\n",
       "\t<line x1=\"390.80\" y1=\"324.73\" x2=\"3859.02\" y2=\"324.73\" style=\"stroke:#EAF2F3;stroke-width:8.64\"/>\n",
       "\t<line x1=\"454.16\" y1=\"1806.81\" x2=\"454.16\" y2=\"1163.29\" style=\"stroke:#1A476F;stroke-width:8.64\"/>\n",
       "\t<line x1=\"432.13\" y1=\"1163.29\" x2=\"476.19\" y2=\"1163.29\" stroke-linecap=\"round\" style=\"stroke:#1A476F;stroke-width:8.64\"/>\n",
       "\t<line x1=\"432.13\" y1=\"1806.81\" x2=\"476.19\" y2=\"1806.81\" stroke-linecap=\"round\" style=\"stroke:#1A476F;stroke-width:8.64\"/>\n",
       "\t<line x1=\"3795.66\" y1=\"862.69\" x2=\"3795.66\" y2=\"407.03\" style=\"stroke:#1A476F;stroke-width:8.64\"/>\n",
       "\t<line x1=\"3773.63\" y1=\"407.03\" x2=\"3817.69\" y2=\"407.03\" stroke-linecap=\"round\" style=\"stroke:#1A476F;stroke-width:8.64\"/>\n",
       "\t<line x1=\"3773.63\" y1=\"862.69\" x2=\"3817.69\" y2=\"862.69\" stroke-linecap=\"round\" style=\"stroke:#1A476F;stroke-width:8.64\"/>\n",
       "\t<line x1=\"454.16\" y1=\"1991.45\" x2=\"454.16\" y2=\"1287.41\" style=\"stroke:#90353B;stroke-width:8.64\"/>\n",
       "\t<line x1=\"432.13\" y1=\"1287.41\" x2=\"476.19\" y2=\"1287.41\" stroke-linecap=\"round\" style=\"stroke:#90353B;stroke-width:8.64\"/>\n",
       "\t<line x1=\"432.13\" y1=\"1991.45\" x2=\"476.19\" y2=\"1991.45\" stroke-linecap=\"round\" style=\"stroke:#90353B;stroke-width:8.64\"/>\n",
       "\t<line x1=\"3795.66\" y1=\"2063.72\" x2=\"3795.66\" y2=\"1645.80\" style=\"stroke:#90353B;stroke-width:8.64\"/>\n",
       "\t<line x1=\"3773.63\" y1=\"1645.80\" x2=\"3817.69\" y2=\"1645.80\" stroke-linecap=\"round\" style=\"stroke:#90353B;stroke-width:8.64\"/>\n",
       "\t<line x1=\"3773.63\" y1=\"2063.72\" x2=\"3817.69\" y2=\"2063.72\" stroke-linecap=\"round\" style=\"stroke:#90353B;stroke-width:8.64\"/>\n",
       "\t<path d=\" M454.04 1485.17 L3795.66 634.98\" stroke-linejoin=\"round\" style=\"fill:none;stroke:#1A476F;stroke-width:8.64\"/>\n",
       "\t<circle cx=\"454.04\" cy=\"1485.17\" r=\"26.35\" style=\"fill:#1A476F\"/>\n",
       "\t<circle cx=\"454.04\" cy=\"1485.17\" r=\"22.03\" style=\"fill:none;stroke:#1A476F;stroke-width:8.64\"/>\n",
       "\t<circle cx=\"3795.66\" cy=\"634.98\" r=\"26.35\" style=\"fill:#1A476F\"/>\n",
       "\t<circle cx=\"3795.66\" cy=\"634.98\" r=\"22.03\" style=\"fill:none;stroke:#1A476F;stroke-width:8.64\"/>\n",
       "\t<path d=\" M454.04 1639.49 L3795.66 1854.82\" stroke-linejoin=\"round\" style=\"fill:none;stroke:#90353B;stroke-width:8.64\"/>\n",
       "\t<circle cx=\"454.04\" cy=\"1639.49\" r=\"26.35\" style=\"fill:#90353B\"/>\n",
       "\t<circle cx=\"454.04\" cy=\"1639.49\" r=\"22.03\" style=\"fill:none;stroke:#90353B;stroke-width:8.64\"/>\n",
       "\t<circle cx=\"3795.66\" cy=\"1854.82\" r=\"26.35\" style=\"fill:#90353B\"/>\n",
       "\t<circle cx=\"3795.66\" cy=\"1854.82\" r=\"22.03\" style=\"fill:none;stroke:#90353B;stroke-width:8.64\"/>\n",
       "\t<line x1=\"390.80\" y1=\"2233.63\" x2=\"390.80\" y2=\"261.37\" style=\"stroke:#000000;stroke-width:5.76\"/>\n",
       "\t<line x1=\"390.80\" y1=\"2170.27\" x2=\"350.83\" y2=\"2170.27\" style=\"stroke:#000000;stroke-width:5.76\"/>\n",
       "\t<text x=\"300.72\" y=\"2170.27\" style=\"font-family:'Helvetica';font-size:99.99px;fill:#000000\" transform=\"rotate(-90 300.72,2170.27)\" text-anchor=\"middle\">15000</text>\n",
       "\t<line x1=\"390.80\" y1=\"1708.92\" x2=\"350.83\" y2=\"1708.92\" style=\"stroke:#000000;stroke-width:5.76\"/>\n",
       "\t<text x=\"300.72\" y=\"1708.92\" style=\"font-family:'Helvetica';font-size:99.99px;fill:#000000\" transform=\"rotate(-90 300.72,1708.92)\" text-anchor=\"middle\">20000</text>\n",
       "\t<line x1=\"390.80\" y1=\"1247.56\" x2=\"350.83\" y2=\"1247.56\" style=\"stroke:#000000;stroke-width:5.76\"/>\n",
       "\t<text x=\"300.72\" y=\"1247.56\" style=\"font-family:'Helvetica';font-size:99.99px;fill:#000000\" transform=\"rotate(-90 300.72,1247.56)\" text-anchor=\"middle\">25000</text>\n",
       "\t<line x1=\"390.80\" y1=\"786.08\" x2=\"350.83\" y2=\"786.08\" style=\"stroke:#000000;stroke-width:5.76\"/>\n",
       "\t<text x=\"300.72\" y=\"786.08\" style=\"font-family:'Helvetica';font-size:99.99px;fill:#000000\" transform=\"rotate(-90 300.72,786.08)\" text-anchor=\"middle\">30000</text>\n",
       "\t<line x1=\"390.80\" y1=\"324.73\" x2=\"350.83\" y2=\"324.73\" style=\"stroke:#000000;stroke-width:5.76\"/>\n",
       "\t<text x=\"300.72\" y=\"324.73\" style=\"font-family:'Helvetica';font-size:99.99px;fill:#000000\" transform=\"rotate(-90 300.72,324.73)\" text-anchor=\"middle\">35000</text>\n",
       "\t<text x=\"190.71\" y=\"1247.56\" style=\"font-family:'Helvetica';font-size:99.99px;fill:#000000\" transform=\"rotate(-90 190.71,1247.56)\" text-anchor=\"middle\">Linear Prediction</text>\n",
       "\t<line x1=\"390.80\" y1=\"2233.63\" x2=\"3859.02\" y2=\"2233.63\" style=\"stroke:#000000;stroke-width:5.76\"/>\n",
       "\t<line x1=\"454.16\" y1=\"2233.63\" x2=\"454.16\" y2=\"2273.73\" style=\"stroke:#000000;stroke-width:5.76\"/>\n",
       "\t<text x=\"454.16\" y=\"2363.59\" style=\"font-family:'Helvetica';font-size:99.99px;fill:#000000\" text-anchor=\"middle\">0</text>\n",
       "\t<line x1=\"3795.66\" y1=\"2233.63\" x2=\"3795.66\" y2=\"2273.73\" style=\"stroke:#000000;stroke-width:5.76\"/>\n",
       "\t<text x=\"3795.66\" y=\"2363.59\" style=\"font-family:'Helvetica';font-size:99.99px;fill:#000000\" text-anchor=\"middle\">1</text>\n",
       "\t<text x=\"2124.91\" y=\"2473.60\" style=\"font-family:'Helvetica';font-size:99.99px;fill:#000000\" text-anchor=\"middle\">RECODE of childs (number of children)</text>\n",
       "\t<rect x=\"1134.29\" y=\"2558.24\" width=\"1981.36\" height=\"186.37\" style=\"fill:#FFFFFF\"/>\n",
       "\t<rect x=\"1137.17\" y=\"2561.12\" width=\"1975.60\" height=\"180.61\" style=\"fill:none;stroke:#000000;stroke-width:5.76\"/>\n",
       "\t<line x1=\"1177.48\" y1=\"2651.43\" x2=\"1551.83\" y2=\"2651.43\" style=\"stroke:#1A476F;stroke-width:8.64\"/>\n",
       "\t<circle cx=\"1364.71\" cy=\"2651.43\" r=\"26.35\" style=\"fill:#1A476F\"/>\n",
       "\t<circle cx=\"1364.71\" cy=\"2651.43\" r=\"22.03\" style=\"fill:none;stroke:#1A476F;stroke-width:8.64\"/>\n",
       "\t<line x1=\"2194.95\" y1=\"2651.43\" x2=\"2569.30\" y2=\"2651.43\" style=\"stroke:#90353B;stroke-width:8.64\"/>\n",
       "\t<circle cx=\"2382.06\" cy=\"2651.43\" r=\"26.35\" style=\"fill:#90353B\"/>\n",
       "\t<circle cx=\"2382.06\" cy=\"2651.43\" r=\"22.03\" style=\"fill:none;stroke:#90353B;stroke-width:8.64\"/>\n",
       "\t<text x=\"1611.84\" y=\"2686.46\" style=\"font-family:'Helvetica';font-size:99.99px;fill:#000000\">woman=0</text>\n",
       "\t<text x=\"2629.32\" y=\"2686.46\" style=\"font-family:'Helvetica';font-size:99.99px;fill:#000000\">woman=1</text>\n",
       "\t<text x=\"1979.88\" y=\"206.19\" style=\"font-family:'Helvetica';font-size:125.98px;fill:#1E2D53\" text-anchor=\"middle\">Predictive Margins with 95% CIs</text>\n",
       "</svg>\n"
      ],
      "text/html": [
       "                <iframe frameborder=\"0\" scrolling=\"no\" height=\"436\" width=\"600\"                srcdoc=\"<html><body>&lt;?xml version=&quot;1.0&quot; encoding=&quot;UTF-8&quot; standalone=&quot;no&quot;?&gt;\n",
       "&lt;!-- This is a Stata 16.0 generated SVG file (http://www.stata.com) --&gt;\n",
       "\n",
       "&lt;svg version=&quot;1.1&quot; width=&quot;600px&quot; height=&quot;436px&quot; viewBox=&quot;0 0 3960 2880&quot; xmlns=&quot;http://www.w3.org/2000/svg&quot; xmlns:xlink=&quot;http://www.w3.org/1999/xlink&quot;&gt;\n",
       "\t&lt;desc&gt;Stata Graph - Graph&lt;/desc&gt;\n",
       "\t&lt;rect x=&quot;0&quot; y=&quot;0&quot; width=&quot;3960&quot; height=&quot;2880&quot; style=&quot;fill:#EAF2F3;stroke:none&quot;/&gt;\n",
       "\t&lt;rect x=&quot;0.00&quot; y=&quot;0.00&quot; width=&quot;3959.88&quot; height=&quot;2880.00&quot; style=&quot;fill:#EAF2F3&quot;/&gt;\n",
       "\t&lt;rect x=&quot;2.88&quot; y=&quot;2.88&quot; width=&quot;3954.12&quot; height=&quot;2874.24&quot; style=&quot;fill:none;stroke:#EAF2F3;stroke-width:5.76&quot;/&gt;\n",
       "\t&lt;rect x=&quot;390.80&quot; y=&quot;261.37&quot; width=&quot;3468.22&quot; height=&quot;1972.27&quot; style=&quot;fill:#FFFFFF&quot;/&gt;\n",
       "\t&lt;rect x=&quot;393.68&quot; y=&quot;264.25&quot; width=&quot;3462.46&quot; height=&quot;1966.51&quot; style=&quot;fill:none;stroke:#FFFFFF;stroke-width:5.76&quot;/&gt;\n",
       "\t&lt;line x1=&quot;390.80&quot; y1=&quot;2170.27&quot; x2=&quot;3859.02&quot; y2=&quot;2170.27&quot; style=&quot;stroke:#EAF2F3;stroke-width:8.64&quot;/&gt;\n",
       "\t&lt;line x1=&quot;390.80&quot; y1=&quot;1708.92&quot; x2=&quot;3859.02&quot; y2=&quot;1708.92&quot; style=&quot;stroke:#EAF2F3;stroke-width:8.64&quot;/&gt;\n",
       "\t&lt;line x1=&quot;390.80&quot; y1=&quot;1247.56&quot; x2=&quot;3859.02&quot; y2=&quot;1247.56&quot; style=&quot;stroke:#EAF2F3;stroke-width:8.64&quot;/&gt;\n",
       "\t&lt;line x1=&quot;390.80&quot; y1=&quot;786.08&quot; x2=&quot;3859.02&quot; y2=&quot;786.08&quot; style=&quot;stroke:#EAF2F3;stroke-width:8.64&quot;/&gt;\n",
       "\t&lt;line x1=&quot;390.80&quot; y1=&quot;324.73&quot; x2=&quot;3859.02&quot; y2=&quot;324.73&quot; style=&quot;stroke:#EAF2F3;stroke-width:8.64&quot;/&gt;\n",
       "\t&lt;line x1=&quot;454.16&quot; y1=&quot;1806.81&quot; x2=&quot;454.16&quot; y2=&quot;1163.29&quot; style=&quot;stroke:#1A476F;stroke-width:8.64&quot;/&gt;\n",
       "\t&lt;line x1=&quot;432.13&quot; y1=&quot;1163.29&quot; x2=&quot;476.19&quot; y2=&quot;1163.29&quot; stroke-linecap=&quot;round&quot; style=&quot;stroke:#1A476F;stroke-width:8.64&quot;/&gt;\n",
       "\t&lt;line x1=&quot;432.13&quot; y1=&quot;1806.81&quot; x2=&quot;476.19&quot; y2=&quot;1806.81&quot; stroke-linecap=&quot;round&quot; style=&quot;stroke:#1A476F;stroke-width:8.64&quot;/&gt;\n",
       "\t&lt;line x1=&quot;3795.66&quot; y1=&quot;862.69&quot; x2=&quot;3795.66&quot; y2=&quot;407.03&quot; style=&quot;stroke:#1A476F;stroke-width:8.64&quot;/&gt;\n",
       "\t&lt;line x1=&quot;3773.63&quot; y1=&quot;407.03&quot; x2=&quot;3817.69&quot; y2=&quot;407.03&quot; stroke-linecap=&quot;round&quot; style=&quot;stroke:#1A476F;stroke-width:8.64&quot;/&gt;\n",
       "\t&lt;line x1=&quot;3773.63&quot; y1=&quot;862.69&quot; x2=&quot;3817.69&quot; y2=&quot;862.69&quot; stroke-linecap=&quot;round&quot; style=&quot;stroke:#1A476F;stroke-width:8.64&quot;/&gt;\n",
       "\t&lt;line x1=&quot;454.16&quot; y1=&quot;1991.45&quot; x2=&quot;454.16&quot; y2=&quot;1287.41&quot; style=&quot;stroke:#90353B;stroke-width:8.64&quot;/&gt;\n",
       "\t&lt;line x1=&quot;432.13&quot; y1=&quot;1287.41&quot; x2=&quot;476.19&quot; y2=&quot;1287.41&quot; stroke-linecap=&quot;round&quot; style=&quot;stroke:#90353B;stroke-width:8.64&quot;/&gt;\n",
       "\t&lt;line x1=&quot;432.13&quot; y1=&quot;1991.45&quot; x2=&quot;476.19&quot; y2=&quot;1991.45&quot; stroke-linecap=&quot;round&quot; style=&quot;stroke:#90353B;stroke-width:8.64&quot;/&gt;\n",
       "\t&lt;line x1=&quot;3795.66&quot; y1=&quot;2063.72&quot; x2=&quot;3795.66&quot; y2=&quot;1645.80&quot; style=&quot;stroke:#90353B;stroke-width:8.64&quot;/&gt;\n",
       "\t&lt;line x1=&quot;3773.63&quot; y1=&quot;1645.80&quot; x2=&quot;3817.69&quot; y2=&quot;1645.80&quot; stroke-linecap=&quot;round&quot; style=&quot;stroke:#90353B;stroke-width:8.64&quot;/&gt;\n",
       "\t&lt;line x1=&quot;3773.63&quot; y1=&quot;2063.72&quot; x2=&quot;3817.69&quot; y2=&quot;2063.72&quot; stroke-linecap=&quot;round&quot; style=&quot;stroke:#90353B;stroke-width:8.64&quot;/&gt;\n",
       "\t&lt;path d=&quot; M454.04 1485.17 L3795.66 634.98&quot; stroke-linejoin=&quot;round&quot; style=&quot;fill:none;stroke:#1A476F;stroke-width:8.64&quot;/&gt;\n",
       "\t&lt;circle cx=&quot;454.04&quot; cy=&quot;1485.17&quot; r=&quot;26.35&quot; style=&quot;fill:#1A476F&quot;/&gt;\n",
       "\t&lt;circle cx=&quot;454.04&quot; cy=&quot;1485.17&quot; r=&quot;22.03&quot; style=&quot;fill:none;stroke:#1A476F;stroke-width:8.64&quot;/&gt;\n",
       "\t&lt;circle cx=&quot;3795.66&quot; cy=&quot;634.98&quot; r=&quot;26.35&quot; style=&quot;fill:#1A476F&quot;/&gt;\n",
       "\t&lt;circle cx=&quot;3795.66&quot; cy=&quot;634.98&quot; r=&quot;22.03&quot; style=&quot;fill:none;stroke:#1A476F;stroke-width:8.64&quot;/&gt;\n",
       "\t&lt;path d=&quot; M454.04 1639.49 L3795.66 1854.82&quot; stroke-linejoin=&quot;round&quot; style=&quot;fill:none;stroke:#90353B;stroke-width:8.64&quot;/&gt;\n",
       "\t&lt;circle cx=&quot;454.04&quot; cy=&quot;1639.49&quot; r=&quot;26.35&quot; style=&quot;fill:#90353B&quot;/&gt;\n",
       "\t&lt;circle cx=&quot;454.04&quot; cy=&quot;1639.49&quot; r=&quot;22.03&quot; style=&quot;fill:none;stroke:#90353B;stroke-width:8.64&quot;/&gt;\n",
       "\t&lt;circle cx=&quot;3795.66&quot; cy=&quot;1854.82&quot; r=&quot;26.35&quot; style=&quot;fill:#90353B&quot;/&gt;\n",
       "\t&lt;circle cx=&quot;3795.66&quot; cy=&quot;1854.82&quot; r=&quot;22.03&quot; style=&quot;fill:none;stroke:#90353B;stroke-width:8.64&quot;/&gt;\n",
       "\t&lt;line x1=&quot;390.80&quot; y1=&quot;2233.63&quot; x2=&quot;390.80&quot; y2=&quot;261.37&quot; style=&quot;stroke:#000000;stroke-width:5.76&quot;/&gt;\n",
       "\t&lt;line x1=&quot;390.80&quot; y1=&quot;2170.27&quot; x2=&quot;350.83&quot; y2=&quot;2170.27&quot; style=&quot;stroke:#000000;stroke-width:5.76&quot;/&gt;\n",
       "\t&lt;text x=&quot;300.72&quot; y=&quot;2170.27&quot; style=&quot;font-family:&#x27;Helvetica&#x27;;font-size:99.99px;fill:#000000&quot; transform=&quot;rotate(-90 300.72,2170.27)&quot; text-anchor=&quot;middle&quot;&gt;15000&lt;/text&gt;\n",
       "\t&lt;line x1=&quot;390.80&quot; y1=&quot;1708.92&quot; x2=&quot;350.83&quot; y2=&quot;1708.92&quot; style=&quot;stroke:#000000;stroke-width:5.76&quot;/&gt;\n",
       "\t&lt;text x=&quot;300.72&quot; y=&quot;1708.92&quot; style=&quot;font-family:&#x27;Helvetica&#x27;;font-size:99.99px;fill:#000000&quot; transform=&quot;rotate(-90 300.72,1708.92)&quot; text-anchor=&quot;middle&quot;&gt;20000&lt;/text&gt;\n",
       "\t&lt;line x1=&quot;390.80&quot; y1=&quot;1247.56&quot; x2=&quot;350.83&quot; y2=&quot;1247.56&quot; style=&quot;stroke:#000000;stroke-width:5.76&quot;/&gt;\n",
       "\t&lt;text x=&quot;300.72&quot; y=&quot;1247.56&quot; style=&quot;font-family:&#x27;Helvetica&#x27;;font-size:99.99px;fill:#000000&quot; transform=&quot;rotate(-90 300.72,1247.56)&quot; text-anchor=&quot;middle&quot;&gt;25000&lt;/text&gt;\n",
       "\t&lt;line x1=&quot;390.80&quot; y1=&quot;786.08&quot; x2=&quot;350.83&quot; y2=&quot;786.08&quot; style=&quot;stroke:#000000;stroke-width:5.76&quot;/&gt;\n",
       "\t&lt;text x=&quot;300.72&quot; y=&quot;786.08&quot; style=&quot;font-family:&#x27;Helvetica&#x27;;font-size:99.99px;fill:#000000&quot; transform=&quot;rotate(-90 300.72,786.08)&quot; text-anchor=&quot;middle&quot;&gt;30000&lt;/text&gt;\n",
       "\t&lt;line x1=&quot;390.80&quot; y1=&quot;324.73&quot; x2=&quot;350.83&quot; y2=&quot;324.73&quot; style=&quot;stroke:#000000;stroke-width:5.76&quot;/&gt;\n",
       "\t&lt;text x=&quot;300.72&quot; y=&quot;324.73&quot; style=&quot;font-family:&#x27;Helvetica&#x27;;font-size:99.99px;fill:#000000&quot; transform=&quot;rotate(-90 300.72,324.73)&quot; text-anchor=&quot;middle&quot;&gt;35000&lt;/text&gt;\n",
       "\t&lt;text x=&quot;190.71&quot; y=&quot;1247.56&quot; style=&quot;font-family:&#x27;Helvetica&#x27;;font-size:99.99px;fill:#000000&quot; transform=&quot;rotate(-90 190.71,1247.56)&quot; text-anchor=&quot;middle&quot;&gt;Linear Prediction&lt;/text&gt;\n",
       "\t&lt;line x1=&quot;390.80&quot; y1=&quot;2233.63&quot; x2=&quot;3859.02&quot; y2=&quot;2233.63&quot; style=&quot;stroke:#000000;stroke-width:5.76&quot;/&gt;\n",
       "\t&lt;line x1=&quot;454.16&quot; y1=&quot;2233.63&quot; x2=&quot;454.16&quot; y2=&quot;2273.73&quot; style=&quot;stroke:#000000;stroke-width:5.76&quot;/&gt;\n",
       "\t&lt;text x=&quot;454.16&quot; y=&quot;2363.59&quot; style=&quot;font-family:&#x27;Helvetica&#x27;;font-size:99.99px;fill:#000000&quot; text-anchor=&quot;middle&quot;&gt;0&lt;/text&gt;\n",
       "\t&lt;line x1=&quot;3795.66&quot; y1=&quot;2233.63&quot; x2=&quot;3795.66&quot; y2=&quot;2273.73&quot; style=&quot;stroke:#000000;stroke-width:5.76&quot;/&gt;\n",
       "\t&lt;text x=&quot;3795.66&quot; y=&quot;2363.59&quot; style=&quot;font-family:&#x27;Helvetica&#x27;;font-size:99.99px;fill:#000000&quot; text-anchor=&quot;middle&quot;&gt;1&lt;/text&gt;\n",
       "\t&lt;text x=&quot;2124.91&quot; y=&quot;2473.60&quot; style=&quot;font-family:&#x27;Helvetica&#x27;;font-size:99.99px;fill:#000000&quot; text-anchor=&quot;middle&quot;&gt;RECODE of childs (number of children)&lt;/text&gt;\n",
       "\t&lt;rect x=&quot;1134.29&quot; y=&quot;2558.24&quot; width=&quot;1981.36&quot; height=&quot;186.37&quot; style=&quot;fill:#FFFFFF&quot;/&gt;\n",
       "\t&lt;rect x=&quot;1137.17&quot; y=&quot;2561.12&quot; width=&quot;1975.60&quot; height=&quot;180.61&quot; style=&quot;fill:none;stroke:#000000;stroke-width:5.76&quot;/&gt;\n",
       "\t&lt;line x1=&quot;1177.48&quot; y1=&quot;2651.43&quot; x2=&quot;1551.83&quot; y2=&quot;2651.43&quot; style=&quot;stroke:#1A476F;stroke-width:8.64&quot;/&gt;\n",
       "\t&lt;circle cx=&quot;1364.71&quot; cy=&quot;2651.43&quot; r=&quot;26.35&quot; style=&quot;fill:#1A476F&quot;/&gt;\n",
       "\t&lt;circle cx=&quot;1364.71&quot; cy=&quot;2651.43&quot; r=&quot;22.03&quot; style=&quot;fill:none;stroke:#1A476F;stroke-width:8.64&quot;/&gt;\n",
       "\t&lt;line x1=&quot;2194.95&quot; y1=&quot;2651.43&quot; x2=&quot;2569.30&quot; y2=&quot;2651.43&quot; style=&quot;stroke:#90353B;stroke-width:8.64&quot;/&gt;\n",
       "\t&lt;circle cx=&quot;2382.06&quot; cy=&quot;2651.43&quot; r=&quot;26.35&quot; style=&quot;fill:#90353B&quot;/&gt;\n",
       "\t&lt;circle cx=&quot;2382.06&quot; cy=&quot;2651.43&quot; r=&quot;22.03&quot; style=&quot;fill:none;stroke:#90353B;stroke-width:8.64&quot;/&gt;\n",
       "\t&lt;text x=&quot;1611.84&quot; y=&quot;2686.46&quot; style=&quot;font-family:&#x27;Helvetica&#x27;;font-size:99.99px;fill:#000000&quot;&gt;woman=0&lt;/text&gt;\n",
       "\t&lt;text x=&quot;2629.32&quot; y=&quot;2686.46&quot; style=&quot;font-family:&#x27;Helvetica&#x27;;font-size:99.99px;fill:#000000&quot;&gt;woman=1&lt;/text&gt;\n",
       "\t&lt;text x=&quot;1979.88&quot; y=&quot;206.19&quot; style=&quot;font-family:&#x27;Helvetica&#x27;;font-size:125.98px;fill:#1E2D53&quot; text-anchor=&quot;middle&quot;&gt;Predictive Margins with 95% CIs&lt;/text&gt;\n",
       "&lt;/svg&gt;\n",
       "</body></html>\"></iframe>\n"
      ],
      "text/plain": [
       "This front-end cannot display the desired image type."
      ]
     },
     "metadata": {
      "image/svg+xml": {
       "height": 436,
       "width": 600
      },
      "text/html": {
       "height": 436,
       "width": 600
      }
     },
     "output_type": "display_data"
    },
    {
     "name": "stdout",
     "output_type": "stream",
     "text": [
      "\n",
      ".     global stata_kernel_graph_counter = $stata_kernel_graph_counter + 1\n",
      ". }            \n"
     ]
    }
   ],
   "source": [
    "marginsplot"
   ]
  },
  {
   "cell_type": "markdown",
   "metadata": {},
   "source": [
    "Here we see the main result clearly: Women (red line) and men (blue line) are close to the left in the graph, without kids. But on the right side of the graph, among those with kids, the difference is stark.\n",
    "\n",
    "All three graphs are related. The two previus ones, that showed coefficients, show the relationships between the different points in the final graph. The first coefficient graph, that showed the effect of `dum_kids`, shows what happens when we move to the right in the graph, from 0 to 1. The blue line (men) goes up, while the red line (women) goes down.\n",
    "\n",
    "The second graph, which showed the effect of `woman`, shows what happens when we switch from the blue to the red line. When we are at `dum_kids = 0` we have to do a small jump from the blue to the red line. When `dum_kids = 1` we have to make a large jump down from the blue to the red line."
   ]
  },
  {
   "cell_type": "markdown",
   "metadata": {},
   "source": [
    "## Conclusion\n",
    "\n",
    "The main result from the analysis is thus that gender differences increases dramatically when people have kids. Fathers earn much more than men without kids, while mothers earn less than women without kids. Therefore, men without kids only earn a little more than women without kids, while fathers earn much more than mothers.\n",
    "\n",
    "Other research has shown reasonable explanations for this, for example that parenthood lead to lower labor participation for women, while men work more to make up for the loss in income. But we cannot say whether that is the case from this cross-sectional analysis. Here, we are only comparing different individuals with each other, and there are a lot of other differences between individuals, that is unaccounted for here. But we have at least controlled for age, so the differences are not due to that.\n",
    "\n",
    "But in general, we can see that important effects can be hidden when they are averaged out over several subgroups in a sample: the original effect of parenthood was weakly positive, while it turned out to be negative for women, and strongly positive for men.\n",
    "\n",
    "Furthermore, many of our theories lead to expectations that effects will be different, depending on the value of some third value. In those cases, regression analysis with interaction effects is a good tool.\n",
    "\n",
    "So far, we have only looked at the special case where both variables are dichotomous, that is, that they only have two values. Things get a little bit more complicated when the variables are continuous, and have many different values. We will discuss that in another guide."
   ]
  }
 ],
 "metadata": {
  "kernelspec": {
   "display_name": "Stata",
   "language": "stata",
   "name": "stata"
  },
  "language_info": {
   "codemirror_mode": "stata",
   "file_extension": ".do",
   "mimetype": "text/x-stata",
   "name": "stata",
   "version": "15.1"
  }
 },
 "nbformat": 4,
 "nbformat_minor": 4
}
