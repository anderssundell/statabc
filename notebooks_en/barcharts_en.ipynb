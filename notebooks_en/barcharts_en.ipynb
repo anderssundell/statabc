{
 "cells": [
  {
   "cell_type": "markdown",
   "metadata": {},
   "source": [
    "# Bar charts"
   ]
  },
  {
   "cell_type": "markdown",
   "metadata": {},
   "source": [
    "*By Anders Sundell*\n",
    "\n",
    "Scatterplots are good for showing relationships between continous variables, with values evenly spread across a scale. But if you for instance work with survey data, there is often a limited number of response options, which means that respondents are spread over a relatively small number of combinations. This makes scatterplots less information.\n",
    "\n",
    "__An alternative to visualize information is then to use bar charts.__ One of Stata's commands for them lets us quickly summarize variables and present the results in an easily understandable way. In this example we'll look closer at the relationship between education and income in the United States, with the aid of the american General Social Survey. It is downloadable here https://gss.norc.org/get-the-data/stata and we will use the 2018 edition."
   ]
  },
  {
   "cell_type": "code",
   "execution_count": 35,
   "metadata": {},
   "outputs": [
    {
     "name": "stdout",
     "output_type": "stream",
     "text": [
      "\n",
      "/Users/anderssundell/Dropbox/Jupyter/stathelp/data\n",
      "\n"
     ]
    }
   ],
   "source": [
    "cd \"/Users/anderssundell/Dropbox/Jupyter/stathelp/data/\"\n",
    "use \"GSS2018.dta\", clear"
   ]
  },
  {
   "cell_type": "markdown",
   "metadata": {},
   "source": [
    "The variable for education is `degree` and has five values. The variable for income is a scale that shows the respondent's income in dollar, `realrinc`. The United States are known for having a high \"education premium,\" which means that getting educated generally pays more. Wage differences are large.\n",
    "\n",
    "Let us now do a bar chart with the `graph bar` command. We will state that we want the bars to show the mean of the variable `realrinc`, and that we want one bar for each value of the variable `degree`. Since `degree` only has five values, we get five bars."
   ]
  },
  {
   "cell_type": "code",
   "execution_count": 17,
   "metadata": {},
   "outputs": [
    {
     "data": {
      "application/pdf": "[encoded data removed]",
      "image/svg+xml": [
       "<?xml version=\"1.0\" encoding=\"UTF-8\" standalone=\"no\"?>\n",
       "<!-- This is a Stata 16.0 generated SVG file (http://www.stata.com) -->\n",
       "\n",
       "<svg version=\"1.1\" width=\"600px\" height=\"436px\" viewBox=\"0 0 3960 2880\" xmlns=\"http://www.w3.org/2000/svg\" xmlns:xlink=\"http://www.w3.org/1999/xlink\">\n",
       "\t<desc>Stata Graph - Graph</desc>\n",
       "\t<rect x=\"0\" y=\"0\" width=\"3960\" height=\"2880\" style=\"fill:#EAF2F3;stroke:none\"/>\n",
       "\t<rect x=\"0.00\" y=\"0.00\" width=\"3959.88\" height=\"2880.00\" style=\"fill:#EAF2F3\"/>\n",
       "\t<rect x=\"2.88\" y=\"2.88\" width=\"3954.12\" height=\"2874.24\" style=\"fill:none;stroke:#EAF2F3;stroke-width:5.76\"/>\n",
       "\t<rect x=\"390.80\" y=\"100.86\" width=\"3468.22\" height=\"2518.39\" style=\"fill:#FFFFFF\"/>\n",
       "\t<rect x=\"393.68\" y=\"103.74\" width=\"3462.46\" height=\"2512.63\" style=\"fill:none;stroke:#FFFFFF;stroke-width:5.76\"/>\n",
       "\t<line x1=\"390.80\" y1=\"2619.25\" x2=\"3859.02\" y2=\"2619.25\" style=\"stroke:#EAF2F3;stroke-width:8.64\"/>\n",
       "\t<line x1=\"390.80\" y1=\"2135.74\" x2=\"3859.02\" y2=\"2135.74\" style=\"stroke:#EAF2F3;stroke-width:8.64\"/>\n",
       "\t<line x1=\"390.80\" y1=\"1652.11\" x2=\"3859.02\" y2=\"1652.11\" style=\"stroke:#EAF2F3;stroke-width:8.64\"/>\n",
       "\t<line x1=\"390.80\" y1=\"1168.61\" x2=\"3859.02\" y2=\"1168.61\" style=\"stroke:#EAF2F3;stroke-width:8.64\"/>\n",
       "\t<line x1=\"390.80\" y1=\"685.10\" x2=\"3859.02\" y2=\"685.10\" style=\"stroke:#EAF2F3;stroke-width:8.64\"/>\n",
       "\t<line x1=\"390.80\" y1=\"201.60\" x2=\"3859.02\" y2=\"201.60\" style=\"stroke:#EAF2F3;stroke-width:8.64\"/>\n",
       "\t<rect x=\"572.47\" y=\"2043.92\" width=\"404.29\" height=\"575.33\" style=\"fill:#1A476F\"/>\n",
       "\t<rect x=\"575.35\" y=\"2046.80\" width=\"398.53\" height=\"569.57\" style=\"fill:none;stroke:#1A476F;stroke-width:5.76\"/>\n",
       "\t<rect x=\"1247.65\" y=\"1733.17\" width=\"404.29\" height=\"886.08\" style=\"fill:#1A476F\"/>\n",
       "\t<rect x=\"1250.53\" y=\"1736.05\" width=\"398.53\" height=\"880.32\" style=\"fill:none;stroke:#1A476F;stroke-width:5.76\"/>\n",
       "\t<rect x=\"1922.83\" y=\"1721.91\" width=\"404.29\" height=\"897.34\" style=\"fill:#1A476F\"/>\n",
       "\t<rect x=\"1925.71\" y=\"1724.79\" width=\"398.53\" height=\"891.58\" style=\"fill:none;stroke:#1A476F;stroke-width:5.76\"/>\n",
       "\t<rect x=\"2598.01\" y=\"931.62\" width=\"404.29\" height=\"1687.63\" style=\"fill:#1A476F\"/>\n",
       "\t<rect x=\"2600.89\" y=\"934.50\" width=\"398.53\" height=\"1681.87\" style=\"fill:none;stroke:#1A476F;stroke-width:5.76\"/>\n",
       "\t<rect x=\"3273.19\" y=\"413.96\" width=\"404.29\" height=\"2205.29\" style=\"fill:#1A476F\"/>\n",
       "\t<rect x=\"3276.07\" y=\"416.84\" width=\"398.53\" height=\"2199.53\" style=\"fill:none;stroke:#1A476F;stroke-width:5.76\"/>\n",
       "\t<line x1=\"390.80\" y1=\"2619.25\" x2=\"390.80\" y2=\"100.86\" style=\"stroke:#000000;stroke-width:5.76\"/>\n",
       "\t<line x1=\"390.80\" y1=\"2619.25\" x2=\"350.83\" y2=\"2619.25\" style=\"stroke:#000000;stroke-width:5.76\"/>\n",
       "\t<text x=\"300.72\" y=\"2619.25\" style=\"font-family:'Helvetica';font-size:99.99px;fill:#000000\" transform=\"rotate(-90 300.72,2619.25)\" text-anchor=\"middle\">0</text>\n",
       "\t<line x1=\"390.80\" y1=\"2135.74\" x2=\"350.83\" y2=\"2135.74\" style=\"stroke:#000000;stroke-width:5.76\"/>\n",
       "\t<text x=\"300.72\" y=\"2135.74\" style=\"font-family:'Helvetica';font-size:99.99px;fill:#000000\" transform=\"rotate(-90 300.72,2135.74)\" text-anchor=\"middle\">10,000</text>\n",
       "\t<line x1=\"390.80\" y1=\"1652.11\" x2=\"350.83\" y2=\"1652.11\" style=\"stroke:#000000;stroke-width:5.76\"/>\n",
       "\t<text x=\"300.72\" y=\"1652.11\" style=\"font-family:'Helvetica';font-size:99.99px;fill:#000000\" transform=\"rotate(-90 300.72,1652.11)\" text-anchor=\"middle\">20,000</text>\n",
       "\t<line x1=\"390.80\" y1=\"1168.61\" x2=\"350.83\" y2=\"1168.61\" style=\"stroke:#000000;stroke-width:5.76\"/>\n",
       "\t<text x=\"300.72\" y=\"1168.61\" style=\"font-family:'Helvetica';font-size:99.99px;fill:#000000\" transform=\"rotate(-90 300.72,1168.61)\" text-anchor=\"middle\">30,000</text>\n",
       "\t<line x1=\"390.80\" y1=\"685.10\" x2=\"350.83\" y2=\"685.10\" style=\"stroke:#000000;stroke-width:5.76\"/>\n",
       "\t<text x=\"300.72\" y=\"685.10\" style=\"font-family:'Helvetica';font-size:99.99px;fill:#000000\" transform=\"rotate(-90 300.72,685.10)\" text-anchor=\"middle\">40,000</text>\n",
       "\t<line x1=\"390.80\" y1=\"201.60\" x2=\"350.83\" y2=\"201.60\" style=\"stroke:#000000;stroke-width:5.76\"/>\n",
       "\t<text x=\"300.72\" y=\"201.60\" style=\"font-family:'Helvetica';font-size:99.99px;fill:#000000\" transform=\"rotate(-90 300.72,201.60)\" text-anchor=\"middle\">50,000</text>\n",
       "\t<text x=\"190.71\" y=\"1360.06\" style=\"font-family:'Helvetica';font-size:99.99px;fill:#000000\" transform=\"rotate(-90 190.71,1360.06)\" text-anchor=\"middle\">mean of realrinc</text>\n",
       "\t<line x1=\"390.80\" y1=\"2619.25\" x2=\"3859.02\" y2=\"2619.25\" style=\"stroke:#000000;stroke-width:5.76\"/>\n",
       "\t<text x=\"774.55\" y=\"2729.16\" style=\"font-family:'Helvetica';font-size:99.99px;fill:#000000\" text-anchor=\"middle\">lt high school</text>\n",
       "\t<text x=\"1449.73\" y=\"2729.16\" style=\"font-family:'Helvetica';font-size:99.99px;fill:#000000\" text-anchor=\"middle\">high school</text>\n",
       "\t<text x=\"2124.91\" y=\"2729.16\" style=\"font-family:'Helvetica';font-size:99.99px;fill:#000000\" text-anchor=\"middle\">junior college</text>\n",
       "\t<text x=\"2800.09\" y=\"2729.16\" style=\"font-family:'Helvetica';font-size:99.99px;fill:#000000\" text-anchor=\"middle\">bachelor</text>\n",
       "\t<text x=\"3475.27\" y=\"2729.16\" style=\"font-family:'Helvetica';font-size:99.99px;fill:#000000\" text-anchor=\"middle\">graduate</text>\n",
       "</svg>\n"
      ],
      "text/plain": [
       "This front-end cannot display the desired image type."
      ]
     },
     "metadata": {
      "image/svg+xml": {
       "height": 436,
       "width": 600
      }
     },
     "output_type": "display_data"
    }
   ],
   "source": [
    "graph bar (mean) realrinc, over(degree)"
   ]
  },
  {
   "cell_type": "markdown",
   "metadata": {},
   "source": [
    "The diagram reveals big differences: Those who have a bachelor's degee earn about twice as much as those who only went to high school or junior college.\n",
    "\n",
    "## Horizontal bars\n",
    "\n",
    "If we want horizontal bars (which might be a good idea if one has a lot of text in the category labels) it is easily done: We just switch `graph bar` to `graph hbar` in the code."
   ]
  },
  {
   "cell_type": "code",
   "execution_count": 18,
   "metadata": {},
   "outputs": [
    {
     "data": {
      "application/pdf": "[encoded data removed]",
      "image/svg+xml": [
       "<?xml version=\"1.0\" encoding=\"UTF-8\" standalone=\"no\"?>\n",
       "<!-- This is a Stata 16.0 generated SVG file (http://www.stata.com) -->\n",
       "\n",
       "<svg version=\"1.1\" width=\"600px\" height=\"436px\" viewBox=\"0 0 3960 2880\" xmlns=\"http://www.w3.org/2000/svg\" xmlns:xlink=\"http://www.w3.org/1999/xlink\">\n",
       "\t<desc>Stata Graph - Graph</desc>\n",
       "\t<rect x=\"0\" y=\"0\" width=\"3960\" height=\"2880\" style=\"fill:#EAF2F3;stroke:none\"/>\n",
       "\t<rect x=\"0.00\" y=\"0.00\" width=\"3959.88\" height=\"2880.00\" style=\"fill:#EAF2F3\"/>\n",
       "\t<rect x=\"2.88\" y=\"2.88\" width=\"3954.12\" height=\"2874.24\" style=\"fill:none;stroke:#EAF2F3;stroke-width:5.76\"/>\n",
       "\t<rect x=\"800.17\" y=\"100.86\" width=\"3058.85\" height=\"2388.33\" style=\"fill:#FFFFFF\"/>\n",
       "\t<rect x=\"803.05\" y=\"103.74\" width=\"3053.09\" height=\"2382.57\" style=\"fill:none;stroke:#FFFFFF;stroke-width:5.76\"/>\n",
       "\t<line x1=\"800.17\" y1=\"2489.19\" x2=\"800.17\" y2=\"100.86\" style=\"stroke:#EAF2F3;stroke-width:8.64\"/>\n",
       "\t<line x1=\"1391.82\" y1=\"2489.19\" x2=\"1391.82\" y2=\"100.86\" style=\"stroke:#EAF2F3;stroke-width:8.64\"/>\n",
       "\t<line x1=\"1983.46\" y1=\"2489.19\" x2=\"1983.46\" y2=\"100.86\" style=\"stroke:#EAF2F3;stroke-width:8.64\"/>\n",
       "\t<line x1=\"2575.11\" y1=\"2489.19\" x2=\"2575.11\" y2=\"100.86\" style=\"stroke:#EAF2F3;stroke-width:8.64\"/>\n",
       "\t<line x1=\"3166.64\" y1=\"2489.19\" x2=\"3166.64\" y2=\"100.86\" style=\"stroke:#EAF2F3;stroke-width:8.64\"/>\n",
       "\t<line x1=\"3758.29\" y1=\"2489.19\" x2=\"3758.29\" y2=\"100.86\" style=\"stroke:#EAF2F3;stroke-width:8.64\"/>\n",
       "\t<rect x=\"800.17\" y=\"2063.60\" width=\"2698.24\" height=\"270.65\" style=\"fill:#1A476F\"/>\n",
       "\t<rect x=\"803.05\" y=\"2066.48\" width=\"2692.49\" height=\"264.89\" style=\"fill:none;stroke:#1A476F;stroke-width:5.76\"/>\n",
       "\t<rect x=\"800.17\" y=\"1611.65\" width=\"2065.02\" height=\"270.65\" style=\"fill:#1A476F\"/>\n",
       "\t<rect x=\"803.05\" y=\"1614.53\" width=\"2059.26\" height=\"264.89\" style=\"fill:none;stroke:#1A476F;stroke-width:5.76\"/>\n",
       "\t<rect x=\"800.17\" y=\"1159.70\" width=\"1097.91\" height=\"270.65\" style=\"fill:#1A476F\"/>\n",
       "\t<rect x=\"803.05\" y=\"1162.58\" width=\"1092.15\" height=\"264.89\" style=\"fill:none;stroke:#1A476F;stroke-width:5.76\"/>\n",
       "\t<rect x=\"800.17\" y=\"707.75\" width=\"1084.17\" height=\"270.65\" style=\"fill:#1A476F\"/>\n",
       "\t<rect x=\"803.05\" y=\"710.63\" width=\"1078.41\" height=\"264.89\" style=\"fill:none;stroke:#1A476F;stroke-width:5.76\"/>\n",
       "\t<rect x=\"800.17\" y=\"255.68\" width=\"704.01\" height=\"270.65\" style=\"fill:#1A476F\"/>\n",
       "\t<rect x=\"803.05\" y=\"258.56\" width=\"698.25\" height=\"264.89\" style=\"fill:none;stroke:#1A476F;stroke-width:5.76\"/>\n",
       "\t<line x1=\"800.17\" y1=\"2489.19\" x2=\"3859.02\" y2=\"2489.19\" style=\"stroke:#000000;stroke-width:5.76\"/>\n",
       "\t<line x1=\"800.17\" y1=\"2489.19\" x2=\"800.17\" y2=\"2529.16\" style=\"stroke:#000000;stroke-width:5.76\"/>\n",
       "\t<text x=\"800.17\" y=\"2619.14\" style=\"font-family:'Helvetica';font-size:99.99px;fill:#000000\" text-anchor=\"middle\">0</text>\n",
       "\t<line x1=\"1391.82\" y1=\"2489.19\" x2=\"1391.82\" y2=\"2529.16\" style=\"stroke:#000000;stroke-width:5.76\"/>\n",
       "\t<text x=\"1391.82\" y=\"2619.14\" style=\"font-family:'Helvetica';font-size:99.99px;fill:#000000\" text-anchor=\"middle\">10,000</text>\n",
       "\t<line x1=\"1983.46\" y1=\"2489.19\" x2=\"1983.46\" y2=\"2529.16\" style=\"stroke:#000000;stroke-width:5.76\"/>\n",
       "\t<text x=\"1983.46\" y=\"2619.14\" style=\"font-family:'Helvetica';font-size:99.99px;fill:#000000\" text-anchor=\"middle\">20,000</text>\n",
       "\t<line x1=\"2575.11\" y1=\"2489.19\" x2=\"2575.11\" y2=\"2529.16\" style=\"stroke:#000000;stroke-width:5.76\"/>\n",
       "\t<text x=\"2575.11\" y=\"2619.14\" style=\"font-family:'Helvetica';font-size:99.99px;fill:#000000\" text-anchor=\"middle\">30,000</text>\n",
       "\t<line x1=\"3166.64\" y1=\"2489.19\" x2=\"3166.64\" y2=\"2529.16\" style=\"stroke:#000000;stroke-width:5.76\"/>\n",
       "\t<text x=\"3166.64\" y=\"2619.14\" style=\"font-family:'Helvetica';font-size:99.99px;fill:#000000\" text-anchor=\"middle\">40,000</text>\n",
       "\t<line x1=\"3758.29\" y1=\"2489.19\" x2=\"3758.29\" y2=\"2529.16\" style=\"stroke:#000000;stroke-width:5.76\"/>\n",
       "\t<text x=\"3758.29\" y=\"2619.14\" style=\"font-family:'Helvetica';font-size:99.99px;fill:#000000\" text-anchor=\"middle\">50,000</text>\n",
       "\t<text x=\"2329.59\" y=\"2729.16\" style=\"font-family:'Helvetica';font-size:99.99px;fill:#000000\" text-anchor=\"middle\">mean of realrinc</text>\n",
       "\t<line x1=\"800.17\" y1=\"2489.19\" x2=\"800.17\" y2=\"100.86\" style=\"stroke:#000000;stroke-width:5.76\"/>\n",
       "\t<text x=\"760.20\" y=\"2234.01\" style=\"font-family:'Helvetica';font-size:99.99px;fill:#000000\" text-anchor=\"end\">graduate</text>\n",
       "\t<text x=\"760.20\" y=\"1782.06\" style=\"font-family:'Helvetica';font-size:99.99px;fill:#000000\" text-anchor=\"end\">bachelor</text>\n",
       "\t<text x=\"760.20\" y=\"1329.99\" style=\"font-family:'Helvetica';font-size:99.99px;fill:#000000\" text-anchor=\"end\">junior college</text>\n",
       "\t<text x=\"760.20\" y=\"878.04\" style=\"font-family:'Helvetica';font-size:99.99px;fill:#000000\" text-anchor=\"end\">high school</text>\n",
       "\t<text x=\"760.20\" y=\"426.09\" style=\"font-family:'Helvetica';font-size:99.99px;fill:#000000\" text-anchor=\"end\">lt high school</text>\n",
       "</svg>\n"
      ],
      "text/plain": [
       "This front-end cannot display the desired image type."
      ]
     },
     "metadata": {
      "image/svg+xml": {
       "height": 436,
       "width": 600
      }
     },
     "output_type": "display_data"
    }
   ],
   "source": [
    "graph hbar (mean) realrinc, over(degree)"
   ]
  },
  {
   "cell_type": "markdown",
   "metadata": {},
   "source": [
    "## Add labels\n",
    "\n",
    "The bar chart gives a quick overview of how much the different groups make. But if we want to know exactly it might be a good idea to display the actual values as well. We do that by adding labels that show the height of the bars.\n",
    "\n",
    "To do that we need an option `blabel(bar)`. We add that after the option `over`. We can also try to change the bars from showing the mean to the median, which often is advisable when you work with incomes, since the few with extreme incomes push up the mean a lot.\n",
    "\n",
    "We will also make two cosmetic changes: We will change the text on the y axis to something more neat with the option `ytitle`, and we will also change the color of the bars with `bar(1, color(purple))`."
   ]
  },
  {
   "cell_type": "code",
   "execution_count": 38,
   "metadata": {},
   "outputs": [
    {
     "data": {
      "application/pdf": "[encoded data removed]",
      "image/svg+xml": [
       "<?xml version=\"1.0\" encoding=\"UTF-8\" standalone=\"no\"?>\n",
       "<!-- This is a Stata 16.0 generated SVG file (http://www.stata.com) -->\n",
       "\n",
       "<svg version=\"1.1\" width=\"600px\" height=\"436px\" viewBox=\"0 0 3960 2880\" xmlns=\"http://www.w3.org/2000/svg\" xmlns:xlink=\"http://www.w3.org/1999/xlink\">\n",
       "\t<desc>Stata Graph - Graph</desc>\n",
       "\t<rect x=\"0\" y=\"0\" width=\"3960\" height=\"2880\" style=\"fill:#EAF2F3;stroke:none\"/>\n",
       "\t<rect x=\"0.00\" y=\"0.00\" width=\"3959.88\" height=\"2880.00\" style=\"fill:#EAF2F3\"/>\n",
       "\t<rect x=\"2.88\" y=\"2.88\" width=\"3954.12\" height=\"2874.24\" style=\"fill:none;stroke:#EAF2F3;stroke-width:5.76\"/>\n",
       "\t<rect x=\"390.80\" y=\"100.86\" width=\"3468.22\" height=\"2518.39\" style=\"fill:#FFFFFF\"/>\n",
       "\t<rect x=\"393.68\" y=\"103.74\" width=\"3462.46\" height=\"2512.63\" style=\"fill:none;stroke:#FFFFFF;stroke-width:5.76\"/>\n",
       "\t<line x1=\"390.80\" y1=\"2619.25\" x2=\"3859.02\" y2=\"2619.25\" style=\"stroke:#EAF2F3;stroke-width:8.64\"/>\n",
       "\t<line x1=\"390.80\" y1=\"2014.84\" x2=\"3859.02\" y2=\"2014.84\" style=\"stroke:#EAF2F3;stroke-width:8.64\"/>\n",
       "\t<line x1=\"390.80\" y1=\"1410.42\" x2=\"3859.02\" y2=\"1410.42\" style=\"stroke:#EAF2F3;stroke-width:8.64\"/>\n",
       "\t<line x1=\"390.80\" y1=\"806.01\" x2=\"3859.02\" y2=\"806.01\" style=\"stroke:#EAF2F3;stroke-width:8.64\"/>\n",
       "\t<line x1=\"390.80\" y1=\"201.60\" x2=\"3859.02\" y2=\"201.60\" style=\"stroke:#EAF2F3;stroke-width:8.64\"/>\n",
       "\t<rect x=\"572.47\" y=\"2036.12\" width=\"404.29\" height=\"583.13\" style=\"fill:#800080\"/>\n",
       "\t<rect x=\"575.35\" y=\"2039.00\" width=\"398.53\" height=\"577.37\" style=\"fill:none;stroke:#800080;stroke-width:5.76\"/>\n",
       "\t<rect x=\"1247.65\" y=\"1864.60\" width=\"404.29\" height=\"754.65\" style=\"fill:#800080\"/>\n",
       "\t<rect x=\"1250.53\" y=\"1867.48\" width=\"398.53\" height=\"748.89\" style=\"fill:none;stroke:#800080;stroke-width:5.76\"/>\n",
       "\t<rect x=\"1922.83\" y=\"1590.24\" width=\"404.29\" height=\"1029.01\" style=\"fill:#800080\"/>\n",
       "\t<rect x=\"1925.71\" y=\"1593.12\" width=\"398.53\" height=\"1023.25\" style=\"fill:none;stroke:#800080;stroke-width:5.76\"/>\n",
       "\t<rect x=\"2598.01\" y=\"1110.07\" width=\"404.29\" height=\"1509.18\" style=\"fill:#800080\"/>\n",
       "\t<rect x=\"2600.89\" y=\"1112.95\" width=\"398.53\" height=\"1503.42\" style=\"fill:none;stroke:#800080;stroke-width:5.76\"/>\n",
       "\t<rect x=\"3273.19\" y=\"355.42\" width=\"404.29\" height=\"2263.83\" style=\"fill:#800080\"/>\n",
       "\t<rect x=\"3276.07\" y=\"358.30\" width=\"398.53\" height=\"2258.07\" style=\"fill:none;stroke:#800080;stroke-width:5.76\"/>\n",
       "\t<text x=\"774.55\" y=\"1984.19\" style=\"font-family:'Helvetica';font-size:79.94px;fill:#000000\" text-anchor=\"middle\">9647.5</text>\n",
       "\t<text x=\"1449.73\" y=\"1812.67\" style=\"font-family:'Helvetica';font-size:79.94px;fill:#000000\" text-anchor=\"middle\">12485</text>\n",
       "\t<text x=\"2124.91\" y=\"1538.30\" style=\"font-family:'Helvetica';font-size:79.94px;fill:#000000\" text-anchor=\"middle\">17025</text>\n",
       "\t<text x=\"2800.09\" y=\"1058.02\" style=\"font-family:'Helvetica';font-size:79.94px;fill:#000000\" text-anchor=\"middle\">24970</text>\n",
       "\t<text x=\"3475.27\" y=\"303.49\" style=\"font-family:'Helvetica';font-size:79.94px;fill:#000000\" text-anchor=\"middle\">37455</text>\n",
       "\t<line x1=\"390.80\" y1=\"2619.25\" x2=\"390.80\" y2=\"100.86\" style=\"stroke:#000000;stroke-width:5.76\"/>\n",
       "\t<line x1=\"390.80\" y1=\"2619.25\" x2=\"350.83\" y2=\"2619.25\" style=\"stroke:#000000;stroke-width:5.76\"/>\n",
       "\t<text x=\"300.72\" y=\"2619.25\" style=\"font-family:'Helvetica';font-size:99.99px;fill:#000000\" transform=\"rotate(-90 300.72,2619.25)\" text-anchor=\"middle\">0</text>\n",
       "\t<line x1=\"390.80\" y1=\"2014.84\" x2=\"350.83\" y2=\"2014.84\" style=\"stroke:#000000;stroke-width:5.76\"/>\n",
       "\t<text x=\"300.72\" y=\"2014.84\" style=\"font-family:'Helvetica';font-size:99.99px;fill:#000000\" transform=\"rotate(-90 300.72,2014.84)\" text-anchor=\"middle\">10,000</text>\n",
       "\t<line x1=\"390.80\" y1=\"1410.42\" x2=\"350.83\" y2=\"1410.42\" style=\"stroke:#000000;stroke-width:5.76\"/>\n",
       "\t<text x=\"300.72\" y=\"1410.42\" style=\"font-family:'Helvetica';font-size:99.99px;fill:#000000\" transform=\"rotate(-90 300.72,1410.42)\" text-anchor=\"middle\">20,000</text>\n",
       "\t<line x1=\"390.80\" y1=\"806.01\" x2=\"350.83\" y2=\"806.01\" style=\"stroke:#000000;stroke-width:5.76\"/>\n",
       "\t<text x=\"300.72\" y=\"806.01\" style=\"font-family:'Helvetica';font-size:99.99px;fill:#000000\" transform=\"rotate(-90 300.72,806.01)\" text-anchor=\"middle\">30,000</text>\n",
       "\t<line x1=\"390.80\" y1=\"201.60\" x2=\"350.83\" y2=\"201.60\" style=\"stroke:#000000;stroke-width:5.76\"/>\n",
       "\t<text x=\"300.72\" y=\"201.60\" style=\"font-family:'Helvetica';font-size:99.99px;fill:#000000\" transform=\"rotate(-90 300.72,201.60)\" text-anchor=\"middle\">40,000</text>\n",
       "\t<text x=\"190.71\" y=\"1360.06\" style=\"font-family:'Helvetica';font-size:99.99px;fill:#000000\" transform=\"rotate(-90 190.71,1360.06)\" text-anchor=\"middle\">Medianinkomst i dollar</text>\n",
       "\t<line x1=\"390.80\" y1=\"2619.25\" x2=\"3859.02\" y2=\"2619.25\" style=\"stroke:#000000;stroke-width:5.76\"/>\n",
       "\t<text x=\"774.55\" y=\"2729.16\" style=\"font-family:'Helvetica';font-size:99.99px;fill:#000000\" text-anchor=\"middle\">lt high school</text>\n",
       "\t<text x=\"1449.73\" y=\"2729.16\" style=\"font-family:'Helvetica';font-size:99.99px;fill:#000000\" text-anchor=\"middle\">high school</text>\n",
       "\t<text x=\"2124.91\" y=\"2729.16\" style=\"font-family:'Helvetica';font-size:99.99px;fill:#000000\" text-anchor=\"middle\">junior college</text>\n",
       "\t<text x=\"2800.09\" y=\"2729.16\" style=\"font-family:'Helvetica';font-size:99.99px;fill:#000000\" text-anchor=\"middle\">bachelor</text>\n",
       "\t<text x=\"3475.27\" y=\"2729.16\" style=\"font-family:'Helvetica';font-size:99.99px;fill:#000000\" text-anchor=\"middle\">graduate</text>\n",
       "</svg>\n"
      ],
      "text/plain": [
       "This front-end cannot display the desired image type."
      ]
     },
     "metadata": {
      "image/svg+xml": {
       "height": 436,
       "width": 600
      }
     },
     "output_type": "display_data"
    }
   ],
   "source": [
    "graph bar (median) realrinc, over(degree) blabel(bar) ytitle(\"Medianinkomst i dollar\") bar(1, color(purple))"
   ]
  },
  {
   "cell_type": "markdown",
   "metadata": {},
   "source": [
    "Now we can see the pattern even more clearly. Those with a graduate degree earn almost four times as much on average as those with the lowest level of education.\n",
    "\n",
    "## Conclusion\n",
    "\n",
    "As with all graphs you can spend infinite time on polishing them to get them exactly the way you want. But one can get really far with just a few adjustments as well. A nice bar chart often does wonders to show the main tendencies in a dataset (and are generally more readable to a lay audience than a scatterplot)."
   ]
  }
 ],
 "metadata": {
  "kernelspec": {
   "display_name": "Stata",
   "language": "stata",
   "name": "stata"
  },
  "language_info": {
   "file_extension": ".do",
   "mimetype": "text/x-stata",
   "name": "stata"
  }
 },
 "nbformat": 4,
 "nbformat_minor": 2
}
