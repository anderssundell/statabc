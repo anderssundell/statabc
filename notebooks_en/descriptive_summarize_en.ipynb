{
 "cells": [
  {
   "cell_type": "markdown",
   "metadata": {},
   "source": [
    "# Simple descriptive statistics\n",
    "\n",
    "[Svensk version](../sv/descriptive_summarize_sv.html) | [Front page](../index_en.html)\n",
    "\n",
    "The first thing one should do when working with a dataset is to get acquainted with the relevant variables. How many observations do we have information about? What is the distribution of the values? What are the measures of central tendency, such as the mean or the median? What are the minimum and maximums?\n",
    "\n",
    "We need this information both to improve and to interepret our analyses, and they also make it easier to put the results in context when writing about them. The empirical sections of theses or scientific papers often (at least in the social sciences) begin with some simpler descriptive statistics.\n",
    "\n",
    "There are many commands in Stata for producing such statistics. We will here discuss some of the simplest and most useful.\n",
    "\n",
    "We will in the examples work with the <a href=\"https://qog.pol.gu.se/data/datadownloads/qogbasicdata\" target=_blank>QoG basic dataset</a>, which has information about the world's countries. Below I load the data directly from the web page, but we can also download the data and load it from the computer instead (generally advisable)."
   ]
  },
  {
   "cell_type": "code",
   "execution_count": 2,
   "metadata": {},
   "outputs": [
    {
     "name": "stdout",
     "output_type": "stream",
     "text": [
      "(Quality of Government Basic dataset 2018 - Cross-Section)\n"
     ]
    }
   ],
   "source": [
    "use \"https://www.qogdata.pol.gu.se/dataarchive/qog_bas_cs_jan18.dta\", clear"
   ]
  },
  {
   "cell_type": "markdown",
   "metadata": {},
   "source": [
    "## Codebook\n",
    "\n",
    "The command `codebook` gives an overview of a variable: how many observations that have valid values, what the labels of the values are (if there are any), and more. We will here try it out on the variable \"fh_status\", that shows how free a country is, according to the American organization Freedom House."
   ]
  },
  {
   "cell_type": "code",
   "execution_count": 3,
   "metadata": {},
   "outputs": [
    {
     "name": "stdout",
     "output_type": "stream",
     "text": [
      "\n",
      "---------------------------------------------------------------------------------------------------------------------------------------------------------------------------------------------------------------------------------------------------------------\n",
      "fh_status                                                                                                                                                                                                                                        Freedom Status\n",
      "---------------------------------------------------------------------------------------------------------------------------------------------------------------------------------------------------------------------------------------------------------------\n",
      "\n",
      "                  type:  numeric (byte)\n",
      "                 label:  lblfhstatus\n",
      "\n",
      "                 range:  [1,3]                        units:  1\n",
      "         unique values:  3                        missing .:  0/194\n",
      "\n",
      "            tabulation:  Freq.   Numeric  Label\n",
      "                            89         1  Free\n",
      "                            54         2  Partly Free\n",
      "                            51         3  Not Free\n"
     ]
    }
   ],
   "source": [
    "codebook fh_status"
   ]
  },
  {
   "cell_type": "markdown",
   "metadata": {},
   "source": [
    "After \"type\" we can see that it is a numeric variable, meaning that the values are numbers, not text strings. However, the numbers represent qualitiative assessments, such as \"Free\" or \"Partly free\".\n",
    "\n",
    "The range is \"1,3\" which means that the variable has values that range from 1 to 3. There are also three unique (different) values in the dataset.\n",
    "\n",
    "0 out of 194 observations have a \"missing\" value, which is good. It means that we have information on all the countries in the dataset.\n",
    "\n",
    "Finally we also get a frequency table, that shows how many observations (in the column \"Freq.\") that have each value, and the label on that value (for instance \"Free\"). If we use the command `codebook` on variable that has many more unique values, the output looks a little bit different. We can for instance try it on a variable that shows GDP per capita, \"gle_rgdpc\"."
   ]
  },
  {
   "cell_type": "code",
   "execution_count": 4,
   "metadata": {},
   "outputs": [
    {
     "name": "stdout",
     "output_type": "stream",
     "text": [
      "\n",
      "---------------------------------------------------------------------------------------------------------------------------------------------------------------------------------------------------------------------------------------------------------------\n",
      "gle_rgdpc                                                                                                                                                                                                                            Real GDP per Capita (2005)\n",
      "---------------------------------------------------------------------------------------------------------------------------------------------------------------------------------------------------------------------------------------------------------------\n",
      "\n",
      "                  type:  numeric (float)\n",
      "\n",
      "                 range:  [285.95,95696.97]            units:  .01\n",
      "         unique values:  192                      missing .:  2/194\n",
      "\n",
      "                  mean:   12596.3\n",
      "              std. dev:   15803.7\n",
      "\n",
      "           percentiles:        10%       25%       50%       75%       90%\n",
      "                           1131.48   2297.41   6955.53   17127.8   32266.6\n"
     ]
    }
   ],
   "source": [
    "codebook gle_rgdpc"
   ]
  },
  {
   "cell_type": "markdown",
   "metadata": {},
   "source": [
    "A lot is the same, but here we also get the mean, the standard deviation, and different percentiles. The 50th percentile (6955.53) is also the median. An equal number of countries have a GDP per capita above and below 6955.53."
   ]
  },
  {
   "cell_type": "markdown",
   "metadata": {},
   "source": [
    "## Summarize (sum)\n",
    "\n",
    "The `summarize` command, which also can be abbreviated to `sum`, gives a little less information, and is best used on continous variables where the mean is of interest, like GDP per capita. THe nice thing about the command is that we can enter several variables at once, and get a compact table out of it. An example:"
   ]
  },
  {
   "cell_type": "code",
   "execution_count": 5,
   "metadata": {},
   "outputs": [
    {
     "name": "stdout",
     "output_type": "stream",
     "text": [
      "\n",
      "    Variable |        Obs        Mean    Std. Dev.       Min        Max\n",
      "-------------+---------------------------------------------------------\n",
      "   gle_rgdpc |        192     12596.3     15803.7     285.95   95696.97\n",
      "     gle_pop |        192    35888.69    135162.5         10    1324353\n",
      "  wdi_poprul |        193    43.20123    23.53091          0      91.45\n",
      "  wdi_popurb |        193    56.79877    23.53091       8.55        100\n"
     ]
    }
   ],
   "source": [
    "sum gle_rgdpc gle_pop wdi_poprul wdi_popurb"
   ]
  },
  {
   "cell_type": "markdown",
   "metadata": {},
   "source": [
    "In regression analysis we usually employ variables of this type, which makes the `sum` command useful. In theses or scientific papers the tables that show descriptive statistics often include these figures: number of observations, mean, standard deviation, min, and max."
   ]
  },
  {
   "cell_type": "markdown",
   "metadata": {},
   "source": [
    "## Tabulate (tab)\n",
    "\n",
    "For categorical variables, that is variables with discrete steps (without decimals), the mean is generally not very informative. The variable \"fh_status\" which we looked at previously is one of them. For these variables it is generally better with a frequency table, that lists the different values, and how many percent of the observations that fall into each category.\n",
    "\n",
    "We do that with the command `tabulate`, abbreviated `tab`."
   ]
  },
  {
   "cell_type": "code",
   "execution_count": 6,
   "metadata": {},
   "outputs": [
    {
     "name": "stdout",
     "output_type": "stream",
     "text": [
      "\n",
      "    Freedom |\n",
      "     Status |      Freq.     Percent        Cum.\n",
      "------------+-----------------------------------\n",
      "       Free |         89       45.88       45.88\n",
      "Partly Free |         54       27.84       73.71\n",
      "   Not Free |         51       26.29      100.00\n",
      "------------+-----------------------------------\n",
      "      Total |        194      100.00\n"
     ]
    }
   ],
   "source": [
    "tab fh_status"
   ]
  },
  {
   "cell_type": "markdown",
   "metadata": {},
   "source": [
    "We could see the number of observations that had each value also with `codebook`, but we are generally more interested in the percentage than the absolute number. Now we can see that almost 46% of the world's countries are categorized as \"Free\", while 26% are categorized as \"Not Free\". The final column shows the cumulative percentage, which we get by adding the percentages for the different categories together, from top to bottom. For instance, we can see that 73.71% of the countries are either \"Free\" or \"Partly free\"."
   ]
  },
  {
   "cell_type": "markdown",
   "metadata": {},
   "source": [
    "## Conclusion\n",
    "\n",
    "Which descriptive statistics we neeed to present for the reader depends, as does everything else, on what the research question is. All information that is necessary to interpret the results properly shall be included, everything unnecessary should be left out.\n",
    "\n",
    "Many times it is also useful and pedagogical to show the descriptive statistics in graphs, for instance using [histograms](histogram_en.html), which show the distrubition of a variable. See separate guides for graphs.\n",
    "\n",
    "Also remember that there are many more features to the commands showm here. Just type `help 'commandname'` to access the full documentation."
   ]
  }
 ],
 "metadata": {
  "kernelspec": {
   "display_name": "Stata",
   "language": "stata",
   "name": "stata"
  },
  "language_info": {
   "file_extension": ".do",
   "mimetype": "text/x-stata",
   "name": "stata"
  }
 },
 "nbformat": 4,
 "nbformat_minor": 4
}
