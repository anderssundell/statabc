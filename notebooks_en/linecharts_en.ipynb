{
 "cells": [
  {
   "cell_type": "markdown",
   "metadata": {},
   "source": [
    "# Line graphs"
   ]
  },
  {
   "cell_type": "markdown",
   "metadata": {},
   "source": [
    "[Svensk version](../linecharts_sv.html) | [Front page](index_en.html)\n",
    "\n",
    "Line charts are used to show different values of a variable, when the observations are connected somehow. For instance change of some variable in a country, over time. Line charts are easy to understand and seldom require any further explanation, which makes them attractive from a pedagogical point of view.\n",
    "\n",
    "We will here make a graph with the aid of the QoG Basic time series data. It holds information about the countries of the world, over time. The unit of analysis is country-year. Each country has an observation for each year. First, we load the data directly from the QoG web page:"
   ]
  },
  {
   "cell_type": "code",
   "execution_count": 1,
   "metadata": {},
   "outputs": [
    {
     "name": "stdout",
     "output_type": "stream",
     "text": [
      "(Quality of Government Basic dataset 2018 - Time-Series)\n"
     ]
    }
   ],
   "source": [
    "use \"https://www.qogdata.pol.gu.se/dataarchive/qog_bas_ts_jan18.dta\""
   ]
  },
  {
   "cell_type": "markdown",
   "metadata": {},
   "source": [
    "Our graph will show the development of GDP per capita in Sweden, with the help of the `twoway` command. The GDP variable is called \"gle_rgdpc\".\n",
    "\n",
    "It is important to bear in mind that a simple line graph only shows the value of one observation per time unit. We will therefore need to filter out all observations that are not Sweden. We ould do it by deleting all other observations from the data. But since we might want them later, we instead do the filtering within the line graph command, with the aid of [if qualifiers](ifstatements_en.html).\n",
    "\n",
    "The main structure of the command is that we write `twoway` to start the graph and then add the line graph in a layer of its own, delimited by parentheses. Within the parentheses we start with `line` and then the variable that we want on the Y axis (\"gle_rgdpc\") and then the variable we want on the X axis (\"year\"). Then we put in the if qualifier `if cname==\"Sweden\"`, which states that only observations on which the variable \"cname\" has the value \"Sweden\" are included. Then we end the parenthesis."
   ]
  },
  {
   "cell_type": "code",
   "execution_count": 2,
   "metadata": {},
   "outputs": [
    {
     "data": {
      "application/pdf": "[encoded data removed]",
      "image/svg+xml": [
       "<?xml version=\"1.0\" encoding=\"UTF-8\" standalone=\"no\"?>\n",
       "<!-- This is a Stata 16.0 generated SVG file (http://www.stata.com) -->\n",
       "\n",
       "<svg version=\"1.1\" width=\"600px\" height=\"436px\" viewBox=\"0 0 3960 2880\" xmlns=\"http://www.w3.org/2000/svg\" xmlns:xlink=\"http://www.w3.org/1999/xlink\">\n",
       "\t<desc>Stata Graph - Graph</desc>\n",
       "\t<rect x=\"0\" y=\"0\" width=\"3960\" height=\"2880\" style=\"fill:#EAF2F3;stroke:none\"/>\n",
       "\t<rect x=\"0.00\" y=\"0.00\" width=\"3959.88\" height=\"2880.00\" style=\"fill:#EAF2F3\"/>\n",
       "\t<rect x=\"2.88\" y=\"2.88\" width=\"3954.12\" height=\"2874.24\" style=\"fill:none;stroke:#EAF2F3;stroke-width:5.76\"/>\n",
       "\t<rect x=\"390.80\" y=\"100.86\" width=\"3468.22\" height=\"2388.33\" style=\"fill:#FFFFFF\"/>\n",
       "\t<rect x=\"393.68\" y=\"103.74\" width=\"3462.46\" height=\"2382.57\" style=\"fill:none;stroke:#FFFFFF;stroke-width:5.76\"/>\n",
       "\t<line x1=\"390.80\" y1=\"2319.39\" x2=\"3859.02\" y2=\"2319.39\" style=\"stroke:#EAF2F3;stroke-width:8.64\"/>\n",
       "\t<line x1=\"390.80\" y1=\"1888.36\" x2=\"3859.02\" y2=\"1888.36\" style=\"stroke:#EAF2F3;stroke-width:8.64\"/>\n",
       "\t<line x1=\"390.80\" y1=\"1457.33\" x2=\"3859.02\" y2=\"1457.33\" style=\"stroke:#EAF2F3;stroke-width:8.64\"/>\n",
       "\t<line x1=\"390.80\" y1=\"1026.29\" x2=\"3859.02\" y2=\"1026.29\" style=\"stroke:#EAF2F3;stroke-width:8.64\"/>\n",
       "\t<line x1=\"390.80\" y1=\"595.26\" x2=\"3859.02\" y2=\"595.26\" style=\"stroke:#EAF2F3;stroke-width:8.64\"/>\n",
       "\t<line x1=\"390.80\" y1=\"164.22\" x2=\"3859.02\" y2=\"164.22\" style=\"stroke:#EAF2F3;stroke-width:8.64\"/>\n",
       "\t<path d=\" M871.82 2425.95 L913.52 2402.68 L955.35 2399.96 L997.05 2377.06 L1038.88 2340.43 L1080.59 2321.99 L1122.41 2299.97 L1164.12 2289.20 L1205.94 2276.95 L1247.65 2233.26 L1289.47 2207.15 L1331.30 2155.17 L1373.01 2121.39 L1414.83 2073.99 L1456.54 2000.48 L1498.37 1978.21 L1540.07 1971.77 L1581.90 1937.74 L1623.60 1899.25 L1665.43 1847.89 L1707.13 1771.78 L1748.96 1758.91 L1790.66 1720.67 L1832.49 1653.48 L1874.19 1632.93 L1916.02 1623.53 L1957.85 1626.25 L1999.55 1668.70 L2041.38 1631.20 L2083.08 1617.59 L2124.91 1628.23 L2166.61 1624.76 L2208.44 1609.17 L2250.15 1562.39 L2291.97 1492.35 L2333.68 1456.95 L2375.51 1339.76 L2417.21 1261.92 L2459.04 1193.98 L2500.74 1151.78 L2542.57 1133.09 L2584.39 1161.93 L2626.10 1182.72 L2667.93 1267.12 L2709.63 1163.41 L2751.46 1029.01 L2793.16 980.13 L2834.99 926.05 L2876.69 840.41 L2918.52 701.68 L2960.22 491.43 L3002.05 556.64 L3043.76 530.16 L3085.58 466.06 L3127.29 362.10 L3169.11 402.94 L3210.94 358.64 L3252.64 259.39 L3294.47 291.69 L3336.18 434.99 L3378.00 282.53 L3419.71 215.58\" stroke-linejoin=\"round\" style=\"fill:none;stroke:#1A476F;stroke-width:8.64\"/>\n",
       "\t<line x1=\"390.80\" y1=\"2489.19\" x2=\"390.80\" y2=\"100.86\" style=\"stroke:#000000;stroke-width:5.76\"/>\n",
       "\t<line x1=\"390.80\" y1=\"2319.39\" x2=\"350.83\" y2=\"2319.39\" style=\"stroke:#000000;stroke-width:5.76\"/>\n",
       "\t<text x=\"300.72\" y=\"2319.39\" style=\"font-family:'Helvetica';font-size:99.99px;fill:#000000\" transform=\"rotate(-90 300.72,2319.39)\" text-anchor=\"middle\">10000</text>\n",
       "\t<line x1=\"390.80\" y1=\"1888.36\" x2=\"350.83\" y2=\"1888.36\" style=\"stroke:#000000;stroke-width:5.76\"/>\n",
       "\t<text x=\"300.72\" y=\"1888.36\" style=\"font-family:'Helvetica';font-size:99.99px;fill:#000000\" transform=\"rotate(-90 300.72,1888.36)\" text-anchor=\"middle\">15000</text>\n",
       "\t<line x1=\"390.80\" y1=\"1457.33\" x2=\"350.83\" y2=\"1457.33\" style=\"stroke:#000000;stroke-width:5.76\"/>\n",
       "\t<text x=\"300.72\" y=\"1457.33\" style=\"font-family:'Helvetica';font-size:99.99px;fill:#000000\" transform=\"rotate(-90 300.72,1457.33)\" text-anchor=\"middle\">20000</text>\n",
       "\t<line x1=\"390.80\" y1=\"1026.29\" x2=\"350.83\" y2=\"1026.29\" style=\"stroke:#000000;stroke-width:5.76\"/>\n",
       "\t<text x=\"300.72\" y=\"1026.29\" style=\"font-family:'Helvetica';font-size:99.99px;fill:#000000\" transform=\"rotate(-90 300.72,1026.29)\" text-anchor=\"middle\">25000</text>\n",
       "\t<line x1=\"390.80\" y1=\"595.26\" x2=\"350.83\" y2=\"595.26\" style=\"stroke:#000000;stroke-width:5.76\"/>\n",
       "\t<text x=\"300.72\" y=\"595.26\" style=\"font-family:'Helvetica';font-size:99.99px;fill:#000000\" transform=\"rotate(-90 300.72,595.26)\" text-anchor=\"middle\">30000</text>\n",
       "\t<line x1=\"390.80\" y1=\"164.22\" x2=\"350.83\" y2=\"164.22\" style=\"stroke:#000000;stroke-width:5.76\"/>\n",
       "\t<text x=\"300.72\" y=\"164.22\" style=\"font-family:'Helvetica';font-size:99.99px;fill:#000000\" transform=\"rotate(-90 300.72,164.22)\" text-anchor=\"middle\">35000</text>\n",
       "\t<text x=\"190.71\" y=\"1294.96\" style=\"font-family:'Helvetica';font-size:99.99px;fill:#000000\" transform=\"rotate(-90 190.71,1294.96)\" text-anchor=\"middle\">Real GDP per Capita (2005)</text>\n",
       "\t<line x1=\"390.80\" y1=\"2489.19\" x2=\"3859.02\" y2=\"2489.19\" style=\"stroke:#000000;stroke-width:5.76\"/>\n",
       "\t<line x1=\"454.16\" y1=\"2489.19\" x2=\"454.16\" y2=\"2529.16\" style=\"stroke:#000000;stroke-width:5.76\"/>\n",
       "\t<text x=\"454.16\" y=\"2619.14\" style=\"font-family:'Helvetica';font-size:99.99px;fill:#000000\" text-anchor=\"middle\">1940</text>\n",
       "\t<line x1=\"1289.47\" y1=\"2489.19\" x2=\"1289.47\" y2=\"2529.16\" style=\"stroke:#000000;stroke-width:5.76\"/>\n",
       "\t<text x=\"1289.47\" y=\"2619.14\" style=\"font-family:'Helvetica';font-size:99.99px;fill:#000000\" text-anchor=\"middle\">1960</text>\n",
       "\t<line x1=\"2124.91\" y1=\"2489.19\" x2=\"2124.91\" y2=\"2529.16\" style=\"stroke:#000000;stroke-width:5.76\"/>\n",
       "\t<text x=\"2124.91\" y=\"2619.14\" style=\"font-family:'Helvetica';font-size:99.99px;fill:#000000\" text-anchor=\"middle\">1980</text>\n",
       "\t<line x1=\"2960.35\" y1=\"2489.19\" x2=\"2960.35\" y2=\"2529.16\" style=\"stroke:#000000;stroke-width:5.76\"/>\n",
       "\t<text x=\"2960.35\" y=\"2619.14\" style=\"font-family:'Helvetica';font-size:99.99px;fill:#000000\" text-anchor=\"middle\">2000</text>\n",
       "\t<line x1=\"3795.66\" y1=\"2489.19\" x2=\"3795.66\" y2=\"2529.16\" style=\"stroke:#000000;stroke-width:5.76\"/>\n",
       "\t<text x=\"3795.66\" y=\"2619.14\" style=\"font-family:'Helvetica';font-size:99.99px;fill:#000000\" text-anchor=\"middle\">2020</text>\n",
       "\t<text x=\"2124.91\" y=\"2729.16\" style=\"font-family:'Helvetica';font-size:99.99px;fill:#000000\" text-anchor=\"middle\">Year</text>\n",
       "</svg>\n"
      ],
      "text/html": [
       "                <iframe frameborder=\"0\" scrolling=\"no\" height=\"436\" width=\"600\"                srcdoc=\"<html><body>&lt;?xml version=&quot;1.0&quot; encoding=&quot;UTF-8&quot; standalone=&quot;no&quot;?&gt;\n",
       "&lt;!-- This is a Stata 16.0 generated SVG file (http://www.stata.com) --&gt;\n",
       "\n",
       "&lt;svg version=&quot;1.1&quot; width=&quot;600px&quot; height=&quot;436px&quot; viewBox=&quot;0 0 3960 2880&quot; xmlns=&quot;http://www.w3.org/2000/svg&quot; xmlns:xlink=&quot;http://www.w3.org/1999/xlink&quot;&gt;\n",
       "\t&lt;desc&gt;Stata Graph - Graph&lt;/desc&gt;\n",
       "\t&lt;rect x=&quot;0&quot; y=&quot;0&quot; width=&quot;3960&quot; height=&quot;2880&quot; style=&quot;fill:#EAF2F3;stroke:none&quot;/&gt;\n",
       "\t&lt;rect x=&quot;0.00&quot; y=&quot;0.00&quot; width=&quot;3959.88&quot; height=&quot;2880.00&quot; style=&quot;fill:#EAF2F3&quot;/&gt;\n",
       "\t&lt;rect x=&quot;2.88&quot; y=&quot;2.88&quot; width=&quot;3954.12&quot; height=&quot;2874.24&quot; style=&quot;fill:none;stroke:#EAF2F3;stroke-width:5.76&quot;/&gt;\n",
       "\t&lt;rect x=&quot;390.80&quot; y=&quot;100.86&quot; width=&quot;3468.22&quot; height=&quot;2388.33&quot; style=&quot;fill:#FFFFFF&quot;/&gt;\n",
       "\t&lt;rect x=&quot;393.68&quot; y=&quot;103.74&quot; width=&quot;3462.46&quot; height=&quot;2382.57&quot; style=&quot;fill:none;stroke:#FFFFFF;stroke-width:5.76&quot;/&gt;\n",
       "\t&lt;line x1=&quot;390.80&quot; y1=&quot;2319.39&quot; x2=&quot;3859.02&quot; y2=&quot;2319.39&quot; style=&quot;stroke:#EAF2F3;stroke-width:8.64&quot;/&gt;\n",
       "\t&lt;line x1=&quot;390.80&quot; y1=&quot;1888.36&quot; x2=&quot;3859.02&quot; y2=&quot;1888.36&quot; style=&quot;stroke:#EAF2F3;stroke-width:8.64&quot;/&gt;\n",
       "\t&lt;line x1=&quot;390.80&quot; y1=&quot;1457.33&quot; x2=&quot;3859.02&quot; y2=&quot;1457.33&quot; style=&quot;stroke:#EAF2F3;stroke-width:8.64&quot;/&gt;\n",
       "\t&lt;line x1=&quot;390.80&quot; y1=&quot;1026.29&quot; x2=&quot;3859.02&quot; y2=&quot;1026.29&quot; style=&quot;stroke:#EAF2F3;stroke-width:8.64&quot;/&gt;\n",
       "\t&lt;line x1=&quot;390.80&quot; y1=&quot;595.26&quot; x2=&quot;3859.02&quot; y2=&quot;595.26&quot; style=&quot;stroke:#EAF2F3;stroke-width:8.64&quot;/&gt;\n",
       "\t&lt;line x1=&quot;390.80&quot; y1=&quot;164.22&quot; x2=&quot;3859.02&quot; y2=&quot;164.22&quot; style=&quot;stroke:#EAF2F3;stroke-width:8.64&quot;/&gt;\n",
       "\t&lt;path d=&quot; M871.82 2425.95 L913.52 2402.68 L955.35 2399.96 L997.05 2377.06 L1038.88 2340.43 L1080.59 2321.99 L1122.41 2299.97 L1164.12 2289.20 L1205.94 2276.95 L1247.65 2233.26 L1289.47 2207.15 L1331.30 2155.17 L1373.01 2121.39 L1414.83 2073.99 L1456.54 2000.48 L1498.37 1978.21 L1540.07 1971.77 L1581.90 1937.74 L1623.60 1899.25 L1665.43 1847.89 L1707.13 1771.78 L1748.96 1758.91 L1790.66 1720.67 L1832.49 1653.48 L1874.19 1632.93 L1916.02 1623.53 L1957.85 1626.25 L1999.55 1668.70 L2041.38 1631.20 L2083.08 1617.59 L2124.91 1628.23 L2166.61 1624.76 L2208.44 1609.17 L2250.15 1562.39 L2291.97 1492.35 L2333.68 1456.95 L2375.51 1339.76 L2417.21 1261.92 L2459.04 1193.98 L2500.74 1151.78 L2542.57 1133.09 L2584.39 1161.93 L2626.10 1182.72 L2667.93 1267.12 L2709.63 1163.41 L2751.46 1029.01 L2793.16 980.13 L2834.99 926.05 L2876.69 840.41 L2918.52 701.68 L2960.22 491.43 L3002.05 556.64 L3043.76 530.16 L3085.58 466.06 L3127.29 362.10 L3169.11 402.94 L3210.94 358.64 L3252.64 259.39 L3294.47 291.69 L3336.18 434.99 L3378.00 282.53 L3419.71 215.58&quot; stroke-linejoin=&quot;round&quot; style=&quot;fill:none;stroke:#1A476F;stroke-width:8.64&quot;/&gt;\n",
       "\t&lt;line x1=&quot;390.80&quot; y1=&quot;2489.19&quot; x2=&quot;390.80&quot; y2=&quot;100.86&quot; style=&quot;stroke:#000000;stroke-width:5.76&quot;/&gt;\n",
       "\t&lt;line x1=&quot;390.80&quot; y1=&quot;2319.39&quot; x2=&quot;350.83&quot; y2=&quot;2319.39&quot; style=&quot;stroke:#000000;stroke-width:5.76&quot;/&gt;\n",
       "\t&lt;text x=&quot;300.72&quot; y=&quot;2319.39&quot; style=&quot;font-family:&#x27;Helvetica&#x27;;font-size:99.99px;fill:#000000&quot; transform=&quot;rotate(-90 300.72,2319.39)&quot; text-anchor=&quot;middle&quot;&gt;10000&lt;/text&gt;\n",
       "\t&lt;line x1=&quot;390.80&quot; y1=&quot;1888.36&quot; x2=&quot;350.83&quot; y2=&quot;1888.36&quot; style=&quot;stroke:#000000;stroke-width:5.76&quot;/&gt;\n",
       "\t&lt;text x=&quot;300.72&quot; y=&quot;1888.36&quot; style=&quot;font-family:&#x27;Helvetica&#x27;;font-size:99.99px;fill:#000000&quot; transform=&quot;rotate(-90 300.72,1888.36)&quot; text-anchor=&quot;middle&quot;&gt;15000&lt;/text&gt;\n",
       "\t&lt;line x1=&quot;390.80&quot; y1=&quot;1457.33&quot; x2=&quot;350.83&quot; y2=&quot;1457.33&quot; style=&quot;stroke:#000000;stroke-width:5.76&quot;/&gt;\n",
       "\t&lt;text x=&quot;300.72&quot; y=&quot;1457.33&quot; style=&quot;font-family:&#x27;Helvetica&#x27;;font-size:99.99px;fill:#000000&quot; transform=&quot;rotate(-90 300.72,1457.33)&quot; text-anchor=&quot;middle&quot;&gt;20000&lt;/text&gt;\n",
       "\t&lt;line x1=&quot;390.80&quot; y1=&quot;1026.29&quot; x2=&quot;350.83&quot; y2=&quot;1026.29&quot; style=&quot;stroke:#000000;stroke-width:5.76&quot;/&gt;\n",
       "\t&lt;text x=&quot;300.72&quot; y=&quot;1026.29&quot; style=&quot;font-family:&#x27;Helvetica&#x27;;font-size:99.99px;fill:#000000&quot; transform=&quot;rotate(-90 300.72,1026.29)&quot; text-anchor=&quot;middle&quot;&gt;25000&lt;/text&gt;\n",
       "\t&lt;line x1=&quot;390.80&quot; y1=&quot;595.26&quot; x2=&quot;350.83&quot; y2=&quot;595.26&quot; style=&quot;stroke:#000000;stroke-width:5.76&quot;/&gt;\n",
       "\t&lt;text x=&quot;300.72&quot; y=&quot;595.26&quot; style=&quot;font-family:&#x27;Helvetica&#x27;;font-size:99.99px;fill:#000000&quot; transform=&quot;rotate(-90 300.72,595.26)&quot; text-anchor=&quot;middle&quot;&gt;30000&lt;/text&gt;\n",
       "\t&lt;line x1=&quot;390.80&quot; y1=&quot;164.22&quot; x2=&quot;350.83&quot; y2=&quot;164.22&quot; style=&quot;stroke:#000000;stroke-width:5.76&quot;/&gt;\n",
       "\t&lt;text x=&quot;300.72&quot; y=&quot;164.22&quot; style=&quot;font-family:&#x27;Helvetica&#x27;;font-size:99.99px;fill:#000000&quot; transform=&quot;rotate(-90 300.72,164.22)&quot; text-anchor=&quot;middle&quot;&gt;35000&lt;/text&gt;\n",
       "\t&lt;text x=&quot;190.71&quot; y=&quot;1294.96&quot; style=&quot;font-family:&#x27;Helvetica&#x27;;font-size:99.99px;fill:#000000&quot; transform=&quot;rotate(-90 190.71,1294.96)&quot; text-anchor=&quot;middle&quot;&gt;Real GDP per Capita (2005)&lt;/text&gt;\n",
       "\t&lt;line x1=&quot;390.80&quot; y1=&quot;2489.19&quot; x2=&quot;3859.02&quot; y2=&quot;2489.19&quot; style=&quot;stroke:#000000;stroke-width:5.76&quot;/&gt;\n",
       "\t&lt;line x1=&quot;454.16&quot; y1=&quot;2489.19&quot; x2=&quot;454.16&quot; y2=&quot;2529.16&quot; style=&quot;stroke:#000000;stroke-width:5.76&quot;/&gt;\n",
       "\t&lt;text x=&quot;454.16&quot; y=&quot;2619.14&quot; style=&quot;font-family:&#x27;Helvetica&#x27;;font-size:99.99px;fill:#000000&quot; text-anchor=&quot;middle&quot;&gt;1940&lt;/text&gt;\n",
       "\t&lt;line x1=&quot;1289.47&quot; y1=&quot;2489.19&quot; x2=&quot;1289.47&quot; y2=&quot;2529.16&quot; style=&quot;stroke:#000000;stroke-width:5.76&quot;/&gt;\n",
       "\t&lt;text x=&quot;1289.47&quot; y=&quot;2619.14&quot; style=&quot;font-family:&#x27;Helvetica&#x27;;font-size:99.99px;fill:#000000&quot; text-anchor=&quot;middle&quot;&gt;1960&lt;/text&gt;\n",
       "\t&lt;line x1=&quot;2124.91&quot; y1=&quot;2489.19&quot; x2=&quot;2124.91&quot; y2=&quot;2529.16&quot; style=&quot;stroke:#000000;stroke-width:5.76&quot;/&gt;\n",
       "\t&lt;text x=&quot;2124.91&quot; y=&quot;2619.14&quot; style=&quot;font-family:&#x27;Helvetica&#x27;;font-size:99.99px;fill:#000000&quot; text-anchor=&quot;middle&quot;&gt;1980&lt;/text&gt;\n",
       "\t&lt;line x1=&quot;2960.35&quot; y1=&quot;2489.19&quot; x2=&quot;2960.35&quot; y2=&quot;2529.16&quot; style=&quot;stroke:#000000;stroke-width:5.76&quot;/&gt;\n",
       "\t&lt;text x=&quot;2960.35&quot; y=&quot;2619.14&quot; style=&quot;font-family:&#x27;Helvetica&#x27;;font-size:99.99px;fill:#000000&quot; text-anchor=&quot;middle&quot;&gt;2000&lt;/text&gt;\n",
       "\t&lt;line x1=&quot;3795.66&quot; y1=&quot;2489.19&quot; x2=&quot;3795.66&quot; y2=&quot;2529.16&quot; style=&quot;stroke:#000000;stroke-width:5.76&quot;/&gt;\n",
       "\t&lt;text x=&quot;3795.66&quot; y=&quot;2619.14&quot; style=&quot;font-family:&#x27;Helvetica&#x27;;font-size:99.99px;fill:#000000&quot; text-anchor=&quot;middle&quot;&gt;2020&lt;/text&gt;\n",
       "\t&lt;text x=&quot;2124.91&quot; y=&quot;2729.16&quot; style=&quot;font-family:&#x27;Helvetica&#x27;;font-size:99.99px;fill:#000000&quot; text-anchor=&quot;middle&quot;&gt;Year&lt;/text&gt;\n",
       "&lt;/svg&gt;\n",
       "</body></html>\"></iframe>\n"
      ],
      "text/plain": [
       "This front-end cannot display the desired image type."
      ]
     },
     "metadata": {
      "image/svg+xml": {
       "height": 436,
       "width": 600
      },
      "text/html": {
       "height": 436,
       "width": 600
      }
     },
     "output_type": "display_data"
    }
   ],
   "source": [
    "twoway (line gle_rgdpc year if cname==\"Sweden\")"
   ]
  },
  {
   "cell_type": "markdown",
   "metadata": {},
   "source": [
    "Neat! We can see that GDP per capita has increased over time in Sweden, with some setbacks, like the big economic crisis in the 90's and the financial crisis 2009.\n",
    "\n",
    "## A common error: Observations are in the wrong order\n",
    "Sometimes when we make a line graph we get the following result:"
   ]
  },
  {
   "cell_type": "code",
   "execution_count": 4,
   "metadata": {},
   "outputs": [
    {
     "data": {
      "application/pdf": "[encoded data removed]",
      "image/svg+xml": [
       "<?xml version=\"1.0\" encoding=\"UTF-8\" standalone=\"no\"?>\n",
       "<!-- This is a Stata 16.0 generated SVG file (http://www.stata.com) -->\n",
       "\n",
       "<svg version=\"1.1\" width=\"600px\" height=\"436px\" viewBox=\"0 0 3960 2880\" xmlns=\"http://www.w3.org/2000/svg\" xmlns:xlink=\"http://www.w3.org/1999/xlink\">\n",
       "\t<desc>Stata Graph - Graph</desc>\n",
       "\t<rect x=\"0\" y=\"0\" width=\"3960\" height=\"2880\" style=\"fill:#EAF2F3;stroke:none\"/>\n",
       "\t<rect x=\"0.00\" y=\"0.00\" width=\"3959.88\" height=\"2880.00\" style=\"fill:#EAF2F3\"/>\n",
       "\t<rect x=\"2.88\" y=\"2.88\" width=\"3954.12\" height=\"2874.24\" style=\"fill:none;stroke:#EAF2F3;stroke-width:5.76\"/>\n",
       "\t<rect x=\"390.80\" y=\"100.86\" width=\"3468.22\" height=\"2388.33\" style=\"fill:#FFFFFF\"/>\n",
       "\t<rect x=\"393.68\" y=\"103.74\" width=\"3462.46\" height=\"2382.57\" style=\"fill:none;stroke:#FFFFFF;stroke-width:5.76\"/>\n",
       "\t<line x1=\"390.80\" y1=\"2319.39\" x2=\"3859.02\" y2=\"2319.39\" style=\"stroke:#EAF2F3;stroke-width:8.64\"/>\n",
       "\t<line x1=\"390.80\" y1=\"1888.36\" x2=\"3859.02\" y2=\"1888.36\" style=\"stroke:#EAF2F3;stroke-width:8.64\"/>\n",
       "\t<line x1=\"390.80\" y1=\"1457.33\" x2=\"3859.02\" y2=\"1457.33\" style=\"stroke:#EAF2F3;stroke-width:8.64\"/>\n",
       "\t<line x1=\"390.80\" y1=\"1026.29\" x2=\"3859.02\" y2=\"1026.29\" style=\"stroke:#EAF2F3;stroke-width:8.64\"/>\n",
       "\t<line x1=\"390.80\" y1=\"595.26\" x2=\"3859.02\" y2=\"595.26\" style=\"stroke:#EAF2F3;stroke-width:8.64\"/>\n",
       "\t<line x1=\"390.80\" y1=\"164.22\" x2=\"3859.02\" y2=\"164.22\" style=\"stroke:#EAF2F3;stroke-width:8.64\"/>\n",
       "\t<path d=\" M2751.46 1029.01 L3002.05 556.64 L2793.16 980.13 L3378.00 282.53 L3127.29 362.10 L3169.11 402.94 L3336.18 434.99 L3210.94 358.64 L3419.71 215.58 L3252.64 259.39 L3085.58 466.06 L3043.76 530.16 L3294.47 291.69 L2834.99 926.05 L2960.22 491.43 L2918.52 701.68 L2876.69 840.41 L1080.59 2321.99 L1289.47 2207.15 L2166.61 1624.76 L2459.04 1193.98 L2667.93 1267.12 L955.35 2399.96 L2333.68 1456.95 L871.82 2425.95 L1498.37 1978.21 L913.52 2402.68 L1247.65 2233.26 L1205.94 2276.95 L1790.66 1720.67 L1832.49 1653.48 L1957.85 1626.25 L2083.08 1617.59 L2417.21 1261.92 L2500.74 1151.78 L2584.39 1161.93 L1122.41 2299.97 L997.05 2377.06 L1540.07 1971.77 L2291.97 1492.35 L1874.19 1632.93 L2041.38 1631.20 L1373.01 2121.39 L2208.44 1609.17 L2542.57 1133.09 L1038.88 2340.43 L1916.02 1623.53 L1748.96 1758.91 L1456.54 2000.48 L2375.51 1339.76 L1623.60 1899.25 L1414.83 2073.99 L1665.43 1847.89 L1707.13 1771.78 L2124.91 1628.23 L1581.90 1937.74 L1331.30 2155.17 L1999.55 1668.70 L2626.10 1182.72 L2709.63 1163.41 L2250.15 1562.39 L1164.12 2289.20\" stroke-linejoin=\"round\" style=\"fill:none;stroke:#1A476F;stroke-width:8.64\"/>\n",
       "\t<line x1=\"390.80\" y1=\"2489.19\" x2=\"390.80\" y2=\"100.86\" style=\"stroke:#000000;stroke-width:5.76\"/>\n",
       "\t<line x1=\"390.80\" y1=\"2319.39\" x2=\"350.83\" y2=\"2319.39\" style=\"stroke:#000000;stroke-width:5.76\"/>\n",
       "\t<text x=\"300.72\" y=\"2319.39\" style=\"font-family:'Helvetica';font-size:99.99px;fill:#000000\" transform=\"rotate(-90 300.72,2319.39)\" text-anchor=\"middle\">10000</text>\n",
       "\t<line x1=\"390.80\" y1=\"1888.36\" x2=\"350.83\" y2=\"1888.36\" style=\"stroke:#000000;stroke-width:5.76\"/>\n",
       "\t<text x=\"300.72\" y=\"1888.36\" style=\"font-family:'Helvetica';font-size:99.99px;fill:#000000\" transform=\"rotate(-90 300.72,1888.36)\" text-anchor=\"middle\">15000</text>\n",
       "\t<line x1=\"390.80\" y1=\"1457.33\" x2=\"350.83\" y2=\"1457.33\" style=\"stroke:#000000;stroke-width:5.76\"/>\n",
       "\t<text x=\"300.72\" y=\"1457.33\" style=\"font-family:'Helvetica';font-size:99.99px;fill:#000000\" transform=\"rotate(-90 300.72,1457.33)\" text-anchor=\"middle\">20000</text>\n",
       "\t<line x1=\"390.80\" y1=\"1026.29\" x2=\"350.83\" y2=\"1026.29\" style=\"stroke:#000000;stroke-width:5.76\"/>\n",
       "\t<text x=\"300.72\" y=\"1026.29\" style=\"font-family:'Helvetica';font-size:99.99px;fill:#000000\" transform=\"rotate(-90 300.72,1026.29)\" text-anchor=\"middle\">25000</text>\n",
       "\t<line x1=\"390.80\" y1=\"595.26\" x2=\"350.83\" y2=\"595.26\" style=\"stroke:#000000;stroke-width:5.76\"/>\n",
       "\t<text x=\"300.72\" y=\"595.26\" style=\"font-family:'Helvetica';font-size:99.99px;fill:#000000\" transform=\"rotate(-90 300.72,595.26)\" text-anchor=\"middle\">30000</text>\n",
       "\t<line x1=\"390.80\" y1=\"164.22\" x2=\"350.83\" y2=\"164.22\" style=\"stroke:#000000;stroke-width:5.76\"/>\n",
       "\t<text x=\"300.72\" y=\"164.22\" style=\"font-family:'Helvetica';font-size:99.99px;fill:#000000\" transform=\"rotate(-90 300.72,164.22)\" text-anchor=\"middle\">35000</text>\n",
       "\t<text x=\"190.71\" y=\"1294.96\" style=\"font-family:'Helvetica';font-size:99.99px;fill:#000000\" transform=\"rotate(-90 190.71,1294.96)\" text-anchor=\"middle\">Real GDP per Capita (2005)</text>\n",
       "\t<line x1=\"390.80\" y1=\"2489.19\" x2=\"3859.02\" y2=\"2489.19\" style=\"stroke:#000000;stroke-width:5.76\"/>\n",
       "\t<line x1=\"454.16\" y1=\"2489.19\" x2=\"454.16\" y2=\"2529.16\" style=\"stroke:#000000;stroke-width:5.76\"/>\n",
       "\t<text x=\"454.16\" y=\"2619.14\" style=\"font-family:'Helvetica';font-size:99.99px;fill:#000000\" text-anchor=\"middle\">1940</text>\n",
       "\t<line x1=\"1289.47\" y1=\"2489.19\" x2=\"1289.47\" y2=\"2529.16\" style=\"stroke:#000000;stroke-width:5.76\"/>\n",
       "\t<text x=\"1289.47\" y=\"2619.14\" style=\"font-family:'Helvetica';font-size:99.99px;fill:#000000\" text-anchor=\"middle\">1960</text>\n",
       "\t<line x1=\"2124.91\" y1=\"2489.19\" x2=\"2124.91\" y2=\"2529.16\" style=\"stroke:#000000;stroke-width:5.76\"/>\n",
       "\t<text x=\"2124.91\" y=\"2619.14\" style=\"font-family:'Helvetica';font-size:99.99px;fill:#000000\" text-anchor=\"middle\">1980</text>\n",
       "\t<line x1=\"2960.35\" y1=\"2489.19\" x2=\"2960.35\" y2=\"2529.16\" style=\"stroke:#000000;stroke-width:5.76\"/>\n",
       "\t<text x=\"2960.35\" y=\"2619.14\" style=\"font-family:'Helvetica';font-size:99.99px;fill:#000000\" text-anchor=\"middle\">2000</text>\n",
       "\t<line x1=\"3795.66\" y1=\"2489.19\" x2=\"3795.66\" y2=\"2529.16\" style=\"stroke:#000000;stroke-width:5.76\"/>\n",
       "\t<text x=\"3795.66\" y=\"2619.14\" style=\"font-family:'Helvetica';font-size:99.99px;fill:#000000\" text-anchor=\"middle\">2020</text>\n",
       "\t<text x=\"2124.91\" y=\"2729.16\" style=\"font-family:'Helvetica';font-size:99.99px;fill:#000000\" text-anchor=\"middle\">Year</text>\n",
       "</svg>\n"
      ],
      "text/html": [
       "                <iframe frameborder=\"0\" scrolling=\"no\" height=\"436\" width=\"600\"                srcdoc=\"<html><body>&lt;?xml version=&quot;1.0&quot; encoding=&quot;UTF-8&quot; standalone=&quot;no&quot;?&gt;\n",
       "&lt;!-- This is a Stata 16.0 generated SVG file (http://www.stata.com) --&gt;\n",
       "\n",
       "&lt;svg version=&quot;1.1&quot; width=&quot;600px&quot; height=&quot;436px&quot; viewBox=&quot;0 0 3960 2880&quot; xmlns=&quot;http://www.w3.org/2000/svg&quot; xmlns:xlink=&quot;http://www.w3.org/1999/xlink&quot;&gt;\n",
       "\t&lt;desc&gt;Stata Graph - Graph&lt;/desc&gt;\n",
       "\t&lt;rect x=&quot;0&quot; y=&quot;0&quot; width=&quot;3960&quot; height=&quot;2880&quot; style=&quot;fill:#EAF2F3;stroke:none&quot;/&gt;\n",
       "\t&lt;rect x=&quot;0.00&quot; y=&quot;0.00&quot; width=&quot;3959.88&quot; height=&quot;2880.00&quot; style=&quot;fill:#EAF2F3&quot;/&gt;\n",
       "\t&lt;rect x=&quot;2.88&quot; y=&quot;2.88&quot; width=&quot;3954.12&quot; height=&quot;2874.24&quot; style=&quot;fill:none;stroke:#EAF2F3;stroke-width:5.76&quot;/&gt;\n",
       "\t&lt;rect x=&quot;390.80&quot; y=&quot;100.86&quot; width=&quot;3468.22&quot; height=&quot;2388.33&quot; style=&quot;fill:#FFFFFF&quot;/&gt;\n",
       "\t&lt;rect x=&quot;393.68&quot; y=&quot;103.74&quot; width=&quot;3462.46&quot; height=&quot;2382.57&quot; style=&quot;fill:none;stroke:#FFFFFF;stroke-width:5.76&quot;/&gt;\n",
       "\t&lt;line x1=&quot;390.80&quot; y1=&quot;2319.39&quot; x2=&quot;3859.02&quot; y2=&quot;2319.39&quot; style=&quot;stroke:#EAF2F3;stroke-width:8.64&quot;/&gt;\n",
       "\t&lt;line x1=&quot;390.80&quot; y1=&quot;1888.36&quot; x2=&quot;3859.02&quot; y2=&quot;1888.36&quot; style=&quot;stroke:#EAF2F3;stroke-width:8.64&quot;/&gt;\n",
       "\t&lt;line x1=&quot;390.80&quot; y1=&quot;1457.33&quot; x2=&quot;3859.02&quot; y2=&quot;1457.33&quot; style=&quot;stroke:#EAF2F3;stroke-width:8.64&quot;/&gt;\n",
       "\t&lt;line x1=&quot;390.80&quot; y1=&quot;1026.29&quot; x2=&quot;3859.02&quot; y2=&quot;1026.29&quot; style=&quot;stroke:#EAF2F3;stroke-width:8.64&quot;/&gt;\n",
       "\t&lt;line x1=&quot;390.80&quot; y1=&quot;595.26&quot; x2=&quot;3859.02&quot; y2=&quot;595.26&quot; style=&quot;stroke:#EAF2F3;stroke-width:8.64&quot;/&gt;\n",
       "\t&lt;line x1=&quot;390.80&quot; y1=&quot;164.22&quot; x2=&quot;3859.02&quot; y2=&quot;164.22&quot; style=&quot;stroke:#EAF2F3;stroke-width:8.64&quot;/&gt;\n",
       "\t&lt;path d=&quot; M2751.46 1029.01 L3002.05 556.64 L2793.16 980.13 L3378.00 282.53 L3127.29 362.10 L3169.11 402.94 L3336.18 434.99 L3210.94 358.64 L3419.71 215.58 L3252.64 259.39 L3085.58 466.06 L3043.76 530.16 L3294.47 291.69 L2834.99 926.05 L2960.22 491.43 L2918.52 701.68 L2876.69 840.41 L1080.59 2321.99 L1289.47 2207.15 L2166.61 1624.76 L2459.04 1193.98 L2667.93 1267.12 L955.35 2399.96 L2333.68 1456.95 L871.82 2425.95 L1498.37 1978.21 L913.52 2402.68 L1247.65 2233.26 L1205.94 2276.95 L1790.66 1720.67 L1832.49 1653.48 L1957.85 1626.25 L2083.08 1617.59 L2417.21 1261.92 L2500.74 1151.78 L2584.39 1161.93 L1122.41 2299.97 L997.05 2377.06 L1540.07 1971.77 L2291.97 1492.35 L1874.19 1632.93 L2041.38 1631.20 L1373.01 2121.39 L2208.44 1609.17 L2542.57 1133.09 L1038.88 2340.43 L1916.02 1623.53 L1748.96 1758.91 L1456.54 2000.48 L2375.51 1339.76 L1623.60 1899.25 L1414.83 2073.99 L1665.43 1847.89 L1707.13 1771.78 L2124.91 1628.23 L1581.90 1937.74 L1331.30 2155.17 L1999.55 1668.70 L2626.10 1182.72 L2709.63 1163.41 L2250.15 1562.39 L1164.12 2289.20&quot; stroke-linejoin=&quot;round&quot; style=&quot;fill:none;stroke:#1A476F;stroke-width:8.64&quot;/&gt;\n",
       "\t&lt;line x1=&quot;390.80&quot; y1=&quot;2489.19&quot; x2=&quot;390.80&quot; y2=&quot;100.86&quot; style=&quot;stroke:#000000;stroke-width:5.76&quot;/&gt;\n",
       "\t&lt;line x1=&quot;390.80&quot; y1=&quot;2319.39&quot; x2=&quot;350.83&quot; y2=&quot;2319.39&quot; style=&quot;stroke:#000000;stroke-width:5.76&quot;/&gt;\n",
       "\t&lt;text x=&quot;300.72&quot; y=&quot;2319.39&quot; style=&quot;font-family:&#x27;Helvetica&#x27;;font-size:99.99px;fill:#000000&quot; transform=&quot;rotate(-90 300.72,2319.39)&quot; text-anchor=&quot;middle&quot;&gt;10000&lt;/text&gt;\n",
       "\t&lt;line x1=&quot;390.80&quot; y1=&quot;1888.36&quot; x2=&quot;350.83&quot; y2=&quot;1888.36&quot; style=&quot;stroke:#000000;stroke-width:5.76&quot;/&gt;\n",
       "\t&lt;text x=&quot;300.72&quot; y=&quot;1888.36&quot; style=&quot;font-family:&#x27;Helvetica&#x27;;font-size:99.99px;fill:#000000&quot; transform=&quot;rotate(-90 300.72,1888.36)&quot; text-anchor=&quot;middle&quot;&gt;15000&lt;/text&gt;\n",
       "\t&lt;line x1=&quot;390.80&quot; y1=&quot;1457.33&quot; x2=&quot;350.83&quot; y2=&quot;1457.33&quot; style=&quot;stroke:#000000;stroke-width:5.76&quot;/&gt;\n",
       "\t&lt;text x=&quot;300.72&quot; y=&quot;1457.33&quot; style=&quot;font-family:&#x27;Helvetica&#x27;;font-size:99.99px;fill:#000000&quot; transform=&quot;rotate(-90 300.72,1457.33)&quot; text-anchor=&quot;middle&quot;&gt;20000&lt;/text&gt;\n",
       "\t&lt;line x1=&quot;390.80&quot; y1=&quot;1026.29&quot; x2=&quot;350.83&quot; y2=&quot;1026.29&quot; style=&quot;stroke:#000000;stroke-width:5.76&quot;/&gt;\n",
       "\t&lt;text x=&quot;300.72&quot; y=&quot;1026.29&quot; style=&quot;font-family:&#x27;Helvetica&#x27;;font-size:99.99px;fill:#000000&quot; transform=&quot;rotate(-90 300.72,1026.29)&quot; text-anchor=&quot;middle&quot;&gt;25000&lt;/text&gt;\n",
       "\t&lt;line x1=&quot;390.80&quot; y1=&quot;595.26&quot; x2=&quot;350.83&quot; y2=&quot;595.26&quot; style=&quot;stroke:#000000;stroke-width:5.76&quot;/&gt;\n",
       "\t&lt;text x=&quot;300.72&quot; y=&quot;595.26&quot; style=&quot;font-family:&#x27;Helvetica&#x27;;font-size:99.99px;fill:#000000&quot; transform=&quot;rotate(-90 300.72,595.26)&quot; text-anchor=&quot;middle&quot;&gt;30000&lt;/text&gt;\n",
       "\t&lt;line x1=&quot;390.80&quot; y1=&quot;164.22&quot; x2=&quot;350.83&quot; y2=&quot;164.22&quot; style=&quot;stroke:#000000;stroke-width:5.76&quot;/&gt;\n",
       "\t&lt;text x=&quot;300.72&quot; y=&quot;164.22&quot; style=&quot;font-family:&#x27;Helvetica&#x27;;font-size:99.99px;fill:#000000&quot; transform=&quot;rotate(-90 300.72,164.22)&quot; text-anchor=&quot;middle&quot;&gt;35000&lt;/text&gt;\n",
       "\t&lt;text x=&quot;190.71&quot; y=&quot;1294.96&quot; style=&quot;font-family:&#x27;Helvetica&#x27;;font-size:99.99px;fill:#000000&quot; transform=&quot;rotate(-90 190.71,1294.96)&quot; text-anchor=&quot;middle&quot;&gt;Real GDP per Capita (2005)&lt;/text&gt;\n",
       "\t&lt;line x1=&quot;390.80&quot; y1=&quot;2489.19&quot; x2=&quot;3859.02&quot; y2=&quot;2489.19&quot; style=&quot;stroke:#000000;stroke-width:5.76&quot;/&gt;\n",
       "\t&lt;line x1=&quot;454.16&quot; y1=&quot;2489.19&quot; x2=&quot;454.16&quot; y2=&quot;2529.16&quot; style=&quot;stroke:#000000;stroke-width:5.76&quot;/&gt;\n",
       "\t&lt;text x=&quot;454.16&quot; y=&quot;2619.14&quot; style=&quot;font-family:&#x27;Helvetica&#x27;;font-size:99.99px;fill:#000000&quot; text-anchor=&quot;middle&quot;&gt;1940&lt;/text&gt;\n",
       "\t&lt;line x1=&quot;1289.47&quot; y1=&quot;2489.19&quot; x2=&quot;1289.47&quot; y2=&quot;2529.16&quot; style=&quot;stroke:#000000;stroke-width:5.76&quot;/&gt;\n",
       "\t&lt;text x=&quot;1289.47&quot; y=&quot;2619.14&quot; style=&quot;font-family:&#x27;Helvetica&#x27;;font-size:99.99px;fill:#000000&quot; text-anchor=&quot;middle&quot;&gt;1960&lt;/text&gt;\n",
       "\t&lt;line x1=&quot;2124.91&quot; y1=&quot;2489.19&quot; x2=&quot;2124.91&quot; y2=&quot;2529.16&quot; style=&quot;stroke:#000000;stroke-width:5.76&quot;/&gt;\n",
       "\t&lt;text x=&quot;2124.91&quot; y=&quot;2619.14&quot; style=&quot;font-family:&#x27;Helvetica&#x27;;font-size:99.99px;fill:#000000&quot; text-anchor=&quot;middle&quot;&gt;1980&lt;/text&gt;\n",
       "\t&lt;line x1=&quot;2960.35&quot; y1=&quot;2489.19&quot; x2=&quot;2960.35&quot; y2=&quot;2529.16&quot; style=&quot;stroke:#000000;stroke-width:5.76&quot;/&gt;\n",
       "\t&lt;text x=&quot;2960.35&quot; y=&quot;2619.14&quot; style=&quot;font-family:&#x27;Helvetica&#x27;;font-size:99.99px;fill:#000000&quot; text-anchor=&quot;middle&quot;&gt;2000&lt;/text&gt;\n",
       "\t&lt;line x1=&quot;3795.66&quot; y1=&quot;2489.19&quot; x2=&quot;3795.66&quot; y2=&quot;2529.16&quot; style=&quot;stroke:#000000;stroke-width:5.76&quot;/&gt;\n",
       "\t&lt;text x=&quot;3795.66&quot; y=&quot;2619.14&quot; style=&quot;font-family:&#x27;Helvetica&#x27;;font-size:99.99px;fill:#000000&quot; text-anchor=&quot;middle&quot;&gt;2020&lt;/text&gt;\n",
       "\t&lt;text x=&quot;2124.91&quot; y=&quot;2729.16&quot; style=&quot;font-family:&#x27;Helvetica&#x27;;font-size:99.99px;fill:#000000&quot; text-anchor=&quot;middle&quot;&gt;Year&lt;/text&gt;\n",
       "&lt;/svg&gt;\n",
       "</body></html>\"></iframe>\n"
      ],
      "text/plain": [
       "This front-end cannot display the desired image type."
      ]
     },
     "metadata": {
      "image/svg+xml": {
       "height": 436,
       "width": 600
      },
      "text/html": {
       "height": 436,
       "width": 600
      }
     },
     "output_type": "display_data"
    }
   ],
   "source": [
    "twoway (line gle_rgdpc year if cname==\"Sweden\")"
   ]
  },
  {
   "cell_type": "markdown",
   "metadata": {},
   "source": [
    "The reason might then be that the observations - the rows - in the dataset have been scrambled. Stata draws the line in the order of the dataset, frmo top to bottom. It does not matter when we make scatterplots, but when we have a connection between the observations it is important.\n",
    "\n",
    "We therefore need to sort the observations, in ascending order of the x axis variable. We can do this by writing `gsort cname year` to sort all observations first by country, and then by year. If we then redraw the graph we will get the proper result."
   ]
  },
  {
   "cell_type": "code",
   "execution_count": 5,
   "metadata": {},
   "outputs": [],
   "source": [
    "gsort cname year"
   ]
  },
  {
   "cell_type": "markdown",
   "metadata": {},
   "source": [
    "## Add more lines\n",
    "\n",
    "It is often useful to have several lines in one graph. We do that by adding more layers in the `twoway` command, with separate if qualifiers. In the graph below we add a line for Denmark - we just copy the parentheses for Sweden, change the country in the qualifier, and then add an option in each parentheses which governs the line color: blue for Sweden, red for Denmark. There are other options that govern the looks of the line, for instance `lpattern()` and `lwidth()`, but we will keep it simple here. See `help twoway line` for an exhaustive list."
   ]
  },
  {
   "cell_type": "code",
   "execution_count": 6,
   "metadata": {},
   "outputs": [
    {
     "data": {
      "application/pdf": "[encoded data removed]",
      "image/svg+xml": [
       "<?xml version=\"1.0\" encoding=\"UTF-8\" standalone=\"no\"?>\n",
       "<!-- This is a Stata 16.0 generated SVG file (http://www.stata.com) -->\n",
       "\n",
       "<svg version=\"1.1\" width=\"600px\" height=\"436px\" viewBox=\"0 0 3960 2880\" xmlns=\"http://www.w3.org/2000/svg\" xmlns:xlink=\"http://www.w3.org/1999/xlink\">\n",
       "\t<desc>Stata Graph - Graph</desc>\n",
       "\t<rect x=\"0\" y=\"0\" width=\"3960\" height=\"2880\" style=\"fill:#EAF2F3;stroke:none\"/>\n",
       "\t<rect x=\"0.00\" y=\"0.00\" width=\"3959.88\" height=\"2880.00\" style=\"fill:#EAF2F3\"/>\n",
       "\t<rect x=\"2.88\" y=\"2.88\" width=\"3954.12\" height=\"2874.24\" style=\"fill:none;stroke:#EAF2F3;stroke-width:5.76\"/>\n",
       "\t<rect x=\"370.51\" y=\"100.86\" width=\"3488.51\" height=\"2132.77\" style=\"fill:#FFFFFF\"/>\n",
       "\t<rect x=\"373.39\" y=\"103.74\" width=\"3482.75\" height=\"2127.01\" style=\"fill:none;stroke:#FFFFFF;stroke-width:5.76\"/>\n",
       "\t<line x1=\"370.51\" y1=\"2068.30\" x2=\"3859.02\" y2=\"2068.30\" style=\"stroke:#EAF2F3;stroke-width:8.64\"/>\n",
       "\t<line x1=\"370.51\" y1=\"1687.38\" x2=\"3859.02\" y2=\"1687.38\" style=\"stroke:#EAF2F3;stroke-width:8.64\"/>\n",
       "\t<line x1=\"370.51\" y1=\"1306.59\" x2=\"3859.02\" y2=\"1306.59\" style=\"stroke:#EAF2F3;stroke-width:8.64\"/>\n",
       "\t<line x1=\"370.51\" y1=\"925.80\" x2=\"3859.02\" y2=\"925.80\" style=\"stroke:#EAF2F3;stroke-width:8.64\"/>\n",
       "\t<line x1=\"370.51\" y1=\"545.01\" x2=\"3859.02\" y2=\"545.01\" style=\"stroke:#EAF2F3;stroke-width:8.64\"/>\n",
       "\t<line x1=\"370.51\" y1=\"164.22\" x2=\"3859.02\" y2=\"164.22\" style=\"stroke:#EAF2F3;stroke-width:8.64\"/>\n",
       "\t<path d=\" M854.00 2162.35 L896.07 2141.93 L938.02 2139.46 L980.10 2119.16 L1022.05 2086.86 L1064.13 2070.53 L1106.20 2051.22 L1148.15 2041.57 L1190.23 2030.80 L1232.18 1992.19 L1274.25 1969.17 L1316.20 1923.26 L1358.28 1893.31 L1400.36 1851.48 L1442.31 1786.51 L1484.38 1766.83 L1526.33 1761.27 L1568.41 1731.19 L1610.48 1697.16 L1652.43 1651.74 L1694.51 1584.54 L1736.46 1573.16 L1778.54 1539.37 L1820.49 1479.97 L1862.56 1461.78 L1904.64 1453.49 L1946.59 1455.96 L1988.66 1493.46 L2030.61 1460.30 L2072.69 1448.17 L2114.76 1457.70 L2156.72 1454.60 L2198.79 1440.74 L2240.74 1399.53 L2282.82 1337.53 L2324.89 1306.35 L2366.84 1202.76 L2408.92 1134.08 L2450.87 1074.06 L2492.94 1036.69 L2534.89 1020.23 L2576.97 1045.72 L2619.05 1064.04 L2661.00 1138.66 L2703.07 1046.96 L2745.02 928.28 L2787.10 885.09 L2829.17 837.19 L2871.12 761.58 L2913.20 639.06 L2955.15 453.31 L2997.22 510.86 L3039.18 487.59 L3081.25 430.91 L3123.33 339.09 L3165.28 375.10 L3207.35 335.99 L3249.30 248.37 L3291.38 276.84 L3333.45 403.44 L3375.41 268.79 L3417.48 209.52\" stroke-linejoin=\"round\" style=\"fill:none;stroke:#0000FF;stroke-width:8.64\"/>\n",
       "\t<path d=\" M854.00 2153.69 L896.07 2170.40 L938.02 2161.24 L980.10 2123.00 L1022.05 2100.97 L1064.13 2110.13 L1106.20 2098.25 L1148.15 2066.19 L1190.23 2057.41 L1232.18 1998.01 L1274.25 1949.87 L1316.20 1903.09 L1358.28 1863.49 L1400.36 1861.13 L1442.31 1783.17 L1484.38 1748.52 L1526.33 1729.34 L1568.41 1679.83 L1610.48 1619.20 L1652.43 1540.86 L1694.51 1529.10 L1736.46 1506.33 L1778.54 1457.82 L1820.49 1421.68 L1862.56 1444.83 L1904.64 1467.35 L1946.59 1383.82 L1988.66 1353.37 L2030.61 1319.59 L2072.69 1277.02 L2114.76 1314.14 L2156.72 1375.90 L2198.79 1337.04 L2240.74 1327.51 L2282.82 1299.66 L2324.89 1241.75 L2366.84 1090.77 L2408.92 1029.76 L2450.87 1050.42 L2492.94 1048.69 L2534.89 974.19 L2576.97 977.41 L2619.05 901.55 L2661.00 930.26 L2703.07 830.51 L2745.02 761.33 L2787.10 755.64 L2829.17 656.51 L2871.12 575.21 L2913.20 492.54 L2955.15 361.11 L2997.22 360.74 L3039.18 356.04 L3081.25 413.59 L3123.33 337.48 L3165.28 293.42 L3207.35 289.21 L3249.30 290.57 L3291.38 333.76 L3333.45 320.40 L3375.41 260.75 L3417.48 316.69\" stroke-linejoin=\"round\" style=\"fill:none;stroke:#FF0000;stroke-width:8.64\"/>\n",
       "\t<line x1=\"370.51\" y1=\"2233.63\" x2=\"370.51\" y2=\"100.86\" style=\"stroke:#000000;stroke-width:5.76\"/>\n",
       "\t<line x1=\"370.51\" y1=\"2068.30\" x2=\"330.41\" y2=\"2068.30\" style=\"stroke:#000000;stroke-width:5.76\"/>\n",
       "\t<text x=\"280.43\" y=\"2068.30\" style=\"font-family:'Helvetica';font-size:99.99px;fill:#000000\" transform=\"rotate(-90 280.43,2068.30)\" text-anchor=\"middle\">10000</text>\n",
       "\t<line x1=\"370.51\" y1=\"1687.38\" x2=\"330.41\" y2=\"1687.38\" style=\"stroke:#000000;stroke-width:5.76\"/>\n",
       "\t<text x=\"280.43\" y=\"1687.38\" style=\"font-family:'Helvetica';font-size:99.99px;fill:#000000\" transform=\"rotate(-90 280.43,1687.38)\" text-anchor=\"middle\">15000</text>\n",
       "\t<line x1=\"370.51\" y1=\"1306.59\" x2=\"330.41\" y2=\"1306.59\" style=\"stroke:#000000;stroke-width:5.76\"/>\n",
       "\t<text x=\"280.43\" y=\"1306.59\" style=\"font-family:'Helvetica';font-size:99.99px;fill:#000000\" transform=\"rotate(-90 280.43,1306.59)\" text-anchor=\"middle\">20000</text>\n",
       "\t<line x1=\"370.51\" y1=\"925.80\" x2=\"330.41\" y2=\"925.80\" style=\"stroke:#000000;stroke-width:5.76\"/>\n",
       "\t<text x=\"280.43\" y=\"925.80\" style=\"font-family:'Helvetica';font-size:99.99px;fill:#000000\" transform=\"rotate(-90 280.43,925.80)\" text-anchor=\"middle\">25000</text>\n",
       "\t<line x1=\"370.51\" y1=\"545.01\" x2=\"330.41\" y2=\"545.01\" style=\"stroke:#000000;stroke-width:5.76\"/>\n",
       "\t<text x=\"280.43\" y=\"545.01\" style=\"font-family:'Helvetica';font-size:99.99px;fill:#000000\" transform=\"rotate(-90 280.43,545.01)\" text-anchor=\"middle\">30000</text>\n",
       "\t<line x1=\"370.51\" y1=\"164.22\" x2=\"330.41\" y2=\"164.22\" style=\"stroke:#000000;stroke-width:5.76\"/>\n",
       "\t<text x=\"280.43\" y=\"164.22\" style=\"font-family:'Helvetica';font-size:99.99px;fill:#000000\" transform=\"rotate(-90 280.43,164.22)\" text-anchor=\"middle\">35000</text>\n",
       "\t<text x=\"190.71\" y=\"1167.25\" style=\"font-family:'Helvetica';font-size:99.99px;fill:#000000\" transform=\"rotate(-90 190.71,1167.25)\" text-anchor=\"middle\">Real GDP per Capita (2005)</text>\n",
       "\t<line x1=\"370.51\" y1=\"2233.63\" x2=\"3859.02\" y2=\"2233.63\" style=\"stroke:#000000;stroke-width:5.76\"/>\n",
       "\t<line x1=\"433.87\" y1=\"2233.63\" x2=\"433.87\" y2=\"2273.73\" style=\"stroke:#000000;stroke-width:5.76\"/>\n",
       "\t<text x=\"433.87\" y=\"2363.59\" style=\"font-family:'Helvetica';font-size:99.99px;fill:#000000\" text-anchor=\"middle\">1940</text>\n",
       "\t<line x1=\"1274.25\" y1=\"2233.63\" x2=\"1274.25\" y2=\"2273.73\" style=\"stroke:#000000;stroke-width:5.76\"/>\n",
       "\t<text x=\"1274.25\" y=\"2363.59\" style=\"font-family:'Helvetica';font-size:99.99px;fill:#000000\" text-anchor=\"middle\">1960</text>\n",
       "\t<line x1=\"2114.76\" y1=\"2233.63\" x2=\"2114.76\" y2=\"2273.73\" style=\"stroke:#000000;stroke-width:5.76\"/>\n",
       "\t<text x=\"2114.76\" y=\"2363.59\" style=\"font-family:'Helvetica';font-size:99.99px;fill:#000000\" text-anchor=\"middle\">1980</text>\n",
       "\t<line x1=\"2955.27\" y1=\"2233.63\" x2=\"2955.27\" y2=\"2273.73\" style=\"stroke:#000000;stroke-width:5.76\"/>\n",
       "\t<text x=\"2955.27\" y=\"2363.59\" style=\"font-family:'Helvetica';font-size:99.99px;fill:#000000\" text-anchor=\"middle\">2000</text>\n",
       "\t<line x1=\"3795.66\" y1=\"2233.63\" x2=\"3795.66\" y2=\"2273.73\" style=\"stroke:#000000;stroke-width:5.76\"/>\n",
       "\t<text x=\"3795.66\" y=\"2363.59\" style=\"font-family:'Helvetica';font-size:99.99px;fill:#000000\" text-anchor=\"middle\">2020</text>\n",
       "\t<text x=\"2114.76\" y=\"2473.60\" style=\"font-family:'Helvetica';font-size:99.99px;fill:#000000\" text-anchor=\"middle\">Year</text>\n",
       "\t<rect x=\"405.03\" y=\"2558.24\" width=\"3419.46\" height=\"186.37\" style=\"fill:#FFFFFF\"/>\n",
       "\t<rect x=\"407.91\" y=\"2561.12\" width=\"3413.70\" height=\"180.61\" style=\"fill:none;stroke:#000000;stroke-width:5.76\"/>\n",
       "\t<line x1=\"448.22\" y1=\"2651.43\" x2=\"795.22\" y2=\"2651.43\" style=\"stroke:#0000FF;stroke-width:8.64\"/>\n",
       "\t<line x1=\"2179.61\" y1=\"2651.43\" x2=\"2526.73\" y2=\"2651.43\" style=\"stroke:#FF0000;stroke-width:8.64\"/>\n",
       "\t<text x=\"850.90\" y=\"2686.46\" style=\"font-family:'Helvetica';font-size:99.99px;fill:#000000\">Real GDP per Capita (2005)</text>\n",
       "\t<text x=\"2582.29\" y=\"2686.46\" style=\"font-family:'Helvetica';font-size:99.99px;fill:#000000\">Real GDP per Capita (2005)</text>\n",
       "</svg>\n"
      ],
      "text/html": [
       "                <iframe frameborder=\"0\" scrolling=\"no\" height=\"436\" width=\"600\"                srcdoc=\"<html><body>&lt;?xml version=&quot;1.0&quot; encoding=&quot;UTF-8&quot; standalone=&quot;no&quot;?&gt;\n",
       "&lt;!-- This is a Stata 16.0 generated SVG file (http://www.stata.com) --&gt;\n",
       "\n",
       "&lt;svg version=&quot;1.1&quot; width=&quot;600px&quot; height=&quot;436px&quot; viewBox=&quot;0 0 3960 2880&quot; xmlns=&quot;http://www.w3.org/2000/svg&quot; xmlns:xlink=&quot;http://www.w3.org/1999/xlink&quot;&gt;\n",
       "\t&lt;desc&gt;Stata Graph - Graph&lt;/desc&gt;\n",
       "\t&lt;rect x=&quot;0&quot; y=&quot;0&quot; width=&quot;3960&quot; height=&quot;2880&quot; style=&quot;fill:#EAF2F3;stroke:none&quot;/&gt;\n",
       "\t&lt;rect x=&quot;0.00&quot; y=&quot;0.00&quot; width=&quot;3959.88&quot; height=&quot;2880.00&quot; style=&quot;fill:#EAF2F3&quot;/&gt;\n",
       "\t&lt;rect x=&quot;2.88&quot; y=&quot;2.88&quot; width=&quot;3954.12&quot; height=&quot;2874.24&quot; style=&quot;fill:none;stroke:#EAF2F3;stroke-width:5.76&quot;/&gt;\n",
       "\t&lt;rect x=&quot;370.51&quot; y=&quot;100.86&quot; width=&quot;3488.51&quot; height=&quot;2132.77&quot; style=&quot;fill:#FFFFFF&quot;/&gt;\n",
       "\t&lt;rect x=&quot;373.39&quot; y=&quot;103.74&quot; width=&quot;3482.75&quot; height=&quot;2127.01&quot; style=&quot;fill:none;stroke:#FFFFFF;stroke-width:5.76&quot;/&gt;\n",
       "\t&lt;line x1=&quot;370.51&quot; y1=&quot;2068.30&quot; x2=&quot;3859.02&quot; y2=&quot;2068.30&quot; style=&quot;stroke:#EAF2F3;stroke-width:8.64&quot;/&gt;\n",
       "\t&lt;line x1=&quot;370.51&quot; y1=&quot;1687.38&quot; x2=&quot;3859.02&quot; y2=&quot;1687.38&quot; style=&quot;stroke:#EAF2F3;stroke-width:8.64&quot;/&gt;\n",
       "\t&lt;line x1=&quot;370.51&quot; y1=&quot;1306.59&quot; x2=&quot;3859.02&quot; y2=&quot;1306.59&quot; style=&quot;stroke:#EAF2F3;stroke-width:8.64&quot;/&gt;\n",
       "\t&lt;line x1=&quot;370.51&quot; y1=&quot;925.80&quot; x2=&quot;3859.02&quot; y2=&quot;925.80&quot; style=&quot;stroke:#EAF2F3;stroke-width:8.64&quot;/&gt;\n",
       "\t&lt;line x1=&quot;370.51&quot; y1=&quot;545.01&quot; x2=&quot;3859.02&quot; y2=&quot;545.01&quot; style=&quot;stroke:#EAF2F3;stroke-width:8.64&quot;/&gt;\n",
       "\t&lt;line x1=&quot;370.51&quot; y1=&quot;164.22&quot; x2=&quot;3859.02&quot; y2=&quot;164.22&quot; style=&quot;stroke:#EAF2F3;stroke-width:8.64&quot;/&gt;\n",
       "\t&lt;path d=&quot; M854.00 2162.35 L896.07 2141.93 L938.02 2139.46 L980.10 2119.16 L1022.05 2086.86 L1064.13 2070.53 L1106.20 2051.22 L1148.15 2041.57 L1190.23 2030.80 L1232.18 1992.19 L1274.25 1969.17 L1316.20 1923.26 L1358.28 1893.31 L1400.36 1851.48 L1442.31 1786.51 L1484.38 1766.83 L1526.33 1761.27 L1568.41 1731.19 L1610.48 1697.16 L1652.43 1651.74 L1694.51 1584.54 L1736.46 1573.16 L1778.54 1539.37 L1820.49 1479.97 L1862.56 1461.78 L1904.64 1453.49 L1946.59 1455.96 L1988.66 1493.46 L2030.61 1460.30 L2072.69 1448.17 L2114.76 1457.70 L2156.72 1454.60 L2198.79 1440.74 L2240.74 1399.53 L2282.82 1337.53 L2324.89 1306.35 L2366.84 1202.76 L2408.92 1134.08 L2450.87 1074.06 L2492.94 1036.69 L2534.89 1020.23 L2576.97 1045.72 L2619.05 1064.04 L2661.00 1138.66 L2703.07 1046.96 L2745.02 928.28 L2787.10 885.09 L2829.17 837.19 L2871.12 761.58 L2913.20 639.06 L2955.15 453.31 L2997.22 510.86 L3039.18 487.59 L3081.25 430.91 L3123.33 339.09 L3165.28 375.10 L3207.35 335.99 L3249.30 248.37 L3291.38 276.84 L3333.45 403.44 L3375.41 268.79 L3417.48 209.52&quot; stroke-linejoin=&quot;round&quot; style=&quot;fill:none;stroke:#0000FF;stroke-width:8.64&quot;/&gt;\n",
       "\t&lt;path d=&quot; M854.00 2153.69 L896.07 2170.40 L938.02 2161.24 L980.10 2123.00 L1022.05 2100.97 L1064.13 2110.13 L1106.20 2098.25 L1148.15 2066.19 L1190.23 2057.41 L1232.18 1998.01 L1274.25 1949.87 L1316.20 1903.09 L1358.28 1863.49 L1400.36 1861.13 L1442.31 1783.17 L1484.38 1748.52 L1526.33 1729.34 L1568.41 1679.83 L1610.48 1619.20 L1652.43 1540.86 L1694.51 1529.10 L1736.46 1506.33 L1778.54 1457.82 L1820.49 1421.68 L1862.56 1444.83 L1904.64 1467.35 L1946.59 1383.82 L1988.66 1353.37 L2030.61 1319.59 L2072.69 1277.02 L2114.76 1314.14 L2156.72 1375.90 L2198.79 1337.04 L2240.74 1327.51 L2282.82 1299.66 L2324.89 1241.75 L2366.84 1090.77 L2408.92 1029.76 L2450.87 1050.42 L2492.94 1048.69 L2534.89 974.19 L2576.97 977.41 L2619.05 901.55 L2661.00 930.26 L2703.07 830.51 L2745.02 761.33 L2787.10 755.64 L2829.17 656.51 L2871.12 575.21 L2913.20 492.54 L2955.15 361.11 L2997.22 360.74 L3039.18 356.04 L3081.25 413.59 L3123.33 337.48 L3165.28 293.42 L3207.35 289.21 L3249.30 290.57 L3291.38 333.76 L3333.45 320.40 L3375.41 260.75 L3417.48 316.69&quot; stroke-linejoin=&quot;round&quot; style=&quot;fill:none;stroke:#FF0000;stroke-width:8.64&quot;/&gt;\n",
       "\t&lt;line x1=&quot;370.51&quot; y1=&quot;2233.63&quot; x2=&quot;370.51&quot; y2=&quot;100.86&quot; style=&quot;stroke:#000000;stroke-width:5.76&quot;/&gt;\n",
       "\t&lt;line x1=&quot;370.51&quot; y1=&quot;2068.30&quot; x2=&quot;330.41&quot; y2=&quot;2068.30&quot; style=&quot;stroke:#000000;stroke-width:5.76&quot;/&gt;\n",
       "\t&lt;text x=&quot;280.43&quot; y=&quot;2068.30&quot; style=&quot;font-family:&#x27;Helvetica&#x27;;font-size:99.99px;fill:#000000&quot; transform=&quot;rotate(-90 280.43,2068.30)&quot; text-anchor=&quot;middle&quot;&gt;10000&lt;/text&gt;\n",
       "\t&lt;line x1=&quot;370.51&quot; y1=&quot;1687.38&quot; x2=&quot;330.41&quot; y2=&quot;1687.38&quot; style=&quot;stroke:#000000;stroke-width:5.76&quot;/&gt;\n",
       "\t&lt;text x=&quot;280.43&quot; y=&quot;1687.38&quot; style=&quot;font-family:&#x27;Helvetica&#x27;;font-size:99.99px;fill:#000000&quot; transform=&quot;rotate(-90 280.43,1687.38)&quot; text-anchor=&quot;middle&quot;&gt;15000&lt;/text&gt;\n",
       "\t&lt;line x1=&quot;370.51&quot; y1=&quot;1306.59&quot; x2=&quot;330.41&quot; y2=&quot;1306.59&quot; style=&quot;stroke:#000000;stroke-width:5.76&quot;/&gt;\n",
       "\t&lt;text x=&quot;280.43&quot; y=&quot;1306.59&quot; style=&quot;font-family:&#x27;Helvetica&#x27;;font-size:99.99px;fill:#000000&quot; transform=&quot;rotate(-90 280.43,1306.59)&quot; text-anchor=&quot;middle&quot;&gt;20000&lt;/text&gt;\n",
       "\t&lt;line x1=&quot;370.51&quot; y1=&quot;925.80&quot; x2=&quot;330.41&quot; y2=&quot;925.80&quot; style=&quot;stroke:#000000;stroke-width:5.76&quot;/&gt;\n",
       "\t&lt;text x=&quot;280.43&quot; y=&quot;925.80&quot; style=&quot;font-family:&#x27;Helvetica&#x27;;font-size:99.99px;fill:#000000&quot; transform=&quot;rotate(-90 280.43,925.80)&quot; text-anchor=&quot;middle&quot;&gt;25000&lt;/text&gt;\n",
       "\t&lt;line x1=&quot;370.51&quot; y1=&quot;545.01&quot; x2=&quot;330.41&quot; y2=&quot;545.01&quot; style=&quot;stroke:#000000;stroke-width:5.76&quot;/&gt;\n",
       "\t&lt;text x=&quot;280.43&quot; y=&quot;545.01&quot; style=&quot;font-family:&#x27;Helvetica&#x27;;font-size:99.99px;fill:#000000&quot; transform=&quot;rotate(-90 280.43,545.01)&quot; text-anchor=&quot;middle&quot;&gt;30000&lt;/text&gt;\n",
       "\t&lt;line x1=&quot;370.51&quot; y1=&quot;164.22&quot; x2=&quot;330.41&quot; y2=&quot;164.22&quot; style=&quot;stroke:#000000;stroke-width:5.76&quot;/&gt;\n",
       "\t&lt;text x=&quot;280.43&quot; y=&quot;164.22&quot; style=&quot;font-family:&#x27;Helvetica&#x27;;font-size:99.99px;fill:#000000&quot; transform=&quot;rotate(-90 280.43,164.22)&quot; text-anchor=&quot;middle&quot;&gt;35000&lt;/text&gt;\n",
       "\t&lt;text x=&quot;190.71&quot; y=&quot;1167.25&quot; style=&quot;font-family:&#x27;Helvetica&#x27;;font-size:99.99px;fill:#000000&quot; transform=&quot;rotate(-90 190.71,1167.25)&quot; text-anchor=&quot;middle&quot;&gt;Real GDP per Capita (2005)&lt;/text&gt;\n",
       "\t&lt;line x1=&quot;370.51&quot; y1=&quot;2233.63&quot; x2=&quot;3859.02&quot; y2=&quot;2233.63&quot; style=&quot;stroke:#000000;stroke-width:5.76&quot;/&gt;\n",
       "\t&lt;line x1=&quot;433.87&quot; y1=&quot;2233.63&quot; x2=&quot;433.87&quot; y2=&quot;2273.73&quot; style=&quot;stroke:#000000;stroke-width:5.76&quot;/&gt;\n",
       "\t&lt;text x=&quot;433.87&quot; y=&quot;2363.59&quot; style=&quot;font-family:&#x27;Helvetica&#x27;;font-size:99.99px;fill:#000000&quot; text-anchor=&quot;middle&quot;&gt;1940&lt;/text&gt;\n",
       "\t&lt;line x1=&quot;1274.25&quot; y1=&quot;2233.63&quot; x2=&quot;1274.25&quot; y2=&quot;2273.73&quot; style=&quot;stroke:#000000;stroke-width:5.76&quot;/&gt;\n",
       "\t&lt;text x=&quot;1274.25&quot; y=&quot;2363.59&quot; style=&quot;font-family:&#x27;Helvetica&#x27;;font-size:99.99px;fill:#000000&quot; text-anchor=&quot;middle&quot;&gt;1960&lt;/text&gt;\n",
       "\t&lt;line x1=&quot;2114.76&quot; y1=&quot;2233.63&quot; x2=&quot;2114.76&quot; y2=&quot;2273.73&quot; style=&quot;stroke:#000000;stroke-width:5.76&quot;/&gt;\n",
       "\t&lt;text x=&quot;2114.76&quot; y=&quot;2363.59&quot; style=&quot;font-family:&#x27;Helvetica&#x27;;font-size:99.99px;fill:#000000&quot; text-anchor=&quot;middle&quot;&gt;1980&lt;/text&gt;\n",
       "\t&lt;line x1=&quot;2955.27&quot; y1=&quot;2233.63&quot; x2=&quot;2955.27&quot; y2=&quot;2273.73&quot; style=&quot;stroke:#000000;stroke-width:5.76&quot;/&gt;\n",
       "\t&lt;text x=&quot;2955.27&quot; y=&quot;2363.59&quot; style=&quot;font-family:&#x27;Helvetica&#x27;;font-size:99.99px;fill:#000000&quot; text-anchor=&quot;middle&quot;&gt;2000&lt;/text&gt;\n",
       "\t&lt;line x1=&quot;3795.66&quot; y1=&quot;2233.63&quot; x2=&quot;3795.66&quot; y2=&quot;2273.73&quot; style=&quot;stroke:#000000;stroke-width:5.76&quot;/&gt;\n",
       "\t&lt;text x=&quot;3795.66&quot; y=&quot;2363.59&quot; style=&quot;font-family:&#x27;Helvetica&#x27;;font-size:99.99px;fill:#000000&quot; text-anchor=&quot;middle&quot;&gt;2020&lt;/text&gt;\n",
       "\t&lt;text x=&quot;2114.76&quot; y=&quot;2473.60&quot; style=&quot;font-family:&#x27;Helvetica&#x27;;font-size:99.99px;fill:#000000&quot; text-anchor=&quot;middle&quot;&gt;Year&lt;/text&gt;\n",
       "\t&lt;rect x=&quot;405.03&quot; y=&quot;2558.24&quot; width=&quot;3419.46&quot; height=&quot;186.37&quot; style=&quot;fill:#FFFFFF&quot;/&gt;\n",
       "\t&lt;rect x=&quot;407.91&quot; y=&quot;2561.12&quot; width=&quot;3413.70&quot; height=&quot;180.61&quot; style=&quot;fill:none;stroke:#000000;stroke-width:5.76&quot;/&gt;\n",
       "\t&lt;line x1=&quot;448.22&quot; y1=&quot;2651.43&quot; x2=&quot;795.22&quot; y2=&quot;2651.43&quot; style=&quot;stroke:#0000FF;stroke-width:8.64&quot;/&gt;\n",
       "\t&lt;line x1=&quot;2179.61&quot; y1=&quot;2651.43&quot; x2=&quot;2526.73&quot; y2=&quot;2651.43&quot; style=&quot;stroke:#FF0000;stroke-width:8.64&quot;/&gt;\n",
       "\t&lt;text x=&quot;850.90&quot; y=&quot;2686.46&quot; style=&quot;font-family:&#x27;Helvetica&#x27;;font-size:99.99px;fill:#000000&quot;&gt;Real GDP per Capita (2005)&lt;/text&gt;\n",
       "\t&lt;text x=&quot;2582.29&quot; y=&quot;2686.46&quot; style=&quot;font-family:&#x27;Helvetica&#x27;;font-size:99.99px;fill:#000000&quot;&gt;Real GDP per Capita (2005)&lt;/text&gt;\n",
       "&lt;/svg&gt;\n",
       "</body></html>\"></iframe>\n"
      ],
      "text/plain": [
       "This front-end cannot display the desired image type."
      ]
     },
     "metadata": {
      "image/svg+xml": {
       "height": 436,
       "width": 600
      },
      "text/html": {
       "height": 436,
       "width": 600
      }
     },
     "output_type": "display_data"
    }
   ],
   "source": [
    "twoway (line gle_rgdpc year if cname==\"Sweden\", lcolor(blue)) (line gle_rgdpc year if cname==\"Denmark\", lcolor(red))"
   ]
  },
  {
   "cell_type": "markdown",
   "metadata": {},
   "source": [
    "## Add reference lines\n",
    "\n",
    "Finally, we might want to mark some special values on either the x or y axis. We can do so with the options `yline()` and `xline()`. They can also be used in all `twoway` graphs.\n",
    "\n",
    "Importantly, these options should not be placed within the parentheses, since they apply to the entire graph. They should therefore be placed after all the parentheses.\n",
    "\n",
    "First we add lines that show two important crises in the Swedish economy - the move to a floating exchange rate in 1992 and the financial crisis 2009, with the option `xline()`."
   ]
  },
  {
   "cell_type": "code",
   "execution_count": 7,
   "metadata": {},
   "outputs": [
    {
     "data": {
      "application/pdf": "[encoded data removed]",
      "image/svg+xml": [
       "<?xml version=\"1.0\" encoding=\"UTF-8\" standalone=\"no\"?>\n",
       "<!-- This is a Stata 16.0 generated SVG file (http://www.stata.com) -->\n",
       "\n",
       "<svg version=\"1.1\" width=\"600px\" height=\"436px\" viewBox=\"0 0 3960 2880\" xmlns=\"http://www.w3.org/2000/svg\" xmlns:xlink=\"http://www.w3.org/1999/xlink\">\n",
       "\t<desc>Stata Graph - Graph</desc>\n",
       "\t<rect x=\"0\" y=\"0\" width=\"3960\" height=\"2880\" style=\"fill:#EAF2F3;stroke:none\"/>\n",
       "\t<rect x=\"0.00\" y=\"0.00\" width=\"3959.88\" height=\"2880.00\" style=\"fill:#EAF2F3\"/>\n",
       "\t<rect x=\"2.88\" y=\"2.88\" width=\"3954.12\" height=\"2874.24\" style=\"fill:none;stroke:#EAF2F3;stroke-width:5.76\"/>\n",
       "\t<rect x=\"390.80\" y=\"100.86\" width=\"3468.22\" height=\"2388.33\" style=\"fill:#FFFFFF\"/>\n",
       "\t<rect x=\"393.68\" y=\"103.74\" width=\"3462.46\" height=\"2382.57\" style=\"fill:none;stroke:#FFFFFF;stroke-width:5.76\"/>\n",
       "\t<line x1=\"390.80\" y1=\"2319.39\" x2=\"3859.02\" y2=\"2319.39\" style=\"stroke:#EAF2F3;stroke-width:8.64\"/>\n",
       "\t<line x1=\"390.80\" y1=\"1888.36\" x2=\"3859.02\" y2=\"1888.36\" style=\"stroke:#EAF2F3;stroke-width:8.64\"/>\n",
       "\t<line x1=\"390.80\" y1=\"1457.33\" x2=\"3859.02\" y2=\"1457.33\" style=\"stroke:#EAF2F3;stroke-width:8.64\"/>\n",
       "\t<line x1=\"390.80\" y1=\"1026.29\" x2=\"3859.02\" y2=\"1026.29\" style=\"stroke:#EAF2F3;stroke-width:8.64\"/>\n",
       "\t<line x1=\"390.80\" y1=\"595.26\" x2=\"3859.02\" y2=\"595.26\" style=\"stroke:#EAF2F3;stroke-width:8.64\"/>\n",
       "\t<line x1=\"390.80\" y1=\"164.22\" x2=\"3859.02\" y2=\"164.22\" style=\"stroke:#EAF2F3;stroke-width:8.64\"/>\n",
       "\t<line x1=\"2626.22\" y1=\"2489.19\" x2=\"2626.22\" y2=\"100.86\" style=\"stroke:#C10534;stroke-width:8.64\"/>\n",
       "\t<line x1=\"3336.30\" y1=\"2489.19\" x2=\"3336.30\" y2=\"100.86\" style=\"stroke:#C10534;stroke-width:8.64\"/>\n",
       "\t<path d=\" M871.82 2425.95 L913.52 2402.68 L955.35 2399.96 L997.05 2377.06 L1038.88 2340.43 L1080.59 2321.99 L1122.41 2299.97 L1164.12 2289.20 L1205.94 2276.95 L1247.65 2233.26 L1289.47 2207.15 L1331.30 2155.17 L1373.01 2121.39 L1414.83 2073.99 L1456.54 2000.48 L1498.37 1978.21 L1540.07 1971.77 L1581.90 1937.74 L1623.60 1899.25 L1665.43 1847.89 L1707.13 1771.78 L1748.96 1758.91 L1790.66 1720.67 L1832.49 1653.48 L1874.19 1632.93 L1916.02 1623.53 L1957.85 1626.25 L1999.55 1668.70 L2041.38 1631.20 L2083.08 1617.59 L2124.91 1628.23 L2166.61 1624.76 L2208.44 1609.17 L2250.15 1562.39 L2291.97 1492.35 L2333.68 1456.95 L2375.51 1339.76 L2417.21 1261.92 L2459.04 1193.98 L2500.74 1151.78 L2542.57 1133.09 L2584.39 1161.93 L2626.10 1182.72 L2667.93 1267.12 L2709.63 1163.41 L2751.46 1029.01 L2793.16 980.13 L2834.99 926.05 L2876.69 840.41 L2918.52 701.68 L2960.22 491.43 L3002.05 556.64 L3043.76 530.16 L3085.58 466.06 L3127.29 362.10 L3169.11 402.94 L3210.94 358.64 L3252.64 259.39 L3294.47 291.69 L3336.18 434.99 L3378.00 282.53 L3419.71 215.58\" stroke-linejoin=\"round\" style=\"fill:none;stroke:#0000FF;stroke-width:8.64\"/>\n",
       "\t<line x1=\"390.80\" y1=\"2489.19\" x2=\"390.80\" y2=\"100.86\" style=\"stroke:#000000;stroke-width:5.76\"/>\n",
       "\t<line x1=\"390.80\" y1=\"2319.39\" x2=\"350.83\" y2=\"2319.39\" style=\"stroke:#000000;stroke-width:5.76\"/>\n",
       "\t<text x=\"300.72\" y=\"2319.39\" style=\"font-family:'Helvetica';font-size:99.99px;fill:#000000\" transform=\"rotate(-90 300.72,2319.39)\" text-anchor=\"middle\">10000</text>\n",
       "\t<line x1=\"390.80\" y1=\"1888.36\" x2=\"350.83\" y2=\"1888.36\" style=\"stroke:#000000;stroke-width:5.76\"/>\n",
       "\t<text x=\"300.72\" y=\"1888.36\" style=\"font-family:'Helvetica';font-size:99.99px;fill:#000000\" transform=\"rotate(-90 300.72,1888.36)\" text-anchor=\"middle\">15000</text>\n",
       "\t<line x1=\"390.80\" y1=\"1457.33\" x2=\"350.83\" y2=\"1457.33\" style=\"stroke:#000000;stroke-width:5.76\"/>\n",
       "\t<text x=\"300.72\" y=\"1457.33\" style=\"font-family:'Helvetica';font-size:99.99px;fill:#000000\" transform=\"rotate(-90 300.72,1457.33)\" text-anchor=\"middle\">20000</text>\n",
       "\t<line x1=\"390.80\" y1=\"1026.29\" x2=\"350.83\" y2=\"1026.29\" style=\"stroke:#000000;stroke-width:5.76\"/>\n",
       "\t<text x=\"300.72\" y=\"1026.29\" style=\"font-family:'Helvetica';font-size:99.99px;fill:#000000\" transform=\"rotate(-90 300.72,1026.29)\" text-anchor=\"middle\">25000</text>\n",
       "\t<line x1=\"390.80\" y1=\"595.26\" x2=\"350.83\" y2=\"595.26\" style=\"stroke:#000000;stroke-width:5.76\"/>\n",
       "\t<text x=\"300.72\" y=\"595.26\" style=\"font-family:'Helvetica';font-size:99.99px;fill:#000000\" transform=\"rotate(-90 300.72,595.26)\" text-anchor=\"middle\">30000</text>\n",
       "\t<line x1=\"390.80\" y1=\"164.22\" x2=\"350.83\" y2=\"164.22\" style=\"stroke:#000000;stroke-width:5.76\"/>\n",
       "\t<text x=\"300.72\" y=\"164.22\" style=\"font-family:'Helvetica';font-size:99.99px;fill:#000000\" transform=\"rotate(-90 300.72,164.22)\" text-anchor=\"middle\">35000</text>\n",
       "\t<text x=\"190.71\" y=\"1294.96\" style=\"font-family:'Helvetica';font-size:99.99px;fill:#000000\" transform=\"rotate(-90 190.71,1294.96)\" text-anchor=\"middle\">Real GDP per Capita (2005)</text>\n",
       "\t<line x1=\"390.80\" y1=\"2489.19\" x2=\"3859.02\" y2=\"2489.19\" style=\"stroke:#000000;stroke-width:5.76\"/>\n",
       "\t<line x1=\"454.16\" y1=\"2489.19\" x2=\"454.16\" y2=\"2529.16\" style=\"stroke:#000000;stroke-width:5.76\"/>\n",
       "\t<text x=\"454.16\" y=\"2619.14\" style=\"font-family:'Helvetica';font-size:99.99px;fill:#000000\" text-anchor=\"middle\">1940</text>\n",
       "\t<line x1=\"1289.47\" y1=\"2489.19\" x2=\"1289.47\" y2=\"2529.16\" style=\"stroke:#000000;stroke-width:5.76\"/>\n",
       "\t<text x=\"1289.47\" y=\"2619.14\" style=\"font-family:'Helvetica';font-size:99.99px;fill:#000000\" text-anchor=\"middle\">1960</text>\n",
       "\t<line x1=\"2124.91\" y1=\"2489.19\" x2=\"2124.91\" y2=\"2529.16\" style=\"stroke:#000000;stroke-width:5.76\"/>\n",
       "\t<text x=\"2124.91\" y=\"2619.14\" style=\"font-family:'Helvetica';font-size:99.99px;fill:#000000\" text-anchor=\"middle\">1980</text>\n",
       "\t<line x1=\"2960.35\" y1=\"2489.19\" x2=\"2960.35\" y2=\"2529.16\" style=\"stroke:#000000;stroke-width:5.76\"/>\n",
       "\t<text x=\"2960.35\" y=\"2619.14\" style=\"font-family:'Helvetica';font-size:99.99px;fill:#000000\" text-anchor=\"middle\">2000</text>\n",
       "\t<line x1=\"3795.66\" y1=\"2489.19\" x2=\"3795.66\" y2=\"2529.16\" style=\"stroke:#000000;stroke-width:5.76\"/>\n",
       "\t<text x=\"3795.66\" y=\"2619.14\" style=\"font-family:'Helvetica';font-size:99.99px;fill:#000000\" text-anchor=\"middle\">2020</text>\n",
       "\t<text x=\"2124.91\" y=\"2729.16\" style=\"font-family:'Helvetica';font-size:99.99px;fill:#000000\" text-anchor=\"middle\">Year</text>\n",
       "</svg>\n"
      ],
      "text/html": [
       "                <iframe frameborder=\"0\" scrolling=\"no\" height=\"436\" width=\"600\"                srcdoc=\"<html><body>&lt;?xml version=&quot;1.0&quot; encoding=&quot;UTF-8&quot; standalone=&quot;no&quot;?&gt;\n",
       "&lt;!-- This is a Stata 16.0 generated SVG file (http://www.stata.com) --&gt;\n",
       "\n",
       "&lt;svg version=&quot;1.1&quot; width=&quot;600px&quot; height=&quot;436px&quot; viewBox=&quot;0 0 3960 2880&quot; xmlns=&quot;http://www.w3.org/2000/svg&quot; xmlns:xlink=&quot;http://www.w3.org/1999/xlink&quot;&gt;\n",
       "\t&lt;desc&gt;Stata Graph - Graph&lt;/desc&gt;\n",
       "\t&lt;rect x=&quot;0&quot; y=&quot;0&quot; width=&quot;3960&quot; height=&quot;2880&quot; style=&quot;fill:#EAF2F3;stroke:none&quot;/&gt;\n",
       "\t&lt;rect x=&quot;0.00&quot; y=&quot;0.00&quot; width=&quot;3959.88&quot; height=&quot;2880.00&quot; style=&quot;fill:#EAF2F3&quot;/&gt;\n",
       "\t&lt;rect x=&quot;2.88&quot; y=&quot;2.88&quot; width=&quot;3954.12&quot; height=&quot;2874.24&quot; style=&quot;fill:none;stroke:#EAF2F3;stroke-width:5.76&quot;/&gt;\n",
       "\t&lt;rect x=&quot;390.80&quot; y=&quot;100.86&quot; width=&quot;3468.22&quot; height=&quot;2388.33&quot; style=&quot;fill:#FFFFFF&quot;/&gt;\n",
       "\t&lt;rect x=&quot;393.68&quot; y=&quot;103.74&quot; width=&quot;3462.46&quot; height=&quot;2382.57&quot; style=&quot;fill:none;stroke:#FFFFFF;stroke-width:5.76&quot;/&gt;\n",
       "\t&lt;line x1=&quot;390.80&quot; y1=&quot;2319.39&quot; x2=&quot;3859.02&quot; y2=&quot;2319.39&quot; style=&quot;stroke:#EAF2F3;stroke-width:8.64&quot;/&gt;\n",
       "\t&lt;line x1=&quot;390.80&quot; y1=&quot;1888.36&quot; x2=&quot;3859.02&quot; y2=&quot;1888.36&quot; style=&quot;stroke:#EAF2F3;stroke-width:8.64&quot;/&gt;\n",
       "\t&lt;line x1=&quot;390.80&quot; y1=&quot;1457.33&quot; x2=&quot;3859.02&quot; y2=&quot;1457.33&quot; style=&quot;stroke:#EAF2F3;stroke-width:8.64&quot;/&gt;\n",
       "\t&lt;line x1=&quot;390.80&quot; y1=&quot;1026.29&quot; x2=&quot;3859.02&quot; y2=&quot;1026.29&quot; style=&quot;stroke:#EAF2F3;stroke-width:8.64&quot;/&gt;\n",
       "\t&lt;line x1=&quot;390.80&quot; y1=&quot;595.26&quot; x2=&quot;3859.02&quot; y2=&quot;595.26&quot; style=&quot;stroke:#EAF2F3;stroke-width:8.64&quot;/&gt;\n",
       "\t&lt;line x1=&quot;390.80&quot; y1=&quot;164.22&quot; x2=&quot;3859.02&quot; y2=&quot;164.22&quot; style=&quot;stroke:#EAF2F3;stroke-width:8.64&quot;/&gt;\n",
       "\t&lt;line x1=&quot;2626.22&quot; y1=&quot;2489.19&quot; x2=&quot;2626.22&quot; y2=&quot;100.86&quot; style=&quot;stroke:#C10534;stroke-width:8.64&quot;/&gt;\n",
       "\t&lt;line x1=&quot;3336.30&quot; y1=&quot;2489.19&quot; x2=&quot;3336.30&quot; y2=&quot;100.86&quot; style=&quot;stroke:#C10534;stroke-width:8.64&quot;/&gt;\n",
       "\t&lt;path d=&quot; M871.82 2425.95 L913.52 2402.68 L955.35 2399.96 L997.05 2377.06 L1038.88 2340.43 L1080.59 2321.99 L1122.41 2299.97 L1164.12 2289.20 L1205.94 2276.95 L1247.65 2233.26 L1289.47 2207.15 L1331.30 2155.17 L1373.01 2121.39 L1414.83 2073.99 L1456.54 2000.48 L1498.37 1978.21 L1540.07 1971.77 L1581.90 1937.74 L1623.60 1899.25 L1665.43 1847.89 L1707.13 1771.78 L1748.96 1758.91 L1790.66 1720.67 L1832.49 1653.48 L1874.19 1632.93 L1916.02 1623.53 L1957.85 1626.25 L1999.55 1668.70 L2041.38 1631.20 L2083.08 1617.59 L2124.91 1628.23 L2166.61 1624.76 L2208.44 1609.17 L2250.15 1562.39 L2291.97 1492.35 L2333.68 1456.95 L2375.51 1339.76 L2417.21 1261.92 L2459.04 1193.98 L2500.74 1151.78 L2542.57 1133.09 L2584.39 1161.93 L2626.10 1182.72 L2667.93 1267.12 L2709.63 1163.41 L2751.46 1029.01 L2793.16 980.13 L2834.99 926.05 L2876.69 840.41 L2918.52 701.68 L2960.22 491.43 L3002.05 556.64 L3043.76 530.16 L3085.58 466.06 L3127.29 362.10 L3169.11 402.94 L3210.94 358.64 L3252.64 259.39 L3294.47 291.69 L3336.18 434.99 L3378.00 282.53 L3419.71 215.58&quot; stroke-linejoin=&quot;round&quot; style=&quot;fill:none;stroke:#0000FF;stroke-width:8.64&quot;/&gt;\n",
       "\t&lt;line x1=&quot;390.80&quot; y1=&quot;2489.19&quot; x2=&quot;390.80&quot; y2=&quot;100.86&quot; style=&quot;stroke:#000000;stroke-width:5.76&quot;/&gt;\n",
       "\t&lt;line x1=&quot;390.80&quot; y1=&quot;2319.39&quot; x2=&quot;350.83&quot; y2=&quot;2319.39&quot; style=&quot;stroke:#000000;stroke-width:5.76&quot;/&gt;\n",
       "\t&lt;text x=&quot;300.72&quot; y=&quot;2319.39&quot; style=&quot;font-family:&#x27;Helvetica&#x27;;font-size:99.99px;fill:#000000&quot; transform=&quot;rotate(-90 300.72,2319.39)&quot; text-anchor=&quot;middle&quot;&gt;10000&lt;/text&gt;\n",
       "\t&lt;line x1=&quot;390.80&quot; y1=&quot;1888.36&quot; x2=&quot;350.83&quot; y2=&quot;1888.36&quot; style=&quot;stroke:#000000;stroke-width:5.76&quot;/&gt;\n",
       "\t&lt;text x=&quot;300.72&quot; y=&quot;1888.36&quot; style=&quot;font-family:&#x27;Helvetica&#x27;;font-size:99.99px;fill:#000000&quot; transform=&quot;rotate(-90 300.72,1888.36)&quot; text-anchor=&quot;middle&quot;&gt;15000&lt;/text&gt;\n",
       "\t&lt;line x1=&quot;390.80&quot; y1=&quot;1457.33&quot; x2=&quot;350.83&quot; y2=&quot;1457.33&quot; style=&quot;stroke:#000000;stroke-width:5.76&quot;/&gt;\n",
       "\t&lt;text x=&quot;300.72&quot; y=&quot;1457.33&quot; style=&quot;font-family:&#x27;Helvetica&#x27;;font-size:99.99px;fill:#000000&quot; transform=&quot;rotate(-90 300.72,1457.33)&quot; text-anchor=&quot;middle&quot;&gt;20000&lt;/text&gt;\n",
       "\t&lt;line x1=&quot;390.80&quot; y1=&quot;1026.29&quot; x2=&quot;350.83&quot; y2=&quot;1026.29&quot; style=&quot;stroke:#000000;stroke-width:5.76&quot;/&gt;\n",
       "\t&lt;text x=&quot;300.72&quot; y=&quot;1026.29&quot; style=&quot;font-family:&#x27;Helvetica&#x27;;font-size:99.99px;fill:#000000&quot; transform=&quot;rotate(-90 300.72,1026.29)&quot; text-anchor=&quot;middle&quot;&gt;25000&lt;/text&gt;\n",
       "\t&lt;line x1=&quot;390.80&quot; y1=&quot;595.26&quot; x2=&quot;350.83&quot; y2=&quot;595.26&quot; style=&quot;stroke:#000000;stroke-width:5.76&quot;/&gt;\n",
       "\t&lt;text x=&quot;300.72&quot; y=&quot;595.26&quot; style=&quot;font-family:&#x27;Helvetica&#x27;;font-size:99.99px;fill:#000000&quot; transform=&quot;rotate(-90 300.72,595.26)&quot; text-anchor=&quot;middle&quot;&gt;30000&lt;/text&gt;\n",
       "\t&lt;line x1=&quot;390.80&quot; y1=&quot;164.22&quot; x2=&quot;350.83&quot; y2=&quot;164.22&quot; style=&quot;stroke:#000000;stroke-width:5.76&quot;/&gt;\n",
       "\t&lt;text x=&quot;300.72&quot; y=&quot;164.22&quot; style=&quot;font-family:&#x27;Helvetica&#x27;;font-size:99.99px;fill:#000000&quot; transform=&quot;rotate(-90 300.72,164.22)&quot; text-anchor=&quot;middle&quot;&gt;35000&lt;/text&gt;\n",
       "\t&lt;text x=&quot;190.71&quot; y=&quot;1294.96&quot; style=&quot;font-family:&#x27;Helvetica&#x27;;font-size:99.99px;fill:#000000&quot; transform=&quot;rotate(-90 190.71,1294.96)&quot; text-anchor=&quot;middle&quot;&gt;Real GDP per Capita (2005)&lt;/text&gt;\n",
       "\t&lt;line x1=&quot;390.80&quot; y1=&quot;2489.19&quot; x2=&quot;3859.02&quot; y2=&quot;2489.19&quot; style=&quot;stroke:#000000;stroke-width:5.76&quot;/&gt;\n",
       "\t&lt;line x1=&quot;454.16&quot; y1=&quot;2489.19&quot; x2=&quot;454.16&quot; y2=&quot;2529.16&quot; style=&quot;stroke:#000000;stroke-width:5.76&quot;/&gt;\n",
       "\t&lt;text x=&quot;454.16&quot; y=&quot;2619.14&quot; style=&quot;font-family:&#x27;Helvetica&#x27;;font-size:99.99px;fill:#000000&quot; text-anchor=&quot;middle&quot;&gt;1940&lt;/text&gt;\n",
       "\t&lt;line x1=&quot;1289.47&quot; y1=&quot;2489.19&quot; x2=&quot;1289.47&quot; y2=&quot;2529.16&quot; style=&quot;stroke:#000000;stroke-width:5.76&quot;/&gt;\n",
       "\t&lt;text x=&quot;1289.47&quot; y=&quot;2619.14&quot; style=&quot;font-family:&#x27;Helvetica&#x27;;font-size:99.99px;fill:#000000&quot; text-anchor=&quot;middle&quot;&gt;1960&lt;/text&gt;\n",
       "\t&lt;line x1=&quot;2124.91&quot; y1=&quot;2489.19&quot; x2=&quot;2124.91&quot; y2=&quot;2529.16&quot; style=&quot;stroke:#000000;stroke-width:5.76&quot;/&gt;\n",
       "\t&lt;text x=&quot;2124.91&quot; y=&quot;2619.14&quot; style=&quot;font-family:&#x27;Helvetica&#x27;;font-size:99.99px;fill:#000000&quot; text-anchor=&quot;middle&quot;&gt;1980&lt;/text&gt;\n",
       "\t&lt;line x1=&quot;2960.35&quot; y1=&quot;2489.19&quot; x2=&quot;2960.35&quot; y2=&quot;2529.16&quot; style=&quot;stroke:#000000;stroke-width:5.76&quot;/&gt;\n",
       "\t&lt;text x=&quot;2960.35&quot; y=&quot;2619.14&quot; style=&quot;font-family:&#x27;Helvetica&#x27;;font-size:99.99px;fill:#000000&quot; text-anchor=&quot;middle&quot;&gt;2000&lt;/text&gt;\n",
       "\t&lt;line x1=&quot;3795.66&quot; y1=&quot;2489.19&quot; x2=&quot;3795.66&quot; y2=&quot;2529.16&quot; style=&quot;stroke:#000000;stroke-width:5.76&quot;/&gt;\n",
       "\t&lt;text x=&quot;3795.66&quot; y=&quot;2619.14&quot; style=&quot;font-family:&#x27;Helvetica&#x27;;font-size:99.99px;fill:#000000&quot; text-anchor=&quot;middle&quot;&gt;2020&lt;/text&gt;\n",
       "\t&lt;text x=&quot;2124.91&quot; y=&quot;2729.16&quot; style=&quot;font-family:&#x27;Helvetica&#x27;;font-size:99.99px;fill:#000000&quot; text-anchor=&quot;middle&quot;&gt;Year&lt;/text&gt;\n",
       "&lt;/svg&gt;\n",
       "</body></html>\"></iframe>\n"
      ],
      "text/plain": [
       "This front-end cannot display the desired image type."
      ]
     },
     "metadata": {
      "image/svg+xml": {
       "height": 436,
       "width": 600
      },
      "text/html": {
       "height": 436,
       "width": 600
      }
     },
     "output_type": "display_data"
    }
   ],
   "source": [
    "twoway (line gle_rgdpc year if cname==\"Sweden\", lcolor(blue)), xline(1992 2009)"
   ]
  },
  {
   "cell_type": "markdown",
   "metadata": {},
   "source": [
    "Next we add a reference line on the Y axis, that marks 20000 dollars in GDP per capita, with the option `yline(20000)`. We can also use options within the yline parentheses to change the looks of that line."
   ]
  },
  {
   "cell_type": "code",
   "execution_count": 8,
   "metadata": {},
   "outputs": [
    {
     "data": {
      "application/pdf": "[encoded data removed]",
      "image/svg+xml": [
       "<?xml version=\"1.0\" encoding=\"UTF-8\" standalone=\"no\"?>\n",
       "<!-- This is a Stata 16.0 generated SVG file (http://www.stata.com) -->\n",
       "\n",
       "<svg version=\"1.1\" width=\"600px\" height=\"436px\" viewBox=\"0 0 3960 2880\" xmlns=\"http://www.w3.org/2000/svg\" xmlns:xlink=\"http://www.w3.org/1999/xlink\">\n",
       "\t<desc>Stata Graph - Graph</desc>\n",
       "\t<rect x=\"0\" y=\"0\" width=\"3960\" height=\"2880\" style=\"fill:#EAF2F3;stroke:none\"/>\n",
       "\t<rect x=\"0.00\" y=\"0.00\" width=\"3959.88\" height=\"2880.00\" style=\"fill:#EAF2F3\"/>\n",
       "\t<rect x=\"2.88\" y=\"2.88\" width=\"3954.12\" height=\"2874.24\" style=\"fill:none;stroke:#EAF2F3;stroke-width:5.76\"/>\n",
       "\t<rect x=\"390.80\" y=\"100.86\" width=\"3468.22\" height=\"2388.33\" style=\"fill:#FFFFFF\"/>\n",
       "\t<rect x=\"393.68\" y=\"103.74\" width=\"3462.46\" height=\"2382.57\" style=\"fill:none;stroke:#FFFFFF;stroke-width:5.76\"/>\n",
       "\t<line x1=\"390.80\" y1=\"2319.39\" x2=\"3859.02\" y2=\"2319.39\" style=\"stroke:#EAF2F3;stroke-width:8.64\"/>\n",
       "\t<line x1=\"390.80\" y1=\"1888.36\" x2=\"3859.02\" y2=\"1888.36\" style=\"stroke:#EAF2F3;stroke-width:8.64\"/>\n",
       "\t<line x1=\"390.80\" y1=\"1457.33\" x2=\"3859.02\" y2=\"1457.33\" style=\"stroke:#EAF2F3;stroke-width:8.64\"/>\n",
       "\t<line x1=\"390.80\" y1=\"1026.29\" x2=\"3859.02\" y2=\"1026.29\" style=\"stroke:#EAF2F3;stroke-width:8.64\"/>\n",
       "\t<line x1=\"390.80\" y1=\"595.26\" x2=\"3859.02\" y2=\"595.26\" style=\"stroke:#EAF2F3;stroke-width:8.64\"/>\n",
       "\t<line x1=\"390.80\" y1=\"164.22\" x2=\"3859.02\" y2=\"164.22\" style=\"stroke:#EAF2F3;stroke-width:8.64\"/>\n",
       "\t<line x1=\"390.80\" y1=\"1457.33\" x2=\"3859.02\" y2=\"1457.33\" style=\"stroke:#C10534;stroke-width:8.64\"/>\n",
       "\t<path d=\" M871.82 2425.95 L913.52 2402.68 L955.35 2399.96 L997.05 2377.06 L1038.88 2340.43 L1080.59 2321.99 L1122.41 2299.97 L1164.12 2289.20 L1205.94 2276.95 L1247.65 2233.26 L1289.47 2207.15 L1331.30 2155.17 L1373.01 2121.39 L1414.83 2073.99 L1456.54 2000.48 L1498.37 1978.21 L1540.07 1971.77 L1581.90 1937.74 L1623.60 1899.25 L1665.43 1847.89 L1707.13 1771.78 L1748.96 1758.91 L1790.66 1720.67 L1832.49 1653.48 L1874.19 1632.93 L1916.02 1623.53 L1957.85 1626.25 L1999.55 1668.70 L2041.38 1631.20 L2083.08 1617.59 L2124.91 1628.23 L2166.61 1624.76 L2208.44 1609.17 L2250.15 1562.39 L2291.97 1492.35 L2333.68 1456.95 L2375.51 1339.76 L2417.21 1261.92 L2459.04 1193.98 L2500.74 1151.78 L2542.57 1133.09 L2584.39 1161.93 L2626.10 1182.72 L2667.93 1267.12 L2709.63 1163.41 L2751.46 1029.01 L2793.16 980.13 L2834.99 926.05 L2876.69 840.41 L2918.52 701.68 L2960.22 491.43 L3002.05 556.64 L3043.76 530.16 L3085.58 466.06 L3127.29 362.10 L3169.11 402.94 L3210.94 358.64 L3252.64 259.39 L3294.47 291.69 L3336.18 434.99 L3378.00 282.53 L3419.71 215.58\" stroke-linejoin=\"round\" style=\"fill:none;stroke:#0000FF;stroke-width:8.64\"/>\n",
       "\t<line x1=\"390.80\" y1=\"2489.19\" x2=\"390.80\" y2=\"100.86\" style=\"stroke:#000000;stroke-width:5.76\"/>\n",
       "\t<line x1=\"390.80\" y1=\"2319.39\" x2=\"350.83\" y2=\"2319.39\" style=\"stroke:#000000;stroke-width:5.76\"/>\n",
       "\t<text x=\"300.72\" y=\"2319.39\" style=\"font-family:'Helvetica';font-size:99.99px;fill:#000000\" transform=\"rotate(-90 300.72,2319.39)\" text-anchor=\"middle\">10000</text>\n",
       "\t<line x1=\"390.80\" y1=\"1888.36\" x2=\"350.83\" y2=\"1888.36\" style=\"stroke:#000000;stroke-width:5.76\"/>\n",
       "\t<text x=\"300.72\" y=\"1888.36\" style=\"font-family:'Helvetica';font-size:99.99px;fill:#000000\" transform=\"rotate(-90 300.72,1888.36)\" text-anchor=\"middle\">15000</text>\n",
       "\t<line x1=\"390.80\" y1=\"1457.33\" x2=\"350.83\" y2=\"1457.33\" style=\"stroke:#000000;stroke-width:5.76\"/>\n",
       "\t<text x=\"300.72\" y=\"1457.33\" style=\"font-family:'Helvetica';font-size:99.99px;fill:#000000\" transform=\"rotate(-90 300.72,1457.33)\" text-anchor=\"middle\">20000</text>\n",
       "\t<line x1=\"390.80\" y1=\"1026.29\" x2=\"350.83\" y2=\"1026.29\" style=\"stroke:#000000;stroke-width:5.76\"/>\n",
       "\t<text x=\"300.72\" y=\"1026.29\" style=\"font-family:'Helvetica';font-size:99.99px;fill:#000000\" transform=\"rotate(-90 300.72,1026.29)\" text-anchor=\"middle\">25000</text>\n",
       "\t<line x1=\"390.80\" y1=\"595.26\" x2=\"350.83\" y2=\"595.26\" style=\"stroke:#000000;stroke-width:5.76\"/>\n",
       "\t<text x=\"300.72\" y=\"595.26\" style=\"font-family:'Helvetica';font-size:99.99px;fill:#000000\" transform=\"rotate(-90 300.72,595.26)\" text-anchor=\"middle\">30000</text>\n",
       "\t<line x1=\"390.80\" y1=\"164.22\" x2=\"350.83\" y2=\"164.22\" style=\"stroke:#000000;stroke-width:5.76\"/>\n",
       "\t<text x=\"300.72\" y=\"164.22\" style=\"font-family:'Helvetica';font-size:99.99px;fill:#000000\" transform=\"rotate(-90 300.72,164.22)\" text-anchor=\"middle\">35000</text>\n",
       "\t<text x=\"190.71\" y=\"1294.96\" style=\"font-family:'Helvetica';font-size:99.99px;fill:#000000\" transform=\"rotate(-90 190.71,1294.96)\" text-anchor=\"middle\">Real GDP per Capita (2005)</text>\n",
       "\t<line x1=\"390.80\" y1=\"2489.19\" x2=\"3859.02\" y2=\"2489.19\" style=\"stroke:#000000;stroke-width:5.76\"/>\n",
       "\t<line x1=\"454.16\" y1=\"2489.19\" x2=\"454.16\" y2=\"2529.16\" style=\"stroke:#000000;stroke-width:5.76\"/>\n",
       "\t<text x=\"454.16\" y=\"2619.14\" style=\"font-family:'Helvetica';font-size:99.99px;fill:#000000\" text-anchor=\"middle\">1940</text>\n",
       "\t<line x1=\"1289.47\" y1=\"2489.19\" x2=\"1289.47\" y2=\"2529.16\" style=\"stroke:#000000;stroke-width:5.76\"/>\n",
       "\t<text x=\"1289.47\" y=\"2619.14\" style=\"font-family:'Helvetica';font-size:99.99px;fill:#000000\" text-anchor=\"middle\">1960</text>\n",
       "\t<line x1=\"2124.91\" y1=\"2489.19\" x2=\"2124.91\" y2=\"2529.16\" style=\"stroke:#000000;stroke-width:5.76\"/>\n",
       "\t<text x=\"2124.91\" y=\"2619.14\" style=\"font-family:'Helvetica';font-size:99.99px;fill:#000000\" text-anchor=\"middle\">1980</text>\n",
       "\t<line x1=\"2960.35\" y1=\"2489.19\" x2=\"2960.35\" y2=\"2529.16\" style=\"stroke:#000000;stroke-width:5.76\"/>\n",
       "\t<text x=\"2960.35\" y=\"2619.14\" style=\"font-family:'Helvetica';font-size:99.99px;fill:#000000\" text-anchor=\"middle\">2000</text>\n",
       "\t<line x1=\"3795.66\" y1=\"2489.19\" x2=\"3795.66\" y2=\"2529.16\" style=\"stroke:#000000;stroke-width:5.76\"/>\n",
       "\t<text x=\"3795.66\" y=\"2619.14\" style=\"font-family:'Helvetica';font-size:99.99px;fill:#000000\" text-anchor=\"middle\">2020</text>\n",
       "\t<text x=\"2124.91\" y=\"2729.16\" style=\"font-family:'Helvetica';font-size:99.99px;fill:#000000\" text-anchor=\"middle\">Year</text>\n",
       "</svg>\n"
      ],
      "text/html": [
       "                <iframe frameborder=\"0\" scrolling=\"no\" height=\"436\" width=\"600\"                srcdoc=\"<html><body>&lt;?xml version=&quot;1.0&quot; encoding=&quot;UTF-8&quot; standalone=&quot;no&quot;?&gt;\n",
       "&lt;!-- This is a Stata 16.0 generated SVG file (http://www.stata.com) --&gt;\n",
       "\n",
       "&lt;svg version=&quot;1.1&quot; width=&quot;600px&quot; height=&quot;436px&quot; viewBox=&quot;0 0 3960 2880&quot; xmlns=&quot;http://www.w3.org/2000/svg&quot; xmlns:xlink=&quot;http://www.w3.org/1999/xlink&quot;&gt;\n",
       "\t&lt;desc&gt;Stata Graph - Graph&lt;/desc&gt;\n",
       "\t&lt;rect x=&quot;0&quot; y=&quot;0&quot; width=&quot;3960&quot; height=&quot;2880&quot; style=&quot;fill:#EAF2F3;stroke:none&quot;/&gt;\n",
       "\t&lt;rect x=&quot;0.00&quot; y=&quot;0.00&quot; width=&quot;3959.88&quot; height=&quot;2880.00&quot; style=&quot;fill:#EAF2F3&quot;/&gt;\n",
       "\t&lt;rect x=&quot;2.88&quot; y=&quot;2.88&quot; width=&quot;3954.12&quot; height=&quot;2874.24&quot; style=&quot;fill:none;stroke:#EAF2F3;stroke-width:5.76&quot;/&gt;\n",
       "\t&lt;rect x=&quot;390.80&quot; y=&quot;100.86&quot; width=&quot;3468.22&quot; height=&quot;2388.33&quot; style=&quot;fill:#FFFFFF&quot;/&gt;\n",
       "\t&lt;rect x=&quot;393.68&quot; y=&quot;103.74&quot; width=&quot;3462.46&quot; height=&quot;2382.57&quot; style=&quot;fill:none;stroke:#FFFFFF;stroke-width:5.76&quot;/&gt;\n",
       "\t&lt;line x1=&quot;390.80&quot; y1=&quot;2319.39&quot; x2=&quot;3859.02&quot; y2=&quot;2319.39&quot; style=&quot;stroke:#EAF2F3;stroke-width:8.64&quot;/&gt;\n",
       "\t&lt;line x1=&quot;390.80&quot; y1=&quot;1888.36&quot; x2=&quot;3859.02&quot; y2=&quot;1888.36&quot; style=&quot;stroke:#EAF2F3;stroke-width:8.64&quot;/&gt;\n",
       "\t&lt;line x1=&quot;390.80&quot; y1=&quot;1457.33&quot; x2=&quot;3859.02&quot; y2=&quot;1457.33&quot; style=&quot;stroke:#EAF2F3;stroke-width:8.64&quot;/&gt;\n",
       "\t&lt;line x1=&quot;390.80&quot; y1=&quot;1026.29&quot; x2=&quot;3859.02&quot; y2=&quot;1026.29&quot; style=&quot;stroke:#EAF2F3;stroke-width:8.64&quot;/&gt;\n",
       "\t&lt;line x1=&quot;390.80&quot; y1=&quot;595.26&quot; x2=&quot;3859.02&quot; y2=&quot;595.26&quot; style=&quot;stroke:#EAF2F3;stroke-width:8.64&quot;/&gt;\n",
       "\t&lt;line x1=&quot;390.80&quot; y1=&quot;164.22&quot; x2=&quot;3859.02&quot; y2=&quot;164.22&quot; style=&quot;stroke:#EAF2F3;stroke-width:8.64&quot;/&gt;\n",
       "\t&lt;line x1=&quot;390.80&quot; y1=&quot;1457.33&quot; x2=&quot;3859.02&quot; y2=&quot;1457.33&quot; style=&quot;stroke:#C10534;stroke-width:8.64&quot;/&gt;\n",
       "\t&lt;path d=&quot; M871.82 2425.95 L913.52 2402.68 L955.35 2399.96 L997.05 2377.06 L1038.88 2340.43 L1080.59 2321.99 L1122.41 2299.97 L1164.12 2289.20 L1205.94 2276.95 L1247.65 2233.26 L1289.47 2207.15 L1331.30 2155.17 L1373.01 2121.39 L1414.83 2073.99 L1456.54 2000.48 L1498.37 1978.21 L1540.07 1971.77 L1581.90 1937.74 L1623.60 1899.25 L1665.43 1847.89 L1707.13 1771.78 L1748.96 1758.91 L1790.66 1720.67 L1832.49 1653.48 L1874.19 1632.93 L1916.02 1623.53 L1957.85 1626.25 L1999.55 1668.70 L2041.38 1631.20 L2083.08 1617.59 L2124.91 1628.23 L2166.61 1624.76 L2208.44 1609.17 L2250.15 1562.39 L2291.97 1492.35 L2333.68 1456.95 L2375.51 1339.76 L2417.21 1261.92 L2459.04 1193.98 L2500.74 1151.78 L2542.57 1133.09 L2584.39 1161.93 L2626.10 1182.72 L2667.93 1267.12 L2709.63 1163.41 L2751.46 1029.01 L2793.16 980.13 L2834.99 926.05 L2876.69 840.41 L2918.52 701.68 L2960.22 491.43 L3002.05 556.64 L3043.76 530.16 L3085.58 466.06 L3127.29 362.10 L3169.11 402.94 L3210.94 358.64 L3252.64 259.39 L3294.47 291.69 L3336.18 434.99 L3378.00 282.53 L3419.71 215.58&quot; stroke-linejoin=&quot;round&quot; style=&quot;fill:none;stroke:#0000FF;stroke-width:8.64&quot;/&gt;\n",
       "\t&lt;line x1=&quot;390.80&quot; y1=&quot;2489.19&quot; x2=&quot;390.80&quot; y2=&quot;100.86&quot; style=&quot;stroke:#000000;stroke-width:5.76&quot;/&gt;\n",
       "\t&lt;line x1=&quot;390.80&quot; y1=&quot;2319.39&quot; x2=&quot;350.83&quot; y2=&quot;2319.39&quot; style=&quot;stroke:#000000;stroke-width:5.76&quot;/&gt;\n",
       "\t&lt;text x=&quot;300.72&quot; y=&quot;2319.39&quot; style=&quot;font-family:&#x27;Helvetica&#x27;;font-size:99.99px;fill:#000000&quot; transform=&quot;rotate(-90 300.72,2319.39)&quot; text-anchor=&quot;middle&quot;&gt;10000&lt;/text&gt;\n",
       "\t&lt;line x1=&quot;390.80&quot; y1=&quot;1888.36&quot; x2=&quot;350.83&quot; y2=&quot;1888.36&quot; style=&quot;stroke:#000000;stroke-width:5.76&quot;/&gt;\n",
       "\t&lt;text x=&quot;300.72&quot; y=&quot;1888.36&quot; style=&quot;font-family:&#x27;Helvetica&#x27;;font-size:99.99px;fill:#000000&quot; transform=&quot;rotate(-90 300.72,1888.36)&quot; text-anchor=&quot;middle&quot;&gt;15000&lt;/text&gt;\n",
       "\t&lt;line x1=&quot;390.80&quot; y1=&quot;1457.33&quot; x2=&quot;350.83&quot; y2=&quot;1457.33&quot; style=&quot;stroke:#000000;stroke-width:5.76&quot;/&gt;\n",
       "\t&lt;text x=&quot;300.72&quot; y=&quot;1457.33&quot; style=&quot;font-family:&#x27;Helvetica&#x27;;font-size:99.99px;fill:#000000&quot; transform=&quot;rotate(-90 300.72,1457.33)&quot; text-anchor=&quot;middle&quot;&gt;20000&lt;/text&gt;\n",
       "\t&lt;line x1=&quot;390.80&quot; y1=&quot;1026.29&quot; x2=&quot;350.83&quot; y2=&quot;1026.29&quot; style=&quot;stroke:#000000;stroke-width:5.76&quot;/&gt;\n",
       "\t&lt;text x=&quot;300.72&quot; y=&quot;1026.29&quot; style=&quot;font-family:&#x27;Helvetica&#x27;;font-size:99.99px;fill:#000000&quot; transform=&quot;rotate(-90 300.72,1026.29)&quot; text-anchor=&quot;middle&quot;&gt;25000&lt;/text&gt;\n",
       "\t&lt;line x1=&quot;390.80&quot; y1=&quot;595.26&quot; x2=&quot;350.83&quot; y2=&quot;595.26&quot; style=&quot;stroke:#000000;stroke-width:5.76&quot;/&gt;\n",
       "\t&lt;text x=&quot;300.72&quot; y=&quot;595.26&quot; style=&quot;font-family:&#x27;Helvetica&#x27;;font-size:99.99px;fill:#000000&quot; transform=&quot;rotate(-90 300.72,595.26)&quot; text-anchor=&quot;middle&quot;&gt;30000&lt;/text&gt;\n",
       "\t&lt;line x1=&quot;390.80&quot; y1=&quot;164.22&quot; x2=&quot;350.83&quot; y2=&quot;164.22&quot; style=&quot;stroke:#000000;stroke-width:5.76&quot;/&gt;\n",
       "\t&lt;text x=&quot;300.72&quot; y=&quot;164.22&quot; style=&quot;font-family:&#x27;Helvetica&#x27;;font-size:99.99px;fill:#000000&quot; transform=&quot;rotate(-90 300.72,164.22)&quot; text-anchor=&quot;middle&quot;&gt;35000&lt;/text&gt;\n",
       "\t&lt;text x=&quot;190.71&quot; y=&quot;1294.96&quot; style=&quot;font-family:&#x27;Helvetica&#x27;;font-size:99.99px;fill:#000000&quot; transform=&quot;rotate(-90 190.71,1294.96)&quot; text-anchor=&quot;middle&quot;&gt;Real GDP per Capita (2005)&lt;/text&gt;\n",
       "\t&lt;line x1=&quot;390.80&quot; y1=&quot;2489.19&quot; x2=&quot;3859.02&quot; y2=&quot;2489.19&quot; style=&quot;stroke:#000000;stroke-width:5.76&quot;/&gt;\n",
       "\t&lt;line x1=&quot;454.16&quot; y1=&quot;2489.19&quot; x2=&quot;454.16&quot; y2=&quot;2529.16&quot; style=&quot;stroke:#000000;stroke-width:5.76&quot;/&gt;\n",
       "\t&lt;text x=&quot;454.16&quot; y=&quot;2619.14&quot; style=&quot;font-family:&#x27;Helvetica&#x27;;font-size:99.99px;fill:#000000&quot; text-anchor=&quot;middle&quot;&gt;1940&lt;/text&gt;\n",
       "\t&lt;line x1=&quot;1289.47&quot; y1=&quot;2489.19&quot; x2=&quot;1289.47&quot; y2=&quot;2529.16&quot; style=&quot;stroke:#000000;stroke-width:5.76&quot;/&gt;\n",
       "\t&lt;text x=&quot;1289.47&quot; y=&quot;2619.14&quot; style=&quot;font-family:&#x27;Helvetica&#x27;;font-size:99.99px;fill:#000000&quot; text-anchor=&quot;middle&quot;&gt;1960&lt;/text&gt;\n",
       "\t&lt;line x1=&quot;2124.91&quot; y1=&quot;2489.19&quot; x2=&quot;2124.91&quot; y2=&quot;2529.16&quot; style=&quot;stroke:#000000;stroke-width:5.76&quot;/&gt;\n",
       "\t&lt;text x=&quot;2124.91&quot; y=&quot;2619.14&quot; style=&quot;font-family:&#x27;Helvetica&#x27;;font-size:99.99px;fill:#000000&quot; text-anchor=&quot;middle&quot;&gt;1980&lt;/text&gt;\n",
       "\t&lt;line x1=&quot;2960.35&quot; y1=&quot;2489.19&quot; x2=&quot;2960.35&quot; y2=&quot;2529.16&quot; style=&quot;stroke:#000000;stroke-width:5.76&quot;/&gt;\n",
       "\t&lt;text x=&quot;2960.35&quot; y=&quot;2619.14&quot; style=&quot;font-family:&#x27;Helvetica&#x27;;font-size:99.99px;fill:#000000&quot; text-anchor=&quot;middle&quot;&gt;2000&lt;/text&gt;\n",
       "\t&lt;line x1=&quot;3795.66&quot; y1=&quot;2489.19&quot; x2=&quot;3795.66&quot; y2=&quot;2529.16&quot; style=&quot;stroke:#000000;stroke-width:5.76&quot;/&gt;\n",
       "\t&lt;text x=&quot;3795.66&quot; y=&quot;2619.14&quot; style=&quot;font-family:&#x27;Helvetica&#x27;;font-size:99.99px;fill:#000000&quot; text-anchor=&quot;middle&quot;&gt;2020&lt;/text&gt;\n",
       "\t&lt;text x=&quot;2124.91&quot; y=&quot;2729.16&quot; style=&quot;font-family:&#x27;Helvetica&#x27;;font-size:99.99px;fill:#000000&quot; text-anchor=&quot;middle&quot;&gt;Year&lt;/text&gt;\n",
       "&lt;/svg&gt;\n",
       "</body></html>\"></iframe>\n"
      ],
      "text/plain": [
       "This front-end cannot display the desired image type."
      ]
     },
     "metadata": {
      "image/svg+xml": {
       "height": 436,
       "width": 600
      },
      "text/html": {
       "height": 436,
       "width": 600
      }
     },
     "output_type": "display_data"
    }
   ],
   "source": [
    "twoway (line gle_rgdpc year if cname==\"Sweden\", lcolor(blue)), yline(20000)"
   ]
  },
  {
   "cell_type": "markdown",
   "metadata": {},
   "source": [
    "## Conclusion\n",
    "\n",
    "Line graphs are simple and pedagogical, if we want to show how something has changed over time. But in order for it to work, we need to have data with only one value per unit of time. This can be arranged by deleting all other observations from the data first, or with the help of if qualifiers in the command itself.\n",
    "\n",
    "And as we talked about above, more lines can be added to the same graph, but they then need to be in separate layers in the `twoway` command."
   ]
  }
 ],
 "metadata": {
  "kernelspec": {
   "display_name": "Stata",
   "language": "stata",
   "name": "stata"
  },
  "language_info": {
   "codemirror_mode": "stata",
   "file_extension": ".do",
   "mimetype": "text/x-stata",
   "name": "stata",
   "version": "15.1"
  }
 },
 "nbformat": 4,
 "nbformat_minor": 4
}
