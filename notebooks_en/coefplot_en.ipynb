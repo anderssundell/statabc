{
 "cells": [
  {
   "cell_type": "markdown",
   "metadata": {},
   "source": [
    "# Visualize regression coefficients with `coefplot`"
   ]
  },
  {
   "cell_type": "markdown",
   "metadata": {},
   "source": [
    "[Svensk version](../sv/coefplot_sv.html) | [Front page](../index_en.html)\n",
    "\n",
    "Tables can show a lot of information, but that information might be hard to grasp intuitively. Preferably, we want to present results as simply as possible, so that our readers don't have to put in effort to understand what we are trying to communicate.\n",
    "\n",
    "This is especially true for regression analysis. If they become too packed with coefficients many people will simply scan them for significance stars, which is unfortunate. A onsequence is that we don't pay attention to coefficients that are estimated precisely around zero, and coefficients estimated at some large value, with big uncerstainty - both will be insignificant.\n",
    "\n",
    "More and more are therefore electing to show regression coefficients graphically, with confidence intervals. The graphs make comparisons easy, they show what is significant (the confidence intervals do not cover zero) and the degree of uncertainty (the width of the intervals).\n",
    "\n",
    "By default, Stata shows the end points of the confidence intervals in the regression tables, but there is also a nice user built command that lets us do an informative graph. It is called `coefplot`.\n",
    "\n",
    "In this guide we will cover how to make a coefficient plot with `coefplot`, and also how to make it show standardized regression coefficients.\n",
    "\n",
    "## Installing `coefplot`\n",
    "\n",
    "Since the command is user generated we first need to insetall `coefplot`. We do that by writing:"
   ]
  },
  {
   "cell_type": "code",
   "execution_count": 3,
   "metadata": {},
   "outputs": [
    {
     "name": "stdout",
     "output_type": "stream",
     "text": [
      "checking coefplot consistency and verifying not already installed...\n",
      "all files already exist and are up to date.\n"
     ]
    }
   ],
   "source": [
    "ssc install coefplot, replace"
   ]
  },
  {
   "cell_type": "markdown",
   "metadata": {},
   "source": [
    "## A regression analysis with a few variables\n",
    "\n",
    "We then load the QoG data to have something to work with:"
   ]
  },
  {
   "cell_type": "code",
   "execution_count": 1,
   "metadata": {},
   "outputs": [
    {
     "name": "stdout",
     "output_type": "stream",
     "text": [
      "(Quality of Government Basic dataset 2018 - Cross-Section)\n"
     ]
    }
   ],
   "source": [
    "use \"https://www.qogdata.pol.gu.se/dataarchive/qog_bas_cs_jan18.dta\", clear"
   ]
  },
  {
   "cell_type": "markdown",
   "metadata": {},
   "source": [
    "We will run a regression analysis where the level of corruption (ti_cip - coded so that higher values mean less corruption) is the dependent variable, and the level of democracy (p_polity2), GDP per capita (gle_rgdpc), distance from the equator (lp_lat_abst) and the level of ethnic fragmentation (al_ethnic) are independent variables."
   ]
  },
  {
   "cell_type": "code",
   "execution_count": 2,
   "metadata": {},
   "outputs": [
    {
     "name": "stdout",
     "output_type": "stream",
     "text": [
      "\n",
      "      Source |       SS           df       MS      Number of obs   =       133\n",
      "-------------+----------------------------------   F(4, 128)       =     62.20\n",
      "       Model |  35203.5053         4  8800.87633   Prob > F        =    0.0000\n",
      "    Residual |  18112.0135       128  141.500105   R-squared       =    0.6603\n",
      "-------------+----------------------------------   Adj R-squared   =    0.6497\n",
      "       Total |  53315.5188       132  403.905445   Root MSE        =    11.895\n",
      "\n",
      "------------------------------------------------------------------------------\n",
      "      ti_cpi |      Coef.   Std. Err.      t    P>|t|     [95% Conf. Interval]\n",
      "-------------+----------------------------------------------------------------\n",
      "   p_polity2 |   .7902483   .1782931     4.43   0.000     .4374649    1.143032\n",
      "   gle_rgdpc |    .000788   .0000843     9.35   0.000     .0006212    .0009547\n",
      " lp_lat_abst |   19.94143   8.250433     2.42   0.017     3.616537    36.26632\n",
      "   al_ethnic |  -5.225239   4.711059    -1.11   0.269    -14.54687    4.096395\n",
      "       _cons |   27.27983   3.752997     7.27   0.000     19.85388    34.70577\n",
      "------------------------------------------------------------------------------\n"
     ]
    }
   ],
   "source": [
    "reg ti_cpi p_polity2 gle_rgdpc lp_lat_abst al_ethnic"
   ]
  },
  {
   "cell_type": "markdown",
   "metadata": {},
   "source": [
    "The variables have various effects: the level of democracy (p_polity2), economic development (gle_rgdpc) and distance from the equator (lp_lat_abst) all have a positive coefficiet, and are statisticall significant (the p-values are below 0.05). Ethnic fragmentation (al_ethnic) has a negative effect, which means that more ethnic fragmentation is associated with more corruption. Remember that higher values on \"ti_cpi\" means less corruption. The ethnic fragmentation variable is however not significant (since the p-value is above 0.05)."
   ]
  },
  {
   "cell_type": "markdown",
   "metadata": {},
   "source": [
    "## Visualize unstandardized coefficents with `coefplot`\n",
    "\n",
    "Now we are going to make a coefficient plot. It is simple: After running a regression analysis, we just type `coefplot`. We will also immediately add an option that draws a line at the 0 on the x axis, `xline(0)`. All coefficients whose confidence interval (marked by the horizontal lines) does not touch the zero line are significant."
   ]
  },
  {
   "cell_type": "code",
   "execution_count": 3,
   "metadata": {},
   "outputs": [
    {
     "data": {
      "application/pdf": "[encoded data removed]",
      "image/svg+xml": [
       "<?xml version=\"1.0\" encoding=\"UTF-8\" standalone=\"no\"?>\n",
       "<!-- This is a Stata 16.0 generated SVG file (http://www.stata.com) -->\n",
       "\n",
       "<svg version=\"1.1\" width=\"600px\" height=\"436px\" viewBox=\"0 0 3960 2880\" xmlns=\"http://www.w3.org/2000/svg\" xmlns:xlink=\"http://www.w3.org/1999/xlink\">\n",
       "\t<desc>Stata Graph - Graph</desc>\n",
       "\t<rect x=\"0\" y=\"0\" width=\"3960\" height=\"2880\" style=\"fill:#EAF2F3;stroke:none\"/>\n",
       "\t<rect x=\"0.00\" y=\"0.00\" width=\"3959.88\" height=\"2880.00\" style=\"fill:#EAF2F3\"/>\n",
       "\t<rect x=\"2.88\" y=\"2.88\" width=\"3954.12\" height=\"2874.24\" style=\"fill:none;stroke:#EAF2F3;stroke-width:5.76\"/>\n",
       "\t<rect x=\"1664.93\" y=\"100.86\" width=\"2194.09\" height=\"2488.32\" style=\"fill:#FFFFFF\"/>\n",
       "\t<rect x=\"1667.81\" y=\"103.74\" width=\"2188.33\" height=\"2482.56\" style=\"fill:none;stroke:#FFFFFF;stroke-width:5.76\"/>\n",
       "\t<line x1=\"1664.93\" y1=\"349.60\" x2=\"3859.02\" y2=\"349.60\" style=\"stroke:#EAF2F3;stroke-width:8.64\"/>\n",
       "\t<line x1=\"1664.93\" y1=\"847.34\" x2=\"3859.02\" y2=\"847.34\" style=\"stroke:#EAF2F3;stroke-width:8.64\"/>\n",
       "\t<line x1=\"1664.93\" y1=\"1344.96\" x2=\"3859.02\" y2=\"1344.96\" style=\"stroke:#EAF2F3;stroke-width:8.64\"/>\n",
       "\t<line x1=\"1664.93\" y1=\"1842.70\" x2=\"3859.02\" y2=\"1842.70\" style=\"stroke:#EAF2F3;stroke-width:8.64\"/>\n",
       "\t<line x1=\"1664.93\" y1=\"2340.31\" x2=\"3859.02\" y2=\"2340.31\" style=\"stroke:#EAF2F3;stroke-width:8.64\"/>\n",
       "\t<line x1=\"2417.46\" y1=\"2589.18\" x2=\"2417.46\" y2=\"100.86\" style=\"stroke:#C10534;stroke-width:8.64\"/>\n",
       "\t<line x1=\"2432.55\" y1=\"349.60\" x2=\"2456.81\" y2=\"349.60\" style=\"stroke:#1A476F;stroke-width:8.64\"/>\n",
       "\t<line x1=\"2417.46\" y1=\"847.34\" x2=\"2417.46\" y2=\"847.34\" style=\"stroke:#1A476F;stroke-width:8.64\"/>\n",
       "\t<line x1=\"2542.07\" y1=\"1344.96\" x2=\"3667.08\" y2=\"1344.96\" style=\"stroke:#1A476F;stroke-width:8.64\"/>\n",
       "\t<line x1=\"1916.14\" y1=\"1842.70\" x2=\"2558.53\" y2=\"1842.70\" style=\"stroke:#1A476F;stroke-width:8.64\"/>\n",
       "\t<line x1=\"3101.55\" y1=\"2340.31\" x2=\"3613.25\" y2=\"2340.31\" style=\"stroke:#1A476F;stroke-width:8.64\"/>\n",
       "\t<circle cx=\"2444.56\" cy=\"349.73\" r=\"26.35\" style=\"fill:#1A476F\"/>\n",
       "\t<circle cx=\"2444.56\" cy=\"349.73\" r=\"22.03\" style=\"fill:none;stroke:#1A476F;stroke-width:8.64\"/>\n",
       "\t<circle cx=\"2417.46\" cy=\"847.34\" r=\"26.35\" style=\"fill:#1A476F\"/>\n",
       "\t<circle cx=\"2417.46\" cy=\"847.34\" r=\"22.03\" style=\"fill:none;stroke:#1A476F;stroke-width:8.64\"/>\n",
       "\t<circle cx=\"3104.52\" cy=\"1345.08\" r=\"26.35\" style=\"fill:#1A476F\"/>\n",
       "\t<circle cx=\"3104.52\" cy=\"1345.08\" r=\"22.03\" style=\"fill:none;stroke:#1A476F;stroke-width:8.64\"/>\n",
       "\t<circle cx=\"2237.28\" cy=\"1842.70\" r=\"26.35\" style=\"fill:#1A476F\"/>\n",
       "\t<circle cx=\"2237.28\" cy=\"1842.70\" r=\"22.03\" style=\"fill:none;stroke:#1A476F;stroke-width:8.64\"/>\n",
       "\t<circle cx=\"3357.34\" cy=\"2340.43\" r=\"26.35\" style=\"fill:#1A476F\"/>\n",
       "\t<circle cx=\"3357.34\" cy=\"2340.43\" r=\"22.03\" style=\"fill:none;stroke:#1A476F;stroke-width:8.64\"/>\n",
       "\t<line x1=\"1664.93\" y1=\"2589.18\" x2=\"1664.93\" y2=\"100.86\" style=\"stroke:#000000;stroke-width:5.76\"/>\n",
       "\t<line x1=\"1664.93\" y1=\"349.60\" x2=\"1624.96\" y2=\"349.60\" style=\"stroke:#000000;stroke-width:5.76\"/>\n",
       "\t<text x=\"1604.91\" y=\"384.63\" style=\"font-family:'Helvetica';font-size:99.99px;fill:#000000\" text-anchor=\"end\">Revised Combined Polity Score</text>\n",
       "\t<line x1=\"1664.93\" y1=\"847.34\" x2=\"1624.96\" y2=\"847.34\" style=\"stroke:#000000;stroke-width:5.76\"/>\n",
       "\t<text x=\"1604.91\" y=\"882.37\" style=\"font-family:'Helvetica';font-size:99.99px;fill:#000000\" text-anchor=\"end\">Real GDP per Capita (2005)</text>\n",
       "\t<line x1=\"1664.93\" y1=\"1344.96\" x2=\"1624.96\" y2=\"1344.96\" style=\"stroke:#000000;stroke-width:5.76\"/>\n",
       "\t<text x=\"1604.91\" y=\"1379.99\" style=\"font-family:'Helvetica';font-size:99.99px;fill:#000000\" text-anchor=\"end\">Latitude</text>\n",
       "\t<line x1=\"1664.93\" y1=\"1842.70\" x2=\"1624.96\" y2=\"1842.70\" style=\"stroke:#000000;stroke-width:5.76\"/>\n",
       "\t<text x=\"1604.91\" y=\"1877.72\" style=\"font-family:'Helvetica';font-size:99.99px;fill:#000000\" text-anchor=\"end\">Ethnic Fractionalization</text>\n",
       "\t<line x1=\"1664.93\" y1=\"2340.31\" x2=\"1624.96\" y2=\"2340.31\" style=\"stroke:#000000;stroke-width:5.76\"/>\n",
       "\t<text x=\"1604.91\" y=\"2375.34\" style=\"font-family:'Helvetica';font-size:99.99px;fill:#000000\" text-anchor=\"end\">_cons</text>\n",
       "\t<line x1=\"1664.93\" y1=\"2589.18\" x2=\"3859.02\" y2=\"2589.18\" style=\"stroke:#000000;stroke-width:5.76\"/>\n",
       "\t<line x1=\"1728.29\" y1=\"2589.18\" x2=\"1728.29\" y2=\"2629.15\" style=\"stroke:#000000;stroke-width:5.76\"/>\n",
       "\t<text x=\"1728.29\" y=\"2719.13\" style=\"font-family:'Helvetica';font-size:99.99px;fill:#000000\" text-anchor=\"middle\">-20</text>\n",
       "\t<line x1=\"2417.46\" y1=\"2589.18\" x2=\"2417.46\" y2=\"2629.15\" style=\"stroke:#000000;stroke-width:5.76\"/>\n",
       "\t<text x=\"2417.46\" y=\"2719.13\" style=\"font-family:'Helvetica';font-size:99.99px;fill:#000000\" text-anchor=\"middle\">0</text>\n",
       "\t<line x1=\"3106.62\" y1=\"2589.18\" x2=\"3106.62\" y2=\"2629.15\" style=\"stroke:#000000;stroke-width:5.76\"/>\n",
       "\t<text x=\"3106.62\" y=\"2719.13\" style=\"font-family:'Helvetica';font-size:99.99px;fill:#000000\" text-anchor=\"middle\">20</text>\n",
       "\t<line x1=\"3795.66\" y1=\"2589.18\" x2=\"3795.66\" y2=\"2629.15\" style=\"stroke:#000000;stroke-width:5.76\"/>\n",
       "\t<text x=\"3795.66\" y=\"2719.13\" style=\"font-family:'Helvetica';font-size:99.99px;fill:#000000\" text-anchor=\"middle\">40</text>\n",
       "</svg>\n"
      ],
      "text/html": [
       "                <iframe frameborder=\"0\" scrolling=\"no\" height=\"436\" width=\"600\"                srcdoc=\"<html><body>&lt;?xml version=&quot;1.0&quot; encoding=&quot;UTF-8&quot; standalone=&quot;no&quot;?&gt;\n",
       "&lt;!-- This is a Stata 16.0 generated SVG file (http://www.stata.com) --&gt;\n",
       "\n",
       "&lt;svg version=&quot;1.1&quot; width=&quot;600px&quot; height=&quot;436px&quot; viewBox=&quot;0 0 3960 2880&quot; xmlns=&quot;http://www.w3.org/2000/svg&quot; xmlns:xlink=&quot;http://www.w3.org/1999/xlink&quot;&gt;\n",
       "\t&lt;desc&gt;Stata Graph - Graph&lt;/desc&gt;\n",
       "\t&lt;rect x=&quot;0&quot; y=&quot;0&quot; width=&quot;3960&quot; height=&quot;2880&quot; style=&quot;fill:#EAF2F3;stroke:none&quot;/&gt;\n",
       "\t&lt;rect x=&quot;0.00&quot; y=&quot;0.00&quot; width=&quot;3959.88&quot; height=&quot;2880.00&quot; style=&quot;fill:#EAF2F3&quot;/&gt;\n",
       "\t&lt;rect x=&quot;2.88&quot; y=&quot;2.88&quot; width=&quot;3954.12&quot; height=&quot;2874.24&quot; style=&quot;fill:none;stroke:#EAF2F3;stroke-width:5.76&quot;/&gt;\n",
       "\t&lt;rect x=&quot;1664.93&quot; y=&quot;100.86&quot; width=&quot;2194.09&quot; height=&quot;2488.32&quot; style=&quot;fill:#FFFFFF&quot;/&gt;\n",
       "\t&lt;rect x=&quot;1667.81&quot; y=&quot;103.74&quot; width=&quot;2188.33&quot; height=&quot;2482.56&quot; style=&quot;fill:none;stroke:#FFFFFF;stroke-width:5.76&quot;/&gt;\n",
       "\t&lt;line x1=&quot;1664.93&quot; y1=&quot;349.60&quot; x2=&quot;3859.02&quot; y2=&quot;349.60&quot; style=&quot;stroke:#EAF2F3;stroke-width:8.64&quot;/&gt;\n",
       "\t&lt;line x1=&quot;1664.93&quot; y1=&quot;847.34&quot; x2=&quot;3859.02&quot; y2=&quot;847.34&quot; style=&quot;stroke:#EAF2F3;stroke-width:8.64&quot;/&gt;\n",
       "\t&lt;line x1=&quot;1664.93&quot; y1=&quot;1344.96&quot; x2=&quot;3859.02&quot; y2=&quot;1344.96&quot; style=&quot;stroke:#EAF2F3;stroke-width:8.64&quot;/&gt;\n",
       "\t&lt;line x1=&quot;1664.93&quot; y1=&quot;1842.70&quot; x2=&quot;3859.02&quot; y2=&quot;1842.70&quot; style=&quot;stroke:#EAF2F3;stroke-width:8.64&quot;/&gt;\n",
       "\t&lt;line x1=&quot;1664.93&quot; y1=&quot;2340.31&quot; x2=&quot;3859.02&quot; y2=&quot;2340.31&quot; style=&quot;stroke:#EAF2F3;stroke-width:8.64&quot;/&gt;\n",
       "\t&lt;line x1=&quot;2417.46&quot; y1=&quot;2589.18&quot; x2=&quot;2417.46&quot; y2=&quot;100.86&quot; style=&quot;stroke:#C10534;stroke-width:8.64&quot;/&gt;\n",
       "\t&lt;line x1=&quot;2432.55&quot; y1=&quot;349.60&quot; x2=&quot;2456.81&quot; y2=&quot;349.60&quot; style=&quot;stroke:#1A476F;stroke-width:8.64&quot;/&gt;\n",
       "\t&lt;line x1=&quot;2417.46&quot; y1=&quot;847.34&quot; x2=&quot;2417.46&quot; y2=&quot;847.34&quot; style=&quot;stroke:#1A476F;stroke-width:8.64&quot;/&gt;\n",
       "\t&lt;line x1=&quot;2542.07&quot; y1=&quot;1344.96&quot; x2=&quot;3667.08&quot; y2=&quot;1344.96&quot; style=&quot;stroke:#1A476F;stroke-width:8.64&quot;/&gt;\n",
       "\t&lt;line x1=&quot;1916.14&quot; y1=&quot;1842.70&quot; x2=&quot;2558.53&quot; y2=&quot;1842.70&quot; style=&quot;stroke:#1A476F;stroke-width:8.64&quot;/&gt;\n",
       "\t&lt;line x1=&quot;3101.55&quot; y1=&quot;2340.31&quot; x2=&quot;3613.25&quot; y2=&quot;2340.31&quot; style=&quot;stroke:#1A476F;stroke-width:8.64&quot;/&gt;\n",
       "\t&lt;circle cx=&quot;2444.56&quot; cy=&quot;349.73&quot; r=&quot;26.35&quot; style=&quot;fill:#1A476F&quot;/&gt;\n",
       "\t&lt;circle cx=&quot;2444.56&quot; cy=&quot;349.73&quot; r=&quot;22.03&quot; style=&quot;fill:none;stroke:#1A476F;stroke-width:8.64&quot;/&gt;\n",
       "\t&lt;circle cx=&quot;2417.46&quot; cy=&quot;847.34&quot; r=&quot;26.35&quot; style=&quot;fill:#1A476F&quot;/&gt;\n",
       "\t&lt;circle cx=&quot;2417.46&quot; cy=&quot;847.34&quot; r=&quot;22.03&quot; style=&quot;fill:none;stroke:#1A476F;stroke-width:8.64&quot;/&gt;\n",
       "\t&lt;circle cx=&quot;3104.52&quot; cy=&quot;1345.08&quot; r=&quot;26.35&quot; style=&quot;fill:#1A476F&quot;/&gt;\n",
       "\t&lt;circle cx=&quot;3104.52&quot; cy=&quot;1345.08&quot; r=&quot;22.03&quot; style=&quot;fill:none;stroke:#1A476F;stroke-width:8.64&quot;/&gt;\n",
       "\t&lt;circle cx=&quot;2237.28&quot; cy=&quot;1842.70&quot; r=&quot;26.35&quot; style=&quot;fill:#1A476F&quot;/&gt;\n",
       "\t&lt;circle cx=&quot;2237.28&quot; cy=&quot;1842.70&quot; r=&quot;22.03&quot; style=&quot;fill:none;stroke:#1A476F;stroke-width:8.64&quot;/&gt;\n",
       "\t&lt;circle cx=&quot;3357.34&quot; cy=&quot;2340.43&quot; r=&quot;26.35&quot; style=&quot;fill:#1A476F&quot;/&gt;\n",
       "\t&lt;circle cx=&quot;3357.34&quot; cy=&quot;2340.43&quot; r=&quot;22.03&quot; style=&quot;fill:none;stroke:#1A476F;stroke-width:8.64&quot;/&gt;\n",
       "\t&lt;line x1=&quot;1664.93&quot; y1=&quot;2589.18&quot; x2=&quot;1664.93&quot; y2=&quot;100.86&quot; style=&quot;stroke:#000000;stroke-width:5.76&quot;/&gt;\n",
       "\t&lt;line x1=&quot;1664.93&quot; y1=&quot;349.60&quot; x2=&quot;1624.96&quot; y2=&quot;349.60&quot; style=&quot;stroke:#000000;stroke-width:5.76&quot;/&gt;\n",
       "\t&lt;text x=&quot;1604.91&quot; y=&quot;384.63&quot; style=&quot;font-family:&#x27;Helvetica&#x27;;font-size:99.99px;fill:#000000&quot; text-anchor=&quot;end&quot;&gt;Revised Combined Polity Score&lt;/text&gt;\n",
       "\t&lt;line x1=&quot;1664.93&quot; y1=&quot;847.34&quot; x2=&quot;1624.96&quot; y2=&quot;847.34&quot; style=&quot;stroke:#000000;stroke-width:5.76&quot;/&gt;\n",
       "\t&lt;text x=&quot;1604.91&quot; y=&quot;882.37&quot; style=&quot;font-family:&#x27;Helvetica&#x27;;font-size:99.99px;fill:#000000&quot; text-anchor=&quot;end&quot;&gt;Real GDP per Capita (2005)&lt;/text&gt;\n",
       "\t&lt;line x1=&quot;1664.93&quot; y1=&quot;1344.96&quot; x2=&quot;1624.96&quot; y2=&quot;1344.96&quot; style=&quot;stroke:#000000;stroke-width:5.76&quot;/&gt;\n",
       "\t&lt;text x=&quot;1604.91&quot; y=&quot;1379.99&quot; style=&quot;font-family:&#x27;Helvetica&#x27;;font-size:99.99px;fill:#000000&quot; text-anchor=&quot;end&quot;&gt;Latitude&lt;/text&gt;\n",
       "\t&lt;line x1=&quot;1664.93&quot; y1=&quot;1842.70&quot; x2=&quot;1624.96&quot; y2=&quot;1842.70&quot; style=&quot;stroke:#000000;stroke-width:5.76&quot;/&gt;\n",
       "\t&lt;text x=&quot;1604.91&quot; y=&quot;1877.72&quot; style=&quot;font-family:&#x27;Helvetica&#x27;;font-size:99.99px;fill:#000000&quot; text-anchor=&quot;end&quot;&gt;Ethnic Fractionalization&lt;/text&gt;\n",
       "\t&lt;line x1=&quot;1664.93&quot; y1=&quot;2340.31&quot; x2=&quot;1624.96&quot; y2=&quot;2340.31&quot; style=&quot;stroke:#000000;stroke-width:5.76&quot;/&gt;\n",
       "\t&lt;text x=&quot;1604.91&quot; y=&quot;2375.34&quot; style=&quot;font-family:&#x27;Helvetica&#x27;;font-size:99.99px;fill:#000000&quot; text-anchor=&quot;end&quot;&gt;_cons&lt;/text&gt;\n",
       "\t&lt;line x1=&quot;1664.93&quot; y1=&quot;2589.18&quot; x2=&quot;3859.02&quot; y2=&quot;2589.18&quot; style=&quot;stroke:#000000;stroke-width:5.76&quot;/&gt;\n",
       "\t&lt;line x1=&quot;1728.29&quot; y1=&quot;2589.18&quot; x2=&quot;1728.29&quot; y2=&quot;2629.15&quot; style=&quot;stroke:#000000;stroke-width:5.76&quot;/&gt;\n",
       "\t&lt;text x=&quot;1728.29&quot; y=&quot;2719.13&quot; style=&quot;font-family:&#x27;Helvetica&#x27;;font-size:99.99px;fill:#000000&quot; text-anchor=&quot;middle&quot;&gt;-20&lt;/text&gt;\n",
       "\t&lt;line x1=&quot;2417.46&quot; y1=&quot;2589.18&quot; x2=&quot;2417.46&quot; y2=&quot;2629.15&quot; style=&quot;stroke:#000000;stroke-width:5.76&quot;/&gt;\n",
       "\t&lt;text x=&quot;2417.46&quot; y=&quot;2719.13&quot; style=&quot;font-family:&#x27;Helvetica&#x27;;font-size:99.99px;fill:#000000&quot; text-anchor=&quot;middle&quot;&gt;0&lt;/text&gt;\n",
       "\t&lt;line x1=&quot;3106.62&quot; y1=&quot;2589.18&quot; x2=&quot;3106.62&quot; y2=&quot;2629.15&quot; style=&quot;stroke:#000000;stroke-width:5.76&quot;/&gt;\n",
       "\t&lt;text x=&quot;3106.62&quot; y=&quot;2719.13&quot; style=&quot;font-family:&#x27;Helvetica&#x27;;font-size:99.99px;fill:#000000&quot; text-anchor=&quot;middle&quot;&gt;20&lt;/text&gt;\n",
       "\t&lt;line x1=&quot;3795.66&quot; y1=&quot;2589.18&quot; x2=&quot;3795.66&quot; y2=&quot;2629.15&quot; style=&quot;stroke:#000000;stroke-width:5.76&quot;/&gt;\n",
       "\t&lt;text x=&quot;3795.66&quot; y=&quot;2719.13&quot; style=&quot;font-family:&#x27;Helvetica&#x27;;font-size:99.99px;fill:#000000&quot; text-anchor=&quot;middle&quot;&gt;40&lt;/text&gt;\n",
       "&lt;/svg&gt;\n",
       "</body></html>\"></iframe>\n"
      ],
      "text/plain": [
       "This front-end cannot display the desired image type."
      ]
     },
     "metadata": {
      "image/svg+xml": {
       "height": 436,
       "width": 600
      },
      "text/html": {
       "height": 436,
       "width": 600
      }
     },
     "output_type": "display_data"
    }
   ],
   "source": [
    "coefplot, xline(0)"
   ]
  },
  {
   "cell_type": "markdown",
   "metadata": {},
   "source": [
    "Very simple! Here we can now see graphically the numbers in the above table. The coefficient for latitude is on the right side of the line, close to 20 (it was 19.9) in the table, and as the confidence interval does not touch the red line, the coefficient is significant. Ethnic fragmentation is to the left, meaning that the coefficient is negative. The confidence interval however covers the red zero line, which means that the coefficient is not significant.\n",
    "\n",
    "**But when it comes to democracy (Revised Combined Polity Score) and GDP per capita, we don't see any confidence intervals, and it appears as if the dots are on the zero line. Still, we could in the table see that the coefficients were significant. Why is that?**\n",
    "\n",
    "It simply indicates that the coefficients and associated confidence intervals are very small, compared to the other variables. GDP is for instance measured in the number of dollars per capita. And it is only logical that the level of corruption remains virtually unchanged if we raise the GDP per capita with a single dollar. The coefficient is 0.0008, and the confidence interval runs between 0.0006 and 0.0009. The scale is completely different than the one for ethnic fragmentation, where the variable only runs between 0 and 1.\n",
    "\n",
    "In order to make a fair visual comparison we need to standardize the variables.\n",
    "\n",
    "## Center and standardize regression coefficients (and variables) with `center`\n",
    "\n",
    "To standardize the coefficients means to give them a common point of reference, so that they will become more comparable. One way to do so is by transforming the coefficients so that they show how much the level of corruption would change if the variable increased by one *standard deviation*. The standard deviation can be seen as a measure of \"typical variation\" in the variable.\n",
    "\n",
    "To take an example: The average height of 18 year old men in Sweden is just above 180 cm, with a standard deviation of 7 cm. About two-thirds of the population can be found within 7 cm above and below 180 cm. The average weight is about 71 kilograms, with a standard deviation of 10 kilo.\n",
    "\n",
    "If we rescale the independent variables so that all have a mean value of zero, and a standarddeviation of 1, and then enter them into the regression analysis, the coefficients will show what happens with the dependent variable when we increase the independent variable with one standard deviation. We do so by subtracting the mean from each variable, and then divide by the standard deviation.\n",
    "\n",
    "Stata has a ready-made command to do just that, `center`. We then type `center` and the variables we want to transform. We also add two options, `standardize` and `prefix(std_)`. The first option tells Stata that we want to standardize the variables (turning the standard deviation into 1), otherwise they will just get the average set to 0. The second option tells Stata that we want to create new variables, with the prefix \"std_\". \"gle_rgdpc\" is thus turned into a new variable called \"std_gle_rgdpc\".\n",
    "\n",
    "We actually don't need to set the mean to zero in order to standardize the coefficients, but that is done automatically with this handy command, so we will do so now."
   ]
  },
  {
   "cell_type": "code",
   "execution_count": 4,
   "metadata": {},
   "outputs": [
    {
     "name": "stdout",
     "output_type": "stream",
     "text": [
      "(generated variables: std_p_polity2 std_gle_rgdpc std_lp_lat_abst std_al_ethnic)\n"
     ]
    }
   ],
   "source": [
    "center p_polity2 gle_rgdpc lp_lat_abst al_ethnic, standardize prefix(std_)"
   ]
  },
  {
   "cell_type": "markdown",
   "metadata": {},
   "source": [
    "If we now compare an untransformed variable with its transformed counterpart we can make sure that it turned out right:"
   ]
  },
  {
   "cell_type": "code",
   "execution_count": 5,
   "metadata": {},
   "outputs": [
    {
     "name": "stdout",
     "output_type": "stream",
     "text": [
      "\n",
      "    Variable |        Obs        Mean    Std. Dev.       Min        Max\n",
      "-------------+---------------------------------------------------------\n",
      "   p_polity2 |        165    4.072727    6.158044        -10         10\n",
      "std_p_poli~2 |        165    5.13e-09           1  -2.285259   .9625252\n"
     ]
    }
   ],
   "source": [
    "sum p_polity2 std_p_polity2"
   ]
  },
  {
   "cell_type": "markdown",
   "metadata": {},
   "source": [
    "\"p_polity2\" used to have a mean of 4.07, and a standard deviation of 6.16. The scale ran from -10 to +10. The new variable has the mean 0 (Stata says that the mean is 0.00000000513, but it is basically a rounding error). The standard deviation is 1, and the scale now runs from -2.29 to 0.96. Less intuitive in most contexts, but it will make our coefficient plot easier to read.\n",
    "\n",
    "## Coefficient plot with standardized variables\n",
    "\n",
    "We can now redo the analysis with the standardized variables, and then visualize them with `coefplot`."
   ]
  },
  {
   "cell_type": "code",
   "execution_count": 6,
   "metadata": {},
   "outputs": [
    {
     "name": "stdout",
     "output_type": "stream",
     "text": [
      "\n",
      "      Source |       SS           df       MS      Number of obs   =       133\n",
      "-------------+----------------------------------   F(4, 128)       =     62.20\n",
      "       Model |  35203.5051         4  8800.87628   Prob > F        =    0.0000\n",
      "    Residual |  18112.0137       128  141.500107   R-squared       =    0.6603\n",
      "-------------+----------------------------------   Adj R-squared   =    0.6497\n",
      "       Total |  53315.5188       132  403.905445   Root MSE        =    11.895\n",
      "\n",
      "---------------------------------------------------------------------------------\n",
      "         ti_cpi |      Coef.   Std. Err.      t    P>|t|     [95% Conf. Interval]\n",
      "----------------+----------------------------------------------------------------\n",
      "  std_p_polity2 |   4.866384   1.097937     4.43   0.000     2.693928    7.038839\n",
      "  std_gle_rgdpc |   12.45253   1.331904     9.35   0.000      9.81713    15.08793\n",
      "std_lp_lat_abst |   3.602087   1.490303     2.42   0.017     .6532673    6.550907\n",
      "  std_al_ethnic |  -1.342559   1.210447    -1.11   0.269    -3.737634    1.052517\n",
      "          _cons |   43.26905   1.043851    41.45   0.000     41.20361    45.33449\n",
      "---------------------------------------------------------------------------------\n"
     ]
    }
   ],
   "source": [
    "reg ti_cpi std_p_polity2 std_gle_rgdpc std_lp_lat_abst std_al_ethnic"
   ]
  },
  {
   "cell_type": "markdown",
   "metadata": {},
   "source": [
    "The variables are now easier to compare. The direction of the relationships - if they are positive or negative - are of course the same as in the previous table. The same holds for significance values. The only things that have changed are the coefficients, the standard errors, and the confidence intervals.\n",
    "\n",
    "Now we can plot these coefficients with `coefplot`, and also add an option to remove the intercept (cons) from the graph. The intercept shows the expected value on the dependent variable when all the independent variables are zero, which in this case means that the country has average values on all the independent variables. We however want to focus the graph on the more theoretically relevant variables. We remove the interecpt with `drop(_cons)`. The same option can also be used to drop other coefficients."
   ]
  },
  {
   "cell_type": "code",
   "execution_count": 7,
   "metadata": {},
   "outputs": [
    {
     "data": {
      "application/pdf": "[encoded data removed]",
      "image/svg+xml": [
       "<?xml version=\"1.0\" encoding=\"UTF-8\" standalone=\"no\"?>\n",
       "<!-- This is a Stata 16.0 generated SVG file (http://www.stata.com) -->\n",
       "\n",
       "<svg version=\"1.1\" width=\"600px\" height=\"436px\" viewBox=\"0 0 3960 2880\" xmlns=\"http://www.w3.org/2000/svg\" xmlns:xlink=\"http://www.w3.org/1999/xlink\">\n",
       "\t<desc>Stata Graph - Graph</desc>\n",
       "\t<rect x=\"0\" y=\"0\" width=\"3960\" height=\"2880\" style=\"fill:#EAF2F3;stroke:none\"/>\n",
       "\t<rect x=\"0.00\" y=\"0.00\" width=\"3959.88\" height=\"2880.00\" style=\"fill:#EAF2F3\"/>\n",
       "\t<rect x=\"2.88\" y=\"2.88\" width=\"3954.12\" height=\"2874.24\" style=\"fill:none;stroke:#EAF2F3;stroke-width:5.76\"/>\n",
       "\t<rect x=\"2345.31\" y=\"100.86\" width=\"1513.71\" height=\"2488.32\" style=\"fill:#FFFFFF\"/>\n",
       "\t<rect x=\"2348.19\" y=\"103.74\" width=\"1507.95\" height=\"2482.56\" style=\"fill:none;stroke:#FFFFFF;stroke-width:5.76\"/>\n",
       "\t<line x1=\"2345.31\" y1=\"411.85\" x2=\"3859.02\" y2=\"411.85\" style=\"stroke:#EAF2F3;stroke-width:8.64\"/>\n",
       "\t<line x1=\"2345.31\" y1=\"1033.96\" x2=\"3859.02\" y2=\"1033.96\" style=\"stroke:#EAF2F3;stroke-width:8.64\"/>\n",
       "\t<line x1=\"2345.31\" y1=\"1656.07\" x2=\"3859.02\" y2=\"1656.07\" style=\"stroke:#EAF2F3;stroke-width:8.64\"/>\n",
       "\t<line x1=\"2345.31\" y1=\"2278.18\" x2=\"3859.02\" y2=\"2278.18\" style=\"stroke:#EAF2F3;stroke-width:8.64\"/>\n",
       "\t<line x1=\"2753.93\" y1=\"2589.18\" x2=\"2753.93\" y2=\"100.86\" style=\"stroke:#C10534;stroke-width:8.64\"/>\n",
       "\t<line x1=\"2939.93\" y1=\"411.85\" x2=\"3239.90\" y2=\"411.85\" style=\"stroke:#1A476F;stroke-width:8.64\"/>\n",
       "\t<line x1=\"3431.84\" y1=\"1033.96\" x2=\"3795.66\" y2=\"1033.96\" style=\"stroke:#1A476F;stroke-width:8.64\"/>\n",
       "\t<line x1=\"2798.98\" y1=\"1656.07\" x2=\"3206.24\" y2=\"1656.07\" style=\"stroke:#1A476F;stroke-width:8.64\"/>\n",
       "\t<line x1=\"2495.79\" y1=\"2278.18\" x2=\"2826.57\" y2=\"2278.18\" style=\"stroke:#1A476F;stroke-width:8.64\"/>\n",
       "\t<circle cx=\"3089.91\" cy=\"411.85\" r=\"26.35\" style=\"fill:#1A476F\"/>\n",
       "\t<circle cx=\"3089.91\" cy=\"411.85\" r=\"22.03\" style=\"fill:none;stroke:#1A476F;stroke-width:8.64\"/>\n",
       "\t<circle cx=\"3613.75\" cy=\"1033.96\" r=\"26.35\" style=\"fill:#1A476F\"/>\n",
       "\t<circle cx=\"3613.75\" cy=\"1033.96\" r=\"22.03\" style=\"fill:none;stroke:#1A476F;stroke-width:8.64\"/>\n",
       "\t<circle cx=\"3002.55\" cy=\"1656.07\" r=\"26.35\" style=\"fill:#1A476F\"/>\n",
       "\t<circle cx=\"3002.55\" cy=\"1656.07\" r=\"22.03\" style=\"fill:none;stroke:#1A476F;stroke-width:8.64\"/>\n",
       "\t<circle cx=\"2661.12\" cy=\"2278.18\" r=\"26.35\" style=\"fill:#1A476F\"/>\n",
       "\t<circle cx=\"2661.12\" cy=\"2278.18\" r=\"22.03\" style=\"fill:none;stroke:#1A476F;stroke-width:8.64\"/>\n",
       "\t<line x1=\"2345.31\" y1=\"2589.18\" x2=\"2345.31\" y2=\"100.86\" style=\"stroke:#000000;stroke-width:5.76\"/>\n",
       "\t<line x1=\"2345.31\" y1=\"411.85\" x2=\"2305.34\" y2=\"411.85\" style=\"stroke:#000000;stroke-width:5.76\"/>\n",
       "\t<text x=\"2285.29\" y=\"446.88\" style=\"font-family:'Helvetica';font-size:99.99px;fill:#000000\" text-anchor=\"end\">Revised Combined Polity Score (standardized)</text>\n",
       "\t<line x1=\"2345.31\" y1=\"1033.96\" x2=\"2305.34\" y2=\"1033.96\" style=\"stroke:#000000;stroke-width:5.76\"/>\n",
       "\t<text x=\"2285.29\" y=\"1068.99\" style=\"font-family:'Helvetica';font-size:99.99px;fill:#000000\" text-anchor=\"end\">Real GDP per Capita (2005) (standardized)</text>\n",
       "\t<line x1=\"2345.31\" y1=\"1656.07\" x2=\"2305.34\" y2=\"1656.07\" style=\"stroke:#000000;stroke-width:5.76\"/>\n",
       "\t<text x=\"2285.29\" y=\"1691.10\" style=\"font-family:'Helvetica';font-size:99.99px;fill:#000000\" text-anchor=\"end\">Latitude (standardized)</text>\n",
       "\t<line x1=\"2345.31\" y1=\"2278.18\" x2=\"2305.34\" y2=\"2278.18\" style=\"stroke:#000000;stroke-width:5.76\"/>\n",
       "\t<text x=\"2285.29\" y=\"2313.21\" style=\"font-family:'Helvetica';font-size:99.99px;fill:#000000\" text-anchor=\"end\">Ethnic Fractionalization (standardized)</text>\n",
       "\t<line x1=\"2345.31\" y1=\"2589.18\" x2=\"3859.02\" y2=\"2589.18\" style=\"stroke:#000000;stroke-width:5.76\"/>\n",
       "\t<line x1=\"2408.67\" y1=\"2589.18\" x2=\"2408.67\" y2=\"2629.15\" style=\"stroke:#000000;stroke-width:5.76\"/>\n",
       "\t<text x=\"2408.67\" y=\"2719.13\" style=\"font-family:'Helvetica';font-size:99.99px;fill:#000000\" text-anchor=\"middle\">-5</text>\n",
       "\t<line x1=\"2753.93\" y1=\"2589.18\" x2=\"2753.93\" y2=\"2629.15\" style=\"stroke:#000000;stroke-width:5.76\"/>\n",
       "\t<text x=\"2753.93\" y=\"2719.13\" style=\"font-family:'Helvetica';font-size:99.99px;fill:#000000\" text-anchor=\"middle\">0</text>\n",
       "\t<line x1=\"3099.20\" y1=\"2589.18\" x2=\"3099.20\" y2=\"2629.15\" style=\"stroke:#000000;stroke-width:5.76\"/>\n",
       "\t<text x=\"3099.20\" y=\"2719.13\" style=\"font-family:'Helvetica';font-size:99.99px;fill:#000000\" text-anchor=\"middle\">5</text>\n",
       "\t<line x1=\"3444.46\" y1=\"2589.18\" x2=\"3444.46\" y2=\"2629.15\" style=\"stroke:#000000;stroke-width:5.76\"/>\n",
       "\t<text x=\"3444.46\" y=\"2719.13\" style=\"font-family:'Helvetica';font-size:99.99px;fill:#000000\" text-anchor=\"middle\">10</text>\n",
       "\t<line x1=\"3789.60\" y1=\"2589.18\" x2=\"3789.60\" y2=\"2629.15\" style=\"stroke:#000000;stroke-width:5.76\"/>\n",
       "\t<text x=\"3789.60\" y=\"2719.13\" style=\"font-family:'Helvetica';font-size:99.99px;fill:#000000\" text-anchor=\"middle\">15</text>\n",
       "</svg>\n"
      ],
      "text/html": [
       "                <iframe frameborder=\"0\" scrolling=\"no\" height=\"436\" width=\"600\"                srcdoc=\"<html><body>&lt;?xml version=&quot;1.0&quot; encoding=&quot;UTF-8&quot; standalone=&quot;no&quot;?&gt;\n",
       "&lt;!-- This is a Stata 16.0 generated SVG file (http://www.stata.com) --&gt;\n",
       "\n",
       "&lt;svg version=&quot;1.1&quot; width=&quot;600px&quot; height=&quot;436px&quot; viewBox=&quot;0 0 3960 2880&quot; xmlns=&quot;http://www.w3.org/2000/svg&quot; xmlns:xlink=&quot;http://www.w3.org/1999/xlink&quot;&gt;\n",
       "\t&lt;desc&gt;Stata Graph - Graph&lt;/desc&gt;\n",
       "\t&lt;rect x=&quot;0&quot; y=&quot;0&quot; width=&quot;3960&quot; height=&quot;2880&quot; style=&quot;fill:#EAF2F3;stroke:none&quot;/&gt;\n",
       "\t&lt;rect x=&quot;0.00&quot; y=&quot;0.00&quot; width=&quot;3959.88&quot; height=&quot;2880.00&quot; style=&quot;fill:#EAF2F3&quot;/&gt;\n",
       "\t&lt;rect x=&quot;2.88&quot; y=&quot;2.88&quot; width=&quot;3954.12&quot; height=&quot;2874.24&quot; style=&quot;fill:none;stroke:#EAF2F3;stroke-width:5.76&quot;/&gt;\n",
       "\t&lt;rect x=&quot;2345.31&quot; y=&quot;100.86&quot; width=&quot;1513.71&quot; height=&quot;2488.32&quot; style=&quot;fill:#FFFFFF&quot;/&gt;\n",
       "\t&lt;rect x=&quot;2348.19&quot; y=&quot;103.74&quot; width=&quot;1507.95&quot; height=&quot;2482.56&quot; style=&quot;fill:none;stroke:#FFFFFF;stroke-width:5.76&quot;/&gt;\n",
       "\t&lt;line x1=&quot;2345.31&quot; y1=&quot;411.85&quot; x2=&quot;3859.02&quot; y2=&quot;411.85&quot; style=&quot;stroke:#EAF2F3;stroke-width:8.64&quot;/&gt;\n",
       "\t&lt;line x1=&quot;2345.31&quot; y1=&quot;1033.96&quot; x2=&quot;3859.02&quot; y2=&quot;1033.96&quot; style=&quot;stroke:#EAF2F3;stroke-width:8.64&quot;/&gt;\n",
       "\t&lt;line x1=&quot;2345.31&quot; y1=&quot;1656.07&quot; x2=&quot;3859.02&quot; y2=&quot;1656.07&quot; style=&quot;stroke:#EAF2F3;stroke-width:8.64&quot;/&gt;\n",
       "\t&lt;line x1=&quot;2345.31&quot; y1=&quot;2278.18&quot; x2=&quot;3859.02&quot; y2=&quot;2278.18&quot; style=&quot;stroke:#EAF2F3;stroke-width:8.64&quot;/&gt;\n",
       "\t&lt;line x1=&quot;2753.93&quot; y1=&quot;2589.18&quot; x2=&quot;2753.93&quot; y2=&quot;100.86&quot; style=&quot;stroke:#C10534;stroke-width:8.64&quot;/&gt;\n",
       "\t&lt;line x1=&quot;2939.93&quot; y1=&quot;411.85&quot; x2=&quot;3239.90&quot; y2=&quot;411.85&quot; style=&quot;stroke:#1A476F;stroke-width:8.64&quot;/&gt;\n",
       "\t&lt;line x1=&quot;3431.84&quot; y1=&quot;1033.96&quot; x2=&quot;3795.66&quot; y2=&quot;1033.96&quot; style=&quot;stroke:#1A476F;stroke-width:8.64&quot;/&gt;\n",
       "\t&lt;line x1=&quot;2798.98&quot; y1=&quot;1656.07&quot; x2=&quot;3206.24&quot; y2=&quot;1656.07&quot; style=&quot;stroke:#1A476F;stroke-width:8.64&quot;/&gt;\n",
       "\t&lt;line x1=&quot;2495.79&quot; y1=&quot;2278.18&quot; x2=&quot;2826.57&quot; y2=&quot;2278.18&quot; style=&quot;stroke:#1A476F;stroke-width:8.64&quot;/&gt;\n",
       "\t&lt;circle cx=&quot;3089.91&quot; cy=&quot;411.85&quot; r=&quot;26.35&quot; style=&quot;fill:#1A476F&quot;/&gt;\n",
       "\t&lt;circle cx=&quot;3089.91&quot; cy=&quot;411.85&quot; r=&quot;22.03&quot; style=&quot;fill:none;stroke:#1A476F;stroke-width:8.64&quot;/&gt;\n",
       "\t&lt;circle cx=&quot;3613.75&quot; cy=&quot;1033.96&quot; r=&quot;26.35&quot; style=&quot;fill:#1A476F&quot;/&gt;\n",
       "\t&lt;circle cx=&quot;3613.75&quot; cy=&quot;1033.96&quot; r=&quot;22.03&quot; style=&quot;fill:none;stroke:#1A476F;stroke-width:8.64&quot;/&gt;\n",
       "\t&lt;circle cx=&quot;3002.55&quot; cy=&quot;1656.07&quot; r=&quot;26.35&quot; style=&quot;fill:#1A476F&quot;/&gt;\n",
       "\t&lt;circle cx=&quot;3002.55&quot; cy=&quot;1656.07&quot; r=&quot;22.03&quot; style=&quot;fill:none;stroke:#1A476F;stroke-width:8.64&quot;/&gt;\n",
       "\t&lt;circle cx=&quot;2661.12&quot; cy=&quot;2278.18&quot; r=&quot;26.35&quot; style=&quot;fill:#1A476F&quot;/&gt;\n",
       "\t&lt;circle cx=&quot;2661.12&quot; cy=&quot;2278.18&quot; r=&quot;22.03&quot; style=&quot;fill:none;stroke:#1A476F;stroke-width:8.64&quot;/&gt;\n",
       "\t&lt;line x1=&quot;2345.31&quot; y1=&quot;2589.18&quot; x2=&quot;2345.31&quot; y2=&quot;100.86&quot; style=&quot;stroke:#000000;stroke-width:5.76&quot;/&gt;\n",
       "\t&lt;line x1=&quot;2345.31&quot; y1=&quot;411.85&quot; x2=&quot;2305.34&quot; y2=&quot;411.85&quot; style=&quot;stroke:#000000;stroke-width:5.76&quot;/&gt;\n",
       "\t&lt;text x=&quot;2285.29&quot; y=&quot;446.88&quot; style=&quot;font-family:&#x27;Helvetica&#x27;;font-size:99.99px;fill:#000000&quot; text-anchor=&quot;end&quot;&gt;Revised Combined Polity Score (standardized)&lt;/text&gt;\n",
       "\t&lt;line x1=&quot;2345.31&quot; y1=&quot;1033.96&quot; x2=&quot;2305.34&quot; y2=&quot;1033.96&quot; style=&quot;stroke:#000000;stroke-width:5.76&quot;/&gt;\n",
       "\t&lt;text x=&quot;2285.29&quot; y=&quot;1068.99&quot; style=&quot;font-family:&#x27;Helvetica&#x27;;font-size:99.99px;fill:#000000&quot; text-anchor=&quot;end&quot;&gt;Real GDP per Capita (2005) (standardized)&lt;/text&gt;\n",
       "\t&lt;line x1=&quot;2345.31&quot; y1=&quot;1656.07&quot; x2=&quot;2305.34&quot; y2=&quot;1656.07&quot; style=&quot;stroke:#000000;stroke-width:5.76&quot;/&gt;\n",
       "\t&lt;text x=&quot;2285.29&quot; y=&quot;1691.10&quot; style=&quot;font-family:&#x27;Helvetica&#x27;;font-size:99.99px;fill:#000000&quot; text-anchor=&quot;end&quot;&gt;Latitude (standardized)&lt;/text&gt;\n",
       "\t&lt;line x1=&quot;2345.31&quot; y1=&quot;2278.18&quot; x2=&quot;2305.34&quot; y2=&quot;2278.18&quot; style=&quot;stroke:#000000;stroke-width:5.76&quot;/&gt;\n",
       "\t&lt;text x=&quot;2285.29&quot; y=&quot;2313.21&quot; style=&quot;font-family:&#x27;Helvetica&#x27;;font-size:99.99px;fill:#000000&quot; text-anchor=&quot;end&quot;&gt;Ethnic Fractionalization (standardized)&lt;/text&gt;\n",
       "\t&lt;line x1=&quot;2345.31&quot; y1=&quot;2589.18&quot; x2=&quot;3859.02&quot; y2=&quot;2589.18&quot; style=&quot;stroke:#000000;stroke-width:5.76&quot;/&gt;\n",
       "\t&lt;line x1=&quot;2408.67&quot; y1=&quot;2589.18&quot; x2=&quot;2408.67&quot; y2=&quot;2629.15&quot; style=&quot;stroke:#000000;stroke-width:5.76&quot;/&gt;\n",
       "\t&lt;text x=&quot;2408.67&quot; y=&quot;2719.13&quot; style=&quot;font-family:&#x27;Helvetica&#x27;;font-size:99.99px;fill:#000000&quot; text-anchor=&quot;middle&quot;&gt;-5&lt;/text&gt;\n",
       "\t&lt;line x1=&quot;2753.93&quot; y1=&quot;2589.18&quot; x2=&quot;2753.93&quot; y2=&quot;2629.15&quot; style=&quot;stroke:#000000;stroke-width:5.76&quot;/&gt;\n",
       "\t&lt;text x=&quot;2753.93&quot; y=&quot;2719.13&quot; style=&quot;font-family:&#x27;Helvetica&#x27;;font-size:99.99px;fill:#000000&quot; text-anchor=&quot;middle&quot;&gt;0&lt;/text&gt;\n",
       "\t&lt;line x1=&quot;3099.20&quot; y1=&quot;2589.18&quot; x2=&quot;3099.20&quot; y2=&quot;2629.15&quot; style=&quot;stroke:#000000;stroke-width:5.76&quot;/&gt;\n",
       "\t&lt;text x=&quot;3099.20&quot; y=&quot;2719.13&quot; style=&quot;font-family:&#x27;Helvetica&#x27;;font-size:99.99px;fill:#000000&quot; text-anchor=&quot;middle&quot;&gt;5&lt;/text&gt;\n",
       "\t&lt;line x1=&quot;3444.46&quot; y1=&quot;2589.18&quot; x2=&quot;3444.46&quot; y2=&quot;2629.15&quot; style=&quot;stroke:#000000;stroke-width:5.76&quot;/&gt;\n",
       "\t&lt;text x=&quot;3444.46&quot; y=&quot;2719.13&quot; style=&quot;font-family:&#x27;Helvetica&#x27;;font-size:99.99px;fill:#000000&quot; text-anchor=&quot;middle&quot;&gt;10&lt;/text&gt;\n",
       "\t&lt;line x1=&quot;3789.60&quot; y1=&quot;2589.18&quot; x2=&quot;3789.60&quot; y2=&quot;2629.15&quot; style=&quot;stroke:#000000;stroke-width:5.76&quot;/&gt;\n",
       "\t&lt;text x=&quot;3789.60&quot; y=&quot;2719.13&quot; style=&quot;font-family:&#x27;Helvetica&#x27;;font-size:99.99px;fill:#000000&quot; text-anchor=&quot;middle&quot;&gt;15&lt;/text&gt;\n",
       "&lt;/svg&gt;\n",
       "</body></html>\"></iframe>\n"
      ],
      "text/plain": [
       "This front-end cannot display the desired image type."
      ]
     },
     "metadata": {
      "image/svg+xml": {
       "height": 436,
       "width": 600
      },
      "text/html": {
       "height": 436,
       "width": 600
      }
     },
     "output_type": "display_data"
    }
   ],
   "source": [
    "coefplot, xline(0) drop(_cons)"
   ]
  },
  {
   "cell_type": "markdown",
   "metadata": {},
   "source": [
    "In contrast to the previous version of the graph we can now see that the effect of GDP per capita is strong and clearly significant. It was only the small scale of the variable that made it appear so close to zero in the previous graph. In fact, GDP has the clearest effect of all variables, in this standardized comparison. Democracy, GDP per capita and Latitude (measured as distance from the equator) are all positive and significant, while ethnic fractionalization is negative and insignificant.\n",
    "\n",
    "## Multiple regression models in one graph\n",
    "\n",
    "We can also construct a graph that shows multiple regression models at the same time. We first run all our analyses and store the results with `estimates store modelname` and then include them in the graph with `coefplot modelname1 modelname2`. Below we run two analyses, first with only democrayc, and then with all independent variables, saving them as \"m1\" and \"m2\". To not clog the page with output I have here typed `quietly` ahead of the regression commands."
   ]
  },
  {
   "cell_type": "code",
   "execution_count": 8,
   "metadata": {},
   "outputs": [
    {
     "data": {
      "application/pdf": "[encoded data removed]",
      "image/svg+xml": [
       "<?xml version=\"1.0\" encoding=\"UTF-8\" standalone=\"no\"?>\n",
       "<!-- This is a Stata 16.0 generated SVG file (http://www.stata.com) -->\n",
       "\n",
       "<svg version=\"1.1\" width=\"600px\" height=\"436px\" viewBox=\"0 0 3960 2880\" xmlns=\"http://www.w3.org/2000/svg\" xmlns:xlink=\"http://www.w3.org/1999/xlink\">\n",
       "\t<desc>Stata Graph - Graph</desc>\n",
       "\t<rect x=\"0\" y=\"0\" width=\"3960\" height=\"2880\" style=\"fill:#EAF2F3;stroke:none\"/>\n",
       "\t<rect x=\"0.00\" y=\"0.00\" width=\"3959.88\" height=\"2880.00\" style=\"fill:#EAF2F3\"/>\n",
       "\t<rect x=\"2.88\" y=\"2.88\" width=\"3954.12\" height=\"2874.24\" style=\"fill:none;stroke:#EAF2F3;stroke-width:5.76\"/>\n",
       "\t<rect x=\"2345.31\" y=\"100.86\" width=\"1513.71\" height=\"2232.77\" style=\"fill:#FFFFFF\"/>\n",
       "\t<rect x=\"2348.19\" y=\"103.74\" width=\"1507.95\" height=\"2227.01\" style=\"fill:none;stroke:#FFFFFF;stroke-width:5.76\"/>\n",
       "\t<line x1=\"2345.31\" y1=\"658.99\" x2=\"3859.02\" y2=\"658.99\" style=\"stroke:#EAF2F3;stroke-width:8.64\"/>\n",
       "\t<line x1=\"2345.31\" y1=\"658.99\" x2=\"3859.02\" y2=\"658.99\" style=\"stroke:#EAF2F3;stroke-width:8.64\"/>\n",
       "\t<line x1=\"2345.31\" y1=\"1217.24\" x2=\"3859.02\" y2=\"1217.24\" style=\"stroke:#EAF2F3;stroke-width:8.64\"/>\n",
       "\t<line x1=\"2345.31\" y1=\"1217.24\" x2=\"3859.02\" y2=\"1217.24\" style=\"stroke:#EAF2F3;stroke-width:8.64\"/>\n",
       "\t<line x1=\"2345.31\" y1=\"1775.50\" x2=\"3859.02\" y2=\"1775.50\" style=\"stroke:#EAF2F3;stroke-width:8.64\"/>\n",
       "\t<line x1=\"2345.31\" y1=\"1775.50\" x2=\"3859.02\" y2=\"1775.50\" style=\"stroke:#EAF2F3;stroke-width:8.64\"/>\n",
       "\t<line x1=\"2753.93\" y1=\"2333.63\" x2=\"2753.93\" y2=\"100.86\" style=\"stroke:#C10534;stroke-width:8.64\"/>\n",
       "\t<line x1=\"3152.78\" y1=\"286.86\" x2=\"3530.09\" y2=\"286.86\" style=\"stroke:#1A476F;stroke-width:8.64\"/>\n",
       "\t<circle cx=\"3341.37\" cy=\"286.99\" r=\"26.35\" style=\"fill:#1A476F\"/>\n",
       "\t<circle cx=\"3341.37\" cy=\"286.99\" r=\"22.03\" style=\"fill:none;stroke:#1A476F;stroke-width:8.64\"/>\n",
       "\t<line x1=\"2939.93\" y1=\"472.99\" x2=\"3239.90\" y2=\"472.99\" style=\"stroke:#90353B;stroke-width:8.64\"/>\n",
       "\t<line x1=\"3431.84\" y1=\"1031.12\" x2=\"3795.66\" y2=\"1031.12\" style=\"stroke:#90353B;stroke-width:8.64\"/>\n",
       "\t<line x1=\"2798.98\" y1=\"1589.37\" x2=\"3206.24\" y2=\"1589.37\" style=\"stroke:#90353B;stroke-width:8.64\"/>\n",
       "\t<line x1=\"2495.79\" y1=\"2147.62\" x2=\"2826.57\" y2=\"2147.62\" style=\"stroke:#90353B;stroke-width:8.64\"/>\n",
       "\t<circle cx=\"3089.91\" cy=\"472.99\" r=\"26.35\" style=\"fill:#90353B\"/>\n",
       "\t<circle cx=\"3089.91\" cy=\"472.99\" r=\"22.03\" style=\"fill:none;stroke:#90353B;stroke-width:8.64\"/>\n",
       "\t<circle cx=\"3613.75\" cy=\"1031.24\" r=\"26.35\" style=\"fill:#90353B\"/>\n",
       "\t<circle cx=\"3613.75\" cy=\"1031.24\" r=\"22.03\" style=\"fill:none;stroke:#90353B;stroke-width:8.64\"/>\n",
       "\t<circle cx=\"3002.55\" cy=\"1589.49\" r=\"26.35\" style=\"fill:#90353B\"/>\n",
       "\t<circle cx=\"3002.55\" cy=\"1589.49\" r=\"22.03\" style=\"fill:none;stroke:#90353B;stroke-width:8.64\"/>\n",
       "\t<circle cx=\"2661.12\" cy=\"2147.62\" r=\"26.35\" style=\"fill:#90353B\"/>\n",
       "\t<circle cx=\"2661.12\" cy=\"2147.62\" r=\"22.03\" style=\"fill:none;stroke:#90353B;stroke-width:8.64\"/>\n",
       "\t<line x1=\"2345.31\" y1=\"2333.63\" x2=\"2345.31\" y2=\"100.86\" style=\"stroke:#000000;stroke-width:5.76\"/>\n",
       "\t<line x1=\"2345.31\" y1=\"379.92\" x2=\"2305.34\" y2=\"379.92\" style=\"stroke:#000000;stroke-width:5.76\"/>\n",
       "\t<text x=\"2285.29\" y=\"414.95\" style=\"font-family:'Helvetica';font-size:99.99px;fill:#000000\" text-anchor=\"end\">Revised Combined Polity Score (standardized)</text>\n",
       "\t<line x1=\"2345.31\" y1=\"938.18\" x2=\"2305.34\" y2=\"938.18\" style=\"stroke:#000000;stroke-width:5.76\"/>\n",
       "\t<text x=\"2285.29\" y=\"973.21\" style=\"font-family:'Helvetica';font-size:99.99px;fill:#000000\" text-anchor=\"end\">Real GDP per Capita (2005) (standardized)</text>\n",
       "\t<line x1=\"2345.31\" y1=\"1496.31\" x2=\"2305.34\" y2=\"1496.31\" style=\"stroke:#000000;stroke-width:5.76\"/>\n",
       "\t<text x=\"2285.29\" y=\"1531.34\" style=\"font-family:'Helvetica';font-size:99.99px;fill:#000000\" text-anchor=\"end\">Latitude (standardized)</text>\n",
       "\t<line x1=\"2345.31\" y1=\"2054.56\" x2=\"2305.34\" y2=\"2054.56\" style=\"stroke:#000000;stroke-width:5.76\"/>\n",
       "\t<text x=\"2285.29\" y=\"2089.59\" style=\"font-family:'Helvetica';font-size:99.99px;fill:#000000\" text-anchor=\"end\">Ethnic Fractionalization (standardized)</text>\n",
       "\t<line x1=\"2345.31\" y1=\"2333.63\" x2=\"3859.02\" y2=\"2333.63\" style=\"stroke:#000000;stroke-width:5.76\"/>\n",
       "\t<line x1=\"2408.67\" y1=\"2333.63\" x2=\"2408.67\" y2=\"2373.72\" style=\"stroke:#000000;stroke-width:5.76\"/>\n",
       "\t<text x=\"2408.67\" y=\"2463.58\" style=\"font-family:'Helvetica';font-size:99.99px;fill:#000000\" text-anchor=\"middle\">-5</text>\n",
       "\t<line x1=\"2753.93\" y1=\"2333.63\" x2=\"2753.93\" y2=\"2373.72\" style=\"stroke:#000000;stroke-width:5.76\"/>\n",
       "\t<text x=\"2753.93\" y=\"2463.58\" style=\"font-family:'Helvetica';font-size:99.99px;fill:#000000\" text-anchor=\"middle\">0</text>\n",
       "\t<line x1=\"3099.20\" y1=\"2333.63\" x2=\"3099.20\" y2=\"2373.72\" style=\"stroke:#000000;stroke-width:5.76\"/>\n",
       "\t<text x=\"3099.20\" y=\"2463.58\" style=\"font-family:'Helvetica';font-size:99.99px;fill:#000000\" text-anchor=\"middle\">5</text>\n",
       "\t<line x1=\"3444.46\" y1=\"2333.63\" x2=\"3444.46\" y2=\"2373.72\" style=\"stroke:#000000;stroke-width:5.76\"/>\n",
       "\t<text x=\"3444.46\" y=\"2463.58\" style=\"font-family:'Helvetica';font-size:99.99px;fill:#000000\" text-anchor=\"middle\">10</text>\n",
       "\t<line x1=\"3789.60\" y1=\"2333.63\" x2=\"3789.60\" y2=\"2373.72\" style=\"stroke:#000000;stroke-width:5.76\"/>\n",
       "\t<text x=\"3789.60\" y=\"2463.58\" style=\"font-family:'Helvetica';font-size:99.99px;fill:#000000\" text-anchor=\"middle\">15</text>\n",
       "\t<rect x=\"2744.28\" y=\"2558.24\" width=\"715.77\" height=\"186.37\" style=\"fill:#FFFFFF\"/>\n",
       "\t<rect x=\"2747.16\" y=\"2561.12\" width=\"710.01\" height=\"180.61\" style=\"fill:none;stroke:#000000;stroke-width:5.76\"/>\n",
       "\t<circle cx=\"2809.50\" cy=\"2651.43\" r=\"26.35\" style=\"fill:#1A476F\"/>\n",
       "\t<circle cx=\"2809.50\" cy=\"2651.43\" r=\"22.03\" style=\"fill:none;stroke:#1A476F;stroke-width:8.64\"/>\n",
       "\t<circle cx=\"3194.24\" cy=\"2651.43\" r=\"26.35\" style=\"fill:#90353B\"/>\n",
       "\t<circle cx=\"3194.24\" cy=\"2651.43\" r=\"22.03\" style=\"fill:none;stroke:#90353B;stroke-width:8.64\"/>\n",
       "\t<text x=\"2891.54\" y=\"2686.46\" style=\"font-family:'Helvetica';font-size:99.99px;fill:#000000\">m1</text>\n",
       "\t<text x=\"3276.16\" y=\"2686.46\" style=\"font-family:'Helvetica';font-size:99.99px;fill:#000000\">m2</text>\n",
       "</svg>\n"
      ],
      "text/html": [
       "                <iframe frameborder=\"0\" scrolling=\"no\" height=\"436\" width=\"600\"                srcdoc=\"<html><body>&lt;?xml version=&quot;1.0&quot; encoding=&quot;UTF-8&quot; standalone=&quot;no&quot;?&gt;\n",
       "&lt;!-- This is a Stata 16.0 generated SVG file (http://www.stata.com) --&gt;\n",
       "\n",
       "&lt;svg version=&quot;1.1&quot; width=&quot;600px&quot; height=&quot;436px&quot; viewBox=&quot;0 0 3960 2880&quot; xmlns=&quot;http://www.w3.org/2000/svg&quot; xmlns:xlink=&quot;http://www.w3.org/1999/xlink&quot;&gt;\n",
       "\t&lt;desc&gt;Stata Graph - Graph&lt;/desc&gt;\n",
       "\t&lt;rect x=&quot;0&quot; y=&quot;0&quot; width=&quot;3960&quot; height=&quot;2880&quot; style=&quot;fill:#EAF2F3;stroke:none&quot;/&gt;\n",
       "\t&lt;rect x=&quot;0.00&quot; y=&quot;0.00&quot; width=&quot;3959.88&quot; height=&quot;2880.00&quot; style=&quot;fill:#EAF2F3&quot;/&gt;\n",
       "\t&lt;rect x=&quot;2.88&quot; y=&quot;2.88&quot; width=&quot;3954.12&quot; height=&quot;2874.24&quot; style=&quot;fill:none;stroke:#EAF2F3;stroke-width:5.76&quot;/&gt;\n",
       "\t&lt;rect x=&quot;2345.31&quot; y=&quot;100.86&quot; width=&quot;1513.71&quot; height=&quot;2232.77&quot; style=&quot;fill:#FFFFFF&quot;/&gt;\n",
       "\t&lt;rect x=&quot;2348.19&quot; y=&quot;103.74&quot; width=&quot;1507.95&quot; height=&quot;2227.01&quot; style=&quot;fill:none;stroke:#FFFFFF;stroke-width:5.76&quot;/&gt;\n",
       "\t&lt;line x1=&quot;2345.31&quot; y1=&quot;658.99&quot; x2=&quot;3859.02&quot; y2=&quot;658.99&quot; style=&quot;stroke:#EAF2F3;stroke-width:8.64&quot;/&gt;\n",
       "\t&lt;line x1=&quot;2345.31&quot; y1=&quot;658.99&quot; x2=&quot;3859.02&quot; y2=&quot;658.99&quot; style=&quot;stroke:#EAF2F3;stroke-width:8.64&quot;/&gt;\n",
       "\t&lt;line x1=&quot;2345.31&quot; y1=&quot;1217.24&quot; x2=&quot;3859.02&quot; y2=&quot;1217.24&quot; style=&quot;stroke:#EAF2F3;stroke-width:8.64&quot;/&gt;\n",
       "\t&lt;line x1=&quot;2345.31&quot; y1=&quot;1217.24&quot; x2=&quot;3859.02&quot; y2=&quot;1217.24&quot; style=&quot;stroke:#EAF2F3;stroke-width:8.64&quot;/&gt;\n",
       "\t&lt;line x1=&quot;2345.31&quot; y1=&quot;1775.50&quot; x2=&quot;3859.02&quot; y2=&quot;1775.50&quot; style=&quot;stroke:#EAF2F3;stroke-width:8.64&quot;/&gt;\n",
       "\t&lt;line x1=&quot;2345.31&quot; y1=&quot;1775.50&quot; x2=&quot;3859.02&quot; y2=&quot;1775.50&quot; style=&quot;stroke:#EAF2F3;stroke-width:8.64&quot;/&gt;\n",
       "\t&lt;line x1=&quot;2753.93&quot; y1=&quot;2333.63&quot; x2=&quot;2753.93&quot; y2=&quot;100.86&quot; style=&quot;stroke:#C10534;stroke-width:8.64&quot;/&gt;\n",
       "\t&lt;line x1=&quot;3152.78&quot; y1=&quot;286.86&quot; x2=&quot;3530.09&quot; y2=&quot;286.86&quot; style=&quot;stroke:#1A476F;stroke-width:8.64&quot;/&gt;\n",
       "\t&lt;circle cx=&quot;3341.37&quot; cy=&quot;286.99&quot; r=&quot;26.35&quot; style=&quot;fill:#1A476F&quot;/&gt;\n",
       "\t&lt;circle cx=&quot;3341.37&quot; cy=&quot;286.99&quot; r=&quot;22.03&quot; style=&quot;fill:none;stroke:#1A476F;stroke-width:8.64&quot;/&gt;\n",
       "\t&lt;line x1=&quot;2939.93&quot; y1=&quot;472.99&quot; x2=&quot;3239.90&quot; y2=&quot;472.99&quot; style=&quot;stroke:#90353B;stroke-width:8.64&quot;/&gt;\n",
       "\t&lt;line x1=&quot;3431.84&quot; y1=&quot;1031.12&quot; x2=&quot;3795.66&quot; y2=&quot;1031.12&quot; style=&quot;stroke:#90353B;stroke-width:8.64&quot;/&gt;\n",
       "\t&lt;line x1=&quot;2798.98&quot; y1=&quot;1589.37&quot; x2=&quot;3206.24&quot; y2=&quot;1589.37&quot; style=&quot;stroke:#90353B;stroke-width:8.64&quot;/&gt;\n",
       "\t&lt;line x1=&quot;2495.79&quot; y1=&quot;2147.62&quot; x2=&quot;2826.57&quot; y2=&quot;2147.62&quot; style=&quot;stroke:#90353B;stroke-width:8.64&quot;/&gt;\n",
       "\t&lt;circle cx=&quot;3089.91&quot; cy=&quot;472.99&quot; r=&quot;26.35&quot; style=&quot;fill:#90353B&quot;/&gt;\n",
       "\t&lt;circle cx=&quot;3089.91&quot; cy=&quot;472.99&quot; r=&quot;22.03&quot; style=&quot;fill:none;stroke:#90353B;stroke-width:8.64&quot;/&gt;\n",
       "\t&lt;circle cx=&quot;3613.75&quot; cy=&quot;1031.24&quot; r=&quot;26.35&quot; style=&quot;fill:#90353B&quot;/&gt;\n",
       "\t&lt;circle cx=&quot;3613.75&quot; cy=&quot;1031.24&quot; r=&quot;22.03&quot; style=&quot;fill:none;stroke:#90353B;stroke-width:8.64&quot;/&gt;\n",
       "\t&lt;circle cx=&quot;3002.55&quot; cy=&quot;1589.49&quot; r=&quot;26.35&quot; style=&quot;fill:#90353B&quot;/&gt;\n",
       "\t&lt;circle cx=&quot;3002.55&quot; cy=&quot;1589.49&quot; r=&quot;22.03&quot; style=&quot;fill:none;stroke:#90353B;stroke-width:8.64&quot;/&gt;\n",
       "\t&lt;circle cx=&quot;2661.12&quot; cy=&quot;2147.62&quot; r=&quot;26.35&quot; style=&quot;fill:#90353B&quot;/&gt;\n",
       "\t&lt;circle cx=&quot;2661.12&quot; cy=&quot;2147.62&quot; r=&quot;22.03&quot; style=&quot;fill:none;stroke:#90353B;stroke-width:8.64&quot;/&gt;\n",
       "\t&lt;line x1=&quot;2345.31&quot; y1=&quot;2333.63&quot; x2=&quot;2345.31&quot; y2=&quot;100.86&quot; style=&quot;stroke:#000000;stroke-width:5.76&quot;/&gt;\n",
       "\t&lt;line x1=&quot;2345.31&quot; y1=&quot;379.92&quot; x2=&quot;2305.34&quot; y2=&quot;379.92&quot; style=&quot;stroke:#000000;stroke-width:5.76&quot;/&gt;\n",
       "\t&lt;text x=&quot;2285.29&quot; y=&quot;414.95&quot; style=&quot;font-family:&#x27;Helvetica&#x27;;font-size:99.99px;fill:#000000&quot; text-anchor=&quot;end&quot;&gt;Revised Combined Polity Score (standardized)&lt;/text&gt;\n",
       "\t&lt;line x1=&quot;2345.31&quot; y1=&quot;938.18&quot; x2=&quot;2305.34&quot; y2=&quot;938.18&quot; style=&quot;stroke:#000000;stroke-width:5.76&quot;/&gt;\n",
       "\t&lt;text x=&quot;2285.29&quot; y=&quot;973.21&quot; style=&quot;font-family:&#x27;Helvetica&#x27;;font-size:99.99px;fill:#000000&quot; text-anchor=&quot;end&quot;&gt;Real GDP per Capita (2005) (standardized)&lt;/text&gt;\n",
       "\t&lt;line x1=&quot;2345.31&quot; y1=&quot;1496.31&quot; x2=&quot;2305.34&quot; y2=&quot;1496.31&quot; style=&quot;stroke:#000000;stroke-width:5.76&quot;/&gt;\n",
       "\t&lt;text x=&quot;2285.29&quot; y=&quot;1531.34&quot; style=&quot;font-family:&#x27;Helvetica&#x27;;font-size:99.99px;fill:#000000&quot; text-anchor=&quot;end&quot;&gt;Latitude (standardized)&lt;/text&gt;\n",
       "\t&lt;line x1=&quot;2345.31&quot; y1=&quot;2054.56&quot; x2=&quot;2305.34&quot; y2=&quot;2054.56&quot; style=&quot;stroke:#000000;stroke-width:5.76&quot;/&gt;\n",
       "\t&lt;text x=&quot;2285.29&quot; y=&quot;2089.59&quot; style=&quot;font-family:&#x27;Helvetica&#x27;;font-size:99.99px;fill:#000000&quot; text-anchor=&quot;end&quot;&gt;Ethnic Fractionalization (standardized)&lt;/text&gt;\n",
       "\t&lt;line x1=&quot;2345.31&quot; y1=&quot;2333.63&quot; x2=&quot;3859.02&quot; y2=&quot;2333.63&quot; style=&quot;stroke:#000000;stroke-width:5.76&quot;/&gt;\n",
       "\t&lt;line x1=&quot;2408.67&quot; y1=&quot;2333.63&quot; x2=&quot;2408.67&quot; y2=&quot;2373.72&quot; style=&quot;stroke:#000000;stroke-width:5.76&quot;/&gt;\n",
       "\t&lt;text x=&quot;2408.67&quot; y=&quot;2463.58&quot; style=&quot;font-family:&#x27;Helvetica&#x27;;font-size:99.99px;fill:#000000&quot; text-anchor=&quot;middle&quot;&gt;-5&lt;/text&gt;\n",
       "\t&lt;line x1=&quot;2753.93&quot; y1=&quot;2333.63&quot; x2=&quot;2753.93&quot; y2=&quot;2373.72&quot; style=&quot;stroke:#000000;stroke-width:5.76&quot;/&gt;\n",
       "\t&lt;text x=&quot;2753.93&quot; y=&quot;2463.58&quot; style=&quot;font-family:&#x27;Helvetica&#x27;;font-size:99.99px;fill:#000000&quot; text-anchor=&quot;middle&quot;&gt;0&lt;/text&gt;\n",
       "\t&lt;line x1=&quot;3099.20&quot; y1=&quot;2333.63&quot; x2=&quot;3099.20&quot; y2=&quot;2373.72&quot; style=&quot;stroke:#000000;stroke-width:5.76&quot;/&gt;\n",
       "\t&lt;text x=&quot;3099.20&quot; y=&quot;2463.58&quot; style=&quot;font-family:&#x27;Helvetica&#x27;;font-size:99.99px;fill:#000000&quot; text-anchor=&quot;middle&quot;&gt;5&lt;/text&gt;\n",
       "\t&lt;line x1=&quot;3444.46&quot; y1=&quot;2333.63&quot; x2=&quot;3444.46&quot; y2=&quot;2373.72&quot; style=&quot;stroke:#000000;stroke-width:5.76&quot;/&gt;\n",
       "\t&lt;text x=&quot;3444.46&quot; y=&quot;2463.58&quot; style=&quot;font-family:&#x27;Helvetica&#x27;;font-size:99.99px;fill:#000000&quot; text-anchor=&quot;middle&quot;&gt;10&lt;/text&gt;\n",
       "\t&lt;line x1=&quot;3789.60&quot; y1=&quot;2333.63&quot; x2=&quot;3789.60&quot; y2=&quot;2373.72&quot; style=&quot;stroke:#000000;stroke-width:5.76&quot;/&gt;\n",
       "\t&lt;text x=&quot;3789.60&quot; y=&quot;2463.58&quot; style=&quot;font-family:&#x27;Helvetica&#x27;;font-size:99.99px;fill:#000000&quot; text-anchor=&quot;middle&quot;&gt;15&lt;/text&gt;\n",
       "\t&lt;rect x=&quot;2744.28&quot; y=&quot;2558.24&quot; width=&quot;715.77&quot; height=&quot;186.37&quot; style=&quot;fill:#FFFFFF&quot;/&gt;\n",
       "\t&lt;rect x=&quot;2747.16&quot; y=&quot;2561.12&quot; width=&quot;710.01&quot; height=&quot;180.61&quot; style=&quot;fill:none;stroke:#000000;stroke-width:5.76&quot;/&gt;\n",
       "\t&lt;circle cx=&quot;2809.50&quot; cy=&quot;2651.43&quot; r=&quot;26.35&quot; style=&quot;fill:#1A476F&quot;/&gt;\n",
       "\t&lt;circle cx=&quot;2809.50&quot; cy=&quot;2651.43&quot; r=&quot;22.03&quot; style=&quot;fill:none;stroke:#1A476F;stroke-width:8.64&quot;/&gt;\n",
       "\t&lt;circle cx=&quot;3194.24&quot; cy=&quot;2651.43&quot; r=&quot;26.35&quot; style=&quot;fill:#90353B&quot;/&gt;\n",
       "\t&lt;circle cx=&quot;3194.24&quot; cy=&quot;2651.43&quot; r=&quot;22.03&quot; style=&quot;fill:none;stroke:#90353B;stroke-width:8.64&quot;/&gt;\n",
       "\t&lt;text x=&quot;2891.54&quot; y=&quot;2686.46&quot; style=&quot;font-family:&#x27;Helvetica&#x27;;font-size:99.99px;fill:#000000&quot;&gt;m1&lt;/text&gt;\n",
       "\t&lt;text x=&quot;3276.16&quot; y=&quot;2686.46&quot; style=&quot;font-family:&#x27;Helvetica&#x27;;font-size:99.99px;fill:#000000&quot;&gt;m2&lt;/text&gt;\n",
       "&lt;/svg&gt;\n",
       "</body></html>\"></iframe>\n"
      ],
      "text/plain": [
       "This front-end cannot display the desired image type."
      ]
     },
     "metadata": {
      "image/svg+xml": {
       "height": 436,
       "width": 600
      },
      "text/html": {
       "height": 436,
       "width": 600
      }
     },
     "output_type": "display_data"
    }
   ],
   "source": [
    "quietly reg ti_cpi std_p_polity2\n",
    "estimates store m1\n",
    "\n",
    "quietly reg ti_cpi std_p_polity2 std_gle_rgdpc std_lp_lat_abst std_al_ethnic\n",
    "estimates store m2\n",
    "\n",
    "coefplot m1 m2, xline(0) drop(_cons)"
   ]
  },
  {
   "cell_type": "markdown",
   "metadata": {},
   "source": [
    "The coefficients from model 1 (\"m1\") are displayed in blue color. It is only one - the level of democracy. Coefficients from the second model (\"m2\") are presented in red color. We can see that the effect of democracy is diminished when we add the other controls - the dot is moved closer to the zero line. "
   ]
  },
  {
   "cell_type": "markdown",
   "metadata": {},
   "source": [
    "## Export the graph to .png or .pdf\n",
    "\n",
    "While the graph still is open in Stata we can type `graph export` to save the graph as an image or pdf file. We can then easily insert it into a Word document or publish it on the web."
   ]
  },
  {
   "cell_type": "code",
   "execution_count": 9,
   "metadata": {},
   "outputs": [
    {
     "name": "stdout",
     "output_type": "stream",
     "text": [
      "(file coefplot_ticpi.pdf written in PDF format)\n"
     ]
    }
   ],
   "source": [
    "graph export \"coefplot_ticpi.pdf\", replace"
   ]
  },
  {
   "cell_type": "markdown",
   "metadata": {},
   "source": [
    "## Conclusion\n",
    "\n",
    "If you have many variables it might be a good idea to use the option `keep()` to focus on specific coefficients, for instance in several models. Then the reader can see how the effect of one main variable is changed when we control for various other vairables.\n",
    "\n",
    "There are a lot of other options we can add to make the graph look better, or to display various models in different ways - check out `help coefplot` to see it all. [A much more elaborate guide than this one](http://repec.sowi.unibe.ch/stata/coefplot/getting-started.html) is also provided by the author of the command.\n",
    "\n",
    "[Tables](esttab_en.html) can still be a good way to present the results of regression analyses, especially if there are not too many variables. Many scientific journals however now encourage authors to use graphs to present results of this type, so it is in all cases a good idea to know how to create and read them."
   ]
  }
 ],
 "metadata": {
  "kernelspec": {
   "display_name": "Stata",
   "language": "stata",
   "name": "stata"
  },
  "language_info": {
   "codemirror_mode": "stata",
   "file_extension": ".do",
   "mimetype": "text/x-stata",
   "name": "stata",
   "version": "15.1"
  }
 },
 "nbformat": 4,
 "nbformat_minor": 4
}
