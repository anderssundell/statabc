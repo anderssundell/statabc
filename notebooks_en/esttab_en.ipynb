{
 "cells": [
  {
   "cell_type": "markdown",
   "metadata": {},
   "source": [
    "# Tables for presenting results from regression analyses"
   ]
  },
  {
   "cell_type": "markdown",
   "metadata": {},
   "source": [
    "*By Anders Sundell*\n",
    "\n",
    "When you have conducted a statistical analysis it is important to present the results in a clear and pedagogical way. Most of the time, this means a combination of text, tables and graphics. The aim is to present enough information that the reader can grasp the most important conclusions, and see how they were reached, without burdening the reader with too much information. This is especially relevant for numbers that are not interpreted or commented upon in the text.\n",
    "\n",
    "The normal output Stata produces after a regression analysis is not suitable for publication. You can pick out the most important numbers and do your own table in Word, for instance, but there are easier ways, with special commands in Stata.\n",
    "\n",
    "One such command is `esttab`. In this guide we will discuss how to use it to produce a simple but nice regression table. But first we need to install `esttab`, since it is not preinstalled with Stata. We do this by writing the following (and we only need to do this once):"
   ]
  },
  {
   "cell_type": "code",
   "execution_count": 22,
   "metadata": {},
   "outputs": [
    {
     "name": "stdout",
     "output_type": "stream",
     "text": [
      "checking estout consistency and verifying not already installed...\n",
      "installing into /Users/anderssundell/Library/Application Support/Stata/ado/plus/...\n",
      "installation complete.\n"
     ]
    }
   ],
   "source": [
    "ssc install estout, replace"
   ]
  },
  {
   "cell_type": "markdown",
   "metadata": {},
   "source": [
    "Then we load the data. In this example we will use the QoG Basic data, version 2018. You can download it to your computer and open it from there, or connect to it directly, which I'm doing here."
   ]
  },
  {
   "cell_type": "code",
   "execution_count": 1,
   "metadata": {},
   "outputs": [
    {
     "name": "stdout",
     "output_type": "stream",
     "text": [
      "(Quality of Government Basic dataset 2018 - Cross-Section)\n"
     ]
    }
   ],
   "source": [
    "use \"https://www.qogdata.pol.gu.se/dataarchive/qog_bas_cs_jan18.dta\", clear"
   ]
  },
  {
   "cell_type": "markdown",
   "metadata": {},
   "source": [
    "## Hypothesis: Democracy increases life expectancy\n",
    "\n",
    "The units of analysis are countries. We are going to do a simple analysis where we investigate the possible relationship between democracy and life expectancy. Do people live longer in democracies? And if so, does that relationship hold under control for other variables, for instance geographic location? Some theories say that democracies had more fertile soil in more temperate climates, far away from the equator. And in those locations, there are fewer tropical diseases (which decrease life expectancy).\n",
    "\n",
    "If democracy really is good for health, we should find a relationship between democracy and life expectancy, even under control for geographical location.\n",
    "\n",
    "The variables we will use are:\n",
    "Life expectancy: `wdi_lifexp`\n",
    "Degree of democracy: `p_polity2` (-10 till -10)\n",
    "Distance from the equator: `lp_lat_abst`\n",
    "\n",
    "Below we see descriptive statistics for the three variables."
   ]
  },
  {
   "cell_type": "code",
   "execution_count": 23,
   "metadata": {},
   "outputs": [
    {
     "name": "stdout",
     "output_type": "stream",
     "text": [
      "\n",
      "    Variable |        Obs        Mean    Std. Dev.       Min        Max\n",
      "-------------+---------------------------------------------------------\n",
      "  wdi_lifexp |        185    71.25413    8.138066   50.59105   83.58781\n",
      "   p_polity2 |        165    4.072727    6.158044        -10         10\n",
      " lp_lat_abst |        153    .2572459    .1806333          0   .7222222\n"
     ]
    }
   ],
   "source": [
    "sum wdi_lifexp p_polity2 lp_lat_abst"
   ]
  },
  {
   "cell_type": "markdown",
   "metadata": {},
   "source": [
    "## Store the results from regression analyses with `estimates store`\n",
    "\n",
    "We will run three regression analyses. First with democracy as independent variable, then with distance from the equator, and then with borth democracy and distance from the equator. After each analysis, we write `estimates store m1` where m1 is the name of a model (which we choose ourselves). I usually name the models m1, m2, m3 and so forth. In the block of code below, I run the analyses and store the results."
   ]
  },
  {
   "cell_type": "code",
   "execution_count": 24,
   "metadata": {},
   "outputs": [
    {
     "name": "stdout",
     "output_type": "stream",
     "text": [
      "\n",
      "\n",
      "      Source |       SS           df       MS      Number of obs   =       164\n",
      "-------------+----------------------------------   F(1, 162)       =     14.93\n",
      "       Model |  961.395196         1  961.395196   Prob > F        =    0.0002\n",
      "    Residual |  10432.0079       162  64.3951106   R-squared       =    0.0844\n",
      "-------------+----------------------------------   Adj R-squared   =    0.0787\n",
      "       Total |  11393.4031       163  69.8981786   Root MSE        =    8.0247\n",
      "\n",
      "------------------------------------------------------------------------------\n",
      "  wdi_lifexp |      Coef.   Std. Err.      t    P>|t|     [95% Conf. Interval]\n",
      "-------------+----------------------------------------------------------------\n",
      "   p_polity2 |   .3942974   .1020468     3.86   0.000      .192784    .5958109\n",
      "       _cons |   69.20107   .7498878    92.28   0.000     67.72025    70.68188\n",
      "------------------------------------------------------------------------------\n",
      "\n",
      "\n",
      "\n",
      "      Source |       SS           df       MS      Number of obs   =       147\n",
      "-------------+----------------------------------   F(1, 145)       =     84.04\n",
      "       Model |  4054.91479         1  4054.91479   Prob > F        =    0.0000\n",
      "    Residual |  6996.60328       145  48.2524364   R-squared       =    0.3669\n",
      "-------------+----------------------------------   Adj R-squared   =    0.3625\n",
      "       Total |  11051.5181       146  75.6953292   Root MSE        =    6.9464\n",
      "\n",
      "------------------------------------------------------------------------------\n",
      "  wdi_lifexp |      Coef.   Std. Err.      t    P>|t|     [95% Conf. Interval]\n",
      "-------------+----------------------------------------------------------------\n",
      " lp_lat_abst |   29.18116   3.183254     9.17   0.000     22.88959    35.47274\n",
      "       _cons |   63.61518   1.000886    63.56   0.000     61.63697    65.59339\n",
      "------------------------------------------------------------------------------\n",
      "\n",
      "\n",
      "\n",
      "      Source |       SS           df       MS      Number of obs   =       133\n",
      "-------------+----------------------------------   F(2, 130)       =     41.40\n",
      "       Model |  4023.70805         2  2011.85402   Prob > F        =    0.0000\n",
      "    Residual |  6316.99515       130  48.5922704   R-squared       =    0.3891\n",
      "-------------+----------------------------------   Adj R-squared   =    0.3797\n",
      "       Total |  10340.7032       132  78.3386606   Root MSE        =    6.9708\n",
      "\n",
      "------------------------------------------------------------------------------\n",
      "  wdi_lifexp |      Coef.   Std. Err.      t    P>|t|     [95% Conf. Interval]\n",
      "-------------+----------------------------------------------------------------\n",
      "   p_polity2 |   .1551679   .1043416     1.49   0.139    -.0512595    .3615953\n",
      " lp_lat_abst |   29.32883   3.561611     8.23   0.000     22.28261    36.37505\n",
      "       _cons |   62.38807   1.092712    57.09   0.000     60.22627    64.54987\n",
      "------------------------------------------------------------------------------\n",
      "\n"
     ]
    }
   ],
   "source": [
    "reg wdi_lifexp p_polity2\n",
    "estimates store m1\n",
    "\n",
    "reg wdi_lifexp lp_lat_abst\n",
    "estimates store m2\n",
    "\n",
    "reg wdi_lifexp p_polity2 lp_lat_abst\n",
    "estimates store m3"
   ]
  },
  {
   "cell_type": "markdown",
   "metadata": {},
   "source": [
    "## Present the results with `esttab`\n",
    "\n",
    "The regression output is obviously very clunky, and contains a lot of information that we generally are uninterested in. For instance, the standard errors, t-values, p-values and confidence intervals all express roughly the same thing: the degree of uncertainty around the estimate of the b-coefficient. We don't need to show them all. Common in the social sciences is that you show the coefficient, the standard error (or the t-value) and place stars that show the significance level (the p-value).\n",
    "\n",
    "`esttab` does a lot of this automatically. To do a minimal table of the three analyses we have stored we only have to write:"
   ]
  },
  {
   "cell_type": "code",
   "execution_count": 26,
   "metadata": {},
   "outputs": [
    {
     "name": "stdout",
     "output_type": "stream",
     "text": [
      "\n",
      "------------------------------------------------------------\n",
      "                      (1)             (2)             (3)   \n",
      "               wdi_lifexp      wdi_lifexp      wdi_lifexp   \n",
      "------------------------------------------------------------\n",
      "p_polity2           0.394***                        0.155   \n",
      "                   (3.86)                          (1.49)   \n",
      "\n",
      "lp_lat_abst                         29.18***        29.33***\n",
      "                                   (9.17)          (8.23)   \n",
      "\n",
      "_cons               69.20***        63.62***        62.39***\n",
      "                  (92.28)         (63.56)         (57.09)   \n",
      "------------------------------------------------------------\n",
      "N                     164             147             133   \n",
      "------------------------------------------------------------\n",
      "t statistics in parentheses\n",
      "* p<0.05, ** p<0.01, *** p<0.001\n"
     ]
    }
   ],
   "source": [
    "esttab m1 m2 m3"
   ]
  },
  {
   "cell_type": "markdown",
   "metadata": {},
   "source": [
    "Much better! Each column represents one analysis - a \"model.\" At the top we have what was the dependent variable in the analysis. The numbers represent the b-coefficients for each variable. In the parentheses are the t-values, and at the bottom we have the n, the number of observations.\n",
    "\n",
    "We can see that in the first model, there was a significant relationship between democracy and life expectancy - each step up on the democracy scale is associated with an increase of life expectancy of 0.394 years. But we also see, in model 2, that countries that are further away from the equator have higher life expectancy. And we know (even though it is not evident from the table) that countries further away from the equator are more democratic. So when we control for the distance to the equator, in model 3, the coefficient for democracy is more than halved, to 0.155, and it is no longer significiant (as there are no stars next to the coefficient, and the t-value is below 1.96).\n",
    "\n",
    "But there are other things we would like to see in the table, for instance the R<sup>2</sup>-value, or adjusted R<sup>2</sup>. And we might be more interested in the standard error, rather than the t-value. Then we can add options to our command. You choose yourself what you want. Use `help esttab` to see the complete list of options."
   ]
  },
  {
   "cell_type": "code",
   "execution_count": 28,
   "metadata": {},
   "outputs": [
    {
     "name": "stdout",
     "output_type": "stream",
     "text": [
      "\n",
      "------------------------------------------------------------\n",
      "                      (1)             (2)             (3)   \n",
      "               wdi_lifexp      wdi_lifexp      wdi_lifexp   \n",
      "------------------------------------------------------------\n",
      "p_polity2           0.394***                        0.155   \n",
      "                  (0.102)                         (0.104)   \n",
      "\n",
      "lp_lat_abst                         29.18***        29.33***\n",
      "                                  (3.183)         (3.562)   \n",
      "\n",
      "_cons               69.20***        63.62***        62.39***\n",
      "                  (0.750)         (1.001)         (1.093)   \n",
      "------------------------------------------------------------\n",
      "N                     164             147             133   \n",
      "R-sq                0.084           0.367           0.389   \n",
      "adj. R-sq           0.079           0.363           0.380   \n",
      "------------------------------------------------------------\n",
      "Standard errors in parentheses\n",
      "* p<0.05, ** p<0.01, *** p<0.001\n"
     ]
    }
   ],
   "source": [
    "esttab m1 m2 m3, se r2 ar2"
   ]
  },
  {
   "cell_type": "markdown",
   "metadata": {},
   "source": [
    "This table is easy to overlook and read. The only problem is that it is not easily transferred to a Word document. If you do, you have to set the font to Courier or something else where all the letters have equal size, or all numbers will end up in the wrong places.\n",
    "\n",
    "But a better way is to export the table to a separate file that is adapted to Word, for instance. Then you can open the file and copy the table from there to your own report.\n",
    "\n",
    "To export the file we add `using \"filename.rtf\"` in the code. The file will then be saved in the active folder. You pick the active folder by writing `cd \"Users/mycomputer/statisticalanalysis/\"` for instance. I also add `replace` as an option, which means that if there is already a file with this name, it will be replaced."
   ]
  },
  {
   "cell_type": "code",
   "execution_count": 32,
   "metadata": {},
   "outputs": [
    {
     "name": "stdout",
     "output_type": "stream",
     "text": [
      "(output written to regressiontabell.rtf)\n"
     ]
    }
   ],
   "source": [
    "esttab m1 m2 m3 using \"regressiontabell.rtf\", se r2 ar2 replace"
   ]
  },
  {
   "cell_type": "markdown",
   "metadata": {},
   "source": [
    "If you then open the file with Word it will look like this:\n",
    "![Exempel på regressiontabell](../images/esttabexample.png)\n",
    "\n",
    "You can then of course make the table even more pedagogical by replacing the variable names to more explanatory labels, for instance \"Democracy (-10 to +10)\" or something similar. but thist able is still a big improvement compared to the raw output."
   ]
  },
  {
   "cell_type": "markdown",
   "metadata": {},
   "source": [
    "## Conclusion\n",
    "\n",
    "To do tables with `esttab` thus requires three steps. First you do the analysis, then you save the results from it with `estimates store` and then you present the results with `esttab`. \n",
    "\n",
    "Remember to always be clear and as pedagogical as possible. The person with the most to lose from the reader not understanding your results is you!"
   ]
  }
 ],
 "metadata": {
  "kernelspec": {
   "display_name": "Stata",
   "language": "stata",
   "name": "stata"
  },
  "language_info": {
   "file_extension": ".do",
   "mimetype": "text/x-stata",
   "name": "stata"
  }
 },
 "nbformat": 4,
 "nbformat_minor": 4
}
