{
 "cells": [
  {
   "cell_type": "markdown",
   "metadata": {},
   "source": [
    "# Create an index of several variables\n",
    "\n",
    "If you have several variables that measure the same thing, it might be appropriate to make an *index variable*. It is a more comprehensive variable that measures for instance an added score, or an average of the different variables. One advantage of index variables is that measurement error in the constituent variables cancel out, and you get a better measure of the underlying concept that you are really interested in.\n",
    "\n",
    "Let's say we want to measure a persons knowledge of basic scientific facts. There is no single questions that could capture everything. If we for instance ask \"What is smallest, the elctron or the atom?\" (it is the electron!) it is of course likely that more knowledgeable persons will know the answer more often. But even a person that generally is ignorant of science might have heard this particular fact, and someone that knows a lot might have missed it. By adding together several questions and combine the answers we can get a more comprehensive picture of how much the person knows.\n",
    "\n",
    "In this guide we will cover how to make two simple indices over basic scientific knowledge, and how to check the reliability of the index, that is, how well the constituent variables correlate.\n",
    "\n",
    "## Step 1: Recode the variables that will make up the index\n",
    "\n",
    "We will use the american [General Social Survey](https://gss.norc.org/), which asks several questions about basic scientific facts. We start by loading the data:"
   ]
  },
  {
   "cell_type": "code",
   "execution_count": 4,
   "metadata": {},
   "outputs": [],
   "source": [
    "use \"data/GSS2018.dta\", clear"
   ]
  },
  {
   "cell_type": "markdown",
   "metadata": {},
   "source": [
    "First we need to [`recode`](recodings_en.html) the variables so that they have a common scale. If we for instance would add a variable that ranges from 1-4 with a variable that has the scale 1-10 we would have problems. The 1-10 variable would carry a lot more \"weight\" in the index.\n",
    "\n",
    "We will use five questions. 1) What is smaller, the electorn or the atom? 2) Does the earth move around the sun, or the sun around the earth? 3) Have the continents moved over time? 4) Does antibiotics kill virus as well as bacteria? 5) Does a laser work by focusing sound waves?\n",
    "\n",
    "The variables are generally coded so that 1 means \"true\" and 2 \"false\". We are however only interested in whether the answer is correct or not, and therefore construct a new set of variables that have the value 0 if the respondent answered incorrectly, and 1 if he or she answered correctly. We do this with the `recode` command. The new variables are called \"c_\" and then a brief summary of what the question is about."
   ]
  },
  {
   "cell_type": "code",
   "execution_count": 5,
   "metadata": {},
   "outputs": [
    {
     "name": "stdout",
     "output_type": "stream",
     "text": [
      "\n",
      "(293 differences between electron and c_electron)\n",
      "\n",
      "(281 differences between earthsun and c_earthsun)\n",
      "\n",
      "(140 differences between condrift and c_condrift)\n",
      "\n",
      "(1109 differences between viruses and c_viruses)\n",
      "\n",
      "(777 differences between lasers and c_lasers)\n"
     ]
    }
   ],
   "source": [
    "recode electron (1 = 1) (2=0), gen(c_electron)\n",
    "recode earthsun (1 = 1) (2=0), gen(c_earthsun)\n",
    "recode condrift (1 = 1) (2=0), gen(c_condrift)\n",
    "recode viruses (1 = 0) (2=1), gen(c_viruses)\n",
    "recode lasers (1 = 0) (2=1), gen(c_lasers)"
   ]
  },
  {
   "cell_type": "markdown",
   "metadata": {},
   "source": [
    "We can first look at the averiages of the new variables, to see how many answered correctly. We can do that with the `sum` command. If we write `sum c_*` the command is run on all variables that start with \"c_\"."
   ]
  },
  {
   "cell_type": "code",
   "execution_count": 7,
   "metadata": {},
   "outputs": [
    {
     "name": "stdout",
     "output_type": "stream",
     "text": [
      "\n",
      "    Variable |        Obs        Mean    Std. Dev.       Min        Max\n",
      "-------------+---------------------------------------------------------\n",
      "  c_electron |        837    .6499403    .4772736          0          1\n",
      "  c_earthsun |      1,117    .7484333    .4341078          0          1\n",
      "  c_condrift |      1,063    .8682973    .3383265          0          1\n",
      "   c_viruses |      1,109    .5383228    .4987541          0          1\n",
      "    c_lasers |        777    .6718147    .4698551          0          1\n"
     ]
    }
   ],
   "source": [
    "sum c_*"
   ]
  },
  {
   "cell_type": "markdown",
   "metadata": {},
   "source": [
    "Since the variables only have the values 0 or 1, a mean value of 0.5 means that 50 percent answered correctly. The hardest question was apparently whether antibiotics kill virus (it does not), where 54 percent had the right answer. The easiest question was about continental drift. 87 percent knew the answer here. Now that we have a good set of similar variables we can create the index."
   ]
  },
  {
   "cell_type": "markdown",
   "metadata": {},
   "source": [
    "## Step 2a: Combine the variables to an additive index\n",
    "The first index we will create is the simplest possible: A combined score of the variables. A person that answers incorrectly on all questions get 0 points. A person that has all right answers gets 5 points. We construct the index with the `generate` command (abbreviated `gen`). The result is a new variable. We then [produce a `histogram`](histogram_en.html) to see the distribution of scores."
   ]
  },
  {
   "cell_type": "code",
   "execution_count": 12,
   "metadata": {},
   "outputs": [
    {
     "name": "stdout",
     "output_type": "stream",
     "text": [
      "\n",
      "(1,783 missing values generated)\n",
      "\n",
      "(bin=23, start=0, width=.2173913)\n"
     ]
    },
    {
     "data": {
      "application/pdf": "[encoded data removed]",
      "image/svg+xml": [
       "<?xml version=\"1.0\" encoding=\"UTF-8\" standalone=\"no\"?>\n",
       "<!-- This is a Stata 16.0 generated SVG file (http://www.stata.com) -->\n",
       "\n",
       "<svg version=\"1.1\" width=\"600px\" height=\"436px\" viewBox=\"0 0 3960 2880\" xmlns=\"http://www.w3.org/2000/svg\" xmlns:xlink=\"http://www.w3.org/1999/xlink\">\n",
       "\t<desc>Stata Graph - Graph</desc>\n",
       "\t<rect x=\"0\" y=\"0\" width=\"3960\" height=\"2880\" style=\"fill:#EAF2F3;stroke:none\"/>\n",
       "\t<rect x=\"0.00\" y=\"0.00\" width=\"3959.88\" height=\"2880.00\" style=\"fill:#EAF2F3\"/>\n",
       "\t<rect x=\"2.88\" y=\"2.88\" width=\"3954.12\" height=\"2874.24\" style=\"fill:none;stroke:#EAF2F3;stroke-width:5.76\"/>\n",
       "\t<rect x=\"390.80\" y=\"100.86\" width=\"3468.22\" height=\"2388.33\" style=\"fill:#FFFFFF\"/>\n",
       "\t<rect x=\"393.68\" y=\"103.74\" width=\"3462.46\" height=\"2382.57\" style=\"fill:none;stroke:#FFFFFF;stroke-width:5.76\"/>\n",
       "\t<line x1=\"390.80\" y1=\"2489.19\" x2=\"3859.02\" y2=\"2489.19\" style=\"stroke:#EAF2F3;stroke-width:8.64\"/>\n",
       "\t<line x1=\"390.80\" y1=\"1725.50\" x2=\"3859.02\" y2=\"1725.50\" style=\"stroke:#EAF2F3;stroke-width:8.64\"/>\n",
       "\t<line x1=\"390.80\" y1=\"961.69\" x2=\"3859.02\" y2=\"961.69\" style=\"stroke:#EAF2F3;stroke-width:8.64\"/>\n",
       "\t<line x1=\"390.80\" y1=\"198.01\" x2=\"3859.02\" y2=\"198.01\" style=\"stroke:#EAF2F3;stroke-width:8.64\"/>\n",
       "\t<rect x=\"525.20\" y=\"2475.70\" width=\"142.19\" height=\"13.49\" style=\"fill:#CAC27E\"/>\n",
       "\t<rect x=\"529.51\" y=\"2480.02\" width=\"133.55\" height=\"4.85\" style=\"fill:none;stroke:#D7D29E;stroke-width:8.64\"/>\n",
       "\t<rect x=\"1094.07\" y=\"2151.21\" width=\"142.19\" height=\"337.97\" style=\"fill:#CAC27E\"/>\n",
       "\t<rect x=\"1098.39\" y=\"2155.53\" width=\"133.55\" height=\"329.33\" style=\"fill:none;stroke:#D7D29E;stroke-width:8.64\"/>\n",
       "\t<rect x=\"1805.02\" y=\"1407.82\" width=\"142.19\" height=\"1081.36\" style=\"fill:#CAC27E\"/>\n",
       "\t<rect x=\"1809.34\" y=\"1412.14\" width=\"133.55\" height=\"1072.72\" style=\"fill:none;stroke:#D7D29E;stroke-width:8.64\"/>\n",
       "\t<rect x=\"2373.77\" y=\"691.29\" width=\"142.19\" height=\"1797.90\" style=\"fill:#CAC27E\"/>\n",
       "\t<rect x=\"2378.09\" y=\"695.61\" width=\"133.55\" height=\"1789.26\" style=\"fill:none;stroke:#D7D29E;stroke-width:8.64\"/>\n",
       "\t<rect x=\"3084.72\" y=\"407.52\" width=\"142.19\" height=\"2081.66\" style=\"fill:#CAC27E\"/>\n",
       "\t<rect x=\"3089.04\" y=\"411.84\" width=\"133.55\" height=\"2073.02\" style=\"fill:none;stroke:#D7D29E;stroke-width:8.64\"/>\n",
       "\t<rect x=\"3653.47\" y=\"164.22\" width=\"142.19\" height=\"2324.96\" style=\"fill:#CAC27E\"/>\n",
       "\t<rect x=\"3657.79\" y=\"168.54\" width=\"133.55\" height=\"2316.32\" style=\"fill:none;stroke:#D7D29E;stroke-width:8.64\"/>\n",
       "\t<line x1=\"390.80\" y1=\"2489.19\" x2=\"390.80\" y2=\"100.86\" style=\"stroke:#000000;stroke-width:5.76\"/>\n",
       "\t<line x1=\"390.80\" y1=\"2489.19\" x2=\"350.83\" y2=\"2489.19\" style=\"stroke:#000000;stroke-width:5.76\"/>\n",
       "\t<text x=\"300.72\" y=\"2489.19\" style=\"font-family:'Helvetica';font-size:99.99px;fill:#000000\" transform=\"rotate(-90 300.72,2489.19)\" text-anchor=\"middle\">0</text>\n",
       "\t<line x1=\"390.80\" y1=\"1725.50\" x2=\"350.83\" y2=\"1725.50\" style=\"stroke:#000000;stroke-width:5.76\"/>\n",
       "\t<text x=\"300.72\" y=\"1725.50\" style=\"font-family:'Helvetica';font-size:99.99px;fill:#000000\" transform=\"rotate(-90 300.72,1725.50)\" text-anchor=\"middle\">10</text>\n",
       "\t<line x1=\"390.80\" y1=\"961.69\" x2=\"350.83\" y2=\"961.69\" style=\"stroke:#000000;stroke-width:5.76\"/>\n",
       "\t<text x=\"300.72\" y=\"961.69\" style=\"font-family:'Helvetica';font-size:99.99px;fill:#000000\" transform=\"rotate(-90 300.72,961.69)\" text-anchor=\"middle\">20</text>\n",
       "\t<line x1=\"390.80\" y1=\"198.01\" x2=\"350.83\" y2=\"198.01\" style=\"stroke:#000000;stroke-width:5.76\"/>\n",
       "\t<text x=\"300.72\" y=\"198.01\" style=\"font-family:'Helvetica';font-size:99.99px;fill:#000000\" transform=\"rotate(-90 300.72,198.01)\" text-anchor=\"middle\">30</text>\n",
       "\t<text x=\"190.71\" y=\"1294.96\" style=\"font-family:'Helvetica';font-size:99.99px;fill:#000000\" transform=\"rotate(-90 190.71,1294.96)\" text-anchor=\"middle\">Percent</text>\n",
       "\t<line x1=\"390.80\" y1=\"2489.19\" x2=\"3859.02\" y2=\"2489.19\" style=\"stroke:#000000;stroke-width:5.76\"/>\n",
       "\t<line x1=\"525.20\" y1=\"2489.19\" x2=\"525.20\" y2=\"2529.16\" style=\"stroke:#000000;stroke-width:5.76\"/>\n",
       "\t<text x=\"525.20\" y=\"2619.14\" style=\"font-family:'Helvetica';font-size:99.99px;fill:#000000\" text-anchor=\"middle\">0</text>\n",
       "\t<line x1=\"1179.34\" y1=\"2489.19\" x2=\"1179.34\" y2=\"2529.16\" style=\"stroke:#000000;stroke-width:5.76\"/>\n",
       "\t<text x=\"1179.34\" y=\"2619.14\" style=\"font-family:'Helvetica';font-size:99.99px;fill:#000000\" text-anchor=\"middle\">1</text>\n",
       "\t<line x1=\"1833.48\" y1=\"2489.19\" x2=\"1833.48\" y2=\"2529.16\" style=\"stroke:#000000;stroke-width:5.76\"/>\n",
       "\t<text x=\"1833.48\" y=\"2619.14\" style=\"font-family:'Helvetica';font-size:99.99px;fill:#000000\" text-anchor=\"middle\">2</text>\n",
       "\t<line x1=\"2487.50\" y1=\"2489.19\" x2=\"2487.50\" y2=\"2529.16\" style=\"stroke:#000000;stroke-width:5.76\"/>\n",
       "\t<text x=\"2487.50\" y=\"2619.14\" style=\"font-family:'Helvetica';font-size:99.99px;fill:#000000\" text-anchor=\"middle\">3</text>\n",
       "\t<line x1=\"3141.64\" y1=\"2489.19\" x2=\"3141.64\" y2=\"2529.16\" style=\"stroke:#000000;stroke-width:5.76\"/>\n",
       "\t<text x=\"3141.64\" y=\"2619.14\" style=\"font-family:'Helvetica';font-size:99.99px;fill:#000000\" text-anchor=\"middle\">4</text>\n",
       "\t<line x1=\"3795.66\" y1=\"2489.19\" x2=\"3795.66\" y2=\"2529.16\" style=\"stroke:#000000;stroke-width:5.76\"/>\n",
       "\t<text x=\"3795.66\" y=\"2619.14\" style=\"font-family:'Helvetica';font-size:99.99px;fill:#000000\" text-anchor=\"middle\">5</text>\n",
       "\t<text x=\"2124.91\" y=\"2729.16\" style=\"font-family:'Helvetica';font-size:99.99px;fill:#000000\" text-anchor=\"middle\">addindex</text>\n",
       "</svg>\n"
      ],
      "text/html": [
       "                <iframe frameborder=\"0\" scrolling=\"no\" height=\"436\" width=\"600\"                srcdoc=\"<html><body>&lt;?xml version=&quot;1.0&quot; encoding=&quot;UTF-8&quot; standalone=&quot;no&quot;?&gt;\n",
       "&lt;!-- This is a Stata 16.0 generated SVG file (http://www.stata.com) --&gt;\n",
       "\n",
       "&lt;svg version=&quot;1.1&quot; width=&quot;600px&quot; height=&quot;436px&quot; viewBox=&quot;0 0 3960 2880&quot; xmlns=&quot;http://www.w3.org/2000/svg&quot; xmlns:xlink=&quot;http://www.w3.org/1999/xlink&quot;&gt;\n",
       "\t&lt;desc&gt;Stata Graph - Graph&lt;/desc&gt;\n",
       "\t&lt;rect x=&quot;0&quot; y=&quot;0&quot; width=&quot;3960&quot; height=&quot;2880&quot; style=&quot;fill:#EAF2F3;stroke:none&quot;/&gt;\n",
       "\t&lt;rect x=&quot;0.00&quot; y=&quot;0.00&quot; width=&quot;3959.88&quot; height=&quot;2880.00&quot; style=&quot;fill:#EAF2F3&quot;/&gt;\n",
       "\t&lt;rect x=&quot;2.88&quot; y=&quot;2.88&quot; width=&quot;3954.12&quot; height=&quot;2874.24&quot; style=&quot;fill:none;stroke:#EAF2F3;stroke-width:5.76&quot;/&gt;\n",
       "\t&lt;rect x=&quot;390.80&quot; y=&quot;100.86&quot; width=&quot;3468.22&quot; height=&quot;2388.33&quot; style=&quot;fill:#FFFFFF&quot;/&gt;\n",
       "\t&lt;rect x=&quot;393.68&quot; y=&quot;103.74&quot; width=&quot;3462.46&quot; height=&quot;2382.57&quot; style=&quot;fill:none;stroke:#FFFFFF;stroke-width:5.76&quot;/&gt;\n",
       "\t&lt;line x1=&quot;390.80&quot; y1=&quot;2489.19&quot; x2=&quot;3859.02&quot; y2=&quot;2489.19&quot; style=&quot;stroke:#EAF2F3;stroke-width:8.64&quot;/&gt;\n",
       "\t&lt;line x1=&quot;390.80&quot; y1=&quot;1725.50&quot; x2=&quot;3859.02&quot; y2=&quot;1725.50&quot; style=&quot;stroke:#EAF2F3;stroke-width:8.64&quot;/&gt;\n",
       "\t&lt;line x1=&quot;390.80&quot; y1=&quot;961.69&quot; x2=&quot;3859.02&quot; y2=&quot;961.69&quot; style=&quot;stroke:#EAF2F3;stroke-width:8.64&quot;/&gt;\n",
       "\t&lt;line x1=&quot;390.80&quot; y1=&quot;198.01&quot; x2=&quot;3859.02&quot; y2=&quot;198.01&quot; style=&quot;stroke:#EAF2F3;stroke-width:8.64&quot;/&gt;\n",
       "\t&lt;rect x=&quot;525.20&quot; y=&quot;2475.70&quot; width=&quot;142.19&quot; height=&quot;13.49&quot; style=&quot;fill:#CAC27E&quot;/&gt;\n",
       "\t&lt;rect x=&quot;529.51&quot; y=&quot;2480.02&quot; width=&quot;133.55&quot; height=&quot;4.85&quot; style=&quot;fill:none;stroke:#D7D29E;stroke-width:8.64&quot;/&gt;\n",
       "\t&lt;rect x=&quot;1094.07&quot; y=&quot;2151.21&quot; width=&quot;142.19&quot; height=&quot;337.97&quot; style=&quot;fill:#CAC27E&quot;/&gt;\n",
       "\t&lt;rect x=&quot;1098.39&quot; y=&quot;2155.53&quot; width=&quot;133.55&quot; height=&quot;329.33&quot; style=&quot;fill:none;stroke:#D7D29E;stroke-width:8.64&quot;/&gt;\n",
       "\t&lt;rect x=&quot;1805.02&quot; y=&quot;1407.82&quot; width=&quot;142.19&quot; height=&quot;1081.36&quot; style=&quot;fill:#CAC27E&quot;/&gt;\n",
       "\t&lt;rect x=&quot;1809.34&quot; y=&quot;1412.14&quot; width=&quot;133.55&quot; height=&quot;1072.72&quot; style=&quot;fill:none;stroke:#D7D29E;stroke-width:8.64&quot;/&gt;\n",
       "\t&lt;rect x=&quot;2373.77&quot; y=&quot;691.29&quot; width=&quot;142.19&quot; height=&quot;1797.90&quot; style=&quot;fill:#CAC27E&quot;/&gt;\n",
       "\t&lt;rect x=&quot;2378.09&quot; y=&quot;695.61&quot; width=&quot;133.55&quot; height=&quot;1789.26&quot; style=&quot;fill:none;stroke:#D7D29E;stroke-width:8.64&quot;/&gt;\n",
       "\t&lt;rect x=&quot;3084.72&quot; y=&quot;407.52&quot; width=&quot;142.19&quot; height=&quot;2081.66&quot; style=&quot;fill:#CAC27E&quot;/&gt;\n",
       "\t&lt;rect x=&quot;3089.04&quot; y=&quot;411.84&quot; width=&quot;133.55&quot; height=&quot;2073.02&quot; style=&quot;fill:none;stroke:#D7D29E;stroke-width:8.64&quot;/&gt;\n",
       "\t&lt;rect x=&quot;3653.47&quot; y=&quot;164.22&quot; width=&quot;142.19&quot; height=&quot;2324.96&quot; style=&quot;fill:#CAC27E&quot;/&gt;\n",
       "\t&lt;rect x=&quot;3657.79&quot; y=&quot;168.54&quot; width=&quot;133.55&quot; height=&quot;2316.32&quot; style=&quot;fill:none;stroke:#D7D29E;stroke-width:8.64&quot;/&gt;\n",
       "\t&lt;line x1=&quot;390.80&quot; y1=&quot;2489.19&quot; x2=&quot;390.80&quot; y2=&quot;100.86&quot; style=&quot;stroke:#000000;stroke-width:5.76&quot;/&gt;\n",
       "\t&lt;line x1=&quot;390.80&quot; y1=&quot;2489.19&quot; x2=&quot;350.83&quot; y2=&quot;2489.19&quot; style=&quot;stroke:#000000;stroke-width:5.76&quot;/&gt;\n",
       "\t&lt;text x=&quot;300.72&quot; y=&quot;2489.19&quot; style=&quot;font-family:&#x27;Helvetica&#x27;;font-size:99.99px;fill:#000000&quot; transform=&quot;rotate(-90 300.72,2489.19)&quot; text-anchor=&quot;middle&quot;&gt;0&lt;/text&gt;\n",
       "\t&lt;line x1=&quot;390.80&quot; y1=&quot;1725.50&quot; x2=&quot;350.83&quot; y2=&quot;1725.50&quot; style=&quot;stroke:#000000;stroke-width:5.76&quot;/&gt;\n",
       "\t&lt;text x=&quot;300.72&quot; y=&quot;1725.50&quot; style=&quot;font-family:&#x27;Helvetica&#x27;;font-size:99.99px;fill:#000000&quot; transform=&quot;rotate(-90 300.72,1725.50)&quot; text-anchor=&quot;middle&quot;&gt;10&lt;/text&gt;\n",
       "\t&lt;line x1=&quot;390.80&quot; y1=&quot;961.69&quot; x2=&quot;350.83&quot; y2=&quot;961.69&quot; style=&quot;stroke:#000000;stroke-width:5.76&quot;/&gt;\n",
       "\t&lt;text x=&quot;300.72&quot; y=&quot;961.69&quot; style=&quot;font-family:&#x27;Helvetica&#x27;;font-size:99.99px;fill:#000000&quot; transform=&quot;rotate(-90 300.72,961.69)&quot; text-anchor=&quot;middle&quot;&gt;20&lt;/text&gt;\n",
       "\t&lt;line x1=&quot;390.80&quot; y1=&quot;198.01&quot; x2=&quot;350.83&quot; y2=&quot;198.01&quot; style=&quot;stroke:#000000;stroke-width:5.76&quot;/&gt;\n",
       "\t&lt;text x=&quot;300.72&quot; y=&quot;198.01&quot; style=&quot;font-family:&#x27;Helvetica&#x27;;font-size:99.99px;fill:#000000&quot; transform=&quot;rotate(-90 300.72,198.01)&quot; text-anchor=&quot;middle&quot;&gt;30&lt;/text&gt;\n",
       "\t&lt;text x=&quot;190.71&quot; y=&quot;1294.96&quot; style=&quot;font-family:&#x27;Helvetica&#x27;;font-size:99.99px;fill:#000000&quot; transform=&quot;rotate(-90 190.71,1294.96)&quot; text-anchor=&quot;middle&quot;&gt;Percent&lt;/text&gt;\n",
       "\t&lt;line x1=&quot;390.80&quot; y1=&quot;2489.19&quot; x2=&quot;3859.02&quot; y2=&quot;2489.19&quot; style=&quot;stroke:#000000;stroke-width:5.76&quot;/&gt;\n",
       "\t&lt;line x1=&quot;525.20&quot; y1=&quot;2489.19&quot; x2=&quot;525.20&quot; y2=&quot;2529.16&quot; style=&quot;stroke:#000000;stroke-width:5.76&quot;/&gt;\n",
       "\t&lt;text x=&quot;525.20&quot; y=&quot;2619.14&quot; style=&quot;font-family:&#x27;Helvetica&#x27;;font-size:99.99px;fill:#000000&quot; text-anchor=&quot;middle&quot;&gt;0&lt;/text&gt;\n",
       "\t&lt;line x1=&quot;1179.34&quot; y1=&quot;2489.19&quot; x2=&quot;1179.34&quot; y2=&quot;2529.16&quot; style=&quot;stroke:#000000;stroke-width:5.76&quot;/&gt;\n",
       "\t&lt;text x=&quot;1179.34&quot; y=&quot;2619.14&quot; style=&quot;font-family:&#x27;Helvetica&#x27;;font-size:99.99px;fill:#000000&quot; text-anchor=&quot;middle&quot;&gt;1&lt;/text&gt;\n",
       "\t&lt;line x1=&quot;1833.48&quot; y1=&quot;2489.19&quot; x2=&quot;1833.48&quot; y2=&quot;2529.16&quot; style=&quot;stroke:#000000;stroke-width:5.76&quot;/&gt;\n",
       "\t&lt;text x=&quot;1833.48&quot; y=&quot;2619.14&quot; style=&quot;font-family:&#x27;Helvetica&#x27;;font-size:99.99px;fill:#000000&quot; text-anchor=&quot;middle&quot;&gt;2&lt;/text&gt;\n",
       "\t&lt;line x1=&quot;2487.50&quot; y1=&quot;2489.19&quot; x2=&quot;2487.50&quot; y2=&quot;2529.16&quot; style=&quot;stroke:#000000;stroke-width:5.76&quot;/&gt;\n",
       "\t&lt;text x=&quot;2487.50&quot; y=&quot;2619.14&quot; style=&quot;font-family:&#x27;Helvetica&#x27;;font-size:99.99px;fill:#000000&quot; text-anchor=&quot;middle&quot;&gt;3&lt;/text&gt;\n",
       "\t&lt;line x1=&quot;3141.64&quot; y1=&quot;2489.19&quot; x2=&quot;3141.64&quot; y2=&quot;2529.16&quot; style=&quot;stroke:#000000;stroke-width:5.76&quot;/&gt;\n",
       "\t&lt;text x=&quot;3141.64&quot; y=&quot;2619.14&quot; style=&quot;font-family:&#x27;Helvetica&#x27;;font-size:99.99px;fill:#000000&quot; text-anchor=&quot;middle&quot;&gt;4&lt;/text&gt;\n",
       "\t&lt;line x1=&quot;3795.66&quot; y1=&quot;2489.19&quot; x2=&quot;3795.66&quot; y2=&quot;2529.16&quot; style=&quot;stroke:#000000;stroke-width:5.76&quot;/&gt;\n",
       "\t&lt;text x=&quot;3795.66&quot; y=&quot;2619.14&quot; style=&quot;font-family:&#x27;Helvetica&#x27;;font-size:99.99px;fill:#000000&quot; text-anchor=&quot;middle&quot;&gt;5&lt;/text&gt;\n",
       "\t&lt;text x=&quot;2124.91&quot; y=&quot;2729.16&quot; style=&quot;font-family:&#x27;Helvetica&#x27;;font-size:99.99px;fill:#000000&quot; text-anchor=&quot;middle&quot;&gt;addindex&lt;/text&gt;\n",
       "&lt;/svg&gt;\n",
       "</body></html>\"></iframe>\n"
      ],
      "text/plain": [
       "This front-end cannot display the desired image type."
      ]
     },
     "metadata": {
      "image/svg+xml": {
       "height": 436,
       "width": 600
      },
      "text/html": {
       "height": 436,
       "width": 600
      }
     },
     "output_type": "display_data"
    },
    {
     "name": "stdout",
     "output_type": "stream",
     "text": [
      "\n"
     ]
    }
   ],
   "source": [
    "gen addindex = c_electron + c_earthsun + c_condrift + c_viruses + c_lasers\n",
    "histogram addindex, percent"
   ]
  },
  {
   "cell_type": "markdown",
   "metadata": {},
   "source": [
    "We now have a scale that measures knowledge of basic scientific facts. Only a few people had zero points (if you guess on all questions you should on average get 2.5 points). About 30 percent answered correctly on all questions.\n",
    "\n",
    "The scale ranges from 0 to 5. If we instead want it to range from 0 to 1, to show the proportion of questions the respondent knew, we cna simply divide the variable by 5. The code would then have looked like below. However, it does not change anything substantially. The ranking of the respondents would have looked exactly the same."
   ]
  },
  {
   "cell_type": "code",
   "execution_count": 13,
   "metadata": {},
   "outputs": [
    {
     "name": "stdout",
     "output_type": "stream",
     "text": [
      "(1,783 missing values generated)\n"
     ]
    }
   ],
   "source": [
    "gen addindex_01 = (c_electron + c_earthsun + c_condrift + c_viruses + c_lasers)/5"
   ]
  },
  {
   "cell_type": "markdown",
   "metadata": {},
   "source": [
    "## Step 2b: Calculate the mean of the variables\n",
    "A limitation of the method is that only persons that have valid answers on all the questions are included in the index. A person that has a missing value on a single variable is excluded. Therefore there are only 565 persons that have a value on the new index, despite there being 777 responses on the least answered question.\n",
    "\n",
    "An alternative approach is therefore to take the average of all the variables that the respondent has values on. The upside is that we get more observations on the index, the downside is that the index means slightly different things for different people. To only answer one question and be right is not the same thing as answering five questions correctly. It is therefore important to think this through. What is more important, wide coverage, or fair comparisons between respondents?\n",
    "\n",
    "To create the index this way we use the command `egen` - am extend version of `gen` combined with `rowmean()`. Here we simply list the variables we want to take the average of, we dont place plus signs between them. We then create a histogram to see the distribution again:"
   ]
  },
  {
   "cell_type": "code",
   "execution_count": 20,
   "metadata": {},
   "outputs": [
    {
     "name": "stdout",
     "output_type": "stream",
     "text": [
      "\n",
      "(1182 missing values generated)\n",
      "\n",
      "(bin=30, start=0, width=.03333333)\n"
     ]
    },
    {
     "data": {
      "application/pdf": "[encoded data removed]",
      "image/svg+xml": [
       "<?xml version=\"1.0\" encoding=\"UTF-8\" standalone=\"no\"?>\n",
       "<!-- This is a Stata 16.0 generated SVG file (http://www.stata.com) -->\n",
       "\n",
       "<svg version=\"1.1\" width=\"600px\" height=\"436px\" viewBox=\"0 0 3960 2880\" xmlns=\"http://www.w3.org/2000/svg\" xmlns:xlink=\"http://www.w3.org/1999/xlink\">\n",
       "\t<desc>Stata Graph - Graph</desc>\n",
       "\t<rect x=\"0\" y=\"0\" width=\"3960\" height=\"2880\" style=\"fill:#EAF2F3;stroke:none\"/>\n",
       "\t<rect x=\"0.00\" y=\"0.00\" width=\"3959.88\" height=\"2880.00\" style=\"fill:#EAF2F3\"/>\n",
       "\t<rect x=\"2.88\" y=\"2.88\" width=\"3954.12\" height=\"2874.24\" style=\"fill:none;stroke:#EAF2F3;stroke-width:5.76\"/>\n",
       "\t<rect x=\"390.80\" y=\"100.86\" width=\"3468.22\" height=\"2388.33\" style=\"fill:#FFFFFF\"/>\n",
       "\t<rect x=\"393.68\" y=\"103.74\" width=\"3462.46\" height=\"2382.57\" style=\"fill:none;stroke:#FFFFFF;stroke-width:5.76\"/>\n",
       "\t<line x1=\"390.80\" y1=\"2489.19\" x2=\"3859.02\" y2=\"2489.19\" style=\"stroke:#EAF2F3;stroke-width:8.64\"/>\n",
       "\t<line x1=\"390.80\" y1=\"1716.84\" x2=\"3859.02\" y2=\"1716.84\" style=\"stroke:#EAF2F3;stroke-width:8.64\"/>\n",
       "\t<line x1=\"390.80\" y1=\"944.49\" x2=\"3859.02\" y2=\"944.49\" style=\"stroke:#EAF2F3;stroke-width:8.64\"/>\n",
       "\t<line x1=\"390.80\" y1=\"172.14\" x2=\"3859.02\" y2=\"172.14\" style=\"stroke:#EAF2F3;stroke-width:8.64\"/>\n",
       "\t<rect x=\"508.86\" y=\"2237.47\" width=\"109.64\" height=\"251.72\" style=\"fill:#CAC27E\"/>\n",
       "\t<rect x=\"513.18\" y=\"2241.79\" width=\"101.00\" height=\"243.08\" style=\"fill:none;stroke:#D7D29E;stroke-width:8.64\"/>\n",
       "\t<rect x=\"1166.22\" y=\"2323.60\" width=\"109.64\" height=\"165.58\" style=\"fill:#CAC27E\"/>\n",
       "\t<rect x=\"1170.54\" y=\"2327.92\" width=\"101.00\" height=\"156.94\" style=\"fill:none;stroke:#D7D29E;stroke-width:8.64\"/>\n",
       "\t<rect x=\"1275.86\" y=\"2164.58\" width=\"109.52\" height=\"324.61\" style=\"fill:#CAC27E\"/>\n",
       "\t<rect x=\"1280.18\" y=\"2168.90\" width=\"100.88\" height=\"315.97\" style=\"fill:none;stroke:#D7D29E;stroke-width:8.64\"/>\n",
       "\t<rect x=\"1604.54\" y=\"2184.50\" width=\"109.52\" height=\"304.68\" style=\"fill:#CAC27E\"/>\n",
       "\t<rect x=\"1608.86\" y=\"2188.82\" width=\"100.88\" height=\"296.04\" style=\"fill:none;stroke:#D7D29E;stroke-width:8.64\"/>\n",
       "\t<rect x=\"1823.58\" y=\"1959.27\" width=\"109.64\" height=\"529.91\" style=\"fill:#CAC27E\"/>\n",
       "\t<rect x=\"1827.90\" y=\"1963.59\" width=\"101.00\" height=\"521.27\" style=\"fill:none;stroke:#D7D29E;stroke-width:8.64\"/>\n",
       "\t<rect x=\"2152.26\" y=\"1634.66\" width=\"109.64\" height=\"854.52\" style=\"fill:#CAC27E\"/>\n",
       "\t<rect x=\"2156.58\" y=\"1638.98\" width=\"101.00\" height=\"845.88\" style=\"fill:none;stroke:#D7D29E;stroke-width:8.64\"/>\n",
       "\t<rect x=\"2480.94\" y=\"1608.18\" width=\"109.64\" height=\"881.00\" style=\"fill:#CAC27E\"/>\n",
       "\t<rect x=\"2485.26\" y=\"1612.50\" width=\"101.00\" height=\"872.36\" style=\"fill:none;stroke:#D7D29E;stroke-width:8.64\"/>\n",
       "\t<rect x=\"2700.10\" y=\"2111.61\" width=\"109.52\" height=\"377.57\" style=\"fill:#CAC27E\"/>\n",
       "\t<rect x=\"2704.42\" y=\"2115.93\" width=\"100.88\" height=\"368.93\" style=\"fill:none;stroke:#D7D29E;stroke-width:8.64\"/>\n",
       "\t<rect x=\"2919.26\" y=\"1800.25\" width=\"109.52\" height=\"688.94\" style=\"fill:#CAC27E\"/>\n",
       "\t<rect x=\"2923.58\" y=\"1804.57\" width=\"100.88\" height=\"680.30\" style=\"fill:none;stroke:#D7D29E;stroke-width:8.64\"/>\n",
       "\t<rect x=\"3138.30\" y=\"1469.08\" width=\"109.64\" height=\"1020.10\" style=\"fill:#CAC27E\"/>\n",
       "\t<rect x=\"3142.62\" y=\"1473.40\" width=\"101.00\" height=\"1011.46\" style=\"fill:none;stroke:#D7D29E;stroke-width:8.64\"/>\n",
       "\t<rect x=\"3686.14\" y=\"164.22\" width=\"109.52\" height=\"2324.96\" style=\"fill:#CAC27E\"/>\n",
       "\t<rect x=\"3690.46\" y=\"168.54\" width=\"100.88\" height=\"2316.32\" style=\"fill:none;stroke:#D7D29E;stroke-width:8.64\"/>\n",
       "\t<line x1=\"390.80\" y1=\"2489.19\" x2=\"390.80\" y2=\"100.86\" style=\"stroke:#000000;stroke-width:5.76\"/>\n",
       "\t<line x1=\"390.80\" y1=\"2489.19\" x2=\"350.83\" y2=\"2489.19\" style=\"stroke:#000000;stroke-width:5.76\"/>\n",
       "\t<text x=\"300.72\" y=\"2489.19\" style=\"font-family:'Helvetica';font-size:99.99px;fill:#000000\" transform=\"rotate(-90 300.72,2489.19)\" text-anchor=\"middle\">0</text>\n",
       "\t<line x1=\"390.80\" y1=\"1716.84\" x2=\"350.83\" y2=\"1716.84\" style=\"stroke:#000000;stroke-width:5.76\"/>\n",
       "\t<text x=\"300.72\" y=\"1716.84\" style=\"font-family:'Helvetica';font-size:99.99px;fill:#000000\" transform=\"rotate(-90 300.72,1716.84)\" text-anchor=\"middle\">10</text>\n",
       "\t<line x1=\"390.80\" y1=\"944.49\" x2=\"350.83\" y2=\"944.49\" style=\"stroke:#000000;stroke-width:5.76\"/>\n",
       "\t<text x=\"300.72\" y=\"944.49\" style=\"font-family:'Helvetica';font-size:99.99px;fill:#000000\" transform=\"rotate(-90 300.72,944.49)\" text-anchor=\"middle\">20</text>\n",
       "\t<line x1=\"390.80\" y1=\"172.14\" x2=\"350.83\" y2=\"172.14\" style=\"stroke:#000000;stroke-width:5.76\"/>\n",
       "\t<text x=\"300.72\" y=\"172.14\" style=\"font-family:'Helvetica';font-size:99.99px;fill:#000000\" transform=\"rotate(-90 300.72,172.14)\" text-anchor=\"middle\">30</text>\n",
       "\t<text x=\"190.71\" y=\"1294.96\" style=\"font-family:'Helvetica';font-size:99.99px;fill:#000000\" transform=\"rotate(-90 190.71,1294.96)\" text-anchor=\"middle\">Percent</text>\n",
       "\t<line x1=\"390.80\" y1=\"2489.19\" x2=\"3859.02\" y2=\"2489.19\" style=\"stroke:#000000;stroke-width:5.76\"/>\n",
       "\t<line x1=\"508.86\" y1=\"2489.19\" x2=\"508.86\" y2=\"2529.16\" style=\"stroke:#000000;stroke-width:5.76\"/>\n",
       "\t<text x=\"508.86\" y=\"2619.14\" style=\"font-family:'Helvetica';font-size:99.99px;fill:#000000\" text-anchor=\"middle\">0</text>\n",
       "\t<line x1=\"1166.22\" y1=\"2489.19\" x2=\"1166.22\" y2=\"2529.16\" style=\"stroke:#000000;stroke-width:5.76\"/>\n",
       "\t<text x=\"1166.22\" y=\"2619.14\" style=\"font-family:'Helvetica';font-size:99.99px;fill:#000000\" text-anchor=\"middle\">.2</text>\n",
       "\t<line x1=\"1823.58\" y1=\"2489.19\" x2=\"1823.58\" y2=\"2529.16\" style=\"stroke:#000000;stroke-width:5.76\"/>\n",
       "\t<text x=\"1823.58\" y=\"2619.14\" style=\"font-family:'Helvetica';font-size:99.99px;fill:#000000\" text-anchor=\"middle\">.4</text>\n",
       "\t<line x1=\"2480.94\" y1=\"2489.19\" x2=\"2480.94\" y2=\"2529.16\" style=\"stroke:#000000;stroke-width:5.76\"/>\n",
       "\t<text x=\"2480.94\" y=\"2619.14\" style=\"font-family:'Helvetica';font-size:99.99px;fill:#000000\" text-anchor=\"middle\">.6</text>\n",
       "\t<line x1=\"3138.30\" y1=\"2489.19\" x2=\"3138.30\" y2=\"2529.16\" style=\"stroke:#000000;stroke-width:5.76\"/>\n",
       "\t<text x=\"3138.30\" y=\"2619.14\" style=\"font-family:'Helvetica';font-size:99.99px;fill:#000000\" text-anchor=\"middle\">.8</text>\n",
       "\t<line x1=\"3795.66\" y1=\"2489.19\" x2=\"3795.66\" y2=\"2529.16\" style=\"stroke:#000000;stroke-width:5.76\"/>\n",
       "\t<text x=\"3795.66\" y=\"2619.14\" style=\"font-family:'Helvetica';font-size:99.99px;fill:#000000\" text-anchor=\"middle\">1</text>\n",
       "\t<text x=\"2124.91\" y=\"2729.16\" style=\"font-family:'Helvetica';font-size:99.99px;fill:#000000\" text-anchor=\"middle\">meanindex</text>\n",
       "</svg>\n"
      ],
      "text/html": [
       "                <iframe frameborder=\"0\" scrolling=\"no\" height=\"436\" width=\"600\"                srcdoc=\"<html><body>&lt;?xml version=&quot;1.0&quot; encoding=&quot;UTF-8&quot; standalone=&quot;no&quot;?&gt;\n",
       "&lt;!-- This is a Stata 16.0 generated SVG file (http://www.stata.com) --&gt;\n",
       "\n",
       "&lt;svg version=&quot;1.1&quot; width=&quot;600px&quot; height=&quot;436px&quot; viewBox=&quot;0 0 3960 2880&quot; xmlns=&quot;http://www.w3.org/2000/svg&quot; xmlns:xlink=&quot;http://www.w3.org/1999/xlink&quot;&gt;\n",
       "\t&lt;desc&gt;Stata Graph - Graph&lt;/desc&gt;\n",
       "\t&lt;rect x=&quot;0&quot; y=&quot;0&quot; width=&quot;3960&quot; height=&quot;2880&quot; style=&quot;fill:#EAF2F3;stroke:none&quot;/&gt;\n",
       "\t&lt;rect x=&quot;0.00&quot; y=&quot;0.00&quot; width=&quot;3959.88&quot; height=&quot;2880.00&quot; style=&quot;fill:#EAF2F3&quot;/&gt;\n",
       "\t&lt;rect x=&quot;2.88&quot; y=&quot;2.88&quot; width=&quot;3954.12&quot; height=&quot;2874.24&quot; style=&quot;fill:none;stroke:#EAF2F3;stroke-width:5.76&quot;/&gt;\n",
       "\t&lt;rect x=&quot;390.80&quot; y=&quot;100.86&quot; width=&quot;3468.22&quot; height=&quot;2388.33&quot; style=&quot;fill:#FFFFFF&quot;/&gt;\n",
       "\t&lt;rect x=&quot;393.68&quot; y=&quot;103.74&quot; width=&quot;3462.46&quot; height=&quot;2382.57&quot; style=&quot;fill:none;stroke:#FFFFFF;stroke-width:5.76&quot;/&gt;\n",
       "\t&lt;line x1=&quot;390.80&quot; y1=&quot;2489.19&quot; x2=&quot;3859.02&quot; y2=&quot;2489.19&quot; style=&quot;stroke:#EAF2F3;stroke-width:8.64&quot;/&gt;\n",
       "\t&lt;line x1=&quot;390.80&quot; y1=&quot;1716.84&quot; x2=&quot;3859.02&quot; y2=&quot;1716.84&quot; style=&quot;stroke:#EAF2F3;stroke-width:8.64&quot;/&gt;\n",
       "\t&lt;line x1=&quot;390.80&quot; y1=&quot;944.49&quot; x2=&quot;3859.02&quot; y2=&quot;944.49&quot; style=&quot;stroke:#EAF2F3;stroke-width:8.64&quot;/&gt;\n",
       "\t&lt;line x1=&quot;390.80&quot; y1=&quot;172.14&quot; x2=&quot;3859.02&quot; y2=&quot;172.14&quot; style=&quot;stroke:#EAF2F3;stroke-width:8.64&quot;/&gt;\n",
       "\t&lt;rect x=&quot;508.86&quot; y=&quot;2237.47&quot; width=&quot;109.64&quot; height=&quot;251.72&quot; style=&quot;fill:#CAC27E&quot;/&gt;\n",
       "\t&lt;rect x=&quot;513.18&quot; y=&quot;2241.79&quot; width=&quot;101.00&quot; height=&quot;243.08&quot; style=&quot;fill:none;stroke:#D7D29E;stroke-width:8.64&quot;/&gt;\n",
       "\t&lt;rect x=&quot;1166.22&quot; y=&quot;2323.60&quot; width=&quot;109.64&quot; height=&quot;165.58&quot; style=&quot;fill:#CAC27E&quot;/&gt;\n",
       "\t&lt;rect x=&quot;1170.54&quot; y=&quot;2327.92&quot; width=&quot;101.00&quot; height=&quot;156.94&quot; style=&quot;fill:none;stroke:#D7D29E;stroke-width:8.64&quot;/&gt;\n",
       "\t&lt;rect x=&quot;1275.86&quot; y=&quot;2164.58&quot; width=&quot;109.52&quot; height=&quot;324.61&quot; style=&quot;fill:#CAC27E&quot;/&gt;\n",
       "\t&lt;rect x=&quot;1280.18&quot; y=&quot;2168.90&quot; width=&quot;100.88&quot; height=&quot;315.97&quot; style=&quot;fill:none;stroke:#D7D29E;stroke-width:8.64&quot;/&gt;\n",
       "\t&lt;rect x=&quot;1604.54&quot; y=&quot;2184.50&quot; width=&quot;109.52&quot; height=&quot;304.68&quot; style=&quot;fill:#CAC27E&quot;/&gt;\n",
       "\t&lt;rect x=&quot;1608.86&quot; y=&quot;2188.82&quot; width=&quot;100.88&quot; height=&quot;296.04&quot; style=&quot;fill:none;stroke:#D7D29E;stroke-width:8.64&quot;/&gt;\n",
       "\t&lt;rect x=&quot;1823.58&quot; y=&quot;1959.27&quot; width=&quot;109.64&quot; height=&quot;529.91&quot; style=&quot;fill:#CAC27E&quot;/&gt;\n",
       "\t&lt;rect x=&quot;1827.90&quot; y=&quot;1963.59&quot; width=&quot;101.00&quot; height=&quot;521.27&quot; style=&quot;fill:none;stroke:#D7D29E;stroke-width:8.64&quot;/&gt;\n",
       "\t&lt;rect x=&quot;2152.26&quot; y=&quot;1634.66&quot; width=&quot;109.64&quot; height=&quot;854.52&quot; style=&quot;fill:#CAC27E&quot;/&gt;\n",
       "\t&lt;rect x=&quot;2156.58&quot; y=&quot;1638.98&quot; width=&quot;101.00&quot; height=&quot;845.88&quot; style=&quot;fill:none;stroke:#D7D29E;stroke-width:8.64&quot;/&gt;\n",
       "\t&lt;rect x=&quot;2480.94&quot; y=&quot;1608.18&quot; width=&quot;109.64&quot; height=&quot;881.00&quot; style=&quot;fill:#CAC27E&quot;/&gt;\n",
       "\t&lt;rect x=&quot;2485.26&quot; y=&quot;1612.50&quot; width=&quot;101.00&quot; height=&quot;872.36&quot; style=&quot;fill:none;stroke:#D7D29E;stroke-width:8.64&quot;/&gt;\n",
       "\t&lt;rect x=&quot;2700.10&quot; y=&quot;2111.61&quot; width=&quot;109.52&quot; height=&quot;377.57&quot; style=&quot;fill:#CAC27E&quot;/&gt;\n",
       "\t&lt;rect x=&quot;2704.42&quot; y=&quot;2115.93&quot; width=&quot;100.88&quot; height=&quot;368.93&quot; style=&quot;fill:none;stroke:#D7D29E;stroke-width:8.64&quot;/&gt;\n",
       "\t&lt;rect x=&quot;2919.26&quot; y=&quot;1800.25&quot; width=&quot;109.52&quot; height=&quot;688.94&quot; style=&quot;fill:#CAC27E&quot;/&gt;\n",
       "\t&lt;rect x=&quot;2923.58&quot; y=&quot;1804.57&quot; width=&quot;100.88&quot; height=&quot;680.30&quot; style=&quot;fill:none;stroke:#D7D29E;stroke-width:8.64&quot;/&gt;\n",
       "\t&lt;rect x=&quot;3138.30&quot; y=&quot;1469.08&quot; width=&quot;109.64&quot; height=&quot;1020.10&quot; style=&quot;fill:#CAC27E&quot;/&gt;\n",
       "\t&lt;rect x=&quot;3142.62&quot; y=&quot;1473.40&quot; width=&quot;101.00&quot; height=&quot;1011.46&quot; style=&quot;fill:none;stroke:#D7D29E;stroke-width:8.64&quot;/&gt;\n",
       "\t&lt;rect x=&quot;3686.14&quot; y=&quot;164.22&quot; width=&quot;109.52&quot; height=&quot;2324.96&quot; style=&quot;fill:#CAC27E&quot;/&gt;\n",
       "\t&lt;rect x=&quot;3690.46&quot; y=&quot;168.54&quot; width=&quot;100.88&quot; height=&quot;2316.32&quot; style=&quot;fill:none;stroke:#D7D29E;stroke-width:8.64&quot;/&gt;\n",
       "\t&lt;line x1=&quot;390.80&quot; y1=&quot;2489.19&quot; x2=&quot;390.80&quot; y2=&quot;100.86&quot; style=&quot;stroke:#000000;stroke-width:5.76&quot;/&gt;\n",
       "\t&lt;line x1=&quot;390.80&quot; y1=&quot;2489.19&quot; x2=&quot;350.83&quot; y2=&quot;2489.19&quot; style=&quot;stroke:#000000;stroke-width:5.76&quot;/&gt;\n",
       "\t&lt;text x=&quot;300.72&quot; y=&quot;2489.19&quot; style=&quot;font-family:&#x27;Helvetica&#x27;;font-size:99.99px;fill:#000000&quot; transform=&quot;rotate(-90 300.72,2489.19)&quot; text-anchor=&quot;middle&quot;&gt;0&lt;/text&gt;\n",
       "\t&lt;line x1=&quot;390.80&quot; y1=&quot;1716.84&quot; x2=&quot;350.83&quot; y2=&quot;1716.84&quot; style=&quot;stroke:#000000;stroke-width:5.76&quot;/&gt;\n",
       "\t&lt;text x=&quot;300.72&quot; y=&quot;1716.84&quot; style=&quot;font-family:&#x27;Helvetica&#x27;;font-size:99.99px;fill:#000000&quot; transform=&quot;rotate(-90 300.72,1716.84)&quot; text-anchor=&quot;middle&quot;&gt;10&lt;/text&gt;\n",
       "\t&lt;line x1=&quot;390.80&quot; y1=&quot;944.49&quot; x2=&quot;350.83&quot; y2=&quot;944.49&quot; style=&quot;stroke:#000000;stroke-width:5.76&quot;/&gt;\n",
       "\t&lt;text x=&quot;300.72&quot; y=&quot;944.49&quot; style=&quot;font-family:&#x27;Helvetica&#x27;;font-size:99.99px;fill:#000000&quot; transform=&quot;rotate(-90 300.72,944.49)&quot; text-anchor=&quot;middle&quot;&gt;20&lt;/text&gt;\n",
       "\t&lt;line x1=&quot;390.80&quot; y1=&quot;172.14&quot; x2=&quot;350.83&quot; y2=&quot;172.14&quot; style=&quot;stroke:#000000;stroke-width:5.76&quot;/&gt;\n",
       "\t&lt;text x=&quot;300.72&quot; y=&quot;172.14&quot; style=&quot;font-family:&#x27;Helvetica&#x27;;font-size:99.99px;fill:#000000&quot; transform=&quot;rotate(-90 300.72,172.14)&quot; text-anchor=&quot;middle&quot;&gt;30&lt;/text&gt;\n",
       "\t&lt;text x=&quot;190.71&quot; y=&quot;1294.96&quot; style=&quot;font-family:&#x27;Helvetica&#x27;;font-size:99.99px;fill:#000000&quot; transform=&quot;rotate(-90 190.71,1294.96)&quot; text-anchor=&quot;middle&quot;&gt;Percent&lt;/text&gt;\n",
       "\t&lt;line x1=&quot;390.80&quot; y1=&quot;2489.19&quot; x2=&quot;3859.02&quot; y2=&quot;2489.19&quot; style=&quot;stroke:#000000;stroke-width:5.76&quot;/&gt;\n",
       "\t&lt;line x1=&quot;508.86&quot; y1=&quot;2489.19&quot; x2=&quot;508.86&quot; y2=&quot;2529.16&quot; style=&quot;stroke:#000000;stroke-width:5.76&quot;/&gt;\n",
       "\t&lt;text x=&quot;508.86&quot; y=&quot;2619.14&quot; style=&quot;font-family:&#x27;Helvetica&#x27;;font-size:99.99px;fill:#000000&quot; text-anchor=&quot;middle&quot;&gt;0&lt;/text&gt;\n",
       "\t&lt;line x1=&quot;1166.22&quot; y1=&quot;2489.19&quot; x2=&quot;1166.22&quot; y2=&quot;2529.16&quot; style=&quot;stroke:#000000;stroke-width:5.76&quot;/&gt;\n",
       "\t&lt;text x=&quot;1166.22&quot; y=&quot;2619.14&quot; style=&quot;font-family:&#x27;Helvetica&#x27;;font-size:99.99px;fill:#000000&quot; text-anchor=&quot;middle&quot;&gt;.2&lt;/text&gt;\n",
       "\t&lt;line x1=&quot;1823.58&quot; y1=&quot;2489.19&quot; x2=&quot;1823.58&quot; y2=&quot;2529.16&quot; style=&quot;stroke:#000000;stroke-width:5.76&quot;/&gt;\n",
       "\t&lt;text x=&quot;1823.58&quot; y=&quot;2619.14&quot; style=&quot;font-family:&#x27;Helvetica&#x27;;font-size:99.99px;fill:#000000&quot; text-anchor=&quot;middle&quot;&gt;.4&lt;/text&gt;\n",
       "\t&lt;line x1=&quot;2480.94&quot; y1=&quot;2489.19&quot; x2=&quot;2480.94&quot; y2=&quot;2529.16&quot; style=&quot;stroke:#000000;stroke-width:5.76&quot;/&gt;\n",
       "\t&lt;text x=&quot;2480.94&quot; y=&quot;2619.14&quot; style=&quot;font-family:&#x27;Helvetica&#x27;;font-size:99.99px;fill:#000000&quot; text-anchor=&quot;middle&quot;&gt;.6&lt;/text&gt;\n",
       "\t&lt;line x1=&quot;3138.30&quot; y1=&quot;2489.19&quot; x2=&quot;3138.30&quot; y2=&quot;2529.16&quot; style=&quot;stroke:#000000;stroke-width:5.76&quot;/&gt;\n",
       "\t&lt;text x=&quot;3138.30&quot; y=&quot;2619.14&quot; style=&quot;font-family:&#x27;Helvetica&#x27;;font-size:99.99px;fill:#000000&quot; text-anchor=&quot;middle&quot;&gt;.8&lt;/text&gt;\n",
       "\t&lt;line x1=&quot;3795.66&quot; y1=&quot;2489.19&quot; x2=&quot;3795.66&quot; y2=&quot;2529.16&quot; style=&quot;stroke:#000000;stroke-width:5.76&quot;/&gt;\n",
       "\t&lt;text x=&quot;3795.66&quot; y=&quot;2619.14&quot; style=&quot;font-family:&#x27;Helvetica&#x27;;font-size:99.99px;fill:#000000&quot; text-anchor=&quot;middle&quot;&gt;1&lt;/text&gt;\n",
       "\t&lt;text x=&quot;2124.91&quot; y=&quot;2729.16&quot; style=&quot;font-family:&#x27;Helvetica&#x27;;font-size:99.99px;fill:#000000&quot; text-anchor=&quot;middle&quot;&gt;meanindex&lt;/text&gt;\n",
       "&lt;/svg&gt;\n",
       "</body></html>\"></iframe>\n"
      ],
      "text/plain": [
       "This front-end cannot display the desired image type."
      ]
     },
     "metadata": {
      "image/svg+xml": {
       "height": 436,
       "width": 600
      },
      "text/html": {
       "height": 436,
       "width": 600
      }
     },
     "output_type": "display_data"
    },
    {
     "name": "stdout",
     "output_type": "stream",
     "text": [
      "\n"
     ]
    }
   ],
   "source": [
    "egen meanindex = rowmean(c_electron c_earthsun c_condrift c_viruses c_lasers)\n",
    "histogram meanindex, percent"
   ]
  },
  {
   "cell_type": "markdown",
   "metadata": {},
   "source": [
    "There are now many more different values, and the distribution looks different. More people have the value 0, since it now includes people who only answered one or two questions (and wrong). But we also now have 1166 persons with a value on the index."
   ]
  },
  {
   "cell_type": "markdown",
   "metadata": {},
   "source": [
    "## Step 3: Check how well the variables in the index correlate\n",
    "An index can be created for different reasons. In this example the purpose was to see how knowledgeable people are about science. Here it does not matter if the questions \"go together\", that is, correlate. A persons that answers all questions correctly know more about science than a person who does not. The purpose is to evaluate.\n",
    "\n",
    "But if we want to measure some underlying attitude, for instance an ideology, it might be important to see whether the questions actually correlate. If they are all indicators of a broader ideology, they should be correlated. Let's say that we had chosen five questions that we thought would capture left/right ideology. If we then find that one of the questions is uncorrelated with the other it might be a good idea to exclude it from the index. It might be picking up something else than the ideology.\n",
    "\n",
    "We can first look at the [correlations](correlation_en.html) between the variables, in a correlation matrix. We write `pwcorr` followed by the list of variables:"
   ]
  },
  {
   "cell_type": "code",
   "execution_count": 22,
   "metadata": {},
   "outputs": [
    {
     "name": "stdout",
     "output_type": "stream",
     "text": [
      "\n",
      "             | c_elec~n c_eart~n c_cond~t c_viru~s c_lasers\n",
      "-------------+---------------------------------------------\n",
      "  c_electron |   1.0000 \n",
      "  c_earthsun |   0.0615   1.0000 \n",
      "  c_condrift |   0.0857   0.1299   1.0000 \n",
      "   c_viruses |   0.0931   0.2131   0.0959   1.0000 \n",
      "    c_lasers |   0.0989   0.2260   0.0913   0.2096   1.0000 \n"
     ]
    }
   ],
   "source": [
    "pwcorr c_electron c_earthsun c_condrift c_viruses c_lasers"
   ]
  },
  {
   "cell_type": "markdown",
   "metadata": {},
   "source": [
    "All the variables have positive correlations. A person that answers one question correctly is more likely to answer another question correctly. But the relationships are quite weak - the correlation between knowing that the electron is smaller than the atom and that the earth revolves around the sun is only 0.06."
   ]
  },
  {
   "cell_type": "markdown",
   "metadata": {},
   "source": [
    "### Cronbach's alpha\n",
    "There are established measures for the reliability of indices, meaning how well the variables in the index correlate. A common measure is [*Cronbach's alpha*](https://en.wikipedia.org/wiki/Cronbach%27s_alpha). It ranges from 0 to 1, and the higher the value, the more the variables in the index tend to correlate. A rule of thumb is that 0.7 indicates that the scale is \"reliable\" but there is obviously not something magical about that threshold.\n",
    "\n",
    "We write `alpha` followed by the list of variables:"
   ]
  },
  {
   "cell_type": "code",
   "execution_count": 28,
   "metadata": {},
   "outputs": [
    {
     "name": "stdout",
     "output_type": "stream",
     "text": [
      "\n",
      "Test scale = mean(unstandardized items)\n",
      "\n",
      "Average interitem covariance:     .0258188\n",
      "Number of items in the scale:            5\n",
      "Scale reliability coefficient:      0.4287\n"
     ]
    }
   ],
   "source": [
    "alpha c_electron c_earthsun c_condrift c_viruses c_lasers"
   ]
  },
  {
   "cell_type": "markdown",
   "metadata": {},
   "source": [
    "The relevant value is found at the bottom: 0.4287. Not particularly high. In this case it does not matter, since our aim was to evaluate, rather than to find an underlying dimension of scientific knowledge. But if we aimed to find a coherent dimension we would want to remove variables that have low correlations with the other variables. By adding the option `, item` we can to the right in the table see what the alpha would be, if we removed a particular variable."
   ]
  },
  {
   "cell_type": "code",
   "execution_count": 31,
   "metadata": {},
   "outputs": [
    {
     "name": "stdout",
     "output_type": "stream",
     "text": [
      "\n",
      "Test scale = mean(unstandardized items)\n",
      "\n",
      "                                                            average\n",
      "                             item-test     item-rest       interitem\n",
      "Item         |  Obs  Sign   correlation   correlation     covariance      alpha\n",
      "-------------+-----------------------------------------------------------------\n",
      "c_electron   |  837    +       0.5380        0.1255        .0308565      0.4341\n",
      "c_earthsun   | 1117    +       0.6237        0.2508        .0222774      0.3331\n",
      "c_condrift   | 1063    +       0.4608        0.1539        .0332459      0.4146\n",
      "c_viruses    | 1109    +       0.6498        0.2295        .0203376      0.3334\n",
      "c_lasers     |  777    +       0.6270        0.2721        .0222191      0.3415\n",
      "-------------+-----------------------------------------------------------------\n",
      "Test scale   |                                             .0258188      0.4287\n",
      "-------------------------------------------------------------------------------\n"
     ]
    }
   ],
   "source": [
    "alpha c_electron c_earthsun c_condrift c_viruses c_lasers, item"
   ]
  },
  {
   "cell_type": "markdown",
   "metadata": {},
   "source": [
    "We could see in the correlation matrix that the question about electrons was only weakly correlated with the other variables. If we remove it, the alpha value would increase slightly, to 0.4341. If we instead removed the question about the movement of the earth around the sun, which had high correlations with the other variables, the alpha value would drop to 0.33."
   ]
  },
  {
   "cell_type": "markdown",
   "metadata": {},
   "source": [
    "## The index correlates better with other variables than single variables\n",
    "To show the benefit of the index we can look at the relationship between education and the indices we created, as well as with the variables on their own. \"addindex\" is the index that only included people that had answered all questions, and \"meanindex\" is the mean of the answered questinos. \"educ\" is a measure of how many years of schooling the respondent has."
   ]
  },
  {
   "cell_type": "code",
   "execution_count": 34,
   "metadata": {},
   "outputs": [
    {
     "name": "stdout",
     "output_type": "stream",
     "text": [
      "\n",
      "             |     educ addindex meanin~x c_elec~n c_eart~n c_cond~t c_viru~s\n",
      "-------------+---------------------------------------------------------------\n",
      "        educ |   1.0000 \n",
      "    addindex |   0.3656   1.0000 \n",
      "   meanindex |   0.3592   1.0000   1.0000 \n",
      "  c_electron |   0.1824   0.5435   0.5380   1.0000 \n",
      "  c_earthsun |   0.2058   0.5611   0.6237   0.0615   1.0000 \n",
      "  c_condrift |   0.1209   0.4210   0.4608   0.0857   0.1299   1.0000 \n",
      "   c_viruses |   0.3431   0.6167   0.6498   0.0931   0.2131   0.0959   1.0000 \n",
      "    c_lasers |   0.1722   0.5916   0.6270   0.0989   0.2260   0.0913   0.2096 \n",
      "\n",
      "             | c_lasers\n",
      "-------------+---------\n",
      "    c_lasers |   1.0000 \n"
     ]
    }
   ],
   "source": [
    "pwcorr educ addindex meanindex c_electron c_earthsun c_condrift c_viruses c_lasers"
   ]
  },
  {
   "cell_type": "markdown",
   "metadata": {},
   "source": [
    "What is interesting is that \"educ\" has higher correlations with both versions of the index than with any single variable that is used to create the indices. By combining the different variables we get a better indicator of much you know about science - something we can reasonably expect to be improved by education."
   ]
  },
  {
   "cell_type": "markdown",
   "metadata": {},
   "source": [
    "## Conclusion\n",
    "We have here talked about how to create additive indices, when the variables are combined by adding them together (or calculating the mean). But index can of course be created in different ways, using more advanced methods. The important thing is that it is the research question that guides the coding of the variables."
   ]
  }
 ],
 "metadata": {
  "kernelspec": {
   "display_name": "Stata",
   "language": "stata",
   "name": "stata"
  },
  "language_info": {
   "codemirror_mode": "stata",
   "file_extension": ".do",
   "mimetype": "text/x-stata",
   "name": "stata",
   "version": "15.1"
  }
 },
 "nbformat": 4,
 "nbformat_minor": 4
}
