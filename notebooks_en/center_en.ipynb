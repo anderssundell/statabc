{
 "cells": [
  {
   "cell_type": "markdown",
   "metadata": {},
   "source": [
    "# Center, standardize and normalize variables\n",
    "\n",
    "To center, standardize or normalize variables are three different recodings that can be done to help compare variables, especially in regression analysis.\n",
    "\n",
    "**Center:** Make the variable have a mean of 0.<br>\n",
    "**Standardize:** Make the variable have a mean of zaero, and a standard deviation of 1.<br>\n",
    "**Normalize:** Make the variables minimum value be 0, and the highest value 1.<br>\n",
    "\n",
    "In none of the cases are the variables changed in any important way: the rank ordering of the observations will be the same, as well as the relative distances. Only the scales of the variables are affected.\n",
    "\n",
    "There can be different reasons for wanting to do these recodings. If we use normal variables in a regression analysis, the b-coefficient shows the effect of an increase of the independent variable with 1, in the scale of the specific variable - one dollar, one year, one centimeter, and so on. With standardized variables, the coefficients instead show the effect of an increase of one standard deviation - a \"typical\" increase. If we instead use the normalized variable the coefficient shows the effect of going from the lowest value to the highest value.\n",
    "\n",
    "There are some commands that are especially made for these recodings, for instance the command `center`. We can install it by typing `ssc install center`. But in this guide we will talk about how to do the recodings \"by hand\". It is not hard! We will start by loading the QoG dataset, where we will look at the variable for average life expectancy, `wdi_lifexp`. We start by looking at a histogram for the variable, with `histogram wdi_lifexp`."
   ]
  },
  {
   "cell_type": "code",
   "execution_count": 2,
   "metadata": {},
   "outputs": [
    {
     "name": "stdout",
     "output_type": "stream",
     "text": [
      "\n",
      "(Quality of Government Basic dataset 2018 - Cross-Section)\n",
      "\n",
      "(bin=13, start=50.591049, width=2.5382121)\n"
     ]
    },
    {
     "data": {
      "application/pdf": "[encoded data removed]",
      "image/svg+xml": [
       "<?xml version=\"1.0\" encoding=\"UTF-8\" standalone=\"no\"?>\n",
       "<!-- This is a Stata 16.0 generated SVG file (http://www.stata.com) -->\n",
       "\n",
       "<svg version=\"1.1\" width=\"600px\" height=\"436px\" viewBox=\"0 0 3960 2880\" xmlns=\"http://www.w3.org/2000/svg\" xmlns:xlink=\"http://www.w3.org/1999/xlink\">\n",
       "\t<desc>Stata Graph - Graph</desc>\n",
       "\t<rect x=\"0\" y=\"0\" width=\"3960\" height=\"2880\" style=\"fill:#EAF2F3;stroke:none\"/>\n",
       "\t<rect x=\"0.00\" y=\"0.00\" width=\"3959.88\" height=\"2880.00\" style=\"fill:#EAF2F3\"/>\n",
       "\t<rect x=\"2.88\" y=\"2.88\" width=\"3954.12\" height=\"2874.24\" style=\"fill:none;stroke:#EAF2F3;stroke-width:5.76\"/>\n",
       "\t<rect x=\"390.80\" y=\"100.86\" width=\"3468.22\" height=\"2388.33\" style=\"fill:#FFFFFF\"/>\n",
       "\t<rect x=\"393.68\" y=\"103.74\" width=\"3462.46\" height=\"2382.57\" style=\"fill:none;stroke:#FFFFFF;stroke-width:5.76\"/>\n",
       "\t<line x1=\"390.80\" y1=\"2489.19\" x2=\"3859.02\" y2=\"2489.19\" style=\"stroke:#EAF2F3;stroke-width:8.64\"/>\n",
       "\t<line x1=\"390.80\" y1=\"1907.91\" x2=\"3859.02\" y2=\"1907.91\" style=\"stroke:#EAF2F3;stroke-width:8.64\"/>\n",
       "\t<line x1=\"390.80\" y1=\"1326.64\" x2=\"3859.02\" y2=\"1326.64\" style=\"stroke:#EAF2F3;stroke-width:8.64\"/>\n",
       "\t<line x1=\"390.80\" y1=\"745.37\" x2=\"3859.02\" y2=\"745.37\" style=\"stroke:#EAF2F3;stroke-width:8.64\"/>\n",
       "\t<line x1=\"390.80\" y1=\"164.22\" x2=\"3859.02\" y2=\"164.22\" style=\"stroke:#EAF2F3;stroke-width:8.64\"/>\n",
       "\t<rect x=\"577.91\" y=\"2117.80\" width=\"247.50\" height=\"371.39\" style=\"fill:#CAC27E\"/>\n",
       "\t<rect x=\"582.23\" y=\"2122.12\" width=\"238.86\" height=\"362.75\" style=\"fill:none;stroke:#D7D29E;stroke-width:8.64\"/>\n",
       "\t<rect x=\"825.41\" y=\"2427.31\" width=\"247.50\" height=\"61.88\" style=\"fill:#CAC27E\"/>\n",
       "\t<rect x=\"829.73\" y=\"2431.63\" width=\"238.86\" height=\"53.24\" style=\"fill:none;stroke:#D7D29E;stroke-width:8.64\"/>\n",
       "\t<rect x=\"1072.91\" y=\"1994.05\" width=\"247.62\" height=\"495.14\" style=\"fill:#CAC27E\"/>\n",
       "\t<rect x=\"1077.23\" y=\"1998.37\" width=\"238.98\" height=\"486.50\" style=\"fill:none;stroke:#D7D29E;stroke-width:8.64\"/>\n",
       "\t<rect x=\"1320.54\" y=\"1870.29\" width=\"247.50\" height=\"618.89\" style=\"fill:#CAC27E\"/>\n",
       "\t<rect x=\"1324.86\" y=\"1874.61\" width=\"238.86\" height=\"610.25\" style=\"fill:none;stroke:#D7D29E;stroke-width:8.64\"/>\n",
       "\t<rect x=\"1568.04\" y=\"1808.42\" width=\"247.50\" height=\"680.77\" style=\"fill:#CAC27E\"/>\n",
       "\t<rect x=\"1572.36\" y=\"1812.74\" width=\"238.86\" height=\"672.13\" style=\"fill:none;stroke:#D7D29E;stroke-width:8.64\"/>\n",
       "\t<rect x=\"1815.54\" y=\"1870.29\" width=\"247.50\" height=\"618.89\" style=\"fill:#CAC27E\"/>\n",
       "\t<rect x=\"1819.86\" y=\"1874.61\" width=\"238.86\" height=\"610.25\" style=\"fill:none;stroke:#D7D29E;stroke-width:8.64\"/>\n",
       "\t<rect x=\"2063.04\" y=\"1622.66\" width=\"247.50\" height=\"866.52\" style=\"fill:#CAC27E\"/>\n",
       "\t<rect x=\"2067.36\" y=\"1626.98\" width=\"238.86\" height=\"857.88\" style=\"fill:none;stroke:#D7D29E;stroke-width:8.64\"/>\n",
       "\t<rect x=\"2310.54\" y=\"1560.78\" width=\"247.50\" height=\"928.40\" style=\"fill:#CAC27E\"/>\n",
       "\t<rect x=\"2314.86\" y=\"1565.10\" width=\"238.86\" height=\"919.76\" style=\"fill:none;stroke:#D7D29E;stroke-width:8.64\"/>\n",
       "\t<rect x=\"2558.16\" y=\"1127.52\" width=\"247.50\" height=\"1361.66\" style=\"fill:#CAC27E\"/>\n",
       "\t<rect x=\"2562.48\" y=\"1131.84\" width=\"238.86\" height=\"1353.02\" style=\"fill:none;stroke:#D7D29E;stroke-width:8.64\"/>\n",
       "\t<rect x=\"2805.66\" y=\"323.00\" width=\"247.50\" height=\"2166.19\" style=\"fill:#CAC27E\"/>\n",
       "\t<rect x=\"2809.98\" y=\"327.32\" width=\"238.86\" height=\"2157.55\" style=\"fill:none;stroke:#D7D29E;stroke-width:8.64\"/>\n",
       "\t<rect x=\"3053.16\" y=\"1437.03\" width=\"247.50\" height=\"1052.16\" style=\"fill:#CAC27E\"/>\n",
       "\t<rect x=\"3057.48\" y=\"1441.35\" width=\"238.86\" height=\"1043.52\" style=\"fill:none;stroke:#D7D29E;stroke-width:8.64\"/>\n",
       "\t<rect x=\"3300.66\" y=\"1994.05\" width=\"247.50\" height=\"495.14\" style=\"fill:#CAC27E\"/>\n",
       "\t<rect x=\"3304.98\" y=\"1998.37\" width=\"238.86\" height=\"486.50\" style=\"fill:none;stroke:#D7D29E;stroke-width:8.64\"/>\n",
       "\t<rect x=\"3548.16\" y=\"756.26\" width=\"247.50\" height=\"1732.93\" style=\"fill:#CAC27E\"/>\n",
       "\t<rect x=\"3552.48\" y=\"760.58\" width=\"238.86\" height=\"1724.29\" style=\"fill:none;stroke:#D7D29E;stroke-width:8.64\"/>\n",
       "\t<line x1=\"390.80\" y1=\"2489.19\" x2=\"390.80\" y2=\"100.86\" style=\"stroke:#000000;stroke-width:5.76\"/>\n",
       "\t<line x1=\"390.80\" y1=\"2489.19\" x2=\"350.83\" y2=\"2489.19\" style=\"stroke:#000000;stroke-width:5.76\"/>\n",
       "\t<text x=\"300.72\" y=\"2489.19\" style=\"font-family:'Helvetica';font-size:99.99px;fill:#000000\" transform=\"rotate(-90 300.72,2489.19)\" text-anchor=\"middle\">0</text>\n",
       "\t<line x1=\"390.80\" y1=\"1907.91\" x2=\"350.83\" y2=\"1907.91\" style=\"stroke:#000000;stroke-width:5.76\"/>\n",
       "\t<text x=\"300.72\" y=\"1907.91\" style=\"font-family:'Helvetica';font-size:99.99px;fill:#000000\" transform=\"rotate(-90 300.72,1907.91)\" text-anchor=\"middle\">.02</text>\n",
       "\t<line x1=\"390.80\" y1=\"1326.64\" x2=\"350.83\" y2=\"1326.64\" style=\"stroke:#000000;stroke-width:5.76\"/>\n",
       "\t<text x=\"300.72\" y=\"1326.64\" style=\"font-family:'Helvetica';font-size:99.99px;fill:#000000\" transform=\"rotate(-90 300.72,1326.64)\" text-anchor=\"middle\">.04</text>\n",
       "\t<line x1=\"390.80\" y1=\"745.37\" x2=\"350.83\" y2=\"745.37\" style=\"stroke:#000000;stroke-width:5.76\"/>\n",
       "\t<text x=\"300.72\" y=\"745.37\" style=\"font-family:'Helvetica';font-size:99.99px;fill:#000000\" transform=\"rotate(-90 300.72,745.37)\" text-anchor=\"middle\">.06</text>\n",
       "\t<line x1=\"390.80\" y1=\"164.22\" x2=\"350.83\" y2=\"164.22\" style=\"stroke:#000000;stroke-width:5.76\"/>\n",
       "\t<text x=\"300.72\" y=\"164.22\" style=\"font-family:'Helvetica';font-size:99.99px;fill:#000000\" transform=\"rotate(-90 300.72,164.22)\" text-anchor=\"middle\">.08</text>\n",
       "\t<text x=\"190.71\" y=\"1294.96\" style=\"font-family:'Helvetica';font-size:99.99px;fill:#000000\" transform=\"rotate(-90 190.71,1294.96)\" text-anchor=\"middle\">Density</text>\n",
       "\t<line x1=\"390.80\" y1=\"2489.19\" x2=\"3859.02\" y2=\"2489.19\" style=\"stroke:#000000;stroke-width:5.76\"/>\n",
       "\t<line x1=\"520.25\" y1=\"2489.19\" x2=\"520.25\" y2=\"2529.16\" style=\"stroke:#000000;stroke-width:5.76\"/>\n",
       "\t<text x=\"520.25\" y=\"2619.14\" style=\"font-family:'Helvetica';font-size:99.99px;fill:#000000\" text-anchor=\"middle\">50</text>\n",
       "\t<line x1=\"1495.39\" y1=\"2489.19\" x2=\"1495.39\" y2=\"2529.16\" style=\"stroke:#000000;stroke-width:5.76\"/>\n",
       "\t<text x=\"1495.39\" y=\"2619.14\" style=\"font-family:'Helvetica';font-size:99.99px;fill:#000000\" text-anchor=\"middle\">60</text>\n",
       "\t<line x1=\"2470.67\" y1=\"2489.19\" x2=\"2470.67\" y2=\"2529.16\" style=\"stroke:#000000;stroke-width:5.76\"/>\n",
       "\t<text x=\"2470.67\" y=\"2619.14\" style=\"font-family:'Helvetica';font-size:99.99px;fill:#000000\" text-anchor=\"middle\">70</text>\n",
       "\t<line x1=\"3445.82\" y1=\"2489.19\" x2=\"3445.82\" y2=\"2529.16\" style=\"stroke:#000000;stroke-width:5.76\"/>\n",
       "\t<text x=\"3445.82\" y=\"2619.14\" style=\"font-family:'Helvetica';font-size:99.99px;fill:#000000\" text-anchor=\"middle\">80</text>\n",
       "\t<text x=\"2124.91\" y=\"2729.16\" style=\"font-family:'Helvetica';font-size:99.99px;fill:#000000\" text-anchor=\"middle\">Life expectancy at birth, total (years)</text>\n",
       "</svg>\n"
      ],
      "text/html": [
       "                <iframe frameborder=\"0\" scrolling=\"no\" height=\"436\" width=\"600\"                srcdoc=\"<html><body>&lt;?xml version=&quot;1.0&quot; encoding=&quot;UTF-8&quot; standalone=&quot;no&quot;?&gt;\n",
       "&lt;!-- This is a Stata 16.0 generated SVG file (http://www.stata.com) --&gt;\n",
       "\n",
       "&lt;svg version=&quot;1.1&quot; width=&quot;600px&quot; height=&quot;436px&quot; viewBox=&quot;0 0 3960 2880&quot; xmlns=&quot;http://www.w3.org/2000/svg&quot; xmlns:xlink=&quot;http://www.w3.org/1999/xlink&quot;&gt;\n",
       "\t&lt;desc&gt;Stata Graph - Graph&lt;/desc&gt;\n",
       "\t&lt;rect x=&quot;0&quot; y=&quot;0&quot; width=&quot;3960&quot; height=&quot;2880&quot; style=&quot;fill:#EAF2F3;stroke:none&quot;/&gt;\n",
       "\t&lt;rect x=&quot;0.00&quot; y=&quot;0.00&quot; width=&quot;3959.88&quot; height=&quot;2880.00&quot; style=&quot;fill:#EAF2F3&quot;/&gt;\n",
       "\t&lt;rect x=&quot;2.88&quot; y=&quot;2.88&quot; width=&quot;3954.12&quot; height=&quot;2874.24&quot; style=&quot;fill:none;stroke:#EAF2F3;stroke-width:5.76&quot;/&gt;\n",
       "\t&lt;rect x=&quot;390.80&quot; y=&quot;100.86&quot; width=&quot;3468.22&quot; height=&quot;2388.33&quot; style=&quot;fill:#FFFFFF&quot;/&gt;\n",
       "\t&lt;rect x=&quot;393.68&quot; y=&quot;103.74&quot; width=&quot;3462.46&quot; height=&quot;2382.57&quot; style=&quot;fill:none;stroke:#FFFFFF;stroke-width:5.76&quot;/&gt;\n",
       "\t&lt;line x1=&quot;390.80&quot; y1=&quot;2489.19&quot; x2=&quot;3859.02&quot; y2=&quot;2489.19&quot; style=&quot;stroke:#EAF2F3;stroke-width:8.64&quot;/&gt;\n",
       "\t&lt;line x1=&quot;390.80&quot; y1=&quot;1907.91&quot; x2=&quot;3859.02&quot; y2=&quot;1907.91&quot; style=&quot;stroke:#EAF2F3;stroke-width:8.64&quot;/&gt;\n",
       "\t&lt;line x1=&quot;390.80&quot; y1=&quot;1326.64&quot; x2=&quot;3859.02&quot; y2=&quot;1326.64&quot; style=&quot;stroke:#EAF2F3;stroke-width:8.64&quot;/&gt;\n",
       "\t&lt;line x1=&quot;390.80&quot; y1=&quot;745.37&quot; x2=&quot;3859.02&quot; y2=&quot;745.37&quot; style=&quot;stroke:#EAF2F3;stroke-width:8.64&quot;/&gt;\n",
       "\t&lt;line x1=&quot;390.80&quot; y1=&quot;164.22&quot; x2=&quot;3859.02&quot; y2=&quot;164.22&quot; style=&quot;stroke:#EAF2F3;stroke-width:8.64&quot;/&gt;\n",
       "\t&lt;rect x=&quot;577.91&quot; y=&quot;2117.80&quot; width=&quot;247.50&quot; height=&quot;371.39&quot; style=&quot;fill:#CAC27E&quot;/&gt;\n",
       "\t&lt;rect x=&quot;582.23&quot; y=&quot;2122.12&quot; width=&quot;238.86&quot; height=&quot;362.75&quot; style=&quot;fill:none;stroke:#D7D29E;stroke-width:8.64&quot;/&gt;\n",
       "\t&lt;rect x=&quot;825.41&quot; y=&quot;2427.31&quot; width=&quot;247.50&quot; height=&quot;61.88&quot; style=&quot;fill:#CAC27E&quot;/&gt;\n",
       "\t&lt;rect x=&quot;829.73&quot; y=&quot;2431.63&quot; width=&quot;238.86&quot; height=&quot;53.24&quot; style=&quot;fill:none;stroke:#D7D29E;stroke-width:8.64&quot;/&gt;\n",
       "\t&lt;rect x=&quot;1072.91&quot; y=&quot;1994.05&quot; width=&quot;247.62&quot; height=&quot;495.14&quot; style=&quot;fill:#CAC27E&quot;/&gt;\n",
       "\t&lt;rect x=&quot;1077.23&quot; y=&quot;1998.37&quot; width=&quot;238.98&quot; height=&quot;486.50&quot; style=&quot;fill:none;stroke:#D7D29E;stroke-width:8.64&quot;/&gt;\n",
       "\t&lt;rect x=&quot;1320.54&quot; y=&quot;1870.29&quot; width=&quot;247.50&quot; height=&quot;618.89&quot; style=&quot;fill:#CAC27E&quot;/&gt;\n",
       "\t&lt;rect x=&quot;1324.86&quot; y=&quot;1874.61&quot; width=&quot;238.86&quot; height=&quot;610.25&quot; style=&quot;fill:none;stroke:#D7D29E;stroke-width:8.64&quot;/&gt;\n",
       "\t&lt;rect x=&quot;1568.04&quot; y=&quot;1808.42&quot; width=&quot;247.50&quot; height=&quot;680.77&quot; style=&quot;fill:#CAC27E&quot;/&gt;\n",
       "\t&lt;rect x=&quot;1572.36&quot; y=&quot;1812.74&quot; width=&quot;238.86&quot; height=&quot;672.13&quot; style=&quot;fill:none;stroke:#D7D29E;stroke-width:8.64&quot;/&gt;\n",
       "\t&lt;rect x=&quot;1815.54&quot; y=&quot;1870.29&quot; width=&quot;247.50&quot; height=&quot;618.89&quot; style=&quot;fill:#CAC27E&quot;/&gt;\n",
       "\t&lt;rect x=&quot;1819.86&quot; y=&quot;1874.61&quot; width=&quot;238.86&quot; height=&quot;610.25&quot; style=&quot;fill:none;stroke:#D7D29E;stroke-width:8.64&quot;/&gt;\n",
       "\t&lt;rect x=&quot;2063.04&quot; y=&quot;1622.66&quot; width=&quot;247.50&quot; height=&quot;866.52&quot; style=&quot;fill:#CAC27E&quot;/&gt;\n",
       "\t&lt;rect x=&quot;2067.36&quot; y=&quot;1626.98&quot; width=&quot;238.86&quot; height=&quot;857.88&quot; style=&quot;fill:none;stroke:#D7D29E;stroke-width:8.64&quot;/&gt;\n",
       "\t&lt;rect x=&quot;2310.54&quot; y=&quot;1560.78&quot; width=&quot;247.50&quot; height=&quot;928.40&quot; style=&quot;fill:#CAC27E&quot;/&gt;\n",
       "\t&lt;rect x=&quot;2314.86&quot; y=&quot;1565.10&quot; width=&quot;238.86&quot; height=&quot;919.76&quot; style=&quot;fill:none;stroke:#D7D29E;stroke-width:8.64&quot;/&gt;\n",
       "\t&lt;rect x=&quot;2558.16&quot; y=&quot;1127.52&quot; width=&quot;247.50&quot; height=&quot;1361.66&quot; style=&quot;fill:#CAC27E&quot;/&gt;\n",
       "\t&lt;rect x=&quot;2562.48&quot; y=&quot;1131.84&quot; width=&quot;238.86&quot; height=&quot;1353.02&quot; style=&quot;fill:none;stroke:#D7D29E;stroke-width:8.64&quot;/&gt;\n",
       "\t&lt;rect x=&quot;2805.66&quot; y=&quot;323.00&quot; width=&quot;247.50&quot; height=&quot;2166.19&quot; style=&quot;fill:#CAC27E&quot;/&gt;\n",
       "\t&lt;rect x=&quot;2809.98&quot; y=&quot;327.32&quot; width=&quot;238.86&quot; height=&quot;2157.55&quot; style=&quot;fill:none;stroke:#D7D29E;stroke-width:8.64&quot;/&gt;\n",
       "\t&lt;rect x=&quot;3053.16&quot; y=&quot;1437.03&quot; width=&quot;247.50&quot; height=&quot;1052.16&quot; style=&quot;fill:#CAC27E&quot;/&gt;\n",
       "\t&lt;rect x=&quot;3057.48&quot; y=&quot;1441.35&quot; width=&quot;238.86&quot; height=&quot;1043.52&quot; style=&quot;fill:none;stroke:#D7D29E;stroke-width:8.64&quot;/&gt;\n",
       "\t&lt;rect x=&quot;3300.66&quot; y=&quot;1994.05&quot; width=&quot;247.50&quot; height=&quot;495.14&quot; style=&quot;fill:#CAC27E&quot;/&gt;\n",
       "\t&lt;rect x=&quot;3304.98&quot; y=&quot;1998.37&quot; width=&quot;238.86&quot; height=&quot;486.50&quot; style=&quot;fill:none;stroke:#D7D29E;stroke-width:8.64&quot;/&gt;\n",
       "\t&lt;rect x=&quot;3548.16&quot; y=&quot;756.26&quot; width=&quot;247.50&quot; height=&quot;1732.93&quot; style=&quot;fill:#CAC27E&quot;/&gt;\n",
       "\t&lt;rect x=&quot;3552.48&quot; y=&quot;760.58&quot; width=&quot;238.86&quot; height=&quot;1724.29&quot; style=&quot;fill:none;stroke:#D7D29E;stroke-width:8.64&quot;/&gt;\n",
       "\t&lt;line x1=&quot;390.80&quot; y1=&quot;2489.19&quot; x2=&quot;390.80&quot; y2=&quot;100.86&quot; style=&quot;stroke:#000000;stroke-width:5.76&quot;/&gt;\n",
       "\t&lt;line x1=&quot;390.80&quot; y1=&quot;2489.19&quot; x2=&quot;350.83&quot; y2=&quot;2489.19&quot; style=&quot;stroke:#000000;stroke-width:5.76&quot;/&gt;\n",
       "\t&lt;text x=&quot;300.72&quot; y=&quot;2489.19&quot; style=&quot;font-family:&#x27;Helvetica&#x27;;font-size:99.99px;fill:#000000&quot; transform=&quot;rotate(-90 300.72,2489.19)&quot; text-anchor=&quot;middle&quot;&gt;0&lt;/text&gt;\n",
       "\t&lt;line x1=&quot;390.80&quot; y1=&quot;1907.91&quot; x2=&quot;350.83&quot; y2=&quot;1907.91&quot; style=&quot;stroke:#000000;stroke-width:5.76&quot;/&gt;\n",
       "\t&lt;text x=&quot;300.72&quot; y=&quot;1907.91&quot; style=&quot;font-family:&#x27;Helvetica&#x27;;font-size:99.99px;fill:#000000&quot; transform=&quot;rotate(-90 300.72,1907.91)&quot; text-anchor=&quot;middle&quot;&gt;.02&lt;/text&gt;\n",
       "\t&lt;line x1=&quot;390.80&quot; y1=&quot;1326.64&quot; x2=&quot;350.83&quot; y2=&quot;1326.64&quot; style=&quot;stroke:#000000;stroke-width:5.76&quot;/&gt;\n",
       "\t&lt;text x=&quot;300.72&quot; y=&quot;1326.64&quot; style=&quot;font-family:&#x27;Helvetica&#x27;;font-size:99.99px;fill:#000000&quot; transform=&quot;rotate(-90 300.72,1326.64)&quot; text-anchor=&quot;middle&quot;&gt;.04&lt;/text&gt;\n",
       "\t&lt;line x1=&quot;390.80&quot; y1=&quot;745.37&quot; x2=&quot;350.83&quot; y2=&quot;745.37&quot; style=&quot;stroke:#000000;stroke-width:5.76&quot;/&gt;\n",
       "\t&lt;text x=&quot;300.72&quot; y=&quot;745.37&quot; style=&quot;font-family:&#x27;Helvetica&#x27;;font-size:99.99px;fill:#000000&quot; transform=&quot;rotate(-90 300.72,745.37)&quot; text-anchor=&quot;middle&quot;&gt;.06&lt;/text&gt;\n",
       "\t&lt;line x1=&quot;390.80&quot; y1=&quot;164.22&quot; x2=&quot;350.83&quot; y2=&quot;164.22&quot; style=&quot;stroke:#000000;stroke-width:5.76&quot;/&gt;\n",
       "\t&lt;text x=&quot;300.72&quot; y=&quot;164.22&quot; style=&quot;font-family:&#x27;Helvetica&#x27;;font-size:99.99px;fill:#000000&quot; transform=&quot;rotate(-90 300.72,164.22)&quot; text-anchor=&quot;middle&quot;&gt;.08&lt;/text&gt;\n",
       "\t&lt;text x=&quot;190.71&quot; y=&quot;1294.96&quot; style=&quot;font-family:&#x27;Helvetica&#x27;;font-size:99.99px;fill:#000000&quot; transform=&quot;rotate(-90 190.71,1294.96)&quot; text-anchor=&quot;middle&quot;&gt;Density&lt;/text&gt;\n",
       "\t&lt;line x1=&quot;390.80&quot; y1=&quot;2489.19&quot; x2=&quot;3859.02&quot; y2=&quot;2489.19&quot; style=&quot;stroke:#000000;stroke-width:5.76&quot;/&gt;\n",
       "\t&lt;line x1=&quot;520.25&quot; y1=&quot;2489.19&quot; x2=&quot;520.25&quot; y2=&quot;2529.16&quot; style=&quot;stroke:#000000;stroke-width:5.76&quot;/&gt;\n",
       "\t&lt;text x=&quot;520.25&quot; y=&quot;2619.14&quot; style=&quot;font-family:&#x27;Helvetica&#x27;;font-size:99.99px;fill:#000000&quot; text-anchor=&quot;middle&quot;&gt;50&lt;/text&gt;\n",
       "\t&lt;line x1=&quot;1495.39&quot; y1=&quot;2489.19&quot; x2=&quot;1495.39&quot; y2=&quot;2529.16&quot; style=&quot;stroke:#000000;stroke-width:5.76&quot;/&gt;\n",
       "\t&lt;text x=&quot;1495.39&quot; y=&quot;2619.14&quot; style=&quot;font-family:&#x27;Helvetica&#x27;;font-size:99.99px;fill:#000000&quot; text-anchor=&quot;middle&quot;&gt;60&lt;/text&gt;\n",
       "\t&lt;line x1=&quot;2470.67&quot; y1=&quot;2489.19&quot; x2=&quot;2470.67&quot; y2=&quot;2529.16&quot; style=&quot;stroke:#000000;stroke-width:5.76&quot;/&gt;\n",
       "\t&lt;text x=&quot;2470.67&quot; y=&quot;2619.14&quot; style=&quot;font-family:&#x27;Helvetica&#x27;;font-size:99.99px;fill:#000000&quot; text-anchor=&quot;middle&quot;&gt;70&lt;/text&gt;\n",
       "\t&lt;line x1=&quot;3445.82&quot; y1=&quot;2489.19&quot; x2=&quot;3445.82&quot; y2=&quot;2529.16&quot; style=&quot;stroke:#000000;stroke-width:5.76&quot;/&gt;\n",
       "\t&lt;text x=&quot;3445.82&quot; y=&quot;2619.14&quot; style=&quot;font-family:&#x27;Helvetica&#x27;;font-size:99.99px;fill:#000000&quot; text-anchor=&quot;middle&quot;&gt;80&lt;/text&gt;\n",
       "\t&lt;text x=&quot;2124.91&quot; y=&quot;2729.16&quot; style=&quot;font-family:&#x27;Helvetica&#x27;;font-size:99.99px;fill:#000000&quot; text-anchor=&quot;middle&quot;&gt;Life expectancy at birth, total (years)&lt;/text&gt;\n",
       "&lt;/svg&gt;\n",
       "</body></html>\"></iframe>\n"
      ],
      "text/plain": [
       "This front-end cannot display the desired image type."
      ]
     },
     "metadata": {
      "image/svg+xml": {
       "height": 436,
       "width": 600
      },
      "text/html": {
       "height": 436,
       "width": 600
      }
     },
     "output_type": "display_data"
    },
    {
     "name": "stdout",
     "output_type": "stream",
     "text": [
      "\n"
     ]
    }
   ],
   "source": [
    "use \"https://www.qogdata.pol.gu.se/dataarchive/qog_bas_cs_jan18.dta\", clear\n",
    "histogram wdi_lifexp"
   ]
  },
  {
   "cell_type": "markdown",
   "metadata": {},
   "source": [
    "The graph shows that the lowest value is just above 50, and the highest somewhat over 80. Now we will try to transform the variable in the three different ways."
   ]
  },
  {
   "cell_type": "markdown",
   "metadata": {},
   "source": [
    "## Center\n",
    "The easiest transformation is to center the variable. The result will be a variable that shows how much life expectancy deviates frmo the global mean. We do so by subtracting the mean from the original variable. But first we need to know the mean, which we get with the command `sum`:"
   ]
  },
  {
   "cell_type": "code",
   "execution_count": 3,
   "metadata": {},
   "outputs": [
    {
     "name": "stdout",
     "output_type": "stream",
     "text": [
      "\n",
      "    Variable |        Obs        Mean    Std. Dev.       Min        Max\n",
      "-------------+---------------------------------------------------------\n",
      "  wdi_lifexp |        185    71.25413    8.138066   50.59105   83.58781\n"
     ]
    }
   ],
   "source": [
    "sum wdi_lifexp"
   ]
  },
  {
   "cell_type": "markdown",
   "metadata": {},
   "source": [
    "The mean value is 71.25413. Now we can make a new variable with the command `generate` (abbreviated `gen`). The new variable will be the original variable minus 71.25413. We will call the new variable the same thing as the old variable, but with the prefix \"center\" for clarity."
   ]
  },
  {
   "cell_type": "code",
   "execution_count": 4,
   "metadata": {},
   "outputs": [
    {
     "name": "stdout",
     "output_type": "stream",
     "text": [
      "(9 missing values generated)\n"
     ]
    }
   ],
   "source": [
    "gen center_wdi_lifexp = wdi_lifexp - 71.25413"
   ]
  },
  {
   "cell_type": "markdown",
   "metadata": {},
   "source": [
    "If we now look a the mean of the new variable we can see that it is almost exactly zero - but not quite because of the rounding error in the mean. 2.73e-07 means that the it is 2.73 with the decimal sign seven steps to the left, that is, 0.000000273)."
   ]
  },
  {
   "cell_type": "code",
   "execution_count": 5,
   "metadata": {},
   "outputs": [
    {
     "name": "stdout",
     "output_type": "stream",
     "text": [
      "\n",
      "    Variable |        Obs        Mean    Std. Dev.       Min        Max\n",
      "-------------+---------------------------------------------------------\n",
      "  wdi_lifexp |        185    71.25413    8.138066   50.59105   83.58781\n",
      "center_wdi~p |        185    2.73e-07    8.138066  -20.66308   12.33368\n"
     ]
    }
   ],
   "source": [
    "sum wdi_lifexp center_wdi_lifexp"
   ]
  },
  {
   "cell_type": "markdown",
   "metadata": {},
   "source": [
    "And the variable is done! Note that the standard deviation is exactly the same in the new and old variable. THe minimum and maximum values have been shifted, but the distance between them is the same as before. The only thing we have done is to shift the scale to the left."
   ]
  },
  {
   "cell_type": "markdown",
   "metadata": {},
   "source": [
    "## Standardize\n",
    "A standardized variable has a mean of 0, and a standard deviation (a measure of the spread) of 1. We do so by doing two things. First we subtract the mean to center the variable, and then we divide by the standard deviation. In this way the standard deviation will be 1.\n",
    "\n",
    "Vi saw above with `sum wdi_lifexp` that the mean was 71.25413 and the standard deviation was 8.138066. Now we can create the standardize variable with one command, using parentheses. First the calculation in the parantheses will be performed, and then calculations outside the parentheses. First we subtract the mean, and then we divide with the standard deviation."
   ]
  },
  {
   "cell_type": "code",
   "execution_count": 7,
   "metadata": {},
   "outputs": [
    {
     "name": "stdout",
     "output_type": "stream",
     "text": [
      "(9 missing values generated)\n"
     ]
    }
   ],
   "source": [
    "gen std_wdi_lifexp = (wdi_lifexp-71.25413)/8.138066"
   ]
  },
  {
   "cell_type": "markdown",
   "metadata": {},
   "source": [
    "If we now look at the new variable we can see that the mean is (very close to) zero, but the standard deviation is now zero. The min and max values have also changed:"
   ]
  },
  {
   "cell_type": "code",
   "execution_count": 8,
   "metadata": {},
   "outputs": [
    {
     "name": "stdout",
     "output_type": "stream",
     "text": [
      "\n",
      "    Variable |        Obs        Mean    Std. Dev.       Min        Max\n",
      "-------------+---------------------------------------------------------\n",
      "std_wdi_li~p |        185    3.83e-08           1  -2.539065   1.515554\n"
     ]
    }
   ],
   "source": [
    "sum std_wdi_lifexp"
   ]
  },
  {
   "cell_type": "markdown",
   "metadata": {},
   "source": [
    "But again, it is only the scale that has changed. If we look at a histogram of the new variable we can see that the shape of the distribution is the same as in the original histogram."
   ]
  },
  {
   "cell_type": "code",
   "execution_count": 9,
   "metadata": {},
   "outputs": [
    {
     "name": "stdout",
     "output_type": "stream",
     "text": [
      "(bin=13, start=-2.5390654, width=.31189378)\n"
     ]
    },
    {
     "data": {
      "application/pdf": "[encoded data removed]",
      "image/svg+xml": [
       "<?xml version=\"1.0\" encoding=\"UTF-8\" standalone=\"no\"?>\n",
       "<!-- This is a Stata 16.0 generated SVG file (http://www.stata.com) -->\n",
       "\n",
       "<svg version=\"1.1\" width=\"600px\" height=\"436px\" viewBox=\"0 0 3960 2880\" xmlns=\"http://www.w3.org/2000/svg\" xmlns:xlink=\"http://www.w3.org/1999/xlink\">\n",
       "\t<desc>Stata Graph - Graph</desc>\n",
       "\t<rect x=\"0\" y=\"0\" width=\"3960\" height=\"2880\" style=\"fill:#EAF2F3;stroke:none\"/>\n",
       "\t<rect x=\"0.00\" y=\"0.00\" width=\"3959.88\" height=\"2880.00\" style=\"fill:#EAF2F3\"/>\n",
       "\t<rect x=\"2.88\" y=\"2.88\" width=\"3954.12\" height=\"2874.24\" style=\"fill:none;stroke:#EAF2F3;stroke-width:5.76\"/>\n",
       "\t<rect x=\"390.80\" y=\"100.86\" width=\"3468.22\" height=\"2388.33\" style=\"fill:#FFFFFF\"/>\n",
       "\t<rect x=\"393.68\" y=\"103.74\" width=\"3462.46\" height=\"2382.57\" style=\"fill:none;stroke:#FFFFFF;stroke-width:5.76\"/>\n",
       "\t<line x1=\"390.80\" y1=\"2489.19\" x2=\"3859.02\" y2=\"2489.19\" style=\"stroke:#EAF2F3;stroke-width:8.64\"/>\n",
       "\t<line x1=\"390.80\" y1=\"1722.65\" x2=\"3859.02\" y2=\"1722.65\" style=\"stroke:#EAF2F3;stroke-width:8.64\"/>\n",
       "\t<line x1=\"390.80\" y1=\"956.00\" x2=\"3859.02\" y2=\"956.00\" style=\"stroke:#EAF2F3;stroke-width:8.64\"/>\n",
       "\t<line x1=\"390.80\" y1=\"189.34\" x2=\"3859.02\" y2=\"189.34\" style=\"stroke:#EAF2F3;stroke-width:8.64\"/>\n",
       "\t<rect x=\"795.22\" y=\"2090.57\" width=\"230.79\" height=\"398.61\" style=\"fill:#CAC27E\"/>\n",
       "\t<rect x=\"799.54\" y=\"2094.89\" width=\"222.15\" height=\"389.97\" style=\"fill:none;stroke:#D7D29E;stroke-width:8.64\"/>\n",
       "\t<rect x=\"1026.01\" y=\"2422.73\" width=\"230.79\" height=\"66.46\" style=\"fill:#CAC27E\"/>\n",
       "\t<rect x=\"1030.33\" y=\"2427.05\" width=\"222.15\" height=\"57.82\" style=\"fill:none;stroke:#D7D29E;stroke-width:8.64\"/>\n",
       "\t<rect x=\"1256.81\" y=\"1957.79\" width=\"230.79\" height=\"531.40\" style=\"fill:#CAC27E\"/>\n",
       "\t<rect x=\"1261.12\" y=\"1962.11\" width=\"222.15\" height=\"522.76\" style=\"fill:none;stroke:#D7D29E;stroke-width:8.64\"/>\n",
       "\t<rect x=\"1487.60\" y=\"1824.87\" width=\"230.92\" height=\"664.31\" style=\"fill:#CAC27E\"/>\n",
       "\t<rect x=\"1491.92\" y=\"1829.19\" width=\"222.28\" height=\"655.67\" style=\"fill:none;stroke:#D7D29E;stroke-width:8.64\"/>\n",
       "\t<rect x=\"1718.52\" y=\"1758.42\" width=\"230.79\" height=\"730.77\" style=\"fill:#CAC27E\"/>\n",
       "\t<rect x=\"1722.84\" y=\"1762.74\" width=\"222.15\" height=\"722.13\" style=\"fill:none;stroke:#D7D29E;stroke-width:8.64\"/>\n",
       "\t<rect x=\"1949.31\" y=\"1824.87\" width=\"230.79\" height=\"664.31\" style=\"fill:#CAC27E\"/>\n",
       "\t<rect x=\"1953.63\" y=\"1829.19\" width=\"222.15\" height=\"655.67\" style=\"fill:none;stroke:#D7D29E;stroke-width:8.64\"/>\n",
       "\t<rect x=\"2180.10\" y=\"1559.17\" width=\"230.79\" height=\"930.01\" style=\"fill:#CAC27E\"/>\n",
       "\t<rect x=\"2184.42\" y=\"1563.49\" width=\"222.15\" height=\"921.37\" style=\"fill:none;stroke:#D7D29E;stroke-width:8.64\"/>\n",
       "\t<rect x=\"2410.90\" y=\"1492.72\" width=\"230.79\" height=\"996.47\" style=\"fill:#CAC27E\"/>\n",
       "\t<rect x=\"2415.22\" y=\"1497.04\" width=\"222.15\" height=\"987.83\" style=\"fill:none;stroke:#D7D29E;stroke-width:8.64\"/>\n",
       "\t<rect x=\"2641.69\" y=\"1027.78\" width=\"230.79\" height=\"1461.41\" style=\"fill:#CAC27E\"/>\n",
       "\t<rect x=\"2646.01\" y=\"1032.10\" width=\"222.15\" height=\"1452.77\" style=\"fill:none;stroke:#D7D29E;stroke-width:8.64\"/>\n",
       "\t<rect x=\"2872.49\" y=\"164.22\" width=\"230.79\" height=\"2324.96\" style=\"fill:#CAC27E\"/>\n",
       "\t<rect x=\"2876.80\" y=\"168.54\" width=\"222.15\" height=\"2316.32\" style=\"fill:none;stroke:#D7D29E;stroke-width:8.64\"/>\n",
       "\t<rect x=\"3103.28\" y=\"1359.93\" width=\"230.79\" height=\"1129.25\" style=\"fill:#CAC27E\"/>\n",
       "\t<rect x=\"3107.60\" y=\"1364.25\" width=\"222.15\" height=\"1120.61\" style=\"fill:none;stroke:#D7D29E;stroke-width:8.64\"/>\n",
       "\t<rect x=\"3334.07\" y=\"1957.79\" width=\"230.79\" height=\"531.40\" style=\"fill:#CAC27E\"/>\n",
       "\t<rect x=\"3338.39\" y=\"1962.11\" width=\"222.15\" height=\"522.76\" style=\"fill:none;stroke:#D7D29E;stroke-width:8.64\"/>\n",
       "\t<rect x=\"3564.87\" y=\"629.16\" width=\"230.79\" height=\"1860.02\" style=\"fill:#CAC27E\"/>\n",
       "\t<rect x=\"3569.19\" y=\"633.48\" width=\"222.15\" height=\"1851.38\" style=\"fill:none;stroke:#D7D29E;stroke-width:8.64\"/>\n",
       "\t<line x1=\"390.80\" y1=\"2489.19\" x2=\"390.80\" y2=\"100.86\" style=\"stroke:#000000;stroke-width:5.76\"/>\n",
       "\t<line x1=\"390.80\" y1=\"2489.19\" x2=\"350.83\" y2=\"2489.19\" style=\"stroke:#000000;stroke-width:5.76\"/>\n",
       "\t<text x=\"300.72\" y=\"2489.19\" style=\"font-family:'Helvetica';font-size:99.99px;fill:#000000\" transform=\"rotate(-90 300.72,2489.19)\" text-anchor=\"middle\">0</text>\n",
       "\t<line x1=\"390.80\" y1=\"1722.65\" x2=\"350.83\" y2=\"1722.65\" style=\"stroke:#000000;stroke-width:5.76\"/>\n",
       "\t<text x=\"300.72\" y=\"1722.65\" style=\"font-family:'Helvetica';font-size:99.99px;fill:#000000\" transform=\"rotate(-90 300.72,1722.65)\" text-anchor=\"middle\">.2</text>\n",
       "\t<line x1=\"390.80\" y1=\"956.00\" x2=\"350.83\" y2=\"956.00\" style=\"stroke:#000000;stroke-width:5.76\"/>\n",
       "\t<text x=\"300.72\" y=\"956.00\" style=\"font-family:'Helvetica';font-size:99.99px;fill:#000000\" transform=\"rotate(-90 300.72,956.00)\" text-anchor=\"middle\">.4</text>\n",
       "\t<line x1=\"390.80\" y1=\"189.34\" x2=\"350.83\" y2=\"189.34\" style=\"stroke:#000000;stroke-width:5.76\"/>\n",
       "\t<text x=\"300.72\" y=\"189.34\" style=\"font-family:'Helvetica';font-size:99.99px;fill:#000000\" transform=\"rotate(-90 300.72,189.34)\" text-anchor=\"middle\">.6</text>\n",
       "\t<text x=\"190.71\" y=\"1294.96\" style=\"font-family:'Helvetica';font-size:99.99px;fill:#000000\" transform=\"rotate(-90 190.71,1294.96)\" text-anchor=\"middle\">Density</text>\n",
       "\t<line x1=\"390.80\" y1=\"2489.19\" x2=\"3859.02\" y2=\"2489.19\" style=\"stroke:#000000;stroke-width:5.76\"/>\n",
       "\t<line x1=\"454.16\" y1=\"2489.19\" x2=\"454.16\" y2=\"2529.16\" style=\"stroke:#000000;stroke-width:5.76\"/>\n",
       "\t<text x=\"454.16\" y=\"2619.14\" style=\"font-family:'Helvetica';font-size:99.99px;fill:#000000\" text-anchor=\"middle\">-3</text>\n",
       "\t<line x1=\"1194.19\" y1=\"2489.19\" x2=\"1194.19\" y2=\"2529.16\" style=\"stroke:#000000;stroke-width:5.76\"/>\n",
       "\t<text x=\"1194.19\" y=\"2619.14\" style=\"font-family:'Helvetica';font-size:99.99px;fill:#000000\" text-anchor=\"middle\">-2</text>\n",
       "\t<line x1=\"1934.21\" y1=\"2489.19\" x2=\"1934.21\" y2=\"2529.16\" style=\"stroke:#000000;stroke-width:5.76\"/>\n",
       "\t<text x=\"1934.21\" y=\"2619.14\" style=\"font-family:'Helvetica';font-size:99.99px;fill:#000000\" text-anchor=\"middle\">-1</text>\n",
       "\t<line x1=\"2674.24\" y1=\"2489.19\" x2=\"2674.24\" y2=\"2529.16\" style=\"stroke:#000000;stroke-width:5.76\"/>\n",
       "\t<text x=\"2674.24\" y=\"2619.14\" style=\"font-family:'Helvetica';font-size:99.99px;fill:#000000\" text-anchor=\"middle\">0</text>\n",
       "\t<line x1=\"3414.26\" y1=\"2489.19\" x2=\"3414.26\" y2=\"2529.16\" style=\"stroke:#000000;stroke-width:5.76\"/>\n",
       "\t<text x=\"3414.26\" y=\"2619.14\" style=\"font-family:'Helvetica';font-size:99.99px;fill:#000000\" text-anchor=\"middle\">1</text>\n",
       "\t<text x=\"2124.91\" y=\"2729.16\" style=\"font-family:'Helvetica';font-size:99.99px;fill:#000000\" text-anchor=\"middle\">std_wdi_lifexp</text>\n",
       "</svg>\n"
      ],
      "text/html": [
       "                <iframe frameborder=\"0\" scrolling=\"no\" height=\"436\" width=\"600\"                srcdoc=\"<html><body>&lt;?xml version=&quot;1.0&quot; encoding=&quot;UTF-8&quot; standalone=&quot;no&quot;?&gt;\n",
       "&lt;!-- This is a Stata 16.0 generated SVG file (http://www.stata.com) --&gt;\n",
       "\n",
       "&lt;svg version=&quot;1.1&quot; width=&quot;600px&quot; height=&quot;436px&quot; viewBox=&quot;0 0 3960 2880&quot; xmlns=&quot;http://www.w3.org/2000/svg&quot; xmlns:xlink=&quot;http://www.w3.org/1999/xlink&quot;&gt;\n",
       "\t&lt;desc&gt;Stata Graph - Graph&lt;/desc&gt;\n",
       "\t&lt;rect x=&quot;0&quot; y=&quot;0&quot; width=&quot;3960&quot; height=&quot;2880&quot; style=&quot;fill:#EAF2F3;stroke:none&quot;/&gt;\n",
       "\t&lt;rect x=&quot;0.00&quot; y=&quot;0.00&quot; width=&quot;3959.88&quot; height=&quot;2880.00&quot; style=&quot;fill:#EAF2F3&quot;/&gt;\n",
       "\t&lt;rect x=&quot;2.88&quot; y=&quot;2.88&quot; width=&quot;3954.12&quot; height=&quot;2874.24&quot; style=&quot;fill:none;stroke:#EAF2F3;stroke-width:5.76&quot;/&gt;\n",
       "\t&lt;rect x=&quot;390.80&quot; y=&quot;100.86&quot; width=&quot;3468.22&quot; height=&quot;2388.33&quot; style=&quot;fill:#FFFFFF&quot;/&gt;\n",
       "\t&lt;rect x=&quot;393.68&quot; y=&quot;103.74&quot; width=&quot;3462.46&quot; height=&quot;2382.57&quot; style=&quot;fill:none;stroke:#FFFFFF;stroke-width:5.76&quot;/&gt;\n",
       "\t&lt;line x1=&quot;390.80&quot; y1=&quot;2489.19&quot; x2=&quot;3859.02&quot; y2=&quot;2489.19&quot; style=&quot;stroke:#EAF2F3;stroke-width:8.64&quot;/&gt;\n",
       "\t&lt;line x1=&quot;390.80&quot; y1=&quot;1722.65&quot; x2=&quot;3859.02&quot; y2=&quot;1722.65&quot; style=&quot;stroke:#EAF2F3;stroke-width:8.64&quot;/&gt;\n",
       "\t&lt;line x1=&quot;390.80&quot; y1=&quot;956.00&quot; x2=&quot;3859.02&quot; y2=&quot;956.00&quot; style=&quot;stroke:#EAF2F3;stroke-width:8.64&quot;/&gt;\n",
       "\t&lt;line x1=&quot;390.80&quot; y1=&quot;189.34&quot; x2=&quot;3859.02&quot; y2=&quot;189.34&quot; style=&quot;stroke:#EAF2F3;stroke-width:8.64&quot;/&gt;\n",
       "\t&lt;rect x=&quot;795.22&quot; y=&quot;2090.57&quot; width=&quot;230.79&quot; height=&quot;398.61&quot; style=&quot;fill:#CAC27E&quot;/&gt;\n",
       "\t&lt;rect x=&quot;799.54&quot; y=&quot;2094.89&quot; width=&quot;222.15&quot; height=&quot;389.97&quot; style=&quot;fill:none;stroke:#D7D29E;stroke-width:8.64&quot;/&gt;\n",
       "\t&lt;rect x=&quot;1026.01&quot; y=&quot;2422.73&quot; width=&quot;230.79&quot; height=&quot;66.46&quot; style=&quot;fill:#CAC27E&quot;/&gt;\n",
       "\t&lt;rect x=&quot;1030.33&quot; y=&quot;2427.05&quot; width=&quot;222.15&quot; height=&quot;57.82&quot; style=&quot;fill:none;stroke:#D7D29E;stroke-width:8.64&quot;/&gt;\n",
       "\t&lt;rect x=&quot;1256.81&quot; y=&quot;1957.79&quot; width=&quot;230.79&quot; height=&quot;531.40&quot; style=&quot;fill:#CAC27E&quot;/&gt;\n",
       "\t&lt;rect x=&quot;1261.12&quot; y=&quot;1962.11&quot; width=&quot;222.15&quot; height=&quot;522.76&quot; style=&quot;fill:none;stroke:#D7D29E;stroke-width:8.64&quot;/&gt;\n",
       "\t&lt;rect x=&quot;1487.60&quot; y=&quot;1824.87&quot; width=&quot;230.92&quot; height=&quot;664.31&quot; style=&quot;fill:#CAC27E&quot;/&gt;\n",
       "\t&lt;rect x=&quot;1491.92&quot; y=&quot;1829.19&quot; width=&quot;222.28&quot; height=&quot;655.67&quot; style=&quot;fill:none;stroke:#D7D29E;stroke-width:8.64&quot;/&gt;\n",
       "\t&lt;rect x=&quot;1718.52&quot; y=&quot;1758.42&quot; width=&quot;230.79&quot; height=&quot;730.77&quot; style=&quot;fill:#CAC27E&quot;/&gt;\n",
       "\t&lt;rect x=&quot;1722.84&quot; y=&quot;1762.74&quot; width=&quot;222.15&quot; height=&quot;722.13&quot; style=&quot;fill:none;stroke:#D7D29E;stroke-width:8.64&quot;/&gt;\n",
       "\t&lt;rect x=&quot;1949.31&quot; y=&quot;1824.87&quot; width=&quot;230.79&quot; height=&quot;664.31&quot; style=&quot;fill:#CAC27E&quot;/&gt;\n",
       "\t&lt;rect x=&quot;1953.63&quot; y=&quot;1829.19&quot; width=&quot;222.15&quot; height=&quot;655.67&quot; style=&quot;fill:none;stroke:#D7D29E;stroke-width:8.64&quot;/&gt;\n",
       "\t&lt;rect x=&quot;2180.10&quot; y=&quot;1559.17&quot; width=&quot;230.79&quot; height=&quot;930.01&quot; style=&quot;fill:#CAC27E&quot;/&gt;\n",
       "\t&lt;rect x=&quot;2184.42&quot; y=&quot;1563.49&quot; width=&quot;222.15&quot; height=&quot;921.37&quot; style=&quot;fill:none;stroke:#D7D29E;stroke-width:8.64&quot;/&gt;\n",
       "\t&lt;rect x=&quot;2410.90&quot; y=&quot;1492.72&quot; width=&quot;230.79&quot; height=&quot;996.47&quot; style=&quot;fill:#CAC27E&quot;/&gt;\n",
       "\t&lt;rect x=&quot;2415.22&quot; y=&quot;1497.04&quot; width=&quot;222.15&quot; height=&quot;987.83&quot; style=&quot;fill:none;stroke:#D7D29E;stroke-width:8.64&quot;/&gt;\n",
       "\t&lt;rect x=&quot;2641.69&quot; y=&quot;1027.78&quot; width=&quot;230.79&quot; height=&quot;1461.41&quot; style=&quot;fill:#CAC27E&quot;/&gt;\n",
       "\t&lt;rect x=&quot;2646.01&quot; y=&quot;1032.10&quot; width=&quot;222.15&quot; height=&quot;1452.77&quot; style=&quot;fill:none;stroke:#D7D29E;stroke-width:8.64&quot;/&gt;\n",
       "\t&lt;rect x=&quot;2872.49&quot; y=&quot;164.22&quot; width=&quot;230.79&quot; height=&quot;2324.96&quot; style=&quot;fill:#CAC27E&quot;/&gt;\n",
       "\t&lt;rect x=&quot;2876.80&quot; y=&quot;168.54&quot; width=&quot;222.15&quot; height=&quot;2316.32&quot; style=&quot;fill:none;stroke:#D7D29E;stroke-width:8.64&quot;/&gt;\n",
       "\t&lt;rect x=&quot;3103.28&quot; y=&quot;1359.93&quot; width=&quot;230.79&quot; height=&quot;1129.25&quot; style=&quot;fill:#CAC27E&quot;/&gt;\n",
       "\t&lt;rect x=&quot;3107.60&quot; y=&quot;1364.25&quot; width=&quot;222.15&quot; height=&quot;1120.61&quot; style=&quot;fill:none;stroke:#D7D29E;stroke-width:8.64&quot;/&gt;\n",
       "\t&lt;rect x=&quot;3334.07&quot; y=&quot;1957.79&quot; width=&quot;230.79&quot; height=&quot;531.40&quot; style=&quot;fill:#CAC27E&quot;/&gt;\n",
       "\t&lt;rect x=&quot;3338.39&quot; y=&quot;1962.11&quot; width=&quot;222.15&quot; height=&quot;522.76&quot; style=&quot;fill:none;stroke:#D7D29E;stroke-width:8.64&quot;/&gt;\n",
       "\t&lt;rect x=&quot;3564.87&quot; y=&quot;629.16&quot; width=&quot;230.79&quot; height=&quot;1860.02&quot; style=&quot;fill:#CAC27E&quot;/&gt;\n",
       "\t&lt;rect x=&quot;3569.19&quot; y=&quot;633.48&quot; width=&quot;222.15&quot; height=&quot;1851.38&quot; style=&quot;fill:none;stroke:#D7D29E;stroke-width:8.64&quot;/&gt;\n",
       "\t&lt;line x1=&quot;390.80&quot; y1=&quot;2489.19&quot; x2=&quot;390.80&quot; y2=&quot;100.86&quot; style=&quot;stroke:#000000;stroke-width:5.76&quot;/&gt;\n",
       "\t&lt;line x1=&quot;390.80&quot; y1=&quot;2489.19&quot; x2=&quot;350.83&quot; y2=&quot;2489.19&quot; style=&quot;stroke:#000000;stroke-width:5.76&quot;/&gt;\n",
       "\t&lt;text x=&quot;300.72&quot; y=&quot;2489.19&quot; style=&quot;font-family:&#x27;Helvetica&#x27;;font-size:99.99px;fill:#000000&quot; transform=&quot;rotate(-90 300.72,2489.19)&quot; text-anchor=&quot;middle&quot;&gt;0&lt;/text&gt;\n",
       "\t&lt;line x1=&quot;390.80&quot; y1=&quot;1722.65&quot; x2=&quot;350.83&quot; y2=&quot;1722.65&quot; style=&quot;stroke:#000000;stroke-width:5.76&quot;/&gt;\n",
       "\t&lt;text x=&quot;300.72&quot; y=&quot;1722.65&quot; style=&quot;font-family:&#x27;Helvetica&#x27;;font-size:99.99px;fill:#000000&quot; transform=&quot;rotate(-90 300.72,1722.65)&quot; text-anchor=&quot;middle&quot;&gt;.2&lt;/text&gt;\n",
       "\t&lt;line x1=&quot;390.80&quot; y1=&quot;956.00&quot; x2=&quot;350.83&quot; y2=&quot;956.00&quot; style=&quot;stroke:#000000;stroke-width:5.76&quot;/&gt;\n",
       "\t&lt;text x=&quot;300.72&quot; y=&quot;956.00&quot; style=&quot;font-family:&#x27;Helvetica&#x27;;font-size:99.99px;fill:#000000&quot; transform=&quot;rotate(-90 300.72,956.00)&quot; text-anchor=&quot;middle&quot;&gt;.4&lt;/text&gt;\n",
       "\t&lt;line x1=&quot;390.80&quot; y1=&quot;189.34&quot; x2=&quot;350.83&quot; y2=&quot;189.34&quot; style=&quot;stroke:#000000;stroke-width:5.76&quot;/&gt;\n",
       "\t&lt;text x=&quot;300.72&quot; y=&quot;189.34&quot; style=&quot;font-family:&#x27;Helvetica&#x27;;font-size:99.99px;fill:#000000&quot; transform=&quot;rotate(-90 300.72,189.34)&quot; text-anchor=&quot;middle&quot;&gt;.6&lt;/text&gt;\n",
       "\t&lt;text x=&quot;190.71&quot; y=&quot;1294.96&quot; style=&quot;font-family:&#x27;Helvetica&#x27;;font-size:99.99px;fill:#000000&quot; transform=&quot;rotate(-90 190.71,1294.96)&quot; text-anchor=&quot;middle&quot;&gt;Density&lt;/text&gt;\n",
       "\t&lt;line x1=&quot;390.80&quot; y1=&quot;2489.19&quot; x2=&quot;3859.02&quot; y2=&quot;2489.19&quot; style=&quot;stroke:#000000;stroke-width:5.76&quot;/&gt;\n",
       "\t&lt;line x1=&quot;454.16&quot; y1=&quot;2489.19&quot; x2=&quot;454.16&quot; y2=&quot;2529.16&quot; style=&quot;stroke:#000000;stroke-width:5.76&quot;/&gt;\n",
       "\t&lt;text x=&quot;454.16&quot; y=&quot;2619.14&quot; style=&quot;font-family:&#x27;Helvetica&#x27;;font-size:99.99px;fill:#000000&quot; text-anchor=&quot;middle&quot;&gt;-3&lt;/text&gt;\n",
       "\t&lt;line x1=&quot;1194.19&quot; y1=&quot;2489.19&quot; x2=&quot;1194.19&quot; y2=&quot;2529.16&quot; style=&quot;stroke:#000000;stroke-width:5.76&quot;/&gt;\n",
       "\t&lt;text x=&quot;1194.19&quot; y=&quot;2619.14&quot; style=&quot;font-family:&#x27;Helvetica&#x27;;font-size:99.99px;fill:#000000&quot; text-anchor=&quot;middle&quot;&gt;-2&lt;/text&gt;\n",
       "\t&lt;line x1=&quot;1934.21&quot; y1=&quot;2489.19&quot; x2=&quot;1934.21&quot; y2=&quot;2529.16&quot; style=&quot;stroke:#000000;stroke-width:5.76&quot;/&gt;\n",
       "\t&lt;text x=&quot;1934.21&quot; y=&quot;2619.14&quot; style=&quot;font-family:&#x27;Helvetica&#x27;;font-size:99.99px;fill:#000000&quot; text-anchor=&quot;middle&quot;&gt;-1&lt;/text&gt;\n",
       "\t&lt;line x1=&quot;2674.24&quot; y1=&quot;2489.19&quot; x2=&quot;2674.24&quot; y2=&quot;2529.16&quot; style=&quot;stroke:#000000;stroke-width:5.76&quot;/&gt;\n",
       "\t&lt;text x=&quot;2674.24&quot; y=&quot;2619.14&quot; style=&quot;font-family:&#x27;Helvetica&#x27;;font-size:99.99px;fill:#000000&quot; text-anchor=&quot;middle&quot;&gt;0&lt;/text&gt;\n",
       "\t&lt;line x1=&quot;3414.26&quot; y1=&quot;2489.19&quot; x2=&quot;3414.26&quot; y2=&quot;2529.16&quot; style=&quot;stroke:#000000;stroke-width:5.76&quot;/&gt;\n",
       "\t&lt;text x=&quot;3414.26&quot; y=&quot;2619.14&quot; style=&quot;font-family:&#x27;Helvetica&#x27;;font-size:99.99px;fill:#000000&quot; text-anchor=&quot;middle&quot;&gt;1&lt;/text&gt;\n",
       "\t&lt;text x=&quot;2124.91&quot; y=&quot;2729.16&quot; style=&quot;font-family:&#x27;Helvetica&#x27;;font-size:99.99px;fill:#000000&quot; text-anchor=&quot;middle&quot;&gt;std_wdi_lifexp&lt;/text&gt;\n",
       "&lt;/svg&gt;\n",
       "</body></html>\"></iframe>\n"
      ],
      "text/plain": [
       "This front-end cannot display the desired image type."
      ]
     },
     "metadata": {
      "image/svg+xml": {
       "height": 436,
       "width": 600
      },
      "text/html": {
       "height": 436,
       "width": 600
      }
     },
     "output_type": "display_data"
    },
    {
     "name": "stdout",
     "output_type": "stream",
     "text": [
      "\n"
     ]
    }
   ],
   "source": [
    "histogram std_wdi_lifexp"
   ]
  },
  {
   "cell_type": "markdown",
   "metadata": {},
   "source": [
    "## Normalize\n",
    "When we normalize a variable we first shift the scale so that it starts at 0, and then compress it so that it ends on 1. We do so by first subtracting the minimum value, and then divide by the new maximum value (which is the old max value minus the old min value).\n",
    "\n",
    "We can do this in one command, if we remember the min value (50.59105) and the max value (83.58781):"
   ]
  },
  {
   "cell_type": "code",
   "execution_count": 10,
   "metadata": {},
   "outputs": [
    {
     "name": "stdout",
     "output_type": "stream",
     "text": [
      "\n",
      "(9 missing values generated)\n",
      "\n",
      "\n",
      "    Variable |        Obs        Mean    Std. Dev.       Min        Max\n",
      "-------------+---------------------------------------------------------\n",
      "norm_wdi_l~p |        185    .6262154    .2466323  -2.44e-08   .9999999\n"
     ]
    }
   ],
   "source": [
    "gen norm_wdi_lifexp = (wdi_lifexp-50.59105)/(83.58781-50.59105)\n",
    "sum norm_wdi_lifexp"
   ]
  },
  {
   "cell_type": "markdown",
   "metadata": {},
   "source": [
    "Again, disregard the rounding errors. The new minimum value is 0, and the new max value is 1. But if we looked at a histogram we would also this time see that the shape of the distribution is unchanged. Only the scale has changed."
   ]
  },
  {
   "cell_type": "markdown",
   "metadata": {},
   "source": [
    "## Recap\n",
    "To do these transformations we neeeded to know four things: The mean, the standard deviation, the min value, and the max value. The formulas to do the transformations are the following. Don't forget the parentheses!\n",
    "\n",
    "**Center**<br>\n",
    "`gen newvariable = oldvariable-mean`\n",
    "\n",
    "**Standardize**<br>\n",
    "`gen newvariable = (oldvariable-mean)/standarddeviation`\n",
    "\n",
    "**Normalize**<br>\n",
    "`gen newvariable = (oldvariable-minvalue)/(maxvalue-minvalue)`"
   ]
  }
 ],
 "metadata": {
  "kernelspec": {
   "display_name": "Stata",
   "language": "stata",
   "name": "stata"
  },
  "language_info": {
   "codemirror_mode": "stata",
   "file_extension": ".do",
   "mimetype": "text/x-stata",
   "name": "stata",
   "version": "15.1"
  }
 },
 "nbformat": 4,
 "nbformat_minor": 4
}
