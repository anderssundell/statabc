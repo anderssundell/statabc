{
 "cells": [
  {
   "cell_type": "markdown",
   "metadata": {},
   "source": [
    "# Visualisera regressionskoefficienter med `coefplot`"
   ]
  },
  {
   "cell_type": "markdown",
   "metadata": {},
   "source": [
    "*Av Anders Sundell*\n",
    "\n",
    "Tabeller kan visa mycket information, men den kan vara svår att ta till sig, intuitivt. Helst vill vi presentera resultat så enkelt så möjligt, så att läsaren inte ska behöva anstränga sig för att förstå vad det är vi försöker kommunicera.\n",
    "\n",
    "Med regressionsanalys kan det bli särskilt påtagligt. Ofta blir det att man bara ögnar igenom tabeller för att leta efter signifikansstjärnor vid koefficienter. Det är olyckligt eftersom det egentligen inte går någon magisk gräns vid de konventionella signifikansnivåerna, som p<0,05. Dessutom skiljer man på det viset inte mellan koefficienter som skattats precist kring noll (vilket alltså betyder att vi kan vara säkra på att effekten faktiskt är noll) och koefficienter som skattats med väldigt stor osäkerhet (och som dåp kan vara noll eller någonting helt annat).\n",
    "\n",
    "Allt fler väljer därför att visa regressionskoefficienter grafiskt, med konfidensintervall. Graferna gör det lättare att jämföra koefficienter, visar vad som är signifikant (konfidensintervallen överlappar inte noll) och visar samtidigt graden av osäkerhet (konfidensintervallens bredd).\n",
    "\n",
    "Som standard visar Stata konfidensintervallen i regressionstabellerna, men det finns också ett användarbyggt kommando som snabbt låter oss göra en prydlig graf. Det heter `coefplot`.\n",
    "\n",
    "I den här guiden ska vi gå igenom hur man gör en sådan koefficientplot, och också hur man gör för att få den att visa standardiserade regressionskoefficienter.\n",
    "\n",
    "## Installera `coefplot`\n",
    "\n",
    "Eftersom det är användarskapat måste vi först installera `coefplot`. Det gör vi genom att skriva:"
   ]
  },
  {
   "cell_type": "code",
   "execution_count": 2,
   "metadata": {},
   "outputs": [
    {
     "name": "stdout",
     "output_type": "stream",
     "text": [
      "checking coefplot consistency and verifying not already installed...\n",
      "all files already exist and are up to date.\n"
     ]
    }
   ],
   "source": [
    "ssc install coefplot, replace"
   ]
  },
  {
   "cell_type": "markdown",
   "metadata": {},
   "source": [
    "## En regressionsanalys med några variabler\n",
    "\n",
    "Vi laddar sedan in QoG-datan för att ha något att jobba med:"
   ]
  },
  {
   "cell_type": "code",
   "execution_count": 3,
   "metadata": {},
   "outputs": [
    {
     "name": "stdout",
     "output_type": "stream",
     "text": [
      "(Quality of Government Basic dataset 2018 - Cross-Section)\n"
     ]
    }
   ],
   "source": [
    "use \"https://www.qogdata.pol.gu.se/dataarchive/qog_bas_cs_jan18.dta\", clear"
   ]
  },
  {
   "cell_type": "markdown",
   "metadata": {},
   "source": [
    "Vi gör sedan en regressionsanalys där graden av korruption (ti_cpi - kodat så att högre värden betyder mindre korruption) är den beroende variabeln, och graden av demokrati (p_polity2), BNP per capita (gle_rgdpc), avståndet från ekvatorn (lp_lat_abst) och graden av etnisk fragmentering (al_ethnic) är oberoende variabler."
   ]
  },
  {
   "cell_type": "code",
   "execution_count": 5,
   "metadata": {},
   "outputs": [
    {
     "name": "stdout",
     "output_type": "stream",
     "text": [
      "\n",
      "      Source |       SS           df       MS      Number of obs   =       133\n",
      "-------------+----------------------------------   F(4, 128)       =     62.20\n",
      "       Model |  35203.5053         4  8800.87633   Prob > F        =    0.0000\n",
      "    Residual |  18112.0135       128  141.500105   R-squared       =    0.6603\n",
      "-------------+----------------------------------   Adj R-squared   =    0.6497\n",
      "       Total |  53315.5188       132  403.905445   Root MSE        =    11.895\n",
      "\n",
      "------------------------------------------------------------------------------\n",
      "      ti_cpi |      Coef.   Std. Err.      t    P>|t|     [95% Conf. Interval]\n",
      "-------------+----------------------------------------------------------------\n",
      "   p_polity2 |   .7902483   .1782931     4.43   0.000     .4374649    1.143032\n",
      "   gle_rgdpc |    .000788   .0000843     9.35   0.000     .0006212    .0009547\n",
      " lp_lat_abst |   19.94143   8.250433     2.42   0.017     3.616537    36.26632\n",
      "   al_ethnic |  -5.225239   4.711059    -1.11   0.269    -14.54687    4.096395\n",
      "       _cons |   27.27983   3.752997     7.27   0.000     19.85388    34.70577\n",
      "------------------------------------------------------------------------------\n"
     ]
    }
   ],
   "source": [
    "reg ti_cpi p_polity2 gle_rgdpc lp_lat_abst al_ethnic"
   ]
  },
  {
   "cell_type": "markdown",
   "metadata": {},
   "source": [
    "Variablerna har lite olika effekt: Graden av demokrati (p_polity2), ekonomisk utveckling (gle_rgdpc) och avstånd från ekvatorn (lp_lat_abst) har alla en positiv koefficient, och är signifikanta (p-värdet är under 0,05). Etnisk fragmentering (al_ethnic) har en negativ effekt, vilket betyder att mer etnisk fragmentering hänger ihop med mer korruption, eftersom variabeln ti_cpi är kodad så att högre värden är \"bättre\". Den här variabeln är dock inte statistiskt signifikant, eftersom p-värdet överstiger 0,05."
   ]
  },
  {
   "cell_type": "markdown",
   "metadata": {},
   "source": [
    "## Visualisera ostandardiserade koefficienter med `coefplot`\n",
    "\n",
    "Nu ska vi göra en koefficientplot. Det är enkelt: efter att ha kört regressionsanalysen skriver vi bara `coefplot`. Vi lägger direkt till ett option också, som ritar ut en linje på 0-strecket `xline(0)`. Alla koefficienter vars konfidensintervall som inte överlappar strecket är signifikanta."
   ]
  },
  {
   "cell_type": "code",
   "execution_count": 7,
   "metadata": {},
   "outputs": [
    {
     "data": {
      "application/pdf": "[encoded data removed]",
      "image/svg+xml": [
       "<?xml version=\"1.0\" encoding=\"UTF-8\" standalone=\"no\"?>\n",
       "<!-- This is a Stata 16.0 generated SVG file (http://www.stata.com) -->\n",
       "\n",
       "<svg version=\"1.1\" width=\"600px\" height=\"436px\" viewBox=\"0 0 3960 2880\" xmlns=\"http://www.w3.org/2000/svg\" xmlns:xlink=\"http://www.w3.org/1999/xlink\">\n",
       "\t<desc>Stata Graph - Graph</desc>\n",
       "\t<rect x=\"0\" y=\"0\" width=\"3960\" height=\"2880\" style=\"fill:#EAF2F3;stroke:none\"/>\n",
       "\t<rect x=\"0.00\" y=\"0.00\" width=\"3959.88\" height=\"2880.00\" style=\"fill:#EAF2F3\"/>\n",
       "\t<rect x=\"2.88\" y=\"2.88\" width=\"3954.12\" height=\"2874.24\" style=\"fill:none;stroke:#EAF2F3;stroke-width:5.76\"/>\n",
       "\t<rect x=\"1664.93\" y=\"100.86\" width=\"2194.09\" height=\"2488.32\" style=\"fill:#FFFFFF\"/>\n",
       "\t<rect x=\"1667.81\" y=\"103.74\" width=\"2188.33\" height=\"2482.56\" style=\"fill:none;stroke:#FFFFFF;stroke-width:5.76\"/>\n",
       "\t<line x1=\"1664.93\" y1=\"349.60\" x2=\"3859.02\" y2=\"349.60\" style=\"stroke:#EAF2F3;stroke-width:8.64\"/>\n",
       "\t<line x1=\"1664.93\" y1=\"847.34\" x2=\"3859.02\" y2=\"847.34\" style=\"stroke:#EAF2F3;stroke-width:8.64\"/>\n",
       "\t<line x1=\"1664.93\" y1=\"1344.96\" x2=\"3859.02\" y2=\"1344.96\" style=\"stroke:#EAF2F3;stroke-width:8.64\"/>\n",
       "\t<line x1=\"1664.93\" y1=\"1842.70\" x2=\"3859.02\" y2=\"1842.70\" style=\"stroke:#EAF2F3;stroke-width:8.64\"/>\n",
       "\t<line x1=\"1664.93\" y1=\"2340.31\" x2=\"3859.02\" y2=\"2340.31\" style=\"stroke:#EAF2F3;stroke-width:8.64\"/>\n",
       "\t<line x1=\"2417.46\" y1=\"2589.18\" x2=\"2417.46\" y2=\"100.86\" style=\"stroke:#C10534;stroke-width:8.64\"/>\n",
       "\t<line x1=\"2432.55\" y1=\"349.60\" x2=\"2456.81\" y2=\"349.60\" style=\"stroke:#1A476F;stroke-width:8.64\"/>\n",
       "\t<line x1=\"2417.46\" y1=\"847.34\" x2=\"2417.46\" y2=\"847.34\" style=\"stroke:#1A476F;stroke-width:8.64\"/>\n",
       "\t<line x1=\"2542.07\" y1=\"1344.96\" x2=\"3667.08\" y2=\"1344.96\" style=\"stroke:#1A476F;stroke-width:8.64\"/>\n",
       "\t<line x1=\"1916.14\" y1=\"1842.70\" x2=\"2558.53\" y2=\"1842.70\" style=\"stroke:#1A476F;stroke-width:8.64\"/>\n",
       "\t<line x1=\"3101.55\" y1=\"2340.31\" x2=\"3613.25\" y2=\"2340.31\" style=\"stroke:#1A476F;stroke-width:8.64\"/>\n",
       "\t<circle cx=\"2444.56\" cy=\"349.73\" r=\"26.35\" style=\"fill:#1A476F\"/>\n",
       "\t<circle cx=\"2444.56\" cy=\"349.73\" r=\"22.03\" style=\"fill:none;stroke:#1A476F;stroke-width:8.64\"/>\n",
       "\t<circle cx=\"2417.46\" cy=\"847.34\" r=\"26.35\" style=\"fill:#1A476F\"/>\n",
       "\t<circle cx=\"2417.46\" cy=\"847.34\" r=\"22.03\" style=\"fill:none;stroke:#1A476F;stroke-width:8.64\"/>\n",
       "\t<circle cx=\"3104.52\" cy=\"1345.08\" r=\"26.35\" style=\"fill:#1A476F\"/>\n",
       "\t<circle cx=\"3104.52\" cy=\"1345.08\" r=\"22.03\" style=\"fill:none;stroke:#1A476F;stroke-width:8.64\"/>\n",
       "\t<circle cx=\"2237.28\" cy=\"1842.70\" r=\"26.35\" style=\"fill:#1A476F\"/>\n",
       "\t<circle cx=\"2237.28\" cy=\"1842.70\" r=\"22.03\" style=\"fill:none;stroke:#1A476F;stroke-width:8.64\"/>\n",
       "\t<circle cx=\"3357.34\" cy=\"2340.43\" r=\"26.35\" style=\"fill:#1A476F\"/>\n",
       "\t<circle cx=\"3357.34\" cy=\"2340.43\" r=\"22.03\" style=\"fill:none;stroke:#1A476F;stroke-width:8.64\"/>\n",
       "\t<line x1=\"1664.93\" y1=\"2589.18\" x2=\"1664.93\" y2=\"100.86\" style=\"stroke:#000000;stroke-width:5.76\"/>\n",
       "\t<line x1=\"1664.93\" y1=\"349.60\" x2=\"1624.96\" y2=\"349.60\" style=\"stroke:#000000;stroke-width:5.76\"/>\n",
       "\t<text x=\"1604.91\" y=\"384.63\" style=\"font-family:'Helvetica';font-size:99.99px;fill:#000000\" text-anchor=\"end\">Revised Combined Polity Score</text>\n",
       "\t<line x1=\"1664.93\" y1=\"847.34\" x2=\"1624.96\" y2=\"847.34\" style=\"stroke:#000000;stroke-width:5.76\"/>\n",
       "\t<text x=\"1604.91\" y=\"882.37\" style=\"font-family:'Helvetica';font-size:99.99px;fill:#000000\" text-anchor=\"end\">Real GDP per Capita (2005)</text>\n",
       "\t<line x1=\"1664.93\" y1=\"1344.96\" x2=\"1624.96\" y2=\"1344.96\" style=\"stroke:#000000;stroke-width:5.76\"/>\n",
       "\t<text x=\"1604.91\" y=\"1379.99\" style=\"font-family:'Helvetica';font-size:99.99px;fill:#000000\" text-anchor=\"end\">Latitude</text>\n",
       "\t<line x1=\"1664.93\" y1=\"1842.70\" x2=\"1624.96\" y2=\"1842.70\" style=\"stroke:#000000;stroke-width:5.76\"/>\n",
       "\t<text x=\"1604.91\" y=\"1877.72\" style=\"font-family:'Helvetica';font-size:99.99px;fill:#000000\" text-anchor=\"end\">Ethnic Fractionalization</text>\n",
       "\t<line x1=\"1664.93\" y1=\"2340.31\" x2=\"1624.96\" y2=\"2340.31\" style=\"stroke:#000000;stroke-width:5.76\"/>\n",
       "\t<text x=\"1604.91\" y=\"2375.34\" style=\"font-family:'Helvetica';font-size:99.99px;fill:#000000\" text-anchor=\"end\">_cons</text>\n",
       "\t<line x1=\"1664.93\" y1=\"2589.18\" x2=\"3859.02\" y2=\"2589.18\" style=\"stroke:#000000;stroke-width:5.76\"/>\n",
       "\t<line x1=\"1728.29\" y1=\"2589.18\" x2=\"1728.29\" y2=\"2629.15\" style=\"stroke:#000000;stroke-width:5.76\"/>\n",
       "\t<text x=\"1728.29\" y=\"2719.13\" style=\"font-family:'Helvetica';font-size:99.99px;fill:#000000\" text-anchor=\"middle\">-20</text>\n",
       "\t<line x1=\"2417.46\" y1=\"2589.18\" x2=\"2417.46\" y2=\"2629.15\" style=\"stroke:#000000;stroke-width:5.76\"/>\n",
       "\t<text x=\"2417.46\" y=\"2719.13\" style=\"font-family:'Helvetica';font-size:99.99px;fill:#000000\" text-anchor=\"middle\">0</text>\n",
       "\t<line x1=\"3106.62\" y1=\"2589.18\" x2=\"3106.62\" y2=\"2629.15\" style=\"stroke:#000000;stroke-width:5.76\"/>\n",
       "\t<text x=\"3106.62\" y=\"2719.13\" style=\"font-family:'Helvetica';font-size:99.99px;fill:#000000\" text-anchor=\"middle\">20</text>\n",
       "\t<line x1=\"3795.66\" y1=\"2589.18\" x2=\"3795.66\" y2=\"2629.15\" style=\"stroke:#000000;stroke-width:5.76\"/>\n",
       "\t<text x=\"3795.66\" y=\"2719.13\" style=\"font-family:'Helvetica';font-size:99.99px;fill:#000000\" text-anchor=\"middle\">40</text>\n",
       "</svg>\n"
      ],
      "text/html": [
       "                <iframe frameborder=\"0\" scrolling=\"no\" height=\"436\" width=\"600\"                srcdoc=\"<html><body>&lt;?xml version=&quot;1.0&quot; encoding=&quot;UTF-8&quot; standalone=&quot;no&quot;?&gt;\n",
       "&lt;!-- This is a Stata 16.0 generated SVG file (http://www.stata.com) --&gt;\n",
       "\n",
       "&lt;svg version=&quot;1.1&quot; width=&quot;600px&quot; height=&quot;436px&quot; viewBox=&quot;0 0 3960 2880&quot; xmlns=&quot;http://www.w3.org/2000/svg&quot; xmlns:xlink=&quot;http://www.w3.org/1999/xlink&quot;&gt;\n",
       "\t&lt;desc&gt;Stata Graph - Graph&lt;/desc&gt;\n",
       "\t&lt;rect x=&quot;0&quot; y=&quot;0&quot; width=&quot;3960&quot; height=&quot;2880&quot; style=&quot;fill:#EAF2F3;stroke:none&quot;/&gt;\n",
       "\t&lt;rect x=&quot;0.00&quot; y=&quot;0.00&quot; width=&quot;3959.88&quot; height=&quot;2880.00&quot; style=&quot;fill:#EAF2F3&quot;/&gt;\n",
       "\t&lt;rect x=&quot;2.88&quot; y=&quot;2.88&quot; width=&quot;3954.12&quot; height=&quot;2874.24&quot; style=&quot;fill:none;stroke:#EAF2F3;stroke-width:5.76&quot;/&gt;\n",
       "\t&lt;rect x=&quot;1664.93&quot; y=&quot;100.86&quot; width=&quot;2194.09&quot; height=&quot;2488.32&quot; style=&quot;fill:#FFFFFF&quot;/&gt;\n",
       "\t&lt;rect x=&quot;1667.81&quot; y=&quot;103.74&quot; width=&quot;2188.33&quot; height=&quot;2482.56&quot; style=&quot;fill:none;stroke:#FFFFFF;stroke-width:5.76&quot;/&gt;\n",
       "\t&lt;line x1=&quot;1664.93&quot; y1=&quot;349.60&quot; x2=&quot;3859.02&quot; y2=&quot;349.60&quot; style=&quot;stroke:#EAF2F3;stroke-width:8.64&quot;/&gt;\n",
       "\t&lt;line x1=&quot;1664.93&quot; y1=&quot;847.34&quot; x2=&quot;3859.02&quot; y2=&quot;847.34&quot; style=&quot;stroke:#EAF2F3;stroke-width:8.64&quot;/&gt;\n",
       "\t&lt;line x1=&quot;1664.93&quot; y1=&quot;1344.96&quot; x2=&quot;3859.02&quot; y2=&quot;1344.96&quot; style=&quot;stroke:#EAF2F3;stroke-width:8.64&quot;/&gt;\n",
       "\t&lt;line x1=&quot;1664.93&quot; y1=&quot;1842.70&quot; x2=&quot;3859.02&quot; y2=&quot;1842.70&quot; style=&quot;stroke:#EAF2F3;stroke-width:8.64&quot;/&gt;\n",
       "\t&lt;line x1=&quot;1664.93&quot; y1=&quot;2340.31&quot; x2=&quot;3859.02&quot; y2=&quot;2340.31&quot; style=&quot;stroke:#EAF2F3;stroke-width:8.64&quot;/&gt;\n",
       "\t&lt;line x1=&quot;2417.46&quot; y1=&quot;2589.18&quot; x2=&quot;2417.46&quot; y2=&quot;100.86&quot; style=&quot;stroke:#C10534;stroke-width:8.64&quot;/&gt;\n",
       "\t&lt;line x1=&quot;2432.55&quot; y1=&quot;349.60&quot; x2=&quot;2456.81&quot; y2=&quot;349.60&quot; style=&quot;stroke:#1A476F;stroke-width:8.64&quot;/&gt;\n",
       "\t&lt;line x1=&quot;2417.46&quot; y1=&quot;847.34&quot; x2=&quot;2417.46&quot; y2=&quot;847.34&quot; style=&quot;stroke:#1A476F;stroke-width:8.64&quot;/&gt;\n",
       "\t&lt;line x1=&quot;2542.07&quot; y1=&quot;1344.96&quot; x2=&quot;3667.08&quot; y2=&quot;1344.96&quot; style=&quot;stroke:#1A476F;stroke-width:8.64&quot;/&gt;\n",
       "\t&lt;line x1=&quot;1916.14&quot; y1=&quot;1842.70&quot; x2=&quot;2558.53&quot; y2=&quot;1842.70&quot; style=&quot;stroke:#1A476F;stroke-width:8.64&quot;/&gt;\n",
       "\t&lt;line x1=&quot;3101.55&quot; y1=&quot;2340.31&quot; x2=&quot;3613.25&quot; y2=&quot;2340.31&quot; style=&quot;stroke:#1A476F;stroke-width:8.64&quot;/&gt;\n",
       "\t&lt;circle cx=&quot;2444.56&quot; cy=&quot;349.73&quot; r=&quot;26.35&quot; style=&quot;fill:#1A476F&quot;/&gt;\n",
       "\t&lt;circle cx=&quot;2444.56&quot; cy=&quot;349.73&quot; r=&quot;22.03&quot; style=&quot;fill:none;stroke:#1A476F;stroke-width:8.64&quot;/&gt;\n",
       "\t&lt;circle cx=&quot;2417.46&quot; cy=&quot;847.34&quot; r=&quot;26.35&quot; style=&quot;fill:#1A476F&quot;/&gt;\n",
       "\t&lt;circle cx=&quot;2417.46&quot; cy=&quot;847.34&quot; r=&quot;22.03&quot; style=&quot;fill:none;stroke:#1A476F;stroke-width:8.64&quot;/&gt;\n",
       "\t&lt;circle cx=&quot;3104.52&quot; cy=&quot;1345.08&quot; r=&quot;26.35&quot; style=&quot;fill:#1A476F&quot;/&gt;\n",
       "\t&lt;circle cx=&quot;3104.52&quot; cy=&quot;1345.08&quot; r=&quot;22.03&quot; style=&quot;fill:none;stroke:#1A476F;stroke-width:8.64&quot;/&gt;\n",
       "\t&lt;circle cx=&quot;2237.28&quot; cy=&quot;1842.70&quot; r=&quot;26.35&quot; style=&quot;fill:#1A476F&quot;/&gt;\n",
       "\t&lt;circle cx=&quot;2237.28&quot; cy=&quot;1842.70&quot; r=&quot;22.03&quot; style=&quot;fill:none;stroke:#1A476F;stroke-width:8.64&quot;/&gt;\n",
       "\t&lt;circle cx=&quot;3357.34&quot; cy=&quot;2340.43&quot; r=&quot;26.35&quot; style=&quot;fill:#1A476F&quot;/&gt;\n",
       "\t&lt;circle cx=&quot;3357.34&quot; cy=&quot;2340.43&quot; r=&quot;22.03&quot; style=&quot;fill:none;stroke:#1A476F;stroke-width:8.64&quot;/&gt;\n",
       "\t&lt;line x1=&quot;1664.93&quot; y1=&quot;2589.18&quot; x2=&quot;1664.93&quot; y2=&quot;100.86&quot; style=&quot;stroke:#000000;stroke-width:5.76&quot;/&gt;\n",
       "\t&lt;line x1=&quot;1664.93&quot; y1=&quot;349.60&quot; x2=&quot;1624.96&quot; y2=&quot;349.60&quot; style=&quot;stroke:#000000;stroke-width:5.76&quot;/&gt;\n",
       "\t&lt;text x=&quot;1604.91&quot; y=&quot;384.63&quot; style=&quot;font-family:&#x27;Helvetica&#x27;;font-size:99.99px;fill:#000000&quot; text-anchor=&quot;end&quot;&gt;Revised Combined Polity Score&lt;/text&gt;\n",
       "\t&lt;line x1=&quot;1664.93&quot; y1=&quot;847.34&quot; x2=&quot;1624.96&quot; y2=&quot;847.34&quot; style=&quot;stroke:#000000;stroke-width:5.76&quot;/&gt;\n",
       "\t&lt;text x=&quot;1604.91&quot; y=&quot;882.37&quot; style=&quot;font-family:&#x27;Helvetica&#x27;;font-size:99.99px;fill:#000000&quot; text-anchor=&quot;end&quot;&gt;Real GDP per Capita (2005)&lt;/text&gt;\n",
       "\t&lt;line x1=&quot;1664.93&quot; y1=&quot;1344.96&quot; x2=&quot;1624.96&quot; y2=&quot;1344.96&quot; style=&quot;stroke:#000000;stroke-width:5.76&quot;/&gt;\n",
       "\t&lt;text x=&quot;1604.91&quot; y=&quot;1379.99&quot; style=&quot;font-family:&#x27;Helvetica&#x27;;font-size:99.99px;fill:#000000&quot; text-anchor=&quot;end&quot;&gt;Latitude&lt;/text&gt;\n",
       "\t&lt;line x1=&quot;1664.93&quot; y1=&quot;1842.70&quot; x2=&quot;1624.96&quot; y2=&quot;1842.70&quot; style=&quot;stroke:#000000;stroke-width:5.76&quot;/&gt;\n",
       "\t&lt;text x=&quot;1604.91&quot; y=&quot;1877.72&quot; style=&quot;font-family:&#x27;Helvetica&#x27;;font-size:99.99px;fill:#000000&quot; text-anchor=&quot;end&quot;&gt;Ethnic Fractionalization&lt;/text&gt;\n",
       "\t&lt;line x1=&quot;1664.93&quot; y1=&quot;2340.31&quot; x2=&quot;1624.96&quot; y2=&quot;2340.31&quot; style=&quot;stroke:#000000;stroke-width:5.76&quot;/&gt;\n",
       "\t&lt;text x=&quot;1604.91&quot; y=&quot;2375.34&quot; style=&quot;font-family:&#x27;Helvetica&#x27;;font-size:99.99px;fill:#000000&quot; text-anchor=&quot;end&quot;&gt;_cons&lt;/text&gt;\n",
       "\t&lt;line x1=&quot;1664.93&quot; y1=&quot;2589.18&quot; x2=&quot;3859.02&quot; y2=&quot;2589.18&quot; style=&quot;stroke:#000000;stroke-width:5.76&quot;/&gt;\n",
       "\t&lt;line x1=&quot;1728.29&quot; y1=&quot;2589.18&quot; x2=&quot;1728.29&quot; y2=&quot;2629.15&quot; style=&quot;stroke:#000000;stroke-width:5.76&quot;/&gt;\n",
       "\t&lt;text x=&quot;1728.29&quot; y=&quot;2719.13&quot; style=&quot;font-family:&#x27;Helvetica&#x27;;font-size:99.99px;fill:#000000&quot; text-anchor=&quot;middle&quot;&gt;-20&lt;/text&gt;\n",
       "\t&lt;line x1=&quot;2417.46&quot; y1=&quot;2589.18&quot; x2=&quot;2417.46&quot; y2=&quot;2629.15&quot; style=&quot;stroke:#000000;stroke-width:5.76&quot;/&gt;\n",
       "\t&lt;text x=&quot;2417.46&quot; y=&quot;2719.13&quot; style=&quot;font-family:&#x27;Helvetica&#x27;;font-size:99.99px;fill:#000000&quot; text-anchor=&quot;middle&quot;&gt;0&lt;/text&gt;\n",
       "\t&lt;line x1=&quot;3106.62&quot; y1=&quot;2589.18&quot; x2=&quot;3106.62&quot; y2=&quot;2629.15&quot; style=&quot;stroke:#000000;stroke-width:5.76&quot;/&gt;\n",
       "\t&lt;text x=&quot;3106.62&quot; y=&quot;2719.13&quot; style=&quot;font-family:&#x27;Helvetica&#x27;;font-size:99.99px;fill:#000000&quot; text-anchor=&quot;middle&quot;&gt;20&lt;/text&gt;\n",
       "\t&lt;line x1=&quot;3795.66&quot; y1=&quot;2589.18&quot; x2=&quot;3795.66&quot; y2=&quot;2629.15&quot; style=&quot;stroke:#000000;stroke-width:5.76&quot;/&gt;\n",
       "\t&lt;text x=&quot;3795.66&quot; y=&quot;2719.13&quot; style=&quot;font-family:&#x27;Helvetica&#x27;;font-size:99.99px;fill:#000000&quot; text-anchor=&quot;middle&quot;&gt;40&lt;/text&gt;\n",
       "&lt;/svg&gt;\n",
       "</body></html>\"></iframe>\n"
      ],
      "text/plain": [
       "This front-end cannot display the desired image type."
      ]
     },
     "metadata": {
      "image/svg+xml": {
       "height": 436,
       "width": 600
      },
      "text/html": {
       "height": 436,
       "width": 600
      }
     },
     "output_type": "display_data"
    }
   ],
   "source": [
    "coefplot, xline(0)"
   ]
  },
  {
   "cell_type": "markdown",
   "metadata": {},
   "source": [
    "Mycket enkelt! Här ser vi nu grafiskt vad vi såg i tabellen ovan. Etnisk fragmentering återfinns till vänster, på den negativa sidan, och konfidensintervallen (som visas med strecken) överlappar noll, vilket betyder att koefficienten inte är signifikant. Ju längre bort från det röda strecket punkten är, desto starkare effekt.\n",
    "\n",
    "Men när det fäller demokrati och BNP per capita så kan vi inte se några konfidensintervall, och det verkar nästan som om prickarna överlappar noll. Vad innebär det?\n",
    "\n",
    "Jo, bara att koefficienterna och konfidensintervallen är väldigt små. BNP till exempel är här mätt i antal dollar per capita. Och naturligtvis kan vi inte förvänta oss att så mycket händer med korruptionsnivån om vi ökar BNP per capita med en dollar. Koefficienten är 0,0008, och konfidensintervallet går mellan 0,0006 och 0,0009. Skalan är helt annorlunda än till exempel variabeln för etnisk fragmentering, där variabeln bara kan ha värdet 1 som mest.\n",
    "\n",
    "För att kunna göra en rättvis visuell jämförelse ska vi standardisera koefficienterna.\n",
    "\n",
    "## Centrera och standardisera regressionskoefficienter med `center`\n",
    "\n",
    "Att standardisera koefficienterna innebär att ge dem en gemensam referenspunkt, så att de i någon mening blir mer jämförbara. Ett vanligt sätt är att göra så att koefficienterna visar hur mycket korruptionsnivån skulle förändras om variabeln ökar med en standardavvikelse. Standardavvikelsen kan ses som ett mått på \"typisk variation\" i variabeln. I Sverige är till exempel medellängden för 18-åriga män strax över 180 centimeter, med en standardavvikelse på 7 centimeter. Medelvikten är ungefär 71 kilo, med en standardavvikelse på 10 kilo.\n",
    "\n",
    "Om vi skalar om de oberoende variablerna så att alla har ett medelvärde som är 0 och en standardavvikelse som är 1 och sedan lägger in dem i regressionsanalysen kommer koefficienterna alltså att visa vad som händer med den beroende variabeln när vi ökar den oberoende variabeln med en standardavvikelse. Vi gör det genom att subtrahera varje variabels medelvärde från sig själv, och sedan dela med standardavvikelsen.\n",
    "\n",
    "Stata har dock ett färdigt kommando för att göra just det, `center`. Vi skriver då `center` och sedan variablerna vi vill göra om. Vi lägger också till två options, `standardize` och `prefix(std_)`. Det första anger att vi vill standardisera dem (alltså se till att standardavvikelsen blir 1), och det andra att vi vill att de nya variabler som skapas ska få prefixet \"std_\". \"gle_rgdpc\" får alltså en ny variabel som heter \"std_gle_rgdpc\". "
   ]
  },
  {
   "cell_type": "code",
   "execution_count": 8,
   "metadata": {},
   "outputs": [
    {
     "name": "stdout",
     "output_type": "stream",
     "text": [
      "(generated variables: std_p_polity2 std_gle_rgdpc std_lp_lat_abst std_al_ethnic)\n"
     ]
    }
   ],
   "source": [
    "center p_polity2 gle_rgdpc lp_lat_abst al_ethnic, standardize prefix(std_)"
   ]
  },
  {
   "cell_type": "markdown",
   "metadata": {},
   "source": [
    "Om vi nu jämför en vanlig variabel med dess transformerade variant ser vi att det blivit rätt:"
   ]
  },
  {
   "cell_type": "code",
   "execution_count": 9,
   "metadata": {},
   "outputs": [
    {
     "name": "stdout",
     "output_type": "stream",
     "text": [
      "\n",
      "    Variable |        Obs        Mean    Std. Dev.       Min        Max\n",
      "-------------+---------------------------------------------------------\n",
      "   p_polity2 |        165    4.072727    6.158044        -10         10\n",
      "std_p_poli~2 |        165    5.13e-09           1  -2.285259   .9625252\n"
     ]
    }
   ],
   "source": [
    "sum p_polity2 std_p_polity2"
   ]
  },
  {
   "cell_type": "markdown",
   "metadata": {},
   "source": [
    "p_polity2 hade tidigare ett medelvärde på 4,07 och en standardavvikelse på 6,16. Skalan gick från -10 till +10. Den nya variabeln har medelvärdet 0 (Stata visar att medelvärdet är 0,00000000513, men det är bara ett avrundningsfel). Standardavvikelsen är 1, och skalan går nu från -2,29 till 0,96. Mycket mindre intuitivt i de flesta sammanhang, men det kommer göra vår koefficientplot lättare att avläsa.\n",
    "\n",
    "## Koefficientplot med standardiserade variabler\n",
    "\n",
    "Nu kan vi göra om analysen med de standardiserade variablerna, och sedan visualisera dem med `coefplot`."
   ]
  },
  {
   "cell_type": "code",
   "execution_count": 10,
   "metadata": {},
   "outputs": [
    {
     "name": "stdout",
     "output_type": "stream",
     "text": [
      "\n",
      "      Source |       SS           df       MS      Number of obs   =       133\n",
      "-------------+----------------------------------   F(4, 128)       =     62.20\n",
      "       Model |  35203.5051         4  8800.87628   Prob > F        =    0.0000\n",
      "    Residual |  18112.0137       128  141.500107   R-squared       =    0.6603\n",
      "-------------+----------------------------------   Adj R-squared   =    0.6497\n",
      "       Total |  53315.5188       132  403.905445   Root MSE        =    11.895\n",
      "\n",
      "---------------------------------------------------------------------------------\n",
      "         ti_cpi |      Coef.   Std. Err.      t    P>|t|     [95% Conf. Interval]\n",
      "----------------+----------------------------------------------------------------\n",
      "  std_p_polity2 |   4.866384   1.097937     4.43   0.000     2.693928    7.038839\n",
      "  std_gle_rgdpc |   12.45253   1.331904     9.35   0.000      9.81713    15.08793\n",
      "std_lp_lat_abst |   3.602087   1.490303     2.42   0.017     .6532673    6.550907\n",
      "  std_al_ethnic |  -1.342559   1.210447    -1.11   0.269    -3.737634    1.052517\n",
      "          _cons |   43.26905   1.043851    41.45   0.000     41.20361    45.33449\n",
      "---------------------------------------------------------------------------------\n"
     ]
    }
   ],
   "source": [
    "reg ti_cpi std_p_polity2 std_gle_rgdpc std_lp_lat_abst std_al_ethnic"
   ]
  },
  {
   "cell_type": "markdown",
   "metadata": {},
   "source": [
    "Variablerna är nu lättare att jämföra. Vi ser att riktningen på sambanden - alltså om det är plus eller minus - är densamma. Likaså signifikansvärdena. Det enda som förändrats är koefficienterna, standardfelen och konfidensintervallen. Nu plottar vi dessa koefficenter med `coefplot`, men lägger också till ett option för att ta bort interceptet (cons) ur grafen. Interceptet visar vad det förväntade värdet på den beroende variabeln är när alla de oberoende variablerna är noll, vilket i det här fallet betyder att landet har genomsnittsvärden på alla de oberoende variablerna. Vi vill dock fokusera grafen på de mer teoretiskt intressanta oberoende variablerna, och då är det lämpligt att ta bort interceptet. Vi gör det med option `drop(_cons)`. Samma option kan också användas för att ta bort andra koefficienter."
   ]
  },
  {
   "cell_type": "code",
   "execution_count": 15,
   "metadata": {},
   "outputs": [
    {
     "data": {
      "application/pdf": "[encoded data removed]",
      "image/svg+xml": [
       "<?xml version=\"1.0\" encoding=\"UTF-8\" standalone=\"no\"?>\n",
       "<!-- This is a Stata 16.0 generated SVG file (http://www.stata.com) -->\n",
       "\n",
       "<svg version=\"1.1\" width=\"600px\" height=\"436px\" viewBox=\"0 0 3960 2880\" xmlns=\"http://www.w3.org/2000/svg\" xmlns:xlink=\"http://www.w3.org/1999/xlink\">\n",
       "\t<desc>Stata Graph - Graph</desc>\n",
       "\t<rect x=\"0\" y=\"0\" width=\"3960\" height=\"2880\" style=\"fill:#EAF2F3;stroke:none\"/>\n",
       "\t<rect x=\"0.00\" y=\"0.00\" width=\"3959.88\" height=\"2880.00\" style=\"fill:#EAF2F3\"/>\n",
       "\t<rect x=\"2.88\" y=\"2.88\" width=\"3954.12\" height=\"2874.24\" style=\"fill:none;stroke:#EAF2F3;stroke-width:5.76\"/>\n",
       "\t<rect x=\"2345.31\" y=\"100.86\" width=\"1513.71\" height=\"2488.32\" style=\"fill:#FFFFFF\"/>\n",
       "\t<rect x=\"2348.19\" y=\"103.74\" width=\"1507.95\" height=\"2482.56\" style=\"fill:none;stroke:#FFFFFF;stroke-width:5.76\"/>\n",
       "\t<line x1=\"2345.31\" y1=\"411.85\" x2=\"3859.02\" y2=\"411.85\" style=\"stroke:#EAF2F3;stroke-width:8.64\"/>\n",
       "\t<line x1=\"2345.31\" y1=\"1033.96\" x2=\"3859.02\" y2=\"1033.96\" style=\"stroke:#EAF2F3;stroke-width:8.64\"/>\n",
       "\t<line x1=\"2345.31\" y1=\"1656.07\" x2=\"3859.02\" y2=\"1656.07\" style=\"stroke:#EAF2F3;stroke-width:8.64\"/>\n",
       "\t<line x1=\"2345.31\" y1=\"2278.18\" x2=\"3859.02\" y2=\"2278.18\" style=\"stroke:#EAF2F3;stroke-width:8.64\"/>\n",
       "\t<line x1=\"2753.93\" y1=\"2589.18\" x2=\"2753.93\" y2=\"100.86\" style=\"stroke:#C10534;stroke-width:8.64\"/>\n",
       "\t<line x1=\"2939.93\" y1=\"411.85\" x2=\"3239.90\" y2=\"411.85\" style=\"stroke:#1A476F;stroke-width:8.64\"/>\n",
       "\t<line x1=\"3431.84\" y1=\"1033.96\" x2=\"3795.66\" y2=\"1033.96\" style=\"stroke:#1A476F;stroke-width:8.64\"/>\n",
       "\t<line x1=\"2798.98\" y1=\"1656.07\" x2=\"3206.24\" y2=\"1656.07\" style=\"stroke:#1A476F;stroke-width:8.64\"/>\n",
       "\t<line x1=\"2495.79\" y1=\"2278.18\" x2=\"2826.57\" y2=\"2278.18\" style=\"stroke:#1A476F;stroke-width:8.64\"/>\n",
       "\t<circle cx=\"3089.91\" cy=\"411.85\" r=\"26.35\" style=\"fill:#1A476F\"/>\n",
       "\t<circle cx=\"3089.91\" cy=\"411.85\" r=\"22.03\" style=\"fill:none;stroke:#1A476F;stroke-width:8.64\"/>\n",
       "\t<circle cx=\"3613.75\" cy=\"1033.96\" r=\"26.35\" style=\"fill:#1A476F\"/>\n",
       "\t<circle cx=\"3613.75\" cy=\"1033.96\" r=\"22.03\" style=\"fill:none;stroke:#1A476F;stroke-width:8.64\"/>\n",
       "\t<circle cx=\"3002.55\" cy=\"1656.07\" r=\"26.35\" style=\"fill:#1A476F\"/>\n",
       "\t<circle cx=\"3002.55\" cy=\"1656.07\" r=\"22.03\" style=\"fill:none;stroke:#1A476F;stroke-width:8.64\"/>\n",
       "\t<circle cx=\"2661.12\" cy=\"2278.18\" r=\"26.35\" style=\"fill:#1A476F\"/>\n",
       "\t<circle cx=\"2661.12\" cy=\"2278.18\" r=\"22.03\" style=\"fill:none;stroke:#1A476F;stroke-width:8.64\"/>\n",
       "\t<line x1=\"2345.31\" y1=\"2589.18\" x2=\"2345.31\" y2=\"100.86\" style=\"stroke:#000000;stroke-width:5.76\"/>\n",
       "\t<line x1=\"2345.31\" y1=\"411.85\" x2=\"2305.34\" y2=\"411.85\" style=\"stroke:#000000;stroke-width:5.76\"/>\n",
       "\t<text x=\"2285.29\" y=\"446.88\" style=\"font-family:'Helvetica';font-size:99.99px;fill:#000000\" text-anchor=\"end\">Revised Combined Polity Score (standardized)</text>\n",
       "\t<line x1=\"2345.31\" y1=\"1033.96\" x2=\"2305.34\" y2=\"1033.96\" style=\"stroke:#000000;stroke-width:5.76\"/>\n",
       "\t<text x=\"2285.29\" y=\"1068.99\" style=\"font-family:'Helvetica';font-size:99.99px;fill:#000000\" text-anchor=\"end\">Real GDP per Capita (2005) (standardized)</text>\n",
       "\t<line x1=\"2345.31\" y1=\"1656.07\" x2=\"2305.34\" y2=\"1656.07\" style=\"stroke:#000000;stroke-width:5.76\"/>\n",
       "\t<text x=\"2285.29\" y=\"1691.10\" style=\"font-family:'Helvetica';font-size:99.99px;fill:#000000\" text-anchor=\"end\">Latitude (standardized)</text>\n",
       "\t<line x1=\"2345.31\" y1=\"2278.18\" x2=\"2305.34\" y2=\"2278.18\" style=\"stroke:#000000;stroke-width:5.76\"/>\n",
       "\t<text x=\"2285.29\" y=\"2313.21\" style=\"font-family:'Helvetica';font-size:99.99px;fill:#000000\" text-anchor=\"end\">Ethnic Fractionalization (standardized)</text>\n",
       "\t<line x1=\"2345.31\" y1=\"2589.18\" x2=\"3859.02\" y2=\"2589.18\" style=\"stroke:#000000;stroke-width:5.76\"/>\n",
       "\t<line x1=\"2408.67\" y1=\"2589.18\" x2=\"2408.67\" y2=\"2629.15\" style=\"stroke:#000000;stroke-width:5.76\"/>\n",
       "\t<text x=\"2408.67\" y=\"2719.13\" style=\"font-family:'Helvetica';font-size:99.99px;fill:#000000\" text-anchor=\"middle\">-5</text>\n",
       "\t<line x1=\"2753.93\" y1=\"2589.18\" x2=\"2753.93\" y2=\"2629.15\" style=\"stroke:#000000;stroke-width:5.76\"/>\n",
       "\t<text x=\"2753.93\" y=\"2719.13\" style=\"font-family:'Helvetica';font-size:99.99px;fill:#000000\" text-anchor=\"middle\">0</text>\n",
       "\t<line x1=\"3099.20\" y1=\"2589.18\" x2=\"3099.20\" y2=\"2629.15\" style=\"stroke:#000000;stroke-width:5.76\"/>\n",
       "\t<text x=\"3099.20\" y=\"2719.13\" style=\"font-family:'Helvetica';font-size:99.99px;fill:#000000\" text-anchor=\"middle\">5</text>\n",
       "\t<line x1=\"3444.46\" y1=\"2589.18\" x2=\"3444.46\" y2=\"2629.15\" style=\"stroke:#000000;stroke-width:5.76\"/>\n",
       "\t<text x=\"3444.46\" y=\"2719.13\" style=\"font-family:'Helvetica';font-size:99.99px;fill:#000000\" text-anchor=\"middle\">10</text>\n",
       "\t<line x1=\"3789.60\" y1=\"2589.18\" x2=\"3789.60\" y2=\"2629.15\" style=\"stroke:#000000;stroke-width:5.76\"/>\n",
       "\t<text x=\"3789.60\" y=\"2719.13\" style=\"font-family:'Helvetica';font-size:99.99px;fill:#000000\" text-anchor=\"middle\">15</text>\n",
       "</svg>\n"
      ],
      "text/html": [
       "                <iframe frameborder=\"0\" scrolling=\"no\" height=\"436\" width=\"600\"                srcdoc=\"<html><body>&lt;?xml version=&quot;1.0&quot; encoding=&quot;UTF-8&quot; standalone=&quot;no&quot;?&gt;\n",
       "&lt;!-- This is a Stata 16.0 generated SVG file (http://www.stata.com) --&gt;\n",
       "\n",
       "&lt;svg version=&quot;1.1&quot; width=&quot;600px&quot; height=&quot;436px&quot; viewBox=&quot;0 0 3960 2880&quot; xmlns=&quot;http://www.w3.org/2000/svg&quot; xmlns:xlink=&quot;http://www.w3.org/1999/xlink&quot;&gt;\n",
       "\t&lt;desc&gt;Stata Graph - Graph&lt;/desc&gt;\n",
       "\t&lt;rect x=&quot;0&quot; y=&quot;0&quot; width=&quot;3960&quot; height=&quot;2880&quot; style=&quot;fill:#EAF2F3;stroke:none&quot;/&gt;\n",
       "\t&lt;rect x=&quot;0.00&quot; y=&quot;0.00&quot; width=&quot;3959.88&quot; height=&quot;2880.00&quot; style=&quot;fill:#EAF2F3&quot;/&gt;\n",
       "\t&lt;rect x=&quot;2.88&quot; y=&quot;2.88&quot; width=&quot;3954.12&quot; height=&quot;2874.24&quot; style=&quot;fill:none;stroke:#EAF2F3;stroke-width:5.76&quot;/&gt;\n",
       "\t&lt;rect x=&quot;2345.31&quot; y=&quot;100.86&quot; width=&quot;1513.71&quot; height=&quot;2488.32&quot; style=&quot;fill:#FFFFFF&quot;/&gt;\n",
       "\t&lt;rect x=&quot;2348.19&quot; y=&quot;103.74&quot; width=&quot;1507.95&quot; height=&quot;2482.56&quot; style=&quot;fill:none;stroke:#FFFFFF;stroke-width:5.76&quot;/&gt;\n",
       "\t&lt;line x1=&quot;2345.31&quot; y1=&quot;411.85&quot; x2=&quot;3859.02&quot; y2=&quot;411.85&quot; style=&quot;stroke:#EAF2F3;stroke-width:8.64&quot;/&gt;\n",
       "\t&lt;line x1=&quot;2345.31&quot; y1=&quot;1033.96&quot; x2=&quot;3859.02&quot; y2=&quot;1033.96&quot; style=&quot;stroke:#EAF2F3;stroke-width:8.64&quot;/&gt;\n",
       "\t&lt;line x1=&quot;2345.31&quot; y1=&quot;1656.07&quot; x2=&quot;3859.02&quot; y2=&quot;1656.07&quot; style=&quot;stroke:#EAF2F3;stroke-width:8.64&quot;/&gt;\n",
       "\t&lt;line x1=&quot;2345.31&quot; y1=&quot;2278.18&quot; x2=&quot;3859.02&quot; y2=&quot;2278.18&quot; style=&quot;stroke:#EAF2F3;stroke-width:8.64&quot;/&gt;\n",
       "\t&lt;line x1=&quot;2753.93&quot; y1=&quot;2589.18&quot; x2=&quot;2753.93&quot; y2=&quot;100.86&quot; style=&quot;stroke:#C10534;stroke-width:8.64&quot;/&gt;\n",
       "\t&lt;line x1=&quot;2939.93&quot; y1=&quot;411.85&quot; x2=&quot;3239.90&quot; y2=&quot;411.85&quot; style=&quot;stroke:#1A476F;stroke-width:8.64&quot;/&gt;\n",
       "\t&lt;line x1=&quot;3431.84&quot; y1=&quot;1033.96&quot; x2=&quot;3795.66&quot; y2=&quot;1033.96&quot; style=&quot;stroke:#1A476F;stroke-width:8.64&quot;/&gt;\n",
       "\t&lt;line x1=&quot;2798.98&quot; y1=&quot;1656.07&quot; x2=&quot;3206.24&quot; y2=&quot;1656.07&quot; style=&quot;stroke:#1A476F;stroke-width:8.64&quot;/&gt;\n",
       "\t&lt;line x1=&quot;2495.79&quot; y1=&quot;2278.18&quot; x2=&quot;2826.57&quot; y2=&quot;2278.18&quot; style=&quot;stroke:#1A476F;stroke-width:8.64&quot;/&gt;\n",
       "\t&lt;circle cx=&quot;3089.91&quot; cy=&quot;411.85&quot; r=&quot;26.35&quot; style=&quot;fill:#1A476F&quot;/&gt;\n",
       "\t&lt;circle cx=&quot;3089.91&quot; cy=&quot;411.85&quot; r=&quot;22.03&quot; style=&quot;fill:none;stroke:#1A476F;stroke-width:8.64&quot;/&gt;\n",
       "\t&lt;circle cx=&quot;3613.75&quot; cy=&quot;1033.96&quot; r=&quot;26.35&quot; style=&quot;fill:#1A476F&quot;/&gt;\n",
       "\t&lt;circle cx=&quot;3613.75&quot; cy=&quot;1033.96&quot; r=&quot;22.03&quot; style=&quot;fill:none;stroke:#1A476F;stroke-width:8.64&quot;/&gt;\n",
       "\t&lt;circle cx=&quot;3002.55&quot; cy=&quot;1656.07&quot; r=&quot;26.35&quot; style=&quot;fill:#1A476F&quot;/&gt;\n",
       "\t&lt;circle cx=&quot;3002.55&quot; cy=&quot;1656.07&quot; r=&quot;22.03&quot; style=&quot;fill:none;stroke:#1A476F;stroke-width:8.64&quot;/&gt;\n",
       "\t&lt;circle cx=&quot;2661.12&quot; cy=&quot;2278.18&quot; r=&quot;26.35&quot; style=&quot;fill:#1A476F&quot;/&gt;\n",
       "\t&lt;circle cx=&quot;2661.12&quot; cy=&quot;2278.18&quot; r=&quot;22.03&quot; style=&quot;fill:none;stroke:#1A476F;stroke-width:8.64&quot;/&gt;\n",
       "\t&lt;line x1=&quot;2345.31&quot; y1=&quot;2589.18&quot; x2=&quot;2345.31&quot; y2=&quot;100.86&quot; style=&quot;stroke:#000000;stroke-width:5.76&quot;/&gt;\n",
       "\t&lt;line x1=&quot;2345.31&quot; y1=&quot;411.85&quot; x2=&quot;2305.34&quot; y2=&quot;411.85&quot; style=&quot;stroke:#000000;stroke-width:5.76&quot;/&gt;\n",
       "\t&lt;text x=&quot;2285.29&quot; y=&quot;446.88&quot; style=&quot;font-family:&#x27;Helvetica&#x27;;font-size:99.99px;fill:#000000&quot; text-anchor=&quot;end&quot;&gt;Revised Combined Polity Score (standardized)&lt;/text&gt;\n",
       "\t&lt;line x1=&quot;2345.31&quot; y1=&quot;1033.96&quot; x2=&quot;2305.34&quot; y2=&quot;1033.96&quot; style=&quot;stroke:#000000;stroke-width:5.76&quot;/&gt;\n",
       "\t&lt;text x=&quot;2285.29&quot; y=&quot;1068.99&quot; style=&quot;font-family:&#x27;Helvetica&#x27;;font-size:99.99px;fill:#000000&quot; text-anchor=&quot;end&quot;&gt;Real GDP per Capita (2005) (standardized)&lt;/text&gt;\n",
       "\t&lt;line x1=&quot;2345.31&quot; y1=&quot;1656.07&quot; x2=&quot;2305.34&quot; y2=&quot;1656.07&quot; style=&quot;stroke:#000000;stroke-width:5.76&quot;/&gt;\n",
       "\t&lt;text x=&quot;2285.29&quot; y=&quot;1691.10&quot; style=&quot;font-family:&#x27;Helvetica&#x27;;font-size:99.99px;fill:#000000&quot; text-anchor=&quot;end&quot;&gt;Latitude (standardized)&lt;/text&gt;\n",
       "\t&lt;line x1=&quot;2345.31&quot; y1=&quot;2278.18&quot; x2=&quot;2305.34&quot; y2=&quot;2278.18&quot; style=&quot;stroke:#000000;stroke-width:5.76&quot;/&gt;\n",
       "\t&lt;text x=&quot;2285.29&quot; y=&quot;2313.21&quot; style=&quot;font-family:&#x27;Helvetica&#x27;;font-size:99.99px;fill:#000000&quot; text-anchor=&quot;end&quot;&gt;Ethnic Fractionalization (standardized)&lt;/text&gt;\n",
       "\t&lt;line x1=&quot;2345.31&quot; y1=&quot;2589.18&quot; x2=&quot;3859.02&quot; y2=&quot;2589.18&quot; style=&quot;stroke:#000000;stroke-width:5.76&quot;/&gt;\n",
       "\t&lt;line x1=&quot;2408.67&quot; y1=&quot;2589.18&quot; x2=&quot;2408.67&quot; y2=&quot;2629.15&quot; style=&quot;stroke:#000000;stroke-width:5.76&quot;/&gt;\n",
       "\t&lt;text x=&quot;2408.67&quot; y=&quot;2719.13&quot; style=&quot;font-family:&#x27;Helvetica&#x27;;font-size:99.99px;fill:#000000&quot; text-anchor=&quot;middle&quot;&gt;-5&lt;/text&gt;\n",
       "\t&lt;line x1=&quot;2753.93&quot; y1=&quot;2589.18&quot; x2=&quot;2753.93&quot; y2=&quot;2629.15&quot; style=&quot;stroke:#000000;stroke-width:5.76&quot;/&gt;\n",
       "\t&lt;text x=&quot;2753.93&quot; y=&quot;2719.13&quot; style=&quot;font-family:&#x27;Helvetica&#x27;;font-size:99.99px;fill:#000000&quot; text-anchor=&quot;middle&quot;&gt;0&lt;/text&gt;\n",
       "\t&lt;line x1=&quot;3099.20&quot; y1=&quot;2589.18&quot; x2=&quot;3099.20&quot; y2=&quot;2629.15&quot; style=&quot;stroke:#000000;stroke-width:5.76&quot;/&gt;\n",
       "\t&lt;text x=&quot;3099.20&quot; y=&quot;2719.13&quot; style=&quot;font-family:&#x27;Helvetica&#x27;;font-size:99.99px;fill:#000000&quot; text-anchor=&quot;middle&quot;&gt;5&lt;/text&gt;\n",
       "\t&lt;line x1=&quot;3444.46&quot; y1=&quot;2589.18&quot; x2=&quot;3444.46&quot; y2=&quot;2629.15&quot; style=&quot;stroke:#000000;stroke-width:5.76&quot;/&gt;\n",
       "\t&lt;text x=&quot;3444.46&quot; y=&quot;2719.13&quot; style=&quot;font-family:&#x27;Helvetica&#x27;;font-size:99.99px;fill:#000000&quot; text-anchor=&quot;middle&quot;&gt;10&lt;/text&gt;\n",
       "\t&lt;line x1=&quot;3789.60&quot; y1=&quot;2589.18&quot; x2=&quot;3789.60&quot; y2=&quot;2629.15&quot; style=&quot;stroke:#000000;stroke-width:5.76&quot;/&gt;\n",
       "\t&lt;text x=&quot;3789.60&quot; y=&quot;2719.13&quot; style=&quot;font-family:&#x27;Helvetica&#x27;;font-size:99.99px;fill:#000000&quot; text-anchor=&quot;middle&quot;&gt;15&lt;/text&gt;\n",
       "&lt;/svg&gt;\n",
       "</body></html>\"></iframe>\n"
      ],
      "text/plain": [
       "This front-end cannot display the desired image type."
      ]
     },
     "metadata": {
      "image/svg+xml": {
       "height": 436,
       "width": 600
      },
      "text/html": {
       "height": 436,
       "width": 600
      }
     },
     "output_type": "display_data"
    }
   ],
   "source": [
    "coefplot, xline(0) drop(_cons)"
   ]
  },
  {
   "cell_type": "markdown",
   "metadata": {},
   "source": [
    "Tvärtemot den tidigare versionen av grafen ser vi nu att effekten av BNP per capita är stark och tydligt signifikant. Att den hamnade så nära noll tidigare berodde bara på variabelns skala. Nu när alla variablerna standardiserats har BNP per capita den tydligaste effekten. Vi ser också lätt att demokrati (Revised Combined Polity Score), BNP per capita och Latitud (mätt som avstånd från ekvatorn) alla har positiva effekter och är signifikanta (konfidensintervallen överlappar inte noll). Etnisk fraktionalisering har en negativ effekt men är inte statistiskt signifikant (konfidensintervallet överlappar noll).\n",
    "\n",
    "## Flera regressionsmodeller i en graf\n",
    "\n",
    "Vi kan också göra en graf som visar flera regressionsmodeller på en gång. Då kör vi först alla analyser vi vill göra, sparar resultaten med `estimates store modellnamn` och tar sedan in dem i grafen med `coefplot modellnamn1 modellnamn2`. Nedan kör vi två regressionsanalyser, först med bara demokrati, och sedan med alla oberoende variabler, och sparar dem som \"m1\" och \"m2\". För att inte få så mycket output här har jag skrivit `quietly` framför regressionskommandona."
   ]
  },
  {
   "cell_type": "code",
   "execution_count": 21,
   "metadata": {},
   "outputs": [
    {
     "data": {
      "application/pdf": "[encoded data removed]",
      "image/svg+xml": [
       "<?xml version=\"1.0\" encoding=\"UTF-8\" standalone=\"no\"?>\n",
       "<!-- This is a Stata 16.0 generated SVG file (http://www.stata.com) -->\n",
       "\n",
       "<svg version=\"1.1\" width=\"600px\" height=\"436px\" viewBox=\"0 0 3960 2880\" xmlns=\"http://www.w3.org/2000/svg\" xmlns:xlink=\"http://www.w3.org/1999/xlink\">\n",
       "\t<desc>Stata Graph - Graph</desc>\n",
       "\t<rect x=\"0\" y=\"0\" width=\"3960\" height=\"2880\" style=\"fill:#EAF2F3;stroke:none\"/>\n",
       "\t<rect x=\"0.00\" y=\"0.00\" width=\"3959.88\" height=\"2880.00\" style=\"fill:#EAF2F3\"/>\n",
       "\t<rect x=\"2.88\" y=\"2.88\" width=\"3954.12\" height=\"2874.24\" style=\"fill:none;stroke:#EAF2F3;stroke-width:5.76\"/>\n",
       "\t<rect x=\"2345.31\" y=\"100.86\" width=\"1513.71\" height=\"2232.77\" style=\"fill:#FFFFFF\"/>\n",
       "\t<rect x=\"2348.19\" y=\"103.74\" width=\"1507.95\" height=\"2227.01\" style=\"fill:none;stroke:#FFFFFF;stroke-width:5.76\"/>\n",
       "\t<line x1=\"2345.31\" y1=\"658.99\" x2=\"3859.02\" y2=\"658.99\" style=\"stroke:#EAF2F3;stroke-width:8.64\"/>\n",
       "\t<line x1=\"2345.31\" y1=\"658.99\" x2=\"3859.02\" y2=\"658.99\" style=\"stroke:#EAF2F3;stroke-width:8.64\"/>\n",
       "\t<line x1=\"2345.31\" y1=\"1217.24\" x2=\"3859.02\" y2=\"1217.24\" style=\"stroke:#EAF2F3;stroke-width:8.64\"/>\n",
       "\t<line x1=\"2345.31\" y1=\"1217.24\" x2=\"3859.02\" y2=\"1217.24\" style=\"stroke:#EAF2F3;stroke-width:8.64\"/>\n",
       "\t<line x1=\"2345.31\" y1=\"1775.50\" x2=\"3859.02\" y2=\"1775.50\" style=\"stroke:#EAF2F3;stroke-width:8.64\"/>\n",
       "\t<line x1=\"2345.31\" y1=\"1775.50\" x2=\"3859.02\" y2=\"1775.50\" style=\"stroke:#EAF2F3;stroke-width:8.64\"/>\n",
       "\t<line x1=\"2753.93\" y1=\"2333.63\" x2=\"2753.93\" y2=\"100.86\" style=\"stroke:#C10534;stroke-width:8.64\"/>\n",
       "\t<line x1=\"3152.78\" y1=\"286.86\" x2=\"3530.09\" y2=\"286.86\" style=\"stroke:#1A476F;stroke-width:8.64\"/>\n",
       "\t<circle cx=\"3341.37\" cy=\"286.99\" r=\"26.35\" style=\"fill:#1A476F\"/>\n",
       "\t<circle cx=\"3341.37\" cy=\"286.99\" r=\"22.03\" style=\"fill:none;stroke:#1A476F;stroke-width:8.64\"/>\n",
       "\t<line x1=\"2939.93\" y1=\"472.99\" x2=\"3239.90\" y2=\"472.99\" style=\"stroke:#90353B;stroke-width:8.64\"/>\n",
       "\t<line x1=\"3431.84\" y1=\"1031.12\" x2=\"3795.66\" y2=\"1031.12\" style=\"stroke:#90353B;stroke-width:8.64\"/>\n",
       "\t<line x1=\"2798.98\" y1=\"1589.37\" x2=\"3206.24\" y2=\"1589.37\" style=\"stroke:#90353B;stroke-width:8.64\"/>\n",
       "\t<line x1=\"2495.79\" y1=\"2147.62\" x2=\"2826.57\" y2=\"2147.62\" style=\"stroke:#90353B;stroke-width:8.64\"/>\n",
       "\t<circle cx=\"3089.91\" cy=\"472.99\" r=\"26.35\" style=\"fill:#90353B\"/>\n",
       "\t<circle cx=\"3089.91\" cy=\"472.99\" r=\"22.03\" style=\"fill:none;stroke:#90353B;stroke-width:8.64\"/>\n",
       "\t<circle cx=\"3613.75\" cy=\"1031.24\" r=\"26.35\" style=\"fill:#90353B\"/>\n",
       "\t<circle cx=\"3613.75\" cy=\"1031.24\" r=\"22.03\" style=\"fill:none;stroke:#90353B;stroke-width:8.64\"/>\n",
       "\t<circle cx=\"3002.55\" cy=\"1589.49\" r=\"26.35\" style=\"fill:#90353B\"/>\n",
       "\t<circle cx=\"3002.55\" cy=\"1589.49\" r=\"22.03\" style=\"fill:none;stroke:#90353B;stroke-width:8.64\"/>\n",
       "\t<circle cx=\"2661.12\" cy=\"2147.62\" r=\"26.35\" style=\"fill:#90353B\"/>\n",
       "\t<circle cx=\"2661.12\" cy=\"2147.62\" r=\"22.03\" style=\"fill:none;stroke:#90353B;stroke-width:8.64\"/>\n",
       "\t<line x1=\"2345.31\" y1=\"2333.63\" x2=\"2345.31\" y2=\"100.86\" style=\"stroke:#000000;stroke-width:5.76\"/>\n",
       "\t<line x1=\"2345.31\" y1=\"379.92\" x2=\"2305.34\" y2=\"379.92\" style=\"stroke:#000000;stroke-width:5.76\"/>\n",
       "\t<text x=\"2285.29\" y=\"414.95\" style=\"font-family:'Helvetica';font-size:99.99px;fill:#000000\" text-anchor=\"end\">Revised Combined Polity Score (standardized)</text>\n",
       "\t<line x1=\"2345.31\" y1=\"938.18\" x2=\"2305.34\" y2=\"938.18\" style=\"stroke:#000000;stroke-width:5.76\"/>\n",
       "\t<text x=\"2285.29\" y=\"973.21\" style=\"font-family:'Helvetica';font-size:99.99px;fill:#000000\" text-anchor=\"end\">Real GDP per Capita (2005) (standardized)</text>\n",
       "\t<line x1=\"2345.31\" y1=\"1496.31\" x2=\"2305.34\" y2=\"1496.31\" style=\"stroke:#000000;stroke-width:5.76\"/>\n",
       "\t<text x=\"2285.29\" y=\"1531.34\" style=\"font-family:'Helvetica';font-size:99.99px;fill:#000000\" text-anchor=\"end\">Latitude (standardized)</text>\n",
       "\t<line x1=\"2345.31\" y1=\"2054.56\" x2=\"2305.34\" y2=\"2054.56\" style=\"stroke:#000000;stroke-width:5.76\"/>\n",
       "\t<text x=\"2285.29\" y=\"2089.59\" style=\"font-family:'Helvetica';font-size:99.99px;fill:#000000\" text-anchor=\"end\">Ethnic Fractionalization (standardized)</text>\n",
       "\t<line x1=\"2345.31\" y1=\"2333.63\" x2=\"3859.02\" y2=\"2333.63\" style=\"stroke:#000000;stroke-width:5.76\"/>\n",
       "\t<line x1=\"2408.67\" y1=\"2333.63\" x2=\"2408.67\" y2=\"2373.72\" style=\"stroke:#000000;stroke-width:5.76\"/>\n",
       "\t<text x=\"2408.67\" y=\"2463.58\" style=\"font-family:'Helvetica';font-size:99.99px;fill:#000000\" text-anchor=\"middle\">-5</text>\n",
       "\t<line x1=\"2753.93\" y1=\"2333.63\" x2=\"2753.93\" y2=\"2373.72\" style=\"stroke:#000000;stroke-width:5.76\"/>\n",
       "\t<text x=\"2753.93\" y=\"2463.58\" style=\"font-family:'Helvetica';font-size:99.99px;fill:#000000\" text-anchor=\"middle\">0</text>\n",
       "\t<line x1=\"3099.20\" y1=\"2333.63\" x2=\"3099.20\" y2=\"2373.72\" style=\"stroke:#000000;stroke-width:5.76\"/>\n",
       "\t<text x=\"3099.20\" y=\"2463.58\" style=\"font-family:'Helvetica';font-size:99.99px;fill:#000000\" text-anchor=\"middle\">5</text>\n",
       "\t<line x1=\"3444.46\" y1=\"2333.63\" x2=\"3444.46\" y2=\"2373.72\" style=\"stroke:#000000;stroke-width:5.76\"/>\n",
       "\t<text x=\"3444.46\" y=\"2463.58\" style=\"font-family:'Helvetica';font-size:99.99px;fill:#000000\" text-anchor=\"middle\">10</text>\n",
       "\t<line x1=\"3789.60\" y1=\"2333.63\" x2=\"3789.60\" y2=\"2373.72\" style=\"stroke:#000000;stroke-width:5.76\"/>\n",
       "\t<text x=\"3789.60\" y=\"2463.58\" style=\"font-family:'Helvetica';font-size:99.99px;fill:#000000\" text-anchor=\"middle\">15</text>\n",
       "\t<rect x=\"2744.28\" y=\"2558.24\" width=\"715.77\" height=\"186.37\" style=\"fill:#FFFFFF\"/>\n",
       "\t<rect x=\"2747.16\" y=\"2561.12\" width=\"710.01\" height=\"180.61\" style=\"fill:none;stroke:#000000;stroke-width:5.76\"/>\n",
       "\t<circle cx=\"2809.50\" cy=\"2651.43\" r=\"26.35\" style=\"fill:#1A476F\"/>\n",
       "\t<circle cx=\"2809.50\" cy=\"2651.43\" r=\"22.03\" style=\"fill:none;stroke:#1A476F;stroke-width:8.64\"/>\n",
       "\t<circle cx=\"3194.24\" cy=\"2651.43\" r=\"26.35\" style=\"fill:#90353B\"/>\n",
       "\t<circle cx=\"3194.24\" cy=\"2651.43\" r=\"22.03\" style=\"fill:none;stroke:#90353B;stroke-width:8.64\"/>\n",
       "\t<text x=\"2891.54\" y=\"2686.46\" style=\"font-family:'Helvetica';font-size:99.99px;fill:#000000\">m1</text>\n",
       "\t<text x=\"3276.16\" y=\"2686.46\" style=\"font-family:'Helvetica';font-size:99.99px;fill:#000000\">m2</text>\n",
       "</svg>\n"
      ],
      "text/html": [
       "                <iframe frameborder=\"0\" scrolling=\"no\" height=\"436\" width=\"600\"                srcdoc=\"<html><body>&lt;?xml version=&quot;1.0&quot; encoding=&quot;UTF-8&quot; standalone=&quot;no&quot;?&gt;\n",
       "&lt;!-- This is a Stata 16.0 generated SVG file (http://www.stata.com) --&gt;\n",
       "\n",
       "&lt;svg version=&quot;1.1&quot; width=&quot;600px&quot; height=&quot;436px&quot; viewBox=&quot;0 0 3960 2880&quot; xmlns=&quot;http://www.w3.org/2000/svg&quot; xmlns:xlink=&quot;http://www.w3.org/1999/xlink&quot;&gt;\n",
       "\t&lt;desc&gt;Stata Graph - Graph&lt;/desc&gt;\n",
       "\t&lt;rect x=&quot;0&quot; y=&quot;0&quot; width=&quot;3960&quot; height=&quot;2880&quot; style=&quot;fill:#EAF2F3;stroke:none&quot;/&gt;\n",
       "\t&lt;rect x=&quot;0.00&quot; y=&quot;0.00&quot; width=&quot;3959.88&quot; height=&quot;2880.00&quot; style=&quot;fill:#EAF2F3&quot;/&gt;\n",
       "\t&lt;rect x=&quot;2.88&quot; y=&quot;2.88&quot; width=&quot;3954.12&quot; height=&quot;2874.24&quot; style=&quot;fill:none;stroke:#EAF2F3;stroke-width:5.76&quot;/&gt;\n",
       "\t&lt;rect x=&quot;2345.31&quot; y=&quot;100.86&quot; width=&quot;1513.71&quot; height=&quot;2232.77&quot; style=&quot;fill:#FFFFFF&quot;/&gt;\n",
       "\t&lt;rect x=&quot;2348.19&quot; y=&quot;103.74&quot; width=&quot;1507.95&quot; height=&quot;2227.01&quot; style=&quot;fill:none;stroke:#FFFFFF;stroke-width:5.76&quot;/&gt;\n",
       "\t&lt;line x1=&quot;2345.31&quot; y1=&quot;658.99&quot; x2=&quot;3859.02&quot; y2=&quot;658.99&quot; style=&quot;stroke:#EAF2F3;stroke-width:8.64&quot;/&gt;\n",
       "\t&lt;line x1=&quot;2345.31&quot; y1=&quot;658.99&quot; x2=&quot;3859.02&quot; y2=&quot;658.99&quot; style=&quot;stroke:#EAF2F3;stroke-width:8.64&quot;/&gt;\n",
       "\t&lt;line x1=&quot;2345.31&quot; y1=&quot;1217.24&quot; x2=&quot;3859.02&quot; y2=&quot;1217.24&quot; style=&quot;stroke:#EAF2F3;stroke-width:8.64&quot;/&gt;\n",
       "\t&lt;line x1=&quot;2345.31&quot; y1=&quot;1217.24&quot; x2=&quot;3859.02&quot; y2=&quot;1217.24&quot; style=&quot;stroke:#EAF2F3;stroke-width:8.64&quot;/&gt;\n",
       "\t&lt;line x1=&quot;2345.31&quot; y1=&quot;1775.50&quot; x2=&quot;3859.02&quot; y2=&quot;1775.50&quot; style=&quot;stroke:#EAF2F3;stroke-width:8.64&quot;/&gt;\n",
       "\t&lt;line x1=&quot;2345.31&quot; y1=&quot;1775.50&quot; x2=&quot;3859.02&quot; y2=&quot;1775.50&quot; style=&quot;stroke:#EAF2F3;stroke-width:8.64&quot;/&gt;\n",
       "\t&lt;line x1=&quot;2753.93&quot; y1=&quot;2333.63&quot; x2=&quot;2753.93&quot; y2=&quot;100.86&quot; style=&quot;stroke:#C10534;stroke-width:8.64&quot;/&gt;\n",
       "\t&lt;line x1=&quot;3152.78&quot; y1=&quot;286.86&quot; x2=&quot;3530.09&quot; y2=&quot;286.86&quot; style=&quot;stroke:#1A476F;stroke-width:8.64&quot;/&gt;\n",
       "\t&lt;circle cx=&quot;3341.37&quot; cy=&quot;286.99&quot; r=&quot;26.35&quot; style=&quot;fill:#1A476F&quot;/&gt;\n",
       "\t&lt;circle cx=&quot;3341.37&quot; cy=&quot;286.99&quot; r=&quot;22.03&quot; style=&quot;fill:none;stroke:#1A476F;stroke-width:8.64&quot;/&gt;\n",
       "\t&lt;line x1=&quot;2939.93&quot; y1=&quot;472.99&quot; x2=&quot;3239.90&quot; y2=&quot;472.99&quot; style=&quot;stroke:#90353B;stroke-width:8.64&quot;/&gt;\n",
       "\t&lt;line x1=&quot;3431.84&quot; y1=&quot;1031.12&quot; x2=&quot;3795.66&quot; y2=&quot;1031.12&quot; style=&quot;stroke:#90353B;stroke-width:8.64&quot;/&gt;\n",
       "\t&lt;line x1=&quot;2798.98&quot; y1=&quot;1589.37&quot; x2=&quot;3206.24&quot; y2=&quot;1589.37&quot; style=&quot;stroke:#90353B;stroke-width:8.64&quot;/&gt;\n",
       "\t&lt;line x1=&quot;2495.79&quot; y1=&quot;2147.62&quot; x2=&quot;2826.57&quot; y2=&quot;2147.62&quot; style=&quot;stroke:#90353B;stroke-width:8.64&quot;/&gt;\n",
       "\t&lt;circle cx=&quot;3089.91&quot; cy=&quot;472.99&quot; r=&quot;26.35&quot; style=&quot;fill:#90353B&quot;/&gt;\n",
       "\t&lt;circle cx=&quot;3089.91&quot; cy=&quot;472.99&quot; r=&quot;22.03&quot; style=&quot;fill:none;stroke:#90353B;stroke-width:8.64&quot;/&gt;\n",
       "\t&lt;circle cx=&quot;3613.75&quot; cy=&quot;1031.24&quot; r=&quot;26.35&quot; style=&quot;fill:#90353B&quot;/&gt;\n",
       "\t&lt;circle cx=&quot;3613.75&quot; cy=&quot;1031.24&quot; r=&quot;22.03&quot; style=&quot;fill:none;stroke:#90353B;stroke-width:8.64&quot;/&gt;\n",
       "\t&lt;circle cx=&quot;3002.55&quot; cy=&quot;1589.49&quot; r=&quot;26.35&quot; style=&quot;fill:#90353B&quot;/&gt;\n",
       "\t&lt;circle cx=&quot;3002.55&quot; cy=&quot;1589.49&quot; r=&quot;22.03&quot; style=&quot;fill:none;stroke:#90353B;stroke-width:8.64&quot;/&gt;\n",
       "\t&lt;circle cx=&quot;2661.12&quot; cy=&quot;2147.62&quot; r=&quot;26.35&quot; style=&quot;fill:#90353B&quot;/&gt;\n",
       "\t&lt;circle cx=&quot;2661.12&quot; cy=&quot;2147.62&quot; r=&quot;22.03&quot; style=&quot;fill:none;stroke:#90353B;stroke-width:8.64&quot;/&gt;\n",
       "\t&lt;line x1=&quot;2345.31&quot; y1=&quot;2333.63&quot; x2=&quot;2345.31&quot; y2=&quot;100.86&quot; style=&quot;stroke:#000000;stroke-width:5.76&quot;/&gt;\n",
       "\t&lt;line x1=&quot;2345.31&quot; y1=&quot;379.92&quot; x2=&quot;2305.34&quot; y2=&quot;379.92&quot; style=&quot;stroke:#000000;stroke-width:5.76&quot;/&gt;\n",
       "\t&lt;text x=&quot;2285.29&quot; y=&quot;414.95&quot; style=&quot;font-family:&#x27;Helvetica&#x27;;font-size:99.99px;fill:#000000&quot; text-anchor=&quot;end&quot;&gt;Revised Combined Polity Score (standardized)&lt;/text&gt;\n",
       "\t&lt;line x1=&quot;2345.31&quot; y1=&quot;938.18&quot; x2=&quot;2305.34&quot; y2=&quot;938.18&quot; style=&quot;stroke:#000000;stroke-width:5.76&quot;/&gt;\n",
       "\t&lt;text x=&quot;2285.29&quot; y=&quot;973.21&quot; style=&quot;font-family:&#x27;Helvetica&#x27;;font-size:99.99px;fill:#000000&quot; text-anchor=&quot;end&quot;&gt;Real GDP per Capita (2005) (standardized)&lt;/text&gt;\n",
       "\t&lt;line x1=&quot;2345.31&quot; y1=&quot;1496.31&quot; x2=&quot;2305.34&quot; y2=&quot;1496.31&quot; style=&quot;stroke:#000000;stroke-width:5.76&quot;/&gt;\n",
       "\t&lt;text x=&quot;2285.29&quot; y=&quot;1531.34&quot; style=&quot;font-family:&#x27;Helvetica&#x27;;font-size:99.99px;fill:#000000&quot; text-anchor=&quot;end&quot;&gt;Latitude (standardized)&lt;/text&gt;\n",
       "\t&lt;line x1=&quot;2345.31&quot; y1=&quot;2054.56&quot; x2=&quot;2305.34&quot; y2=&quot;2054.56&quot; style=&quot;stroke:#000000;stroke-width:5.76&quot;/&gt;\n",
       "\t&lt;text x=&quot;2285.29&quot; y=&quot;2089.59&quot; style=&quot;font-family:&#x27;Helvetica&#x27;;font-size:99.99px;fill:#000000&quot; text-anchor=&quot;end&quot;&gt;Ethnic Fractionalization (standardized)&lt;/text&gt;\n",
       "\t&lt;line x1=&quot;2345.31&quot; y1=&quot;2333.63&quot; x2=&quot;3859.02&quot; y2=&quot;2333.63&quot; style=&quot;stroke:#000000;stroke-width:5.76&quot;/&gt;\n",
       "\t&lt;line x1=&quot;2408.67&quot; y1=&quot;2333.63&quot; x2=&quot;2408.67&quot; y2=&quot;2373.72&quot; style=&quot;stroke:#000000;stroke-width:5.76&quot;/&gt;\n",
       "\t&lt;text x=&quot;2408.67&quot; y=&quot;2463.58&quot; style=&quot;font-family:&#x27;Helvetica&#x27;;font-size:99.99px;fill:#000000&quot; text-anchor=&quot;middle&quot;&gt;-5&lt;/text&gt;\n",
       "\t&lt;line x1=&quot;2753.93&quot; y1=&quot;2333.63&quot; x2=&quot;2753.93&quot; y2=&quot;2373.72&quot; style=&quot;stroke:#000000;stroke-width:5.76&quot;/&gt;\n",
       "\t&lt;text x=&quot;2753.93&quot; y=&quot;2463.58&quot; style=&quot;font-family:&#x27;Helvetica&#x27;;font-size:99.99px;fill:#000000&quot; text-anchor=&quot;middle&quot;&gt;0&lt;/text&gt;\n",
       "\t&lt;line x1=&quot;3099.20&quot; y1=&quot;2333.63&quot; x2=&quot;3099.20&quot; y2=&quot;2373.72&quot; style=&quot;stroke:#000000;stroke-width:5.76&quot;/&gt;\n",
       "\t&lt;text x=&quot;3099.20&quot; y=&quot;2463.58&quot; style=&quot;font-family:&#x27;Helvetica&#x27;;font-size:99.99px;fill:#000000&quot; text-anchor=&quot;middle&quot;&gt;5&lt;/text&gt;\n",
       "\t&lt;line x1=&quot;3444.46&quot; y1=&quot;2333.63&quot; x2=&quot;3444.46&quot; y2=&quot;2373.72&quot; style=&quot;stroke:#000000;stroke-width:5.76&quot;/&gt;\n",
       "\t&lt;text x=&quot;3444.46&quot; y=&quot;2463.58&quot; style=&quot;font-family:&#x27;Helvetica&#x27;;font-size:99.99px;fill:#000000&quot; text-anchor=&quot;middle&quot;&gt;10&lt;/text&gt;\n",
       "\t&lt;line x1=&quot;3789.60&quot; y1=&quot;2333.63&quot; x2=&quot;3789.60&quot; y2=&quot;2373.72&quot; style=&quot;stroke:#000000;stroke-width:5.76&quot;/&gt;\n",
       "\t&lt;text x=&quot;3789.60&quot; y=&quot;2463.58&quot; style=&quot;font-family:&#x27;Helvetica&#x27;;font-size:99.99px;fill:#000000&quot; text-anchor=&quot;middle&quot;&gt;15&lt;/text&gt;\n",
       "\t&lt;rect x=&quot;2744.28&quot; y=&quot;2558.24&quot; width=&quot;715.77&quot; height=&quot;186.37&quot; style=&quot;fill:#FFFFFF&quot;/&gt;\n",
       "\t&lt;rect x=&quot;2747.16&quot; y=&quot;2561.12&quot; width=&quot;710.01&quot; height=&quot;180.61&quot; style=&quot;fill:none;stroke:#000000;stroke-width:5.76&quot;/&gt;\n",
       "\t&lt;circle cx=&quot;2809.50&quot; cy=&quot;2651.43&quot; r=&quot;26.35&quot; style=&quot;fill:#1A476F&quot;/&gt;\n",
       "\t&lt;circle cx=&quot;2809.50&quot; cy=&quot;2651.43&quot; r=&quot;22.03&quot; style=&quot;fill:none;stroke:#1A476F;stroke-width:8.64&quot;/&gt;\n",
       "\t&lt;circle cx=&quot;3194.24&quot; cy=&quot;2651.43&quot; r=&quot;26.35&quot; style=&quot;fill:#90353B&quot;/&gt;\n",
       "\t&lt;circle cx=&quot;3194.24&quot; cy=&quot;2651.43&quot; r=&quot;22.03&quot; style=&quot;fill:none;stroke:#90353B;stroke-width:8.64&quot;/&gt;\n",
       "\t&lt;text x=&quot;2891.54&quot; y=&quot;2686.46&quot; style=&quot;font-family:&#x27;Helvetica&#x27;;font-size:99.99px;fill:#000000&quot;&gt;m1&lt;/text&gt;\n",
       "\t&lt;text x=&quot;3276.16&quot; y=&quot;2686.46&quot; style=&quot;font-family:&#x27;Helvetica&#x27;;font-size:99.99px;fill:#000000&quot;&gt;m2&lt;/text&gt;\n",
       "&lt;/svg&gt;\n",
       "</body></html>\"></iframe>\n"
      ],
      "text/plain": [
       "This front-end cannot display the desired image type."
      ]
     },
     "metadata": {
      "image/svg+xml": {
       "height": 436,
       "width": 600
      },
      "text/html": {
       "height": 436,
       "width": 600
      }
     },
     "output_type": "display_data"
    }
   ],
   "source": [
    "quietly reg ti_cpi std_p_polity2\n",
    "estimates store m1\n",
    "\n",
    "quietly reg ti_cpi std_p_polity2 std_gle_rgdpc std_lp_lat_abst std_al_ethnic\n",
    "estimates store m2\n",
    "\n",
    "coefplot m1 m2, xline(0) drop(_cons)"
   ]
  },
  {
   "cell_type": "markdown",
   "metadata": {},
   "source": [
    "Koefficienter från modell 1 (\"m1\") visas nu i blå färg. Det är bara en - graden av demokrati. Koefficienterna från den andra modellen (\"m2\") ritas ut med röd färg. Vi kan då se att effekten av demokrati minskar när vi lägger till kontrollvariablerna - pricken flyttas närmare noll."
   ]
  },
  {
   "cell_type": "markdown",
   "metadata": {},
   "source": [
    "## Exportera grafen till .png eller .pdf\n",
    "\n",
    "Medan grafen fortfarande är öppen i Stata kan man sedan skriva `graph export` för att spara grafen som en bildfil eller en pdf. Sedan går det lätt att lägga in den i ett Worddokument eller publicera på webben."
   ]
  },
  {
   "cell_type": "code",
   "execution_count": 22,
   "metadata": {},
   "outputs": [
    {
     "name": "stdout",
     "output_type": "stream",
     "text": [
      "(file coefplot_ticpi.pdf written in PDF format)\n"
     ]
    }
   ],
   "source": [
    "graph export \"coefplot_ticpi.pdf\", replace"
   ]
  },
  {
   "cell_type": "markdown",
   "metadata": {},
   "source": [
    "## Avslutning\n",
    "\n",
    "Självklart går det att jobba mycket med grafen för att få den att se snyggare ut - kolla in `help coefplot` för att se vad som går att göra.\n",
    "\n",
    "Om du har många variabler kan det också vara bra att använda option `keep()` för att fokusera på särskilda koefficienter, kanske i många olika modeller. Då kan man lätt se hur effekten av en huvudvariabel förändras när man kontrollerar för olika saker.\n",
    "\n",
    "[Tabeller](esttab_sv.html) kan fortfarande vara ett bra sätt att presentera resultat från regressionsanalyser, särskilt om man inte har så många variabler. Många vetenskapliga tidskrifter uppmuntrar dock numera till användning av grafer för att presentera resultat av den här typen, så det är åtminstone bra att känna till hur man skapar och läser av dem."
   ]
  }
 ],
 "metadata": {
  "kernelspec": {
   "display_name": "Stata",
   "language": "stata",
   "name": "stata"
  },
  "language_info": {
   "codemirror_mode": "stata",
   "file_extension": ".do",
   "mimetype": "text/x-stata",
   "name": "stata",
   "version": "15.1"
  }
 },
 "nbformat": 4,
 "nbformat_minor": 4
}
