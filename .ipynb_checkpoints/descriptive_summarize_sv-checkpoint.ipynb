{
 "cells": [
  {
   "cell_type": "markdown",
   "metadata": {},
   "source": [
    "# Enkel beskrivande statistik\n",
    "\n",
    "*av Anders Sundell*\n",
    "\n",
    "Det första man bör göra när man börjar jobba med en datamängd är att bekanta sig med de relevanta variablerna. Hur många analysenheter har vi information om? Vad är spridningen i värden? Vad är centralmåtten, som medelvärde och median? Vad är min och max?\n",
    "\n",
    "Dels behöver man informationen för att göra bättre analyser, men eftersom informationen också behövs för att tolka resultaten på rätt sätt är det också bra att presentera dem när man skriver om resultaten. Ofta inleds de empiriska delarna i uppsatser med någon enklare beskrivande statistik. För detta finns det många olika kommandon att använda. Jag kommer här gå igenom några av de enklaste och mest användbara.\n",
    "\n",
    "För att ha något att jobba med kommer vi i det här exemplet att använda oss av <a href=\"https://qog.pol.gu.se/data/datadownloads/qogbasicdata\">QoG basic-datamängden</a>. Här har jag skrivit in sökvägen till datamängden direkt på internet, men man kan givetvis ladda ned den till sin dator och öppna den därifrån istället - det är vanligtvis att rekommendera."
   ]
  },
  {
   "cell_type": "code",
   "execution_count": 1,
   "metadata": {},
   "outputs": [
    {
     "name": "stdout",
     "output_type": "stream",
     "text": [
      "(Quality of Government Basic dataset 2018 - Cross-Section)\n"
     ]
    }
   ],
   "source": [
    "use \"https://www.qogdata.pol.gu.se/data/qog_bas_cs_jan18.dta\", clear"
   ]
  },
  {
   "cell_type": "markdown",
   "metadata": {},
   "source": [
    "## Codebook\n",
    "\n",
    "Kommandot codebook ger en översiktlig sammanfattning av en variabel, hur många analysenheter som har giltiga värden, om det finns någon etikett på de olika värdena, med mera. Vi provar att använda det på variabeln fh_status, som visar hur fritt ett land är, som mätt av den amerikanska organisationen Freedom House."
   ]
  },
  {
   "cell_type": "code",
   "execution_count": 2,
   "metadata": {},
   "outputs": [
    {
     "name": "stdout",
     "output_type": "stream",
     "text": [
      "\n",
      "---------------------------------------------------------------------------------------------------------------------------------------------------------------------------------------------------------------------------------------------------------------\n",
      "fh_status                                                                                                                                                                                                                                        Freedom Status\n",
      "---------------------------------------------------------------------------------------------------------------------------------------------------------------------------------------------------------------------------------------------------------------\n",
      "\n",
      "                  type:  numeric (byte)\n",
      "                 label:  lblfhstatus\n",
      "\n",
      "                 range:  [1,3]                        units:  1\n",
      "         unique values:  3                        missing .:  0/194\n",
      "\n",
      "            tabulation:  Freq.   Numeric  Label\n",
      "                            89         1  Free\n",
      "                            54         2  Partly Free\n",
      "                            51         3  Not Free\n"
     ]
    }
   ],
   "source": [
    "codebook fh_status"
   ]
  },
  {
   "cell_type": "markdown",
   "metadata": {},
   "source": [
    "Först på type ser vi att det är en numerisk variabel. Den har alltså siffervärden, även om koderna i det här fallet motsvarar olika kvalitativa bedömningar.\n",
    "\n",
    "Vi ser att range är 1,3, vilket betyder att variabeln har värden som spänner mellan 1 och 3. Det finns också 3 unika (alltså olika) värden i datamängden.\n",
    "\n",
    "0 av 194 analysenheter i datamängden har \"missing\" på variabeln, vilket är bra. Variabelns information finns för alla länder i datamängden.\n",
    "\n",
    "Slutligen får vi också en så kallad frekvenstabell, som visar hur många analysenheter (i kolumnen Freq.) som har varje värde, och vad det värdet har för etikett (tex Free)."
   ]
  },
  {
   "cell_type": "code",
   "execution_count": 11,
   "metadata": {},
   "outputs": [
    {
     "name": "stdout",
     "output_type": "stream",
     "text": [
      "\n",
      "    Freedom |\n",
      "     Status |      Freq.     Percent        Cum.\n",
      "------------+-----------------------------------\n",
      "          1 |         89       45.88       45.88\n",
      "          2 |         54       27.84       73.71\n",
      "          3 |         51       26.29      100.00\n",
      "------------+-----------------------------------\n",
      "      Total |        194      100.00\n"
     ]
    }
   ],
   "source": [
    "tab fh_status, nolabel"
   ]
  }
 ],
 "metadata": {
  "kernelspec": {
   "display_name": "Stata",
   "language": "stata",
   "name": "stata"
  },
  "language_info": {
   "file_extension": ".do",
   "mimetype": "text/x-stata",
   "name": "stata"
  }
 },
 "nbformat": 4,
 "nbformat_minor": 2
}
