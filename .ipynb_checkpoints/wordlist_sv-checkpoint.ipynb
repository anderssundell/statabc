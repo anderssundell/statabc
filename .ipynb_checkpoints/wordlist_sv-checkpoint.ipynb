{
 "cells": [
  {
   "cell_type": "markdown",
   "metadata": {},
   "source": [
    "# Ordlista med korta förklaringar\n",
    "\n",
    "*av Anders Sundell*\n",
    "\n",
    "Här är en ordlista med kortfattade förklaringar av vanliga begrepp inom statistisk analys."
   ]
  },
  {
   "cell_type": "markdown",
   "metadata": {},
   "source": [
    "| | **ORDLISTA**   |\n",
    "|-------------|---------|\n",
    "| **GENERELLA BEGREPP** |    |\n",
    "| *Analysenhet* | De enheter som vi jämför. Till exempel länder, individer, år, aktier, kommuner, osv.\n",
    "| *Variabel*    | Egenskap hos analysenheterna som varierar. Till exempel längd, ålder eller partillhörighet hos individer, eller befolkning, grad av demokrati eller klimat hos länder.\n",
    "| *Kausalitet*  | Orsaksförhållande. I ett kausalt samband förväntas den ena variabeln ha påverkat den andra.\n",
    "| *Centralmått* | Ett värde som sammanfattar tendensen i ett datamaterial.\n",
    "| *Fördelning*  | Hur värdena fördelar sig över alla möjliga värden.\n",
    "| *Spridning*   | Hur värdena är fördelade kring centralmåttet.\n",
    "| *Korrelation* | Grad av samvariation mellan två variabler.\n",
    "| *Kovarians*   | Grad av samvariation mellan två variabler.\n",
    "| **CENTRALMÅTT** |       \n",
    "| *Medelvärde*  | Det värde man får om man summerar alla enskilda värden och dividerar med antalet enheter. <br> Formel: $\\bar{x} = \\frac{1}{n}\\sum_{i=1}^n x_i$\n",
    "| *Median* | Det värde man får om man arrangerar alla värden i storleksordning, och tar det som är på mitten (eller mittemellan de två som är i mitten).\n",
    "| *Typvärde*            | Det enskilt vanligaste värdet.\n",
    "| **SPRIDNINGSMÅTT** |    \n",
    "| *Varians* |  <br> Ett mått på avvikelsen från medelvärdet, som används i många andra beräkningar. <br> Formel: $V = \\frac{\\sum_{i=1}^n (x_i - \\bar{x})^2)}{n-1}$ <br> Formeln betyder att man tar varje enskild observations avvikelse från medelvärdet, kvadrerar den, och sedan summerar man alla de kvadrerade avvikelserna, delar med n-1, och tar sedan roten ur detta.\n",
    "| *Standardavvikelse* | Ett mått på den typiska avvikelsen från medelvärdet. Beräknas som roten av variansen. <br> Formel: $s = \\sqrt{V}$\n",
    "| **VARIABELSPRÅKET** |  \n",
    "| *Beroende variabel*  | Den variabel vi vill förklara. Kallas ibland utfallsvariabel, eller på engelska dependent variable eller outcome variable.\n",
    "| *Oberoende variabel*  | Den variabel vi tror förklarar den beroende variabeln. Kallas ibland prediktor, eller på engelska independent varaible, determinant eller predictor.\n",
    "| *Kontrollvariabel*   | Ytterligare variabel som förs in i analysen, oftast för att utesluta spuriositet.\n",
    "| *Bakomliggande variabel* | Variabel som kommer före den oberoende variabeln i den tänkta orsakskedjan. Kan ofta vara bra att kontrollera för.\n",
    "| *Mellanliggande variabel* | Variabel som kommer mellan den oberoende variabeln och den beroende variabeln i den tänkta orsakskedjan. Ska *inte* kontrolleras för om man vill utesluta spuriositet.\n",
    "| **TYPER AV SAMBAND** |\n",
    "| *Nollsamband*       | Brist på korrelation mellan två variabler.\n",
    "| *Positivt samband*  | Samband där mer av den ena variabeln hänger ihop med mer av den andra, och där mindre av den ena variabeln hänger ihop med mindre av den andra.\n",
    "| *Negativt samband*  | Samband där mer av den ena variabeln hänger ihop med mindre av den andra, och där mindre av den ena variabeln hänger ihop med mer av den andra.\n",
    "| *Kausalt samband*   | Samband där den oberoende variabeln orsakar den beroende.\n",
    "| *Spuriöst samband*  | Samband mellan två variabler som orsakats av att en tredje variabel orsakat både oberoende och beroende.\n",
    "| *Undertryckt samband* | Egentligen existerande samband mellan två variabler, som döljs av att en tredje variabel hänger ihop med mindre värden på den ena variabeln och högre på den andra, eller tvärtom.\n",
    "| **ANALYSTEKNIKER** |   \n",
    "| *Univariat analys*   | Analys av en variabel. Till exempel beräkning av medelvärde.\n",
    "| *Bivariat analys*    | Analys av samband mellan två variabler.\n",
    "| *Korrelationsanalys* | Analys som visar sambandets riktning och styrka mellan två variabler. Det finns många olika korrelationsmått, men det vanligaste är Pearson's R.\n",
    "| *Regressionsanalys*  | Analys där linje passas till en mängd punkter. Ger uppgifter om linjens lutning, sambandets styrka, osäkerhet i skattningen av linjen, m.m.\n",
    "| *Multipel regressionsanalys* | Regressionsanalys med fler än en oberoende variabel.\n",
    "| *Logistisk regressionsanalys* | Typ av regressionsanalys anpassat för fall där den beroende variabeln bara har värdet 0 eller 1.\n",
    "| *Faktoranalys*       | Analys där man försöker hitta gemensamma nämnare mellan olika variabler. Dvs reducera datan för att se om det finns någon latent variabel, som vi inte observerat, som kan förklara variationen i flera variabler.\n",
    "| **DIAGRAM** |\n",
    "| *Histogram* | Visar fördelningen av en variabel. Heter samma på engelska.\n",
    "| *Spridningsdiagram* | Visar sambandet mellan två variabler genom att rita ut analysenheterna som punkter utifrån två axlar. Engelska: Scatterplot.\n",
    "| **BEGREPP INOM REGRESSIONSANALYS** |\n",
    "| *Regressionslinje* | Den linje som passar bäst till punktmängden.\n",
    "| *B-koefficient* | Lutning på regressionslinjen. Hur mycket den beroende variabeln förväntas öka när den oberoende variabeln ökar med ett steg.\n",
    "| *Konstant/intercept* | Det förväntade värdet på den beroende variabeln när alla oberoende variabler i analysen har värdet 0.\n",
    "| *$R^2$* | Ett mått på hur mycket av variationen i den beroende variabeln som kan förklaras av de oberoende variablerna. Går mellan 0 och 1. 0.5 kan tolkas som \"50% av variationen i den beroende variabeln förklaras av de oberoende variablerna.\"\n",
    "| *Standardfel* | Ett mått på osäkerheten i skattningen av b-koefficienten. Engelska: Standard error.\n",
    "| *t-värde* | B-koefficienten delat med standardfelet. Används för att beräkna signifikansvärdet.\n",
    "| *p-värde* | Signifikansvärdet. Visar hur osannolikt det är att man skulle få en b-koefficient som är minst så stor, givet att nollhypotesen stämmer. Är egentligen bara intressant när man analyserar ett urval, eller har en slumpmässig tilldelning i ett experiment. Men trots detta används det ofta som beslutsregel för att avgöra när samband är starka nog att tolkas. Den vanliga beslutsregeln är att p-värden under 0.05 räknas som signifikanta. Räknas fram genom att jämföra t-värdet med en t-fördelning, som beror på hur många analysenheter man har med i analysen. "
   ]
  }
 ],
 "metadata": {
  "kernelspec": {
   "display_name": "Stata",
   "language": "stata",
   "name": "stata"
  },
  "language_info": {
   "codemirror_mode": "stata",
   "file_extension": ".do",
   "mimetype": "text/x-stata",
   "name": "stata",
   "version": "15.1"
  }
 },
 "nbformat": 4,
 "nbformat_minor": 4
}
