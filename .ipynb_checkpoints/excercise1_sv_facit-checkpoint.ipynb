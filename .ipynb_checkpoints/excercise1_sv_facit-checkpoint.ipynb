{
 "cells": [
  {
   "cell_type": "markdown",
   "metadata": {},
   "source": [
    "# Övningsuppgifter 1 - facit"
   ]
  },
  {
   "cell_type": "markdown",
   "metadata": {},
   "source": [
    "*Av Anders Sundell*\n",
    "\n",
    "Här är facit till Övningsuppgifter 1. [Klicka här för att komma tillbaka till själva uppgifterna.](excercise1_sv.html)"
   ]
  },
  {
   "cell_type": "code",
   "execution_count": 36,
   "metadata": {},
   "outputs": [
    {
     "name": "stdout",
     "output_type": "stream",
     "text": [
      "(Quality of Government Basic dataset 2018 - Cross-Section)\n"
     ]
    }
   ],
   "source": [
    "use \"https://www.qogdata.pol.gu.se/dataarchive/qog_bas_cs_jan18.dta\", clear"
   ]
  },
  {
   "cell_type": "markdown",
   "metadata": {},
   "source": [
    "## Datahantering\n",
    "\n",
    "**Fråga 1.** Skapa en variabel, `dum_demokrati`, som har värdet 1 om fh_status har värdet 1, och 0 annars."
   ]
  },
  {
   "cell_type": "code",
   "execution_count": 16,
   "metadata": {},
   "outputs": [
    {
     "name": "stdout",
     "output_type": "stream",
     "text": [
      "(105 differences between fh_status and dum_demokrati)\n"
     ]
    }
   ],
   "source": [
    "recode fh_status (1=1) (2 3 = 0), generate(dum_demokrati)"
   ]
  },
  {
   "cell_type": "markdown",
   "metadata": {},
   "source": [
    "**Fråga 2.** Variablerna `wdi_expedu` och `wdi_exph` visar statens utgifter för utbildning respektive sjukvård som andel av BNP. Skapa en variabel som visar statens utgifter för utbildning och sjukvård. Kalla den `eduhealth`."
   ]
  },
  {
   "cell_type": "code",
   "execution_count": 17,
   "metadata": {},
   "outputs": [
    {
     "name": "stdout",
     "output_type": "stream",
     "text": [
      "(55 missing values generated)\n"
     ]
    }
   ],
   "source": [
    "gen eduhealth = wdi_expedu + wdi_exph"
   ]
  },
  {
   "cell_type": "markdown",
   "metadata": {},
   "source": [
    "**Fråga 3.** Gör en variabel som visar hur mycket mer stater lägger på sjukvård jämfört med utbildning. Kalla den `eduhealthdiff`."
   ]
  },
  {
   "cell_type": "code",
   "execution_count": 18,
   "metadata": {},
   "outputs": [
    {
     "name": "stdout",
     "output_type": "stream",
     "text": [
      "(55 missing values generated)\n"
     ]
    }
   ],
   "source": [
    "gen eduhealthdiff = wdi_exph - wdi_expedu"
   ]
  },
  {
   "cell_type": "markdown",
   "metadata": {},
   "source": [
    "**Fråga 4.** Variabeln `gle_rgdpc` visar BNP per capita i antal dollar. Gör en variabel `gdpc_1000` som visar BNP per capita, fast i tusentals dollar."
   ]
  },
  {
   "cell_type": "code",
   "execution_count": 22,
   "metadata": {},
   "outputs": [
    {
     "name": "stdout",
     "output_type": "stream",
     "text": [
      "(2 missing values generated)\n"
     ]
    }
   ],
   "source": [
    "gen gdpc_1000 = gle_rgdpc/1000"
   ]
  },
  {
   "cell_type": "markdown",
   "metadata": {},
   "source": [
    "**Fråga 5.** Variabeln `ht_colonial` visar vem landet tidigare varit koloniserad av. Ersätt alla 0 (aldrig koloniserat) med tecknet för missing, . "
   ]
  },
  {
   "cell_type": "code",
   "execution_count": 23,
   "metadata": {},
   "outputs": [
    {
     "name": "stdout",
     "output_type": "stream",
     "text": [
      "(ht_colonial: 71 changes made)\n"
     ]
    }
   ],
   "source": [
    "recode ht_colonial (0=.)"
   ]
  },
  {
   "cell_type": "markdown",
   "metadata": {},
   "source": [
    "## Beskrivande statistik\n",
    "**Fråga 1.** Variablerna `wdi_lifexpf` och `wdi_lifexpm` visar förväntad livslängd vid födseln för kvinnor respektive män. Vad är medelvärdet för var och en de två variablerna?"
   ]
  },
  {
   "cell_type": "code",
   "execution_count": 25,
   "metadata": {},
   "outputs": [
    {
     "name": "stdout",
     "output_type": "stream",
     "text": [
      "\n",
      "    Variable |        Obs        Mean    Std. Dev.       Min        Max\n",
      "-------------+---------------------------------------------------------\n",
      " wdi_lifexpf |        185    73.75092    8.548731     51.505      86.83\n",
      " wdi_lifexpm |        185    68.87415    7.874813     48.913       81.3\n"
     ]
    }
   ],
   "source": [
    "sum wdi_lifexpf wdi_lifexpm"
   ]
  },
  {
   "cell_type": "markdown",
   "metadata": {},
   "source": [
    "\n",
    "**Fråga 2.** Gör ett histogram för variabeln `unna_pop`, som visar landets befolkningsantal."
   ]
  },
  {
   "cell_type": "code",
   "execution_count": 26,
   "metadata": {},
   "outputs": [
    {
     "name": "stdout",
     "output_type": "stream",
     "text": [
      "(bin=13, start=9893, width=1.053e+08)\n"
     ]
    },
    {
     "data": {
      "application/pdf": "[encoded data removed]",
      "image/svg+xml": [
       "<?xml version=\"1.0\" encoding=\"UTF-8\" standalone=\"no\"?>\n",
       "<!-- This is a Stata 16.0 generated SVG file (http://www.stata.com) -->\n",
       "\n",
       "<svg version=\"1.1\" width=\"600px\" height=\"436px\" viewBox=\"0 0 3960 2880\" xmlns=\"http://www.w3.org/2000/svg\" xmlns:xlink=\"http://www.w3.org/1999/xlink\">\n",
       "\t<desc>Stata Graph - Graph</desc>\n",
       "\t<rect x=\"0\" y=\"0\" width=\"3960\" height=\"2880\" style=\"fill:#EAF2F3;stroke:none\"/>\n",
       "\t<rect x=\"0.00\" y=\"0.00\" width=\"3959.88\" height=\"2880.00\" style=\"fill:#EAF2F3\"/>\n",
       "\t<rect x=\"2.88\" y=\"2.88\" width=\"3954.12\" height=\"2874.24\" style=\"fill:none;stroke:#EAF2F3;stroke-width:5.76\"/>\n",
       "\t<rect x=\"390.80\" y=\"100.86\" width=\"3468.22\" height=\"2388.33\" style=\"fill:#FFFFFF\"/>\n",
       "\t<rect x=\"393.68\" y=\"103.74\" width=\"3462.46\" height=\"2382.57\" style=\"fill:none;stroke:#FFFFFF;stroke-width:5.76\"/>\n",
       "\t<line x1=\"390.80\" y1=\"2489.19\" x2=\"3859.02\" y2=\"2489.19\" style=\"stroke:#EAF2F3;stroke-width:8.64\"/>\n",
       "\t<line x1=\"390.80\" y1=\"2024.24\" x2=\"3859.02\" y2=\"2024.24\" style=\"stroke:#EAF2F3;stroke-width:8.64\"/>\n",
       "\t<line x1=\"390.80\" y1=\"1559.17\" x2=\"3859.02\" y2=\"1559.17\" style=\"stroke:#EAF2F3;stroke-width:8.64\"/>\n",
       "\t<line x1=\"390.80\" y1=\"1094.23\" x2=\"3859.02\" y2=\"1094.23\" style=\"stroke:#EAF2F3;stroke-width:8.64\"/>\n",
       "\t<line x1=\"390.80\" y1=\"629.16\" x2=\"3859.02\" y2=\"629.16\" style=\"stroke:#EAF2F3;stroke-width:8.64\"/>\n",
       "\t<line x1=\"390.80\" y1=\"164.22\" x2=\"3859.02\" y2=\"164.22\" style=\"stroke:#EAF2F3;stroke-width:8.64\"/>\n",
       "\t<rect x=\"567.52\" y=\"407.77\" width=\"226.71\" height=\"2081.42\" style=\"fill:#CAC27E\"/>\n",
       "\t<rect x=\"571.84\" y=\"412.09\" width=\"218.07\" height=\"2072.78\" style=\"fill:none;stroke:#D7D29E;stroke-width:8.64\"/>\n",
       "\t<rect x=\"794.23\" y=\"2409.12\" width=\"226.71\" height=\"80.07\" style=\"fill:#CAC27E\"/>\n",
       "\t<rect x=\"798.55\" y=\"2413.44\" width=\"218.07\" height=\"71.43\" style=\"fill:none;stroke:#D7D29E;stroke-width:8.64\"/>\n",
       "\t<rect x=\"1020.94\" y=\"2477.80\" width=\"226.71\" height=\"11.39\" style=\"fill:#CAC27E\"/>\n",
       "\t<rect x=\"1025.26\" y=\"2482.12\" width=\"218.07\" height=\"2.75\" style=\"fill:none;stroke:#D7D29E;stroke-width:8.64\"/>\n",
       "\t<rect x=\"1247.65\" y=\"2477.80\" width=\"226.71\" height=\"11.39\" style=\"fill:#CAC27E\"/>\n",
       "\t<rect x=\"1251.97\" y=\"2482.12\" width=\"218.07\" height=\"2.75\" style=\"fill:none;stroke:#D7D29E;stroke-width:8.64\"/>\n",
       "\t<rect x=\"3288.04\" y=\"2466.29\" width=\"226.71\" height=\"22.89\" style=\"fill:#CAC27E\"/>\n",
       "\t<rect x=\"3292.36\" y=\"2470.61\" width=\"218.07\" height=\"14.25\" style=\"fill:none;stroke:#D7D29E;stroke-width:8.64\"/>\n",
       "\t<line x1=\"390.80\" y1=\"2489.19\" x2=\"390.80\" y2=\"100.86\" style=\"stroke:#000000;stroke-width:5.76\"/>\n",
       "\t<line x1=\"390.80\" y1=\"2489.19\" x2=\"350.83\" y2=\"2489.19\" style=\"stroke:#000000;stroke-width:5.76\"/>\n",
       "\t<text x=\"300.72\" y=\"2489.19\" style=\"font-family:'Helvetica';font-size:99.99px;fill:#000000\" transform=\"rotate(-90 300.72,2489.19)\" text-anchor=\"middle\">0</text>\n",
       "\t<line x1=\"390.80\" y1=\"2024.24\" x2=\"350.83\" y2=\"2024.24\" style=\"stroke:#000000;stroke-width:5.76\"/>\n",
       "\t<text x=\"300.72\" y=\"2024.24\" style=\"font-family:'Helvetica';font-size:99.99px;fill:#000000\" transform=\"rotate(-90 300.72,2024.24)\" text-anchor=\"middle\">2.0e-09</text>\n",
       "\t<line x1=\"390.80\" y1=\"1559.17\" x2=\"350.83\" y2=\"1559.17\" style=\"stroke:#000000;stroke-width:5.76\"/>\n",
       "\t<text x=\"300.72\" y=\"1559.17\" style=\"font-family:'Helvetica';font-size:99.99px;fill:#000000\" transform=\"rotate(-90 300.72,1559.17)\" text-anchor=\"middle\">4.0e-09</text>\n",
       "\t<line x1=\"390.80\" y1=\"1094.23\" x2=\"350.83\" y2=\"1094.23\" style=\"stroke:#000000;stroke-width:5.76\"/>\n",
       "\t<text x=\"300.72\" y=\"1094.23\" style=\"font-family:'Helvetica';font-size:99.99px;fill:#000000\" transform=\"rotate(-90 300.72,1094.23)\" text-anchor=\"middle\">6.0e-09</text>\n",
       "\t<line x1=\"390.80\" y1=\"629.16\" x2=\"350.83\" y2=\"629.16\" style=\"stroke:#000000;stroke-width:5.76\"/>\n",
       "\t<text x=\"300.72\" y=\"629.16\" style=\"font-family:'Helvetica';font-size:99.99px;fill:#000000\" transform=\"rotate(-90 300.72,629.16)\" text-anchor=\"middle\">8.0e-09</text>\n",
       "\t<line x1=\"390.80\" y1=\"164.22\" x2=\"350.83\" y2=\"164.22\" style=\"stroke:#000000;stroke-width:5.76\"/>\n",
       "\t<text x=\"300.72\" y=\"164.22\" style=\"font-family:'Helvetica';font-size:99.99px;fill:#000000\" transform=\"rotate(-90 300.72,164.22)\" text-anchor=\"middle\">1.0e-08</text>\n",
       "\t<text x=\"190.71\" y=\"1294.96\" style=\"font-family:'Helvetica';font-size:99.99px;fill:#000000\" transform=\"rotate(-90 190.71,1294.96)\" text-anchor=\"middle\">Density</text>\n",
       "\t<line x1=\"390.80\" y1=\"2489.19\" x2=\"3859.02\" y2=\"2489.19\" style=\"stroke:#000000;stroke-width:5.76\"/>\n",
       "\t<line x1=\"567.52\" y1=\"2489.19\" x2=\"567.52\" y2=\"2529.16\" style=\"stroke:#000000;stroke-width:5.76\"/>\n",
       "\t<text x=\"567.52\" y=\"2619.14\" style=\"font-family:'Helvetica';font-size:99.99px;fill:#000000\" text-anchor=\"middle\">0</text>\n",
       "\t<line x1=\"1643.52\" y1=\"2489.19\" x2=\"1643.52\" y2=\"2529.16\" style=\"stroke:#000000;stroke-width:5.76\"/>\n",
       "\t<text x=\"1643.52\" y=\"2619.14\" style=\"font-family:'Helvetica';font-size:99.99px;fill:#000000\" text-anchor=\"middle\">5.000e+08</text>\n",
       "\t<line x1=\"2719.65\" y1=\"2489.19\" x2=\"2719.65\" y2=\"2529.16\" style=\"stroke:#000000;stroke-width:5.76\"/>\n",
       "\t<text x=\"2719.65\" y=\"2619.14\" style=\"font-family:'Helvetica';font-size:99.99px;fill:#000000\" text-anchor=\"middle\">1.000e+09</text>\n",
       "\t<line x1=\"3795.66\" y1=\"2489.19\" x2=\"3795.66\" y2=\"2529.16\" style=\"stroke:#000000;stroke-width:5.76\"/>\n",
       "\t<text x=\"3795.66\" y=\"2619.14\" style=\"font-family:'Helvetica';font-size:99.99px;fill:#000000\" text-anchor=\"middle\">1.500e+09</text>\n",
       "\t<text x=\"2124.91\" y=\"2729.16\" style=\"font-family:'Helvetica';font-size:99.99px;fill:#000000\" text-anchor=\"middle\">Population</text>\n",
       "</svg>\n"
      ],
      "text/plain": [
       "This front-end cannot display the desired image type."
      ]
     },
     "metadata": {
      "image/svg+xml": {
       "height": 436,
       "width": 600
      }
     },
     "output_type": "display_data"
    },
    {
     "name": "stdout",
     "output_type": "stream",
     "text": [
      "\n",
      "\n",
      "\n"
     ]
    }
   ],
   "source": [
    "histogram(unna_pop)"
   ]
  },
  {
   "cell_type": "markdown",
   "metadata": {},
   "source": [
    "**Fråga 3.** Variabeln `fh_status` visar om landet kategoriseras som Free, Partly free eller Not free. Gör en frekvenstabell som visar hur många länder som faller i varje kategori."
   ]
  },
  {
   "cell_type": "code",
   "execution_count": 27,
   "metadata": {},
   "outputs": [
    {
     "name": "stdout",
     "output_type": "stream",
     "text": [
      "\n",
      "    Freedom |\n",
      "     Status |      Freq.     Percent        Cum.\n",
      "------------+-----------------------------------\n",
      "       Free |         89       45.88       45.88\n",
      "Partly Free |         54       27.84       73.71\n",
      "   Not Free |         51       26.29      100.00\n",
      "------------+-----------------------------------\n",
      "      Total |        194      100.00\n"
     ]
    }
   ],
   "source": [
    "tab fh_status"
   ]
  },
  {
   "cell_type": "markdown",
   "metadata": {},
   "source": [
    "**Fråga 4.** Variabeln `ti_cpi` visar Transparency Internationals korruptionsindex, där låga värden betyder att landet är mer korrupt. Sortera datamängden utifrån indexet, och gör en topplista på de 10 mest korrupta länderna."
   ]
  },
  {
   "cell_type": "code",
   "execution_count": 39,
   "metadata": {},
   "outputs": [
    {
     "name": "stdout",
     "output_type": "stream",
     "text": [
      "\n",
      "\n",
      "\n",
      "     +------------------------+\n",
      "     |         cname   ti_cpi |\n",
      "     |------------------------|\n",
      "  1. |       Somalia        8 |\n",
      "  2. |  Korea, North        8 |\n",
      "  3. | Sudan (2012-)       11 |\n",
      "  4. |   Afghanistan       12 |\n",
      "  5. |   South Sudan       15 |\n",
      "     |------------------------|\n",
      "  6. |          Iraq       16 |\n",
      "  7. |  Turkmenistan       17 |\n",
      "  8. |       Eritrea       18 |\n",
      "  9. |         Libya       18 |\n",
      " 10. |    Uzbekistan       18 |\n",
      "     +------------------------+\n"
     ]
    }
   ],
   "source": [
    "gsort ti_cpi\n",
    "list cname ti_cpi in 1/10"
   ]
  },
  {
   "cell_type": "markdown",
   "metadata": {},
   "source": [
    "**Fråga 5.** Sortera nu istället efter fallande ordning, och gör en topplista på de tio minst korrupta länderna."
   ]
  },
  {
   "cell_type": "code",
   "execution_count": 40,
   "metadata": {},
   "outputs": [
    {
     "name": "stdout",
     "output_type": "stream",
     "text": [
      "\n",
      "\n",
      "\n",
      "     +----------------------+\n",
      "     |       cname   ti_cpi |\n",
      "     |----------------------|\n",
      "  1. |     Denmark       92 |\n",
      "  2. | New Zealand       91 |\n",
      "  3. |     Finland       89 |\n",
      "  4. |      Sweden       87 |\n",
      "  5. |      Norway       86 |\n",
      "     |----------------------|\n",
      "  6. | Switzerland       86 |\n",
      "  7. |   Singapore       84 |\n",
      "  8. | Netherlands       83 |\n",
      "  9. |  Luxembourg       82 |\n",
      " 10. |      Canada       81 |\n",
      "     +----------------------+\n"
     ]
    }
   ],
   "source": [
    "gsort -ti_cpi\n",
    "list cname ti_cpi in 1/10"
   ]
  },
  {
   "cell_type": "markdown",
   "metadata": {},
   "source": [
    "**Fråga 6.** Variabeln `ti_cpi` visar Transparency Internationals korruptionsindex. För varje kategori i variabeln `fh_status`, vad är medelvärdet på korruptionsindexet?"
   ]
  },
  {
   "cell_type": "code",
   "execution_count": 28,
   "metadata": {},
   "outputs": [
    {
     "name": "stdout",
     "output_type": "stream",
     "text": [
      "\n",
      "--------------------------\n",
      "Freedom     |\n",
      "Status      | mean(ti_cpi)\n",
      "------------+-------------\n",
      "       Free |    57.250412\n",
      "Partly Free |    34.660377\n",
      "   Not Free |    29.529412\n",
      "--------------------------\n"
     ]
    }
   ],
   "source": [
    "table fh_status, contents(mean ti_cpi)"
   ]
  },
  {
   "cell_type": "markdown",
   "metadata": {},
   "source": [
    "**Fråga 7.** Variabeln `gol_est` visar vilken typ av valsystem landet har. Gör en korstabell som visar hur stor andel av länderna med olika valsystem som kan räknas som fria enligt variabeln `fh_status`."
   ]
  },
  {
   "cell_type": "code",
   "execution_count": 29,
   "metadata": {},
   "outputs": [
    {
     "name": "stdout",
     "output_type": "stream",
     "text": [
      "\n",
      "+----------------+\n",
      "| Key            |\n",
      "|----------------|\n",
      "|   frequency    |\n",
      "| row percentage |\n",
      "+----------------+\n",
      "\n",
      "   Electoral |\n",
      "      System |\n",
      "      Type-3 |          Freedom Status\n",
      "     classes |      Free  Partly Fr   Not Free |     Total\n",
      "-------------+---------------------------------+----------\n",
      "Majoritarian |        26         17          6 |        49 \n",
      "             |     53.06      34.69      12.24 |    100.00 \n",
      "-------------+---------------------------------+----------\n",
      "Proportional |        41         15          3 |        59 \n",
      "             |     69.49      25.42       5.08 |    100.00 \n",
      "-------------+---------------------------------+----------\n",
      "       Mixed |        12          8          1 |        21 \n",
      "             |     57.14      38.10       4.76 |    100.00 \n",
      "-------------+---------------------------------+----------\n",
      "       Total |        79         40         10 |       129 \n",
      "             |     61.24      31.01       7.75 |    100.00 \n"
     ]
    }
   ],
   "source": [
    "tab gol_est fh_status, row"
   ]
  },
  {
   "cell_type": "markdown",
   "metadata": {},
   "source": [
    "## Korrelation och regression\n",
    "\n",
    "**Fråga 1.** Gör en korrelationsmatris som visar de parvisa korrelationerna mellan de tre variablerna `ti_cpi`, `p_polity2` och `wdi_lifexp`. Är sambanden positiva eller negativa?"
   ]
  },
  {
   "cell_type": "code",
   "execution_count": 30,
   "metadata": {},
   "outputs": [
    {
     "name": "stdout",
     "output_type": "stream",
     "text": [
      "\n",
      "             |   ti_cpi p_poli~2 wdi_li~p\n",
      "-------------+---------------------------\n",
      "      ti_cpi |   1.0000 \n",
      "   p_polity2 |   0.4351   1.0000 \n",
      "  wdi_lifexp |   0.6568   0.2905   1.0000 \n"
     ]
    }
   ],
   "source": [
    "pwcorr ti_cpi p_polity2 wdi_lifexp"
   ]
  },
  {
   "cell_type": "markdown",
   "metadata": {},
   "source": [
    "**Fråga 2.** Gör en scatterplot som visar sambandet mellan `p_polity2` (på x-axeln) och `ti_cpi` på (y-axeln). Lägg också till en regressionslinje."
   ]
  },
  {
   "cell_type": "code",
   "execution_count": 32,
   "metadata": {},
   "outputs": [
    {
     "data": {
      "application/pdf": "[encoded data removed]",
      "image/svg+xml": [
       "<?xml version=\"1.0\" encoding=\"UTF-8\" standalone=\"no\"?>\n",
       "<!-- This is a Stata 16.0 generated SVG file (http://www.stata.com) -->\n",
       "\n",
       "<svg version=\"1.1\" width=\"600px\" height=\"436px\" viewBox=\"0 0 3960 2880\" xmlns=\"http://www.w3.org/2000/svg\" xmlns:xlink=\"http://www.w3.org/1999/xlink\">\n",
       "\t<desc>Stata Graph - Graph</desc>\n",
       "\t<rect x=\"0\" y=\"0\" width=\"3960\" height=\"2880\" style=\"fill:#EAF2F3;stroke:none\"/>\n",
       "\t<rect x=\"0.00\" y=\"0.00\" width=\"3959.88\" height=\"2880.00\" style=\"fill:#EAF2F3\"/>\n",
       "\t<rect x=\"2.88\" y=\"2.88\" width=\"3954.12\" height=\"2874.24\" style=\"fill:none;stroke:#EAF2F3;stroke-width:5.76\"/>\n",
       "\t<rect x=\"290.81\" y=\"100.86\" width=\"3568.21\" height=\"2132.77\" style=\"fill:#FFFFFF\"/>\n",
       "\t<rect x=\"293.69\" y=\"103.74\" width=\"3562.45\" height=\"2127.01\" style=\"fill:none;stroke:#FFFFFF;stroke-width:5.76\"/>\n",
       "\t<line x1=\"290.81\" y1=\"2170.27\" x2=\"3859.02\" y2=\"2170.27\" style=\"stroke:#EAF2F3;stroke-width:8.64\"/>\n",
       "\t<line x1=\"290.81\" y1=\"1769.06\" x2=\"3859.02\" y2=\"1769.06\" style=\"stroke:#EAF2F3;stroke-width:8.64\"/>\n",
       "\t<line x1=\"290.81\" y1=\"1367.85\" x2=\"3859.02\" y2=\"1367.85\" style=\"stroke:#EAF2F3;stroke-width:8.64\"/>\n",
       "\t<line x1=\"290.81\" y1=\"966.64\" x2=\"3859.02\" y2=\"966.64\" style=\"stroke:#EAF2F3;stroke-width:8.64\"/>\n",
       "\t<line x1=\"290.81\" y1=\"565.43\" x2=\"3859.02\" y2=\"565.43\" style=\"stroke:#EAF2F3;stroke-width:8.64\"/>\n",
       "\t<line x1=\"290.81\" y1=\"164.22\" x2=\"3859.02\" y2=\"164.22\" style=\"stroke:#EAF2F3;stroke-width:8.64\"/>\n",
       "\t<circle cx=\"1902.78\" cy=\"1929.69\" r=\"26.35\" style=\"fill:#1A476F\"/>\n",
       "\t<circle cx=\"1902.78\" cy=\"1929.69\" r=\"22.03\" style=\"fill:none;stroke:#1A476F;stroke-width:8.64\"/>\n",
       "\t<circle cx=\"3623.52\" cy=\"1508.31\" r=\"26.35\" style=\"fill:#1A476F\"/>\n",
       "\t<circle cx=\"3623.52\" cy=\"1508.31\" r=\"22.03\" style=\"fill:none;stroke:#1A476F;stroke-width:8.64\"/>\n",
       "\t<circle cx=\"2419.07\" cy=\"1448.17\" r=\"26.35\" style=\"fill:#1A476F\"/>\n",
       "\t<circle cx=\"2419.07\" cy=\"1448.17\" r=\"22.03\" style=\"fill:none;stroke:#1A476F;stroke-width:8.64\"/>\n",
       "\t<circle cx=\"1730.77\" cy=\"1789.23\" r=\"26.35\" style=\"fill:#1A476F\"/>\n",
       "\t<circle cx=\"1730.77\" cy=\"1789.23\" r=\"22.03\" style=\"fill:none;stroke:#1A476F;stroke-width:8.64\"/>\n",
       "\t<circle cx=\"870.33\" cy=\"1588.63\" r=\"26.35\" style=\"fill:#1A476F\"/>\n",
       "\t<circle cx=\"870.33\" cy=\"1588.63\" r=\"22.03\" style=\"fill:none;stroke:#1A476F;stroke-width:8.64\"/>\n",
       "\t<circle cx=\"3451.51\" cy=\"1488.26\" r=\"26.35\" style=\"fill:#1A476F\"/>\n",
       "\t<circle cx=\"3451.51\" cy=\"1488.26\" r=\"22.03\" style=\"fill:none;stroke:#1A476F;stroke-width:8.64\"/>\n",
       "\t<circle cx=\"3795.66\" cy=\"565.43\" r=\"26.35\" style=\"fill:#1A476F\"/>\n",
       "\t<circle cx=\"3795.66\" cy=\"565.43\" r=\"22.03\" style=\"fill:none;stroke:#1A476F;stroke-width:8.64\"/>\n",
       "\t<circle cx=\"3795.66\" cy=\"725.94\" r=\"26.35\" style=\"fill:#1A476F\"/>\n",
       "\t<circle cx=\"3795.66\" cy=\"725.94\" r=\"22.03\" style=\"fill:none;stroke:#1A476F;stroke-width:8.64\"/>\n",
       "\t<circle cx=\"354.05\" cy=\"1187.42\" r=\"26.35\" style=\"fill:#1A476F\"/>\n",
       "\t<circle cx=\"354.05\" cy=\"1187.42\" r=\"22.03\" style=\"fill:none;stroke:#1A476F;stroke-width:8.64\"/>\n",
       "\t<circle cx=\"2246.93\" cy=\"1668.82\" r=\"26.35\" style=\"fill:#1A476F\"/>\n",
       "\t<circle cx=\"2246.93\" cy=\"1668.82\" r=\"22.03\" style=\"fill:none;stroke:#1A476F;stroke-width:8.64\"/>\n",
       "\t<circle cx=\"2935.23\" cy=\"1428.12\" r=\"26.35\" style=\"fill:#1A476F\"/>\n",
       "\t<circle cx=\"2935.23\" cy=\"1428.12\" r=\"22.03\" style=\"fill:none;stroke:#1A476F;stroke-width:8.64\"/>\n",
       "\t<circle cx=\"3451.51\" cy=\"645.75\" r=\"26.35\" style=\"fill:#1A476F\"/>\n",
       "\t<circle cx=\"3451.51\" cy=\"645.75\" r=\"22.03\" style=\"fill:none;stroke:#1A476F;stroke-width:8.64\"/>\n",
       "\t<circle cx=\"2935.23\" cy=\"866.40\" r=\"26.35\" style=\"fill:#1A476F\"/>\n",
       "\t<circle cx=\"2935.23\" cy=\"866.40\" r=\"22.03\" style=\"fill:none;stroke:#1A476F;stroke-width:8.64\"/>\n",
       "\t<circle cx=\"3279.38\" cy=\"1468.22\" r=\"26.35\" style=\"fill:#1A476F\"/>\n",
       "\t<circle cx=\"3279.38\" cy=\"1468.22\" r=\"22.03\" style=\"fill:none;stroke:#1A476F;stroke-width:8.64\"/>\n",
       "\t<circle cx=\"3451.51\" cy=\"906.50\" r=\"26.35\" style=\"fill:#1A476F\"/>\n",
       "\t<circle cx=\"3451.51\" cy=\"906.50\" r=\"22.03\" style=\"fill:none;stroke:#1A476F;stroke-width:8.64\"/>\n",
       "\t<circle cx=\"3451.51\" cy=\"1307.71\" r=\"26.35\" style=\"fill:#1A476F\"/>\n",
       "\t<circle cx=\"3451.51\" cy=\"1307.71\" r=\"22.03\" style=\"fill:none;stroke:#1A476F;stroke-width:8.64\"/>\n",
       "\t<circle cx=\"3451.51\" cy=\"1327.76\" r=\"26.35\" style=\"fill:#1A476F\"/>\n",
       "\t<circle cx=\"3451.51\" cy=\"1327.76\" r=\"22.03\" style=\"fill:none;stroke:#1A476F;stroke-width:8.64\"/>\n",
       "\t<circle cx=\"3623.52\" cy=\"1307.71\" r=\"26.35\" style=\"fill:#1A476F\"/>\n",
       "\t<circle cx=\"3623.52\" cy=\"1307.71\" r=\"22.03\" style=\"fill:none;stroke:#1A476F;stroke-width:8.64\"/>\n",
       "\t<circle cx=\"1558.63\" cy=\"1749.14\" r=\"26.35\" style=\"fill:#1A476F\"/>\n",
       "\t<circle cx=\"1558.63\" cy=\"1749.14\" r=\"22.03\" style=\"fill:none;stroke:#1A476F;stroke-width:8.64\"/>\n",
       "\t<circle cx=\"3107.36\" cy=\"1769.19\" r=\"26.35\" style=\"fill:#1A476F\"/>\n",
       "\t<circle cx=\"3107.36\" cy=\"1769.19\" r=\"22.03\" style=\"fill:none;stroke:#1A476F;stroke-width:8.64\"/>\n",
       "\t<circle cx=\"870.33\" cy=\"1548.53\" r=\"26.35\" style=\"fill:#1A476F\"/>\n",
       "\t<circle cx=\"870.33\" cy=\"1548.53\" r=\"22.03\" style=\"fill:none;stroke:#1A476F;stroke-width:8.64\"/>\n",
       "\t<circle cx=\"2419.07\" cy=\"1749.14\" r=\"26.35\" style=\"fill:#1A476F\"/>\n",
       "\t<circle cx=\"2419.07\" cy=\"1749.14\" r=\"22.03\" style=\"fill:none;stroke:#1A476F;stroke-width:8.64\"/>\n",
       "\t<circle cx=\"1386.49\" cy=\"1628.72\" r=\"26.35\" style=\"fill:#1A476F\"/>\n",
       "\t<circle cx=\"1386.49\" cy=\"1628.72\" r=\"22.03\" style=\"fill:none;stroke:#1A476F;stroke-width:8.64\"/>\n",
       "\t<circle cx=\"3795.66\" cy=\"545.38\" r=\"26.35\" style=\"fill:#1A476F\"/>\n",
       "\t<circle cx=\"3795.66\" cy=\"545.38\" r=\"22.03\" style=\"fill:none;stroke:#1A476F;stroke-width:8.64\"/>\n",
       "\t<circle cx=\"3795.66\" cy=\"1026.91\" r=\"26.35\" style=\"fill:#1A476F\"/>\n",
       "\t<circle cx=\"3795.66\" cy=\"1026.91\" r=\"22.03\" style=\"fill:none;stroke:#1A476F;stroke-width:8.64\"/>\n",
       "\t<circle cx=\"2074.92\" cy=\"1688.87\" r=\"26.35\" style=\"fill:#1A476F\"/>\n",
       "\t<circle cx=\"2074.92\" cy=\"1688.87\" r=\"22.03\" style=\"fill:none;stroke:#1A476F;stroke-width:8.64\"/>\n",
       "\t<circle cx=\"2591.08\" cy=\"1408.07\" r=\"26.35\" style=\"fill:#1A476F\"/>\n",
       "\t<circle cx=\"2591.08\" cy=\"1408.07\" r=\"22.03\" style=\"fill:none;stroke:#1A476F;stroke-width:8.64\"/>\n",
       "\t<circle cx=\"1730.77\" cy=\"1729.09\" r=\"26.35\" style=\"fill:#1A476F\"/>\n",
       "\t<circle cx=\"1730.77\" cy=\"1729.09\" r=\"22.03\" style=\"fill:none;stroke:#1A476F;stroke-width:8.64\"/>\n",
       "\t<circle cx=\"3795.66\" cy=\"705.89\" r=\"26.35\" style=\"fill:#1A476F\"/>\n",
       "\t<circle cx=\"3795.66\" cy=\"705.89\" r=\"22.03\" style=\"fill:none;stroke:#1A476F;stroke-width:8.64\"/>\n",
       "\t<circle cx=\"870.33\" cy=\"1448.17\" r=\"26.35\" style=\"fill:#1A476F\"/>\n",
       "\t<circle cx=\"870.33\" cy=\"1448.17\" r=\"22.03\" style=\"fill:none;stroke:#1A476F;stroke-width:8.64\"/>\n",
       "\t<circle cx=\"3795.66\" cy=\"946.59\" r=\"26.35\" style=\"fill:#1A476F\"/>\n",
       "\t<circle cx=\"3795.66\" cy=\"946.59\" r=\"22.03\" style=\"fill:none;stroke:#1A476F;stroke-width:8.64\"/>\n",
       "\t<circle cx=\"3279.38\" cy=\"1428.12\" r=\"26.35\" style=\"fill:#1A476F\"/>\n",
       "\t<circle cx=\"3279.38\" cy=\"1428.12\" r=\"22.03\" style=\"fill:none;stroke:#1A476F;stroke-width:8.64\"/>\n",
       "\t<circle cx=\"3623.52\" cy=\"1648.77\" r=\"26.35\" style=\"fill:#1A476F\"/>\n",
       "\t<circle cx=\"3623.52\" cy=\"1648.77\" r=\"22.03\" style=\"fill:none;stroke:#1A476F;stroke-width:8.64\"/>\n",
       "\t<circle cx=\"1386.49\" cy=\"1708.92\" r=\"26.35\" style=\"fill:#1A476F\"/>\n",
       "\t<circle cx=\"1386.49\" cy=\"1708.92\" r=\"22.03\" style=\"fill:none;stroke:#1A476F;stroke-width:8.64\"/>\n",
       "\t<circle cx=\"2935.23\" cy=\"1729.09\" r=\"26.35\" style=\"fill:#1A476F\"/>\n",
       "\t<circle cx=\"2935.23\" cy=\"1729.09\" r=\"22.03\" style=\"fill:none;stroke:#1A476F;stroke-width:8.64\"/>\n",
       "\t<circle cx=\"3795.66\" cy=\"1087.05\" r=\"26.35\" style=\"fill:#1A476F\"/>\n",
       "\t<circle cx=\"3795.66\" cy=\"1087.05\" r=\"22.03\" style=\"fill:none;stroke:#1A476F;stroke-width:8.64\"/>\n",
       "\t<circle cx=\"3623.52\" cy=\"1207.47\" r=\"26.35\" style=\"fill:#1A476F\"/>\n",
       "\t<circle cx=\"3623.52\" cy=\"1207.47\" r=\"22.03\" style=\"fill:none;stroke:#1A476F;stroke-width:8.64\"/>\n",
       "\t<circle cx=\"870.33\" cy=\"1247.56\" r=\"26.35\" style=\"fill:#1A476F\"/>\n",
       "\t<circle cx=\"870.33\" cy=\"1247.56\" r=\"22.03\" style=\"fill:none;stroke:#1A476F;stroke-width:8.64\"/>\n",
       "\t<circle cx=\"3795.66\" cy=\"906.50\" r=\"26.35\" style=\"fill:#1A476F\"/>\n",
       "\t<circle cx=\"3795.66\" cy=\"906.50\" r=\"22.03\" style=\"fill:none;stroke:#1A476F;stroke-width:8.64\"/>\n",
       "\t<circle cx=\"3623.52\" cy=\"1147.20\" r=\"26.35\" style=\"fill:#1A476F\"/>\n",
       "\t<circle cx=\"3623.52\" cy=\"1147.20\" r=\"22.03\" style=\"fill:none;stroke:#1A476F;stroke-width:8.64\"/>\n",
       "\t<circle cx=\"3279.38\" cy=\"1388.02\" r=\"26.35\" style=\"fill:#1A476F\"/>\n",
       "\t<circle cx=\"3279.38\" cy=\"1388.02\" r=\"22.03\" style=\"fill:none;stroke:#1A476F;stroke-width:8.64\"/>\n",
       "\t<circle cx=\"3795.66\" cy=\"324.73\" r=\"26.35\" style=\"fill:#1A476F\"/>\n",
       "\t<circle cx=\"3795.66\" cy=\"324.73\" r=\"22.03\" style=\"fill:none;stroke:#1A476F;stroke-width:8.64\"/>\n",
       "\t<circle cx=\"3451.51\" cy=\"1528.36\" r=\"26.35\" style=\"fill:#1A476F\"/>\n",
       "\t<circle cx=\"3451.51\" cy=\"1528.36\" r=\"22.03\" style=\"fill:none;stroke:#1A476F;stroke-width:8.64\"/>\n",
       "\t<circle cx=\"2935.23\" cy=\"1508.31\" r=\"26.35\" style=\"fill:#1A476F\"/>\n",
       "\t<circle cx=\"2935.23\" cy=\"1508.31\" r=\"22.03\" style=\"fill:none;stroke:#1A476F;stroke-width:8.64\"/>\n",
       "\t<circle cx=\"3451.51\" cy=\"1388.02\" r=\"26.35\" style=\"fill:#1A476F\"/>\n",
       "\t<circle cx=\"3451.51\" cy=\"1388.02\" r=\"22.03\" style=\"fill:none;stroke:#1A476F;stroke-width:8.64\"/>\n",
       "\t<circle cx=\"1042.35\" cy=\"1789.23\" r=\"26.35\" style=\"fill:#1A476F\"/>\n",
       "\t<circle cx=\"1042.35\" cy=\"1789.23\" r=\"22.03\" style=\"fill:none;stroke:#1A476F;stroke-width:8.64\"/>\n",
       "\t<circle cx=\"1558.63\" cy=\"1508.31\" r=\"26.35\" style=\"fill:#1A476F\"/>\n",
       "\t<circle cx=\"1558.63\" cy=\"1508.31\" r=\"22.03\" style=\"fill:none;stroke:#1A476F;stroke-width:8.64\"/>\n",
       "\t<circle cx=\"870.33\" cy=\"1809.28\" r=\"26.35\" style=\"fill:#1A476F\"/>\n",
       "\t<circle cx=\"870.33\" cy=\"1809.28\" r=\"22.03\" style=\"fill:none;stroke:#1A476F;stroke-width:8.64\"/>\n",
       "\t<circle cx=\"3623.52\" cy=\"786.08\" r=\"26.35\" style=\"fill:#1A476F\"/>\n",
       "\t<circle cx=\"3623.52\" cy=\"786.08\" r=\"22.03\" style=\"fill:none;stroke:#1A476F;stroke-width:8.64\"/>\n",
       "\t<circle cx=\"3795.66\" cy=\"384.87\" r=\"26.35\" style=\"fill:#1A476F\"/>\n",
       "\t<circle cx=\"3795.66\" cy=\"384.87\" r=\"22.03\" style=\"fill:none;stroke:#1A476F;stroke-width:8.64\"/>\n",
       "\t<circle cx=\"3623.52\" cy=\"786.08\" r=\"26.35\" style=\"fill:#1A476F\"/>\n",
       "\t<circle cx=\"3623.52\" cy=\"786.08\" r=\"22.03\" style=\"fill:none;stroke:#1A476F;stroke-width:8.64\"/>\n",
       "\t<circle cx=\"2591.08\" cy=\"1488.26\" r=\"26.35\" style=\"fill:#1A476F\"/>\n",
       "\t<circle cx=\"2591.08\" cy=\"1488.26\" r=\"22.03\" style=\"fill:none;stroke:#1A476F;stroke-width:8.64\"/>\n",
       "\t<circle cx=\"2591.08\" cy=\"1428.12\" r=\"26.35\" style=\"fill:#1A476F\"/>\n",
       "\t<circle cx=\"2591.08\" cy=\"1428.12\" r=\"22.03\" style=\"fill:none;stroke:#1A476F;stroke-width:8.64\"/>\n",
       "\t<circle cx=\"3279.38\" cy=\"1127.15\" r=\"26.35\" style=\"fill:#1A476F\"/>\n",
       "\t<circle cx=\"3279.38\" cy=\"1127.15\" r=\"22.03\" style=\"fill:none;stroke:#1A476F;stroke-width:8.64\"/>\n",
       "\t<circle cx=\"1214.48\" cy=\"1588.63\" r=\"26.35\" style=\"fill:#1A476F\"/>\n",
       "\t<circle cx=\"1214.48\" cy=\"1588.63\" r=\"22.03\" style=\"fill:none;stroke:#1A476F;stroke-width:8.64\"/>\n",
       "\t<circle cx=\"3795.66\" cy=\"585.48\" r=\"26.35\" style=\"fill:#1A476F\"/>\n",
       "\t<circle cx=\"3795.66\" cy=\"585.48\" r=\"22.03\" style=\"fill:none;stroke:#1A476F;stroke-width:8.64\"/>\n",
       "\t<circle cx=\"3451.51\" cy=\"1207.47\" r=\"26.35\" style=\"fill:#1A476F\"/>\n",
       "\t<circle cx=\"3451.51\" cy=\"1207.47\" r=\"22.03\" style=\"fill:none;stroke:#1A476F;stroke-width:8.64\"/>\n",
       "\t<circle cx=\"3795.66\" cy=\"1307.71\" r=\"26.35\" style=\"fill:#1A476F\"/>\n",
       "\t<circle cx=\"3795.66\" cy=\"1307.71\" r=\"22.03\" style=\"fill:none;stroke:#1A476F;stroke-width:8.64\"/>\n",
       "\t<circle cx=\"3451.51\" cy=\"1528.36\" r=\"26.35\" style=\"fill:#1A476F\"/>\n",
       "\t<circle cx=\"3451.51\" cy=\"1528.36\" r=\"22.03\" style=\"fill:none;stroke:#1A476F;stroke-width:8.64\"/>\n",
       "\t<circle cx=\"2763.21\" cy=\"1668.82\" r=\"26.35\" style=\"fill:#1A476F\"/>\n",
       "\t<circle cx=\"2763.21\" cy=\"1668.82\" r=\"22.03\" style=\"fill:none;stroke:#1A476F;stroke-width:8.64\"/>\n",
       "\t<circle cx=\"3107.36\" cy=\"1568.58\" r=\"26.35\" style=\"fill:#1A476F\"/>\n",
       "\t<circle cx=\"3107.36\" cy=\"1568.58\" r=\"22.03\" style=\"fill:none;stroke:#1A476F;stroke-width:8.64\"/>\n",
       "\t<circle cx=\"2074.92\" cy=\"1789.23\" r=\"26.35\" style=\"fill:#1A476F\"/>\n",
       "\t<circle cx=\"2074.92\" cy=\"1789.23\" r=\"22.03\" style=\"fill:none;stroke:#1A476F;stroke-width:8.64\"/>\n",
       "\t<circle cx=\"3279.38\" cy=\"1588.63\" r=\"26.35\" style=\"fill:#1A476F\"/>\n",
       "\t<circle cx=\"3279.38\" cy=\"1588.63\" r=\"22.03\" style=\"fill:none;stroke:#1A476F;stroke-width:8.64\"/>\n",
       "\t<circle cx=\"3795.66\" cy=\"1087.05\" r=\"26.35\" style=\"fill:#1A476F\"/>\n",
       "\t<circle cx=\"3795.66\" cy=\"1087.05\" r=\"22.03\" style=\"fill:none;stroke:#1A476F;stroke-width:8.64\"/>\n",
       "\t<circle cx=\"3623.52\" cy=\"1408.07\" r=\"26.35\" style=\"fill:#1A476F\"/>\n",
       "\t<circle cx=\"3623.52\" cy=\"1408.07\" r=\"22.03\" style=\"fill:none;stroke:#1A476F;stroke-width:8.64\"/>\n",
       "\t<circle cx=\"3623.52\" cy=\"1488.26\" r=\"26.35\" style=\"fill:#1A476F\"/>\n",
       "\t<circle cx=\"3623.52\" cy=\"1488.26\" r=\"22.03\" style=\"fill:none;stroke:#1A476F;stroke-width:8.64\"/>\n",
       "\t<circle cx=\"870.33\" cy=\"1628.72\" r=\"26.35\" style=\"fill:#1A476F\"/>\n",
       "\t<circle cx=\"870.33\" cy=\"1628.72\" r=\"22.03\" style=\"fill:none;stroke:#1A476F;stroke-width:8.64\"/>\n",
       "\t<circle cx=\"3107.36\" cy=\"1849.38\" r=\"26.35\" style=\"fill:#1A476F\"/>\n",
       "\t<circle cx=\"3107.36\" cy=\"1849.38\" r=\"22.03\" style=\"fill:none;stroke:#1A476F;stroke-width:8.64\"/>\n",
       "\t<circle cx=\"3795.66\" cy=\"685.84\" r=\"26.35\" style=\"fill:#1A476F\"/>\n",
       "\t<circle cx=\"3795.66\" cy=\"685.84\" r=\"22.03\" style=\"fill:none;stroke:#1A476F;stroke-width:8.64\"/>\n",
       "\t<circle cx=\"3107.36\" cy=\"966.64\" r=\"26.35\" style=\"fill:#1A476F\"/>\n",
       "\t<circle cx=\"3107.36\" cy=\"966.64\" r=\"22.03\" style=\"fill:none;stroke:#1A476F;stroke-width:8.64\"/>\n",
       "\t<circle cx=\"3795.66\" cy=\"1307.71\" r=\"26.35\" style=\"fill:#1A476F\"/>\n",
       "\t<circle cx=\"3795.66\" cy=\"1307.71\" r=\"22.03\" style=\"fill:none;stroke:#1A476F;stroke-width:8.64\"/>\n",
       "\t<circle cx=\"2763.21\" cy=\"1528.36\" r=\"26.35\" style=\"fill:#1A476F\"/>\n",
       "\t<circle cx=\"2763.21\" cy=\"1528.36\" r=\"22.03\" style=\"fill:none;stroke:#1A476F;stroke-width:8.64\"/>\n",
       "\t<circle cx=\"3623.52\" cy=\"1408.07\" r=\"26.35\" style=\"fill:#1A476F\"/>\n",
       "\t<circle cx=\"3623.52\" cy=\"1408.07\" r=\"22.03\" style=\"fill:none;stroke:#1A476F;stroke-width:8.64\"/>\n",
       "\t<circle cx=\"3795.66\" cy=\"645.75\" r=\"26.35\" style=\"fill:#1A476F\"/>\n",
       "\t<circle cx=\"3795.66\" cy=\"645.75\" r=\"22.03\" style=\"fill:none;stroke:#1A476F;stroke-width:8.64\"/>\n",
       "\t<circle cx=\"1042.35\" cy=\"1588.63\" r=\"26.35\" style=\"fill:#1A476F\"/>\n",
       "\t<circle cx=\"1042.35\" cy=\"1588.63\" r=\"22.03\" style=\"fill:none;stroke:#1A476F;stroke-width:8.64\"/>\n",
       "\t<circle cx=\"1558.63\" cy=\"1187.42\" r=\"26.35\" style=\"fill:#1A476F\"/>\n",
       "\t<circle cx=\"1558.63\" cy=\"1187.42\" r=\"22.03\" style=\"fill:none;stroke:#1A476F;stroke-width:8.64\"/>\n",
       "\t<circle cx=\"3623.52\" cy=\"1668.82\" r=\"26.35\" style=\"fill:#1A476F\"/>\n",
       "\t<circle cx=\"3623.52\" cy=\"1668.82\" r=\"22.03\" style=\"fill:none;stroke:#1A476F;stroke-width:8.64\"/>\n",
       "\t<circle cx=\"354.05\" cy=\"2009.89\" r=\"26.35\" style=\"fill:#1A476F\"/>\n",
       "\t<circle cx=\"354.05\" cy=\"2009.89\" r=\"22.03\" style=\"fill:none;stroke:#1A476F;stroke-width:8.64\"/>\n",
       "\t<circle cx=\"3451.51\" cy=\"1067.01\" r=\"26.35\" style=\"fill:#1A476F\"/>\n",
       "\t<circle cx=\"3451.51\" cy=\"1067.01\" r=\"22.03\" style=\"fill:none;stroke:#1A476F;stroke-width:8.64\"/>\n",
       "\t<circle cx=\"870.33\" cy=\"1287.66\" r=\"26.35\" style=\"fill:#1A476F\"/>\n",
       "\t<circle cx=\"870.33\" cy=\"1287.66\" r=\"22.03\" style=\"fill:none;stroke:#1A476F;stroke-width:8.64\"/>\n",
       "\t<circle cx=\"3279.38\" cy=\"1628.72\" r=\"26.35\" style=\"fill:#1A476F\"/>\n",
       "\t<circle cx=\"3279.38\" cy=\"1628.72\" r=\"22.03\" style=\"fill:none;stroke:#1A476F;stroke-width:8.64\"/>\n",
       "\t<circle cx=\"870.33\" cy=\"1668.82\" r=\"26.35\" style=\"fill:#1A476F\"/>\n",
       "\t<circle cx=\"870.33\" cy=\"1668.82\" r=\"22.03\" style=\"fill:none;stroke:#1A476F;stroke-width:8.64\"/>\n",
       "\t<circle cx=\"3107.36\" cy=\"1628.72\" r=\"26.35\" style=\"fill:#1A476F\"/>\n",
       "\t<circle cx=\"3107.36\" cy=\"1628.72\" r=\"22.03\" style=\"fill:none;stroke:#1A476F;stroke-width:8.64\"/>\n",
       "\t<circle cx=\"3451.51\" cy=\"1187.42\" r=\"26.35\" style=\"fill:#1A476F\"/>\n",
       "\t<circle cx=\"3451.51\" cy=\"1187.42\" r=\"22.03\" style=\"fill:none;stroke:#1A476F;stroke-width:8.64\"/>\n",
       "\t<circle cx=\"3451.51\" cy=\"1067.01\" r=\"26.35\" style=\"fill:#1A476F\"/>\n",
       "\t<circle cx=\"3451.51\" cy=\"1067.01\" r=\"22.03\" style=\"fill:none;stroke:#1A476F;stroke-width:8.64\"/>\n",
       "\t<circle cx=\"3107.36\" cy=\"1428.12\" r=\"26.35\" style=\"fill:#1A476F\"/>\n",
       "\t<circle cx=\"3107.36\" cy=\"1428.12\" r=\"22.03\" style=\"fill:none;stroke:#1A476F;stroke-width:8.64\"/>\n",
       "\t<circle cx=\"2074.92\" cy=\"1809.28\" r=\"26.35\" style=\"fill:#1A476F\"/>\n",
       "\t<circle cx=\"2074.92\" cy=\"1809.28\" r=\"22.03\" style=\"fill:none;stroke:#1A476F;stroke-width:8.64\"/>\n",
       "\t<circle cx=\"3795.66\" cy=\"1006.86\" r=\"26.35\" style=\"fill:#1A476F\"/>\n",
       "\t<circle cx=\"3795.66\" cy=\"1006.86\" r=\"22.03\" style=\"fill:none;stroke:#1A476F;stroke-width:8.64\"/>\n",
       "\t<circle cx=\"3795.66\" cy=\"525.34\" r=\"26.35\" style=\"fill:#1A476F\"/>\n",
       "\t<circle cx=\"3795.66\" cy=\"525.34\" r=\"22.03\" style=\"fill:none;stroke:#1A476F;stroke-width:8.64\"/>\n",
       "\t<circle cx=\"3107.36\" cy=\"1608.68\" r=\"26.35\" style=\"fill:#1A476F\"/>\n",
       "\t<circle cx=\"3107.36\" cy=\"1608.68\" r=\"22.03\" style=\"fill:none;stroke:#1A476F;stroke-width:8.64\"/>\n",
       "\t<circle cx=\"3107.36\" cy=\"1508.31\" r=\"26.35\" style=\"fill:#1A476F\"/>\n",
       "\t<circle cx=\"3107.36\" cy=\"1508.31\" r=\"22.03\" style=\"fill:none;stroke:#1A476F;stroke-width:8.64\"/>\n",
       "\t<circle cx=\"2935.23\" cy=\"1127.15\" r=\"26.35\" style=\"fill:#1A476F\"/>\n",
       "\t<circle cx=\"2935.23\" cy=\"1127.15\" r=\"22.03\" style=\"fill:none;stroke:#1A476F;stroke-width:8.64\"/>\n",
       "\t<circle cx=\"2935.23\" cy=\"1528.36\" r=\"26.35\" style=\"fill:#1A476F\"/>\n",
       "\t<circle cx=\"2935.23\" cy=\"1528.36\" r=\"22.03\" style=\"fill:none;stroke:#1A476F;stroke-width:8.64\"/>\n",
       "\t<circle cx=\"1730.77\" cy=\"1568.58\" r=\"26.35\" style=\"fill:#1A476F\"/>\n",
       "\t<circle cx=\"1730.77\" cy=\"1568.58\" r=\"22.03\" style=\"fill:none;stroke:#1A476F;stroke-width:8.64\"/>\n",
       "\t<circle cx=\"3795.66\" cy=\"1087.05\" r=\"26.35\" style=\"fill:#1A476F\"/>\n",
       "\t<circle cx=\"3795.66\" cy=\"1087.05\" r=\"22.03\" style=\"fill:none;stroke:#1A476F;stroke-width:8.64\"/>\n",
       "\t<circle cx=\"3451.51\" cy=\"1468.22\" r=\"26.35\" style=\"fill:#1A476F\"/>\n",
       "\t<circle cx=\"3451.51\" cy=\"1468.22\" r=\"22.03\" style=\"fill:none;stroke:#1A476F;stroke-width:8.64\"/>\n",
       "\t<circle cx=\"3795.66\" cy=\"1388.02\" r=\"26.35\" style=\"fill:#1A476F\"/>\n",
       "\t<circle cx=\"3795.66\" cy=\"1388.02\" r=\"22.03\" style=\"fill:none;stroke:#1A476F;stroke-width:8.64\"/>\n",
       "\t<circle cx=\"3623.52\" cy=\"1468.22\" r=\"26.35\" style=\"fill:#1A476F\"/>\n",
       "\t<circle cx=\"3623.52\" cy=\"1468.22\" r=\"22.03\" style=\"fill:none;stroke:#1A476F;stroke-width:8.64\"/>\n",
       "\t<circle cx=\"3623.52\" cy=\"1327.76\" r=\"26.35\" style=\"fill:#1A476F\"/>\n",
       "\t<circle cx=\"3623.52\" cy=\"1327.76\" r=\"22.03\" style=\"fill:none;stroke:#1A476F;stroke-width:8.64\"/>\n",
       "\t<circle cx=\"1386.49\" cy=\"1388.02\" r=\"26.35\" style=\"fill:#1A476F\"/>\n",
       "\t<circle cx=\"1386.49\" cy=\"1388.02\" r=\"22.03\" style=\"fill:none;stroke:#1A476F;stroke-width:8.64\"/>\n",
       "\t<circle cx=\"2935.23\" cy=\"1548.53\" r=\"26.35\" style=\"fill:#1A476F\"/>\n",
       "\t<circle cx=\"2935.23\" cy=\"1548.53\" r=\"22.03\" style=\"fill:none;stroke:#1A476F;stroke-width:8.64\"/>\n",
       "\t<circle cx=\"698.20\" cy=\"1267.61\" r=\"26.35\" style=\"fill:#1A476F\"/>\n",
       "\t<circle cx=\"698.20\" cy=\"1267.61\" r=\"22.03\" style=\"fill:none;stroke:#1A476F;stroke-width:8.64\"/>\n",
       "\t<circle cx=\"3107.36\" cy=\"1187.42\" r=\"26.35\" style=\"fill:#1A476F\"/>\n",
       "\t<circle cx=\"3107.36\" cy=\"1187.42\" r=\"22.03\" style=\"fill:none;stroke:#1A476F;stroke-width:8.64\"/>\n",
       "\t<circle cx=\"3107.36\" cy=\"1588.63\" r=\"26.35\" style=\"fill:#1A476F\"/>\n",
       "\t<circle cx=\"3107.36\" cy=\"1588.63\" r=\"22.03\" style=\"fill:none;stroke:#1A476F;stroke-width:8.64\"/>\n",
       "\t<circle cx=\"3795.66\" cy=\"505.29\" r=\"26.35\" style=\"fill:#1A476F\"/>\n",
       "\t<circle cx=\"3795.66\" cy=\"505.29\" r=\"22.03\" style=\"fill:none;stroke:#1A476F;stroke-width:8.64\"/>\n",
       "\t<circle cx=\"3795.66\" cy=\"344.78\" r=\"26.35\" style=\"fill:#1A476F\"/>\n",
       "\t<circle cx=\"3795.66\" cy=\"344.78\" r=\"22.03\" style=\"fill:none;stroke:#1A476F;stroke-width:8.64\"/>\n",
       "\t<circle cx=\"3623.52\" cy=\"1608.68\" r=\"26.35\" style=\"fill:#1A476F\"/>\n",
       "\t<circle cx=\"3623.52\" cy=\"1608.68\" r=\"22.03\" style=\"fill:none;stroke:#1A476F;stroke-width:8.64\"/>\n",
       "\t<circle cx=\"3107.36\" cy=\"1468.22\" r=\"26.35\" style=\"fill:#1A476F\"/>\n",
       "\t<circle cx=\"3107.36\" cy=\"1468.22\" r=\"22.03\" style=\"fill:none;stroke:#1A476F;stroke-width:8.64\"/>\n",
       "\t<circle cx=\"2763.21\" cy=\"1628.72\" r=\"26.35\" style=\"fill:#1A476F\"/>\n",
       "\t<circle cx=\"2763.21\" cy=\"1628.72\" r=\"22.03\" style=\"fill:none;stroke:#1A476F;stroke-width:8.64\"/>\n",
       "\t<circle cx=\"3795.66\" cy=\"445.14\" r=\"26.35\" style=\"fill:#1A476F\"/>\n",
       "\t<circle cx=\"3795.66\" cy=\"445.14\" r=\"22.03\" style=\"fill:none;stroke:#1A476F;stroke-width:8.64\"/>\n",
       "\t<circle cx=\"3279.38\" cy=\"1588.63\" r=\"26.35\" style=\"fill:#1A476F\"/>\n",
       "\t<circle cx=\"3279.38\" cy=\"1588.63\" r=\"22.03\" style=\"fill:none;stroke:#1A476F;stroke-width:8.64\"/>\n",
       "\t<circle cx=\"3623.52\" cy=\"1428.12\" r=\"26.35\" style=\"fill:#1A476F\"/>\n",
       "\t<circle cx=\"3623.52\" cy=\"1428.12\" r=\"22.03\" style=\"fill:none;stroke:#1A476F;stroke-width:8.64\"/>\n",
       "\t<circle cx=\"2935.23\" cy=\"1668.82\" r=\"26.35\" style=\"fill:#1A476F\"/>\n",
       "\t<circle cx=\"2935.23\" cy=\"1668.82\" r=\"22.03\" style=\"fill:none;stroke:#1A476F;stroke-width:8.64\"/>\n",
       "\t<circle cx=\"3623.52\" cy=\"1688.87\" r=\"26.35\" style=\"fill:#1A476F\"/>\n",
       "\t<circle cx=\"3623.52\" cy=\"1688.87\" r=\"22.03\" style=\"fill:none;stroke:#1A476F;stroke-width:8.64\"/>\n",
       "\t<circle cx=\"3623.52\" cy=\"1408.07\" r=\"26.35\" style=\"fill:#1A476F\"/>\n",
       "\t<circle cx=\"3623.52\" cy=\"1408.07\" r=\"22.03\" style=\"fill:none;stroke:#1A476F;stroke-width:8.64\"/>\n",
       "\t<circle cx=\"3451.51\" cy=\"1408.07\" r=\"26.35\" style=\"fill:#1A476F\"/>\n",
       "\t<circle cx=\"3451.51\" cy=\"1408.07\" r=\"22.03\" style=\"fill:none;stroke:#1A476F;stroke-width:8.64\"/>\n",
       "\t<circle cx=\"3795.66\" cy=\"946.59\" r=\"26.35\" style=\"fill:#1A476F\"/>\n",
       "\t<circle cx=\"3795.66\" cy=\"946.59\" r=\"22.03\" style=\"fill:none;stroke:#1A476F;stroke-width:8.64\"/>\n",
       "\t<circle cx=\"3795.66\" cy=\"906.50\" r=\"26.35\" style=\"fill:#1A476F\"/>\n",
       "\t<circle cx=\"3795.66\" cy=\"906.50\" r=\"22.03\" style=\"fill:none;stroke:#1A476F;stroke-width:8.64\"/>\n",
       "\t<circle cx=\"3107.36\" cy=\"1789.23\" r=\"26.35\" style=\"fill:#1A476F\"/>\n",
       "\t<circle cx=\"3107.36\" cy=\"1789.23\" r=\"22.03\" style=\"fill:none;stroke:#1A476F;stroke-width:8.64\"/>\n",
       "\t<circle cx=\"3451.51\" cy=\"1608.68\" r=\"26.35\" style=\"fill:#1A476F\"/>\n",
       "\t<circle cx=\"3451.51\" cy=\"1608.68\" r=\"22.03\" style=\"fill:none;stroke:#1A476F;stroke-width:8.64\"/>\n",
       "\t<circle cx=\"354.05\" cy=\"786.08\" r=\"26.35\" style=\"fill:#1A476F\"/>\n",
       "\t<circle cx=\"354.05\" cy=\"786.08\" r=\"22.03\" style=\"fill:none;stroke:#1A476F;stroke-width:8.64\"/>\n",
       "\t<circle cx=\"3623.52\" cy=\"1307.71\" r=\"26.35\" style=\"fill:#1A476F\"/>\n",
       "\t<circle cx=\"3623.52\" cy=\"1307.71\" r=\"22.03\" style=\"fill:none;stroke:#1A476F;stroke-width:8.64\"/>\n",
       "\t<circle cx=\"2763.21\" cy=\"1628.72\" r=\"26.35\" style=\"fill:#1A476F\"/>\n",
       "\t<circle cx=\"2763.21\" cy=\"1628.72\" r=\"22.03\" style=\"fill:none;stroke:#1A476F;stroke-width:8.64\"/>\n",
       "\t<circle cx=\"1558.63\" cy=\"1187.42\" r=\"26.35\" style=\"fill:#1A476F\"/>\n",
       "\t<circle cx=\"1558.63\" cy=\"1187.42\" r=\"22.03\" style=\"fill:none;stroke:#1A476F;stroke-width:8.64\"/>\n",
       "\t<circle cx=\"354.05\" cy=\"1187.42\" r=\"26.35\" style=\"fill:#1A476F\"/>\n",
       "\t<circle cx=\"354.05\" cy=\"1187.42\" r=\"22.03\" style=\"fill:none;stroke:#1A476F;stroke-width:8.64\"/>\n",
       "\t<circle cx=\"3279.38\" cy=\"1307.71\" r=\"26.35\" style=\"fill:#1A476F\"/>\n",
       "\t<circle cx=\"3279.38\" cy=\"1307.71\" r=\"22.03\" style=\"fill:none;stroke:#1A476F;stroke-width:8.64\"/>\n",
       "\t<circle cx=\"3451.51\" cy=\"1347.80\" r=\"26.35\" style=\"fill:#1A476F\"/>\n",
       "\t<circle cx=\"3451.51\" cy=\"1347.80\" r=\"22.03\" style=\"fill:none;stroke:#1A476F;stroke-width:8.64\"/>\n",
       "\t<circle cx=\"3279.38\" cy=\"1548.53\" r=\"26.35\" style=\"fill:#1A476F\"/>\n",
       "\t<circle cx=\"3279.38\" cy=\"1548.53\" r=\"22.03\" style=\"fill:none;stroke:#1A476F;stroke-width:8.64\"/>\n",
       "\t<circle cx=\"1730.77\" cy=\"485.24\" r=\"26.35\" style=\"fill:#1A476F\"/>\n",
       "\t<circle cx=\"1730.77\" cy=\"485.24\" r=\"22.03\" style=\"fill:none;stroke:#1A476F;stroke-width:8.64\"/>\n",
       "\t<circle cx=\"3795.66\" cy=\"1167.25\" r=\"26.35\" style=\"fill:#1A476F\"/>\n",
       "\t<circle cx=\"3795.66\" cy=\"1167.25\" r=\"22.03\" style=\"fill:none;stroke:#1A476F;stroke-width:8.64\"/>\n",
       "\t<circle cx=\"870.33\" cy=\"1548.53\" r=\"26.35\" style=\"fill:#1A476F\"/>\n",
       "\t<circle cx=\"870.33\" cy=\"1548.53\" r=\"22.03\" style=\"fill:none;stroke:#1A476F;stroke-width:8.64\"/>\n",
       "\t<circle cx=\"3795.66\" cy=\"1006.86\" r=\"26.35\" style=\"fill:#1A476F\"/>\n",
       "\t<circle cx=\"3795.66\" cy=\"1006.86\" r=\"22.03\" style=\"fill:none;stroke:#1A476F;stroke-width:8.64\"/>\n",
       "\t<circle cx=\"2935.23\" cy=\"2009.89\" r=\"26.35\" style=\"fill:#1A476F\"/>\n",
       "\t<circle cx=\"2935.23\" cy=\"2009.89\" r=\"22.03\" style=\"fill:none;stroke:#1A476F;stroke-width:8.64\"/>\n",
       "\t<circle cx=\"3623.52\" cy=\"1287.66\" r=\"26.35\" style=\"fill:#1A476F\"/>\n",
       "\t<circle cx=\"3623.52\" cy=\"1287.66\" r=\"22.03\" style=\"fill:none;stroke:#1A476F;stroke-width:8.64\"/>\n",
       "\t<circle cx=\"2763.21\" cy=\"1749.14\" r=\"26.35\" style=\"fill:#1A476F\"/>\n",
       "\t<circle cx=\"2763.21\" cy=\"1749.14\" r=\"22.03\" style=\"fill:none;stroke:#1A476F;stroke-width:8.64\"/>\n",
       "\t<circle cx=\"3795.66\" cy=\"966.64\" r=\"26.35\" style=\"fill:#1A476F\"/>\n",
       "\t<circle cx=\"3795.66\" cy=\"966.64\" r=\"22.03\" style=\"fill:none;stroke:#1A476F;stroke-width:8.64\"/>\n",
       "\t<circle cx=\"2074.92\" cy=\"1869.43\" r=\"26.35\" style=\"fill:#1A476F\"/>\n",
       "\t<circle cx=\"2074.92\" cy=\"1869.43\" r=\"22.03\" style=\"fill:none;stroke:#1A476F;stroke-width:8.64\"/>\n",
       "\t<circle cx=\"1386.49\" cy=\"1949.74\" r=\"26.35\" style=\"fill:#1A476F\"/>\n",
       "\t<circle cx=\"1386.49\" cy=\"1949.74\" r=\"22.03\" style=\"fill:none;stroke:#1A476F;stroke-width:8.64\"/>\n",
       "\t<circle cx=\"2935.23\" cy=\"1448.17\" r=\"26.35\" style=\"fill:#1A476F\"/>\n",
       "\t<circle cx=\"2935.23\" cy=\"1448.17\" r=\"22.03\" style=\"fill:none;stroke:#1A476F;stroke-width:8.64\"/>\n",
       "\t<circle cx=\"526.18\" cy=\"1307.71\" r=\"26.35\" style=\"fill:#1A476F\"/>\n",
       "\t<circle cx=\"526.18\" cy=\"1307.71\" r=\"22.03\" style=\"fill:none;stroke:#1A476F;stroke-width:8.64\"/>\n",
       "\t<circle cx=\"3795.66\" cy=\"424.97\" r=\"26.35\" style=\"fill:#1A476F\"/>\n",
       "\t<circle cx=\"3795.66\" cy=\"424.97\" r=\"22.03\" style=\"fill:none;stroke:#1A476F;stroke-width:8.64\"/>\n",
       "\t<circle cx=\"3795.66\" cy=\"445.14\" r=\"26.35\" style=\"fill:#1A476F\"/>\n",
       "\t<circle cx=\"3795.66\" cy=\"445.14\" r=\"22.03\" style=\"fill:none;stroke:#1A476F;stroke-width:8.64\"/>\n",
       "\t<circle cx=\"526.18\" cy=\"1769.19\" r=\"26.35\" style=\"fill:#1A476F\"/>\n",
       "\t<circle cx=\"526.18\" cy=\"1769.19\" r=\"22.03\" style=\"fill:none;stroke:#1A476F;stroke-width:8.64\"/>\n",
       "\t<circle cx=\"1558.63\" cy=\"1708.92\" r=\"26.35\" style=\"fill:#1A476F\"/>\n",
       "\t<circle cx=\"1558.63\" cy=\"1708.92\" r=\"22.03\" style=\"fill:none;stroke:#1A476F;stroke-width:8.64\"/>\n",
       "\t<circle cx=\"1558.63\" cy=\"1408.07\" r=\"26.35\" style=\"fill:#1A476F\"/>\n",
       "\t<circle cx=\"1558.63\" cy=\"1408.07\" r=\"22.03\" style=\"fill:none;stroke:#1A476F;stroke-width:8.64\"/>\n",
       "\t<circle cx=\"1730.77\" cy=\"1588.63\" r=\"26.35\" style=\"fill:#1A476F\"/>\n",
       "\t<circle cx=\"1730.77\" cy=\"1588.63\" r=\"22.03\" style=\"fill:none;stroke:#1A476F;stroke-width:8.64\"/>\n",
       "\t<circle cx=\"3795.66\" cy=\"1408.07\" r=\"26.35\" style=\"fill:#1A476F\"/>\n",
       "\t<circle cx=\"3795.66\" cy=\"1408.07\" r=\"22.03\" style=\"fill:none;stroke:#1A476F;stroke-width:8.64\"/>\n",
       "\t<circle cx=\"698.20\" cy=\"766.04\" r=\"26.35\" style=\"fill:#1A476F\"/>\n",
       "\t<circle cx=\"698.20\" cy=\"766.04\" r=\"22.03\" style=\"fill:none;stroke:#1A476F;stroke-width:8.64\"/>\n",
       "\t<circle cx=\"3279.38\" cy=\"1367.98\" r=\"26.35\" style=\"fill:#1A476F\"/>\n",
       "\t<circle cx=\"3279.38\" cy=\"1367.98\" r=\"22.03\" style=\"fill:none;stroke:#1A476F;stroke-width:8.64\"/>\n",
       "\t<circle cx=\"2591.08\" cy=\"1267.61\" r=\"26.35\" style=\"fill:#1A476F\"/>\n",
       "\t<circle cx=\"2591.08\" cy=\"1267.61\" r=\"22.03\" style=\"fill:none;stroke:#1A476F;stroke-width:8.64\"/>\n",
       "\t<circle cx=\"698.20\" cy=\"1829.33\" r=\"26.35\" style=\"fill:#1A476F\"/>\n",
       "\t<circle cx=\"698.20\" cy=\"1829.33\" r=\"22.03\" style=\"fill:none;stroke:#1A476F;stroke-width:8.64\"/>\n",
       "\t<circle cx=\"1902.78\" cy=\"1648.77\" r=\"26.35\" style=\"fill:#1A476F\"/>\n",
       "\t<circle cx=\"1902.78\" cy=\"1648.77\" r=\"22.03\" style=\"fill:none;stroke:#1A476F;stroke-width:8.64\"/>\n",
       "\t<circle cx=\"2763.21\" cy=\"1648.77\" r=\"26.35\" style=\"fill:#1A476F\"/>\n",
       "\t<circle cx=\"2763.21\" cy=\"1648.77\" r=\"22.03\" style=\"fill:none;stroke:#1A476F;stroke-width:8.64\"/>\n",
       "\t<circle cx=\"3623.52\" cy=\"1267.61\" r=\"26.35\" style=\"fill:#1A476F\"/>\n",
       "\t<circle cx=\"3623.52\" cy=\"1267.61\" r=\"22.03\" style=\"fill:none;stroke:#1A476F;stroke-width:8.64\"/>\n",
       "\t<circle cx=\"1386.49\" cy=\"1428.12\" r=\"26.35\" style=\"fill:#1A476F\"/>\n",
       "\t<circle cx=\"1386.49\" cy=\"1428.12\" r=\"22.03\" style=\"fill:none;stroke:#1A476F;stroke-width:8.64\"/>\n",
       "\t<circle cx=\"3795.66\" cy=\"605.53\" r=\"26.35\" style=\"fill:#1A476F\"/>\n",
       "\t<circle cx=\"3795.66\" cy=\"605.53\" r=\"22.03\" style=\"fill:none;stroke:#1A476F;stroke-width:8.64\"/>\n",
       "\t<circle cx=\"1902.78\" cy=\"1548.53\" r=\"26.35\" style=\"fill:#1A476F\"/>\n",
       "\t<circle cx=\"1902.78\" cy=\"1548.53\" r=\"22.03\" style=\"fill:none;stroke:#1A476F;stroke-width:8.64\"/>\n",
       "\t<circle cx=\"3795.66\" cy=\"685.84\" r=\"26.35\" style=\"fill:#1A476F\"/>\n",
       "\t<circle cx=\"3795.66\" cy=\"685.84\" r=\"22.03\" style=\"fill:none;stroke:#1A476F;stroke-width:8.64\"/>\n",
       "\t<circle cx=\"2074.92\" cy=\"1408.07\" r=\"26.35\" style=\"fill:#1A476F\"/>\n",
       "\t<circle cx=\"2074.92\" cy=\"1408.07\" r=\"22.03\" style=\"fill:none;stroke:#1A476F;stroke-width:8.64\"/>\n",
       "\t<circle cx=\"3795.66\" cy=\"705.89\" r=\"26.35\" style=\"fill:#1A476F\"/>\n",
       "\t<circle cx=\"3795.66\" cy=\"705.89\" r=\"22.03\" style=\"fill:none;stroke:#1A476F;stroke-width:8.64\"/>\n",
       "\t<circle cx=\"526.18\" cy=\"1809.28\" r=\"26.35\" style=\"fill:#1A476F\"/>\n",
       "\t<circle cx=\"526.18\" cy=\"1809.28\" r=\"22.03\" style=\"fill:none;stroke:#1A476F;stroke-width:8.64\"/>\n",
       "\t<circle cx=\"2763.21\" cy=\"1789.23\" r=\"26.35\" style=\"fill:#1A476F\"/>\n",
       "\t<circle cx=\"2763.21\" cy=\"1789.23\" r=\"22.03\" style=\"fill:none;stroke:#1A476F;stroke-width:8.64\"/>\n",
       "\t<circle cx=\"2074.92\" cy=\"1789.23\" r=\"26.35\" style=\"fill:#1A476F\"/>\n",
       "\t<circle cx=\"2074.92\" cy=\"1789.23\" r=\"22.03\" style=\"fill:none;stroke:#1A476F;stroke-width:8.64\"/>\n",
       "\t<circle cx=\"3279.38\" cy=\"1408.07\" r=\"26.35\" style=\"fill:#1A476F\"/>\n",
       "\t<circle cx=\"3279.38\" cy=\"1408.07\" r=\"22.03\" style=\"fill:none;stroke:#1A476F;stroke-width:8.64\"/>\n",
       "\t<path d=\" M354.05 1722.04 L2074.92 1444.83 L3795.66 1167.62\" stroke-linejoin=\"round\" style=\"fill:none;stroke:#90353B;stroke-width:8.64\"/>\n",
       "\t<line x1=\"290.81\" y1=\"2233.63\" x2=\"290.81\" y2=\"100.86\" style=\"stroke:#000000;stroke-width:5.76\"/>\n",
       "\t<line x1=\"290.81\" y1=\"2170.27\" x2=\"250.84\" y2=\"2170.27\" style=\"stroke:#000000;stroke-width:5.76\"/>\n",
       "\t<text x=\"200.73\" y=\"2170.27\" style=\"font-family:'Helvetica';font-size:99.99px;fill:#000000\" transform=\"rotate(-90 200.73,2170.27)\" text-anchor=\"middle\">0</text>\n",
       "\t<line x1=\"290.81\" y1=\"1769.06\" x2=\"250.84\" y2=\"1769.06\" style=\"stroke:#000000;stroke-width:5.76\"/>\n",
       "\t<text x=\"200.73\" y=\"1769.06\" style=\"font-family:'Helvetica';font-size:99.99px;fill:#000000\" transform=\"rotate(-90 200.73,1769.06)\" text-anchor=\"middle\">20</text>\n",
       "\t<line x1=\"290.81\" y1=\"1367.85\" x2=\"250.84\" y2=\"1367.85\" style=\"stroke:#000000;stroke-width:5.76\"/>\n",
       "\t<text x=\"200.73\" y=\"1367.85\" style=\"font-family:'Helvetica';font-size:99.99px;fill:#000000\" transform=\"rotate(-90 200.73,1367.85)\" text-anchor=\"middle\">40</text>\n",
       "\t<line x1=\"290.81\" y1=\"966.64\" x2=\"250.84\" y2=\"966.64\" style=\"stroke:#000000;stroke-width:5.76\"/>\n",
       "\t<text x=\"200.73\" y=\"966.64\" style=\"font-family:'Helvetica';font-size:99.99px;fill:#000000\" transform=\"rotate(-90 200.73,966.64)\" text-anchor=\"middle\">60</text>\n",
       "\t<line x1=\"290.81\" y1=\"565.43\" x2=\"250.84\" y2=\"565.43\" style=\"stroke:#000000;stroke-width:5.76\"/>\n",
       "\t<text x=\"200.73\" y=\"565.43\" style=\"font-family:'Helvetica';font-size:99.99px;fill:#000000\" transform=\"rotate(-90 200.73,565.43)\" text-anchor=\"middle\">80</text>\n",
       "\t<line x1=\"290.81\" y1=\"164.22\" x2=\"250.84\" y2=\"164.22\" style=\"stroke:#000000;stroke-width:5.76\"/>\n",
       "\t<text x=\"200.73\" y=\"164.22\" style=\"font-family:'Helvetica';font-size:99.99px;fill:#000000\" transform=\"rotate(-90 200.73,164.22)\" text-anchor=\"middle\">100</text>\n",
       "\t<line x1=\"290.81\" y1=\"2233.63\" x2=\"3859.02\" y2=\"2233.63\" style=\"stroke:#000000;stroke-width:5.76\"/>\n",
       "\t<line x1=\"354.17\" y1=\"2233.63\" x2=\"354.17\" y2=\"2273.73\" style=\"stroke:#000000;stroke-width:5.76\"/>\n",
       "\t<text x=\"354.17\" y=\"2363.59\" style=\"font-family:'Helvetica';font-size:99.99px;fill:#000000\" text-anchor=\"middle\">-10</text>\n",
       "\t<line x1=\"1214.48\" y1=\"2233.63\" x2=\"1214.48\" y2=\"2273.73\" style=\"stroke:#000000;stroke-width:5.76\"/>\n",
       "\t<text x=\"1214.48\" y=\"2363.59\" style=\"font-family:'Helvetica';font-size:99.99px;fill:#000000\" text-anchor=\"middle\">-5</text>\n",
       "\t<line x1=\"2074.92\" y1=\"2233.63\" x2=\"2074.92\" y2=\"2273.73\" style=\"stroke:#000000;stroke-width:5.76\"/>\n",
       "\t<text x=\"2074.92\" y=\"2363.59\" style=\"font-family:'Helvetica';font-size:99.99px;fill:#000000\" text-anchor=\"middle\">0</text>\n",
       "\t<line x1=\"2935.35\" y1=\"2233.63\" x2=\"2935.35\" y2=\"2273.73\" style=\"stroke:#000000;stroke-width:5.76\"/>\n",
       "\t<text x=\"2935.35\" y=\"2363.59\" style=\"font-family:'Helvetica';font-size:99.99px;fill:#000000\" text-anchor=\"middle\">5</text>\n",
       "\t<line x1=\"3795.66\" y1=\"2233.63\" x2=\"3795.66\" y2=\"2273.73\" style=\"stroke:#000000;stroke-width:5.76\"/>\n",
       "\t<text x=\"3795.66\" y=\"2363.59\" style=\"font-family:'Helvetica';font-size:99.99px;fill:#000000\" text-anchor=\"middle\">10</text>\n",
       "\t<text x=\"2074.92\" y=\"2473.60\" style=\"font-family:'Helvetica';font-size:99.99px;fill:#000000\" text-anchor=\"middle\">Revised Combined Polity Score</text>\n",
       "\t<rect x=\"738.66\" y=\"2558.24\" width=\"2672.50\" height=\"186.37\" style=\"fill:#FFFFFF\"/>\n",
       "\t<rect x=\"741.54\" y=\"2561.12\" width=\"2666.75\" height=\"180.61\" style=\"fill:none;stroke:#000000;stroke-width:5.76\"/>\n",
       "\t<circle cx=\"803.88\" cy=\"2651.43\" r=\"26.35\" style=\"fill:#1A476F\"/>\n",
       "\t<circle cx=\"803.88\" cy=\"2651.43\" r=\"22.03\" style=\"fill:none;stroke:#1A476F;stroke-width:8.64\"/>\n",
       "\t<line x1=\"2347.78\" y1=\"2651.43\" x2=\"2722.13\" y2=\"2651.43\" style=\"stroke:#90353B;stroke-width:8.64\"/>\n",
       "\t<text x=\"885.80\" y=\"2686.46\" style=\"font-family:'Helvetica';font-size:99.99px;fill:#000000\">Corruption Perceptions Index</text>\n",
       "\t<text x=\"2782.15\" y=\"2686.46\" style=\"font-family:'Helvetica';font-size:99.99px;fill:#000000\">Fitted values</text>\n",
       "</svg>\n"
      ],
      "text/plain": [
       "This front-end cannot display the desired image type."
      ]
     },
     "metadata": {
      "image/svg+xml": {
       "height": 436,
       "width": 600
      }
     },
     "output_type": "display_data"
    }
   ],
   "source": [
    "twoway (scatter ti_cpi p_polity2) (lfit ti_cpi p_polity2)"
   ]
  },
  {
   "cell_type": "markdown",
   "metadata": {},
   "source": [
    "**Fråga 3.** Gör en regressionsanalys där `ti_cpi` är beroende variabel och `p_polity2` är oberoende variabel. Vad är b-koefficienten för `p_polity2`, dvs lutningen på linjen?"
   ]
  },
  {
   "cell_type": "code",
   "execution_count": 33,
   "metadata": {},
   "outputs": [
    {
     "name": "stdout",
     "output_type": "stream",
     "text": [
      "\n",
      "      Source |       SS           df       MS      Number of obs   =       164\n",
      "-------------+----------------------------------   F(1, 162)       =     37.84\n",
      "       Model |  11866.4497         1  11866.4497   Prob > F        =    0.0000\n",
      "    Residual |  50808.6905       162  313.633892   R-squared       =    0.1893\n",
      "-------------+----------------------------------   Adj R-squared   =    0.1843\n",
      "       Total |  62675.1402       163  384.510063   Root MSE        =     17.71\n",
      "\n",
      "------------------------------------------------------------------------------\n",
      "      ti_cpi |      Coef.   Std. Err.      t    P>|t|     [95% Conf. Interval]\n",
      "-------------+----------------------------------------------------------------\n",
      "   p_polity2 |   1.381805   .2246455     6.15   0.000     .9381936    1.825416\n",
      "       _cons |    36.1658   1.659724    21.79   0.000     32.88831    39.44328\n",
      "------------------------------------------------------------------------------\n"
     ]
    }
   ],
   "source": [
    "reg ti_cpi p_polity2"
   ]
  },
  {
   "cell_type": "markdown",
   "metadata": {},
   "source": [
    "**Fråga 4.** Använd b-koefficienten och interceptet i ovanstående analys och räkna ut vad ett land som har värdet 7 i demokrati förväntas ha för värde på korruptionsindexet."
   ]
  },
  {
   "cell_type": "code",
   "execution_count": 35,
   "metadata": {},
   "outputs": [
    {
     "name": "stdout",
     "output_type": "stream",
     "text": [
      "45.83\n"
     ]
    }
   ],
   "source": [
    "display 36.17 + 1.38*7"
   ]
  },
  {
   "cell_type": "markdown",
   "metadata": {},
   "source": [
    "**Fråga 5.** Upprepa föregående analys, men lägg nu till variabeln som visar avstånd från ekvatorn, `lp_lat_abst`. Vad händer med koefficienten för `p_polity2`?"
   ]
  },
  {
   "cell_type": "code",
   "execution_count": 34,
   "metadata": {},
   "outputs": [
    {
     "name": "stdout",
     "output_type": "stream",
     "text": [
      "\n",
      "      Source |       SS           df       MS      Number of obs   =       133\n",
      "-------------+----------------------------------   F(2, 130)       =     47.96\n",
      "       Model |  22637.7978         2  11318.8989   Prob > F        =    0.0000\n",
      "    Residual |   30677.721       130  235.982469   R-squared       =    0.4246\n",
      "-------------+----------------------------------   Adj R-squared   =    0.4157\n",
      "       Total |  53315.5188       132  403.905445   Root MSE        =    15.362\n",
      "\n",
      "------------------------------------------------------------------------------\n",
      "      ti_cpi |      Coef.   Std. Err.      t    P>|t|     [95% Conf. Interval]\n",
      "-------------+----------------------------------------------------------------\n",
      "   p_polity2 |   .7608305   .2291466     3.32   0.001     .3074914     1.21417\n",
      " lp_lat_abst |   62.58497   7.848372     7.97   0.000      47.0579    78.11203\n",
      "       _cons |   23.40746    2.41369     9.70   0.000     18.63227    28.18266\n",
      "------------------------------------------------------------------------------\n"
     ]
    }
   ],
   "source": [
    "reg ti_cpi p_polity2 lp_lat_abst"
   ]
  }
 ],
 "metadata": {
  "kernelspec": {
   "display_name": "Stata",
   "language": "stata",
   "name": "stata"
  },
  "language_info": {
   "file_extension": ".do",
   "mimetype": "text/x-stata",
   "name": "stata"
  }
 },
 "nbformat": 4,
 "nbformat_minor": 2
}
