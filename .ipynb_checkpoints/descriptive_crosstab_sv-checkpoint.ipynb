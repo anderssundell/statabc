{
 "cells": [
  {
   "cell_type": "markdown",
   "metadata": {},
   "source": [
    "# Korstabeller\n",
    "\n",
    "*av Anders Sundell*\n",
    "\n",
    "En statistisk analys ska vara korrekt, men den ska också gå att förklara på ett pedagogiskt och bra sätt. Går det att använda en enkel metod är det, allt annat lika, att föredra.\n",
    "\n",
    "En av de enklaste metoderna för att undersöka samband är så kallade korstabeller. Fördelen med dem är att de är relativt lätta att förstå och att de går snabbt att göra. Nackdelen är att det är krångligt (men inte omöjligt) att ta hänsyn till fler än två variabler. För det är regressionsanalys bättre. Men korstabeller kan vara bra för att ge en snabb överblick av ett samband.\n",
    "\n",
    "För att ha något att jobba med kommer vi i det här exemplet att använda oss av <a href=\"https://qog.pol.gu.se/data/datadownloads/qogbasicdata\" target=_blank>QoG basic-datamängden</a>. Här har jag skrivit in sökvägen till datamängden direkt på internet, men man kan givetvis ladda ned den till sin dator och öppna den därifrån istället - det är vanligtvis att rekommendera."
   ]
  },
  {
   "cell_type": "code",
   "execution_count": 1,
   "metadata": {},
   "outputs": [
    {
     "name": "stdout",
     "output_type": "stream",
     "text": [
      "(Quality of Government Basic dataset 2018 - Cross-Section)\n"
     ]
    }
   ],
   "source": [
    "use \"https://www.qogdata.pol.gu.se/data/qog_bas_cs_jan18.dta\", clear"
   ]
  },
  {
   "cell_type": "markdown",
   "metadata": {},
   "source": [
    "## En enkel korstabell \n",
    "\n",
    "I det här exemplet ska vi titta närmare på sambandet mellan ett lands grad av demokrati och dess system för politisk representation, närmare bestämt om man har proportionell representation (PR) eller inte. PR innebär att man i valen fördelar mandat i förhållande till partiernas valresultat, som i Sverige. I den amerikanska kongressen har man inte PR, utan där väljer man ledamöter i enmansvalkretsar, där den som får flest röster i en valkrets väljs. Det kan bland annat få konsekvensen att ett parti som bara har något fler röster får en stor majoritet i parlamentet. En del forskning pekar också på att PR skulle vara mer gynnsamt för demokratin.\n",
    "\n",
    "En korstabell kan inte säga något om orsak och verkan, men vi kan åtminstone se om det är så att länder som har PR också är mer demokratiska.\n",
    "\n",
    "Som demokratiindikator använder vi oss av __fh_status__, som visar hur fritt ett land är, enligt den amerikanska organisationen Freedom House. För att mäta PR använder vi variabeln __dpi_pr__, från Database of Political Institutions."
   ]
  },
  {
   "cell_type": "code",
   "execution_count": 2,
   "metadata": {},
   "outputs": [
    {
     "name": "stdout",
     "output_type": "stream",
     "text": [
      "\n",
      "---------------------------------------------------------------------------------------------------------------------------------------------------------------------------------------------------------------------------------------------------------------\n",
      "fh_status                                                                                                                                                                                                                                        Freedom Status\n",
      "---------------------------------------------------------------------------------------------------------------------------------------------------------------------------------------------------------------------------------------------------------------\n",
      "\n",
      "                  type:  numeric (byte)\n",
      "                 label:  lblfhstatus\n",
      "\n",
      "                 range:  [1,3]                        units:  1\n",
      "         unique values:  3                        missing .:  0/194\n",
      "\n",
      "            tabulation:  Freq.   Numeric  Label\n",
      "                            89         1  Free\n",
      "                            54         2  Partly Free\n",
      "                            51         3  Not Free\n"
     ]
    }
   ],
   "source": [
    "codebook fh_status"
   ]
  },
  {
   "cell_type": "markdown",
   "metadata": {},
   "source": [
    "Först på type ser vi att det är en numerisk variabel. Den har alltså siffervärden, även om koderna i det här fallet motsvarar olika kvalitativa bedömningar.\n",
    "\n",
    "Vi ser att range är 1,3, vilket betyder att variabeln har värden som spänner mellan 1 och 3. Det finns också 3 unika (alltså olika) värden i datamängden.\n",
    "\n",
    "0 av 194 analysenheter i datamängden har \"missing\" på variabeln, vilket är bra. Variabelns information finns för alla länder i datamängden.\n",
    "\n",
    "Slutligen får vi också en så kallad frekvenstabell, som visar hur många analysenheter (i kolumnen Freq.) som har varje värde, och vad det värdet har för etikett (tex Free). Använder man samma kommando på en variabel med fler värden får man ut delvis andra uppgifter. Vi kan till exempel prova med ett mått på BNP per capita, gle_rgdpc:"
   ]
  },
  {
   "cell_type": "code",
   "execution_count": 9,
   "metadata": {},
   "outputs": [
    {
     "name": "stdout",
     "output_type": "stream",
     "text": [
      "\n",
      "---------------------------------------------------------------------------------------------------------------------------------------------------------------------------------------------------------------------------------------------------------------\n",
      "gle_rgdpc                                                                                                                                                                                                                            Real GDP per Capita (2005)\n",
      "---------------------------------------------------------------------------------------------------------------------------------------------------------------------------------------------------------------------------------------------------------------\n",
      "\n",
      "                  type:  numeric (float)\n",
      "\n",
      "                 range:  [285.95,95696.97]            units:  .01\n",
      "         unique values:  192                      missing .:  2/194\n",
      "\n",
      "                  mean:   12596.3\n",
      "              std. dev:   15803.7\n",
      "\n",
      "           percentiles:        10%       25%       50%       75%       90%\n",
      "                           1131.48   2297.41   6955.53   17127.8   32266.6\n"
     ]
    }
   ],
   "source": [
    "codebook gle_rgdpc"
   ]
  },
  {
   "cell_type": "markdown",
   "metadata": {},
   "source": [
    "Mycket är samma, men här fick vi också ut medelvärdet, standardavvikelsen, och olika percentiler. Den 50:ende percentilen (6955.53) är också medianen. Lika många länder har alltså BNP per capita under 6955.53 som över det."
   ]
  },
  {
   "cell_type": "markdown",
   "metadata": {},
   "source": [
    "## Summarize\n",
    "\n",
    "Summarize-kommandot, som kan förkortas sum, ger lite mer kondenserad statistik, och passar bäst att använda på kontinuerliga variabler där medelvärdet är av intresse, som till exempel BNP per capita. Det fina med kommandot är att man kan skriva in flera variabler på samma gång, och då få ut en lättöverskådlig tabell. Ett exempel:"
   ]
  },
  {
   "cell_type": "code",
   "execution_count": 7,
   "metadata": {},
   "outputs": [
    {
     "name": "stdout",
     "output_type": "stream",
     "text": [
      "\n",
      "    Variable |        Obs        Mean    Std. Dev.       Min        Max\n",
      "-------------+---------------------------------------------------------\n",
      "   gle_rgdpc |        192     12596.3     15803.7     285.95   95696.97\n",
      "     gle_pop |        192    35888.69    135162.5         10    1324353\n",
      "  wdi_poprul |        193    43.20123    23.53091          0      91.45\n",
      "  wdi_popurb |        193    56.79877    23.53091       8.55        100\n"
     ]
    }
   ],
   "source": [
    "sum gle_rgdpc gle_pop wdi_poprul wdi_popurb"
   ]
  },
  {
   "cell_type": "markdown",
   "metadata": {},
   "source": [
    "När man gör regressionsanalyser är oftast alla variabler av den här typen, och då passar sum-kommandot bra. I tabeller med beskrivande statistik i uppsatser är det ofta precis de här uppgifterna - antal observationer, medelvärde, standardavvikelse, min och max som efterfrågas."
   ]
  },
  {
   "cell_type": "markdown",
   "metadata": {},
   "source": [
    "## Tabulate\n",
    "\n",
    "För kategoriska variabler, alltså variabler med distinkta steg (utan decimaler), är det ofta inte intressant att titta på medelvärden. Variabeln fh_status som vi tittade på tidigare är till exempel en sådan. Då kan det istället vara bättre med en frekvenstabell, som listar de olika värdena, hur många analysenheter som har respektive värde, och hur många procent de utgör av hela datamängden.\n",
    "\n",
    "Kommandot kan förkortas tab."
   ]
  },
  {
   "cell_type": "code",
   "execution_count": 8,
   "metadata": {},
   "outputs": [
    {
     "name": "stdout",
     "output_type": "stream",
     "text": [
      "\n",
      "    Freedom |\n",
      "     Status |      Freq.     Percent        Cum.\n",
      "------------+-----------------------------------\n",
      "       Free |         89       45.88       45.88\n",
      "Partly Free |         54       27.84       73.71\n",
      "   Not Free |         51       26.29      100.00\n",
      "------------+-----------------------------------\n",
      "      Total |        194      100.00\n"
     ]
    }
   ],
   "source": [
    "tab fh_status"
   ]
  },
  {
   "cell_type": "markdown",
   "metadata": {},
   "source": [
    "Antalet analysenheter som har respektive värde såg vi också med codebook, men mer intressant än antalet är ofta procentandelen. Här kan vi se att knappa 46% av världens länder betecknas som fria, medan dryga 26% räknas som Not Free. Den sista kolumnen visar den kumulativa procenten, vilket man får fram genom att addera de olika procentkategorierna från toppen till botten. Där kan vi till exempel se att 73,71% av länderna är antingen Free eller Partly Free."
   ]
  },
  {
   "cell_type": "markdown",
   "metadata": {},
   "source": [
    "## Avslutning\n",
    "\n",
    "Vilken beskrivande statistik man ska presentera beror, som allt annat, på vilken frågeställning man undersöker. All information som är nödvändig för att tolka resultaten på ett bra sätt ska med, allt onödigt kan lämnas ute.\n",
    "\n",
    "Ofta är det också informativt att använda olika typer av grafer för att presentera beskrivande statistik, till exempel histogram, som visar fördelningen av en variabel. Det finns beskrivet i egna inlägg.\n",
    "\n",
    "Kom också ihåg att man alltid kan skriva help *kommando* för att få en uttömmande beskrivning av allt man kan göra med kommandot."
   ]
  },
  {
   "cell_type": "code",
   "execution_count": null,
   "metadata": {},
   "outputs": [],
   "source": []
  }
 ],
 "metadata": {
  "kernelspec": {
   "display_name": "Stata",
   "language": "stata",
   "name": "stata"
  },
  "language_info": {
   "file_extension": ".do",
   "mimetype": "text/x-stata",
   "name": "stata"
  }
 },
 "nbformat": 4,
 "nbformat_minor": 2
}
