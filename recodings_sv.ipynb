{
 "cells": [
  {
   "cell_type": "markdown",
   "metadata": {},
   "source": [
    "# Koda om variabler\n",
    "\n",
    "*av Anders Sundell*\n",
    "\n",
    "Oftast när vi jobbar med dataanalys är det inte vi själva som konstruerat datamängden. Då är det troligt att variablerna inte passar perfekt med våra syften. Vi kanske bara är intresserade av några särskilda kategorier, vill göra specifika jämförelser, eller använda andra indelningar. Då behöver vi göra så kallade omkodningar. Det innebär att vi skapar nya variabler, utifrån de gamla.\n",
    "\n",
    "För detta finns det i Stata en mängd olika kommandon. I den här guiden kommer vi att gå igenom tre av de mest användbara: recode, generate och replace.\n",
    "\n",
    "För att ha något att jobba med kommer vi att använda oss av <a href=\"https://qog.pol.gu.se/data/datadownloads/qogbasicdata\" target=_blank>QoG basic-datamängden</a>. Här har jag skrivit in sökvägen till datamängden direkt på internet, men man kan givetvis ladda ned den till sin dator och öppna den därifrån istället - det är vanligtvis att rekommendera. "
   ]
  },
  {
   "cell_type": "code",
   "execution_count": 6,
   "metadata": {},
   "outputs": [
    {
     "name": "stdout",
     "output_type": "stream",
     "text": [
      "(Quality of Government Basic dataset 2018 - Cross-Section)\n"
     ]
    }
   ],
   "source": [
    "use \"https://www.qogdata.pol.gu.se/data/qog_bas_cs_jan18.dta\", clear"
   ]
  },
  {
   "cell_type": "markdown",
   "metadata": {},
   "source": [
    "## Recode\n",
    "\n",
    "Recode-kommandot bygger på att man byter ut olika värden på en variabel mot något annat. Man kan byta ut enskilda värden, eller olika \"ranges\", dvs 5-19 eller 28-752.\n",
    "\n",
    "Vi kan till exempel titta på organisationen Freedom House's kategorisering av världens länder som \"Free,\" \"Partly free,\" och \"Not free.\" Vi gör det med kommandot tab, som visar hur många analysenheter som har respektive värde."
   ]
  },
  {
   "cell_type": "code",
   "execution_count": 10,
   "metadata": {},
   "outputs": [
    {
     "name": "stdout",
     "output_type": "stream",
     "text": [
      "\n",
      "    Freedom |\n",
      "     Status |      Freq.     Percent        Cum.\n",
      "------------+-----------------------------------\n",
      "       Free |         89       45.88       45.88\n",
      "Partly Free |         54       27.84       73.71\n",
      "   Not Free |         51       26.29      100.00\n",
      "------------+-----------------------------------\n",
      "      Total |        194      100.00\n"
     ]
    }
   ],
   "source": [
    "tab fh_status"
   ]
  },
  {
   "cell_type": "markdown",
   "metadata": {},
   "source": [
    "89 länder har värdet \"Free\", 54 \"Partly free\" och 51 \"Not free.\" Nu är det i datamängden inte så att de orden är inkodade. Istället är variabeln sparad som siffervärden, och så har varje värde en etikett. För att kolla på de faktiska värdena kan vi lägga till ett option på tab-kommandot, nolabel:"
   ]
  },
  {
   "cell_type": "code",
   "execution_count": 11,
   "metadata": {},
   "outputs": [
    {
     "name": "stdout",
     "output_type": "stream",
     "text": [
      "\n",
      "    Freedom |\n",
      "     Status |      Freq.     Percent        Cum.\n",
      "------------+-----------------------------------\n",
      "          1 |         89       45.88       45.88\n",
      "          2 |         54       27.84       73.71\n",
      "          3 |         51       26.29      100.00\n",
      "------------+-----------------------------------\n",
      "      Total |        194      100.00\n"
     ]
    }
   ],
   "source": [
    "tab fh_status, nolabel"
   ]
  },
  {
   "cell_type": "markdown",
   "metadata": {},
   "source": [
    "Det här är de värden som Stata faktiskt räknar med. Free har alltså värdet 1, Partly free har värdet 2 och Not free värdet 3. Om vi vill koda om variabeln måste vi använde de här sifferkoderna, inte orden \"Free\" osv.\n",
    "\n",
    "Låt oss nu säga att vi vill särskilja demokratierna, länderna som har värdet \"Free.\" Vi vill göra en ny variabel som är 1 för demokratier, och 0 för ickedemokratier. Omkodningen vi vill göra är alltså:\n",
    "\n",
    "1 &rarr; 1 <br>\n",
    "2 &rarr; 0 <br>\n",
    "3 &rarr; 0 <br>\n",
    "\n",
    "För detta kan vi använda recode-kommandot. Strukturen är att man skriver recode, vilken variabel man ska omkoda, hur den ska omkodas, och sen ett option som berättar vad den nya variabeln ska heta. Vi vill inte ändra på den ursprungliga variabeln."
   ]
  },
  {
   "cell_type": "code",
   "execution_count": 15,
   "metadata": {},
   "outputs": [
    {
     "name": "stdout",
     "output_type": "stream",
     "text": [
      "(105 differences between fh_status and democracy)\n"
     ]
    }
   ],
   "source": [
    "recode fh_status (1 = 1) (2 3 = 0), generate(democracy)"
   ]
  },
  {
   "cell_type": "markdown",
   "metadata": {},
   "source": [
    "Varje parentes innehåller de gamla värdena till vänster, och det nya värdet till höger. 1 ska alltså bli till 1, 2 och 3 ska bli till noll. Och den nya variabeln ska heta demokrati. Sen ska man alltid dubbelkolla att det blev rätt:"
   ]
  },
  {
   "cell_type": "code",
   "execution_count": 17,
   "metadata": {},
   "outputs": [
    {
     "name": "stdout",
     "output_type": "stream",
     "text": [
      "\n",
      "  RECODE of |\n",
      "  fh_status |\n",
      "   (Freedom |\n",
      "    Status) |      Freq.     Percent        Cum.\n",
      "------------+-----------------------------------\n",
      "          0 |        105       54.12       54.12\n",
      "          1 |         89       45.88      100.00\n",
      "------------+-----------------------------------\n",
      "      Total |        194      100.00\n"
     ]
    }
   ],
   "source": [
    "tab democracy"
   ]
  },
  {
   "cell_type": "markdown",
   "metadata": {},
   "source": [
    "Det är fortfarande 194 länder, 89 länder har värdet 1, och 105 har värdet 0. Det stämmer bra eftersom det var 54+51=105 som hade värdena 2 och 3 på den gamla variabeln.\n",
    "\n",
    "Om man inte vill lista alla enskilda värden kan man använda sig av / för att uttrycka ett intervall. Om vi till exempel skulle koda om variabeln fh_rol, som visar landets grad av \"Rule of law.\" Variabeln har värdena 0-16, och vi kanske vill att de som har värdet 10-16 ska få en etta på en ny variabeln, och de som har värdet 0-9 ska få en nolla."
   ]
  },
  {
   "cell_type": "code",
   "execution_count": 14,
   "metadata": {},
   "outputs": [
    {
     "name": "stdout",
     "output_type": "stream",
     "text": [
      "(183 differences between fh_rol and highruleoflaw)\n"
     ]
    }
   ],
   "source": [
    "recode fh_rol (0/9 = 0) (10/16 = 1), generate(highruleoflaw)"
   ]
  },
  {
   "cell_type": "markdown",
   "metadata": {},
   "source": [
    "## Generate\n",
    "\n",
    "Man kan också göra variabler \"från scratch.\" Kommandot generate skapar en ny variabel i datamängden. Kombinerad med if-satser - villkor som bara tillämpar kommandot på vissa analysenheter - och replace, som vi går igenom strax, är det ett mycket flexibelt verktyg.\n",
    "\n",
    "Strukturen är att man skriver generate, namnet på den nya variabel man vill göra, och sedan vad variabeln ska ha för värde. Vi kan till exempel göra en test-variabel som har värdet 0 för alla analysenheter. Jag använder här förkortningen \"gen\", som går lika bra att skriva som generate:"
   ]
  },
  {
   "cell_type": "code",
   "execution_count": 27,
   "metadata": {},
   "outputs": [],
   "source": [
    "gen test = 0"
   ]
  },
  {
   "cell_type": "code",
   "execution_count": 28,
   "metadata": {},
   "outputs": [
    {
     "name": "stdout",
     "output_type": "stream",
     "text": [
      "\n",
      "       test |      Freq.     Percent        Cum.\n",
      "------------+-----------------------------------\n",
      "          0 |        194      100.00      100.00\n",
      "------------+-----------------------------------\n",
      "      Total |        194      100.00\n"
     ]
    }
   ],
   "source": [
    "tab test"
   ]
  },
  {
   "cell_type": "markdown",
   "metadata": {},
   "source": [
    "194 länder har nu fått värdet 0 på den nya variabeln test. Inte så användbart, än så länge. Men man kan också använda generate för att göra nya varianter av existerande variabler. Datamängden innehåller till exempel en variabel för ländernas BNP per capita, gle_rgdpc. Den är uttryckt som antalet dollar BNP per invånare. Vi kan med kommandot summarize (kan förkortas sum) bland annat se medel, min och max-värde för variabeln:"
   ]
  },
  {
   "cell_type": "code",
   "execution_count": 29,
   "metadata": {},
   "outputs": [
    {
     "name": "stdout",
     "output_type": "stream",
     "text": [
      "\n",
      "    Variable |        Obs        Mean    Std. Dev.       Min        Max\n",
      "-------------+---------------------------------------------------------\n",
      "   gle_rgdpc |        192     12596.3     15803.7     285.95   95696.97\n"
     ]
    }
   ],
   "source": [
    "sum gle_rgdpc"
   ]
  },
  {
   "cell_type": "markdown",
   "metadata": {},
   "source": [
    "Medelvärdet är 12596,3 dollar, och maxvärdet är 95696,97. Låt säga att vi hellre skulle vilja att variabeln var uttryckt i antal tusen dollar. Vi gör då en ny variabel, som är den gamla variabeln delat på 1000. Det gör vi lätt med generate. Efter likamedtecknet kan man skriva vilken matematisk operation som helst:"
   ]
  },
  {
   "cell_type": "code",
   "execution_count": 30,
   "metadata": {},
   "outputs": [
    {
     "name": "stdout",
     "output_type": "stream",
     "text": [
      "(2 missing values generated)\n"
     ]
    }
   ],
   "source": [
    "gen bnpcap_1000 = gle_rgdpc/1000"
   ]
  },
  {
   "cell_type": "code",
   "execution_count": 31,
   "metadata": {},
   "outputs": [
    {
     "name": "stdout",
     "output_type": "stream",
     "text": [
      "\n",
      "    Variable |        Obs        Mean    Std. Dev.       Min        Max\n",
      "-------------+---------------------------------------------------------\n",
      "   gle_rgdpc |        192     12596.3     15803.7     285.95   95696.97\n",
      " bnpcap_1000 |        192     12.5963     15.8037     .28595   95.69697\n"
     ]
    }
   ],
   "source": [
    "sum gle_rgdpc bnpcap_1000"
   ]
  },
  {
   "cell_type": "markdown",
   "metadata": {},
   "source": [
    " När vi jämför den gamla och den nya variabeln ser vi att det är exakt lika många länder, och siffrorna är desamma, men decimaltecknet har flyttats tre steg åt vänster. Medelvärdet är nu 12,5963 istället för 12596,3. Så länge vi kommer ihåg att den nya variabeln visar BNP/capita i tusentals dollar spelar det ingen som helst roll för analyserna, men det kan bli lättare att visa i tabeller."
   ]
  },
  {
   "cell_type": "markdown",
   "metadata": {},
   "source": [
    "## Replace\n",
    "\n",
    "Replace liknar generate-kommandot, men här ändrar vi i befintliga variabler istället för att göra nya. Ofta gör man först en variabel med generate, och ändrar sedan på den utifrån några uppsatta villkor med replace. Här får vi använda if-satser.\n",
    "\n",
    "Vi kanske till exempel vill göra en variabel som har värdet 1 om landet är riktigt fattigt, och har en BNP per capita som är mindre än 1000 dollar. Alla andra länder ska få värdet 0. Vi börjar då med att göra en variabel där alla länder har värdet 0:"
   ]
  },
  {
   "cell_type": "code",
   "execution_count": 32,
   "metadata": {},
   "outputs": [],
   "source": [
    "gen poor = 0"
   ]
  },
  {
   "cell_type": "markdown",
   "metadata": {},
   "source": [
    "Sen är det dags att ändra så att de fattiga länderna får värdet 1. Det gör vi med replace-kommandot. Man skriver replace, variabeln man vill ändra på, sedan vad den ska få för värde, och sedan eventuella if-satser. If-satserna kan använda sig information från andra variabler."
   ]
  },
  {
   "cell_type": "code",
   "execution_count": 33,
   "metadata": {},
   "outputs": [
    {
     "name": "stdout",
     "output_type": "stream",
     "text": [
      "(19 real changes made)\n"
     ]
    }
   ],
   "source": [
    "replace poor = 1 if gle_rgdpc < 1000"
   ]
  },
  {
   "cell_type": "markdown",
   "metadata": {},
   "source": [
    "Vi ser nu att det gjordes 19 förändringar i variabeln - 19 länder fick värdet 1. Alla de har ett värde på gle_rgdpc som är lägre än 1000.\n",
    "\n",
    "Men här har det också smugit in sig ett problem. Om vi nu skulle kolla på den nya variabeln skulle vi märka att vi hade data för 194 länder. Men om man tittar på variabeln gle_rgdpc så finns det där bara data för 192 länder. För 2 länder saknar vi information; de är \"missing.\" I Stata har de värdet \".\" på variabeln, alltså en punkt. Analysenheter som har detta \"missing\"-värde ingår inte i analyser vi gör, vilket är bra.\n",
    "\n",
    "När vi gjorde vår nya \"poor\"-variabel hade vi inget villkor inbyggt, och även dessa två länder fick värdet 0. När vi sedan ändrade på variabeln replace undersökte Stata om de hade ett värde som var under 1000 på gle_rgdpc, och det hade de inte, eftersom de hade värdet \".\". Därför står de kvar som nollor. Värt att veta är att Stata (av någon okänd anledning) betraktar denna punkt som det största värdet som finns. Så om villkoret hade varit att man skulle ha ett värde på gle_rgdpc som var större än 1000 skulle de ha fått värdet 1! Det är inte riktigt intuitivt, men nödvändigt att veta.\n",
    "\n",
    "Hur som helst vill vi inte att de här två länderna som vi inte vet något om ska vara med i vår variabel överhuvudtaget. Vi tar därför och använder replace en gång till, för att ge dem värdet . på den nya variabeln."
   ]
  },
  {
   "cell_type": "code",
   "execution_count": 34,
   "metadata": {},
   "outputs": [
    {
     "name": "stdout",
     "output_type": "stream",
     "text": [
      "(2 real changes made, 2 to missing)\n"
     ]
    }
   ],
   "source": [
    "replace poor = . if gle_rgdpc == ."
   ]
  },
  {
   "cell_type": "markdown",
   "metadata": {},
   "source": [
    "En intressant sak att notera är att jag i if-satsen använde dubbla likamedtecken. Det är också lite svårt att greppa, men är standard för hur man skriver sådana här villkor. De olika villkor man har att välja på är:\n",
    "\n",
    "lika med: == <br>\n",
    "större eller lika med: >= <br>\n",
    "mindre eller lika med: <= <br>\n",
    "inte lika med: != <br>\n",
    "större än: > <br>\n",
    "mindre än: < <br>\n",
    "och: & <br>\n",
    "eller: | <br>\n",
    "\n",
    "De två sista kan användas för att kombinera olika villkor. Till exempel om vi ska skilja ut länder som både är fattiga och diktaturer:"
   ]
  },
  {
   "cell_type": "code",
   "execution_count": 35,
   "metadata": {},
   "outputs": [],
   "source": [
    "gen poordictatorship = 0"
   ]
  },
  {
   "cell_type": "code",
   "execution_count": 36,
   "metadata": {},
   "outputs": [
    {
     "name": "stdout",
     "output_type": "stream",
     "text": [
      "(5 real changes made)\n"
     ]
    }
   ],
   "source": [
    "replace poordictatorship = 1 if gle_rgdpc < 1000 & fh_status==3"
   ]
  },
  {
   "cell_type": "markdown",
   "metadata": {},
   "source": [
    "## Avslutning\n",
    "\n",
    "Det här var några alternativ för att koda om och göra nya variabler. Med dem kommer man väldigt långt, men det finns fler. De är inte heller ömsesidigt uteslutande. Det man kan göra med recode kan man ofta göra med replace, och vice versa. Man använder det man känner sig mest bekväm med, och som passar bäst för just den omkodning man är ute efter. Men kom ihåg att dubbelkolla så att det blev rätt efteråt!"
   ]
  }
 ],
 "metadata": {
  "kernelspec": {
   "display_name": "Stata",
   "language": "stata",
   "name": "stata"
  },
  "language_info": {
   "file_extension": ".do",
   "mimetype": "text/x-stata",
   "name": "stata"
  }
 },
 "nbformat": 4,
 "nbformat_minor": 2
}
