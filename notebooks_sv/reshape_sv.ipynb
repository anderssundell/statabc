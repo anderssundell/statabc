{
 "cells": [
  {
   "cell_type": "markdown",
   "metadata": {},
   "source": [
    "# Omforma paneldata mellan long och wide med `reshape`\n",
    "\n",
    "Paneldata kan som beskrivits [i ett annat inlägg](xtset_sv.html) struktureras på ett långt (long) eller brett (wide) sätt, beroende på syfte. Nedan visas exempel på hur de olika strukturerna ser ut. I bred data är varje variabel med flera gånger, en gång för varje tidsenhet, och en observation per panelenhet (land i det här fallet). I lång data är varje variabel bara med en gång, men varje panelenhet är med många gånger, och så anges tiden i en särskild variabel.\n",
    "\n",
    "I den här guiden ska vi gå igenom hur man omformar datan mellan de två strukturerna, med hjälp av kommandot `reshape`.\n",
    "\n",
    "**Bred (wide) data:**\n",
    "\n",
    "| country | population2000  | population2001  | population2002  |\n",
    "|---------|-----------------|-----------------|-----------------|\n",
    "| Sweden  | 8872284         | 8888675         | 8911899         |\n",
    "| Norway  | 4491572         | 4514907         | 4537240         |\n",
    "\n",
    "\n",
    "**Lång (long) data:**\n",
    "\n",
    "| country | year     | population      |\n",
    "|---------|----------|-----------------|\n",
    "| Sweden  | 2000     | 8872284         | \n",
    "| Sweden  | 2001     | 8888675         | \n",
    "| Sweden  | 2002     | 8911899         | \n",
    "| Norway  | 2000     | 4491572         | \n",
    "| Norway  | 2001     | 4514907         | \n",
    "| Norway  | 2002     | 4537240         |\n",
    "\n"
   ]
  },
  {
   "cell_type": "markdown",
   "metadata": {},
   "source": [
    "## Omforma från lång (long) till bred (wide)\n",
    "Vi laddar först in lite data att jobba med: QoG-institutets time-series cross-section dataset. Där har vi data om länder, över tid. För att det ska bli lite mer lättöverskådligt slänger vi också bort de flesta variabler. Vi behåller variablerna \"cname\", \"year\", \"fh_status\" (demokratistatus) och \"unna_pop\" (befolkningen), samt bara åren 2010 och 2011. Det gör vi med hjälp av kommandot `keep` och en [if-sats.](ifstatements_sv.html)"
   ]
  },
  {
   "cell_type": "code",
   "execution_count": 34,
   "metadata": {},
   "outputs": [
    {
     "name": "stdout",
     "output_type": "stream",
     "text": [
      "\n",
      "(Quality of Government Basic dataset 2018 - Time-Series)\n",
      "\n",
      "\n",
      "(14,770 observations deleted)\n"
     ]
    }
   ],
   "source": [
    "use \"https://www.qogdata.pol.gu.se/dataarchive/qog_bas_ts_jan18.dta\", clear\n",
    "keep cname year fh_status unna_pop\n",
    "keep if year==2010 | year==2011"
   ]
  },
  {
   "cell_type": "markdown",
   "metadata": {},
   "source": [
    "Om vi nu tittar på de första sex raderna i datasetet ser vi att varje land är med två gånger, en gång för 2010 och en gång för 2011. Varje variabel är bara med en gång."
   ]
  },
  {
   "cell_type": "code",
   "execution_count": 35,
   "metadata": {},
   "outputs": [
    {
     "name": "stdout",
     "output_type": "stream",
     "text": [
      "\n",
      "     +---------------------------------------------+\n",
      "     |       cname   year     fh_status   unna_pop |\n",
      "     |---------------------------------------------|\n",
      "  1. | Afghanistan   2010      Not Free   27962207 |\n",
      "  2. | Afghanistan   2011      Not Free   28809167 |\n",
      "  3. |     Albania   2010   Partly Free    2901883 |\n",
      "  4. |     Albania   2011   Partly Free    2886010 |\n",
      "  5. |     Algeria   2010      Not Free   36036159 |\n",
      "     |---------------------------------------------|\n",
      "  6. |     Algeria   2011      Not Free   36717132 |\n",
      "     +---------------------------------------------+\n"
     ]
    }
   ],
   "source": [
    "list in 1/6"
   ]
  },
  {
   "cell_type": "markdown",
   "metadata": {},
   "source": [
    "### Reshape-kommandot från long till wide\n",
    "Nu ska vi köra själva reshape-kommandot. Där behöver vi ange några saker.\n",
    "1. Om slutresultatet ska vara long eller wide.\n",
    "2. Vilka variabler det är som ska omformas (fh_status och unna_pop i det här fallet)\n",
    "3. Vilken variabel som anger panelenheten (cname i det här fallet)\n",
    "4. Vilken variabel som anger tidsenheten (year i det här fallet)\n",
    "\n",
    "De första två sakerna anges före kommatecknet, och de två andra i options `i()` (panelenheten) och `j()` (tidsenheten). Såhär ser det alltså ut:"
   ]
  },
  {
   "cell_type": "code",
   "execution_count": 36,
   "metadata": {},
   "outputs": [
    {
     "name": "stdout",
     "output_type": "stream",
     "text": [
      "(note: j = 2010 2011)\n",
      "\n",
      "Data                               long   ->   wide\n",
      "-----------------------------------------------------------------------------\n",
      "Number of obs.                      422   ->     211\n",
      "Number of variables                   4   ->       5\n",
      "j variable (2 values)              year   ->   (dropped)\n",
      "xij variables:\n",
      "                              fh_status   ->   fh_status2010 fh_status2011\n",
      "                               unna_pop   ->   unna_pop2010 unna_pop2011\n",
      "-----------------------------------------------------------------------------\n"
     ]
    }
   ],
   "source": [
    "reshape wide fh_status-unna_pop, i(cname) j(year)"
   ]
  },
  {
   "cell_type": "markdown",
   "metadata": {},
   "source": [
    "Vi får ut en liten statusrapport som visar hur det gick: Antalet observationer har minskat till hälften, vilket är som det ska - förut var ju varje land två observationer, nu är det bara en. Antalet variabler har dock blivit större. Variabeln \"year\" har försvunnit (den avspeglas nu i de andra variabelnamnen): fh_status har blivit till fh_status2010 och fh_status2011, medan unna_pop har blivit till unna_pop2010 och unna_pop2011. Vi kollar på de första sex raderna och ser att det fungerat."
   ]
  },
  {
   "cell_type": "code",
   "execution_count": 37,
   "metadata": {},
   "outputs": [
    {
     "name": "stdout",
     "output_type": "stream",
     "text": [
      "\n",
      "     +-----------------------------------------------------------------------+\n",
      "     |               cname   fh_sta~2010   unn~2010   fh_sta~2011   unn~2011 |\n",
      "     |-----------------------------------------------------------------------|\n",
      "  1. |         Afghanistan      Not Free   27962207      Not Free   28809167 |\n",
      "  2. |             Albania   Partly Free    2901883   Partly Free    2886010 |\n",
      "  3. |             Algeria      Not Free   36036159      Not Free   36717132 |\n",
      "  4. |             Andorra          Free      84419          Free      82326 |\n",
      "  5. |              Angola      Not Free   21219954      Not Free   21942296 |\n",
      "     |-----------------------------------------------------------------------|\n",
      "  6. | Antigua and Barbuda          Free      87233          Free      88152 |\n",
      "     +-----------------------------------------------------------------------+\n"
     ]
    }
   ],
   "source": [
    "list in 1/6"
   ]
  },
  {
   "cell_type": "markdown",
   "metadata": {},
   "source": [
    "### Ett möjligt problem: Dubletter (values of variable not unique)\n",
    "Om det inte fungerar kan ett problem vara att det finns dubletter i panel och tidsvariablerna. Då får man felmeddelandet \"values of variable year not unique within cname\". Använd kommandot duplicates list för att hitta dessa dubletter: `duplicates list cname year` och se vad som blivit fel."
   ]
  },
  {
   "cell_type": "markdown",
   "metadata": {},
   "source": [
    "## Omforma från bred (wide) till lång (long)\n",
    "Nu har vi alltså ett brett dataset. Om man vill omforma ett sådant till ett långt går det också bra att göra med `reshape`. Kanske är detta något vanligare om man hämtar data från källor som kanske inte är anpassade för statistisk analys.\n",
    "\n",
    "För att göra det behöver variabelnamnen se ut på ett speciellt sätt. Alla variabler som visar samma information ska heta samma sak, fast med olika siffror på slutet. De ska alltså heta \"unna_pop2010\", \"unna_pop2011\", \"unna_pop2012\" osv, inte \"unna2010pop\", \"unna2011pop\". Siffrorna måste vara på slutet för att Stata ska fatta.\n",
    "\n",
    "### Reshape-kommandot från bred (wide) till lång (long)\n",
    "Kommandot är likt det vi använder när vi ska gå från lång till bred, men inte riktigt. Först skriver vi `reshape long` för att signalera att det är ett långt dataset vi vill få till. Sedan ska vi skriva själva namnen på de variabler vi vill omforma, men bara grundformen av namnet! Alltså, utan årtalet. Stata letar då efter dessa grundformer i variabellistan. Om man har variabler som heter fh_status2010 och fh_status2011 skriver man alltså bara fh_status.\n",
    "\n",
    "Sedan ska vi i option `i()` ange panelenheten, och i option `j()` ska vi ange tidsenheten. Men observera att tidsenheten inte har en egen variabel än, vi bestämmer namnet på den här! Vi kallar variabeln som visar året för \"year\". Såhär blir alltså kommandot:"
   ]
  },
  {
   "cell_type": "code",
   "execution_count": 38,
   "metadata": {},
   "outputs": [
    {
     "name": "stdout",
     "output_type": "stream",
     "text": [
      "(note: j = 2010 2011)\n",
      "\n",
      "Data                               wide   ->   long\n",
      "-----------------------------------------------------------------------------\n",
      "Number of obs.                      211   ->     422\n",
      "Number of variables                   5   ->       4\n",
      "j variable (2 values)                     ->   year\n",
      "xij variables:\n",
      "            fh_status2010 fh_status2011   ->   fh_status\n",
      "              unna_pop2010 unna_pop2011   ->   unna_pop\n",
      "-----------------------------------------------------------------------------\n"
     ]
    }
   ],
   "source": [
    "reshape long fh_status unna_pop, i(cname) j(year)"
   ]
  },
  {
   "cell_type": "markdown",
   "metadata": {},
   "source": [
    "Här ser vi att antalet observationer har fördubblats, från 211 till 422, eftersom det var två år. Förut låg åren utspridda i kolumner, nu blir de utspridda på längden istället. Variablerna har minskat i antal från 5 till 4, och en ny variabel har skapats: year. Informationen i fh_status2010 och fh_status2011 kallas ryms nu i variabeln fh_status, och unna_pop2010 och unna_pop2011 är nu i variabeln unna_pop. Om vi tittar på de första sex raderna:"
   ]
  },
  {
   "cell_type": "code",
   "execution_count": 39,
   "metadata": {},
   "outputs": [
    {
     "name": "stdout",
     "output_type": "stream",
     "text": [
      "\n",
      "     +---------------------------------------------+\n",
      "     |       cname   year     fh_status   unna_pop |\n",
      "     |---------------------------------------------|\n",
      "  1. | Afghanistan   2010      Not Free   27962207 |\n",
      "  2. | Afghanistan   2011      Not Free   28809167 |\n",
      "  3. |     Albania   2010   Partly Free    2901883 |\n",
      "  4. |     Albania   2011   Partly Free    2886010 |\n",
      "  5. |     Algeria   2010      Not Free   36036159 |\n",
      "     |---------------------------------------------|\n",
      "  6. |     Algeria   2011      Not Free   36717132 |\n",
      "     +---------------------------------------------+\n"
     ]
    }
   ],
   "source": [
    "list in 1/6"
   ]
  },
  {
   "cell_type": "markdown",
   "metadata": {},
   "source": [
    "## Avslutning\n",
    "`reshape` kan alltså användas för att omvandla data fram och tillbaka mellan långt och brett format.\n",
    "\n",
    "När vi går från långt till brett:<br>\n",
    "`reshape long variabelnamn, i(panelvariabel) j(tidsvariabel)`\n",
    "\n",
    "När vi går från brett till långt:<br>\n",
    "`reshape wide variabelnamn, i(panelvariabel) j(ny tidsvariabel)`\n",
    "\n",
    "För de flesta analyser är långt format att föredra, eftersom man då kan [ställa in panelstrukturen med `xtset`](xtset_sv.html) och lätt göra analyser som drar nytta av tidsformatet."
   ]
  }
 ],
 "metadata": {
  "kernelspec": {
   "display_name": "Stata",
   "language": "stata",
   "name": "stata"
  },
  "language_info": {
   "file_extension": ".do",
   "mimetype": "text/x-stata",
   "name": "stata"
  }
 },
 "nbformat": 4,
 "nbformat_minor": 4
}
