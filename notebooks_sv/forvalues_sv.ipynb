{
 "cells": [
  {
   "cell_type": "markdown",
   "metadata": {},
   "source": [
    "# Loopar med `forvalues`"
   ]
  },
  {
   "cell_type": "markdown",
   "metadata": {},
   "source": [
    "*Av Anders Sundell*\n",
    "\n",
    "Loopar är ett kraftfullt sätt att effektivisera vår kod, och automatisera uppgifter som kräver en massa upprepning. Till exempel koda om en mängd variabler på samma sätt, göra om en och samma analys på en massa undergrupper, göra om en och samma analys för en mängd variabler, och så vidare.\n",
    "\n",
    "Det finns två huvudkommandon för loopar i Stata: `forvalues` och `foreach`. Här går vi igenom `forvalues`, som används när man loopar över tal i en sekvens. Med `foreach` kan vi istället loopa över både tal och textsträngar.\n",
    "\n",
    "## En enkel loop\n",
    "\n",
    "Principen med loopar är att vi berättar för Stata hur många gånger vi vill köra vår loop, och vad som ska ändras varje gång (det vore ju meningslöst att göra exakt samma sak gång på gång). Sen berättar vi vad som ska hända varje \"runda\", och så körs loopen så många gånger som vi specifierat.\n",
    "\n",
    "Den första loop vi ska göra är enklast tänkbara. Vi ska köra loopen fem gånger, och räkna upp ett tal från 1 till 5. Inne i själva loopen händer bara en sak - vi skriver ut talet.\n",
    "\n",
    "Koden är `forvalues nr = 1(1)5 {}`\n",
    "forvalues är kommandot. nr är vad vi väljer att kalla värdet vi ändrar för varje runda av loopen. Här kallar vi det \"nr\". Sedan står att \"nr\" ska börja på 1, och sedan räknas upp med 1 steg, tills det når värdet 5.\n",
    "\n",
    "Klamrarna { } avgränsar loopen. Allt innanför klamrarna upprepas en gång för varje runda. Det går bra att ha dem på olika rader.\n",
    "\n",
    "\"nr\" sparas som ett [lokalt macro](macros_sv.html), och vi kan sedan använda det inne i loopen. I koden nedan händer bara en sak inne i loopen, och det är display `nr', vilket betyder att vi vill visa värdet som \"nr\" har. Första rundan har det värdet 1, och därför skrivs en etta ut. Andra gången har den värdet 2, osv."
   ]
  },
  {
   "cell_type": "code",
   "execution_count": 12,
   "metadata": {},
   "outputs": [
    {
     "name": "stdout",
     "output_type": "stream",
     "text": [
      "\n",
      "1\n",
      "2\n",
      "3\n",
      "4\n",
      "5\n"
     ]
    }
   ],
   "source": [
    "forvalues nr = 1(1)5 {\n",
    "    display `nr'\n",
    "    }"
   ]
  },
  {
   "cell_type": "markdown",
   "metadata": {},
   "source": [
    "Man måste inte börja på 1, och måste inte räkna i steg om 1. I koden nedan börjar vi på 200 och räknar uppåt i steg om 100."
   ]
  },
  {
   "cell_type": "code",
   "execution_count": 13,
   "metadata": {},
   "outputs": [
    {
     "name": "stdout",
     "output_type": "stream",
     "text": [
      "\n",
      "200\n",
      "300\n",
      "400\n",
      "500\n",
      "600\n"
     ]
    }
   ],
   "source": [
    "forvalues nr = 200(100)600 {\n",
    "    display `nr'\n",
    "    }"
   ]
  },
  {
   "cell_type": "markdown",
   "metadata": {},
   "source": [
    "Svårare än så är det inte. Sen kan vi sätta in \"nr\" i olika sammanhang. Säg att vi skulle vilja göra tio tomma nya variabler, som vi sedan ska använda för att skriva in arbetslösheten för olika länder under åren 2005-2020. Vi vill ha en variabel som heter unemployment2005, en som heter unemployment2006, osv.\n",
    "\n",
    "Då kan vi lätt göra det med en loop:"
   ]
  },
  {
   "cell_type": "code",
   "execution_count": 14,
   "metadata": {},
   "outputs": [],
   "source": [
    "forvalues yr = 2005(1)2020 {\n",
    "    gen unemployment`yr' = .\n",
    "    }"
   ]
  },
  {
   "cell_type": "markdown",
   "metadata": {},
   "source": [
    "Vi har nu fått 16 nya variabler, som heter unemployment2005, unemployment2006, hela vägen upp till unemployment2020.\n",
    "\n",
    "Precis som med andra [macron](macros_sv.html) går de att stoppa in var som helst i koden."
   ]
  },
  {
   "cell_type": "markdown",
   "metadata": {},
   "source": [
    "## En lite mer utvecklad loop\n",
    "\n",
    "Vi ska nu prova att göra en lite mer avancerad loop. Den är egentligen inte mer tekniskt avancerad, utan bygger på samma principer, men gör lite mer inne i själva loopen.\n",
    "\n",
    "Det vi ska göra är att med hjälp av QoG-data göra en mängd grafer, som visar fördelningen av medellivslängd år för år. Sedan ska vi spara varje enskild graf som en bildfil, så att vi sedan kan sätta ihop dem i en snygg gif.\n",
    "\n",
    "I koden nedan laddas datan in, och så gör vi en graf för ett enskilt år, 2000. Vi anger att histogrammet ska börja på 16, att staplarna ska vara 2 år breda, att titeln ska vara \"Year: 2000\", att x-axeln ska markera tiotals år, och slutligen att y-axeln ska visa procent.\n",
    "\n",
    "Sedan sparar vi diagrammet som en .png-fil. Man kan även spara som .pdf till exempel."
   ]
  },
  {
   "cell_type": "code",
   "execution_count": 32,
   "metadata": {},
   "outputs": [
    {
     "name": "stdout",
     "output_type": "stream",
     "text": [
      "\n",
      "(Quality of Government Basic dataset 2018 - Time-Series)\n",
      "\n",
      "(bin=33, start=16, width=2)\n"
     ]
    },
    {
     "data": {
      "application/pdf": "[encoded data removed]",
      "image/svg+xml": [
       "<?xml version=\"1.0\" encoding=\"UTF-8\" standalone=\"no\"?>\n",
       "<!-- This is a Stata 16.0 generated SVG file (http://www.stata.com) -->\n",
       "\n",
       "<svg version=\"1.1\" width=\"600px\" height=\"436px\" viewBox=\"0 0 3960 2880\" xmlns=\"http://www.w3.org/2000/svg\" xmlns:xlink=\"http://www.w3.org/1999/xlink\">\n",
       "\t<desc>Stata Graph - Graph</desc>\n",
       "\t<rect x=\"0\" y=\"0\" width=\"3960\" height=\"2880\" style=\"fill:#EAF2F3;stroke:none\"/>\n",
       "\t<rect x=\"0.00\" y=\"0.00\" width=\"3959.88\" height=\"2880.00\" style=\"fill:#EAF2F3\"/>\n",
       "\t<rect x=\"2.88\" y=\"2.88\" width=\"3954.12\" height=\"2874.24\" style=\"fill:none;stroke:#EAF2F3;stroke-width:5.76\"/>\n",
       "\t<rect x=\"390.80\" y=\"275.35\" width=\"3468.22\" height=\"2213.83\" style=\"fill:#FFFFFF\"/>\n",
       "\t<rect x=\"393.68\" y=\"278.23\" width=\"3462.46\" height=\"2208.07\" style=\"fill:none;stroke:#FFFFFF;stroke-width:5.76\"/>\n",
       "\t<line x1=\"390.80\" y1=\"2489.19\" x2=\"3859.02\" y2=\"2489.19\" style=\"stroke:#EAF2F3;stroke-width:8.64\"/>\n",
       "\t<line x1=\"390.80\" y1=\"1951.60\" x2=\"3859.02\" y2=\"1951.60\" style=\"stroke:#EAF2F3;stroke-width:8.64\"/>\n",
       "\t<line x1=\"390.80\" y1=\"1414.01\" x2=\"3859.02\" y2=\"1414.01\" style=\"stroke:#EAF2F3;stroke-width:8.64\"/>\n",
       "\t<line x1=\"390.80\" y1=\"876.30\" x2=\"3859.02\" y2=\"876.30\" style=\"stroke:#EAF2F3;stroke-width:8.64\"/>\n",
       "\t<rect x=\"1478.94\" y=\"2430.15\" width=\"89.10\" height=\"59.03\" style=\"fill:#CAC27E\"/>\n",
       "\t<rect x=\"1483.26\" y=\"2434.47\" width=\"80.46\" height=\"50.39\" style=\"fill:none;stroke:#D7D29E;stroke-width:8.64\"/>\n",
       "\t<rect x=\"1657.14\" y=\"2430.15\" width=\"89.10\" height=\"59.03\" style=\"fill:#CAC27E\"/>\n",
       "\t<rect x=\"1661.46\" y=\"2434.47\" width=\"80.46\" height=\"50.39\" style=\"fill:none;stroke:#D7D29E;stroke-width:8.64\"/>\n",
       "\t<rect x=\"1746.24\" y=\"2371.00\" width=\"89.10\" height=\"118.18\" style=\"fill:#CAC27E\"/>\n",
       "\t<rect x=\"1750.56\" y=\"2375.32\" width=\"80.46\" height=\"109.55\" style=\"fill:none;stroke:#D7D29E;stroke-width:8.64\"/>\n",
       "\t<rect x=\"1835.34\" y=\"2134.75\" width=\"89.10\" height=\"354.43\" style=\"fill:#CAC27E\"/>\n",
       "\t<rect x=\"1839.66\" y=\"2139.07\" width=\"80.46\" height=\"345.79\" style=\"fill:none;stroke:#D7D29E;stroke-width:8.64\"/>\n",
       "\t<rect x=\"1924.44\" y=\"2016.57\" width=\"89.10\" height=\"472.62\" style=\"fill:#CAC27E\"/>\n",
       "\t<rect x=\"1928.76\" y=\"2020.89\" width=\"80.46\" height=\"463.98\" style=\"fill:none;stroke:#D7D29E;stroke-width:8.64\"/>\n",
       "\t<rect x=\"2013.54\" y=\"1957.54\" width=\"89.10\" height=\"531.65\" style=\"fill:#CAC27E\"/>\n",
       "\t<rect x=\"2017.86\" y=\"1961.86\" width=\"80.46\" height=\"523.01\" style=\"fill:none;stroke:#D7D29E;stroke-width:8.64\"/>\n",
       "\t<rect x=\"2102.64\" y=\"2252.94\" width=\"89.10\" height=\"236.25\" style=\"fill:#CAC27E\"/>\n",
       "\t<rect x=\"2106.96\" y=\"2257.26\" width=\"80.46\" height=\"227.61\" style=\"fill:none;stroke:#D7D29E;stroke-width:8.64\"/>\n",
       "\t<rect x=\"2191.74\" y=\"2193.78\" width=\"89.10\" height=\"295.40\" style=\"fill:#CAC27E\"/>\n",
       "\t<rect x=\"2196.06\" y=\"2198.10\" width=\"80.46\" height=\"286.76\" style=\"fill:none;stroke:#D7D29E;stroke-width:8.64\"/>\n",
       "\t<rect x=\"2280.84\" y=\"2193.78\" width=\"89.10\" height=\"295.40\" style=\"fill:#CAC27E\"/>\n",
       "\t<rect x=\"2285.16\" y=\"2198.10\" width=\"80.46\" height=\"286.76\" style=\"fill:none;stroke:#D7D29E;stroke-width:8.64\"/>\n",
       "\t<rect x=\"2369.94\" y=\"2075.60\" width=\"89.10\" height=\"413.59\" style=\"fill:#CAC27E\"/>\n",
       "\t<rect x=\"2374.26\" y=\"2079.92\" width=\"80.46\" height=\"404.95\" style=\"fill:none;stroke:#D7D29E;stroke-width:8.64\"/>\n",
       "\t<rect x=\"2459.04\" y=\"2252.94\" width=\"89.10\" height=\"236.25\" style=\"fill:#CAC27E\"/>\n",
       "\t<rect x=\"2463.36\" y=\"2257.26\" width=\"80.46\" height=\"227.61\" style=\"fill:none;stroke:#D7D29E;stroke-width:8.64\"/>\n",
       "\t<rect x=\"2548.14\" y=\"1957.54\" width=\"89.22\" height=\"531.65\" style=\"fill:#CAC27E\"/>\n",
       "\t<rect x=\"2552.46\" y=\"1961.86\" width=\"80.58\" height=\"523.01\" style=\"fill:none;stroke:#D7D29E;stroke-width:8.64\"/>\n",
       "\t<rect x=\"2637.36\" y=\"2075.60\" width=\"89.10\" height=\"413.59\" style=\"fill:#CAC27E\"/>\n",
       "\t<rect x=\"2641.68\" y=\"2079.92\" width=\"80.46\" height=\"404.95\" style=\"fill:none;stroke:#D7D29E;stroke-width:8.64\"/>\n",
       "\t<rect x=\"2726.46\" y=\"1839.35\" width=\"89.10\" height=\"649.83\" style=\"fill:#CAC27E\"/>\n",
       "\t<rect x=\"2730.78\" y=\"1843.67\" width=\"80.46\" height=\"641.19\" style=\"fill:none;stroke:#D7D29E;stroke-width:8.64\"/>\n",
       "\t<rect x=\"2815.56\" y=\"1780.20\" width=\"89.10\" height=\"708.99\" style=\"fill:#CAC27E\"/>\n",
       "\t<rect x=\"2819.88\" y=\"1784.52\" width=\"80.46\" height=\"700.35\" style=\"fill:none;stroke:#D7D29E;stroke-width:8.64\"/>\n",
       "\t<rect x=\"2904.66\" y=\"894.12\" width=\"89.10\" height=\"1595.06\" style=\"fill:#CAC27E\"/>\n",
       "\t<rect x=\"2908.98\" y=\"898.44\" width=\"80.46\" height=\"1586.42\" style=\"fill:none;stroke:#D7D29E;stroke-width:8.64\"/>\n",
       "\t<rect x=\"2993.76\" y=\"1366.74\" width=\"89.10\" height=\"1122.45\" style=\"fill:#CAC27E\"/>\n",
       "\t<rect x=\"2998.08\" y=\"1371.06\" width=\"80.46\" height=\"1113.81\" style=\"fill:none;stroke:#D7D29E;stroke-width:8.64\"/>\n",
       "\t<rect x=\"3082.86\" y=\"1780.20\" width=\"89.10\" height=\"708.99\" style=\"fill:#CAC27E\"/>\n",
       "\t<rect x=\"3087.18\" y=\"1784.52\" width=\"80.46\" height=\"700.35\" style=\"fill:none;stroke:#D7D29E;stroke-width:8.64\"/>\n",
       "\t<rect x=\"3171.96\" y=\"1425.77\" width=\"89.10\" height=\"1063.42\" style=\"fill:#CAC27E\"/>\n",
       "\t<rect x=\"3176.28\" y=\"1430.09\" width=\"80.46\" height=\"1054.78\" style=\"fill:none;stroke:#D7D29E;stroke-width:8.64\"/>\n",
       "\t<rect x=\"3261.06\" y=\"1721.17\" width=\"89.10\" height=\"768.02\" style=\"fill:#CAC27E\"/>\n",
       "\t<rect x=\"3265.38\" y=\"1725.49\" width=\"80.46\" height=\"759.38\" style=\"fill:none;stroke:#D7D29E;stroke-width:8.64\"/>\n",
       "\t<rect x=\"3350.16\" y=\"2371.00\" width=\"89.10\" height=\"118.18\" style=\"fill:#CAC27E\"/>\n",
       "\t<rect x=\"3354.48\" y=\"2375.32\" width=\"80.46\" height=\"109.55\" style=\"fill:none;stroke:#D7D29E;stroke-width:8.64\"/>\n",
       "\t<line x1=\"390.80\" y1=\"2489.19\" x2=\"390.80\" y2=\"275.35\" style=\"stroke:#000000;stroke-width:5.76\"/>\n",
       "\t<line x1=\"390.80\" y1=\"2489.19\" x2=\"350.83\" y2=\"2489.19\" style=\"stroke:#000000;stroke-width:5.76\"/>\n",
       "\t<text x=\"300.72\" y=\"2489.19\" style=\"font-family:'Helvetica';font-size:99.99px;fill:#000000\" transform=\"rotate(-90 300.72,2489.19)\" text-anchor=\"middle\">0</text>\n",
       "\t<line x1=\"390.80\" y1=\"1951.60\" x2=\"350.83\" y2=\"1951.60\" style=\"stroke:#000000;stroke-width:5.76\"/>\n",
       "\t<text x=\"300.72\" y=\"1951.60\" style=\"font-family:'Helvetica';font-size:99.99px;fill:#000000\" transform=\"rotate(-90 300.72,1951.60)\" text-anchor=\"middle\">5</text>\n",
       "\t<line x1=\"390.80\" y1=\"1414.01\" x2=\"350.83\" y2=\"1414.01\" style=\"stroke:#000000;stroke-width:5.76\"/>\n",
       "\t<text x=\"300.72\" y=\"1414.01\" style=\"font-family:'Helvetica';font-size:99.99px;fill:#000000\" transform=\"rotate(-90 300.72,1414.01)\" text-anchor=\"middle\">10</text>\n",
       "\t<line x1=\"390.80\" y1=\"876.30\" x2=\"350.83\" y2=\"876.30\" style=\"stroke:#000000;stroke-width:5.76\"/>\n",
       "\t<text x=\"300.72\" y=\"876.30\" style=\"font-family:'Helvetica';font-size:99.99px;fill:#000000\" transform=\"rotate(-90 300.72,876.30)\" text-anchor=\"middle\">15</text>\n",
       "\t<line x1=\"390.80\" y1=\"338.71\" x2=\"350.83\" y2=\"338.71\" style=\"stroke:#000000;stroke-width:5.76\"/>\n",
       "\t<text x=\"300.72\" y=\"338.71\" style=\"font-family:'Helvetica';font-size:99.99px;fill:#000000\" transform=\"rotate(-90 300.72,338.71)\" text-anchor=\"middle\">20</text>\n",
       "\t<text x=\"190.71\" y=\"1382.33\" style=\"font-family:'Helvetica';font-size:99.99px;fill:#000000\" transform=\"rotate(-90 190.71,1382.33)\" text-anchor=\"middle\">Percent</text>\n",
       "\t<line x1=\"390.80\" y1=\"2489.19\" x2=\"3859.02\" y2=\"2489.19\" style=\"stroke:#000000;stroke-width:5.76\"/>\n",
       "\t<line x1=\"498.71\" y1=\"2489.19\" x2=\"498.71\" y2=\"2529.16\" style=\"stroke:#000000;stroke-width:5.76\"/>\n",
       "\t<text x=\"498.71\" y=\"2619.14\" style=\"font-family:'Helvetica';font-size:99.99px;fill:#000000\" text-anchor=\"middle\">16</text>\n",
       "\t<line x1=\"944.21\" y1=\"2489.19\" x2=\"944.21\" y2=\"2529.16\" style=\"stroke:#000000;stroke-width:5.76\"/>\n",
       "\t<text x=\"944.21\" y=\"2619.14\" style=\"font-family:'Helvetica';font-size:99.99px;fill:#000000\" text-anchor=\"middle\">26</text>\n",
       "\t<line x1=\"1389.84\" y1=\"2489.19\" x2=\"1389.84\" y2=\"2529.16\" style=\"stroke:#000000;stroke-width:5.76\"/>\n",
       "\t<text x=\"1389.84\" y=\"2619.14\" style=\"font-family:'Helvetica';font-size:99.99px;fill:#000000\" text-anchor=\"middle\">36</text>\n",
       "\t<line x1=\"1835.34\" y1=\"2489.19\" x2=\"1835.34\" y2=\"2529.16\" style=\"stroke:#000000;stroke-width:5.76\"/>\n",
       "\t<text x=\"1835.34\" y=\"2619.14\" style=\"font-family:'Helvetica';font-size:99.99px;fill:#000000\" text-anchor=\"middle\">46</text>\n",
       "\t<line x1=\"2280.84\" y1=\"2489.19\" x2=\"2280.84\" y2=\"2529.16\" style=\"stroke:#000000;stroke-width:5.76\"/>\n",
       "\t<text x=\"2280.84\" y=\"2619.14\" style=\"font-family:'Helvetica';font-size:99.99px;fill:#000000\" text-anchor=\"middle\">56</text>\n",
       "\t<line x1=\"2726.46\" y1=\"2489.19\" x2=\"2726.46\" y2=\"2529.16\" style=\"stroke:#000000;stroke-width:5.76\"/>\n",
       "\t<text x=\"2726.46\" y=\"2619.14\" style=\"font-family:'Helvetica';font-size:99.99px;fill:#000000\" text-anchor=\"middle\">66</text>\n",
       "\t<line x1=\"3171.96\" y1=\"2489.19\" x2=\"3171.96\" y2=\"2529.16\" style=\"stroke:#000000;stroke-width:5.76\"/>\n",
       "\t<text x=\"3171.96\" y=\"2619.14\" style=\"font-family:'Helvetica';font-size:99.99px;fill:#000000\" text-anchor=\"middle\">76</text>\n",
       "\t<line x1=\"3617.46\" y1=\"2489.19\" x2=\"3617.46\" y2=\"2529.16\" style=\"stroke:#000000;stroke-width:5.76\"/>\n",
       "\t<text x=\"3617.46\" y=\"2619.14\" style=\"font-family:'Helvetica';font-size:99.99px;fill:#000000\" text-anchor=\"middle\">86</text>\n",
       "\t<text x=\"2124.91\" y=\"2729.16\" style=\"font-family:'Helvetica';font-size:99.99px;fill:#000000\" text-anchor=\"middle\">Life expectancy at birth, total (years)</text>\n",
       "\t<text x=\"2124.91\" y=\"215.98\" style=\"font-family:'Helvetica';font-size:139.96px;fill:#1E2D53\" text-anchor=\"middle\">Year: 2000</text>\n",
       "</svg>\n"
      ],
      "text/plain": [
       "This front-end cannot display the desired image type."
      ]
     },
     "metadata": {
      "image/svg+xml": {
       "height": 436,
       "width": 600
      }
     },
     "output_type": "display_data"
    },
    {
     "name": "stdout",
     "output_type": "stream",
     "text": [
      "\n",
      "\n",
      "\n",
      "\n",
      "(file /Users/anderssundell/Dropbox/Jupyter/stathelp/graphs/lifexp2000.pdf written in PDF format)\n"
     ]
    }
   ],
   "source": [
    "use \"https://www.qogdata.pol.gu.se/dataarchive/qog_bas_ts_jan18.dta\", clear\n",
    "\n",
    "histogram wdi_lifexp if year==2000, start(16) width(2) title(\"Year: 2000\") xlabel(16(10)90) ylabel(0(5)20) percent\n",
    "graph export \"/Users/anderssundell/Dropbox/Jupyter/stathelp/graphs/lifexp2000.png\", replace"
   ]
  },
  {
   "cell_type": "markdown",
   "metadata": {},
   "source": [
    "Ganska fint. Men nu ska vi göra det med en loop. Vi vill ha en sån här graf för alla år mellan 1960 och 2015. Vi tar då och gör en forvalues-loop, kopierar diagramkoden, och byter ut alla ställen där det står 2000 mot `yr'. Det står på tre ställen - dels i villkoret som anger vilken data som ska användas när histogrammet ska ritas, i titeln på grafen, och i filnamnet på pdf-filen som sparas. Det går lika bra att använda i alla sammanhang. Vi lägger även till quietly framför kommandona i loopen för att förhindra att vi här får upp en mängd grafer."
   ]
  },
  {
   "cell_type": "code",
   "execution_count": 36,
   "metadata": {},
   "outputs": [],
   "source": [
    "forvalues yr = 1960(1)2015 {\n",
    "    quietly histogram wdi_lifexp if year==`yr', start(16) width(2) title(\"Year: `yr'\") xlabel(16(10)90) ylabel(0(5)20) percent\n",
    "    quietly graph export \"/Users/anderssundell/Dropbox/Jupyter/stathelp/graphs/lifexp`yr'.png\", replace\n",
    "    }"
   ]
  },
  {
   "cell_type": "markdown",
   "metadata": {},
   "source": [
    "Vi får nu ut 56 filer, som kan sättas ihop till en animerad gif med något lämpligt program. Att göra den här animerade grafen manuellt, till exempel genom att kopiera samma kod 56 gånger, vore inte att rekommendera. Om man sedan kommer på att man vill ändra på något måste det ändras överallt. Med loopen behöver det bara ändras en gång.\n",
    "\n",
    "<img src = \"../images/lifexp.gif\" width=\"600\" />"
   ]
  },
  {
   "cell_type": "markdown",
   "metadata": {},
   "source": [
    "## Avslutning\n",
    "Loopar är som sagt väldigt kraftfulla, och gör repetitiva uppgifter mycket mer överskådliga. Och man kan stoppa in vad som helst innanför klamrarna som avgränsar loopen. Men om man behöver loopa över något annat än en sekvens nummer räcker inte forvalues till. Då får man använda sig av foreach, men det är en annan guide."
   ]
  }
 ],
 "metadata": {
  "kernelspec": {
   "display_name": "Stata",
   "language": "stata",
   "name": "stata"
  },
  "language_info": {
   "file_extension": ".do",
   "mimetype": "text/x-stata",
   "name": "stata"
  }
 },
 "nbformat": 4,
 "nbformat_minor": 4
}
