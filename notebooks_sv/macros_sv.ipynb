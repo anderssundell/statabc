{
 "cells": [
  {
   "cell_type": "markdown",
   "metadata": {},
   "source": [
    "# Macron"
   ]
  },
  {
   "cell_type": "markdown",
   "metadata": {},
   "source": [
    "*Av Anders Sundell.*\n",
    "\n",
    "De viktigaste byggstenarna när vi gör analyser i Stata är variabler. De är delar av datamatrisen, där varje analysenhet har ett eget värde.\n",
    "\n",
    "Men i viss fall kan det vara intressant att använda sig av något som i Stata kallas \"macron\". Det är tillfälliga objekt, antingen tal eller textsträngar, som kan användas för att effektivisera vår kod.\n",
    "\n",
    "Macron är som en sorts \"stand-ins\" för något annat, ett namn som representerar något annat, så att vi kan referera till namnet istället för själva grejen. Beskrivet så kanske det verkar onödigt, men i större skala är det ibland effektivt. När vi använder oss av loopar är de essentiella.\n",
    "\n",
    "Det finns två typer av macro, \"local macros\" och \"global macros\". De fyller exakt samma funktion, men är lite olika i teknisk mening. Vi börjar med att gå igenom globala macron, och forstsätter med de lokala.\n",
    "\n",
    "## Globala macron"
   ]
  },
  {
   "cell_type": "markdown",
   "metadata": {},
   "source": [
    "Globala macron är symboler som representerar något annat. Vi anger vad symbolen ska representera, och kan sedan hänvisa till symbolen och få ut det den representerar. **När vi jobbar med macron läser Stata vår kod, och byter ut macrot mot det det representerar.**\n",
    "\n",
    "Men innan vi ger oss in på olika exempel laddar vi in data att jobba med:"
   ]
  },
  {
   "cell_type": "code",
   "execution_count": 14,
   "metadata": {},
   "outputs": [
    {
     "name": "stdout",
     "output_type": "stream",
     "text": [
      "(Quality of Government Basic dataset 2018 - Cross-Section)\n"
     ]
    }
   ],
   "source": [
    "use \"https://www.qogdata.pol.gu.se/dataarchive/qog_bas_cs_jan18.dta\", clear"
   ]
  },
  {
   "cell_type": "markdown",
   "metadata": {},
   "source": [
    "Globala macron anges med ett namn. Tex kan vi skriva"
   ]
  },
  {
   "cell_type": "code",
   "execution_count": 1,
   "metadata": {},
   "outputs": [],
   "source": [
    "global seven = 7"
   ]
  },
  {
   "cell_type": "markdown",
   "metadata": {},
   "source": [
    "När vi sedan vill hänvisa till det macrot skriver vi ett dollartecken och sedan namnet. Till exempel:"
   ]
  },
  {
   "cell_type": "code",
   "execution_count": 3,
   "metadata": {},
   "outputs": [
    {
     "name": "stdout",
     "output_type": "stream",
     "text": [
      "7\n"
     ]
    }
   ],
   "source": [
    "display $seven"
   ]
  },
  {
   "cell_type": "markdown",
   "metadata": {},
   "source": [
    "Vi angav först att det globala macrot \"seven\" skulle få värdet 7, och sedan bad vi stata att visa vad samma makro hade för värde, och då var det sju. Den andra raden läses alltså av Stata som `display 7` och då visar Stata 7.\n",
    "\n",
    "Vi kan göra samma sak med en textsträng, om vi anger textsträngen inom citationstecken:"
   ]
  },
  {
   "cell_type": "code",
   "execution_count": 51,
   "metadata": {},
   "outputs": [],
   "source": [
    "global seven = \"sju är en siffra\""
   ]
  },
  {
   "cell_type": "markdown",
   "metadata": {},
   "source": [
    "och sedan"
   ]
  },
  {
   "cell_type": "code",
   "execution_count": 54,
   "metadata": {},
   "outputs": [
    {
     "name": "stdout",
     "output_type": "stream",
     "text": [
      "sju är en siffra\n"
     ]
    }
   ],
   "source": [
    "display \"$seven\""
   ]
  },
  {
   "cell_type": "markdown",
   "metadata": {},
   "source": [
    "Notera att jag nu var tvungen att skriva display `\"$seven\"`, dvs sätta $seven inom citationstecken. Anledningen är att Stata när den läser koden bara byter ut macrot mot det macrot representerar. Om vi bara hade skrivit"
   ]
  },
  {
   "cell_type": "code",
   "execution_count": 13,
   "metadata": {},
   "outputs": [
    {
     "name": "stdout",
     "output_type": "stream",
     "text": [
      "sju not found\n"
     ]
    },
    {
     "name": "stderr",
     "output_type": "stream",
     "text": [
      "r(111);\n"
     ]
    },
    {
     "name": "stdout",
     "output_type": "stream",
     "text": [
      "\n"
     ]
    }
   ],
   "source": [
    "display $seven"
   ]
  },
  {
   "cell_type": "markdown",
   "metadata": {},
   "source": [
    "Så får vi ett felmeddelande. Stata läser då koden som `display sju är en siffra` och förstår inte var \"sju\" är. Om vi vill att Stata ska behandla vårt macro som text måste vi ange det som text.\n",
    "\n",
    "Men ibland vill vi inte det. Vi kan till exempel ange ett macro som är en kodsnutt, inte ett stycke text. Nedan anger vi att ett macrot m_scatter är en del av en kod som gör en graf."
   ]
  },
  {
   "cell_type": "code",
   "execution_count": 19,
   "metadata": {},
   "outputs": [],
   "source": [
    "global m_scatter = \"(scatter ti_cpi p_polity2)\""
   ]
  },
  {
   "cell_type": "markdown",
   "metadata": {},
   "source": [
    "I macrot `m_scatter` finns nu sparat textsträngen `(scatter ti_cpi p_polity2)`. Sedan kan vi använda det macrot för att göra själva grafen:"
   ]
  },
  {
   "cell_type": "code",
   "execution_count": 20,
   "metadata": {},
   "outputs": [
    {
     "data": {
      "application/pdf": "[encoded data removed]",
      "image/svg+xml": [
       "<?xml version=\"1.0\" encoding=\"UTF-8\" standalone=\"no\"?>\n",
       "<!-- This is a Stata 16.0 generated SVG file (http://www.stata.com) -->\n",
       "\n",
       "<svg version=\"1.1\" width=\"600px\" height=\"436px\" viewBox=\"0 0 3960 2880\" xmlns=\"http://www.w3.org/2000/svg\" xmlns:xlink=\"http://www.w3.org/1999/xlink\">\n",
       "\t<desc>Stata Graph - Graph</desc>\n",
       "\t<rect x=\"0\" y=\"0\" width=\"3960\" height=\"2880\" style=\"fill:#EAF2F3;stroke:none\"/>\n",
       "\t<rect x=\"0.00\" y=\"0.00\" width=\"3959.88\" height=\"2880.00\" style=\"fill:#EAF2F3\"/>\n",
       "\t<rect x=\"2.88\" y=\"2.88\" width=\"3954.12\" height=\"2874.24\" style=\"fill:none;stroke:#EAF2F3;stroke-width:5.76\"/>\n",
       "\t<rect x=\"390.80\" y=\"100.86\" width=\"3468.22\" height=\"2388.33\" style=\"fill:#FFFFFF\"/>\n",
       "\t<rect x=\"393.68\" y=\"103.74\" width=\"3462.46\" height=\"2382.57\" style=\"fill:none;stroke:#FFFFFF;stroke-width:5.76\"/>\n",
       "\t<line x1=\"390.80\" y1=\"2425.82\" x2=\"3859.02\" y2=\"2425.82\" style=\"stroke:#EAF2F3;stroke-width:8.64\"/>\n",
       "\t<line x1=\"390.80\" y1=\"1973.50\" x2=\"3859.02\" y2=\"1973.50\" style=\"stroke:#EAF2F3;stroke-width:8.64\"/>\n",
       "\t<line x1=\"390.80\" y1=\"1521.18\" x2=\"3859.02\" y2=\"1521.18\" style=\"stroke:#EAF2F3;stroke-width:8.64\"/>\n",
       "\t<line x1=\"390.80\" y1=\"1068.86\" x2=\"3859.02\" y2=\"1068.86\" style=\"stroke:#EAF2F3;stroke-width:8.64\"/>\n",
       "\t<line x1=\"390.80\" y1=\"616.54\" x2=\"3859.02\" y2=\"616.54\" style=\"stroke:#EAF2F3;stroke-width:8.64\"/>\n",
       "\t<line x1=\"390.80\" y1=\"164.22\" x2=\"3859.02\" y2=\"164.22\" style=\"stroke:#EAF2F3;stroke-width:8.64\"/>\n",
       "\t<circle cx=\"1957.85\" cy=\"2154.55\" r=\"26.35\" style=\"fill:#1A476F\"/>\n",
       "\t<circle cx=\"1957.85\" cy=\"2154.55\" r=\"22.03\" style=\"fill:none;stroke:#1A476F;stroke-width:8.64\"/>\n",
       "\t<circle cx=\"3628.60\" cy=\"1679.59\" r=\"26.35\" style=\"fill:#1A476F\"/>\n",
       "\t<circle cx=\"3628.60\" cy=\"1679.59\" r=\"22.03\" style=\"fill:none;stroke:#1A476F;stroke-width:8.64\"/>\n",
       "\t<circle cx=\"2459.04\" cy=\"1611.65\" r=\"26.35\" style=\"fill:#1A476F\"/>\n",
       "\t<circle cx=\"2459.04\" cy=\"1611.65\" r=\"22.03\" style=\"fill:none;stroke:#1A476F;stroke-width:8.64\"/>\n",
       "\t<circle cx=\"1790.66\" cy=\"1996.15\" r=\"26.35\" style=\"fill:#1A476F\"/>\n",
       "\t<circle cx=\"1790.66\" cy=\"1996.15\" r=\"22.03\" style=\"fill:none;stroke:#1A476F;stroke-width:8.64\"/>\n",
       "\t<circle cx=\"955.35\" cy=\"1770.05\" r=\"26.35\" style=\"fill:#1A476F\"/>\n",
       "\t<circle cx=\"955.35\" cy=\"1770.05\" r=\"22.03\" style=\"fill:none;stroke:#1A476F;stroke-width:8.64\"/>\n",
       "\t<circle cx=\"3461.53\" cy=\"1656.94\" r=\"26.35\" style=\"fill:#1A476F\"/>\n",
       "\t<circle cx=\"3461.53\" cy=\"1656.94\" r=\"22.03\" style=\"fill:none;stroke:#1A476F;stroke-width:8.64\"/>\n",
       "\t<circle cx=\"3795.66\" cy=\"616.54\" r=\"26.35\" style=\"fill:#1A476F\"/>\n",
       "\t<circle cx=\"3795.66\" cy=\"616.54\" r=\"22.03\" style=\"fill:none;stroke:#1A476F;stroke-width:8.64\"/>\n",
       "\t<circle cx=\"3795.66\" cy=\"797.47\" r=\"26.35\" style=\"fill:#1A476F\"/>\n",
       "\t<circle cx=\"3795.66\" cy=\"797.47\" r=\"22.03\" style=\"fill:none;stroke:#1A476F;stroke-width:8.64\"/>\n",
       "\t<circle cx=\"454.04\" cy=\"1317.73\" r=\"26.35\" style=\"fill:#1A476F\"/>\n",
       "\t<circle cx=\"454.04\" cy=\"1317.73\" r=\"22.03\" style=\"fill:none;stroke:#1A476F;stroke-width:8.64\"/>\n",
       "\t<circle cx=\"2291.97\" cy=\"1860.52\" r=\"26.35\" style=\"fill:#1A476F\"/>\n",
       "\t<circle cx=\"2291.97\" cy=\"1860.52\" r=\"22.03\" style=\"fill:none;stroke:#1A476F;stroke-width:8.64\"/>\n",
       "\t<circle cx=\"2960.22\" cy=\"1589.12\" r=\"26.35\" style=\"fill:#1A476F\"/>\n",
       "\t<circle cx=\"2960.22\" cy=\"1589.12\" r=\"22.03\" style=\"fill:none;stroke:#1A476F;stroke-width:8.64\"/>\n",
       "\t<circle cx=\"3461.53\" cy=\"707.01\" r=\"26.35\" style=\"fill:#1A476F\"/>\n",
       "\t<circle cx=\"3461.53\" cy=\"707.01\" r=\"22.03\" style=\"fill:none;stroke:#1A476F;stroke-width:8.64\"/>\n",
       "\t<circle cx=\"2960.22\" cy=\"955.75\" r=\"26.35\" style=\"fill:#1A476F\"/>\n",
       "\t<circle cx=\"2960.22\" cy=\"955.75\" r=\"22.03\" style=\"fill:none;stroke:#1A476F;stroke-width:8.64\"/>\n",
       "\t<circle cx=\"3294.47\" cy=\"1634.29\" r=\"26.35\" style=\"fill:#1A476F\"/>\n",
       "\t<circle cx=\"3294.47\" cy=\"1634.29\" r=\"22.03\" style=\"fill:none;stroke:#1A476F;stroke-width:8.64\"/>\n",
       "\t<circle cx=\"3461.53\" cy=\"1001.05\" r=\"26.35\" style=\"fill:#1A476F\"/>\n",
       "\t<circle cx=\"3461.53\" cy=\"1001.05\" r=\"22.03\" style=\"fill:none;stroke:#1A476F;stroke-width:8.64\"/>\n",
       "\t<circle cx=\"3461.53\" cy=\"1453.37\" r=\"26.35\" style=\"fill:#1A476F\"/>\n",
       "\t<circle cx=\"3461.53\" cy=\"1453.37\" r=\"22.03\" style=\"fill:none;stroke:#1A476F;stroke-width:8.64\"/>\n",
       "\t<circle cx=\"3461.53\" cy=\"1476.01\" r=\"26.35\" style=\"fill:#1A476F\"/>\n",
       "\t<circle cx=\"3461.53\" cy=\"1476.01\" r=\"22.03\" style=\"fill:none;stroke:#1A476F;stroke-width:8.64\"/>\n",
       "\t<circle cx=\"3628.60\" cy=\"1453.37\" r=\"26.35\" style=\"fill:#1A476F\"/>\n",
       "\t<circle cx=\"3628.60\" cy=\"1453.37\" r=\"22.03\" style=\"fill:none;stroke:#1A476F;stroke-width:8.64\"/>\n",
       "\t<circle cx=\"1623.60\" cy=\"1950.98\" r=\"26.35\" style=\"fill:#1A476F\"/>\n",
       "\t<circle cx=\"1623.60\" cy=\"1950.98\" r=\"22.03\" style=\"fill:none;stroke:#1A476F;stroke-width:8.64\"/>\n",
       "\t<circle cx=\"3127.29\" cy=\"1973.63\" r=\"26.35\" style=\"fill:#1A476F\"/>\n",
       "\t<circle cx=\"3127.29\" cy=\"1973.63\" r=\"22.03\" style=\"fill:none;stroke:#1A476F;stroke-width:8.64\"/>\n",
       "\t<circle cx=\"955.35\" cy=\"1724.76\" r=\"26.35\" style=\"fill:#1A476F\"/>\n",
       "\t<circle cx=\"955.35\" cy=\"1724.76\" r=\"22.03\" style=\"fill:none;stroke:#1A476F;stroke-width:8.64\"/>\n",
       "\t<circle cx=\"2459.04\" cy=\"1950.98\" r=\"26.35\" style=\"fill:#1A476F\"/>\n",
       "\t<circle cx=\"2459.04\" cy=\"1950.98\" r=\"22.03\" style=\"fill:none;stroke:#1A476F;stroke-width:8.64\"/>\n",
       "\t<circle cx=\"1456.54\" cy=\"1815.22\" r=\"26.35\" style=\"fill:#1A476F\"/>\n",
       "\t<circle cx=\"1456.54\" cy=\"1815.22\" r=\"22.03\" style=\"fill:none;stroke:#1A476F;stroke-width:8.64\"/>\n",
       "\t<circle cx=\"3795.66\" cy=\"593.89\" r=\"26.35\" style=\"fill:#1A476F\"/>\n",
       "\t<circle cx=\"3795.66\" cy=\"593.89\" r=\"22.03\" style=\"fill:none;stroke:#1A476F;stroke-width:8.64\"/>\n",
       "\t<circle cx=\"3795.66\" cy=\"1136.80\" r=\"26.35\" style=\"fill:#1A476F\"/>\n",
       "\t<circle cx=\"3795.66\" cy=\"1136.80\" r=\"22.03\" style=\"fill:none;stroke:#1A476F;stroke-width:8.64\"/>\n",
       "\t<circle cx=\"2124.91\" cy=\"1883.16\" r=\"26.35\" style=\"fill:#1A476F\"/>\n",
       "\t<circle cx=\"2124.91\" cy=\"1883.16\" r=\"22.03\" style=\"fill:none;stroke:#1A476F;stroke-width:8.64\"/>\n",
       "\t<circle cx=\"2626.10\" cy=\"1566.48\" r=\"26.35\" style=\"fill:#1A476F\"/>\n",
       "\t<circle cx=\"2626.10\" cy=\"1566.48\" r=\"22.03\" style=\"fill:none;stroke:#1A476F;stroke-width:8.64\"/>\n",
       "\t<circle cx=\"1790.66\" cy=\"1928.33\" r=\"26.35\" style=\"fill:#1A476F\"/>\n",
       "\t<circle cx=\"1790.66\" cy=\"1928.33\" r=\"22.03\" style=\"fill:none;stroke:#1A476F;stroke-width:8.64\"/>\n",
       "\t<circle cx=\"3795.66\" cy=\"774.82\" r=\"26.35\" style=\"fill:#1A476F\"/>\n",
       "\t<circle cx=\"3795.66\" cy=\"774.82\" r=\"22.03\" style=\"fill:none;stroke:#1A476F;stroke-width:8.64\"/>\n",
       "\t<circle cx=\"955.35\" cy=\"1611.65\" r=\"26.35\" style=\"fill:#1A476F\"/>\n",
       "\t<circle cx=\"955.35\" cy=\"1611.65\" r=\"22.03\" style=\"fill:none;stroke:#1A476F;stroke-width:8.64\"/>\n",
       "\t<circle cx=\"3795.66\" cy=\"1046.34\" r=\"26.35\" style=\"fill:#1A476F\"/>\n",
       "\t<circle cx=\"3795.66\" cy=\"1046.34\" r=\"22.03\" style=\"fill:none;stroke:#1A476F;stroke-width:8.64\"/>\n",
       "\t<circle cx=\"3294.47\" cy=\"1589.12\" r=\"26.35\" style=\"fill:#1A476F\"/>\n",
       "\t<circle cx=\"3294.47\" cy=\"1589.12\" r=\"22.03\" style=\"fill:none;stroke:#1A476F;stroke-width:8.64\"/>\n",
       "\t<circle cx=\"3628.60\" cy=\"1837.87\" r=\"26.35\" style=\"fill:#1A476F\"/>\n",
       "\t<circle cx=\"3628.60\" cy=\"1837.87\" r=\"22.03\" style=\"fill:none;stroke:#1A476F;stroke-width:8.64\"/>\n",
       "\t<circle cx=\"1456.54\" cy=\"1905.69\" r=\"26.35\" style=\"fill:#1A476F\"/>\n",
       "\t<circle cx=\"1456.54\" cy=\"1905.69\" r=\"22.03\" style=\"fill:none;stroke:#1A476F;stroke-width:8.64\"/>\n",
       "\t<circle cx=\"2960.22\" cy=\"1928.33\" r=\"26.35\" style=\"fill:#1A476F\"/>\n",
       "\t<circle cx=\"2960.22\" cy=\"1928.33\" r=\"22.03\" style=\"fill:none;stroke:#1A476F;stroke-width:8.64\"/>\n",
       "\t<circle cx=\"3795.66\" cy=\"1204.62\" r=\"26.35\" style=\"fill:#1A476F\"/>\n",
       "\t<circle cx=\"3795.66\" cy=\"1204.62\" r=\"22.03\" style=\"fill:none;stroke:#1A476F;stroke-width:8.64\"/>\n",
       "\t<circle cx=\"3628.60\" cy=\"1340.25\" r=\"26.35\" style=\"fill:#1A476F\"/>\n",
       "\t<circle cx=\"3628.60\" cy=\"1340.25\" r=\"22.03\" style=\"fill:none;stroke:#1A476F;stroke-width:8.64\"/>\n",
       "\t<circle cx=\"955.35\" cy=\"1385.55\" r=\"26.35\" style=\"fill:#1A476F\"/>\n",
       "\t<circle cx=\"955.35\" cy=\"1385.55\" r=\"22.03\" style=\"fill:none;stroke:#1A476F;stroke-width:8.64\"/>\n",
       "\t<circle cx=\"3795.66\" cy=\"1001.05\" r=\"26.35\" style=\"fill:#1A476F\"/>\n",
       "\t<circle cx=\"3795.66\" cy=\"1001.05\" r=\"22.03\" style=\"fill:none;stroke:#1A476F;stroke-width:8.64\"/>\n",
       "\t<circle cx=\"3628.60\" cy=\"1272.44\" r=\"26.35\" style=\"fill:#1A476F\"/>\n",
       "\t<circle cx=\"3628.60\" cy=\"1272.44\" r=\"22.03\" style=\"fill:none;stroke:#1A476F;stroke-width:8.64\"/>\n",
       "\t<circle cx=\"3294.47\" cy=\"1543.83\" r=\"26.35\" style=\"fill:#1A476F\"/>\n",
       "\t<circle cx=\"3294.47\" cy=\"1543.83\" r=\"22.03\" style=\"fill:none;stroke:#1A476F;stroke-width:8.64\"/>\n",
       "\t<circle cx=\"3795.66\" cy=\"345.15\" r=\"26.35\" style=\"fill:#1A476F\"/>\n",
       "\t<circle cx=\"3795.66\" cy=\"345.15\" r=\"22.03\" style=\"fill:none;stroke:#1A476F;stroke-width:8.64\"/>\n",
       "\t<circle cx=\"3461.53\" cy=\"1702.11\" r=\"26.35\" style=\"fill:#1A476F\"/>\n",
       "\t<circle cx=\"3461.53\" cy=\"1702.11\" r=\"22.03\" style=\"fill:none;stroke:#1A476F;stroke-width:8.64\"/>\n",
       "\t<circle cx=\"2960.22\" cy=\"1679.59\" r=\"26.35\" style=\"fill:#1A476F\"/>\n",
       "\t<circle cx=\"2960.22\" cy=\"1679.59\" r=\"22.03\" style=\"fill:none;stroke:#1A476F;stroke-width:8.64\"/>\n",
       "\t<circle cx=\"3461.53\" cy=\"1543.83\" r=\"26.35\" style=\"fill:#1A476F\"/>\n",
       "\t<circle cx=\"3461.53\" cy=\"1543.83\" r=\"22.03\" style=\"fill:none;stroke:#1A476F;stroke-width:8.64\"/>\n",
       "\t<circle cx=\"1122.41\" cy=\"1996.15\" r=\"26.35\" style=\"fill:#1A476F\"/>\n",
       "\t<circle cx=\"1122.41\" cy=\"1996.15\" r=\"22.03\" style=\"fill:none;stroke:#1A476F;stroke-width:8.64\"/>\n",
       "\t<circle cx=\"1623.60\" cy=\"1679.59\" r=\"26.35\" style=\"fill:#1A476F\"/>\n",
       "\t<circle cx=\"1623.60\" cy=\"1679.59\" r=\"22.03\" style=\"fill:none;stroke:#1A476F;stroke-width:8.64\"/>\n",
       "\t<circle cx=\"955.35\" cy=\"2018.80\" r=\"26.35\" style=\"fill:#1A476F\"/>\n",
       "\t<circle cx=\"955.35\" cy=\"2018.80\" r=\"22.03\" style=\"fill:none;stroke:#1A476F;stroke-width:8.64\"/>\n",
       "\t<circle cx=\"3628.60\" cy=\"865.29\" r=\"26.35\" style=\"fill:#1A476F\"/>\n",
       "\t<circle cx=\"3628.60\" cy=\"865.29\" r=\"22.03\" style=\"fill:none;stroke:#1A476F;stroke-width:8.64\"/>\n",
       "\t<circle cx=\"3795.66\" cy=\"412.97\" r=\"26.35\" style=\"fill:#1A476F\"/>\n",
       "\t<circle cx=\"3795.66\" cy=\"412.97\" r=\"22.03\" style=\"fill:none;stroke:#1A476F;stroke-width:8.64\"/>\n",
       "\t<circle cx=\"3628.60\" cy=\"865.29\" r=\"26.35\" style=\"fill:#1A476F\"/>\n",
       "\t<circle cx=\"3628.60\" cy=\"865.29\" r=\"22.03\" style=\"fill:none;stroke:#1A476F;stroke-width:8.64\"/>\n",
       "\t<circle cx=\"2626.10\" cy=\"1656.94\" r=\"26.35\" style=\"fill:#1A476F\"/>\n",
       "\t<circle cx=\"2626.10\" cy=\"1656.94\" r=\"22.03\" style=\"fill:none;stroke:#1A476F;stroke-width:8.64\"/>\n",
       "\t<circle cx=\"2626.10\" cy=\"1589.12\" r=\"26.35\" style=\"fill:#1A476F\"/>\n",
       "\t<circle cx=\"2626.10\" cy=\"1589.12\" r=\"22.03\" style=\"fill:none;stroke:#1A476F;stroke-width:8.64\"/>\n",
       "\t<circle cx=\"3294.47\" cy=\"1249.79\" r=\"26.35\" style=\"fill:#1A476F\"/>\n",
       "\t<circle cx=\"3294.47\" cy=\"1249.79\" r=\"22.03\" style=\"fill:none;stroke:#1A476F;stroke-width:8.64\"/>\n",
       "\t<circle cx=\"1289.47\" cy=\"1770.05\" r=\"26.35\" style=\"fill:#1A476F\"/>\n",
       "\t<circle cx=\"1289.47\" cy=\"1770.05\" r=\"22.03\" style=\"fill:none;stroke:#1A476F;stroke-width:8.64\"/>\n",
       "\t<circle cx=\"3795.66\" cy=\"639.19\" r=\"26.35\" style=\"fill:#1A476F\"/>\n",
       "\t<circle cx=\"3795.66\" cy=\"639.19\" r=\"22.03\" style=\"fill:none;stroke:#1A476F;stroke-width:8.64\"/>\n",
       "\t<circle cx=\"3461.53\" cy=\"1340.25\" r=\"26.35\" style=\"fill:#1A476F\"/>\n",
       "\t<circle cx=\"3461.53\" cy=\"1340.25\" r=\"22.03\" style=\"fill:none;stroke:#1A476F;stroke-width:8.64\"/>\n",
       "\t<circle cx=\"3795.66\" cy=\"1453.37\" r=\"26.35\" style=\"fill:#1A476F\"/>\n",
       "\t<circle cx=\"3795.66\" cy=\"1453.37\" r=\"22.03\" style=\"fill:none;stroke:#1A476F;stroke-width:8.64\"/>\n",
       "\t<circle cx=\"3461.53\" cy=\"1702.11\" r=\"26.35\" style=\"fill:#1A476F\"/>\n",
       "\t<circle cx=\"3461.53\" cy=\"1702.11\" r=\"22.03\" style=\"fill:none;stroke:#1A476F;stroke-width:8.64\"/>\n",
       "\t<circle cx=\"2793.16\" cy=\"1860.52\" r=\"26.35\" style=\"fill:#1A476F\"/>\n",
       "\t<circle cx=\"2793.16\" cy=\"1860.52\" r=\"22.03\" style=\"fill:none;stroke:#1A476F;stroke-width:8.64\"/>\n",
       "\t<circle cx=\"3127.29\" cy=\"1747.40\" r=\"26.35\" style=\"fill:#1A476F\"/>\n",
       "\t<circle cx=\"3127.29\" cy=\"1747.40\" r=\"22.03\" style=\"fill:none;stroke:#1A476F;stroke-width:8.64\"/>\n",
       "\t<circle cx=\"2124.91\" cy=\"1996.15\" r=\"26.35\" style=\"fill:#1A476F\"/>\n",
       "\t<circle cx=\"2124.91\" cy=\"1996.15\" r=\"22.03\" style=\"fill:none;stroke:#1A476F;stroke-width:8.64\"/>\n",
       "\t<circle cx=\"3294.47\" cy=\"1770.05\" r=\"26.35\" style=\"fill:#1A476F\"/>\n",
       "\t<circle cx=\"3294.47\" cy=\"1770.05\" r=\"22.03\" style=\"fill:none;stroke:#1A476F;stroke-width:8.64\"/>\n",
       "\t<circle cx=\"3795.66\" cy=\"1204.62\" r=\"26.35\" style=\"fill:#1A476F\"/>\n",
       "\t<circle cx=\"3795.66\" cy=\"1204.62\" r=\"22.03\" style=\"fill:none;stroke:#1A476F;stroke-width:8.64\"/>\n",
       "\t<circle cx=\"3628.60\" cy=\"1566.48\" r=\"26.35\" style=\"fill:#1A476F\"/>\n",
       "\t<circle cx=\"3628.60\" cy=\"1566.48\" r=\"22.03\" style=\"fill:none;stroke:#1A476F;stroke-width:8.64\"/>\n",
       "\t<circle cx=\"3628.60\" cy=\"1656.94\" r=\"26.35\" style=\"fill:#1A476F\"/>\n",
       "\t<circle cx=\"3628.60\" cy=\"1656.94\" r=\"22.03\" style=\"fill:none;stroke:#1A476F;stroke-width:8.64\"/>\n",
       "\t<circle cx=\"955.35\" cy=\"1815.22\" r=\"26.35\" style=\"fill:#1A476F\"/>\n",
       "\t<circle cx=\"955.35\" cy=\"1815.22\" r=\"22.03\" style=\"fill:none;stroke:#1A476F;stroke-width:8.64\"/>\n",
       "\t<circle cx=\"3127.29\" cy=\"2064.09\" r=\"26.35\" style=\"fill:#1A476F\"/>\n",
       "\t<circle cx=\"3127.29\" cy=\"2064.09\" r=\"22.03\" style=\"fill:none;stroke:#1A476F;stroke-width:8.64\"/>\n",
       "\t<circle cx=\"3795.66\" cy=\"752.30\" r=\"26.35\" style=\"fill:#1A476F\"/>\n",
       "\t<circle cx=\"3795.66\" cy=\"752.30\" r=\"22.03\" style=\"fill:none;stroke:#1A476F;stroke-width:8.64\"/>\n",
       "\t<circle cx=\"3127.29\" cy=\"1068.86\" r=\"26.35\" style=\"fill:#1A476F\"/>\n",
       "\t<circle cx=\"3127.29\" cy=\"1068.86\" r=\"22.03\" style=\"fill:none;stroke:#1A476F;stroke-width:8.64\"/>\n",
       "\t<circle cx=\"3795.66\" cy=\"1453.37\" r=\"26.35\" style=\"fill:#1A476F\"/>\n",
       "\t<circle cx=\"3795.66\" cy=\"1453.37\" r=\"22.03\" style=\"fill:none;stroke:#1A476F;stroke-width:8.64\"/>\n",
       "\t<circle cx=\"2793.16\" cy=\"1702.11\" r=\"26.35\" style=\"fill:#1A476F\"/>\n",
       "\t<circle cx=\"2793.16\" cy=\"1702.11\" r=\"22.03\" style=\"fill:none;stroke:#1A476F;stroke-width:8.64\"/>\n",
       "\t<circle cx=\"3628.60\" cy=\"1566.48\" r=\"26.35\" style=\"fill:#1A476F\"/>\n",
       "\t<circle cx=\"3628.60\" cy=\"1566.48\" r=\"22.03\" style=\"fill:none;stroke:#1A476F;stroke-width:8.64\"/>\n",
       "\t<circle cx=\"3795.66\" cy=\"707.01\" r=\"26.35\" style=\"fill:#1A476F\"/>\n",
       "\t<circle cx=\"3795.66\" cy=\"707.01\" r=\"22.03\" style=\"fill:none;stroke:#1A476F;stroke-width:8.64\"/>\n",
       "\t<circle cx=\"1122.41\" cy=\"1770.05\" r=\"26.35\" style=\"fill:#1A476F\"/>\n",
       "\t<circle cx=\"1122.41\" cy=\"1770.05\" r=\"22.03\" style=\"fill:none;stroke:#1A476F;stroke-width:8.64\"/>\n",
       "\t<circle cx=\"1623.60\" cy=\"1317.73\" r=\"26.35\" style=\"fill:#1A476F\"/>\n",
       "\t<circle cx=\"1623.60\" cy=\"1317.73\" r=\"22.03\" style=\"fill:none;stroke:#1A476F;stroke-width:8.64\"/>\n",
       "\t<circle cx=\"3628.60\" cy=\"1860.52\" r=\"26.35\" style=\"fill:#1A476F\"/>\n",
       "\t<circle cx=\"3628.60\" cy=\"1860.52\" r=\"22.03\" style=\"fill:none;stroke:#1A476F;stroke-width:8.64\"/>\n",
       "\t<circle cx=\"454.04\" cy=\"2245.02\" r=\"26.35\" style=\"fill:#1A476F\"/>\n",
       "\t<circle cx=\"454.04\" cy=\"2245.02\" r=\"22.03\" style=\"fill:none;stroke:#1A476F;stroke-width:8.64\"/>\n",
       "\t<circle cx=\"3461.53\" cy=\"1181.97\" r=\"26.35\" style=\"fill:#1A476F\"/>\n",
       "\t<circle cx=\"3461.53\" cy=\"1181.97\" r=\"22.03\" style=\"fill:none;stroke:#1A476F;stroke-width:8.64\"/>\n",
       "\t<circle cx=\"955.35\" cy=\"1430.72\" r=\"26.35\" style=\"fill:#1A476F\"/>\n",
       "\t<circle cx=\"955.35\" cy=\"1430.72\" r=\"22.03\" style=\"fill:none;stroke:#1A476F;stroke-width:8.64\"/>\n",
       "\t<circle cx=\"3294.47\" cy=\"1815.22\" r=\"26.35\" style=\"fill:#1A476F\"/>\n",
       "\t<circle cx=\"3294.47\" cy=\"1815.22\" r=\"22.03\" style=\"fill:none;stroke:#1A476F;stroke-width:8.64\"/>\n",
       "\t<circle cx=\"955.35\" cy=\"1860.52\" r=\"26.35\" style=\"fill:#1A476F\"/>\n",
       "\t<circle cx=\"955.35\" cy=\"1860.52\" r=\"22.03\" style=\"fill:none;stroke:#1A476F;stroke-width:8.64\"/>\n",
       "\t<circle cx=\"3127.29\" cy=\"1815.22\" r=\"26.35\" style=\"fill:#1A476F\"/>\n",
       "\t<circle cx=\"3127.29\" cy=\"1815.22\" r=\"22.03\" style=\"fill:none;stroke:#1A476F;stroke-width:8.64\"/>\n",
       "\t<circle cx=\"3461.53\" cy=\"1317.73\" r=\"26.35\" style=\"fill:#1A476F\"/>\n",
       "\t<circle cx=\"3461.53\" cy=\"1317.73\" r=\"22.03\" style=\"fill:none;stroke:#1A476F;stroke-width:8.64\"/>\n",
       "\t<circle cx=\"3461.53\" cy=\"1181.97\" r=\"26.35\" style=\"fill:#1A476F\"/>\n",
       "\t<circle cx=\"3461.53\" cy=\"1181.97\" r=\"22.03\" style=\"fill:none;stroke:#1A476F;stroke-width:8.64\"/>\n",
       "\t<circle cx=\"3127.29\" cy=\"1589.12\" r=\"26.35\" style=\"fill:#1A476F\"/>\n",
       "\t<circle cx=\"3127.29\" cy=\"1589.12\" r=\"22.03\" style=\"fill:none;stroke:#1A476F;stroke-width:8.64\"/>\n",
       "\t<circle cx=\"2124.91\" cy=\"2018.80\" r=\"26.35\" style=\"fill:#1A476F\"/>\n",
       "\t<circle cx=\"2124.91\" cy=\"2018.80\" r=\"22.03\" style=\"fill:none;stroke:#1A476F;stroke-width:8.64\"/>\n",
       "\t<circle cx=\"3795.66\" cy=\"1114.16\" r=\"26.35\" style=\"fill:#1A476F\"/>\n",
       "\t<circle cx=\"3795.66\" cy=\"1114.16\" r=\"22.03\" style=\"fill:none;stroke:#1A476F;stroke-width:8.64\"/>\n",
       "\t<circle cx=\"3795.66\" cy=\"571.37\" r=\"26.35\" style=\"fill:#1A476F\"/>\n",
       "\t<circle cx=\"3795.66\" cy=\"571.37\" r=\"22.03\" style=\"fill:none;stroke:#1A476F;stroke-width:8.64\"/>\n",
       "\t<circle cx=\"3127.29\" cy=\"1792.57\" r=\"26.35\" style=\"fill:#1A476F\"/>\n",
       "\t<circle cx=\"3127.29\" cy=\"1792.57\" r=\"22.03\" style=\"fill:none;stroke:#1A476F;stroke-width:8.64\"/>\n",
       "\t<circle cx=\"3127.29\" cy=\"1679.59\" r=\"26.35\" style=\"fill:#1A476F\"/>\n",
       "\t<circle cx=\"3127.29\" cy=\"1679.59\" r=\"22.03\" style=\"fill:none;stroke:#1A476F;stroke-width:8.64\"/>\n",
       "\t<circle cx=\"2960.22\" cy=\"1249.79\" r=\"26.35\" style=\"fill:#1A476F\"/>\n",
       "\t<circle cx=\"2960.22\" cy=\"1249.79\" r=\"22.03\" style=\"fill:none;stroke:#1A476F;stroke-width:8.64\"/>\n",
       "\t<circle cx=\"2960.22\" cy=\"1702.11\" r=\"26.35\" style=\"fill:#1A476F\"/>\n",
       "\t<circle cx=\"2960.22\" cy=\"1702.11\" r=\"22.03\" style=\"fill:none;stroke:#1A476F;stroke-width:8.64\"/>\n",
       "\t<circle cx=\"1790.66\" cy=\"1747.40\" r=\"26.35\" style=\"fill:#1A476F\"/>\n",
       "\t<circle cx=\"1790.66\" cy=\"1747.40\" r=\"22.03\" style=\"fill:none;stroke:#1A476F;stroke-width:8.64\"/>\n",
       "\t<circle cx=\"3795.66\" cy=\"1204.62\" r=\"26.35\" style=\"fill:#1A476F\"/>\n",
       "\t<circle cx=\"3795.66\" cy=\"1204.62\" r=\"22.03\" style=\"fill:none;stroke:#1A476F;stroke-width:8.64\"/>\n",
       "\t<circle cx=\"3461.53\" cy=\"1634.29\" r=\"26.35\" style=\"fill:#1A476F\"/>\n",
       "\t<circle cx=\"3461.53\" cy=\"1634.29\" r=\"22.03\" style=\"fill:none;stroke:#1A476F;stroke-width:8.64\"/>\n",
       "\t<circle cx=\"3795.66\" cy=\"1543.83\" r=\"26.35\" style=\"fill:#1A476F\"/>\n",
       "\t<circle cx=\"3795.66\" cy=\"1543.83\" r=\"22.03\" style=\"fill:none;stroke:#1A476F;stroke-width:8.64\"/>\n",
       "\t<circle cx=\"3628.60\" cy=\"1634.29\" r=\"26.35\" style=\"fill:#1A476F\"/>\n",
       "\t<circle cx=\"3628.60\" cy=\"1634.29\" r=\"22.03\" style=\"fill:none;stroke:#1A476F;stroke-width:8.64\"/>\n",
       "\t<circle cx=\"3628.60\" cy=\"1476.01\" r=\"26.35\" style=\"fill:#1A476F\"/>\n",
       "\t<circle cx=\"3628.60\" cy=\"1476.01\" r=\"22.03\" style=\"fill:none;stroke:#1A476F;stroke-width:8.64\"/>\n",
       "\t<circle cx=\"1456.54\" cy=\"1543.83\" r=\"26.35\" style=\"fill:#1A476F\"/>\n",
       "\t<circle cx=\"1456.54\" cy=\"1543.83\" r=\"22.03\" style=\"fill:none;stroke:#1A476F;stroke-width:8.64\"/>\n",
       "\t<circle cx=\"2960.22\" cy=\"1724.76\" r=\"26.35\" style=\"fill:#1A476F\"/>\n",
       "\t<circle cx=\"2960.22\" cy=\"1724.76\" r=\"22.03\" style=\"fill:none;stroke:#1A476F;stroke-width:8.64\"/>\n",
       "\t<circle cx=\"788.29\" cy=\"1408.20\" r=\"26.35\" style=\"fill:#1A476F\"/>\n",
       "\t<circle cx=\"788.29\" cy=\"1408.20\" r=\"22.03\" style=\"fill:none;stroke:#1A476F;stroke-width:8.64\"/>\n",
       "\t<circle cx=\"3127.29\" cy=\"1317.73\" r=\"26.35\" style=\"fill:#1A476F\"/>\n",
       "\t<circle cx=\"3127.29\" cy=\"1317.73\" r=\"22.03\" style=\"fill:none;stroke:#1A476F;stroke-width:8.64\"/>\n",
       "\t<circle cx=\"3127.29\" cy=\"1770.05\" r=\"26.35\" style=\"fill:#1A476F\"/>\n",
       "\t<circle cx=\"3127.29\" cy=\"1770.05\" r=\"22.03\" style=\"fill:none;stroke:#1A476F;stroke-width:8.64\"/>\n",
       "\t<circle cx=\"3795.66\" cy=\"548.72\" r=\"26.35\" style=\"fill:#1A476F\"/>\n",
       "\t<circle cx=\"3795.66\" cy=\"548.72\" r=\"22.03\" style=\"fill:none;stroke:#1A476F;stroke-width:8.64\"/>\n",
       "\t<circle cx=\"3795.66\" cy=\"367.80\" r=\"26.35\" style=\"fill:#1A476F\"/>\n",
       "\t<circle cx=\"3795.66\" cy=\"367.80\" r=\"22.03\" style=\"fill:none;stroke:#1A476F;stroke-width:8.64\"/>\n",
       "\t<circle cx=\"3628.60\" cy=\"1792.57\" r=\"26.35\" style=\"fill:#1A476F\"/>\n",
       "\t<circle cx=\"3628.60\" cy=\"1792.57\" r=\"22.03\" style=\"fill:none;stroke:#1A476F;stroke-width:8.64\"/>\n",
       "\t<circle cx=\"3127.29\" cy=\"1634.29\" r=\"26.35\" style=\"fill:#1A476F\"/>\n",
       "\t<circle cx=\"3127.29\" cy=\"1634.29\" r=\"22.03\" style=\"fill:none;stroke:#1A476F;stroke-width:8.64\"/>\n",
       "\t<circle cx=\"2793.16\" cy=\"1815.22\" r=\"26.35\" style=\"fill:#1A476F\"/>\n",
       "\t<circle cx=\"2793.16\" cy=\"1815.22\" r=\"22.03\" style=\"fill:none;stroke:#1A476F;stroke-width:8.64\"/>\n",
       "\t<circle cx=\"3795.66\" cy=\"480.91\" r=\"26.35\" style=\"fill:#1A476F\"/>\n",
       "\t<circle cx=\"3795.66\" cy=\"480.91\" r=\"22.03\" style=\"fill:none;stroke:#1A476F;stroke-width:8.64\"/>\n",
       "\t<circle cx=\"3294.47\" cy=\"1770.05\" r=\"26.35\" style=\"fill:#1A476F\"/>\n",
       "\t<circle cx=\"3294.47\" cy=\"1770.05\" r=\"22.03\" style=\"fill:none;stroke:#1A476F;stroke-width:8.64\"/>\n",
       "\t<circle cx=\"3628.60\" cy=\"1589.12\" r=\"26.35\" style=\"fill:#1A476F\"/>\n",
       "\t<circle cx=\"3628.60\" cy=\"1589.12\" r=\"22.03\" style=\"fill:none;stroke:#1A476F;stroke-width:8.64\"/>\n",
       "\t<circle cx=\"2960.22\" cy=\"1860.52\" r=\"26.35\" style=\"fill:#1A476F\"/>\n",
       "\t<circle cx=\"2960.22\" cy=\"1860.52\" r=\"22.03\" style=\"fill:none;stroke:#1A476F;stroke-width:8.64\"/>\n",
       "\t<circle cx=\"3628.60\" cy=\"1883.16\" r=\"26.35\" style=\"fill:#1A476F\"/>\n",
       "\t<circle cx=\"3628.60\" cy=\"1883.16\" r=\"22.03\" style=\"fill:none;stroke:#1A476F;stroke-width:8.64\"/>\n",
       "\t<circle cx=\"3628.60\" cy=\"1566.48\" r=\"26.35\" style=\"fill:#1A476F\"/>\n",
       "\t<circle cx=\"3628.60\" cy=\"1566.48\" r=\"22.03\" style=\"fill:none;stroke:#1A476F;stroke-width:8.64\"/>\n",
       "\t<circle cx=\"3461.53\" cy=\"1566.48\" r=\"26.35\" style=\"fill:#1A476F\"/>\n",
       "\t<circle cx=\"3461.53\" cy=\"1566.48\" r=\"22.03\" style=\"fill:none;stroke:#1A476F;stroke-width:8.64\"/>\n",
       "\t<circle cx=\"3795.66\" cy=\"1046.34\" r=\"26.35\" style=\"fill:#1A476F\"/>\n",
       "\t<circle cx=\"3795.66\" cy=\"1046.34\" r=\"22.03\" style=\"fill:none;stroke:#1A476F;stroke-width:8.64\"/>\n",
       "\t<circle cx=\"3795.66\" cy=\"1001.05\" r=\"26.35\" style=\"fill:#1A476F\"/>\n",
       "\t<circle cx=\"3795.66\" cy=\"1001.05\" r=\"22.03\" style=\"fill:none;stroke:#1A476F;stroke-width:8.64\"/>\n",
       "\t<circle cx=\"3127.29\" cy=\"1996.15\" r=\"26.35\" style=\"fill:#1A476F\"/>\n",
       "\t<circle cx=\"3127.29\" cy=\"1996.15\" r=\"22.03\" style=\"fill:none;stroke:#1A476F;stroke-width:8.64\"/>\n",
       "\t<circle cx=\"3461.53\" cy=\"1792.57\" r=\"26.35\" style=\"fill:#1A476F\"/>\n",
       "\t<circle cx=\"3461.53\" cy=\"1792.57\" r=\"22.03\" style=\"fill:none;stroke:#1A476F;stroke-width:8.64\"/>\n",
       "\t<circle cx=\"454.04\" cy=\"865.29\" r=\"26.35\" style=\"fill:#1A476F\"/>\n",
       "\t<circle cx=\"454.04\" cy=\"865.29\" r=\"22.03\" style=\"fill:none;stroke:#1A476F;stroke-width:8.64\"/>\n",
       "\t<circle cx=\"3628.60\" cy=\"1453.37\" r=\"26.35\" style=\"fill:#1A476F\"/>\n",
       "\t<circle cx=\"3628.60\" cy=\"1453.37\" r=\"22.03\" style=\"fill:none;stroke:#1A476F;stroke-width:8.64\"/>\n",
       "\t<circle cx=\"2793.16\" cy=\"1815.22\" r=\"26.35\" style=\"fill:#1A476F\"/>\n",
       "\t<circle cx=\"2793.16\" cy=\"1815.22\" r=\"22.03\" style=\"fill:none;stroke:#1A476F;stroke-width:8.64\"/>\n",
       "\t<circle cx=\"1623.60\" cy=\"1317.73\" r=\"26.35\" style=\"fill:#1A476F\"/>\n",
       "\t<circle cx=\"1623.60\" cy=\"1317.73\" r=\"22.03\" style=\"fill:none;stroke:#1A476F;stroke-width:8.64\"/>\n",
       "\t<circle cx=\"454.04\" cy=\"1317.73\" r=\"26.35\" style=\"fill:#1A476F\"/>\n",
       "\t<circle cx=\"454.04\" cy=\"1317.73\" r=\"22.03\" style=\"fill:none;stroke:#1A476F;stroke-width:8.64\"/>\n",
       "\t<circle cx=\"3294.47\" cy=\"1453.37\" r=\"26.35\" style=\"fill:#1A476F\"/>\n",
       "\t<circle cx=\"3294.47\" cy=\"1453.37\" r=\"22.03\" style=\"fill:none;stroke:#1A476F;stroke-width:8.64\"/>\n",
       "\t<circle cx=\"3461.53\" cy=\"1498.66\" r=\"26.35\" style=\"fill:#1A476F\"/>\n",
       "\t<circle cx=\"3461.53\" cy=\"1498.66\" r=\"22.03\" style=\"fill:none;stroke:#1A476F;stroke-width:8.64\"/>\n",
       "\t<circle cx=\"3294.47\" cy=\"1724.76\" r=\"26.35\" style=\"fill:#1A476F\"/>\n",
       "\t<circle cx=\"3294.47\" cy=\"1724.76\" r=\"22.03\" style=\"fill:none;stroke:#1A476F;stroke-width:8.64\"/>\n",
       "\t<circle cx=\"1790.66\" cy=\"526.08\" r=\"26.35\" style=\"fill:#1A476F\"/>\n",
       "\t<circle cx=\"1790.66\" cy=\"526.08\" r=\"22.03\" style=\"fill:none;stroke:#1A476F;stroke-width:8.64\"/>\n",
       "\t<circle cx=\"3795.66\" cy=\"1295.08\" r=\"26.35\" style=\"fill:#1A476F\"/>\n",
       "\t<circle cx=\"3795.66\" cy=\"1295.08\" r=\"22.03\" style=\"fill:none;stroke:#1A476F;stroke-width:8.64\"/>\n",
       "\t<circle cx=\"955.35\" cy=\"1724.76\" r=\"26.35\" style=\"fill:#1A476F\"/>\n",
       "\t<circle cx=\"955.35\" cy=\"1724.76\" r=\"22.03\" style=\"fill:none;stroke:#1A476F;stroke-width:8.64\"/>\n",
       "\t<circle cx=\"3795.66\" cy=\"1114.16\" r=\"26.35\" style=\"fill:#1A476F\"/>\n",
       "\t<circle cx=\"3795.66\" cy=\"1114.16\" r=\"22.03\" style=\"fill:none;stroke:#1A476F;stroke-width:8.64\"/>\n",
       "\t<circle cx=\"2960.22\" cy=\"2245.02\" r=\"26.35\" style=\"fill:#1A476F\"/>\n",
       "\t<circle cx=\"2960.22\" cy=\"2245.02\" r=\"22.03\" style=\"fill:none;stroke:#1A476F;stroke-width:8.64\"/>\n",
       "\t<circle cx=\"3628.60\" cy=\"1430.72\" r=\"26.35\" style=\"fill:#1A476F\"/>\n",
       "\t<circle cx=\"3628.60\" cy=\"1430.72\" r=\"22.03\" style=\"fill:none;stroke:#1A476F;stroke-width:8.64\"/>\n",
       "\t<circle cx=\"2793.16\" cy=\"1950.98\" r=\"26.35\" style=\"fill:#1A476F\"/>\n",
       "\t<circle cx=\"2793.16\" cy=\"1950.98\" r=\"22.03\" style=\"fill:none;stroke:#1A476F;stroke-width:8.64\"/>\n",
       "\t<circle cx=\"3795.66\" cy=\"1068.86\" r=\"26.35\" style=\"fill:#1A476F\"/>\n",
       "\t<circle cx=\"3795.66\" cy=\"1068.86\" r=\"22.03\" style=\"fill:none;stroke:#1A476F;stroke-width:8.64\"/>\n",
       "\t<circle cx=\"2124.91\" cy=\"2086.61\" r=\"26.35\" style=\"fill:#1A476F\"/>\n",
       "\t<circle cx=\"2124.91\" cy=\"2086.61\" r=\"22.03\" style=\"fill:none;stroke:#1A476F;stroke-width:8.64\"/>\n",
       "\t<circle cx=\"1456.54\" cy=\"2177.08\" r=\"26.35\" style=\"fill:#1A476F\"/>\n",
       "\t<circle cx=\"1456.54\" cy=\"2177.08\" r=\"22.03\" style=\"fill:none;stroke:#1A476F;stroke-width:8.64\"/>\n",
       "\t<circle cx=\"2960.22\" cy=\"1611.65\" r=\"26.35\" style=\"fill:#1A476F\"/>\n",
       "\t<circle cx=\"2960.22\" cy=\"1611.65\" r=\"22.03\" style=\"fill:none;stroke:#1A476F;stroke-width:8.64\"/>\n",
       "\t<circle cx=\"621.10\" cy=\"1453.37\" r=\"26.35\" style=\"fill:#1A476F\"/>\n",
       "\t<circle cx=\"621.10\" cy=\"1453.37\" r=\"22.03\" style=\"fill:none;stroke:#1A476F;stroke-width:8.64\"/>\n",
       "\t<circle cx=\"3795.66\" cy=\"458.26\" r=\"26.35\" style=\"fill:#1A476F\"/>\n",
       "\t<circle cx=\"3795.66\" cy=\"458.26\" r=\"22.03\" style=\"fill:none;stroke:#1A476F;stroke-width:8.64\"/>\n",
       "\t<circle cx=\"3795.66\" cy=\"480.91\" r=\"26.35\" style=\"fill:#1A476F\"/>\n",
       "\t<circle cx=\"3795.66\" cy=\"480.91\" r=\"22.03\" style=\"fill:none;stroke:#1A476F;stroke-width:8.64\"/>\n",
       "\t<circle cx=\"621.10\" cy=\"1973.63\" r=\"26.35\" style=\"fill:#1A476F\"/>\n",
       "\t<circle cx=\"621.10\" cy=\"1973.63\" r=\"22.03\" style=\"fill:none;stroke:#1A476F;stroke-width:8.64\"/>\n",
       "\t<circle cx=\"1623.60\" cy=\"1905.69\" r=\"26.35\" style=\"fill:#1A476F\"/>\n",
       "\t<circle cx=\"1623.60\" cy=\"1905.69\" r=\"22.03\" style=\"fill:none;stroke:#1A476F;stroke-width:8.64\"/>\n",
       "\t<circle cx=\"1623.60\" cy=\"1566.48\" r=\"26.35\" style=\"fill:#1A476F\"/>\n",
       "\t<circle cx=\"1623.60\" cy=\"1566.48\" r=\"22.03\" style=\"fill:none;stroke:#1A476F;stroke-width:8.64\"/>\n",
       "\t<circle cx=\"1790.66\" cy=\"1770.05\" r=\"26.35\" style=\"fill:#1A476F\"/>\n",
       "\t<circle cx=\"1790.66\" cy=\"1770.05\" r=\"22.03\" style=\"fill:none;stroke:#1A476F;stroke-width:8.64\"/>\n",
       "\t<circle cx=\"3795.66\" cy=\"1566.48\" r=\"26.35\" style=\"fill:#1A476F\"/>\n",
       "\t<circle cx=\"3795.66\" cy=\"1566.48\" r=\"22.03\" style=\"fill:none;stroke:#1A476F;stroke-width:8.64\"/>\n",
       "\t<circle cx=\"788.29\" cy=\"842.76\" r=\"26.35\" style=\"fill:#1A476F\"/>\n",
       "\t<circle cx=\"788.29\" cy=\"842.76\" r=\"22.03\" style=\"fill:none;stroke:#1A476F;stroke-width:8.64\"/>\n",
       "\t<circle cx=\"3294.47\" cy=\"1521.18\" r=\"26.35\" style=\"fill:#1A476F\"/>\n",
       "\t<circle cx=\"3294.47\" cy=\"1521.18\" r=\"22.03\" style=\"fill:none;stroke:#1A476F;stroke-width:8.64\"/>\n",
       "\t<circle cx=\"2626.10\" cy=\"1408.20\" r=\"26.35\" style=\"fill:#1A476F\"/>\n",
       "\t<circle cx=\"2626.10\" cy=\"1408.20\" r=\"22.03\" style=\"fill:none;stroke:#1A476F;stroke-width:8.64\"/>\n",
       "\t<circle cx=\"788.29\" cy=\"2041.44\" r=\"26.35\" style=\"fill:#1A476F\"/>\n",
       "\t<circle cx=\"788.29\" cy=\"2041.44\" r=\"22.03\" style=\"fill:none;stroke:#1A476F;stroke-width:8.64\"/>\n",
       "\t<circle cx=\"1957.85\" cy=\"1837.87\" r=\"26.35\" style=\"fill:#1A476F\"/>\n",
       "\t<circle cx=\"1957.85\" cy=\"1837.87\" r=\"22.03\" style=\"fill:none;stroke:#1A476F;stroke-width:8.64\"/>\n",
       "\t<circle cx=\"2793.16\" cy=\"1837.87\" r=\"26.35\" style=\"fill:#1A476F\"/>\n",
       "\t<circle cx=\"2793.16\" cy=\"1837.87\" r=\"22.03\" style=\"fill:none;stroke:#1A476F;stroke-width:8.64\"/>\n",
       "\t<circle cx=\"3628.60\" cy=\"1408.20\" r=\"26.35\" style=\"fill:#1A476F\"/>\n",
       "\t<circle cx=\"3628.60\" cy=\"1408.20\" r=\"22.03\" style=\"fill:none;stroke:#1A476F;stroke-width:8.64\"/>\n",
       "\t<circle cx=\"1456.54\" cy=\"1589.12\" r=\"26.35\" style=\"fill:#1A476F\"/>\n",
       "\t<circle cx=\"1456.54\" cy=\"1589.12\" r=\"22.03\" style=\"fill:none;stroke:#1A476F;stroke-width:8.64\"/>\n",
       "\t<circle cx=\"3795.66\" cy=\"661.84\" r=\"26.35\" style=\"fill:#1A476F\"/>\n",
       "\t<circle cx=\"3795.66\" cy=\"661.84\" r=\"22.03\" style=\"fill:none;stroke:#1A476F;stroke-width:8.64\"/>\n",
       "\t<circle cx=\"1957.85\" cy=\"1724.76\" r=\"26.35\" style=\"fill:#1A476F\"/>\n",
       "\t<circle cx=\"1957.85\" cy=\"1724.76\" r=\"22.03\" style=\"fill:none;stroke:#1A476F;stroke-width:8.64\"/>\n",
       "\t<circle cx=\"3795.66\" cy=\"752.30\" r=\"26.35\" style=\"fill:#1A476F\"/>\n",
       "\t<circle cx=\"3795.66\" cy=\"752.30\" r=\"22.03\" style=\"fill:none;stroke:#1A476F;stroke-width:8.64\"/>\n",
       "\t<circle cx=\"2124.91\" cy=\"1566.48\" r=\"26.35\" style=\"fill:#1A476F\"/>\n",
       "\t<circle cx=\"2124.91\" cy=\"1566.48\" r=\"22.03\" style=\"fill:none;stroke:#1A476F;stroke-width:8.64\"/>\n",
       "\t<circle cx=\"3795.66\" cy=\"774.82\" r=\"26.35\" style=\"fill:#1A476F\"/>\n",
       "\t<circle cx=\"3795.66\" cy=\"774.82\" r=\"22.03\" style=\"fill:none;stroke:#1A476F;stroke-width:8.64\"/>\n",
       "\t<circle cx=\"621.10\" cy=\"2018.80\" r=\"26.35\" style=\"fill:#1A476F\"/>\n",
       "\t<circle cx=\"621.10\" cy=\"2018.80\" r=\"22.03\" style=\"fill:none;stroke:#1A476F;stroke-width:8.64\"/>\n",
       "\t<circle cx=\"2793.16\" cy=\"1996.15\" r=\"26.35\" style=\"fill:#1A476F\"/>\n",
       "\t<circle cx=\"2793.16\" cy=\"1996.15\" r=\"22.03\" style=\"fill:none;stroke:#1A476F;stroke-width:8.64\"/>\n",
       "\t<circle cx=\"2124.91\" cy=\"1996.15\" r=\"26.35\" style=\"fill:#1A476F\"/>\n",
       "\t<circle cx=\"2124.91\" cy=\"1996.15\" r=\"22.03\" style=\"fill:none;stroke:#1A476F;stroke-width:8.64\"/>\n",
       "\t<circle cx=\"3294.47\" cy=\"1566.48\" r=\"26.35\" style=\"fill:#1A476F\"/>\n",
       "\t<circle cx=\"3294.47\" cy=\"1566.48\" r=\"22.03\" style=\"fill:none;stroke:#1A476F;stroke-width:8.64\"/>\n",
       "\t<line x1=\"390.80\" y1=\"2489.19\" x2=\"390.80\" y2=\"100.86\" style=\"stroke:#000000;stroke-width:5.76\"/>\n",
       "\t<line x1=\"390.80\" y1=\"2425.82\" x2=\"350.83\" y2=\"2425.82\" style=\"stroke:#000000;stroke-width:5.76\"/>\n",
       "\t<text x=\"300.72\" y=\"2425.82\" style=\"font-family:'Helvetica';font-size:99.99px;fill:#000000\" transform=\"rotate(-90 300.72,2425.82)\" text-anchor=\"middle\">0</text>\n",
       "\t<line x1=\"390.80\" y1=\"1973.50\" x2=\"350.83\" y2=\"1973.50\" style=\"stroke:#000000;stroke-width:5.76\"/>\n",
       "\t<text x=\"300.72\" y=\"1973.50\" style=\"font-family:'Helvetica';font-size:99.99px;fill:#000000\" transform=\"rotate(-90 300.72,1973.50)\" text-anchor=\"middle\">20</text>\n",
       "\t<line x1=\"390.80\" y1=\"1521.18\" x2=\"350.83\" y2=\"1521.18\" style=\"stroke:#000000;stroke-width:5.76\"/>\n",
       "\t<text x=\"300.72\" y=\"1521.18\" style=\"font-family:'Helvetica';font-size:99.99px;fill:#000000\" transform=\"rotate(-90 300.72,1521.18)\" text-anchor=\"middle\">40</text>\n",
       "\t<line x1=\"390.80\" y1=\"1068.86\" x2=\"350.83\" y2=\"1068.86\" style=\"stroke:#000000;stroke-width:5.76\"/>\n",
       "\t<text x=\"300.72\" y=\"1068.86\" style=\"font-family:'Helvetica';font-size:99.99px;fill:#000000\" transform=\"rotate(-90 300.72,1068.86)\" text-anchor=\"middle\">60</text>\n",
       "\t<line x1=\"390.80\" y1=\"616.54\" x2=\"350.83\" y2=\"616.54\" style=\"stroke:#000000;stroke-width:5.76\"/>\n",
       "\t<text x=\"300.72\" y=\"616.54\" style=\"font-family:'Helvetica';font-size:99.99px;fill:#000000\" transform=\"rotate(-90 300.72,616.54)\" text-anchor=\"middle\">80</text>\n",
       "\t<line x1=\"390.80\" y1=\"164.22\" x2=\"350.83\" y2=\"164.22\" style=\"stroke:#000000;stroke-width:5.76\"/>\n",
       "\t<text x=\"300.72\" y=\"164.22\" style=\"font-family:'Helvetica';font-size:99.99px;fill:#000000\" transform=\"rotate(-90 300.72,164.22)\" text-anchor=\"middle\">100</text>\n",
       "\t<text x=\"190.71\" y=\"1294.96\" style=\"font-family:'Helvetica';font-size:99.99px;fill:#000000\" transform=\"rotate(-90 190.71,1294.96)\" text-anchor=\"middle\">Corruption Perceptions Index</text>\n",
       "\t<line x1=\"390.80\" y1=\"2489.19\" x2=\"3859.02\" y2=\"2489.19\" style=\"stroke:#000000;stroke-width:5.76\"/>\n",
       "\t<line x1=\"454.16\" y1=\"2489.19\" x2=\"454.16\" y2=\"2529.16\" style=\"stroke:#000000;stroke-width:5.76\"/>\n",
       "\t<text x=\"454.16\" y=\"2619.14\" style=\"font-family:'Helvetica';font-size:99.99px;fill:#000000\" text-anchor=\"middle\">-10</text>\n",
       "\t<line x1=\"1289.47\" y1=\"2489.19\" x2=\"1289.47\" y2=\"2529.16\" style=\"stroke:#000000;stroke-width:5.76\"/>\n",
       "\t<text x=\"1289.47\" y=\"2619.14\" style=\"font-family:'Helvetica';font-size:99.99px;fill:#000000\" text-anchor=\"middle\">-5</text>\n",
       "\t<line x1=\"2124.91\" y1=\"2489.19\" x2=\"2124.91\" y2=\"2529.16\" style=\"stroke:#000000;stroke-width:5.76\"/>\n",
       "\t<text x=\"2124.91\" y=\"2619.14\" style=\"font-family:'Helvetica';font-size:99.99px;fill:#000000\" text-anchor=\"middle\">0</text>\n",
       "\t<line x1=\"2960.35\" y1=\"2489.19\" x2=\"2960.35\" y2=\"2529.16\" style=\"stroke:#000000;stroke-width:5.76\"/>\n",
       "\t<text x=\"2960.35\" y=\"2619.14\" style=\"font-family:'Helvetica';font-size:99.99px;fill:#000000\" text-anchor=\"middle\">5</text>\n",
       "\t<line x1=\"3795.66\" y1=\"2489.19\" x2=\"3795.66\" y2=\"2529.16\" style=\"stroke:#000000;stroke-width:5.76\"/>\n",
       "\t<text x=\"3795.66\" y=\"2619.14\" style=\"font-family:'Helvetica';font-size:99.99px;fill:#000000\" text-anchor=\"middle\">10</text>\n",
       "\t<text x=\"2124.91\" y=\"2729.16\" style=\"font-family:'Helvetica';font-size:99.99px;fill:#000000\" text-anchor=\"middle\">Revised Combined Polity Score</text>\n",
       "</svg>\n"
      ],
      "text/plain": [
       "This front-end cannot display the desired image type."
      ]
     },
     "metadata": {
      "image/svg+xml": {
       "height": 436,
       "width": 600
      }
     },
     "output_type": "display_data"
    }
   ],
   "source": [
    "twoway $m_scatter"
   ]
  },
  {
   "cell_type": "markdown",
   "metadata": {},
   "source": [
    "Stata läser ovanstånde kod som `twoway (scatter ti_cpi p_polity2)` och gör en graf.\n",
    "\n",
    "Återigen, vad är poängen? Jo, macron är bra om du ska göra samma sak flera gånger. Till exempel kanske du vill köra flera olika regressionsmodeller, med olika beroende variabler, men med samma uppsättning kontrollvariabler.\n",
    "\n",
    "Du kan givetvis skriva ett stycke kod och kopiera den, men om du vill lägga till en variabel måste du uppdatera på många ställen i koden. Bättre då att skriva:"
   ]
  },
  {
   "cell_type": "code",
   "execution_count": 29,
   "metadata": {},
   "outputs": [],
   "source": [
    "global controls = \"p_polity2 wdi_gdpcapcon2010 lp_lat_abs\""
   ]
  },
  {
   "cell_type": "markdown",
   "metadata": {},
   "source": [
    "Nu har vi i macrot \"controls\" sparat textsträngen \"p_polity2 i.ht_region lp_lat_abs\". När vi sedan skriver $controls tolkar stata det som att vi skrivit `p_polity2 wdi_gdpcapcon2010 lp_lat_abs`. Nedan är ett exempel, där vi gör en regressionsanalys med korruption som beroende variabel, och våra \"control variables\" som kontrollvariabler, och sedan gör vi om samma analys fast med en annan beroende variabel:"
   ]
  },
  {
   "cell_type": "code",
   "execution_count": 31,
   "metadata": {},
   "outputs": [
    {
     "name": "stdout",
     "output_type": "stream",
     "text": [
      "\n",
      "\n",
      "\n",
      "\n",
      "\n",
      "\n",
      "--------------------------------------------\n",
      "                      (1)             (2)   \n",
      "                   ti_cpi      wdi_lifexp   \n",
      "--------------------------------------------\n",
      "p_polity2           0.488**         0.128   \n",
      "                   (2.87)          (1.27)   \n",
      "\n",
      "wdi_gdp~2010     0.000654***     0.000182***\n",
      "                  (10.80)          (5.06)   \n",
      "\n",
      "lp_lat_abst         19.19**         16.15***\n",
      "                   (2.70)          (3.82)   \n",
      "\n",
      "_cons               27.19***        63.49***\n",
      "                  (15.77)         (62.08)   \n",
      "--------------------------------------------\n",
      "N                     129             130   \n",
      "--------------------------------------------\n",
      "t statistics in parentheses\n",
      "* p<0.05, ** p<0.01, *** p<0.001\n"
     ]
    }
   ],
   "source": [
    "quietly reg ti_cpi $controls \n",
    "estimates store m1\n",
    "quietly reg wdi_lifexp $controls\n",
    "estimates store m2\n",
    "esttab m1 m2"
   ]
  },
  {
   "cell_type": "markdown",
   "metadata": {},
   "source": [
    "Poängen här är att vi bara behövde ange kontrollvariablerna en gång. Om vi senare kommer på att vi behöver byta ut en kontrollvariabel, eller lägga till en, gör vi det bara i raden där vi anger vad macrot \"controls\" ska vara för nånting. Vi behöver inte ändra det i varje enskild regressionsanalys."
   ]
  },
  {
   "cell_type": "markdown",
   "metadata": {},
   "source": [
    "## Lokala macron\n",
    "\n",
    "\"Lokala macron\" fungerar på precis samma sätt, fast med ett undantag. Vi kan ange globala macron, och så finns de kvar till vi stänger Stata. Men lokala macron finns bara inom ramen för samma kodsnutt. De existerar bara inom ramen för vår do-fil ldär det lokala macrot också skapades. Vi hänvisar också till dem på ett lite annat sätt: med `' istället för \"\". Dvs, till exempel:\n"
   ]
  },
  {
   "cell_type": "code",
   "execution_count": 50,
   "metadata": {},
   "outputs": [],
   "source": [
    "local eight = 8"
   ]
  },
  {
   "cell_type": "code",
   "execution_count": 55,
   "metadata": {},
   "outputs": [
    {
     "name": "stdout",
     "output_type": "stream",
     "text": [
      "8\n"
     ]
    }
   ],
   "source": [
    "display `eight'"
   ]
  },
  {
   "cell_type": "markdown",
   "metadata": {},
   "source": [
    "Den andra raden visar här att vi refererar till macrot som heter \"eight\". Om vi inte hade använt oss av tecknen `' så hade Stata letat efter en variabel som hette \"eight\"."
   ]
  },
  {
   "cell_type": "markdown",
   "metadata": {},
   "source": [
    "## Avslutning\n",
    "\n",
    "Globala och lokala macron är alltså två olika sorters \"symboler\" eller \"hållare\". Vi kan använda dem istället för något annat, vilket ökar konsekvensen och transparensen i vår kod. Och när vi senare går in på loopar blir de väldigt användbara."
   ]
  }
 ],
 "metadata": {
  "kernelspec": {
   "display_name": "Stata",
   "language": "stata",
   "name": "stata"
  },
  "language_info": {
   "file_extension": ".do",
   "mimetype": "text/x-stata",
   "name": "stata"
  }
 },
 "nbformat": 4,
 "nbformat_minor": 4
}
