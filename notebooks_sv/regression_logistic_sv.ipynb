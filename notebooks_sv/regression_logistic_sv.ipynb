{
 "cells": [
  {
   "cell_type": "markdown",
   "metadata": {},
   "source": [
    "# Logistisk regressionsanalys\n",
    "*av Anders Sundell*\n",
    "\n",
    "Regressionsanalys handlar enkelt uttryckt om att passa en linje till en mängd punkter. Ett antagande är då att den beroende variabeln är en skala, med många olika värden, med jämnt avstånd dem emellan.\n",
    "\n",
    "Men hur fungerar det om den beroende variabeln bara kan ha värdet 0 eller 1? Till exempel om en person röstat på ett visst parti (1) eller inte (0). Vi kan då få en del konstiga resultat, som att vi gissar att en person ska ha röstat 1,2 på partiet, eller -0,3.\n",
    "\n",
    "En speciell form av regressionsanalys kan då vara behjälplig: **logistisk regressionsanalys.** Den är anpassad för beroende variabler som bara har värdet 0 och 1. Funktionen som används beräknar då för varje observation en sannolikhet att ha värdet 1, och den sannolikheten är aldrig mindre än 0 eller mer än 1. Metoden används ofta för att klassificera observationer som antingen nollor eller ettor.\n",
    "\n",
    "Analyserna går inte att \"lösa\" på samma sätt som en vanlig regressionsanalys, där det finns en optimal lösning. Istället används en process där datorn letar sig fram till ett svar, med hjälp av den så kallade maximum likelihood-metoden. Rent konkret blir dock de slutsatser man drar med metoden ofta de samma som om man använder sig av en vanlig OLS-regressionsanalys.\n",
    "\n",
    "**Nedan går vi igenom hur man gör en logistisk regressionsanalys, hur man tolkar resultaten, och gör en jämförelse med \"vanlig\" OLS-regression.**\n",
    "\n",
    "I det här exemplet kommer att använda oss av data från den amerikanska <a href=\"http://gss.norc.org/get-the-data/stata\">General Social Survey</a>, som är en enkätundersökning med vanliga medborgare, med frågor om allt möjligt. Vi kommer använda versionen från 2018. Ladda ned den för att följa med i exemplet."
   ]
  },
  {
   "cell_type": "code",
   "execution_count": 3,
   "metadata": {},
   "outputs": [],
   "source": [
    "use \"/Users/anderssundell/Dropbox/Jupyter/stathelp/data/GSS2018.dta\", clear"
   ]
  },
  {
   "cell_type": "markdown",
   "metadata": {},
   "source": [
    "## Frågeställning och variabler\n",
    "\n",
    "Vi ska undersöka om hur de svarandes ideologi hänger samman med sannolikheten att rösta på Donald Trump i presidentvalet 2016. Information om det finns i variabeln \"pres16\". Vi börjar med att koda om variabeln med `recode` så att det bara är de som faktiskt röstade i valet som är med i variabeln. De som röstade för Trump får värdet 1, alla andra värdet 0. Vi sparar informationen i en ny variabel som heter \"dum_trump\". Därefter tar vi ut en frekvenstabell med `tab`."
   ]
  },
  {
   "cell_type": "code",
   "execution_count": 7,
   "metadata": {},
   "outputs": [
    {
     "name": "stdout",
     "output_type": "stream",
     "text": [
      "\n",
      "(2348 differences between pres16 and dum_trump)\n",
      "\n",
      "\n",
      "  RECODE of |\n",
      "     pres16 |\n",
      "      (vote |\n",
      " clinton or |\n",
      "     trump) |      Freq.     Percent        Cum.\n",
      "------------+-----------------------------------\n",
      "          0 |        851       59.59       59.59\n",
      "          1 |        577       40.41      100.00\n",
      "------------+-----------------------------------\n",
      "      Total |      1,428      100.00\n"
     ]
    }
   ],
   "source": [
    "recode pres16 (0 4 8 9 = .) (2 = 1) (1 3 = 0), generate(dum_trump)\n",
    "tab dum_trump\n"
   ]
  },
  {
   "cell_type": "markdown",
   "metadata": {},
   "source": [
    "40 procent av de svarande säger att de röstade på Trump i valet. Nu ska vi se hur det hänger ihop med ideologi. Ideologivariabeln heter \"polviews\", och går från vänster (extremely liberal) till höger (extremely conservative)."
   ]
  },
  {
   "cell_type": "code",
   "execution_count": 8,
   "metadata": {},
   "outputs": [
    {
     "name": "stdout",
     "output_type": "stream",
     "text": [
      "\n",
      "    think of self as |\n",
      "          liberal or |\n",
      "        conservative |      Freq.     Percent        Cum.\n",
      "---------------------+-----------------------------------\n",
      "   extremely liberal |        122        5.43        5.43\n",
      "             liberal |        278       12.37       17.80\n",
      "    slightly liberal |        256       11.39       29.19\n",
      "            moderate |        855       38.05       67.25\n",
      "slghtly conservative |        283       12.59       79.84\n",
      "        conservative |        354       15.75       95.59\n",
      "extrmly conservative |         99        4.41      100.00\n",
      "---------------------+-----------------------------------\n",
      "               Total |      2,247      100.00\n"
     ]
    }
   ],
   "source": [
    "tab polviews"
   ]
  },
  {
   "cell_type": "markdown",
   "metadata": {},
   "source": [
    "## Genomföra analysen och tolka resultaten\n",
    "\n",
    "Nu har vi allt vi behöver för att göra analysen. Kommandot är enkelt: `logit beroende oberoende`. Vi gör det nedan:"
   ]
  },
  {
   "cell_type": "code",
   "execution_count": 9,
   "metadata": {},
   "outputs": [
    {
     "name": "stdout",
     "output_type": "stream",
     "text": [
      "\n",
      "Iteration 0:   log likelihood = -941.61645  \n",
      "Iteration 1:   log likelihood = -680.37554  \n",
      "Iteration 2:   log likelihood = -675.51403  \n",
      "Iteration 3:   log likelihood = -675.49916  \n",
      "Iteration 4:   log likelihood = -675.49916  \n",
      "\n",
      "Logistic regression                             Number of obs     =      1,395\n",
      "                                                LR chi2(1)        =     532.23\n",
      "                                                Prob > chi2       =     0.0000\n",
      "Log likelihood = -675.49916                     Pseudo R2         =     0.2826\n",
      "\n",
      "------------------------------------------------------------------------------\n",
      "   dum_trump |      Coef.   Std. Err.      z    P>|z|     [95% Conf. Interval]\n",
      "-------------+----------------------------------------------------------------\n",
      "    polviews |   1.040075   .0579601    17.94   0.000     .9264753    1.153675\n",
      "       _cons |  -4.836872   .2639061   -18.33   0.000    -5.354119   -4.319626\n",
      "------------------------------------------------------------------------------\n"
     ]
    }
   ],
   "source": [
    "logit dum_trump polviews"
   ]
  },
  {
   "cell_type": "markdown",
   "metadata": {},
   "source": [
    "Det första vi ser är en rapport över hur modellen arbetat sig fram till den bästa lösningen. Vanligtvis behöver man inte bry sig om det, men om man har en väldigt komplex modell kan det hända att den inte \"konvergerar\", alltså hittar en bra lösning. Då kan den behöva förenklas.\n",
    "\n",
    "Därefter följer en tabell som ser rätt lik ut den man får ut från en OLS regressionsanalys. I raderna står de oberoende variablerna angivna, och sedan får vi ut koefficient, standardfel, z-värde (istället för t-värde), signifikansvärde (kolumnen P>|Z|) och konfidensintervall för koefficienten.\n",
    "\n",
    "Koefficienten visar att ju mer polviews ökar (dvs respondenten står längre till höger), desto mer ökar sannolikheten att man röstar på Trump, vilket är rimligt. Hade koefficienten haft ett minustecken framför sig hade det varit tvärtom. Vi ser också att koefficienten är statistiskt signifikant (eftersom p-värdet är mindre än 0,050).\n",
    "\n",
    "Till höger ovanför tabellen ser vi också måttet \"Pseudo R2\". Det är konstruerat för att efterlikna R2 i en vanlig regression, och går mellan 0 och 1. Här ser vi att det är 0,2826, vilket innebär att 28 procent av variationen i röstandet för Trump kan förklaras av vilken ideologi de svarande har.\n",
    "\n",
    "## Log-odds och odds\n",
    "Men exakt hur mycket ökar sannolikheten? Det är väldigt svårt att utläsa från de här koefficienterna. Det som visas är hur mycket det så kallade log-oddset ökar när polviews ökar med ett steg. Ochad är log-oddset? För att svara på det behöver vi först ta reda på vad oddset är. Oddset är sannolikheten för att respondenten ska rösta på Trump, delat på 1 minus samma sammolikhet:\n",
    "$odds = \\frac{p}{(1-p)}$\n",
    "\n",
    "Log-oddset är den naturliga logaritmen av det oddset:\n",
    "$logodds = ln\\left( \\frac{p}{(1-p)} \\right)$\n",
    "\n",
    "Så när polviews ökar med ett steg är det alltså det som ökar. Inte särskilt intuitivt, förutom att det är lätt att se om effekten är positiv eller negativ.\n",
    "\n",
    "Anledningen till att koefficienterna inte visar till exempel hur många procent mer sannolikt det är att man skulle rösta på Trump om man blir mer höger är för att det skulle göra sambandet linjärt, som i en vanlig regression. Då skulle vi kunna få konsekvenser som att det blir mer än 100% sannolikhet, till exempel. Vi återkomma till det senare.\n",
    "\n",
    "## Oddsförhållanden - odds-ration\n",
    "\n",
    "Ett annat sätt att visa koefficienterna är som odds-ration, odds-förhållanden. De visar då hur en ökning av den oberoende variabeln skulle påverka oddset, som ett förhållande. Om det står 2 innebär det att en ökning av den oberoende variabeln med ett steg skulle göra oddset dubbelt så stort. Om det står 0,5 innebär det att en ökning av den oberoende variabeln med ett steg skulle göra oddset hälften så stort. Här går alltså gränsen mellan positiva och negativa samband vid 1, inte vid 0, som med \"vanliga\" koefficienter.\n",
    "\n",
    "Vi får fram oddsförhållanden genom att göra om analysen och lägga till ett option `or`:"
   ]
  },
  {
   "cell_type": "code",
   "execution_count": 10,
   "metadata": {},
   "outputs": [
    {
     "name": "stdout",
     "output_type": "stream",
     "text": [
      "\n",
      "Iteration 0:   log likelihood = -941.61645  \n",
      "Iteration 1:   log likelihood = -680.37554  \n",
      "Iteration 2:   log likelihood = -675.51403  \n",
      "Iteration 3:   log likelihood = -675.49916  \n",
      "Iteration 4:   log likelihood = -675.49916  \n",
      "\n",
      "Logistic regression                             Number of obs     =      1,395\n",
      "                                                LR chi2(1)        =     532.23\n",
      "                                                Prob > chi2       =     0.0000\n",
      "Log likelihood = -675.49916                     Pseudo R2         =     0.2826\n",
      "\n",
      "------------------------------------------------------------------------------\n",
      "   dum_trump | Odds Ratio   Std. Err.      z    P>|z|     [95% Conf. Interval]\n",
      "-------------+----------------------------------------------------------------\n",
      "    polviews |   2.829429   .1639939    17.94   0.000     2.525592    3.169819\n",
      "       _cons |   .0079318   .0020933   -18.33   0.000     .0047286    .0133049\n",
      "------------------------------------------------------------------------------\n",
      "Note: _cons estimates baseline odds.\n"
     ]
    }
   ],
   "source": [
    "logit dum_trump polviews, or"
   ]
  },
  {
   "cell_type": "markdown",
   "metadata": {},
   "source": [
    "Odds-ratiot för polviews är alltså 2,8. Oddset för att rösta på Trump blir nästan tre gånger så stort för varje steg åt höger man tar på ideologiskalan."
   ]
  },
  {
   "cell_type": "markdown",
   "metadata": {},
   "source": [
    "## Predicera sannolikheter\n",
    "\n",
    "Det absolut mest intutiva är dock att räkna ut förväntade sannolikheter för att man ska rösta på Trump, givet olika värden på de oberoende variablerna.\n",
    "\n",
    "Det kan vi till exempel göra med kommandot `margins`. Vi kör då först en analys (spelar ingen roll om vi valde att presentera logoddskoefficienter eller odds-ration), och sedan direkt efter `margins`. Vi använder också option `at()` för att ange över vilka värden vi vill få den förväntade sannolikheten för en Trump-röst."
   ]
  },
  {
   "cell_type": "code",
   "execution_count": 11,
   "metadata": {},
   "outputs": [
    {
     "name": "stdout",
     "output_type": "stream",
     "text": [
      "\n",
      "Adjusted predictions                            Number of obs     =      1,395\n",
      "Model VCE    : OIM\n",
      "\n",
      "Expression   : Pr(dum_trump), predict()\n",
      "\n",
      "1._at        : polviews        =           1\n",
      "\n",
      "2._at        : polviews        =           2\n",
      "\n",
      "3._at        : polviews        =           3\n",
      "\n",
      "4._at        : polviews        =           4\n",
      "\n",
      "5._at        : polviews        =           5\n",
      "\n",
      "6._at        : polviews        =           6\n",
      "\n",
      "7._at        : polviews        =           7\n",
      "\n",
      "------------------------------------------------------------------------------\n",
      "             |            Delta-method\n",
      "             |     Margin   Std. Err.      z    P>|z|     [95% Conf. Interval]\n",
      "-------------+----------------------------------------------------------------\n",
      "         _at |\n",
      "          1  |   .0219499   .0044733     4.91   0.000     .0131824    .0307175\n",
      "          2  |   .0597081   .0086812     6.88   0.000     .0426934    .0767229\n",
      "          3  |   .1523035   .0136136    11.19   0.000     .1256212    .1789857\n",
      "          4  |   .3370267   .0158732    21.23   0.000     .3059157    .3681377\n",
      "          5  |    .589888   .0182544    32.31   0.000       .55411    .6256659\n",
      "          6  |   .8027509   .0180949    44.36   0.000     .7672856    .8382163\n",
      "          7  |    .920096   .0121126    75.96   0.000     .8963558    .9438362\n",
      "------------------------------------------------------------------------------\n"
     ]
    }
   ],
   "source": [
    "margins, at(polviews=(1/7))"
   ]
  },
  {
   "cell_type": "markdown",
   "metadata": {},
   "source": [
    "I kolumnen \"Margin\" har vi nu den förväntade sannolikheterna, uttryckta från 0 till 1. En person som står längst till vänster har ungefär 2 procents sannolikhet att rösta på Trump, medan det är 92 procent för den som står längst till höger. Ganska tydligt samband!\n",
    "\n",
    "Vi kan, direkt efter marginskommandot, köra kommandot `marginsplot` för att visa resultatet grafiskt. Jag lägger också till option `noci` för att ta bort konfidensintervallet kring de förväntade värdena, för att hålla grafen enkel."
   ]
  },
  {
   "cell_type": "code",
   "execution_count": 15,
   "metadata": {},
   "outputs": [
    {
     "name": "stdout",
     "output_type": "stream",
     "text": [
      "\n",
      "  Variables that uniquely identify margins: polviews\n"
     ]
    },
    {
     "data": {
      "application/pdf": "[encoded data removed]",
      "image/svg+xml": [
       "<?xml version=\"1.0\" encoding=\"UTF-8\" standalone=\"no\"?>\n",
       "<!-- This is a Stata 16.0 generated SVG file (http://www.stata.com) -->\n",
       "\n",
       "<svg version=\"1.1\" width=\"600px\" height=\"436px\" viewBox=\"0 0 3960 2880\" xmlns=\"http://www.w3.org/2000/svg\" xmlns:xlink=\"http://www.w3.org/1999/xlink\">\n",
       "\t<desc>Stata Graph - Graph</desc>\n",
       "\t<rect x=\"0\" y=\"0\" width=\"3960\" height=\"2880\" style=\"fill:#EAF2F3;stroke:none\"/>\n",
       "\t<rect x=\"0.00\" y=\"0.00\" width=\"3959.88\" height=\"2880.00\" style=\"fill:#EAF2F3\"/>\n",
       "\t<rect x=\"2.88\" y=\"2.88\" width=\"3954.12\" height=\"2874.24\" style=\"fill:none;stroke:#EAF2F3;stroke-width:5.76\"/>\n",
       "\t<rect x=\"390.80\" y=\"261.37\" width=\"3468.22\" height=\"2227.82\" style=\"fill:#FFFFFF\"/>\n",
       "\t<rect x=\"393.68\" y=\"264.25\" width=\"3462.46\" height=\"2222.06\" style=\"fill:none;stroke:#FFFFFF;stroke-width:5.76\"/>\n",
       "\t<line x1=\"390.80\" y1=\"2425.82\" x2=\"3859.02\" y2=\"2425.82\" style=\"stroke:#EAF2F3;stroke-width:8.64\"/>\n",
       "\t<line x1=\"390.80\" y1=\"2005.68\" x2=\"3859.02\" y2=\"2005.68\" style=\"stroke:#EAF2F3;stroke-width:8.64\"/>\n",
       "\t<line x1=\"390.80\" y1=\"1585.41\" x2=\"3859.02\" y2=\"1585.41\" style=\"stroke:#EAF2F3;stroke-width:8.64\"/>\n",
       "\t<line x1=\"390.80\" y1=\"1165.14\" x2=\"3859.02\" y2=\"1165.14\" style=\"stroke:#EAF2F3;stroke-width:8.64\"/>\n",
       "\t<line x1=\"390.80\" y1=\"745.00\" x2=\"3859.02\" y2=\"745.00\" style=\"stroke:#EAF2F3;stroke-width:8.64\"/>\n",
       "\t<line x1=\"390.80\" y1=\"324.73\" x2=\"3859.02\" y2=\"324.73\" style=\"stroke:#EAF2F3;stroke-width:8.64\"/>\n",
       "\t<path d=\" M454.04 2379.79 L1011.04 2300.46 L1567.91 2105.92 L2124.91 1717.83 L2681.79 1186.43 L3238.78 739.18 L3795.66 492.66\" stroke-linejoin=\"round\" style=\"fill:none;stroke:#1A476F;stroke-width:8.64\"/>\n",
       "\t<circle cx=\"454.04\" cy=\"2379.79\" r=\"26.35\" style=\"fill:#1A476F\"/>\n",
       "\t<circle cx=\"454.04\" cy=\"2379.79\" r=\"22.03\" style=\"fill:none;stroke:#1A476F;stroke-width:8.64\"/>\n",
       "\t<circle cx=\"1011.04\" cy=\"2300.46\" r=\"26.35\" style=\"fill:#1A476F\"/>\n",
       "\t<circle cx=\"1011.04\" cy=\"2300.46\" r=\"22.03\" style=\"fill:none;stroke:#1A476F;stroke-width:8.64\"/>\n",
       "\t<circle cx=\"1567.91\" cy=\"2105.92\" r=\"26.35\" style=\"fill:#1A476F\"/>\n",
       "\t<circle cx=\"1567.91\" cy=\"2105.92\" r=\"22.03\" style=\"fill:none;stroke:#1A476F;stroke-width:8.64\"/>\n",
       "\t<circle cx=\"2124.91\" cy=\"1717.83\" r=\"26.35\" style=\"fill:#1A476F\"/>\n",
       "\t<circle cx=\"2124.91\" cy=\"1717.83\" r=\"22.03\" style=\"fill:none;stroke:#1A476F;stroke-width:8.64\"/>\n",
       "\t<circle cx=\"2681.79\" cy=\"1186.43\" r=\"26.35\" style=\"fill:#1A476F\"/>\n",
       "\t<circle cx=\"2681.79\" cy=\"1186.43\" r=\"22.03\" style=\"fill:none;stroke:#1A476F;stroke-width:8.64\"/>\n",
       "\t<circle cx=\"3238.78\" cy=\"739.18\" r=\"26.35\" style=\"fill:#1A476F\"/>\n",
       "\t<circle cx=\"3238.78\" cy=\"739.18\" r=\"22.03\" style=\"fill:none;stroke:#1A476F;stroke-width:8.64\"/>\n",
       "\t<circle cx=\"3795.66\" cy=\"492.66\" r=\"26.35\" style=\"fill:#1A476F\"/>\n",
       "\t<circle cx=\"3795.66\" cy=\"492.66\" r=\"22.03\" style=\"fill:none;stroke:#1A476F;stroke-width:8.64\"/>\n",
       "\t<line x1=\"390.80\" y1=\"2489.19\" x2=\"390.80\" y2=\"261.37\" style=\"stroke:#000000;stroke-width:5.76\"/>\n",
       "\t<line x1=\"390.80\" y1=\"2425.82\" x2=\"350.83\" y2=\"2425.82\" style=\"stroke:#000000;stroke-width:5.76\"/>\n",
       "\t<text x=\"300.72\" y=\"2425.82\" style=\"font-family:'Helvetica';font-size:99.99px;fill:#000000\" transform=\"rotate(-90 300.72,2425.82)\" text-anchor=\"middle\">0</text>\n",
       "\t<line x1=\"390.80\" y1=\"2005.68\" x2=\"350.83\" y2=\"2005.68\" style=\"stroke:#000000;stroke-width:5.76\"/>\n",
       "\t<text x=\"300.72\" y=\"2005.68\" style=\"font-family:'Helvetica';font-size:99.99px;fill:#000000\" transform=\"rotate(-90 300.72,2005.68)\" text-anchor=\"middle\">.2</text>\n",
       "\t<line x1=\"390.80\" y1=\"1585.41\" x2=\"350.83\" y2=\"1585.41\" style=\"stroke:#000000;stroke-width:5.76\"/>\n",
       "\t<text x=\"300.72\" y=\"1585.41\" style=\"font-family:'Helvetica';font-size:99.99px;fill:#000000\" transform=\"rotate(-90 300.72,1585.41)\" text-anchor=\"middle\">.4</text>\n",
       "\t<line x1=\"390.80\" y1=\"1165.14\" x2=\"350.83\" y2=\"1165.14\" style=\"stroke:#000000;stroke-width:5.76\"/>\n",
       "\t<text x=\"300.72\" y=\"1165.14\" style=\"font-family:'Helvetica';font-size:99.99px;fill:#000000\" transform=\"rotate(-90 300.72,1165.14)\" text-anchor=\"middle\">.6</text>\n",
       "\t<line x1=\"390.80\" y1=\"745.00\" x2=\"350.83\" y2=\"745.00\" style=\"stroke:#000000;stroke-width:5.76\"/>\n",
       "\t<text x=\"300.72\" y=\"745.00\" style=\"font-family:'Helvetica';font-size:99.99px;fill:#000000\" transform=\"rotate(-90 300.72,745.00)\" text-anchor=\"middle\">.8</text>\n",
       "\t<line x1=\"390.80\" y1=\"324.73\" x2=\"350.83\" y2=\"324.73\" style=\"stroke:#000000;stroke-width:5.76\"/>\n",
       "\t<text x=\"300.72\" y=\"324.73\" style=\"font-family:'Helvetica';font-size:99.99px;fill:#000000\" transform=\"rotate(-90 300.72,324.73)\" text-anchor=\"middle\">1</text>\n",
       "\t<text x=\"190.71\" y=\"1375.28\" style=\"font-family:'Helvetica';font-size:99.99px;fill:#000000\" transform=\"rotate(-90 190.71,1375.28)\" text-anchor=\"middle\">Pr(Dum_Trump)</text>\n",
       "\t<line x1=\"390.80\" y1=\"2489.19\" x2=\"3859.02\" y2=\"2489.19\" style=\"stroke:#000000;stroke-width:5.76\"/>\n",
       "\t<line x1=\"454.16\" y1=\"2489.19\" x2=\"454.16\" y2=\"2529.16\" style=\"stroke:#000000;stroke-width:5.76\"/>\n",
       "\t<text x=\"454.16\" y=\"2619.14\" style=\"font-family:'Helvetica';font-size:99.99px;fill:#000000\" text-anchor=\"middle\">extremely liberal</text>\n",
       "\t<line x1=\"1011.04\" y1=\"2489.19\" x2=\"1011.04\" y2=\"2529.16\" style=\"stroke:#000000;stroke-width:5.76\"/>\n",
       "\t<text x=\"1011.04\" y=\"2619.14\" style=\"font-family:'Helvetica';font-size:99.99px;fill:#000000\" text-anchor=\"middle\">liberal</text>\n",
       "\t<line x1=\"1568.04\" y1=\"2489.19\" x2=\"1568.04\" y2=\"2529.16\" style=\"stroke:#000000;stroke-width:5.76\"/>\n",
       "\t<text x=\"1568.04\" y=\"2619.14\" style=\"font-family:'Helvetica';font-size:99.99px;fill:#000000\" text-anchor=\"middle\">slightly liberal</text>\n",
       "\t<line x1=\"2124.91\" y1=\"2489.19\" x2=\"2124.91\" y2=\"2529.16\" style=\"stroke:#000000;stroke-width:5.76\"/>\n",
       "\t<text x=\"2124.91\" y=\"2619.14\" style=\"font-family:'Helvetica';font-size:99.99px;fill:#000000\" text-anchor=\"middle\">moderate</text>\n",
       "\t<line x1=\"2681.91\" y1=\"2489.19\" x2=\"2681.91\" y2=\"2529.16\" style=\"stroke:#000000;stroke-width:5.76\"/>\n",
       "\t<text x=\"2681.91\" y=\"2619.14\" style=\"font-family:'Helvetica';font-size:99.99px;fill:#000000\" text-anchor=\"middle\">slghtly conservative</text>\n",
       "\t<line x1=\"3238.78\" y1=\"2489.19\" x2=\"3238.78\" y2=\"2529.16\" style=\"stroke:#000000;stroke-width:5.76\"/>\n",
       "\t<text x=\"3238.78\" y=\"2619.14\" style=\"font-family:'Helvetica';font-size:99.99px;fill:#000000\" text-anchor=\"middle\">conservative</text>\n",
       "\t<line x1=\"3795.66\" y1=\"2489.19\" x2=\"3795.66\" y2=\"2529.16\" style=\"stroke:#000000;stroke-width:5.76\"/>\n",
       "\t<text x=\"3795.66\" y=\"2619.14\" style=\"font-family:'Helvetica';font-size:99.99px;fill:#000000\" text-anchor=\"middle\">extrmly conservative</text>\n",
       "\t<text x=\"2124.91\" y=\"2729.16\" style=\"font-family:'Helvetica';font-size:99.99px;fill:#000000\" text-anchor=\"middle\">think of self as liberal or conservative</text>\n",
       "\t<text x=\"1979.88\" y=\"206.19\" style=\"font-family:'Helvetica';font-size:125.98px;fill:#1E2D53\" text-anchor=\"middle\">Adjusted Predictions</text>\n",
       "</svg>\n"
      ],
      "text/plain": [
       "This front-end cannot display the desired image type."
      ]
     },
     "metadata": {
      "image/svg+xml": {
       "height": 436,
       "width": 600
      }
     },
     "output_type": "display_data"
    },
    {
     "name": "stdout",
     "output_type": "stream",
     "text": [
      "\n",
      "\n",
      "\n"
     ]
    }
   ],
   "source": [
    "marginsplot, noci"
   ]
  },
  {
   "cell_type": "markdown",
   "metadata": {},
   "source": [
    "## Jämförelse med vanlig regressionsanalys (OLS)\n",
    "\n",
    "Den svängda formen på kurvan illustrerar det som är speciellt med den logistiska regressionen: den viker av nära \"golvet\" och \"taket\". Något sådant får vi inte till med en vanlig regressionsanalys.\n",
    "\n",
    "För att se skillnaden kör jag i koden nedan två olika analyser, först en vanlig regressionsanalys, och sedan en logistisk. Slutligen gör jag en vanlig regressionsanalys med [dummyvariabler](dummy_sv.html) för varje värde av polviews - den kommer visa det faktiska medelvärdet i varje grupp, och är alltså \"facit\". För varje analys räknar jag ut förväntade värden med `margins` och gör sedan en graf, som sparas (med hjälp av option `name()`. Före alla kommandon har jag skrivit `quietly` för att inte själva outputen ska visas - det blir så otympligt här på sidan. Därefter visas båda graferna sida vid sida med hjälp av kommandot `graph combine`."
   ]
  },
  {
   "cell_type": "code",
   "execution_count": 53,
   "metadata": {},
   "outputs": [
    {
     "data": {
      "application/pdf": "[encoded data removed]",
      "image/svg+xml": [
       "<?xml version=\"1.0\" encoding=\"UTF-8\" standalone=\"no\"?>\n",
       "<!-- This is a Stata 16.0 generated SVG file (http://www.stata.com) -->\n",
       "\n",
       "<svg version=\"1.1\" width=\"600px\" height=\"200px\" viewBox=\"0 0 8640 2880\" xmlns=\"http://www.w3.org/2000/svg\" xmlns:xlink=\"http://www.w3.org/1999/xlink\">\n",
       "\t<desc>Stata Graph - Graph</desc>\n",
       "\t<rect x=\"0\" y=\"0\" width=\"8640\" height=\"2880\" style=\"fill:#EAF2F3;stroke:none\"/>\n",
       "\t<rect x=\"0.00\" y=\"0.00\" width=\"8639.46\" height=\"2880.00\" style=\"fill:#EAF2F3\"/>\n",
       "\t<rect x=\"2.88\" y=\"2.88\" width=\"8633.70\" height=\"2874.24\" style=\"fill:none;stroke:#EAF2F3;stroke-width:5.76\"/>\n",
       "\t<rect x=\"63.45\" y=\"63.45\" width=\"2837.43\" height=\"2753.09\" style=\"fill:#EAF2F3\"/>\n",
       "\t<rect x=\"65.61\" y=\"65.61\" width=\"2833.11\" height=\"2748.77\" style=\"fill:none;stroke:#EAF2F3;stroke-width:4.32\"/>\n",
       "\t<rect x=\"356.40\" y=\"259.49\" width=\"2468.88\" height=\"2264.09\" style=\"fill:#FFFFFF\"/>\n",
       "\t<rect x=\"358.56\" y=\"261.65\" width=\"2464.56\" height=\"2259.77\" style=\"fill:none;stroke:#FFFFFF;stroke-width:4.32\"/>\n",
       "\t<line x1=\"356.40\" y1=\"2217.11\" x2=\"2825.28\" y2=\"2217.11\" style=\"stroke:#EAF2F3;stroke-width:6.48\"/>\n",
       "\t<line x1=\"356.40\" y1=\"1262.06\" x2=\"2825.28\" y2=\"1262.06\" style=\"stroke:#EAF2F3;stroke-width:6.48\"/>\n",
       "\t<line x1=\"356.40\" y1=\"307.01\" x2=\"2825.28\" y2=\"307.01\" style=\"stroke:#EAF2F3;stroke-width:6.48\"/>\n",
       "\t<path d=\" M403.92 2476.05 L799.47 2140.42 L1195.02 1804.52 L1590.84 1468.62 L1986.39 1132.72 L2381.94 797.09 L2777.76 461.19\" stroke-linejoin=\"round\" style=\"fill:none;stroke:#1A476F;stroke-width:6.48\"/>\n",
       "\t<circle cx=\"403.92\" cy=\"2476.05\" r=\"19.71\" style=\"fill:#1A476F\"/>\n",
       "\t<circle cx=\"403.92\" cy=\"2476.05\" r=\"16.47\" style=\"fill:none;stroke:#1A476F;stroke-width:6.48\"/>\n",
       "\t<circle cx=\"799.47\" cy=\"2140.42\" r=\"19.71\" style=\"fill:#1A476F\"/>\n",
       "\t<circle cx=\"799.47\" cy=\"2140.42\" r=\"16.47\" style=\"fill:none;stroke:#1A476F;stroke-width:6.48\"/>\n",
       "\t<circle cx=\"1195.02\" cy=\"1804.52\" r=\"19.71\" style=\"fill:#1A476F\"/>\n",
       "\t<circle cx=\"1195.02\" cy=\"1804.52\" r=\"16.47\" style=\"fill:none;stroke:#1A476F;stroke-width:6.48\"/>\n",
       "\t<circle cx=\"1590.84\" cy=\"1468.62\" r=\"19.71\" style=\"fill:#1A476F\"/>\n",
       "\t<circle cx=\"1590.84\" cy=\"1468.62\" r=\"16.47\" style=\"fill:none;stroke:#1A476F;stroke-width:6.48\"/>\n",
       "\t<circle cx=\"1986.39\" cy=\"1132.72\" r=\"19.71\" style=\"fill:#1A476F\"/>\n",
       "\t<circle cx=\"1986.39\" cy=\"1132.72\" r=\"16.47\" style=\"fill:none;stroke:#1A476F;stroke-width:6.48\"/>\n",
       "\t<circle cx=\"2381.94\" cy=\"797.09\" r=\"19.71\" style=\"fill:#1A476F\"/>\n",
       "\t<circle cx=\"2381.94\" cy=\"797.09\" r=\"16.47\" style=\"fill:none;stroke:#1A476F;stroke-width:6.48\"/>\n",
       "\t<circle cx=\"2777.76\" cy=\"461.19\" r=\"19.71\" style=\"fill:#1A476F\"/>\n",
       "\t<circle cx=\"2777.76\" cy=\"461.19\" r=\"16.47\" style=\"fill:none;stroke:#1A476F;stroke-width:6.48\"/>\n",
       "\t<line x1=\"356.40\" y1=\"2523.58\" x2=\"356.40\" y2=\"259.49\" style=\"stroke:#000000;stroke-width:4.32\"/>\n",
       "\t<line x1=\"356.40\" y1=\"2217.11\" x2=\"326.43\" y2=\"2217.11\" style=\"stroke:#000000;stroke-width:4.32\"/>\n",
       "\t<text x=\"288.66\" y=\"2217.11\" style=\"font-family:'Helvetica';font-size:75.06px;fill:#000000\" transform=\"rotate(-90 288.66,2217.11)\" text-anchor=\"middle\">0</text>\n",
       "\t<line x1=\"356.40\" y1=\"1262.06\" x2=\"326.43\" y2=\"1262.06\" style=\"stroke:#000000;stroke-width:4.32\"/>\n",
       "\t<text x=\"288.66\" y=\"1262.06\" style=\"font-family:'Helvetica';font-size:75.06px;fill:#000000\" transform=\"rotate(-90 288.66,1262.06)\" text-anchor=\"middle\">.5</text>\n",
       "\t<line x1=\"356.40\" y1=\"307.01\" x2=\"326.43\" y2=\"307.01\" style=\"stroke:#000000;stroke-width:4.32\"/>\n",
       "\t<text x=\"288.66\" y=\"307.01\" style=\"font-family:'Helvetica';font-size:75.06px;fill:#000000\" transform=\"rotate(-90 288.66,307.01)\" text-anchor=\"middle\">1</text>\n",
       "\t<text x=\"206.31\" y=\"1391.40\" style=\"font-family:'Helvetica';font-size:75.06px;fill:#000000\" transform=\"rotate(-90 206.31,1391.40)\" text-anchor=\"middle\">Linear Prediction</text>\n",
       "\t<line x1=\"356.40\" y1=\"2523.58\" x2=\"2825.28\" y2=\"2523.58\" style=\"stroke:#000000;stroke-width:4.32\"/>\n",
       "\t<line x1=\"403.92\" y1=\"2523.58\" x2=\"403.92\" y2=\"2553.55\" style=\"stroke:#000000;stroke-width:4.32\"/>\n",
       "\t<text x=\"403.92\" y=\"2621.08\" style=\"font-family:'Helvetica';font-size:75.06px;fill:#000000\" text-anchor=\"middle\">extremely liberal</text>\n",
       "\t<line x1=\"799.47\" y1=\"2523.58\" x2=\"799.47\" y2=\"2553.55\" style=\"stroke:#000000;stroke-width:4.32\"/>\n",
       "\t<text x=\"799.47\" y=\"2621.08\" style=\"font-family:'Helvetica';font-size:75.06px;fill:#000000\" text-anchor=\"middle\">liberal</text>\n",
       "\t<line x1=\"1195.29\" y1=\"2523.58\" x2=\"1195.29\" y2=\"2553.55\" style=\"stroke:#000000;stroke-width:4.32\"/>\n",
       "\t<text x=\"1195.29\" y=\"2621.08\" style=\"font-family:'Helvetica';font-size:75.06px;fill:#000000\" text-anchor=\"middle\">slightly liberal</text>\n",
       "\t<line x1=\"1590.84\" y1=\"2523.58\" x2=\"1590.84\" y2=\"2553.55\" style=\"stroke:#000000;stroke-width:4.32\"/>\n",
       "\t<text x=\"1590.84\" y=\"2621.08\" style=\"font-family:'Helvetica';font-size:75.06px;fill:#000000\" text-anchor=\"middle\">moderate</text>\n",
       "\t<line x1=\"1986.66\" y1=\"2523.58\" x2=\"1986.66\" y2=\"2553.55\" style=\"stroke:#000000;stroke-width:4.32\"/>\n",
       "\t<text x=\"1986.66\" y=\"2621.08\" style=\"font-family:'Helvetica';font-size:75.06px;fill:#000000\" text-anchor=\"middle\">slghtly conservative</text>\n",
       "\t<line x1=\"2382.21\" y1=\"2523.58\" x2=\"2382.21\" y2=\"2553.55\" style=\"stroke:#000000;stroke-width:4.32\"/>\n",
       "\t<text x=\"2382.21\" y=\"2621.08\" style=\"font-family:'Helvetica';font-size:75.06px;fill:#000000\" text-anchor=\"middle\">conservative</text>\n",
       "\t<line x1=\"2777.76\" y1=\"2523.58\" x2=\"2777.76\" y2=\"2553.55\" style=\"stroke:#000000;stroke-width:4.32\"/>\n",
       "\t<text x=\"2777.76\" y=\"2621.08\" style=\"font-family:'Helvetica';font-size:75.06px;fill:#000000\" text-anchor=\"middle\">extrmly conservative</text>\n",
       "\t<text x=\"1590.84\" y=\"2703.44\" style=\"font-family:'Helvetica';font-size:75.06px;fill:#000000\" text-anchor=\"middle\">think of self as liberal or conservative</text>\n",
       "\t<text x=\"1482.03\" y=\"218.04\" style=\"font-family:'Helvetica';font-size:94.50px;fill:#1E2D53\" text-anchor=\"middle\">OLS</text>\n",
       "\t<rect x=\"2900.88\" y=\"63.45\" width=\"2837.70\" height=\"2753.09\" style=\"fill:#EAF2F3\"/>\n",
       "\t<rect x=\"2903.04\" y=\"65.61\" width=\"2833.38\" height=\"2748.77\" style=\"fill:none;stroke:#EAF2F3;stroke-width:4.32\"/>\n",
       "\t<rect x=\"3194.10\" y=\"259.49\" width=\"2468.88\" height=\"2264.09\" style=\"fill:#FFFFFF\"/>\n",
       "\t<rect x=\"3196.26\" y=\"261.65\" width=\"2464.56\" height=\"2259.77\" style=\"fill:none;stroke:#FFFFFF;stroke-width:4.32\"/>\n",
       "\t<line x1=\"3194.10\" y1=\"2217.11\" x2=\"5662.98\" y2=\"2217.11\" style=\"stroke:#EAF2F3;stroke-width:6.48\"/>\n",
       "\t<line x1=\"3194.10\" y1=\"1262.06\" x2=\"5662.98\" y2=\"1262.06\" style=\"stroke:#EAF2F3;stroke-width:6.48\"/>\n",
       "\t<line x1=\"3194.10\" y1=\"307.01\" x2=\"5662.98\" y2=\"307.01\" style=\"stroke:#EAF2F3;stroke-width:6.48\"/>\n",
       "\t<path d=\" M3241.35 2175.26 L3637.17 2103.16 L4032.72 1926.30 L4428.27 1573.39 L4824.09 1090.33 L5219.64 683.95 L5615.19 459.57\" stroke-linejoin=\"round\" style=\"fill:none;stroke:#1A476F;stroke-width:6.48\"/>\n",
       "\t<circle cx=\"3241.35\" cy=\"2175.26\" r=\"19.71\" style=\"fill:#1A476F\"/>\n",
       "\t<circle cx=\"3241.35\" cy=\"2175.26\" r=\"16.47\" style=\"fill:none;stroke:#1A476F;stroke-width:6.48\"/>\n",
       "\t<circle cx=\"3637.17\" cy=\"2103.16\" r=\"19.71\" style=\"fill:#1A476F\"/>\n",
       "\t<circle cx=\"3637.17\" cy=\"2103.16\" r=\"16.47\" style=\"fill:none;stroke:#1A476F;stroke-width:6.48\"/>\n",
       "\t<circle cx=\"4032.72\" cy=\"1926.30\" r=\"19.71\" style=\"fill:#1A476F\"/>\n",
       "\t<circle cx=\"4032.72\" cy=\"1926.30\" r=\"16.47\" style=\"fill:none;stroke:#1A476F;stroke-width:6.48\"/>\n",
       "\t<circle cx=\"4428.27\" cy=\"1573.39\" r=\"19.71\" style=\"fill:#1A476F\"/>\n",
       "\t<circle cx=\"4428.27\" cy=\"1573.39\" r=\"16.47\" style=\"fill:none;stroke:#1A476F;stroke-width:6.48\"/>\n",
       "\t<circle cx=\"4824.09\" cy=\"1090.33\" r=\"19.71\" style=\"fill:#1A476F\"/>\n",
       "\t<circle cx=\"4824.09\" cy=\"1090.33\" r=\"16.47\" style=\"fill:none;stroke:#1A476F;stroke-width:6.48\"/>\n",
       "\t<circle cx=\"5219.64\" cy=\"683.95\" r=\"19.71\" style=\"fill:#1A476F\"/>\n",
       "\t<circle cx=\"5219.64\" cy=\"683.95\" r=\"16.47\" style=\"fill:none;stroke:#1A476F;stroke-width:6.48\"/>\n",
       "\t<circle cx=\"5615.19\" cy=\"459.57\" r=\"19.71\" style=\"fill:#1A476F\"/>\n",
       "\t<circle cx=\"5615.19\" cy=\"459.57\" r=\"16.47\" style=\"fill:none;stroke:#1A476F;stroke-width:6.48\"/>\n",
       "\t<line x1=\"3194.10\" y1=\"2523.58\" x2=\"3194.10\" y2=\"259.49\" style=\"stroke:#000000;stroke-width:4.32\"/>\n",
       "\t<line x1=\"3194.10\" y1=\"2217.11\" x2=\"3164.13\" y2=\"2217.11\" style=\"stroke:#000000;stroke-width:4.32\"/>\n",
       "\t<text x=\"3126.36\" y=\"2217.11\" style=\"font-family:'Helvetica';font-size:75.06px;fill:#000000\" transform=\"rotate(-90 3126.36,2217.11)\" text-anchor=\"middle\">0</text>\n",
       "\t<line x1=\"3194.10\" y1=\"1262.06\" x2=\"3164.13\" y2=\"1262.06\" style=\"stroke:#000000;stroke-width:4.32\"/>\n",
       "\t<text x=\"3126.36\" y=\"1262.06\" style=\"font-family:'Helvetica';font-size:75.06px;fill:#000000\" transform=\"rotate(-90 3126.36,1262.06)\" text-anchor=\"middle\">.5</text>\n",
       "\t<line x1=\"3194.10\" y1=\"307.01\" x2=\"3164.13\" y2=\"307.01\" style=\"stroke:#000000;stroke-width:4.32\"/>\n",
       "\t<text x=\"3126.36\" y=\"307.01\" style=\"font-family:'Helvetica';font-size:75.06px;fill:#000000\" transform=\"rotate(-90 3126.36,307.01)\" text-anchor=\"middle\">1</text>\n",
       "\t<text x=\"3044.01\" y=\"1391.40\" style=\"font-family:'Helvetica';font-size:75.06px;fill:#000000\" transform=\"rotate(-90 3044.01,1391.40)\" text-anchor=\"middle\">Pr(Dum_Trump)</text>\n",
       "\t<line x1=\"3194.10\" y1=\"2523.58\" x2=\"5662.98\" y2=\"2523.58\" style=\"stroke:#000000;stroke-width:4.32\"/>\n",
       "\t<line x1=\"3241.62\" y1=\"2523.58\" x2=\"3241.62\" y2=\"2553.55\" style=\"stroke:#000000;stroke-width:4.32\"/>\n",
       "\t<text x=\"3241.62\" y=\"2621.08\" style=\"font-family:'Helvetica';font-size:75.06px;fill:#000000\" text-anchor=\"middle\">extremely liberal</text>\n",
       "\t<line x1=\"3637.17\" y1=\"2523.58\" x2=\"3637.17\" y2=\"2553.55\" style=\"stroke:#000000;stroke-width:4.32\"/>\n",
       "\t<text x=\"3637.17\" y=\"2621.08\" style=\"font-family:'Helvetica';font-size:75.06px;fill:#000000\" text-anchor=\"middle\">liberal</text>\n",
       "\t<line x1=\"4032.72\" y1=\"2523.58\" x2=\"4032.72\" y2=\"2553.55\" style=\"stroke:#000000;stroke-width:4.32\"/>\n",
       "\t<text x=\"4032.72\" y=\"2621.08\" style=\"font-family:'Helvetica';font-size:75.06px;fill:#000000\" text-anchor=\"middle\">slightly liberal</text>\n",
       "\t<line x1=\"4428.54\" y1=\"2523.58\" x2=\"4428.54\" y2=\"2553.55\" style=\"stroke:#000000;stroke-width:4.32\"/>\n",
       "\t<text x=\"4428.54\" y=\"2621.08\" style=\"font-family:'Helvetica';font-size:75.06px;fill:#000000\" text-anchor=\"middle\">moderate</text>\n",
       "\t<line x1=\"4824.09\" y1=\"2523.58\" x2=\"4824.09\" y2=\"2553.55\" style=\"stroke:#000000;stroke-width:4.32\"/>\n",
       "\t<text x=\"4824.09\" y=\"2621.08\" style=\"font-family:'Helvetica';font-size:75.06px;fill:#000000\" text-anchor=\"middle\">slghtly conservative</text>\n",
       "\t<line x1=\"5219.64\" y1=\"2523.58\" x2=\"5219.64\" y2=\"2553.55\" style=\"stroke:#000000;stroke-width:4.32\"/>\n",
       "\t<text x=\"5219.64\" y=\"2621.08\" style=\"font-family:'Helvetica';font-size:75.06px;fill:#000000\" text-anchor=\"middle\">conservative</text>\n",
       "\t<line x1=\"5615.46\" y1=\"2523.58\" x2=\"5615.46\" y2=\"2553.55\" style=\"stroke:#000000;stroke-width:4.32\"/>\n",
       "\t<text x=\"5615.46\" y=\"2621.08\" style=\"font-family:'Helvetica';font-size:75.06px;fill:#000000\" text-anchor=\"middle\">extrmly conservative</text>\n",
       "\t<text x=\"4428.54\" y=\"2703.44\" style=\"font-family:'Helvetica';font-size:75.06px;fill:#000000\" text-anchor=\"middle\">think of self as liberal or conservative</text>\n",
       "\t<text x=\"4319.73\" y=\"218.04\" style=\"font-family:'Helvetica';font-size:94.50px;fill:#1E2D53\" text-anchor=\"middle\">Logistisk</text>\n",
       "\t<rect x=\"5738.58\" y=\"63.45\" width=\"2837.43\" height=\"2753.09\" style=\"fill:#EAF2F3\"/>\n",
       "\t<rect x=\"5740.74\" y=\"65.61\" width=\"2833.11\" height=\"2748.77\" style=\"fill:none;stroke:#EAF2F3;stroke-width:4.32\"/>\n",
       "\t<rect x=\"6031.53\" y=\"259.49\" width=\"2468.88\" height=\"2264.09\" style=\"fill:#FFFFFF\"/>\n",
       "\t<rect x=\"6033.69\" y=\"261.65\" width=\"2464.56\" height=\"2259.77\" style=\"fill:none;stroke:#FFFFFF;stroke-width:4.32\"/>\n",
       "\t<line x1=\"6031.53\" y1=\"2217.11\" x2=\"8500.41\" y2=\"2217.11\" style=\"stroke:#EAF2F3;stroke-width:6.48\"/>\n",
       "\t<line x1=\"6031.53\" y1=\"1262.06\" x2=\"8500.41\" y2=\"1262.06\" style=\"stroke:#EAF2F3;stroke-width:6.48\"/>\n",
       "\t<line x1=\"6031.53\" y1=\"307.01\" x2=\"8500.41\" y2=\"307.01\" style=\"stroke:#EAF2F3;stroke-width:6.48\"/>\n",
       "\t<path d=\" M6079.05 2098.03 L6474.60 2090.74 L6870.15 1942.77 L7265.97 1619.83 L7661.52 1094.38 L8057.34 585.13 L8452.89 598.90\" stroke-linejoin=\"round\" style=\"fill:none;stroke:#1A476F;stroke-width:6.48\"/>\n",
       "\t<circle cx=\"6079.05\" cy=\"2098.03\" r=\"19.71\" style=\"fill:#1A476F\"/>\n",
       "\t<circle cx=\"6079.05\" cy=\"2098.03\" r=\"16.47\" style=\"fill:none;stroke:#1A476F;stroke-width:6.48\"/>\n",
       "\t<circle cx=\"6474.60\" cy=\"2090.74\" r=\"19.71\" style=\"fill:#1A476F\"/>\n",
       "\t<circle cx=\"6474.60\" cy=\"2090.74\" r=\"16.47\" style=\"fill:none;stroke:#1A476F;stroke-width:6.48\"/>\n",
       "\t<circle cx=\"6870.15\" cy=\"1942.77\" r=\"19.71\" style=\"fill:#1A476F\"/>\n",
       "\t<circle cx=\"6870.15\" cy=\"1942.77\" r=\"16.47\" style=\"fill:none;stroke:#1A476F;stroke-width:6.48\"/>\n",
       "\t<circle cx=\"7265.97\" cy=\"1619.83\" r=\"19.71\" style=\"fill:#1A476F\"/>\n",
       "\t<circle cx=\"7265.97\" cy=\"1619.83\" r=\"16.47\" style=\"fill:none;stroke:#1A476F;stroke-width:6.48\"/>\n",
       "\t<circle cx=\"7661.52\" cy=\"1094.38\" r=\"19.71\" style=\"fill:#1A476F\"/>\n",
       "\t<circle cx=\"7661.52\" cy=\"1094.38\" r=\"16.47\" style=\"fill:none;stroke:#1A476F;stroke-width:6.48\"/>\n",
       "\t<circle cx=\"8057.34\" cy=\"585.13\" r=\"19.71\" style=\"fill:#1A476F\"/>\n",
       "\t<circle cx=\"8057.34\" cy=\"585.13\" r=\"16.47\" style=\"fill:none;stroke:#1A476F;stroke-width:6.48\"/>\n",
       "\t<circle cx=\"8452.89\" cy=\"598.90\" r=\"19.71\" style=\"fill:#1A476F\"/>\n",
       "\t<circle cx=\"8452.89\" cy=\"598.90\" r=\"16.47\" style=\"fill:none;stroke:#1A476F;stroke-width:6.48\"/>\n",
       "\t<line x1=\"6031.53\" y1=\"2523.58\" x2=\"6031.53\" y2=\"259.49\" style=\"stroke:#000000;stroke-width:4.32\"/>\n",
       "\t<line x1=\"6031.53\" y1=\"2217.11\" x2=\"6001.56\" y2=\"2217.11\" style=\"stroke:#000000;stroke-width:4.32\"/>\n",
       "\t<text x=\"5964.06\" y=\"2217.11\" style=\"font-family:'Helvetica';font-size:75.06px;fill:#000000\" transform=\"rotate(-90 5964.06,2217.11)\" text-anchor=\"middle\">0</text>\n",
       "\t<line x1=\"6031.53\" y1=\"1262.06\" x2=\"6001.56\" y2=\"1262.06\" style=\"stroke:#000000;stroke-width:4.32\"/>\n",
       "\t<text x=\"5964.06\" y=\"1262.06\" style=\"font-family:'Helvetica';font-size:75.06px;fill:#000000\" transform=\"rotate(-90 5964.06,1262.06)\" text-anchor=\"middle\">.5</text>\n",
       "\t<line x1=\"6031.53\" y1=\"307.01\" x2=\"6001.56\" y2=\"307.01\" style=\"stroke:#000000;stroke-width:4.32\"/>\n",
       "\t<text x=\"5964.06\" y=\"307.01\" style=\"font-family:'Helvetica';font-size:75.06px;fill:#000000\" transform=\"rotate(-90 5964.06,307.01)\" text-anchor=\"middle\">1</text>\n",
       "\t<text x=\"5881.44\" y=\"1391.40\" style=\"font-family:'Helvetica';font-size:75.06px;fill:#000000\" transform=\"rotate(-90 5881.44,1391.40)\" text-anchor=\"middle\">Linear Prediction</text>\n",
       "\t<line x1=\"6031.53\" y1=\"2523.58\" x2=\"8500.41\" y2=\"2523.58\" style=\"stroke:#000000;stroke-width:4.32\"/>\n",
       "\t<line x1=\"6079.05\" y1=\"2523.58\" x2=\"6079.05\" y2=\"2553.55\" style=\"stroke:#000000;stroke-width:4.32\"/>\n",
       "\t<text x=\"6079.05\" y=\"2621.08\" style=\"font-family:'Helvetica';font-size:75.06px;fill:#000000\" text-anchor=\"middle\">extremely liberal</text>\n",
       "\t<line x1=\"6474.87\" y1=\"2523.58\" x2=\"6474.87\" y2=\"2553.55\" style=\"stroke:#000000;stroke-width:4.32\"/>\n",
       "\t<text x=\"6474.87\" y=\"2621.08\" style=\"font-family:'Helvetica';font-size:75.06px;fill:#000000\" text-anchor=\"middle\">liberal</text>\n",
       "\t<line x1=\"6870.42\" y1=\"2523.58\" x2=\"6870.42\" y2=\"2553.55\" style=\"stroke:#000000;stroke-width:4.32\"/>\n",
       "\t<text x=\"6870.42\" y=\"2621.08\" style=\"font-family:'Helvetica';font-size:75.06px;fill:#000000\" text-anchor=\"middle\">slightly liberal</text>\n",
       "\t<line x1=\"7265.97\" y1=\"2523.58\" x2=\"7265.97\" y2=\"2553.55\" style=\"stroke:#000000;stroke-width:4.32\"/>\n",
       "\t<text x=\"7265.97\" y=\"2621.08\" style=\"font-family:'Helvetica';font-size:75.06px;fill:#000000\" text-anchor=\"middle\">moderate</text>\n",
       "\t<line x1=\"7661.79\" y1=\"2523.58\" x2=\"7661.79\" y2=\"2553.55\" style=\"stroke:#000000;stroke-width:4.32\"/>\n",
       "\t<text x=\"7661.79\" y=\"2621.08\" style=\"font-family:'Helvetica';font-size:75.06px;fill:#000000\" text-anchor=\"middle\">slghtly conservative</text>\n",
       "\t<line x1=\"8057.34\" y1=\"2523.58\" x2=\"8057.34\" y2=\"2553.55\" style=\"stroke:#000000;stroke-width:4.32\"/>\n",
       "\t<text x=\"8057.34\" y=\"2621.08\" style=\"font-family:'Helvetica';font-size:75.06px;fill:#000000\" text-anchor=\"middle\">conservative</text>\n",
       "\t<line x1=\"8452.89\" y1=\"2523.58\" x2=\"8452.89\" y2=\"2553.55\" style=\"stroke:#000000;stroke-width:4.32\"/>\n",
       "\t<text x=\"8452.89\" y=\"2621.08\" style=\"font-family:'Helvetica';font-size:75.06px;fill:#000000\" text-anchor=\"middle\">extrmly conservative</text>\n",
       "\t<text x=\"7265.97\" y=\"2703.44\" style=\"font-family:'Helvetica';font-size:75.06px;fill:#000000\" text-anchor=\"middle\">think of self as liberal or conservative</text>\n",
       "\t<text x=\"7157.43\" y=\"218.04\" style=\"font-family:'Helvetica';font-size:94.50px;fill:#1E2D53\" text-anchor=\"middle\">Faktiska medelvärden</text>\n",
       "</svg>\n"
      ],
      "text/plain": [
       "This front-end cannot display the desired image type."
      ]
     },
     "metadata": {
      "image/svg+xml": {
       "height": 200,
       "width": 600
      }
     },
     "output_type": "display_data"
    }
   ],
   "source": [
    "quietly reg dum_trump polviews\n",
    "quietly margins, at(polviews = (1/7))\n",
    "quietly marginsplot, name(m_ols, replace) noci title(\"OLS\")\n",
    "\n",
    "quietly logit dum_trump polviews\n",
    "quietly margins, at(polviews = (1/7))\n",
    "quietly marginsplot, name(m_logit, replace) noci title(\"Logistisk\")\n",
    "\n",
    "quietly reg dum_trump i.polviews\n",
    "quietly margins, at(polviews = (1/7))\n",
    "quietly marginsplot, name(m_mean, replace) noci title(\"Faktiska medelvärden\")\n",
    "\n",
    "graph combine m_ols m_logit m_mean, ycommon rows(1) xsize(12) ysize(4)"
   ]
  },
  {
   "cell_type": "markdown",
   "metadata": {},
   "source": [
    "För det första ska konstateras att de två graferna till vänster är väldigt lika. Vi ser att ju mer höger respondenterna är, desto mer sannolikt att de röstade på Trump. Så ofta går det utmärkt att använda OLS för att svara på de substantiella frågorna. Koefficienterna är då också mycket lättare att tolka - de visar förändringen i sannolikhet för att man ska ha en etta på den beroende variabeln när man ökar den oberoende variabeln ett steg. I det här fallet blir den ungefär 0,18 - för varje steg åt höger man tar ökar sannolikheten att man ska rösta på Trump med 18 procentenheter.\n",
    "\n",
    "Men det kan då också få konekvensen att vi hamnar under 0 eller över 1. Just det har hänt här. De som står längst till vänster beräknas ha -14 procents sannolikhet att rösta på Trump! I själva verket, ser vi längst till höger, var det faktiskt några av dem som stod längst vänster som gjorde det.\n",
    "\n",
    "Den logistiska regressionsanalysen ligger alltså närmare verkligheten. Men! Den är också mycket svårare att förstå för de flesta. Rent pedagogiskt kan det därför i många fall finnas ett värde i att hålla det enkelt, och använda OLS även när den beroende variabeln bara har värdet 0 eller 1. Det kallas då \"linear probability model\".\n",
    "\n",
    "## Logistisk regression med fler oberoende variabler\n",
    "\n",
    "Precis som i vanlig regressionsanalys kan vi lägga till fler oberoende variabler, som kontrollvariabler erller ytterligare förklaringar eller vad det nu kan vara. Vi skriver dem då bara på en rad, ordningen spelar ingen roll (men den beroende variabeln ska alltid stå först). Här lägger vi till en variabel för kön, \"sex\", som kan ha värdet 1 (man) eller 2 (kvinna)."
   ]
  },
  {
   "cell_type": "code",
   "execution_count": 54,
   "metadata": {},
   "outputs": [
    {
     "name": "stdout",
     "output_type": "stream",
     "text": [
      "\n",
      "Iteration 0:   log likelihood = -941.61645  \n",
      "Iteration 1:   log likelihood = -670.94957  \n",
      "Iteration 2:   log likelihood = -665.93439  \n",
      "Iteration 3:   log likelihood = -665.91495  \n",
      "Iteration 4:   log likelihood = -665.91495  \n",
      "\n",
      "Logistic regression                             Number of obs     =      1,395\n",
      "                                                LR chi2(2)        =     551.40\n",
      "                                                Prob > chi2       =     0.0000\n",
      "Log likelihood = -665.91495                     Pseudo R2         =     0.2928\n",
      "\n",
      "------------------------------------------------------------------------------\n",
      "   dum_trump |      Coef.   Std. Err.      z    P>|z|     [95% Conf. Interval]\n",
      "-------------+----------------------------------------------------------------\n",
      "    polviews |   1.050731   .0585341    17.95   0.000     .9360062    1.165456\n",
      "         sex |  -.5925794   .1363231    -4.35   0.000    -.8597678    -.325391\n",
      "       _cons |  -3.975402   .3198097   -12.43   0.000    -4.602218   -3.348587\n",
      "------------------------------------------------------------------------------\n"
     ]
    }
   ],
   "source": [
    "logit dum_trump polviews sex"
   ]
  },
  {
   "cell_type": "markdown",
   "metadata": {},
   "source": [
    "Vi ser att den positiva effekten av att bli mer höger kvarstår även under kontroll för kön, och också att kvinnor (som har det högre värdet på variabeln sex) är mindre benägna att rösta på Trump.\n",
    "\n",
    "Med hjälp av `margins` och `marginsplot` kan vi visa också hur det ser ut, grafiskt:"
   ]
  },
  {
   "cell_type": "code",
   "execution_count": 58,
   "metadata": {},
   "outputs": [
    {
     "name": "stdout",
     "output_type": "stream",
     "text": [
      "\n",
      "\n",
      "\n",
      "  Variables that uniquely identify margins: polviews sex\n"
     ]
    },
    {
     "data": {
      "application/pdf": "[encoded data removed]",
      "image/svg+xml": [
       "<?xml version=\"1.0\" encoding=\"UTF-8\" standalone=\"no\"?>\n",
       "<!-- This is a Stata 16.0 generated SVG file (http://www.stata.com) -->\n",
       "\n",
       "<svg version=\"1.1\" width=\"600px\" height=\"436px\" viewBox=\"0 0 3960 2880\" xmlns=\"http://www.w3.org/2000/svg\" xmlns:xlink=\"http://www.w3.org/1999/xlink\">\n",
       "\t<desc>Stata Graph - Graph</desc>\n",
       "\t<rect x=\"0\" y=\"0\" width=\"3960\" height=\"2880\" style=\"fill:#EAF2F3;stroke:none\"/>\n",
       "\t<rect x=\"0.00\" y=\"0.00\" width=\"3959.88\" height=\"2880.00\" style=\"fill:#EAF2F3\"/>\n",
       "\t<rect x=\"2.88\" y=\"2.88\" width=\"3954.12\" height=\"2874.24\" style=\"fill:none;stroke:#EAF2F3;stroke-width:5.76\"/>\n",
       "\t<rect x=\"390.80\" y=\"261.37\" width=\"3468.22\" height=\"1972.27\" style=\"fill:#FFFFFF\"/>\n",
       "\t<rect x=\"393.68\" y=\"264.25\" width=\"3462.46\" height=\"1966.51\" style=\"fill:none;stroke:#FFFFFF;stroke-width:5.76\"/>\n",
       "\t<line x1=\"390.80\" y1=\"2170.27\" x2=\"3859.02\" y2=\"2170.27\" style=\"stroke:#EAF2F3;stroke-width:8.64\"/>\n",
       "\t<line x1=\"390.80\" y1=\"1801.24\" x2=\"3859.02\" y2=\"1801.24\" style=\"stroke:#EAF2F3;stroke-width:8.64\"/>\n",
       "\t<line x1=\"390.80\" y1=\"1432.08\" x2=\"3859.02\" y2=\"1432.08\" style=\"stroke:#EAF2F3;stroke-width:8.64\"/>\n",
       "\t<line x1=\"390.80\" y1=\"1062.92\" x2=\"3859.02\" y2=\"1062.92\" style=\"stroke:#EAF2F3;stroke-width:8.64\"/>\n",
       "\t<line x1=\"390.80\" y1=\"693.89\" x2=\"3859.02\" y2=\"693.89\" style=\"stroke:#EAF2F3;stroke-width:8.64\"/>\n",
       "\t<line x1=\"390.80\" y1=\"324.73\" x2=\"3859.02\" y2=\"324.73\" style=\"stroke:#EAF2F3;stroke-width:8.64\"/>\n",
       "\t<path d=\" M454.04 2117.18 L1011.04 2025.97 L1567.91 1809.90 L2124.91 1414.14 L2681.79 943.00 L3238.78 601.20 L3795.66 431.90\" stroke-linejoin=\"round\" style=\"fill:none;stroke:#1A476F;stroke-width:8.64\"/>\n",
       "\t<circle cx=\"454.04\" cy=\"2117.18\" r=\"26.35\" style=\"fill:#1A476F\"/>\n",
       "\t<circle cx=\"454.04\" cy=\"2117.18\" r=\"22.03\" style=\"fill:none;stroke:#1A476F;stroke-width:8.64\"/>\n",
       "\t<circle cx=\"1011.04\" cy=\"2025.97\" r=\"26.35\" style=\"fill:#1A476F\"/>\n",
       "\t<circle cx=\"1011.04\" cy=\"2025.97\" r=\"22.03\" style=\"fill:none;stroke:#1A476F;stroke-width:8.64\"/>\n",
       "\t<circle cx=\"1567.91\" cy=\"1809.90\" r=\"26.35\" style=\"fill:#1A476F\"/>\n",
       "\t<circle cx=\"1567.91\" cy=\"1809.90\" r=\"22.03\" style=\"fill:none;stroke:#1A476F;stroke-width:8.64\"/>\n",
       "\t<circle cx=\"2124.91\" cy=\"1414.14\" r=\"26.35\" style=\"fill:#1A476F\"/>\n",
       "\t<circle cx=\"2124.91\" cy=\"1414.14\" r=\"22.03\" style=\"fill:none;stroke:#1A476F;stroke-width:8.64\"/>\n",
       "\t<circle cx=\"2681.79\" cy=\"943.00\" r=\"26.35\" style=\"fill:#1A476F\"/>\n",
       "\t<circle cx=\"2681.79\" cy=\"943.00\" r=\"22.03\" style=\"fill:none;stroke:#1A476F;stroke-width:8.64\"/>\n",
       "\t<circle cx=\"3238.78\" cy=\"601.20\" r=\"26.35\" style=\"fill:#1A476F\"/>\n",
       "\t<circle cx=\"3238.78\" cy=\"601.20\" r=\"22.03\" style=\"fill:none;stroke:#1A476F;stroke-width:8.64\"/>\n",
       "\t<circle cx=\"3795.66\" cy=\"431.90\" r=\"26.35\" style=\"fill:#1A476F\"/>\n",
       "\t<circle cx=\"3795.66\" cy=\"431.90\" r=\"22.03\" style=\"fill:none;stroke:#1A476F;stroke-width:8.64\"/>\n",
       "\t<path d=\" M454.04 2140.57 L1011.04 2087.60 L1567.91 1951.97 L2124.91 1658.55 L2681.79 1204.62 L3238.78 770.74 L3795.66 509.74\" stroke-linejoin=\"round\" style=\"fill:none;stroke:#90353B;stroke-width:8.64\"/>\n",
       "\t<circle cx=\"454.04\" cy=\"2140.57\" r=\"26.35\" style=\"fill:#90353B\"/>\n",
       "\t<circle cx=\"454.04\" cy=\"2140.57\" r=\"22.03\" style=\"fill:none;stroke:#90353B;stroke-width:8.64\"/>\n",
       "\t<circle cx=\"1011.04\" cy=\"2087.60\" r=\"26.35\" style=\"fill:#90353B\"/>\n",
       "\t<circle cx=\"1011.04\" cy=\"2087.60\" r=\"22.03\" style=\"fill:none;stroke:#90353B;stroke-width:8.64\"/>\n",
       "\t<circle cx=\"1567.91\" cy=\"1951.97\" r=\"26.35\" style=\"fill:#90353B\"/>\n",
       "\t<circle cx=\"1567.91\" cy=\"1951.97\" r=\"22.03\" style=\"fill:none;stroke:#90353B;stroke-width:8.64\"/>\n",
       "\t<circle cx=\"2124.91\" cy=\"1658.55\" r=\"26.35\" style=\"fill:#90353B\"/>\n",
       "\t<circle cx=\"2124.91\" cy=\"1658.55\" r=\"22.03\" style=\"fill:none;stroke:#90353B;stroke-width:8.64\"/>\n",
       "\t<circle cx=\"2681.79\" cy=\"1204.62\" r=\"26.35\" style=\"fill:#90353B\"/>\n",
       "\t<circle cx=\"2681.79\" cy=\"1204.62\" r=\"22.03\" style=\"fill:none;stroke:#90353B;stroke-width:8.64\"/>\n",
       "\t<circle cx=\"3238.78\" cy=\"770.74\" r=\"26.35\" style=\"fill:#90353B\"/>\n",
       "\t<circle cx=\"3238.78\" cy=\"770.74\" r=\"22.03\" style=\"fill:none;stroke:#90353B;stroke-width:8.64\"/>\n",
       "\t<circle cx=\"3795.66\" cy=\"509.74\" r=\"26.35\" style=\"fill:#90353B\"/>\n",
       "\t<circle cx=\"3795.66\" cy=\"509.74\" r=\"22.03\" style=\"fill:none;stroke:#90353B;stroke-width:8.64\"/>\n",
       "\t<line x1=\"390.80\" y1=\"2233.63\" x2=\"390.80\" y2=\"261.37\" style=\"stroke:#000000;stroke-width:5.76\"/>\n",
       "\t<line x1=\"390.80\" y1=\"2170.27\" x2=\"350.83\" y2=\"2170.27\" style=\"stroke:#000000;stroke-width:5.76\"/>\n",
       "\t<text x=\"300.72\" y=\"2170.27\" style=\"font-family:'Helvetica';font-size:99.99px;fill:#000000\" transform=\"rotate(-90 300.72,2170.27)\" text-anchor=\"middle\">0</text>\n",
       "\t<line x1=\"390.80\" y1=\"1801.24\" x2=\"350.83\" y2=\"1801.24\" style=\"stroke:#000000;stroke-width:5.76\"/>\n",
       "\t<text x=\"300.72\" y=\"1801.24\" style=\"font-family:'Helvetica';font-size:99.99px;fill:#000000\" transform=\"rotate(-90 300.72,1801.24)\" text-anchor=\"middle\">.2</text>\n",
       "\t<line x1=\"390.80\" y1=\"1432.08\" x2=\"350.83\" y2=\"1432.08\" style=\"stroke:#000000;stroke-width:5.76\"/>\n",
       "\t<text x=\"300.72\" y=\"1432.08\" style=\"font-family:'Helvetica';font-size:99.99px;fill:#000000\" transform=\"rotate(-90 300.72,1432.08)\" text-anchor=\"middle\">.4</text>\n",
       "\t<line x1=\"390.80\" y1=\"1062.92\" x2=\"350.83\" y2=\"1062.92\" style=\"stroke:#000000;stroke-width:5.76\"/>\n",
       "\t<text x=\"300.72\" y=\"1062.92\" style=\"font-family:'Helvetica';font-size:99.99px;fill:#000000\" transform=\"rotate(-90 300.72,1062.92)\" text-anchor=\"middle\">.6</text>\n",
       "\t<line x1=\"390.80\" y1=\"693.89\" x2=\"350.83\" y2=\"693.89\" style=\"stroke:#000000;stroke-width:5.76\"/>\n",
       "\t<text x=\"300.72\" y=\"693.89\" style=\"font-family:'Helvetica';font-size:99.99px;fill:#000000\" transform=\"rotate(-90 300.72,693.89)\" text-anchor=\"middle\">.8</text>\n",
       "\t<line x1=\"390.80\" y1=\"324.73\" x2=\"350.83\" y2=\"324.73\" style=\"stroke:#000000;stroke-width:5.76\"/>\n",
       "\t<text x=\"300.72\" y=\"324.73\" style=\"font-family:'Helvetica';font-size:99.99px;fill:#000000\" transform=\"rotate(-90 300.72,324.73)\" text-anchor=\"middle\">1</text>\n",
       "\t<text x=\"190.71\" y=\"1247.56\" style=\"font-family:'Helvetica';font-size:99.99px;fill:#000000\" transform=\"rotate(-90 190.71,1247.56)\" text-anchor=\"middle\">Pr(Dum_Trump)</text>\n",
       "\t<line x1=\"390.80\" y1=\"2233.63\" x2=\"3859.02\" y2=\"2233.63\" style=\"stroke:#000000;stroke-width:5.76\"/>\n",
       "\t<line x1=\"454.16\" y1=\"2233.63\" x2=\"454.16\" y2=\"2273.73\" style=\"stroke:#000000;stroke-width:5.76\"/>\n",
       "\t<text x=\"454.16\" y=\"2363.59\" style=\"font-family:'Helvetica';font-size:99.99px;fill:#000000\" text-anchor=\"middle\">extremely liberal</text>\n",
       "\t<line x1=\"1011.04\" y1=\"2233.63\" x2=\"1011.04\" y2=\"2273.73\" style=\"stroke:#000000;stroke-width:5.76\"/>\n",
       "\t<text x=\"1011.04\" y=\"2363.59\" style=\"font-family:'Helvetica';font-size:99.99px;fill:#000000\" text-anchor=\"middle\">liberal</text>\n",
       "\t<line x1=\"1568.04\" y1=\"2233.63\" x2=\"1568.04\" y2=\"2273.73\" style=\"stroke:#000000;stroke-width:5.76\"/>\n",
       "\t<text x=\"1568.04\" y=\"2363.59\" style=\"font-family:'Helvetica';font-size:99.99px;fill:#000000\" text-anchor=\"middle\">slightly liberal</text>\n",
       "\t<line x1=\"2124.91\" y1=\"2233.63\" x2=\"2124.91\" y2=\"2273.73\" style=\"stroke:#000000;stroke-width:5.76\"/>\n",
       "\t<text x=\"2124.91\" y=\"2363.59\" style=\"font-family:'Helvetica';font-size:99.99px;fill:#000000\" text-anchor=\"middle\">moderate</text>\n",
       "\t<line x1=\"2681.91\" y1=\"2233.63\" x2=\"2681.91\" y2=\"2273.73\" style=\"stroke:#000000;stroke-width:5.76\"/>\n",
       "\t<text x=\"2681.91\" y=\"2363.59\" style=\"font-family:'Helvetica';font-size:99.99px;fill:#000000\" text-anchor=\"middle\">slghtly conservative</text>\n",
       "\t<line x1=\"3238.78\" y1=\"2233.63\" x2=\"3238.78\" y2=\"2273.73\" style=\"stroke:#000000;stroke-width:5.76\"/>\n",
       "\t<text x=\"3238.78\" y=\"2363.59\" style=\"font-family:'Helvetica';font-size:99.99px;fill:#000000\" text-anchor=\"middle\">conservative</text>\n",
       "\t<line x1=\"3795.66\" y1=\"2233.63\" x2=\"3795.66\" y2=\"2273.73\" style=\"stroke:#000000;stroke-width:5.76\"/>\n",
       "\t<text x=\"3795.66\" y=\"2363.59\" style=\"font-family:'Helvetica';font-size:99.99px;fill:#000000\" text-anchor=\"middle\">extrmly conservative</text>\n",
       "\t<text x=\"2124.91\" y=\"2473.60\" style=\"font-family:'Helvetica';font-size:99.99px;fill:#000000\" text-anchor=\"middle\">think of self as liberal or conservative</text>\n",
       "\t<rect x=\"1313.85\" y=\"2558.24\" width=\"1622.24\" height=\"186.37\" style=\"fill:#FFFFFF\"/>\n",
       "\t<rect x=\"1316.73\" y=\"2561.12\" width=\"1616.48\" height=\"180.61\" style=\"fill:none;stroke:#000000;stroke-width:5.76\"/>\n",
       "\t<line x1=\"1357.04\" y1=\"2651.43\" x2=\"1731.39\" y2=\"2651.43\" style=\"stroke:#1A476F;stroke-width:8.64\"/>\n",
       "\t<circle cx=\"1544.15\" cy=\"2651.43\" r=\"26.35\" style=\"fill:#1A476F\"/>\n",
       "\t<circle cx=\"1544.15\" cy=\"2651.43\" r=\"22.03\" style=\"fill:none;stroke:#1A476F;stroke-width:8.64\"/>\n",
       "\t<line x1=\"2151.89\" y1=\"2651.43\" x2=\"2526.23\" y2=\"2651.43\" style=\"stroke:#90353B;stroke-width:8.64\"/>\n",
       "\t<circle cx=\"2339.12\" cy=\"2651.43\" r=\"26.35\" style=\"fill:#90353B\"/>\n",
       "\t<circle cx=\"2339.12\" cy=\"2651.43\" r=\"22.03\" style=\"fill:none;stroke:#90353B;stroke-width:8.64\"/>\n",
       "\t<text x=\"1791.40\" y=\"2686.46\" style=\"font-family:'Helvetica';font-size:99.99px;fill:#000000\">male</text>\n",
       "\t<text x=\"2586.25\" y=\"2686.46\" style=\"font-family:'Helvetica';font-size:99.99px;fill:#000000\">female</text>\n",
       "\t<text x=\"1979.88\" y=\"206.19\" style=\"font-family:'Helvetica';font-size:125.98px;fill:#1E2D53\" text-anchor=\"middle\">Adjusted Predictions</text>\n",
       "</svg>\n"
      ],
      "text/plain": [
       "This front-end cannot display the desired image type."
      ]
     },
     "metadata": {
      "image/svg+xml": {
       "height": 436,
       "width": 600
      }
     },
     "output_type": "display_data"
    },
    {
     "name": "stdout",
     "output_type": "stream",
     "text": [
      "\n",
      "\n",
      "\n"
     ]
    }
   ],
   "source": [
    "quietly margins, at(polviews = (1/7) sex=(1 2))\n",
    "marginsplot, noci"
   ]
  },
  {
   "cell_type": "markdown",
   "metadata": {},
   "source": [
    "**Här är det dock viktigt att vara på sin vakt.** När man ser grafen kan man få intrycket att det är större skillnad mellan könen i mitten på den ideologiska skalan. Och det är det också - men bara uttryckt i procentenheter. Den logistiska regressionen bygger på odds, som är relativa. Det vill säga, vi bör tänka mer i termer av om sannolikheter fördubblas eller halveras, snarare än om hur många procentenheter de ökar.\n",
    "\n",
    "Även om skillnaden mellan män och kvinnor bland de som är \"extremely liberal\" ser obetydlig ut så är förhållandena i odds exakt densamma där, som i mitten på skalan. Vi bör därför inte göra någon teoretisk poäng av att könsgapet *ser* större ut i mitten. Det är bara en statistisk artefakt som följer av den logistiska regressionens natur. Om vi vill undersöka en sån hypotes bör vi använda en interaktionseffekt mellan kön och ideologi.\n",
    "\n",
    "## Avslutning\n",
    "\n",
    "Den logistiska regressionsanalysen är ett mer \"korrekt\" sätt att analysera när den beroende variabeln bara kan ha två värden, noll eller ett. Är man intresserad av att klassificera olika enheter eller räkna ut exakta sannolikheter kan den vara ett bra alternativ. Om man istället mer är intresserad av en översikt över sambandet mellan den beroende och de oberoende variablerna funkar OLS ofta nästan lika bra, med fördelen att den är enklare."
   ]
  }
 ],
 "metadata": {
  "kernelspec": {
   "display_name": "Stata",
   "language": "stata",
   "name": "stata"
  },
  "language_info": {
   "codemirror_mode": "stata",
   "file_extension": ".do",
   "mimetype": "text/x-stata",
   "name": "stata",
   "version": "15.1"
  }
 },
 "nbformat": 4,
 "nbformat_minor": 4
}
