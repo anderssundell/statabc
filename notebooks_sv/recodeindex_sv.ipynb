{
 "cells": [
  {
   "cell_type": "markdown",
   "metadata": {},
   "source": [
    "# Skapa index av flera variabler\n",
    "\n",
    "När man har flera variabler som mäter ungefär samma sak kan det vara motiverat att göra ett *index*. Det är en sammanfattande variabel som visar till exempel en sammanlagd poäng, eller ett genomsnitt av de olika variablerna. En fördel är till exempel att mätfel i de enskilda variablerna kan tar ut varandra, och man får ett bättre mått på den underliggande egenskap man egentligen är intresserad av.\n",
    "\n",
    "Säg till exempel att vi vill mäta en persons kunskap i vetenskapsfrågor. Det finns ingen enskild fråga som skulle kunna fånga in allt. Om vi frågar \"vad är minst, elektronen eller atomen\" (rätt svar är elektronen!) är det troligt att de som kan mer om vetenskap oftare svarar rätt. Men även den som inte kan så mycket kan ha råkat höra just detta, och den i allmänhet kunnige kanske har missat just denna faktauppgift. Genom att ställa många frågor och väga samman svaren borde vi få ett bättre mått på allmän kunskap om vetenskap.\n",
    "\n",
    "I den här guiden ska vi gå igenom hur man gör två enkla index över just kunskap om vetenskap, och hur man kan kolla hur väl de olika frågorna i indexet hänger ihop.\n",
    "\n",
    "## Steg 1: Koda om variablerna som ska ingå i indexet\n",
    "\n",
    "Vi använder oss här av den amerikanska General Social Survey, där man ställer flera frågor om grundläggande vetenskapliga fakta. Vi börjar med att ladda in datan."
   ]
  },
  {
   "cell_type": "code",
   "execution_count": 4,
   "metadata": {},
   "outputs": [],
   "source": [
    "use \"data/GSS2018.dta\", clear"
   ]
  },
  {
   "cell_type": "markdown",
   "metadata": {},
   "source": [
    "När man gör ett index måste man först koda om variablerna så att de alla är enhetliga. Om vi till exempel lägger ihop en variabel med skalan 1-4 med en variabel som har skala 1-10 blir det konstigt.\n",
    "\n",
    "Vi ska utgå från fem frågor. 1) Vad är minst, elektronen eller atomen? 2) Snurrar jorden runt solen, eller solen runt jorden? 3) Rör kontinentalplattorna på sig? 4) Dödar antibiotika virus? 5) Fungerar laser genom att fokusera ljudvågor?\n",
    "\n",
    "Variablerna är kodade så att 1 är \"true\" och 2 \"false\". Vi är bara intresserade av om man har svarat rätt eller fel, och gör därför en uppsättning nya variabler som har värdet 0 om respondenten svarat fel, och 1 om den svarat rätt. Detta gör vi med kommandot [`recode`](recodings_sv.html). De nya variablerna heter \"c_\" och så vad frågan handlade om."
   ]
  },
  {
   "cell_type": "code",
   "execution_count": 5,
   "metadata": {},
   "outputs": [
    {
     "name": "stdout",
     "output_type": "stream",
     "text": [
      "\n",
      "(293 differences between electron and c_electron)\n",
      "\n",
      "(281 differences between earthsun and c_earthsun)\n",
      "\n",
      "(140 differences between condrift and c_condrift)\n",
      "\n",
      "(1109 differences between viruses and c_viruses)\n",
      "\n",
      "(777 differences between lasers and c_lasers)\n"
     ]
    }
   ],
   "source": [
    "recode electron (1 = 1) (2=0), gen(c_electron)\n",
    "recode earthsun (1 = 1) (2=0), gen(c_earthsun)\n",
    "recode condrift (1 = 1) (2=0), gen(c_condrift)\n",
    "recode viruses (1 = 0) (2=1), gen(c_viruses)\n",
    "recode lasers (1 = 0) (2=1), gen(c_lasers)"
   ]
  },
  {
   "cell_type": "markdown",
   "metadata": {},
   "source": [
    "Vi kan först titta på medelvärdena för de olika variablerna, för att se hur många som har rätt. Det kan vi till exempel göra med `sum`-kommandot. Vi skriver bara `sum c_*` så körs kommandot på alla variabler som börjar med c_."
   ]
  },
  {
   "cell_type": "code",
   "execution_count": 7,
   "metadata": {},
   "outputs": [
    {
     "name": "stdout",
     "output_type": "stream",
     "text": [
      "\n",
      "    Variable |        Obs        Mean    Std. Dev.       Min        Max\n",
      "-------------+---------------------------------------------------------\n",
      "  c_electron |        837    .6499403    .4772736          0          1\n",
      "  c_earthsun |      1,117    .7484333    .4341078          0          1\n",
      "  c_condrift |      1,063    .8682973    .3383265          0          1\n",
      "   c_viruses |      1,109    .5383228    .4987541          0          1\n",
      "    c_lasers |        777    .6718147    .4698551          0          1\n"
     ]
    }
   ],
   "source": [
    "sum c_*"
   ]
  },
  {
   "cell_type": "markdown",
   "metadata": {},
   "source": [
    "Eftersom variablerna bara har värdet 0 eller 1 betyder ett medelvärde på 0.5 att 50% har rätt. Den svåraste frågan var tydligen om antibiotika dödar virus (det gör den inte), där 54% svarade rätt. Lättast var frågan om kontinentalplattornas rörelser, som 87% hade rätt på. Nu när alla variablerna har samma skala kan vi göra själva indexet."
   ]
  },
  {
   "cell_type": "markdown",
   "metadata": {},
   "source": [
    "## Steg 2a: Slå ihop variablerna till ett additivt index\n",
    "Det första indexet vi gör är det enklast tänkbara: En summering av variablerna. Den som svarar fel på alla frågor får 0 poäng, den som svarar rätt på alla får fem poäng. Vi gör det med kommandot `gen` för att göra en ny variabel, som skapas genom att addera ihop alla de enskilda variablerna. Därefter tar vi fram ett `histogram` för att se hur många rätt folk har."
   ]
  },
  {
   "cell_type": "code",
   "execution_count": 12,
   "metadata": {},
   "outputs": [
    {
     "name": "stdout",
     "output_type": "stream",
     "text": [
      "\n",
      "(1,783 missing values generated)\n",
      "\n",
      "(bin=23, start=0, width=.2173913)\n"
     ]
    },
    {
     "data": {
      "application/pdf": "[encoded data removed]",
      "image/svg+xml": [
       "<?xml version=\"1.0\" encoding=\"UTF-8\" standalone=\"no\"?>\n",
       "<!-- This is a Stata 16.0 generated SVG file (http://www.stata.com) -->\n",
       "\n",
       "<svg version=\"1.1\" width=\"600px\" height=\"436px\" viewBox=\"0 0 3960 2880\" xmlns=\"http://www.w3.org/2000/svg\" xmlns:xlink=\"http://www.w3.org/1999/xlink\">\n",
       "\t<desc>Stata Graph - Graph</desc>\n",
       "\t<rect x=\"0\" y=\"0\" width=\"3960\" height=\"2880\" style=\"fill:#EAF2F3;stroke:none\"/>\n",
       "\t<rect x=\"0.00\" y=\"0.00\" width=\"3959.88\" height=\"2880.00\" style=\"fill:#EAF2F3\"/>\n",
       "\t<rect x=\"2.88\" y=\"2.88\" width=\"3954.12\" height=\"2874.24\" style=\"fill:none;stroke:#EAF2F3;stroke-width:5.76\"/>\n",
       "\t<rect x=\"390.80\" y=\"100.86\" width=\"3468.22\" height=\"2388.33\" style=\"fill:#FFFFFF\"/>\n",
       "\t<rect x=\"393.68\" y=\"103.74\" width=\"3462.46\" height=\"2382.57\" style=\"fill:none;stroke:#FFFFFF;stroke-width:5.76\"/>\n",
       "\t<line x1=\"390.80\" y1=\"2489.19\" x2=\"3859.02\" y2=\"2489.19\" style=\"stroke:#EAF2F3;stroke-width:8.64\"/>\n",
       "\t<line x1=\"390.80\" y1=\"1725.50\" x2=\"3859.02\" y2=\"1725.50\" style=\"stroke:#EAF2F3;stroke-width:8.64\"/>\n",
       "\t<line x1=\"390.80\" y1=\"961.69\" x2=\"3859.02\" y2=\"961.69\" style=\"stroke:#EAF2F3;stroke-width:8.64\"/>\n",
       "\t<line x1=\"390.80\" y1=\"198.01\" x2=\"3859.02\" y2=\"198.01\" style=\"stroke:#EAF2F3;stroke-width:8.64\"/>\n",
       "\t<rect x=\"525.20\" y=\"2475.70\" width=\"142.19\" height=\"13.49\" style=\"fill:#CAC27E\"/>\n",
       "\t<rect x=\"529.51\" y=\"2480.02\" width=\"133.55\" height=\"4.85\" style=\"fill:none;stroke:#D7D29E;stroke-width:8.64\"/>\n",
       "\t<rect x=\"1094.07\" y=\"2151.21\" width=\"142.19\" height=\"337.97\" style=\"fill:#CAC27E\"/>\n",
       "\t<rect x=\"1098.39\" y=\"2155.53\" width=\"133.55\" height=\"329.33\" style=\"fill:none;stroke:#D7D29E;stroke-width:8.64\"/>\n",
       "\t<rect x=\"1805.02\" y=\"1407.82\" width=\"142.19\" height=\"1081.36\" style=\"fill:#CAC27E\"/>\n",
       "\t<rect x=\"1809.34\" y=\"1412.14\" width=\"133.55\" height=\"1072.72\" style=\"fill:none;stroke:#D7D29E;stroke-width:8.64\"/>\n",
       "\t<rect x=\"2373.77\" y=\"691.29\" width=\"142.19\" height=\"1797.90\" style=\"fill:#CAC27E\"/>\n",
       "\t<rect x=\"2378.09\" y=\"695.61\" width=\"133.55\" height=\"1789.26\" style=\"fill:none;stroke:#D7D29E;stroke-width:8.64\"/>\n",
       "\t<rect x=\"3084.72\" y=\"407.52\" width=\"142.19\" height=\"2081.66\" style=\"fill:#CAC27E\"/>\n",
       "\t<rect x=\"3089.04\" y=\"411.84\" width=\"133.55\" height=\"2073.02\" style=\"fill:none;stroke:#D7D29E;stroke-width:8.64\"/>\n",
       "\t<rect x=\"3653.47\" y=\"164.22\" width=\"142.19\" height=\"2324.96\" style=\"fill:#CAC27E\"/>\n",
       "\t<rect x=\"3657.79\" y=\"168.54\" width=\"133.55\" height=\"2316.32\" style=\"fill:none;stroke:#D7D29E;stroke-width:8.64\"/>\n",
       "\t<line x1=\"390.80\" y1=\"2489.19\" x2=\"390.80\" y2=\"100.86\" style=\"stroke:#000000;stroke-width:5.76\"/>\n",
       "\t<line x1=\"390.80\" y1=\"2489.19\" x2=\"350.83\" y2=\"2489.19\" style=\"stroke:#000000;stroke-width:5.76\"/>\n",
       "\t<text x=\"300.72\" y=\"2489.19\" style=\"font-family:'Helvetica';font-size:99.99px;fill:#000000\" transform=\"rotate(-90 300.72,2489.19)\" text-anchor=\"middle\">0</text>\n",
       "\t<line x1=\"390.80\" y1=\"1725.50\" x2=\"350.83\" y2=\"1725.50\" style=\"stroke:#000000;stroke-width:5.76\"/>\n",
       "\t<text x=\"300.72\" y=\"1725.50\" style=\"font-family:'Helvetica';font-size:99.99px;fill:#000000\" transform=\"rotate(-90 300.72,1725.50)\" text-anchor=\"middle\">10</text>\n",
       "\t<line x1=\"390.80\" y1=\"961.69\" x2=\"350.83\" y2=\"961.69\" style=\"stroke:#000000;stroke-width:5.76\"/>\n",
       "\t<text x=\"300.72\" y=\"961.69\" style=\"font-family:'Helvetica';font-size:99.99px;fill:#000000\" transform=\"rotate(-90 300.72,961.69)\" text-anchor=\"middle\">20</text>\n",
       "\t<line x1=\"390.80\" y1=\"198.01\" x2=\"350.83\" y2=\"198.01\" style=\"stroke:#000000;stroke-width:5.76\"/>\n",
       "\t<text x=\"300.72\" y=\"198.01\" style=\"font-family:'Helvetica';font-size:99.99px;fill:#000000\" transform=\"rotate(-90 300.72,198.01)\" text-anchor=\"middle\">30</text>\n",
       "\t<text x=\"190.71\" y=\"1294.96\" style=\"font-family:'Helvetica';font-size:99.99px;fill:#000000\" transform=\"rotate(-90 190.71,1294.96)\" text-anchor=\"middle\">Percent</text>\n",
       "\t<line x1=\"390.80\" y1=\"2489.19\" x2=\"3859.02\" y2=\"2489.19\" style=\"stroke:#000000;stroke-width:5.76\"/>\n",
       "\t<line x1=\"525.20\" y1=\"2489.19\" x2=\"525.20\" y2=\"2529.16\" style=\"stroke:#000000;stroke-width:5.76\"/>\n",
       "\t<text x=\"525.20\" y=\"2619.14\" style=\"font-family:'Helvetica';font-size:99.99px;fill:#000000\" text-anchor=\"middle\">0</text>\n",
       "\t<line x1=\"1179.34\" y1=\"2489.19\" x2=\"1179.34\" y2=\"2529.16\" style=\"stroke:#000000;stroke-width:5.76\"/>\n",
       "\t<text x=\"1179.34\" y=\"2619.14\" style=\"font-family:'Helvetica';font-size:99.99px;fill:#000000\" text-anchor=\"middle\">1</text>\n",
       "\t<line x1=\"1833.48\" y1=\"2489.19\" x2=\"1833.48\" y2=\"2529.16\" style=\"stroke:#000000;stroke-width:5.76\"/>\n",
       "\t<text x=\"1833.48\" y=\"2619.14\" style=\"font-family:'Helvetica';font-size:99.99px;fill:#000000\" text-anchor=\"middle\">2</text>\n",
       "\t<line x1=\"2487.50\" y1=\"2489.19\" x2=\"2487.50\" y2=\"2529.16\" style=\"stroke:#000000;stroke-width:5.76\"/>\n",
       "\t<text x=\"2487.50\" y=\"2619.14\" style=\"font-family:'Helvetica';font-size:99.99px;fill:#000000\" text-anchor=\"middle\">3</text>\n",
       "\t<line x1=\"3141.64\" y1=\"2489.19\" x2=\"3141.64\" y2=\"2529.16\" style=\"stroke:#000000;stroke-width:5.76\"/>\n",
       "\t<text x=\"3141.64\" y=\"2619.14\" style=\"font-family:'Helvetica';font-size:99.99px;fill:#000000\" text-anchor=\"middle\">4</text>\n",
       "\t<line x1=\"3795.66\" y1=\"2489.19\" x2=\"3795.66\" y2=\"2529.16\" style=\"stroke:#000000;stroke-width:5.76\"/>\n",
       "\t<text x=\"3795.66\" y=\"2619.14\" style=\"font-family:'Helvetica';font-size:99.99px;fill:#000000\" text-anchor=\"middle\">5</text>\n",
       "\t<text x=\"2124.91\" y=\"2729.16\" style=\"font-family:'Helvetica';font-size:99.99px;fill:#000000\" text-anchor=\"middle\">addindex</text>\n",
       "</svg>\n"
      ],
      "text/html": [
       "                <iframe frameborder=\"0\" scrolling=\"no\" height=\"436\" width=\"600\"                srcdoc=\"<html><body>&lt;?xml version=&quot;1.0&quot; encoding=&quot;UTF-8&quot; standalone=&quot;no&quot;?&gt;\n",
       "&lt;!-- This is a Stata 16.0 generated SVG file (http://www.stata.com) --&gt;\n",
       "\n",
       "&lt;svg version=&quot;1.1&quot; width=&quot;600px&quot; height=&quot;436px&quot; viewBox=&quot;0 0 3960 2880&quot; xmlns=&quot;http://www.w3.org/2000/svg&quot; xmlns:xlink=&quot;http://www.w3.org/1999/xlink&quot;&gt;\n",
       "\t&lt;desc&gt;Stata Graph - Graph&lt;/desc&gt;\n",
       "\t&lt;rect x=&quot;0&quot; y=&quot;0&quot; width=&quot;3960&quot; height=&quot;2880&quot; style=&quot;fill:#EAF2F3;stroke:none&quot;/&gt;\n",
       "\t&lt;rect x=&quot;0.00&quot; y=&quot;0.00&quot; width=&quot;3959.88&quot; height=&quot;2880.00&quot; style=&quot;fill:#EAF2F3&quot;/&gt;\n",
       "\t&lt;rect x=&quot;2.88&quot; y=&quot;2.88&quot; width=&quot;3954.12&quot; height=&quot;2874.24&quot; style=&quot;fill:none;stroke:#EAF2F3;stroke-width:5.76&quot;/&gt;\n",
       "\t&lt;rect x=&quot;390.80&quot; y=&quot;100.86&quot; width=&quot;3468.22&quot; height=&quot;2388.33&quot; style=&quot;fill:#FFFFFF&quot;/&gt;\n",
       "\t&lt;rect x=&quot;393.68&quot; y=&quot;103.74&quot; width=&quot;3462.46&quot; height=&quot;2382.57&quot; style=&quot;fill:none;stroke:#FFFFFF;stroke-width:5.76&quot;/&gt;\n",
       "\t&lt;line x1=&quot;390.80&quot; y1=&quot;2489.19&quot; x2=&quot;3859.02&quot; y2=&quot;2489.19&quot; style=&quot;stroke:#EAF2F3;stroke-width:8.64&quot;/&gt;\n",
       "\t&lt;line x1=&quot;390.80&quot; y1=&quot;1725.50&quot; x2=&quot;3859.02&quot; y2=&quot;1725.50&quot; style=&quot;stroke:#EAF2F3;stroke-width:8.64&quot;/&gt;\n",
       "\t&lt;line x1=&quot;390.80&quot; y1=&quot;961.69&quot; x2=&quot;3859.02&quot; y2=&quot;961.69&quot; style=&quot;stroke:#EAF2F3;stroke-width:8.64&quot;/&gt;\n",
       "\t&lt;line x1=&quot;390.80&quot; y1=&quot;198.01&quot; x2=&quot;3859.02&quot; y2=&quot;198.01&quot; style=&quot;stroke:#EAF2F3;stroke-width:8.64&quot;/&gt;\n",
       "\t&lt;rect x=&quot;525.20&quot; y=&quot;2475.70&quot; width=&quot;142.19&quot; height=&quot;13.49&quot; style=&quot;fill:#CAC27E&quot;/&gt;\n",
       "\t&lt;rect x=&quot;529.51&quot; y=&quot;2480.02&quot; width=&quot;133.55&quot; height=&quot;4.85&quot; style=&quot;fill:none;stroke:#D7D29E;stroke-width:8.64&quot;/&gt;\n",
       "\t&lt;rect x=&quot;1094.07&quot; y=&quot;2151.21&quot; width=&quot;142.19&quot; height=&quot;337.97&quot; style=&quot;fill:#CAC27E&quot;/&gt;\n",
       "\t&lt;rect x=&quot;1098.39&quot; y=&quot;2155.53&quot; width=&quot;133.55&quot; height=&quot;329.33&quot; style=&quot;fill:none;stroke:#D7D29E;stroke-width:8.64&quot;/&gt;\n",
       "\t&lt;rect x=&quot;1805.02&quot; y=&quot;1407.82&quot; width=&quot;142.19&quot; height=&quot;1081.36&quot; style=&quot;fill:#CAC27E&quot;/&gt;\n",
       "\t&lt;rect x=&quot;1809.34&quot; y=&quot;1412.14&quot; width=&quot;133.55&quot; height=&quot;1072.72&quot; style=&quot;fill:none;stroke:#D7D29E;stroke-width:8.64&quot;/&gt;\n",
       "\t&lt;rect x=&quot;2373.77&quot; y=&quot;691.29&quot; width=&quot;142.19&quot; height=&quot;1797.90&quot; style=&quot;fill:#CAC27E&quot;/&gt;\n",
       "\t&lt;rect x=&quot;2378.09&quot; y=&quot;695.61&quot; width=&quot;133.55&quot; height=&quot;1789.26&quot; style=&quot;fill:none;stroke:#D7D29E;stroke-width:8.64&quot;/&gt;\n",
       "\t&lt;rect x=&quot;3084.72&quot; y=&quot;407.52&quot; width=&quot;142.19&quot; height=&quot;2081.66&quot; style=&quot;fill:#CAC27E&quot;/&gt;\n",
       "\t&lt;rect x=&quot;3089.04&quot; y=&quot;411.84&quot; width=&quot;133.55&quot; height=&quot;2073.02&quot; style=&quot;fill:none;stroke:#D7D29E;stroke-width:8.64&quot;/&gt;\n",
       "\t&lt;rect x=&quot;3653.47&quot; y=&quot;164.22&quot; width=&quot;142.19&quot; height=&quot;2324.96&quot; style=&quot;fill:#CAC27E&quot;/&gt;\n",
       "\t&lt;rect x=&quot;3657.79&quot; y=&quot;168.54&quot; width=&quot;133.55&quot; height=&quot;2316.32&quot; style=&quot;fill:none;stroke:#D7D29E;stroke-width:8.64&quot;/&gt;\n",
       "\t&lt;line x1=&quot;390.80&quot; y1=&quot;2489.19&quot; x2=&quot;390.80&quot; y2=&quot;100.86&quot; style=&quot;stroke:#000000;stroke-width:5.76&quot;/&gt;\n",
       "\t&lt;line x1=&quot;390.80&quot; y1=&quot;2489.19&quot; x2=&quot;350.83&quot; y2=&quot;2489.19&quot; style=&quot;stroke:#000000;stroke-width:5.76&quot;/&gt;\n",
       "\t&lt;text x=&quot;300.72&quot; y=&quot;2489.19&quot; style=&quot;font-family:&#x27;Helvetica&#x27;;font-size:99.99px;fill:#000000&quot; transform=&quot;rotate(-90 300.72,2489.19)&quot; text-anchor=&quot;middle&quot;&gt;0&lt;/text&gt;\n",
       "\t&lt;line x1=&quot;390.80&quot; y1=&quot;1725.50&quot; x2=&quot;350.83&quot; y2=&quot;1725.50&quot; style=&quot;stroke:#000000;stroke-width:5.76&quot;/&gt;\n",
       "\t&lt;text x=&quot;300.72&quot; y=&quot;1725.50&quot; style=&quot;font-family:&#x27;Helvetica&#x27;;font-size:99.99px;fill:#000000&quot; transform=&quot;rotate(-90 300.72,1725.50)&quot; text-anchor=&quot;middle&quot;&gt;10&lt;/text&gt;\n",
       "\t&lt;line x1=&quot;390.80&quot; y1=&quot;961.69&quot; x2=&quot;350.83&quot; y2=&quot;961.69&quot; style=&quot;stroke:#000000;stroke-width:5.76&quot;/&gt;\n",
       "\t&lt;text x=&quot;300.72&quot; y=&quot;961.69&quot; style=&quot;font-family:&#x27;Helvetica&#x27;;font-size:99.99px;fill:#000000&quot; transform=&quot;rotate(-90 300.72,961.69)&quot; text-anchor=&quot;middle&quot;&gt;20&lt;/text&gt;\n",
       "\t&lt;line x1=&quot;390.80&quot; y1=&quot;198.01&quot; x2=&quot;350.83&quot; y2=&quot;198.01&quot; style=&quot;stroke:#000000;stroke-width:5.76&quot;/&gt;\n",
       "\t&lt;text x=&quot;300.72&quot; y=&quot;198.01&quot; style=&quot;font-family:&#x27;Helvetica&#x27;;font-size:99.99px;fill:#000000&quot; transform=&quot;rotate(-90 300.72,198.01)&quot; text-anchor=&quot;middle&quot;&gt;30&lt;/text&gt;\n",
       "\t&lt;text x=&quot;190.71&quot; y=&quot;1294.96&quot; style=&quot;font-family:&#x27;Helvetica&#x27;;font-size:99.99px;fill:#000000&quot; transform=&quot;rotate(-90 190.71,1294.96)&quot; text-anchor=&quot;middle&quot;&gt;Percent&lt;/text&gt;\n",
       "\t&lt;line x1=&quot;390.80&quot; y1=&quot;2489.19&quot; x2=&quot;3859.02&quot; y2=&quot;2489.19&quot; style=&quot;stroke:#000000;stroke-width:5.76&quot;/&gt;\n",
       "\t&lt;line x1=&quot;525.20&quot; y1=&quot;2489.19&quot; x2=&quot;525.20&quot; y2=&quot;2529.16&quot; style=&quot;stroke:#000000;stroke-width:5.76&quot;/&gt;\n",
       "\t&lt;text x=&quot;525.20&quot; y=&quot;2619.14&quot; style=&quot;font-family:&#x27;Helvetica&#x27;;font-size:99.99px;fill:#000000&quot; text-anchor=&quot;middle&quot;&gt;0&lt;/text&gt;\n",
       "\t&lt;line x1=&quot;1179.34&quot; y1=&quot;2489.19&quot; x2=&quot;1179.34&quot; y2=&quot;2529.16&quot; style=&quot;stroke:#000000;stroke-width:5.76&quot;/&gt;\n",
       "\t&lt;text x=&quot;1179.34&quot; y=&quot;2619.14&quot; style=&quot;font-family:&#x27;Helvetica&#x27;;font-size:99.99px;fill:#000000&quot; text-anchor=&quot;middle&quot;&gt;1&lt;/text&gt;\n",
       "\t&lt;line x1=&quot;1833.48&quot; y1=&quot;2489.19&quot; x2=&quot;1833.48&quot; y2=&quot;2529.16&quot; style=&quot;stroke:#000000;stroke-width:5.76&quot;/&gt;\n",
       "\t&lt;text x=&quot;1833.48&quot; y=&quot;2619.14&quot; style=&quot;font-family:&#x27;Helvetica&#x27;;font-size:99.99px;fill:#000000&quot; text-anchor=&quot;middle&quot;&gt;2&lt;/text&gt;\n",
       "\t&lt;line x1=&quot;2487.50&quot; y1=&quot;2489.19&quot; x2=&quot;2487.50&quot; y2=&quot;2529.16&quot; style=&quot;stroke:#000000;stroke-width:5.76&quot;/&gt;\n",
       "\t&lt;text x=&quot;2487.50&quot; y=&quot;2619.14&quot; style=&quot;font-family:&#x27;Helvetica&#x27;;font-size:99.99px;fill:#000000&quot; text-anchor=&quot;middle&quot;&gt;3&lt;/text&gt;\n",
       "\t&lt;line x1=&quot;3141.64&quot; y1=&quot;2489.19&quot; x2=&quot;3141.64&quot; y2=&quot;2529.16&quot; style=&quot;stroke:#000000;stroke-width:5.76&quot;/&gt;\n",
       "\t&lt;text x=&quot;3141.64&quot; y=&quot;2619.14&quot; style=&quot;font-family:&#x27;Helvetica&#x27;;font-size:99.99px;fill:#000000&quot; text-anchor=&quot;middle&quot;&gt;4&lt;/text&gt;\n",
       "\t&lt;line x1=&quot;3795.66&quot; y1=&quot;2489.19&quot; x2=&quot;3795.66&quot; y2=&quot;2529.16&quot; style=&quot;stroke:#000000;stroke-width:5.76&quot;/&gt;\n",
       "\t&lt;text x=&quot;3795.66&quot; y=&quot;2619.14&quot; style=&quot;font-family:&#x27;Helvetica&#x27;;font-size:99.99px;fill:#000000&quot; text-anchor=&quot;middle&quot;&gt;5&lt;/text&gt;\n",
       "\t&lt;text x=&quot;2124.91&quot; y=&quot;2729.16&quot; style=&quot;font-family:&#x27;Helvetica&#x27;;font-size:99.99px;fill:#000000&quot; text-anchor=&quot;middle&quot;&gt;addindex&lt;/text&gt;\n",
       "&lt;/svg&gt;\n",
       "</body></html>\"></iframe>\n"
      ],
      "text/plain": [
       "This front-end cannot display the desired image type."
      ]
     },
     "metadata": {
      "image/svg+xml": {
       "height": 436,
       "width": 600
      },
      "text/html": {
       "height": 436,
       "width": 600
      }
     },
     "output_type": "display_data"
    },
    {
     "name": "stdout",
     "output_type": "stream",
     "text": [
      "\n"
     ]
    }
   ],
   "source": [
    "gen addindex = c_electron + c_earthsun + c_condrift + c_viruses + c_lasers\n",
    "histogram addindex, percent"
   ]
  },
  {
   "cell_type": "markdown",
   "metadata": {},
   "source": [
    "Nu har vi fått en skala som mäter vetenskapskunskap. Bara några enstaka hade alla fel (om man chansar borde man i genomsnitt få 2,5 poäng). Ungefär 30% hade alla rätt.\n",
    "\n",
    "Nu går skalan från 0 till 5. Om vi istället hade velat att den skulle gå från 0 till 1, för att visa hur stor andel av frågorna man svarade rätt på, kan vi bara dela variabeln på 5. Då hade koden sett ut som nedan, men det hade egentligen inte förändrat något väsentligt. Rangordningen mellan personerna hade varit exakt densamma."
   ]
  },
  {
   "cell_type": "code",
   "execution_count": 13,
   "metadata": {},
   "outputs": [
    {
     "name": "stdout",
     "output_type": "stream",
     "text": [
      "(1,783 missing values generated)\n"
     ]
    }
   ],
   "source": [
    "gen addindex_01 = (c_electron + c_earthsun + c_condrift + c_viruses + c_lasers)/5"
   ]
  },
  {
   "cell_type": "markdown",
   "metadata": {},
   "source": [
    "## Steg 2b: Ta genomsnittet på variablerna\n",
    "En begränsning med den ovanstående metoden är vi bara får med personer som svarat på alla frågorna. Den som har missing på en enda fråga får inget värde på indexet. Så trots att det var som minst 777 personer som svarade på en enskild fråga så blir det bara 565 personer som har ett värde på indexet.\n",
    "\n",
    "Ett alternativ är därför att ta genomsnittet på alla variabler som personen svarat på. Fördelen är att vi får fler personer. Nackdelen är att det blir en delvis orättvis jämförelse. Att bara svara på en fråga och svara rätt på den är inte samma sak som att svara rätt på fem frågor. Därför är det viktigt att tänka igenom vad exakt det är man vill att indexet ska mäta.\n",
    "\n",
    "För att skapa indexet på det här viset använder vi kommandot `egen` - en utbyggd variant av `gen` - kombinerat med `rowmean()`. Här ska man inte ha plustecken mellan variablerna, utan räknar bara upp dem. Vi skriver såhär, och gör sedan ett histogram:"
   ]
  },
  {
   "cell_type": "code",
   "execution_count": 20,
   "metadata": {},
   "outputs": [
    {
     "name": "stdout",
     "output_type": "stream",
     "text": [
      "\n",
      "(1182 missing values generated)\n",
      "\n",
      "(bin=30, start=0, width=.03333333)\n"
     ]
    },
    {
     "data": {
      "application/pdf": "[encoded data removed]",
      "image/svg+xml": [
       "<?xml version=\"1.0\" encoding=\"UTF-8\" standalone=\"no\"?>\n",
       "<!-- This is a Stata 16.0 generated SVG file (http://www.stata.com) -->\n",
       "\n",
       "<svg version=\"1.1\" width=\"600px\" height=\"436px\" viewBox=\"0 0 3960 2880\" xmlns=\"http://www.w3.org/2000/svg\" xmlns:xlink=\"http://www.w3.org/1999/xlink\">\n",
       "\t<desc>Stata Graph - Graph</desc>\n",
       "\t<rect x=\"0\" y=\"0\" width=\"3960\" height=\"2880\" style=\"fill:#EAF2F3;stroke:none\"/>\n",
       "\t<rect x=\"0.00\" y=\"0.00\" width=\"3959.88\" height=\"2880.00\" style=\"fill:#EAF2F3\"/>\n",
       "\t<rect x=\"2.88\" y=\"2.88\" width=\"3954.12\" height=\"2874.24\" style=\"fill:none;stroke:#EAF2F3;stroke-width:5.76\"/>\n",
       "\t<rect x=\"390.80\" y=\"100.86\" width=\"3468.22\" height=\"2388.33\" style=\"fill:#FFFFFF\"/>\n",
       "\t<rect x=\"393.68\" y=\"103.74\" width=\"3462.46\" height=\"2382.57\" style=\"fill:none;stroke:#FFFFFF;stroke-width:5.76\"/>\n",
       "\t<line x1=\"390.80\" y1=\"2489.19\" x2=\"3859.02\" y2=\"2489.19\" style=\"stroke:#EAF2F3;stroke-width:8.64\"/>\n",
       "\t<line x1=\"390.80\" y1=\"1716.84\" x2=\"3859.02\" y2=\"1716.84\" style=\"stroke:#EAF2F3;stroke-width:8.64\"/>\n",
       "\t<line x1=\"390.80\" y1=\"944.49\" x2=\"3859.02\" y2=\"944.49\" style=\"stroke:#EAF2F3;stroke-width:8.64\"/>\n",
       "\t<line x1=\"390.80\" y1=\"172.14\" x2=\"3859.02\" y2=\"172.14\" style=\"stroke:#EAF2F3;stroke-width:8.64\"/>\n",
       "\t<rect x=\"508.86\" y=\"2237.47\" width=\"109.64\" height=\"251.72\" style=\"fill:#CAC27E\"/>\n",
       "\t<rect x=\"513.18\" y=\"2241.79\" width=\"101.00\" height=\"243.08\" style=\"fill:none;stroke:#D7D29E;stroke-width:8.64\"/>\n",
       "\t<rect x=\"1166.22\" y=\"2323.60\" width=\"109.64\" height=\"165.58\" style=\"fill:#CAC27E\"/>\n",
       "\t<rect x=\"1170.54\" y=\"2327.92\" width=\"101.00\" height=\"156.94\" style=\"fill:none;stroke:#D7D29E;stroke-width:8.64\"/>\n",
       "\t<rect x=\"1275.86\" y=\"2164.58\" width=\"109.52\" height=\"324.61\" style=\"fill:#CAC27E\"/>\n",
       "\t<rect x=\"1280.18\" y=\"2168.90\" width=\"100.88\" height=\"315.97\" style=\"fill:none;stroke:#D7D29E;stroke-width:8.64\"/>\n",
       "\t<rect x=\"1604.54\" y=\"2184.50\" width=\"109.52\" height=\"304.68\" style=\"fill:#CAC27E\"/>\n",
       "\t<rect x=\"1608.86\" y=\"2188.82\" width=\"100.88\" height=\"296.04\" style=\"fill:none;stroke:#D7D29E;stroke-width:8.64\"/>\n",
       "\t<rect x=\"1823.58\" y=\"1959.27\" width=\"109.64\" height=\"529.91\" style=\"fill:#CAC27E\"/>\n",
       "\t<rect x=\"1827.90\" y=\"1963.59\" width=\"101.00\" height=\"521.27\" style=\"fill:none;stroke:#D7D29E;stroke-width:8.64\"/>\n",
       "\t<rect x=\"2152.26\" y=\"1634.66\" width=\"109.64\" height=\"854.52\" style=\"fill:#CAC27E\"/>\n",
       "\t<rect x=\"2156.58\" y=\"1638.98\" width=\"101.00\" height=\"845.88\" style=\"fill:none;stroke:#D7D29E;stroke-width:8.64\"/>\n",
       "\t<rect x=\"2480.94\" y=\"1608.18\" width=\"109.64\" height=\"881.00\" style=\"fill:#CAC27E\"/>\n",
       "\t<rect x=\"2485.26\" y=\"1612.50\" width=\"101.00\" height=\"872.36\" style=\"fill:none;stroke:#D7D29E;stroke-width:8.64\"/>\n",
       "\t<rect x=\"2700.10\" y=\"2111.61\" width=\"109.52\" height=\"377.57\" style=\"fill:#CAC27E\"/>\n",
       "\t<rect x=\"2704.42\" y=\"2115.93\" width=\"100.88\" height=\"368.93\" style=\"fill:none;stroke:#D7D29E;stroke-width:8.64\"/>\n",
       "\t<rect x=\"2919.26\" y=\"1800.25\" width=\"109.52\" height=\"688.94\" style=\"fill:#CAC27E\"/>\n",
       "\t<rect x=\"2923.58\" y=\"1804.57\" width=\"100.88\" height=\"680.30\" style=\"fill:none;stroke:#D7D29E;stroke-width:8.64\"/>\n",
       "\t<rect x=\"3138.30\" y=\"1469.08\" width=\"109.64\" height=\"1020.10\" style=\"fill:#CAC27E\"/>\n",
       "\t<rect x=\"3142.62\" y=\"1473.40\" width=\"101.00\" height=\"1011.46\" style=\"fill:none;stroke:#D7D29E;stroke-width:8.64\"/>\n",
       "\t<rect x=\"3686.14\" y=\"164.22\" width=\"109.52\" height=\"2324.96\" style=\"fill:#CAC27E\"/>\n",
       "\t<rect x=\"3690.46\" y=\"168.54\" width=\"100.88\" height=\"2316.32\" style=\"fill:none;stroke:#D7D29E;stroke-width:8.64\"/>\n",
       "\t<line x1=\"390.80\" y1=\"2489.19\" x2=\"390.80\" y2=\"100.86\" style=\"stroke:#000000;stroke-width:5.76\"/>\n",
       "\t<line x1=\"390.80\" y1=\"2489.19\" x2=\"350.83\" y2=\"2489.19\" style=\"stroke:#000000;stroke-width:5.76\"/>\n",
       "\t<text x=\"300.72\" y=\"2489.19\" style=\"font-family:'Helvetica';font-size:99.99px;fill:#000000\" transform=\"rotate(-90 300.72,2489.19)\" text-anchor=\"middle\">0</text>\n",
       "\t<line x1=\"390.80\" y1=\"1716.84\" x2=\"350.83\" y2=\"1716.84\" style=\"stroke:#000000;stroke-width:5.76\"/>\n",
       "\t<text x=\"300.72\" y=\"1716.84\" style=\"font-family:'Helvetica';font-size:99.99px;fill:#000000\" transform=\"rotate(-90 300.72,1716.84)\" text-anchor=\"middle\">10</text>\n",
       "\t<line x1=\"390.80\" y1=\"944.49\" x2=\"350.83\" y2=\"944.49\" style=\"stroke:#000000;stroke-width:5.76\"/>\n",
       "\t<text x=\"300.72\" y=\"944.49\" style=\"font-family:'Helvetica';font-size:99.99px;fill:#000000\" transform=\"rotate(-90 300.72,944.49)\" text-anchor=\"middle\">20</text>\n",
       "\t<line x1=\"390.80\" y1=\"172.14\" x2=\"350.83\" y2=\"172.14\" style=\"stroke:#000000;stroke-width:5.76\"/>\n",
       "\t<text x=\"300.72\" y=\"172.14\" style=\"font-family:'Helvetica';font-size:99.99px;fill:#000000\" transform=\"rotate(-90 300.72,172.14)\" text-anchor=\"middle\">30</text>\n",
       "\t<text x=\"190.71\" y=\"1294.96\" style=\"font-family:'Helvetica';font-size:99.99px;fill:#000000\" transform=\"rotate(-90 190.71,1294.96)\" text-anchor=\"middle\">Percent</text>\n",
       "\t<line x1=\"390.80\" y1=\"2489.19\" x2=\"3859.02\" y2=\"2489.19\" style=\"stroke:#000000;stroke-width:5.76\"/>\n",
       "\t<line x1=\"508.86\" y1=\"2489.19\" x2=\"508.86\" y2=\"2529.16\" style=\"stroke:#000000;stroke-width:5.76\"/>\n",
       "\t<text x=\"508.86\" y=\"2619.14\" style=\"font-family:'Helvetica';font-size:99.99px;fill:#000000\" text-anchor=\"middle\">0</text>\n",
       "\t<line x1=\"1166.22\" y1=\"2489.19\" x2=\"1166.22\" y2=\"2529.16\" style=\"stroke:#000000;stroke-width:5.76\"/>\n",
       "\t<text x=\"1166.22\" y=\"2619.14\" style=\"font-family:'Helvetica';font-size:99.99px;fill:#000000\" text-anchor=\"middle\">.2</text>\n",
       "\t<line x1=\"1823.58\" y1=\"2489.19\" x2=\"1823.58\" y2=\"2529.16\" style=\"stroke:#000000;stroke-width:5.76\"/>\n",
       "\t<text x=\"1823.58\" y=\"2619.14\" style=\"font-family:'Helvetica';font-size:99.99px;fill:#000000\" text-anchor=\"middle\">.4</text>\n",
       "\t<line x1=\"2480.94\" y1=\"2489.19\" x2=\"2480.94\" y2=\"2529.16\" style=\"stroke:#000000;stroke-width:5.76\"/>\n",
       "\t<text x=\"2480.94\" y=\"2619.14\" style=\"font-family:'Helvetica';font-size:99.99px;fill:#000000\" text-anchor=\"middle\">.6</text>\n",
       "\t<line x1=\"3138.30\" y1=\"2489.19\" x2=\"3138.30\" y2=\"2529.16\" style=\"stroke:#000000;stroke-width:5.76\"/>\n",
       "\t<text x=\"3138.30\" y=\"2619.14\" style=\"font-family:'Helvetica';font-size:99.99px;fill:#000000\" text-anchor=\"middle\">.8</text>\n",
       "\t<line x1=\"3795.66\" y1=\"2489.19\" x2=\"3795.66\" y2=\"2529.16\" style=\"stroke:#000000;stroke-width:5.76\"/>\n",
       "\t<text x=\"3795.66\" y=\"2619.14\" style=\"font-family:'Helvetica';font-size:99.99px;fill:#000000\" text-anchor=\"middle\">1</text>\n",
       "\t<text x=\"2124.91\" y=\"2729.16\" style=\"font-family:'Helvetica';font-size:99.99px;fill:#000000\" text-anchor=\"middle\">meanindex</text>\n",
       "</svg>\n"
      ],
      "text/html": [
       "                <iframe frameborder=\"0\" scrolling=\"no\" height=\"436\" width=\"600\"                srcdoc=\"<html><body>&lt;?xml version=&quot;1.0&quot; encoding=&quot;UTF-8&quot; standalone=&quot;no&quot;?&gt;\n",
       "&lt;!-- This is a Stata 16.0 generated SVG file (http://www.stata.com) --&gt;\n",
       "\n",
       "&lt;svg version=&quot;1.1&quot; width=&quot;600px&quot; height=&quot;436px&quot; viewBox=&quot;0 0 3960 2880&quot; xmlns=&quot;http://www.w3.org/2000/svg&quot; xmlns:xlink=&quot;http://www.w3.org/1999/xlink&quot;&gt;\n",
       "\t&lt;desc&gt;Stata Graph - Graph&lt;/desc&gt;\n",
       "\t&lt;rect x=&quot;0&quot; y=&quot;0&quot; width=&quot;3960&quot; height=&quot;2880&quot; style=&quot;fill:#EAF2F3;stroke:none&quot;/&gt;\n",
       "\t&lt;rect x=&quot;0.00&quot; y=&quot;0.00&quot; width=&quot;3959.88&quot; height=&quot;2880.00&quot; style=&quot;fill:#EAF2F3&quot;/&gt;\n",
       "\t&lt;rect x=&quot;2.88&quot; y=&quot;2.88&quot; width=&quot;3954.12&quot; height=&quot;2874.24&quot; style=&quot;fill:none;stroke:#EAF2F3;stroke-width:5.76&quot;/&gt;\n",
       "\t&lt;rect x=&quot;390.80&quot; y=&quot;100.86&quot; width=&quot;3468.22&quot; height=&quot;2388.33&quot; style=&quot;fill:#FFFFFF&quot;/&gt;\n",
       "\t&lt;rect x=&quot;393.68&quot; y=&quot;103.74&quot; width=&quot;3462.46&quot; height=&quot;2382.57&quot; style=&quot;fill:none;stroke:#FFFFFF;stroke-width:5.76&quot;/&gt;\n",
       "\t&lt;line x1=&quot;390.80&quot; y1=&quot;2489.19&quot; x2=&quot;3859.02&quot; y2=&quot;2489.19&quot; style=&quot;stroke:#EAF2F3;stroke-width:8.64&quot;/&gt;\n",
       "\t&lt;line x1=&quot;390.80&quot; y1=&quot;1716.84&quot; x2=&quot;3859.02&quot; y2=&quot;1716.84&quot; style=&quot;stroke:#EAF2F3;stroke-width:8.64&quot;/&gt;\n",
       "\t&lt;line x1=&quot;390.80&quot; y1=&quot;944.49&quot; x2=&quot;3859.02&quot; y2=&quot;944.49&quot; style=&quot;stroke:#EAF2F3;stroke-width:8.64&quot;/&gt;\n",
       "\t&lt;line x1=&quot;390.80&quot; y1=&quot;172.14&quot; x2=&quot;3859.02&quot; y2=&quot;172.14&quot; style=&quot;stroke:#EAF2F3;stroke-width:8.64&quot;/&gt;\n",
       "\t&lt;rect x=&quot;508.86&quot; y=&quot;2237.47&quot; width=&quot;109.64&quot; height=&quot;251.72&quot; style=&quot;fill:#CAC27E&quot;/&gt;\n",
       "\t&lt;rect x=&quot;513.18&quot; y=&quot;2241.79&quot; width=&quot;101.00&quot; height=&quot;243.08&quot; style=&quot;fill:none;stroke:#D7D29E;stroke-width:8.64&quot;/&gt;\n",
       "\t&lt;rect x=&quot;1166.22&quot; y=&quot;2323.60&quot; width=&quot;109.64&quot; height=&quot;165.58&quot; style=&quot;fill:#CAC27E&quot;/&gt;\n",
       "\t&lt;rect x=&quot;1170.54&quot; y=&quot;2327.92&quot; width=&quot;101.00&quot; height=&quot;156.94&quot; style=&quot;fill:none;stroke:#D7D29E;stroke-width:8.64&quot;/&gt;\n",
       "\t&lt;rect x=&quot;1275.86&quot; y=&quot;2164.58&quot; width=&quot;109.52&quot; height=&quot;324.61&quot; style=&quot;fill:#CAC27E&quot;/&gt;\n",
       "\t&lt;rect x=&quot;1280.18&quot; y=&quot;2168.90&quot; width=&quot;100.88&quot; height=&quot;315.97&quot; style=&quot;fill:none;stroke:#D7D29E;stroke-width:8.64&quot;/&gt;\n",
       "\t&lt;rect x=&quot;1604.54&quot; y=&quot;2184.50&quot; width=&quot;109.52&quot; height=&quot;304.68&quot; style=&quot;fill:#CAC27E&quot;/&gt;\n",
       "\t&lt;rect x=&quot;1608.86&quot; y=&quot;2188.82&quot; width=&quot;100.88&quot; height=&quot;296.04&quot; style=&quot;fill:none;stroke:#D7D29E;stroke-width:8.64&quot;/&gt;\n",
       "\t&lt;rect x=&quot;1823.58&quot; y=&quot;1959.27&quot; width=&quot;109.64&quot; height=&quot;529.91&quot; style=&quot;fill:#CAC27E&quot;/&gt;\n",
       "\t&lt;rect x=&quot;1827.90&quot; y=&quot;1963.59&quot; width=&quot;101.00&quot; height=&quot;521.27&quot; style=&quot;fill:none;stroke:#D7D29E;stroke-width:8.64&quot;/&gt;\n",
       "\t&lt;rect x=&quot;2152.26&quot; y=&quot;1634.66&quot; width=&quot;109.64&quot; height=&quot;854.52&quot; style=&quot;fill:#CAC27E&quot;/&gt;\n",
       "\t&lt;rect x=&quot;2156.58&quot; y=&quot;1638.98&quot; width=&quot;101.00&quot; height=&quot;845.88&quot; style=&quot;fill:none;stroke:#D7D29E;stroke-width:8.64&quot;/&gt;\n",
       "\t&lt;rect x=&quot;2480.94&quot; y=&quot;1608.18&quot; width=&quot;109.64&quot; height=&quot;881.00&quot; style=&quot;fill:#CAC27E&quot;/&gt;\n",
       "\t&lt;rect x=&quot;2485.26&quot; y=&quot;1612.50&quot; width=&quot;101.00&quot; height=&quot;872.36&quot; style=&quot;fill:none;stroke:#D7D29E;stroke-width:8.64&quot;/&gt;\n",
       "\t&lt;rect x=&quot;2700.10&quot; y=&quot;2111.61&quot; width=&quot;109.52&quot; height=&quot;377.57&quot; style=&quot;fill:#CAC27E&quot;/&gt;\n",
       "\t&lt;rect x=&quot;2704.42&quot; y=&quot;2115.93&quot; width=&quot;100.88&quot; height=&quot;368.93&quot; style=&quot;fill:none;stroke:#D7D29E;stroke-width:8.64&quot;/&gt;\n",
       "\t&lt;rect x=&quot;2919.26&quot; y=&quot;1800.25&quot; width=&quot;109.52&quot; height=&quot;688.94&quot; style=&quot;fill:#CAC27E&quot;/&gt;\n",
       "\t&lt;rect x=&quot;2923.58&quot; y=&quot;1804.57&quot; width=&quot;100.88&quot; height=&quot;680.30&quot; style=&quot;fill:none;stroke:#D7D29E;stroke-width:8.64&quot;/&gt;\n",
       "\t&lt;rect x=&quot;3138.30&quot; y=&quot;1469.08&quot; width=&quot;109.64&quot; height=&quot;1020.10&quot; style=&quot;fill:#CAC27E&quot;/&gt;\n",
       "\t&lt;rect x=&quot;3142.62&quot; y=&quot;1473.40&quot; width=&quot;101.00&quot; height=&quot;1011.46&quot; style=&quot;fill:none;stroke:#D7D29E;stroke-width:8.64&quot;/&gt;\n",
       "\t&lt;rect x=&quot;3686.14&quot; y=&quot;164.22&quot; width=&quot;109.52&quot; height=&quot;2324.96&quot; style=&quot;fill:#CAC27E&quot;/&gt;\n",
       "\t&lt;rect x=&quot;3690.46&quot; y=&quot;168.54&quot; width=&quot;100.88&quot; height=&quot;2316.32&quot; style=&quot;fill:none;stroke:#D7D29E;stroke-width:8.64&quot;/&gt;\n",
       "\t&lt;line x1=&quot;390.80&quot; y1=&quot;2489.19&quot; x2=&quot;390.80&quot; y2=&quot;100.86&quot; style=&quot;stroke:#000000;stroke-width:5.76&quot;/&gt;\n",
       "\t&lt;line x1=&quot;390.80&quot; y1=&quot;2489.19&quot; x2=&quot;350.83&quot; y2=&quot;2489.19&quot; style=&quot;stroke:#000000;stroke-width:5.76&quot;/&gt;\n",
       "\t&lt;text x=&quot;300.72&quot; y=&quot;2489.19&quot; style=&quot;font-family:&#x27;Helvetica&#x27;;font-size:99.99px;fill:#000000&quot; transform=&quot;rotate(-90 300.72,2489.19)&quot; text-anchor=&quot;middle&quot;&gt;0&lt;/text&gt;\n",
       "\t&lt;line x1=&quot;390.80&quot; y1=&quot;1716.84&quot; x2=&quot;350.83&quot; y2=&quot;1716.84&quot; style=&quot;stroke:#000000;stroke-width:5.76&quot;/&gt;\n",
       "\t&lt;text x=&quot;300.72&quot; y=&quot;1716.84&quot; style=&quot;font-family:&#x27;Helvetica&#x27;;font-size:99.99px;fill:#000000&quot; transform=&quot;rotate(-90 300.72,1716.84)&quot; text-anchor=&quot;middle&quot;&gt;10&lt;/text&gt;\n",
       "\t&lt;line x1=&quot;390.80&quot; y1=&quot;944.49&quot; x2=&quot;350.83&quot; y2=&quot;944.49&quot; style=&quot;stroke:#000000;stroke-width:5.76&quot;/&gt;\n",
       "\t&lt;text x=&quot;300.72&quot; y=&quot;944.49&quot; style=&quot;font-family:&#x27;Helvetica&#x27;;font-size:99.99px;fill:#000000&quot; transform=&quot;rotate(-90 300.72,944.49)&quot; text-anchor=&quot;middle&quot;&gt;20&lt;/text&gt;\n",
       "\t&lt;line x1=&quot;390.80&quot; y1=&quot;172.14&quot; x2=&quot;350.83&quot; y2=&quot;172.14&quot; style=&quot;stroke:#000000;stroke-width:5.76&quot;/&gt;\n",
       "\t&lt;text x=&quot;300.72&quot; y=&quot;172.14&quot; style=&quot;font-family:&#x27;Helvetica&#x27;;font-size:99.99px;fill:#000000&quot; transform=&quot;rotate(-90 300.72,172.14)&quot; text-anchor=&quot;middle&quot;&gt;30&lt;/text&gt;\n",
       "\t&lt;text x=&quot;190.71&quot; y=&quot;1294.96&quot; style=&quot;font-family:&#x27;Helvetica&#x27;;font-size:99.99px;fill:#000000&quot; transform=&quot;rotate(-90 190.71,1294.96)&quot; text-anchor=&quot;middle&quot;&gt;Percent&lt;/text&gt;\n",
       "\t&lt;line x1=&quot;390.80&quot; y1=&quot;2489.19&quot; x2=&quot;3859.02&quot; y2=&quot;2489.19&quot; style=&quot;stroke:#000000;stroke-width:5.76&quot;/&gt;\n",
       "\t&lt;line x1=&quot;508.86&quot; y1=&quot;2489.19&quot; x2=&quot;508.86&quot; y2=&quot;2529.16&quot; style=&quot;stroke:#000000;stroke-width:5.76&quot;/&gt;\n",
       "\t&lt;text x=&quot;508.86&quot; y=&quot;2619.14&quot; style=&quot;font-family:&#x27;Helvetica&#x27;;font-size:99.99px;fill:#000000&quot; text-anchor=&quot;middle&quot;&gt;0&lt;/text&gt;\n",
       "\t&lt;line x1=&quot;1166.22&quot; y1=&quot;2489.19&quot; x2=&quot;1166.22&quot; y2=&quot;2529.16&quot; style=&quot;stroke:#000000;stroke-width:5.76&quot;/&gt;\n",
       "\t&lt;text x=&quot;1166.22&quot; y=&quot;2619.14&quot; style=&quot;font-family:&#x27;Helvetica&#x27;;font-size:99.99px;fill:#000000&quot; text-anchor=&quot;middle&quot;&gt;.2&lt;/text&gt;\n",
       "\t&lt;line x1=&quot;1823.58&quot; y1=&quot;2489.19&quot; x2=&quot;1823.58&quot; y2=&quot;2529.16&quot; style=&quot;stroke:#000000;stroke-width:5.76&quot;/&gt;\n",
       "\t&lt;text x=&quot;1823.58&quot; y=&quot;2619.14&quot; style=&quot;font-family:&#x27;Helvetica&#x27;;font-size:99.99px;fill:#000000&quot; text-anchor=&quot;middle&quot;&gt;.4&lt;/text&gt;\n",
       "\t&lt;line x1=&quot;2480.94&quot; y1=&quot;2489.19&quot; x2=&quot;2480.94&quot; y2=&quot;2529.16&quot; style=&quot;stroke:#000000;stroke-width:5.76&quot;/&gt;\n",
       "\t&lt;text x=&quot;2480.94&quot; y=&quot;2619.14&quot; style=&quot;font-family:&#x27;Helvetica&#x27;;font-size:99.99px;fill:#000000&quot; text-anchor=&quot;middle&quot;&gt;.6&lt;/text&gt;\n",
       "\t&lt;line x1=&quot;3138.30&quot; y1=&quot;2489.19&quot; x2=&quot;3138.30&quot; y2=&quot;2529.16&quot; style=&quot;stroke:#000000;stroke-width:5.76&quot;/&gt;\n",
       "\t&lt;text x=&quot;3138.30&quot; y=&quot;2619.14&quot; style=&quot;font-family:&#x27;Helvetica&#x27;;font-size:99.99px;fill:#000000&quot; text-anchor=&quot;middle&quot;&gt;.8&lt;/text&gt;\n",
       "\t&lt;line x1=&quot;3795.66&quot; y1=&quot;2489.19&quot; x2=&quot;3795.66&quot; y2=&quot;2529.16&quot; style=&quot;stroke:#000000;stroke-width:5.76&quot;/&gt;\n",
       "\t&lt;text x=&quot;3795.66&quot; y=&quot;2619.14&quot; style=&quot;font-family:&#x27;Helvetica&#x27;;font-size:99.99px;fill:#000000&quot; text-anchor=&quot;middle&quot;&gt;1&lt;/text&gt;\n",
       "\t&lt;text x=&quot;2124.91&quot; y=&quot;2729.16&quot; style=&quot;font-family:&#x27;Helvetica&#x27;;font-size:99.99px;fill:#000000&quot; text-anchor=&quot;middle&quot;&gt;meanindex&lt;/text&gt;\n",
       "&lt;/svg&gt;\n",
       "</body></html>\"></iframe>\n"
      ],
      "text/plain": [
       "This front-end cannot display the desired image type."
      ]
     },
     "metadata": {
      "image/svg+xml": {
       "height": 436,
       "width": 600
      },
      "text/html": {
       "height": 436,
       "width": 600
      }
     },
     "output_type": "display_data"
    },
    {
     "name": "stdout",
     "output_type": "stream",
     "text": [
      "\n"
     ]
    }
   ],
   "source": [
    "egen meanindex = rowmean(c_electron c_earthsun c_condrift c_viruses c_lasers)\n",
    "histogram meanindex, percent"
   ]
  },
  {
   "cell_type": "markdown",
   "metadata": {},
   "source": [
    "Man kan nu se att det är många fler olika värden, och fördelningen ser annorlunda ut. Det är fler som har värdet 0, eftersom det nu kan vara folk som bara svarat på några frågor, och svarat fel på dem. Men nu är det 1166 personer som har ett värde på indexet."
   ]
  },
  {
   "cell_type": "markdown",
   "metadata": {},
   "source": [
    "## Steg 3: Kolla hur väl variablerna i indexet hänger ihop\n",
    "Man kan göra ett index av olika anledningar. I det här exemplet var syftet att se hur kunniga folk var om vetenskap. Då spelar det ingen roll om frågorna \"hänger ihop\", det vill säga är korrelerade. Den som har rätt på alla frågor kan mest, den som svarat rätt på tre frågor kan lite mindre, och det är inte mer med det.\n",
    "\n",
    "Men om det är så att man vill åt någon underliggande attityd, till exempel en ideologi, kan det vara viktigt att kolla så att frågorna korrelerar. Vi kanske har valt ut fem frågor som vi tycker mäter vänster/höger-ideologi, men det visar sig att en av frågorna sticker ut. Svaret på den frågan hänger inte ihop med svaret på de andra. Då bör den inte ingå i indexet.\n",
    "\n",
    "Det första man kan göra är att undersöka korrelationerna mellan variablerna i en korrelationsmatris. Vi skriver då bara `pwcorr` följt av listan på variablerna."
   ]
  },
  {
   "cell_type": "code",
   "execution_count": 22,
   "metadata": {},
   "outputs": [
    {
     "name": "stdout",
     "output_type": "stream",
     "text": [
      "\n",
      "             | c_elec~n c_eart~n c_cond~t c_viru~s c_lasers\n",
      "-------------+---------------------------------------------\n",
      "  c_electron |   1.0000 \n",
      "  c_earthsun |   0.0615   1.0000 \n",
      "  c_condrift |   0.0857   0.1299   1.0000 \n",
      "   c_viruses |   0.0931   0.2131   0.0959   1.0000 \n",
      "    c_lasers |   0.0989   0.2260   0.0913   0.2096   1.0000 \n"
     ]
    }
   ],
   "source": [
    "pwcorr c_electron c_earthsun c_condrift c_viruses c_lasers"
   ]
  },
  {
   "cell_type": "markdown",
   "metadata": {},
   "source": [
    "Alla variablerna korrelerar positivt med varandra. Den som har rätt på en annan fråga har större chans att ha rätt på en annan. Men korrelationerna är inte särskilt starka - sambandet mellan att veta att elektronen är mindre än atomen och att jorden snurrar runt solen är bara 0.06."
   ]
  },
  {
   "cell_type": "markdown",
   "metadata": {},
   "source": [
    "### Cronbach's alpha\n",
    "Det finns också etablerade mått på hur väl skalor hänger ihop. Ett vanligt sådant är *Cronbach's alpha*. Det går från 0 till 1, och ju högre värdet är, desto mer tenderar de olika variablerna i indexet att samvariera. Ofta används 0.7 som tumregel för när en skala är \"tillförlitlig\" men det finns givetvis inget magiskt med just den gränsen.\n",
    "\n",
    "Vi skriver `alpha` följt av variablerna för att få fram måttet:"
   ]
  },
  {
   "cell_type": "code",
   "execution_count": 28,
   "metadata": {},
   "outputs": [
    {
     "name": "stdout",
     "output_type": "stream",
     "text": [
      "\n",
      "Test scale = mean(unstandardized items)\n",
      "\n",
      "Average interitem covariance:     .0258188\n",
      "Number of items in the scale:            5\n",
      "Scale reliability coefficient:      0.4287\n"
     ]
    }
   ],
   "source": [
    "alpha c_electron c_earthsun c_condrift c_viruses c_lasers"
   ]
  },
  {
   "cell_type": "markdown",
   "metadata": {},
   "source": [
    "Det relevanta värdet står längst ner: 0.4287. Alltså inte särskilt högt. I det här fallet gör det som sagt inget, men om vi var ute efter att få fram ett sammanhållet index skulle man kunna testa att ta bort enskilda variabler som hade låga korrelationer med de andra variablerna. Genom att lägga till ett option `, item` kan vi längst ute till höger i tabellen se vad alpha skulle bli utan varje variabel."
   ]
  },
  {
   "cell_type": "code",
   "execution_count": 31,
   "metadata": {},
   "outputs": [
    {
     "name": "stdout",
     "output_type": "stream",
     "text": [
      "\n",
      "Test scale = mean(unstandardized items)\n",
      "\n",
      "                                                            average\n",
      "                             item-test     item-rest       interitem\n",
      "Item         |  Obs  Sign   correlation   correlation     covariance      alpha\n",
      "-------------+-----------------------------------------------------------------\n",
      "c_electron   |  837    +       0.5380        0.1255        .0308565      0.4341\n",
      "c_earthsun   | 1117    +       0.6237        0.2508        .0222774      0.3331\n",
      "c_condrift   | 1063    +       0.4608        0.1539        .0332459      0.4146\n",
      "c_viruses    | 1109    +       0.6498        0.2295        .0203376      0.3334\n",
      "c_lasers     |  777    +       0.6270        0.2721        .0222191      0.3415\n",
      "-------------+-----------------------------------------------------------------\n",
      "Test scale   |                                             .0258188      0.4287\n",
      "-------------------------------------------------------------------------------\n"
     ]
    }
   ],
   "source": [
    "alpha c_electron c_earthsun c_condrift c_viruses c_lasers, item"
   ]
  },
  {
   "cell_type": "markdown",
   "metadata": {},
   "source": [
    "Vi såg i korrelationsmatrisen att frågan om elektroner hade låga korrelationer med de andra variablerna. Om vi tar bort den skulle indexets alpha-värde stiga något, till 0.4341. Om vi däremot tog bort frågan om jordens rotation runt solen, som hade höga korrelationer med de andra variablerna, skulle alpha-värdet istället sjunka till 0.33."
   ]
  },
  {
   "cell_type": "markdown",
   "metadata": {},
   "source": [
    "## Korrelationer med andra variabler\n",
    "För att visa på fördelarna med indexet kan vi undersöka sambandet mellan utbildning och indexen vi gjorde, samt med de enskilda variablerna. \"addindex\" är här indexet som bara inkluderade de som svarade på alla frågorna, och \"meanindex\" är medelvärdet på de frågor som besvarades. \"educ\" är ett mått på hur många skolår respondenten genomfört."
   ]
  },
  {
   "cell_type": "code",
   "execution_count": 34,
   "metadata": {},
   "outputs": [
    {
     "name": "stdout",
     "output_type": "stream",
     "text": [
      "\n",
      "             |     educ addindex meanin~x c_elec~n c_eart~n c_cond~t c_viru~s\n",
      "-------------+---------------------------------------------------------------\n",
      "        educ |   1.0000 \n",
      "    addindex |   0.3656   1.0000 \n",
      "   meanindex |   0.3592   1.0000   1.0000 \n",
      "  c_electron |   0.1824   0.5435   0.5380   1.0000 \n",
      "  c_earthsun |   0.2058   0.5611   0.6237   0.0615   1.0000 \n",
      "  c_condrift |   0.1209   0.4210   0.4608   0.0857   0.1299   1.0000 \n",
      "   c_viruses |   0.3431   0.6167   0.6498   0.0931   0.2131   0.0959   1.0000 \n",
      "    c_lasers |   0.1722   0.5916   0.6270   0.0989   0.2260   0.0913   0.2096 \n",
      "\n",
      "             | c_lasers\n",
      "-------------+---------\n",
      "    c_lasers |   1.0000 \n"
     ]
    }
   ],
   "source": [
    "pwcorr educ addindex meanindex c_electron c_earthsun c_condrift c_viruses c_lasers"
   ]
  },
  {
   "cell_type": "markdown",
   "metadata": {},
   "source": [
    "Det intressanta här är att utbildningsvariabeln korrelerar starkare med båda versionerna av indexet än med någon enskild variabel som ingår i indexet. Genom att slå ihop de olika variablerna får man en bättre indikator på hur mycket man kan om vetenskap - vilket man kan förvänt sig hänger ihop med utbildning."
   ]
  },
  {
   "cell_type": "markdown",
   "metadata": {},
   "source": [
    "## Avslutning\n",
    "Här har vi gått igenom det som kallas additiva index, när man slår ihop variablerna. Men de går givetvis att konstruera på fler och mer avancerade sätt. Det är bara frågeställningen som avgör."
   ]
  }
 ],
 "metadata": {
  "kernelspec": {
   "display_name": "Stata",
   "language": "stata",
   "name": "stata"
  },
  "language_info": {
   "codemirror_mode": "stata",
   "file_extension": ".do",
   "mimetype": "text/x-stata",
   "name": "stata",
   "version": "15.1"
  }
 },
 "nbformat": 4,
 "nbformat_minor": 4
}
