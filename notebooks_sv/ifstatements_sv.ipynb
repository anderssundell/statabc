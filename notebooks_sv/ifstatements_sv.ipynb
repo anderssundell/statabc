{
 "cells": [
  {
   "cell_type": "markdown",
   "metadata": {},
   "source": [
    "# If-satser"
   ]
  },
  {
   "cell_type": "markdown",
   "metadata": {},
   "source": [
    "*Av Anders Sundell*\n",
    "\n",
    "Nästan alla kommandon i Stata går att kombinera med så kallade if-satser. Det är villkor som anger på vilka observationer kommandot ska köras. Det kan handla om att man vill koda om vissa specifika observationer, eller göra en analys bara på en del av datamängden, och så vidare.\n",
    "\n",
    "Villkoren utgår från en uppsättning \"logiska operatorer,\" byggstenar med vilka vi kan konstruera både enkla och komplicerade villkor. De känns också igen från många andra datorprogram. De viktigaste operatorerna är:\n",
    "\n",
    "| Operator | Betydelse |\n",
    "|----------|-----------|\n",
    "| ==       | Lika med  |\n",
    "| !=       | Inte lika med |\n",
    "| >        | Större än |\n",
    "| <        | Mindre än |\n",
    "| >=       | Större eller lika med |\n",
    "\n",
    "\n"
   ]
  },
  {
   "cell_type": "code",
   "execution_count": 36,
   "metadata": {},
   "outputs": [
    {
     "name": "stdout",
     "output_type": "stream",
     "text": [
      "(Quality of Government Basic dataset 2018 - Cross-Section)\n"
     ]
    }
   ],
   "source": [
    "use \"https://www.qogdata.pol.gu.se/dataarchive/qog_bas_cs_jan18.dta\", clear"
   ]
  }
 ],
 "metadata": {
  "kernelspec": {
   "display_name": "Stata",
   "language": "stata",
   "name": "stata"
  },
  "language_info": {
   "file_extension": ".do",
   "mimetype": "text/x-stata",
   "name": "stata"
  }
 },
 "nbformat": 4,
 "nbformat_minor": 2
}
