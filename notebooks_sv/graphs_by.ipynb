{
 "cells": [
  {
   "cell_type": "markdown",
   "metadata": {},
   "source": [
    "# Grafer för tre variabler med by\n",
    "\n"
   ]
  },
  {
   "cell_type": "code",
   "execution_count": 1,
   "metadata": {},
   "outputs": [
    {
     "name": "stdout",
     "output_type": "stream",
     "text": [
      "(Quality of Government Basic dataset 2018 - Cross-Section)\n"
     ]
    }
   ],
   "source": [
    "use \"https://www.qogdata.pol.gu.se/dataarchive/qog_bas_cs_jan18.dta\", clear"
   ]
  },
  {
   "cell_type": "markdown",
   "metadata": {},
   "source": [
    "När man gör ett index måste man först koda om variablerna så att de alla är enhetliga. Om vi till exempel lägger ihop en variabel med skalan 1-4 med en variabel som har skala 1-10 blir det konstigt.\n",
    "\n",
    "Vi ska utgå från fem frågor. 1) Vad är minst, elektronen eller atomen? 2) Snurrar jorden runt solen, eller solen runt jorden? 3) Rör kontinentalplattorna på sig? 4) Dödar antibiotika virus? 5) Fungerar laser genom att fokusera ljudvågor?\n",
    "\n",
    "Variablerna är kodade så att 1 är \"true\" och 2 \"false\". Vi är bara intresserade av om man har svarat rätt eller fel, och gör därför en uppsättning nya variabler som har värdet 0 om respondenten svarat fel, och 1 om den svarat rätt. Detta gör vi med kommandot [`recode`](recodings_sv.html). De nya variablerna heter \"c_\" och så vad frågan handlade om."
   ]
  },
  {
   "cell_type": "markdown",
   "metadata": {},
   "source": [
    "## Avslutning\n",
    "Här har vi gått igenom det som kallas additiva index, när man slår ihop variablerna. Men de går givetvis att konstruera på fler och mer avancerade sätt. Det är bara frågeställningen som avgör."
   ]
  }
 ],
 "metadata": {
  "kernelspec": {
   "display_name": "Stata",
   "language": "stata",
   "name": "stata"
  },
  "language_info": {
   "codemirror_mode": "stata",
   "file_extension": ".do",
   "mimetype": "text/x-stata",
   "name": "stata",
   "version": "15.1"
  }
 },
 "nbformat": 4,
 "nbformat_minor": 4
}
