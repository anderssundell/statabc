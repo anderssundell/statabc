{
 "cells": [
  {
   "cell_type": "markdown",
   "metadata": {},
   "source": [
    "# Regressionsanalys med interaktionseffekter\n",
    "*av Anders Sundell*\n",
    "\n",
    "Med regressionsanalys kan man undersöka samband mellan variabler, med eller utan kontroll för andra variabler. I verkligheten är det dock ofta så att samband ser olika ut i olika grupper, eller under olika omständigheter. Effekten av att bli förälder på arbetsinkomst är till exempel mycket olika för kvinnor och män; kvinnor ser en mycket större nedgång i inkomster.\n",
    "\n",
    "Hur ska man ta hänsyn till detta i sina analyser? Ett sätt kan vara att göra två separata analyser, där man jämför kvinnor som fått barn med kvinnor som inte fått barn, och motsvarande för män. Men det går faktiskt att baka ihop det i en regressionsanalys. Vi kan då se hur effekten skiljer sig åt, och också om skillnaden i effekt är statistiskt signifikant. På så sätt kan vi se om det är värt att komplicera modellen ytterligare genom att införa dessa separata effekter. Vi håller också effekten av alla kontrollvariabler konstant. Gör man separata analyser kommer de också kunna få olika effekter i varje analys, och det är vi kanske inte intresserade av.\n",
    "\n",
    "__Detta kallas för en interaktionsanalys. Det kan också kallas för en moderationsanalys, moderering, eller på engelska att man undersöker conditional effects. Poängen är oavsett att man låter effekten av en variabel variera över värdena på en annan variabel.__ Schematiskt brukar det representeras av ett diagram med en \"pil på pilen\" - dvs den tredje variabeln påverkar *effekten* av den oberoende variabeln, snarare än värdet på någon av de andra variablerna.\n",
    "\n",
    "<img src = \"../images/interaktionsdiagram.svg\" alt=\"En interaktion\" />\n",
    "\n",
    "I det här inlägget kommer vi gå igenom hur man gör regressionsanalyser där både oberoende variabel och interaktionsvariabel bara har två värden, och hur man bäst ska presentera resultaten.\n",
    "\n",
    "För att ha något att jobba med kommer vi i det här exemplet att använda oss av data från den amerikanska <a href=\"http://gss.norc.org/get-the-data/stata\">General Social Survey</a>, som är en enkätundersökning med vanliga medborgare, med frågor om allt möjligt. Vi kommer använda versionen från 2016. Ladda ned den och lägg den i projektmappen för att följa med i exemplet. Jag har lagt den i en undermapp som heter data, och anger därför också det när jag öppnar filen."
   ]
  },
  {
   "cell_type": "code",
   "execution_count": 60,
   "metadata": {},
   "outputs": [
    {
     "name": "stdout",
     "output_type": "stream",
     "text": [
      "/Users/xsunde/Dropbox/Jupyter/stathelp\n"
     ]
    }
   ],
   "source": [
    "cd \"/Users/xsunde/Dropbox/Jupyter/stathelp\""
   ]
  },
  {
   "cell_type": "code",
   "execution_count": 61,
   "metadata": {},
   "outputs": [],
   "source": [
    "use \"data/GSS2016.dta\", clear"
   ]
  },
  {
   "cell_type": "markdown",
   "metadata": {},
   "source": [
    "## Förbereda datan för analys\n",
    "\n",
    "Frågeställningen vi ska undersöka först är just den som nämndes ovan, hur barnafödande hänger ihop med inkomst för kvinnor och män. Egentligen undersöks en sådan frågeställning bäst med data över tid, där vi kan följa individer före och efter att de får barn. Eftersom det här är tvärsnittsdata och vi bara har data från en tidpunkt är inte det möjligt, och vi kommer därför bara att jämföra dem som har barn med dem som inte har det. Vi måste därför vara försiktiga med att dra slutsatser om orsak och verkan.\n",
    "\n",
    "Vi behöver tre variabler: kön, inkomst, och antal barn. Kön finns beskrivet i variabeln __sex__, där 1 betyder \"male\" och 2 \"female\". För att det ska bli lättare att tolka resultaten framöver gör vi dock om variabeln, så att den får värdet 0 för män, och 1 för kvinnor. Dessutom döper vi om den till \"woman\" istället för sex. När vi ökar variabeln blir det alltså \"mer kvinna\"."
   ]
  },
  {
   "cell_type": "code",
   "execution_count": 62,
   "metadata": {},
   "outputs": [
    {
     "name": "stdout",
     "output_type": "stream",
     "text": [
      "(2867 differences between sex and woman)\n"
     ]
    }
   ],
   "source": [
    "recode sex (1=0) (2=1), generate(woman)"
   ]
  },
  {
   "cell_type": "code",
   "execution_count": 63,
   "metadata": {},
   "outputs": [
    {
     "name": "stdout",
     "output_type": "stream",
     "text": [
      "\n",
      "  RECODE of |\n",
      "        sex |\n",
      "(respondent |\n",
      "     s sex) |      Freq.     Percent        Cum.\n",
      "------------+-----------------------------------\n",
      "          0 |      1,276       44.51       44.51\n",
      "          1 |      1,591       55.49      100.00\n",
      "------------+-----------------------------------\n",
      "      Total |      2,867      100.00\n"
     ]
    }
   ],
   "source": [
    "tab woman"
   ]
  },
  {
   "cell_type": "markdown",
   "metadata": {},
   "source": [
    "Därefter behöver vi en variabel för inkomst. Det finns några olika att välja på, men den enklaste verkar vara __realrinc__, som beskriver respondentens inkomst i antal dollar per år. Vi ser nedan att medelvärdet är 23772."
   ]
  },
  {
   "cell_type": "code",
   "execution_count": 6,
   "metadata": {},
   "outputs": [
    {
     "name": "stdout",
     "output_type": "stream",
     "text": [
      "\n",
      "    Variable |        Obs        Mean    Std. Dev.       Min        Max\n",
      "-------------+---------------------------------------------------------\n",
      "    realrinc |      1,632    23772.92    29407.37        234     164382\n"
     ]
    }
   ],
   "source": [
    "sum realrinc"
   ]
  },
  {
   "cell_type": "markdown",
   "metadata": {},
   "source": [
    "Slutligen behöver vi en variabel för barn. Det finns en sådan, som visar hur många barn respondenten har, __childs__:"
   ]
  },
  {
   "cell_type": "code",
   "execution_count": 7,
   "metadata": {},
   "outputs": [
    {
     "name": "stdout",
     "output_type": "stream",
     "text": [
      "\n",
      "    number of |\n",
      "     children |      Freq.     Percent        Cum.\n",
      "--------------+-----------------------------------\n",
      "            0 |        797       27.88       27.88\n",
      "            1 |        459       16.05       43.93\n",
      "            2 |        733       25.64       69.57\n",
      "            3 |        467       16.33       85.90\n",
      "            4 |        213        7.45       93.35\n",
      "            5 |         92        3.22       96.57\n",
      "            6 |         51        1.78       98.36\n",
      "            7 |         25        0.87       99.23\n",
      "eight or more |         22        0.77      100.00\n",
      "--------------+-----------------------------------\n",
      "        Total |      2,859      100.00\n"
     ]
    }
   ],
   "source": [
    "tab childs"
   ]
  },
  {
   "cell_type": "markdown",
   "metadata": {},
   "source": [
    "Dock är vi först bara intresserade av att jämföra dem som har barn med dem som inte har det. Troligtvis ser vi de största effekterna när man skaffar det första barnet, även om senare barn också kan påverka, men det återkommer vi till. Nu vill vi göra en ny dummyvariabel som är 0 om man har 0 barn, och 1 om man har 1 eller fler. Det blir en så kallad dummyvariabel, och vi kallar den __dum_kids__:"
   ]
  },
  {
   "cell_type": "code",
   "execution_count": 64,
   "metadata": {},
   "outputs": [
    {
     "name": "stdout",
     "output_type": "stream",
     "text": [
      "(1603 differences between childs and dum_kids)\n"
     ]
    }
   ],
   "source": [
    "recode childs (0=0) (1/8 = 1), generate(dum_kids)"
   ]
  },
  {
   "cell_type": "code",
   "execution_count": 47,
   "metadata": {},
   "outputs": [
    {
     "name": "stdout",
     "output_type": "stream",
     "text": [
      "\n",
      "  RECODE of |\n",
      "     childs |\n",
      " (number of |\n",
      "  children) |      Freq.     Percent        Cum.\n",
      "------------+-----------------------------------\n",
      "          0 |        797       27.88       27.88\n",
      "          1 |      2,062       72.12      100.00\n",
      "------------+-----------------------------------\n",
      "      Total |      2,859      100.00\n"
     ]
    }
   ],
   "source": [
    "tab dum_kids"
   ]
  },
  {
   "cell_type": "markdown",
   "metadata": {},
   "source": [
    "Nu har vi alla variabler vi behöver för analysen. Vi kan börja med att göra en korrelationsmatris för att se hur de olika variablerna hänger ihop, och vi lägger där också till variabeln __age__, som visar respondentens ålder. Vi kommer att ha med den som kontrollvariabel."
   ]
  },
  {
   "cell_type": "code",
   "execution_count": 65,
   "metadata": {},
   "outputs": [
    {
     "name": "stdout",
     "output_type": "stream",
     "text": [
      "\n",
      "             |    woman realrinc dum_kids      age\n",
      "-------------+------------------------------------\n",
      "       woman |   1.0000 \n",
      "    realrinc |  -0.1628   1.0000 \n",
      "    dum_kids |   0.1047   0.0821   1.0000 \n",
      "         age |   0.0418   0.1332   0.3493   1.0000 \n"
     ]
    }
   ],
   "source": [
    "pwcorr woman realrinc dum_kids age"
   ]
  },
  {
   "cell_type": "markdown",
   "metadata": {},
   "source": [
    "Korrelationen mellan kön och inkomst är negativ, och eftersom vi kommer ihåg att kvinna hade det högre värdet på woman-variabeln innebär det att kvinnor har lägre inkomster. Mer kvinna hänger ihop med mindre inkomst. Kvinna har också en positiv korrelation med att ha barn. Barn har i sin tur en positiv korrelation med inkomst - antagligen beroende på att de som har barn är äldre och har högre inkomster. Vi ser att ålder har ett positivt samband både med inkomst och att ha barn."
   ]
  },
  {
   "cell_type": "markdown",
   "metadata": {},
   "source": [
    "## Interaktionsanalys där interaktionsvariablerna bara har två värden\n",
    "\n",
    "I den första analysen ska vi alltså se på hur att ha barn hänger ihop med inkomst, och sedan dela upp det på kvinnor och män. Men först gör vi en vanlig regressionsanalys, utan interaktion, där vi bara lägger in alla variablerna som de är. Beroende variabel är alltså inkomst.\n"
   ]
  },
  {
   "cell_type": "code",
   "execution_count": 49,
   "metadata": {},
   "outputs": [
    {
     "name": "stdout",
     "output_type": "stream",
     "text": [
      "\n",
      "      Source |       SS           df       MS      Number of obs   =     1,627\n",
      "-------------+----------------------------------   F(3, 1623)      =     26.64\n",
      "       Model |  6.5114e+10         3  2.1705e+10   Prob > F        =    0.0000\n",
      "    Residual |  1.3225e+12     1,623   814854652   R-squared       =    0.0469\n",
      "-------------+----------------------------------   Adj R-squared   =    0.0452\n",
      "       Total |  1.3876e+12     1,626   853396969   Root MSE        =     28546\n",
      "\n",
      "------------------------------------------------------------------------------\n",
      "    realrinc |      Coef.   Std. Err.      t    P>|t|     [95% Conf. Interval]\n",
      "-------------+----------------------------------------------------------------\n",
      "       woman |  -9748.911   1421.057    -6.86   0.000    -12536.21   -6961.612\n",
      "    dum_kids |    3603.04   1636.325     2.20   0.028     393.5083    6812.571\n",
      "         age |   241.0386   52.86283     4.56   0.000      137.352    344.7252\n",
      "       _cons |   15430.49   2452.935     6.29   0.000     10619.24    20241.74\n",
      "------------------------------------------------------------------------------\n"
     ]
    }
   ],
   "source": [
    "reg realrinc woman dum_kids age "
   ]
  },
  {
   "cell_type": "markdown",
   "metadata": {},
   "source": [
    "Resultaten är som man kan förvänta sig. Koefficienten för __woman__ är -9748, vilket innebär att kvinnor i genomsnitt har 9748 dollar lägre årsinkomst än män, även med hänsyn taget till ålder och om man har barn eller ej.\n",
    "\n",
    "Koefficienten för ålder är 241, vilket innebär att de som är ett år äldre i genomsnitt har 241 dollar mer i årsinkomst. Att vara man hänger alltså ihop med samma inkomstökning som att bli 9748/241=40 år äldre!\n",
    "\n",
    "Och de som har barn har i genomsnitt 3603 dollar mer i årsinkomst. Vi kan dock se att signifikansvärdet är högre här än för de andra variablerna. Det finns alltså en lite större osäkerhet på om det verkligen handlar om ett riktigt samband som syns i hela befolkningen, och inte bara består på slump i urvalet. Men värdet är ändå lägre än den konventionella gränsen på 0.050.\n",
    "\n",
    "Men effekten av barn antas här vara samma för både kvinnor och män, och vi ska nu undersöka om det är ett rimligt antagande. För att göra det behöver vi lägga till en så kallad interaktionsterm, en ny variabel som är produkten av __woman__ gånger __dum_kids__. Bekvämt nog finns det automatiska funktioner för det i Stata, och vi kan låta Stata göra variabeln direkt i analysen. Vi lägger bara in ## mellan variablerna vi vill interagera, så får vi interaktionstermen automatiskt."
   ]
  },
  {
   "cell_type": "code",
   "execution_count": 80,
   "metadata": {},
   "outputs": [
    {
     "name": "stdout",
     "output_type": "stream",
     "text": [
      "\n",
      "      Source |       SS           df       MS      Number of obs   =     1,627\n",
      "-------------+----------------------------------   F(4, 1622)      =     23.62\n",
      "       Model |  7.6368e+10         4  1.9092e+10   Prob > F        =    0.0000\n",
      "    Residual |  1.3113e+12     1,622   808418921   R-squared       =    0.0550\n",
      "-------------+----------------------------------   Adj R-squared   =    0.0527\n",
      "       Total |  1.3876e+12     1,626   853396969   Root MSE        =     28433\n",
      "\n",
      "--------------------------------------------------------------------------------\n",
      "      realrinc |      Coef.   Std. Err.      t    P>|t|     [95% Conf. Interval]\n",
      "---------------+----------------------------------------------------------------\n",
      "       1.woman |   -1673.06   2586.229    -0.65   0.518     -6745.76    3399.641\n",
      "    1.dum_kids |    9213.15   2217.508     4.15   0.000     4863.668    13562.63\n",
      "               |\n",
      "woman#dum_kids |\n",
      "          1 1  |  -11546.67   3094.776    -3.73   0.000    -17616.85   -5476.495\n",
      "               |\n",
      "           age |   228.0699   52.76827     4.32   0.000     124.5687     331.571\n",
      "         _cons |   12306.06   2582.758     4.76   0.000     7240.167    17371.95\n",
      "--------------------------------------------------------------------------------\n"
     ]
    }
   ],
   "source": [
    "reg realrinc woman##dum_kids age"
   ]
  },
  {
   "cell_type": "markdown",
   "metadata": {},
   "source": [
    "Det dök nu upp en ny variabel i tabellen, \"woman#dum_kids\". Det är den så kallade interaktionstermen. Det hände också mycket med koefficienterna för woman och dum_kids, och de kan nu inte heller tolkas på vanligt sätt. __Koefficienterna visar nu effekten av variabeln när den andra variabeln i interaktionen är noll.__ Variabeln __woman__ visar alltså skillnaden mellan kvinnor och män *som inte har barn*. Variabeln __dum_kids__ visar skillnaden mellan *män* som har barn och män som inte har det.\n",
    "\n",
    "För att räkna ut vad effekten blir för de andra grupperna behöver vi lägga ihop koefficienterna med interaktionstermen. Den visar hur koefficienterna förändras när den andra variabeln ökar ett steg.\n",
    "\n",
    "\"Effekten\" av att få barn är alltså +9213 för män (!). För att få effekten för kvinnor behöver vi ta 9213.15 - 11546.67 * 1 = -2333.52. __Det betyder att kvinnor som har barn har lägre inkomster än kvinnor som inte har barn, medan män som har barn har högre inkomster än män som inte har det__.\n",
    "\n",
    "Är den skillnaden att lita på? Ja, eftersom interaktionstermen är signifikant. Det är osannolikt att en så stor skillnad i effekt skulle uppstå bara på grund av slump i urvalet. Om interaktionstermen däremot inte hade varit signifikant hade det varit bättre att utgå från den enklare modellen utan interaktionsterm, både för att den är enklare att tolka, och för att enklare modeller är att föredra om de mer komplicerade inte tillför någon förklaringskraft.\n",
    "\n",
    "På motsvarande sätt har kvinnor som inte har barn också 1673.06 lägre inkomst än män som inte har barn. Men hur mycket lägre inkomst har kvinnor som har barn jämfört med män som har barn? Det får vi fram genom att ta -1673.06 - 11546.67 * 1 = -13219.73. Skillnaden i inkomster mellan män och kvinnor växer alltså dramatiskt efter barnafödandet."
   ]
  },
  {
   "cell_type": "markdown",
   "metadata": {},
   "source": [
    "## Presentera resultaten när variablerna bara har två värden\n",
    "\n",
    "Att tolka interaktionseffekter är inte enkelt. Därför måste de presenteras på ett bättre sätt än en tabell. Dessutom kan vi från tabellen inte utläsa om effekten av att få barn är signifikant för kvinnor.\n",
    "\n",
    "Först kan vi ta fram marginaleffekterna, dvs koefficienterna för variablerna, när de andra variablerna i interaktionen intar olika värden. Det gör vi med kommandot __margins__, med options __dydx()__ och __at()__. dydx står för delta Y och delta X, och delta används inom matematiken för att visa förändring. Vi vill alltså se hur mycket Y (den beroende variabeln) förändras när vi förändrar X. at-option använder vi för att visa vilka värden vi vill se dydx för.\n",
    "\n",
    "För att få ut effekten av att få barn för kvinnor och män skriver vi:"
   ]
  },
  {
   "cell_type": "code",
   "execution_count": 79,
   "metadata": {},
   "outputs": [
    {
     "name": "stdout",
     "output_type": "stream",
     "text": [
      "\n",
      "Average marginal effects                        Number of obs     =      1,627\n",
      "Model VCE    : OLS\n",
      "\n",
      "Expression   : Linear prediction, predict()\n",
      "dy/dx w.r.t. : 1.dum_kids\n",
      "\n",
      "1._at        : woman           =           0\n",
      "\n",
      "2._at        : woman           =           1\n",
      "\n",
      "------------------------------------------------------------------------------\n",
      "             |            Delta-method\n",
      "             |      dy/dx   Std. Err.      t    P>|t|     [95% Conf. Interval]\n",
      "-------------+----------------------------------------------------------------\n",
      "0.dum_kids   |  (base outcome)\n",
      "-------------+----------------------------------------------------------------\n",
      "1.dum_kids   |\n",
      "         _at |\n",
      "          1  |    9213.15   2217.508     4.15   0.000     4863.668    13562.63\n",
      "          2  |  -2333.525   2277.746    -1.02   0.306    -6801.159     2134.11\n",
      "------------------------------------------------------------------------------\n",
      "Note: dy/dx for factor levels is the discrete change from the base level.\n"
     ]
    }
   ],
   "source": [
    "margins, dydx(dum_kids) at(woman=(0 1))"
   ]
  },
  {
   "cell_type": "markdown",
   "metadata": {},
   "source": [
    "Eftersom vi skrev at(woman=(0 1)) får vi ut två koefficienter: en när woman är 0, och en när woman är 1. Vi ser då att koefficienten för __dum_kids__ är 9213.15 när woman är 0, och -2333.525 när woman är 1. Barnafödande är positivt för män, och negativt för kvinnor. Men den negativa effekten för kvinnor är dock inte signifikant, eftersom signifikansvärdet är 0.306.\n",
    "\n",
    "Vi kan illustrera det hela genom att bara köra kommandot __marginsplot__ efter marginskommandot. Genom att lägga till option , yline(0) får vi en referenslinje. Om konfindensintervallen som visas i grafen inte överlappar nollstrecket är de statistiskt signifikanta."
   ]
  },
  {
   "cell_type": "code",
   "execution_count": 52,
   "metadata": {},
   "outputs": [
    {
     "name": "stdout",
     "output_type": "stream",
     "text": [
      "\n",
      "  Variables that uniquely identify margins: woman\n"
     ]
    },
    {
     "data": {
      "application/pdf": "[encoded data removed]",
      "image/svg+xml": [
       "<?xml version=\"1.0\" encoding=\"UTF-8\" standalone=\"no\"?>\n",
       "<!-- This is a Stata 15.1 generated SVG file (http://www.stata.com) -->\n",
       "\n",
       "<svg version=\"1.1\" width=\"600px\" height=\"436px\" viewBox=\"0 0 3960 2880\" xmlns=\"http://www.w3.org/2000/svg\" xmlns:xlink=\"http://www.w3.org/1999/xlink\">\n",
       "\t<desc>Stata Graph - Graph</desc>\n",
       "\t<rect x=\"0\" y=\"0\" width=\"3960\" height=\"2880\" style=\"fill:#EAF2F3;stroke:none\"/>\n",
       "\t<rect x=\"0.00\" y=\"0.00\" width=\"3959.88\" height=\"2880.00\" style=\"fill:#EAF2F3\"/>\n",
       "\t<rect x=\"2.88\" y=\"2.88\" width=\"3954.12\" height=\"2874.24\" style=\"fill:none;stroke:#EAF2F3;stroke-width:5.76\"/>\n",
       "\t<rect x=\"390.80\" y=\"261.37\" width=\"3468.22\" height=\"2227.82\" style=\"fill:#FFFFFF\"/>\n",
       "\t<rect x=\"393.68\" y=\"264.25\" width=\"3462.46\" height=\"2222.06\" style=\"fill:none;stroke:#FFFFFF;stroke-width:5.76\"/>\n",
       "\t<line x1=\"390.80\" y1=\"2252.20\" x2=\"3859.02\" y2=\"2252.20\" style=\"stroke:#EAF2F3;stroke-width:8.64\"/>\n",
       "\t<line x1=\"390.80\" y1=\"1770.42\" x2=\"3859.02\" y2=\"1770.42\" style=\"stroke:#EAF2F3;stroke-width:8.64\"/>\n",
       "\t<line x1=\"390.80\" y1=\"1288.53\" x2=\"3859.02\" y2=\"1288.53\" style=\"stroke:#EAF2F3;stroke-width:8.64\"/>\n",
       "\t<line x1=\"390.80\" y1=\"806.63\" x2=\"3859.02\" y2=\"806.63\" style=\"stroke:#EAF2F3;stroke-width:8.64\"/>\n",
       "\t<line x1=\"390.80\" y1=\"324.73\" x2=\"3859.02\" y2=\"324.73\" style=\"stroke:#EAF2F3;stroke-width:8.64\"/>\n",
       "\t<line x1=\"390.80\" y1=\"1770.42\" x2=\"3859.02\" y2=\"1770.42\" style=\"stroke:#C10534;stroke-width:8.64\"/>\n",
       "\t<line x1=\"454.16\" y1=\"1301.64\" x2=\"454.16\" y2=\"463.21\" style=\"stroke:#1A476F;stroke-width:8.64\"/>\n",
       "\t<line x1=\"432.13\" y1=\"463.21\" x2=\"476.19\" y2=\"463.21\" stroke-linecap=\"round\" style=\"stroke:#1A476F;stroke-width:8.64\"/>\n",
       "\t<line x1=\"432.13\" y1=\"1301.64\" x2=\"476.19\" y2=\"1301.64\" stroke-linecap=\"round\" style=\"stroke:#1A476F;stroke-width:8.64\"/>\n",
       "\t<line x1=\"3795.66\" y1=\"2425.82\" x2=\"3795.66\" y2=\"1564.74\" style=\"stroke:#1A476F;stroke-width:8.64\"/>\n",
       "\t<line x1=\"3773.63\" y1=\"1564.74\" x2=\"3817.69\" y2=\"1564.74\" stroke-linecap=\"round\" style=\"stroke:#1A476F;stroke-width:8.64\"/>\n",
       "\t<line x1=\"3773.63\" y1=\"2425.82\" x2=\"3817.69\" y2=\"2425.82\" stroke-linecap=\"round\" style=\"stroke:#1A476F;stroke-width:8.64\"/>\n",
       "\t<line x1=\"454.04\" y1=\"882.49\" x2=\"3795.66\" y2=\"1995.28\" stroke-linecap=\"round\" style=\"stroke:#1A476F;stroke-width:8.64\"/>\n",
       "\t<circle cx=\"454.04\" cy=\"882.49\" r=\"26.35\" style=\"fill:#1A476F\"/>\n",
       "\t<circle cx=\"454.04\" cy=\"882.49\" r=\"22.03\" style=\"fill:none;stroke:#1A476F;stroke-width:8.64\"/>\n",
       "\t<circle cx=\"3795.66\" cy=\"1995.28\" r=\"26.35\" style=\"fill:#1A476F\"/>\n",
       "\t<circle cx=\"3795.66\" cy=\"1995.28\" r=\"22.03\" style=\"fill:none;stroke:#1A476F;stroke-width:8.64\"/>\n",
       "\t<line x1=\"390.80\" y1=\"2489.19\" x2=\"390.80\" y2=\"261.37\" style=\"stroke:#000000;stroke-width:5.76\"/>\n",
       "\t<line x1=\"390.80\" y1=\"2252.20\" x2=\"350.83\" y2=\"2252.20\" style=\"stroke:#000000;stroke-width:5.76\"/>\n",
       "\t<text x=\"300.72\" y=\"2252.20\" style=\"font-family:'Helvetica';font-size:99.99px;fill:#000000\" transform=\"rotate(-90 300.72,2252.20)\" text-anchor=\"middle\">-5000</text>\n",
       "\t<line x1=\"390.80\" y1=\"1770.42\" x2=\"350.83\" y2=\"1770.42\" style=\"stroke:#000000;stroke-width:5.76\"/>\n",
       "\t<text x=\"300.72\" y=\"1770.42\" style=\"font-family:'Helvetica';font-size:99.99px;fill:#000000\" transform=\"rotate(-90 300.72,1770.42)\" text-anchor=\"middle\">0</text>\n",
       "\t<line x1=\"390.80\" y1=\"1288.53\" x2=\"350.83\" y2=\"1288.53\" style=\"stroke:#000000;stroke-width:5.76\"/>\n",
       "\t<text x=\"300.72\" y=\"1288.53\" style=\"font-family:'Helvetica';font-size:99.99px;fill:#000000\" transform=\"rotate(-90 300.72,1288.53)\" text-anchor=\"middle\">5000</text>\n",
       "\t<line x1=\"390.80\" y1=\"806.63\" x2=\"350.83\" y2=\"806.63\" style=\"stroke:#000000;stroke-width:5.76\"/>\n",
       "\t<text x=\"300.72\" y=\"806.63\" style=\"font-family:'Helvetica';font-size:99.99px;fill:#000000\" transform=\"rotate(-90 300.72,806.63)\" text-anchor=\"middle\">10000</text>\n",
       "\t<line x1=\"390.80\" y1=\"324.73\" x2=\"350.83\" y2=\"324.73\" style=\"stroke:#000000;stroke-width:5.76\"/>\n",
       "\t<text x=\"300.72\" y=\"324.73\" style=\"font-family:'Helvetica';font-size:99.99px;fill:#000000\" transform=\"rotate(-90 300.72,324.73)\" text-anchor=\"middle\">15000</text>\n",
       "\t<text x=\"190.71\" y=\"1375.28\" style=\"font-family:'Helvetica';font-size:99.99px;fill:#000000\" transform=\"rotate(-90 190.71,1375.28)\" text-anchor=\"middle\">Effects on Linear Prediction</text>\n",
       "\t<line x1=\"390.80\" y1=\"2489.19\" x2=\"3859.02\" y2=\"2489.19\" style=\"stroke:#000000;stroke-width:5.76\"/>\n",
       "\t<line x1=\"454.16\" y1=\"2489.19\" x2=\"454.16\" y2=\"2529.16\" style=\"stroke:#000000;stroke-width:5.76\"/>\n",
       "\t<text x=\"454.16\" y=\"2619.14\" style=\"font-family:'Helvetica';font-size:99.99px;fill:#000000\" text-anchor=\"middle\">0</text>\n",
       "\t<line x1=\"3795.66\" y1=\"2489.19\" x2=\"3795.66\" y2=\"2529.16\" style=\"stroke:#000000;stroke-width:5.76\"/>\n",
       "\t<text x=\"3795.66\" y=\"2619.14\" style=\"font-family:'Helvetica';font-size:99.99px;fill:#000000\" text-anchor=\"middle\">1</text>\n",
       "\t<text x=\"2124.91\" y=\"2729.16\" style=\"font-family:'Helvetica';font-size:99.99px;fill:#000000\" text-anchor=\"middle\">RECODE of sex (respondents sex)</text>\n",
       "\t<text x=\"1979.88\" y=\"206.19\" style=\"font-family:'Helvetica';font-size:125.98px;fill:#1E2D53\" text-anchor=\"middle\">Average Marginal Effects of dum_kids with 95% CIs</text>\n",
       "</svg>\n"
      ],
      "text/plain": [
       "This front-end cannot display the desired image type."
      ]
     },
     "metadata": {
      "image/svg+xml": {
       "height": 436,
       "width": 600
      }
     },
     "output_type": "display_data"
    },
    {
     "name": "stdout",
     "output_type": "stream",
     "text": [
      "\n",
      "\n"
     ]
    }
   ],
   "source": [
    "marginsplot, yline(0)"
   ]
  },
  {
   "cell_type": "markdown",
   "metadata": {},
   "source": [
    "Koefficientens konfidensintervall överlappar inte noll för woman = 0, men gör det för woman = 1. Det betyder som vi såg i tabellen tidigare att det bara är den positiva effekten av att få barn för män som är signifikant; den negativa effekten för kvinnor är det inte.\n",
    "\n",
    "På motsvarande sätt kan vi ta fram koefficenterna för woman, över de olika värdena på dum_kids. För att marginskommandot ska funka måste man dock ha kört regressionskommandot innan."
   ]
  },
  {
   "cell_type": "code",
   "execution_count": 81,
   "metadata": {},
   "outputs": [
    {
     "name": "stdout",
     "output_type": "stream",
     "text": [
      "\n",
      "Average marginal effects                        Number of obs     =      1,627\n",
      "Model VCE    : OLS\n",
      "\n",
      "Expression   : Linear prediction, predict()\n",
      "dy/dx w.r.t. : 1.woman\n",
      "\n",
      "1._at        : dum_kids        =           0\n",
      "\n",
      "2._at        : dum_kids        =           1\n",
      "\n",
      "------------------------------------------------------------------------------\n",
      "             |            Delta-method\n",
      "             |      dy/dx   Std. Err.      t    P>|t|     [95% Conf. Interval]\n",
      "-------------+----------------------------------------------------------------\n",
      "0.woman      |  (base outcome)\n",
      "-------------+----------------------------------------------------------------\n",
      "1.woman      |\n",
      "         _at |\n",
      "          1  |   -1673.06   2586.229    -0.65   0.518     -6745.76    3399.641\n",
      "          2  |  -13219.73   1693.765    -7.80   0.000    -16541.93   -9897.537\n",
      "------------------------------------------------------------------------------\n",
      "Note: dy/dx for factor levels is the discrete change from the base level.\n"
     ]
    }
   ],
   "source": [
    "margins, dydx(woman) at(dum_kids=(0 1))"
   ]
  },
  {
   "cell_type": "markdown",
   "metadata": {},
   "source": [
    "Kvinnor tjänar mindre än män, oavsett om de har barn eller ej. Men bland de som inte har barn är skillnaden inte signifikant. Det är bara bland de som har barn som könsskillnaden blir påtaglig. Det ser vi också i grafen nedan:"
   ]
  },
  {
   "cell_type": "code",
   "execution_count": 82,
   "metadata": {},
   "outputs": [
    {
     "name": "stdout",
     "output_type": "stream",
     "text": [
      "\n",
      "  Variables that uniquely identify margins: dum_kids\n"
     ]
    },
    {
     "data": {
      "application/pdf": "[encoded data removed]",
      "image/svg+xml": [
       "<?xml version=\"1.0\" encoding=\"UTF-8\" standalone=\"no\"?>\n",
       "<!-- This is a Stata 15.1 generated SVG file (http://www.stata.com) -->\n",
       "\n",
       "<svg version=\"1.1\" width=\"600px\" height=\"436px\" viewBox=\"0 0 3960 2880\" xmlns=\"http://www.w3.org/2000/svg\" xmlns:xlink=\"http://www.w3.org/1999/xlink\">\n",
       "\t<desc>Stata Graph - Graph</desc>\n",
       "\t<rect x=\"0\" y=\"0\" width=\"3960\" height=\"2880\" style=\"fill:#EAF2F3;stroke:none\"/>\n",
       "\t<rect x=\"0.00\" y=\"0.00\" width=\"3959.88\" height=\"2880.00\" style=\"fill:#EAF2F3\"/>\n",
       "\t<rect x=\"2.88\" y=\"2.88\" width=\"3954.12\" height=\"2874.24\" style=\"fill:none;stroke:#EAF2F3;stroke-width:5.76\"/>\n",
       "\t<rect x=\"390.80\" y=\"261.37\" width=\"3468.22\" height=\"2227.82\" style=\"fill:#FFFFFF\"/>\n",
       "\t<rect x=\"393.68\" y=\"264.25\" width=\"3462.46\" height=\"2222.06\" style=\"fill:none;stroke:#FFFFFF;stroke-width:5.76\"/>\n",
       "\t<line x1=\"390.80\" y1=\"2275.46\" x2=\"3859.02\" y2=\"2275.46\" style=\"stroke:#EAF2F3;stroke-width:8.64\"/>\n",
       "\t<line x1=\"390.80\" y1=\"1787.75\" x2=\"3859.02\" y2=\"1787.75\" style=\"stroke:#EAF2F3;stroke-width:8.64\"/>\n",
       "\t<line x1=\"390.80\" y1=\"1300.03\" x2=\"3859.02\" y2=\"1300.03\" style=\"stroke:#EAF2F3;stroke-width:8.64\"/>\n",
       "\t<line x1=\"390.80\" y1=\"812.44\" x2=\"3859.02\" y2=\"812.44\" style=\"stroke:#EAF2F3;stroke-width:8.64\"/>\n",
       "\t<line x1=\"390.80\" y1=\"324.73\" x2=\"3859.02\" y2=\"324.73\" style=\"stroke:#EAF2F3;stroke-width:8.64\"/>\n",
       "\t<line x1=\"390.80\" y1=\"812.44\" x2=\"3859.02\" y2=\"812.44\" style=\"stroke:#C10534;stroke-width:8.64\"/>\n",
       "\t<line x1=\"454.16\" y1=\"1470.32\" x2=\"454.16\" y2=\"480.78\" style=\"stroke:#1A476F;stroke-width:8.64\"/>\n",
       "\t<line x1=\"432.13\" y1=\"480.78\" x2=\"476.19\" y2=\"480.78\" stroke-linecap=\"round\" style=\"stroke:#1A476F;stroke-width:8.64\"/>\n",
       "\t<line x1=\"432.13\" y1=\"1470.32\" x2=\"476.19\" y2=\"1470.32\" stroke-linecap=\"round\" style=\"stroke:#1A476F;stroke-width:8.64\"/>\n",
       "\t<line x1=\"3795.66\" y1=\"2425.82\" x2=\"3795.66\" y2=\"1777.72\" style=\"stroke:#1A476F;stroke-width:8.64\"/>\n",
       "\t<line x1=\"3773.63\" y1=\"1777.72\" x2=\"3817.69\" y2=\"1777.72\" stroke-linecap=\"round\" style=\"stroke:#1A476F;stroke-width:8.64\"/>\n",
       "\t<line x1=\"3773.63\" y1=\"2425.82\" x2=\"3817.69\" y2=\"2425.82\" stroke-linecap=\"round\" style=\"stroke:#1A476F;stroke-width:8.64\"/>\n",
       "\t<line x1=\"454.04\" y1=\"975.68\" x2=\"3795.66\" y2=\"2101.84\" stroke-linecap=\"round\" style=\"stroke:#1A476F;stroke-width:8.64\"/>\n",
       "\t<circle cx=\"454.04\" cy=\"975.68\" r=\"26.35\" style=\"fill:#1A476F\"/>\n",
       "\t<circle cx=\"454.04\" cy=\"975.68\" r=\"22.03\" style=\"fill:none;stroke:#1A476F;stroke-width:8.64\"/>\n",
       "\t<circle cx=\"3795.66\" cy=\"2101.84\" r=\"26.35\" style=\"fill:#1A476F\"/>\n",
       "\t<circle cx=\"3795.66\" cy=\"2101.84\" r=\"22.03\" style=\"fill:none;stroke:#1A476F;stroke-width:8.64\"/>\n",
       "\t<line x1=\"390.80\" y1=\"2489.19\" x2=\"390.80\" y2=\"261.37\" style=\"stroke:#000000;stroke-width:5.76\"/>\n",
       "\t<line x1=\"390.80\" y1=\"2275.46\" x2=\"350.83\" y2=\"2275.46\" style=\"stroke:#000000;stroke-width:5.76\"/>\n",
       "\t<text x=\"300.72\" y=\"2275.46\" style=\"font-family:'Helvetica';font-size:99.99px;fill:#000000\" transform=\"rotate(-90 300.72,2275.46)\" text-anchor=\"middle\">-15000</text>\n",
       "\t<line x1=\"390.80\" y1=\"1787.75\" x2=\"350.83\" y2=\"1787.75\" style=\"stroke:#000000;stroke-width:5.76\"/>\n",
       "\t<text x=\"300.72\" y=\"1787.75\" style=\"font-family:'Helvetica';font-size:99.99px;fill:#000000\" transform=\"rotate(-90 300.72,1787.75)\" text-anchor=\"middle\">-10000</text>\n",
       "\t<line x1=\"390.80\" y1=\"1300.03\" x2=\"350.83\" y2=\"1300.03\" style=\"stroke:#000000;stroke-width:5.76\"/>\n",
       "\t<text x=\"300.72\" y=\"1300.03\" style=\"font-family:'Helvetica';font-size:99.99px;fill:#000000\" transform=\"rotate(-90 300.72,1300.03)\" text-anchor=\"middle\">-5000</text>\n",
       "\t<line x1=\"390.80\" y1=\"812.44\" x2=\"350.83\" y2=\"812.44\" style=\"stroke:#000000;stroke-width:5.76\"/>\n",
       "\t<text x=\"300.72\" y=\"812.44\" style=\"font-family:'Helvetica';font-size:99.99px;fill:#000000\" transform=\"rotate(-90 300.72,812.44)\" text-anchor=\"middle\">0</text>\n",
       "\t<line x1=\"390.80\" y1=\"324.73\" x2=\"350.83\" y2=\"324.73\" style=\"stroke:#000000;stroke-width:5.76\"/>\n",
       "\t<text x=\"300.72\" y=\"324.73\" style=\"font-family:'Helvetica';font-size:99.99px;fill:#000000\" transform=\"rotate(-90 300.72,324.73)\" text-anchor=\"middle\">5000</text>\n",
       "\t<text x=\"190.71\" y=\"1375.28\" style=\"font-family:'Helvetica';font-size:99.99px;fill:#000000\" transform=\"rotate(-90 190.71,1375.28)\" text-anchor=\"middle\">Effects on Linear Prediction</text>\n",
       "\t<line x1=\"390.80\" y1=\"2489.19\" x2=\"3859.02\" y2=\"2489.19\" style=\"stroke:#000000;stroke-width:5.76\"/>\n",
       "\t<line x1=\"454.16\" y1=\"2489.19\" x2=\"454.16\" y2=\"2529.16\" style=\"stroke:#000000;stroke-width:5.76\"/>\n",
       "\t<text x=\"454.16\" y=\"2619.14\" style=\"font-family:'Helvetica';font-size:99.99px;fill:#000000\" text-anchor=\"middle\">0</text>\n",
       "\t<line x1=\"3795.66\" y1=\"2489.19\" x2=\"3795.66\" y2=\"2529.16\" style=\"stroke:#000000;stroke-width:5.76\"/>\n",
       "\t<text x=\"3795.66\" y=\"2619.14\" style=\"font-family:'Helvetica';font-size:99.99px;fill:#000000\" text-anchor=\"middle\">1</text>\n",
       "\t<text x=\"2124.91\" y=\"2729.16\" style=\"font-family:'Helvetica';font-size:99.99px;fill:#000000\" text-anchor=\"middle\">RECODE of childs (number of children)</text>\n",
       "\t<text x=\"1979.88\" y=\"206.19\" style=\"font-family:'Helvetica';font-size:125.98px;fill:#1E2D53\" text-anchor=\"middle\">Average Marginal Effects of 1.woman with 95% CIs</text>\n",
       "</svg>\n"
      ],
      "text/plain": [
       "This front-end cannot display the desired image type."
      ]
     },
     "metadata": {
      "image/svg+xml": {
       "height": 436,
       "width": 600
      }
     },
     "output_type": "display_data"
    },
    {
     "name": "stdout",
     "output_type": "stream",
     "text": [
      "\n",
      "\n"
     ]
    }
   ],
   "source": [
    "marginsplot, yline(0)"
   ]
  },
  {
   "cell_type": "markdown",
   "metadata": {},
   "source": [
    "Slutligen kan vi illustrera alltihopa genom att räkna ut predicerade värden, dvs förväntade värden på den beroende variabelm, utifrån siffrorna i tabellerna ovan. Vi gör det med marginskommandot, fast utan dydx-option."
   ]
  },
  {
   "cell_type": "code",
   "execution_count": 83,
   "metadata": {},
   "outputs": [
    {
     "name": "stdout",
     "output_type": "stream",
     "text": [
      "\n",
      "Predictive margins                              Number of obs     =      1,627\n",
      "Model VCE    : OLS\n",
      "\n",
      "Expression   : Linear prediction, predict()\n",
      "\n",
      "1._at        : woman           =           0\n",
      "               dum_kids        =           0\n",
      "\n",
      "2._at        : woman           =           0\n",
      "               dum_kids        =           1\n",
      "\n",
      "3._at        : woman           =           1\n",
      "               dum_kids        =           0\n",
      "\n",
      "4._at        : woman           =           1\n",
      "               dum_kids        =           1\n",
      "\n",
      "------------------------------------------------------------------------------\n",
      "             |            Delta-method\n",
      "             |     Margin   Std. Err.      t    P>|t|     [95% Conf. Interval]\n",
      "-------------+----------------------------------------------------------------\n",
      "         _at |\n",
      "          1  |    22425.8   1777.756    12.61   0.000     18938.86    25912.74\n",
      "          2  |   31638.95   1258.823    25.13   0.000     29169.86    34108.04\n",
      "          3  |   20752.74   1944.967    10.67   0.000     16937.83    24567.65\n",
      "          4  |   18419.22   1154.571    15.95   0.000     16154.61    20683.82\n",
      "------------------------------------------------------------------------------\n"
     ]
    }
   ],
   "source": [
    "margins, at(dum_kids=(0 1) woman=(0 1))"
   ]
  },
  {
   "cell_type": "markdown",
   "metadata": {},
   "source": [
    "Här visas nu alltså inte koefficienter, utan gissningar på den beroende variabeln. Koefficienterna symboliserar skillnaderna mellan de olika värdena.\n",
    "\n",
    "För att verkligen synliggöra slutsatsen kan vi direkt efter marginskommandot skriva __marginsplot:__."
   ]
  },
  {
   "cell_type": "code",
   "execution_count": 84,
   "metadata": {},
   "outputs": [
    {
     "name": "stdout",
     "output_type": "stream",
     "text": [
      "\n",
      "  Variables that uniquely identify margins: dum_kids woman\n"
     ]
    },
    {
     "data": {
      "application/pdf": "[encoded data removed]",
      "image/svg+xml": [
       "<?xml version=\"1.0\" encoding=\"UTF-8\" standalone=\"no\"?>\n",
       "<!-- This is a Stata 15.1 generated SVG file (http://www.stata.com) -->\n",
       "\n",
       "<svg version=\"1.1\" width=\"600px\" height=\"436px\" viewBox=\"0 0 3960 2880\" xmlns=\"http://www.w3.org/2000/svg\" xmlns:xlink=\"http://www.w3.org/1999/xlink\">\n",
       "\t<desc>Stata Graph - Graph</desc>\n",
       "\t<rect x=\"0\" y=\"0\" width=\"3960\" height=\"2880\" style=\"fill:#EAF2F3;stroke:none\"/>\n",
       "\t<rect x=\"0.00\" y=\"0.00\" width=\"3959.88\" height=\"2880.00\" style=\"fill:#EAF2F3\"/>\n",
       "\t<rect x=\"2.88\" y=\"2.88\" width=\"3954.12\" height=\"2874.24\" style=\"fill:none;stroke:#EAF2F3;stroke-width:5.76\"/>\n",
       "\t<rect x=\"390.80\" y=\"261.37\" width=\"3468.22\" height=\"1972.27\" style=\"fill:#FFFFFF\"/>\n",
       "\t<rect x=\"393.68\" y=\"264.25\" width=\"3462.46\" height=\"1966.51\" style=\"fill:none;stroke:#FFFFFF;stroke-width:5.76\"/>\n",
       "\t<line x1=\"390.80\" y1=\"2170.27\" x2=\"3859.02\" y2=\"2170.27\" style=\"stroke:#EAF2F3;stroke-width:8.64\"/>\n",
       "\t<line x1=\"390.80\" y1=\"1708.92\" x2=\"3859.02\" y2=\"1708.92\" style=\"stroke:#EAF2F3;stroke-width:8.64\"/>\n",
       "\t<line x1=\"390.80\" y1=\"1247.56\" x2=\"3859.02\" y2=\"1247.56\" style=\"stroke:#EAF2F3;stroke-width:8.64\"/>\n",
       "\t<line x1=\"390.80\" y1=\"786.08\" x2=\"3859.02\" y2=\"786.08\" style=\"stroke:#EAF2F3;stroke-width:8.64\"/>\n",
       "\t<line x1=\"390.80\" y1=\"324.73\" x2=\"3859.02\" y2=\"324.73\" style=\"stroke:#EAF2F3;stroke-width:8.64\"/>\n",
       "\t<line x1=\"454.16\" y1=\"1806.81\" x2=\"454.16\" y2=\"1163.29\" style=\"stroke:#1A476F;stroke-width:8.64\"/>\n",
       "\t<line x1=\"432.13\" y1=\"1163.29\" x2=\"476.19\" y2=\"1163.29\" stroke-linecap=\"round\" style=\"stroke:#1A476F;stroke-width:8.64\"/>\n",
       "\t<line x1=\"432.13\" y1=\"1806.81\" x2=\"476.19\" y2=\"1806.81\" stroke-linecap=\"round\" style=\"stroke:#1A476F;stroke-width:8.64\"/>\n",
       "\t<line x1=\"3795.66\" y1=\"862.69\" x2=\"3795.66\" y2=\"407.03\" style=\"stroke:#1A476F;stroke-width:8.64\"/>\n",
       "\t<line x1=\"3773.63\" y1=\"407.03\" x2=\"3817.69\" y2=\"407.03\" stroke-linecap=\"round\" style=\"stroke:#1A476F;stroke-width:8.64\"/>\n",
       "\t<line x1=\"3773.63\" y1=\"862.69\" x2=\"3817.69\" y2=\"862.69\" stroke-linecap=\"round\" style=\"stroke:#1A476F;stroke-width:8.64\"/>\n",
       "\t<line x1=\"454.16\" y1=\"1991.45\" x2=\"454.16\" y2=\"1287.41\" style=\"stroke:#90353B;stroke-width:8.64\"/>\n",
       "\t<line x1=\"432.13\" y1=\"1287.41\" x2=\"476.19\" y2=\"1287.41\" stroke-linecap=\"round\" style=\"stroke:#90353B;stroke-width:8.64\"/>\n",
       "\t<line x1=\"432.13\" y1=\"1991.45\" x2=\"476.19\" y2=\"1991.45\" stroke-linecap=\"round\" style=\"stroke:#90353B;stroke-width:8.64\"/>\n",
       "\t<line x1=\"3795.66\" y1=\"2063.72\" x2=\"3795.66\" y2=\"1645.80\" style=\"stroke:#90353B;stroke-width:8.64\"/>\n",
       "\t<line x1=\"3773.63\" y1=\"1645.80\" x2=\"3817.69\" y2=\"1645.80\" stroke-linecap=\"round\" style=\"stroke:#90353B;stroke-width:8.64\"/>\n",
       "\t<line x1=\"3773.63\" y1=\"2063.72\" x2=\"3817.69\" y2=\"2063.72\" stroke-linecap=\"round\" style=\"stroke:#90353B;stroke-width:8.64\"/>\n",
       "\t<line x1=\"454.04\" y1=\"1485.17\" x2=\"3795.66\" y2=\"634.98\" stroke-linecap=\"round\" style=\"stroke:#1A476F;stroke-width:8.64\"/>\n",
       "\t<circle cx=\"454.04\" cy=\"1485.17\" r=\"26.35\" style=\"fill:#1A476F\"/>\n",
       "\t<circle cx=\"454.04\" cy=\"1485.17\" r=\"22.03\" style=\"fill:none;stroke:#1A476F;stroke-width:8.64\"/>\n",
       "\t<circle cx=\"3795.66\" cy=\"634.98\" r=\"26.35\" style=\"fill:#1A476F\"/>\n",
       "\t<circle cx=\"3795.66\" cy=\"634.98\" r=\"22.03\" style=\"fill:none;stroke:#1A476F;stroke-width:8.64\"/>\n",
       "\t<line x1=\"454.04\" y1=\"1639.49\" x2=\"3795.66\" y2=\"1854.82\" stroke-linecap=\"round\" style=\"stroke:#90353B;stroke-width:8.64\"/>\n",
       "\t<circle cx=\"454.04\" cy=\"1639.49\" r=\"26.35\" style=\"fill:#90353B\"/>\n",
       "\t<circle cx=\"454.04\" cy=\"1639.49\" r=\"22.03\" style=\"fill:none;stroke:#90353B;stroke-width:8.64\"/>\n",
       "\t<circle cx=\"3795.66\" cy=\"1854.82\" r=\"26.35\" style=\"fill:#90353B\"/>\n",
       "\t<circle cx=\"3795.66\" cy=\"1854.82\" r=\"22.03\" style=\"fill:none;stroke:#90353B;stroke-width:8.64\"/>\n",
       "\t<line x1=\"390.80\" y1=\"2233.63\" x2=\"390.80\" y2=\"261.37\" style=\"stroke:#000000;stroke-width:5.76\"/>\n",
       "\t<line x1=\"390.80\" y1=\"2170.27\" x2=\"350.83\" y2=\"2170.27\" style=\"stroke:#000000;stroke-width:5.76\"/>\n",
       "\t<text x=\"300.72\" y=\"2170.27\" style=\"font-family:'Helvetica';font-size:99.99px;fill:#000000\" transform=\"rotate(-90 300.72,2170.27)\" text-anchor=\"middle\">15000</text>\n",
       "\t<line x1=\"390.80\" y1=\"1708.92\" x2=\"350.83\" y2=\"1708.92\" style=\"stroke:#000000;stroke-width:5.76\"/>\n",
       "\t<text x=\"300.72\" y=\"1708.92\" style=\"font-family:'Helvetica';font-size:99.99px;fill:#000000\" transform=\"rotate(-90 300.72,1708.92)\" text-anchor=\"middle\">20000</text>\n",
       "\t<line x1=\"390.80\" y1=\"1247.56\" x2=\"350.83\" y2=\"1247.56\" style=\"stroke:#000000;stroke-width:5.76\"/>\n",
       "\t<text x=\"300.72\" y=\"1247.56\" style=\"font-family:'Helvetica';font-size:99.99px;fill:#000000\" transform=\"rotate(-90 300.72,1247.56)\" text-anchor=\"middle\">25000</text>\n",
       "\t<line x1=\"390.80\" y1=\"786.08\" x2=\"350.83\" y2=\"786.08\" style=\"stroke:#000000;stroke-width:5.76\"/>\n",
       "\t<text x=\"300.72\" y=\"786.08\" style=\"font-family:'Helvetica';font-size:99.99px;fill:#000000\" transform=\"rotate(-90 300.72,786.08)\" text-anchor=\"middle\">30000</text>\n",
       "\t<line x1=\"390.80\" y1=\"324.73\" x2=\"350.83\" y2=\"324.73\" style=\"stroke:#000000;stroke-width:5.76\"/>\n",
       "\t<text x=\"300.72\" y=\"324.73\" style=\"font-family:'Helvetica';font-size:99.99px;fill:#000000\" transform=\"rotate(-90 300.72,324.73)\" text-anchor=\"middle\">35000</text>\n",
       "\t<text x=\"190.71\" y=\"1247.56\" style=\"font-family:'Helvetica';font-size:99.99px;fill:#000000\" transform=\"rotate(-90 190.71,1247.56)\" text-anchor=\"middle\">Linear Prediction</text>\n",
       "\t<line x1=\"390.80\" y1=\"2233.63\" x2=\"3859.02\" y2=\"2233.63\" style=\"stroke:#000000;stroke-width:5.76\"/>\n",
       "\t<line x1=\"454.16\" y1=\"2233.63\" x2=\"454.16\" y2=\"2273.73\" style=\"stroke:#000000;stroke-width:5.76\"/>\n",
       "\t<text x=\"454.16\" y=\"2363.59\" style=\"font-family:'Helvetica';font-size:99.99px;fill:#000000\" text-anchor=\"middle\">0</text>\n",
       "\t<line x1=\"3795.66\" y1=\"2233.63\" x2=\"3795.66\" y2=\"2273.73\" style=\"stroke:#000000;stroke-width:5.76\"/>\n",
       "\t<text x=\"3795.66\" y=\"2363.59\" style=\"font-family:'Helvetica';font-size:99.99px;fill:#000000\" text-anchor=\"middle\">1</text>\n",
       "\t<text x=\"2124.91\" y=\"2473.60\" style=\"font-family:'Helvetica';font-size:99.99px;fill:#000000\" text-anchor=\"middle\">RECODE of childs (number of children)</text>\n",
       "\t<rect x=\"1134.29\" y=\"2558.24\" width=\"1981.36\" height=\"186.37\" style=\"fill:#FFFFFF\"/>\n",
       "\t<rect x=\"1137.17\" y=\"2561.12\" width=\"1975.60\" height=\"180.61\" style=\"fill:none;stroke:#000000;stroke-width:5.76\"/>\n",
       "\t<line x1=\"1177.48\" y1=\"2651.43\" x2=\"1551.83\" y2=\"2651.43\" style=\"stroke:#1A476F;stroke-width:8.64\"/>\n",
       "\t<circle cx=\"1364.71\" cy=\"2651.43\" r=\"26.35\" style=\"fill:#1A476F\"/>\n",
       "\t<circle cx=\"1364.71\" cy=\"2651.43\" r=\"22.03\" style=\"fill:none;stroke:#1A476F;stroke-width:8.64\"/>\n",
       "\t<line x1=\"2194.95\" y1=\"2651.43\" x2=\"2569.30\" y2=\"2651.43\" style=\"stroke:#90353B;stroke-width:8.64\"/>\n",
       "\t<circle cx=\"2382.06\" cy=\"2651.43\" r=\"26.35\" style=\"fill:#90353B\"/>\n",
       "\t<circle cx=\"2382.06\" cy=\"2651.43\" r=\"22.03\" style=\"fill:none;stroke:#90353B;stroke-width:8.64\"/>\n",
       "\t<text x=\"1611.84\" y=\"2686.46\" style=\"font-family:'Helvetica';font-size:99.99px;fill:#000000\">woman=0</text>\n",
       "\t<text x=\"2629.32\" y=\"2686.46\" style=\"font-family:'Helvetica';font-size:99.99px;fill:#000000\">woman=1</text>\n",
       "\t<text x=\"1979.88\" y=\"206.19\" style=\"font-family:'Helvetica';font-size:125.98px;fill:#1E2D53\" text-anchor=\"middle\">Predictive Margins with 95% CIs</text>\n",
       "</svg>\n"
      ],
      "text/plain": [
       "This front-end cannot display the desired image type."
      ]
     },
     "metadata": {
      "image/svg+xml": {
       "height": 436,
       "width": 600
      }
     },
     "output_type": "display_data"
    },
    {
     "name": "stdout",
     "output_type": "stream",
     "text": [
      "\n",
      "\n"
     ]
    }
   ],
   "source": [
    "marginsplot"
   ]
  },
  {
   "cell_type": "markdown",
   "metadata": {},
   "source": [
    "Poängen illustreras här tydligt: Kvinnor och män ligger rätt lika bland dem som inte har barn, men ökar dramatiskt mellan edem som har barn och dem som inte har det.\n",
    "\n",
    "Alla tre graferna här hänger ihop. De två tidigare, som visade koefficienterna, visar alltså på relationerna mellan de olika punkterna i den sista grafen. Den första, som visade effekten av dum_kids, visar vad som händer när vi går till höger i diagrammet, från noll till ett. Den blåa linjen (männen) går då upp, och den röda linjen (kvinnorna) går ner.\n",
    "\n",
    "Den andra grafen, som visade effekten av woman, visar vad som händer när vi byter från den blåa till den röda linjen. När vi är på dum_kids = 0 blir det en liten nedgång från den blåa till den röda linjen. När vi är på dum_kids = 1 blir det ett stort hopp ned från den blåa till den röda."
   ]
  },
  {
   "cell_type": "markdown",
   "metadata": {},
   "source": [
    "# Avslutning\n",
    "Slutsatsen av analysen är alltså att könsskillnaderna ser ut att öka kraftigt i samband med barnafödande. Män med barn tjänar mycket mer än män utan barn, medan kvinnor med barn tjänar mindre än kvinnor utan barn. Därför tjänar män utan barn bara lite mer än kvinnor utan barn, medan män med barn tjänar mycket mer än kvinnor med barn.\n",
    "\n",
    "Annan forskning har visat på rimliga förklaringar till detta; till exempel att barnafödandet leder till att kvinnor i familjer arbetar mindre, och män mer, för att täcka upp. Men det kan vi inte avgöra utifrån den här tvärsnittsanalysen. Här jämför vi bara olika individer med varandra, och det kan finnas mycket som skiljer de olika individerna åt som vi inte tar hänsyn till här.. Men vi har i alla fall kontrollerat för ålder, så skillnaderna beror inte bara på att de som har barn är äldre, till exempel.\n",
    "\n",
    "Mer allmänt ser vi att viktiga effekter kan döljas när de smetas ut över flera grupper i ett urval: den ursprungliga effekten av barnafödande var svagt positiv. Och många teorier leder till förväntningar på att effekter kommer skilja sig beroende på någon tredje variabels värde. Då är regressionsanalyser med interaktionseffekter viktiga.\n",
    "\n",
    "Dock blir det lite (men inte mycket) mer komplicerat när en eller båda variabler är kontinuerliga, och har skalor med många värden. Det kommer vi diskutera mer i ett annat inlägg."
   ]
  }
 ],
 "metadata": {
  "kernelspec": {
   "display_name": "Stata",
   "language": "stata",
   "name": "stata"
  },
  "language_info": {
   "file_extension": ".do",
   "mimetype": "text/x-stata",
   "name": "stata"
  }
 },
 "nbformat": 4,
 "nbformat_minor": 4
}
