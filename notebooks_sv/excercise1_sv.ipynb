{
 "cells": [
  {
   "cell_type": "markdown",
   "metadata": {},
   "source": [
    "# Övningsuppgifter 1"
   ]
  },
  {
   "cell_type": "markdown",
   "metadata": {},
   "source": [
    "*Av Anders Sundell*\n",
    "\n",
    "Här är ett gäng övningsuppgifter som täcker några av grunderna i datahantering, beskrivande statistik samt enkel korrelations- och regressionsanalys. Du behöver QoG Basic-datamängden för att göra uppgifterna, adressen anges nedan. [Klicka här för att se lösningarna till uppgifterna.](excercise1_sv_facit.html)"
   ]
  },
  {
   "cell_type": "code",
   "execution_count": 36,
   "metadata": {},
   "outputs": [
    {
     "name": "stdout",
     "output_type": "stream",
     "text": [
      "(Quality of Government Basic dataset 2018 - Cross-Section)\n"
     ]
    }
   ],
   "source": [
    "use \"https://www.qogdata.pol.gu.se/dataarchive/qog_bas_cs_jan18.dta\", clear"
   ]
  },
  {
   "cell_type": "markdown",
   "metadata": {},
   "source": [
    "## Datahantering\n",
    "\n",
    "**Fråga 1.** Skapa en variabel, `dum_demokrati`, som har värdet 1 om fh_status har värdet 1, och 0 annars."
   ]
  },
  {
   "cell_type": "markdown",
   "metadata": {},
   "source": [
    "**Fråga 2.** Variablerna `wdi_expedu` och `wdi_exph` visar statens utgifter för utbildning respektive sjukvård som andel av BNP. Skapa en variabel som visar statens utgifter för utbildning och sjukvård. Kalla den `eduhealth`."
   ]
  },
  {
   "cell_type": "markdown",
   "metadata": {},
   "source": [
    "**Fråga 3.** Gör en variabel som visar hur mycket mer stater lägger på sjukvård jämfört med utbildning. Kalla den `eduhealthdiff`."
   ]
  },
  {
   "cell_type": "markdown",
   "metadata": {},
   "source": [
    "**Fråga 4.** Variabeln `gle_rgdpc` visar BNP per capita i antal dollar. Gör en variabel `gdpc_1000` som visar BNP per capita, fast i tusentals dollar."
   ]
  },
  {
   "cell_type": "markdown",
   "metadata": {},
   "source": [
    "**Fråga 5.** Variabeln `ht_colonial` visar vem landet tidigare varit koloniserad av. Ersätt alla 0 (aldrig koloniserat) med tecknet för missing, . "
   ]
  },
  {
   "cell_type": "markdown",
   "metadata": {},
   "source": [
    "## Beskrivande statistik\n",
    "**Fråga 1.** Variablerna `wdi_lifexpf` och `wdi_lifexpm` visar förväntad livslängd vid födseln för kvinnor respektive män. Vad är medelvärdet för var och en de två variablerna?"
   ]
  },
  {
   "cell_type": "markdown",
   "metadata": {},
   "source": [
    "\n",
    "**Fråga 2.** Gör ett histogram för variabeln `unna_pop`, som visar landets befolkningsantal."
   ]
  },
  {
   "cell_type": "markdown",
   "metadata": {},
   "source": [
    "**Fråga 3.** Variabeln `fh_status` visar om landet kategoriseras som Free, Partly free eller Not free. Gör en frekvenstabell som visar hur många länder som faller i varje kategori."
   ]
  },
  {
   "cell_type": "markdown",
   "metadata": {},
   "source": [
    "**Fråga 4.** Variabeln `ti_cpi` visar Transparency Internationals korruptionsindex, där låga värden betyder att landet är mer korrupt. Sortera datamängden utifrån indexet, och gör en topplista på de 10 mest korrupta länderna."
   ]
  },
  {
   "cell_type": "markdown",
   "metadata": {},
   "source": [
    "**Fråga 5.** Sortera nu istället efter fallande ordning, och gör en topplista på de tio minst korrupta länderna."
   ]
  },
  {
   "cell_type": "markdown",
   "metadata": {},
   "source": [
    "**Fråga 6.** Variabeln `ti_cpi` visar Transparency Internationals korruptionsindex. För varje kategori i variabeln `fh_status`, vad är medelvärdet på korruptionsindexet?"
   ]
  },
  {
   "cell_type": "markdown",
   "metadata": {},
   "source": [
    "**Fråga 7.** Variabeln `gol_est` visar vilken typ av valsystem landet har. Gör en korstabell som visar hur stor andel av länderna med olika valsystem som kan räknas som fria enligt variabeln `fh_status`."
   ]
  },
  {
   "cell_type": "markdown",
   "metadata": {},
   "source": [
    "## Korrelation och regression\n",
    "\n",
    "**Fråga 1.** Gör en korrelationsmatris som visar de parvisa korrelationerna mellan de tre variablerna `ti_cpi`, `p_polity2` och `wdi_lifexp`. Är sambanden positiva eller negativa?"
   ]
  },
  {
   "cell_type": "markdown",
   "metadata": {},
   "source": [
    "**Fråga 2.** Gör en scatterplot som visar sambandet mellan `p_polity2` (på x-axeln) och `ti_cpi` på (y-axeln). Lägg också till en regressionslinje."
   ]
  },
  {
   "cell_type": "markdown",
   "metadata": {},
   "source": [
    "**Fråga 3.** Gör en regressionsanalys där `ti_cpi` är beroende variabel och `p_polity2` är oberoende variabel. Vad är b-koefficienten för `p_polity2`, dvs lutningen på linjen?"
   ]
  },
  {
   "cell_type": "markdown",
   "metadata": {},
   "source": [
    "**Fråga 4.** Använd b-koefficienten och interceptet i ovanstående analys och räkna ut vad ett land som har värdet 7 i demokrati förväntas ha för värde på korruptionsindexet."
   ]
  },
  {
   "cell_type": "markdown",
   "metadata": {},
   "source": [
    "**Fråga 5.** Upprepa föregående analys, men lägg nu till variabeln som visar avstånd från ekvatorn, `lp_lat_abst`. Vad händer med koefficienten för `p_polity2`?"
   ]
  }
 ],
 "metadata": {
  "kernelspec": {
   "display_name": "Stata",
   "language": "stata",
   "name": "stata"
  },
  "language_info": {
   "file_extension": ".do",
   "mimetype": "text/x-stata",
   "name": "stata"
  }
 },
 "nbformat": 4,
 "nbformat_minor": 2
}
