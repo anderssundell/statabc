{
 "cells": [
  {
   "cell_type": "markdown",
   "metadata": {},
   "source": [
    "# Regressionsanalys med kurvlinjära (kvadratiska) effekter"
   ]
  },
  {
   "cell_type": "markdown",
   "metadata": {},
   "source": [
    "English version | [Startsida](../index.html)\n",
    "\n",
    "Normalt när vi gör [regressionsanalyser](regression1_sv.html) jobbar vi med linjära effekter. Det vill säga, vi passar en rak linje till en mängd punkter. Vi utgår därmed från att alla undersökta samband också är raka. En ökning i den oberoende variabeln leder alltid till en ökning *eller* minskning i den beroende variabeln.\n",
    "\n",
    "I verkligheten finns det dock många samband som inte är linjära. En ökning av något kan leda till en ökning av något annat, men kanske bara upp till en viss gräns. Ett trivialt exempel är sambandet mellan lycka och glassätning. Om man äter en glass blir man gladare. Äter man två glassar blir man antagligen också gladare, men den andra glassen ger inte lika mycket lycka som den första. Och om man äter tre glassar är det mycket möjligt att man blir mindre lycklig än om man inte hade ätit någon glass alls!\n",
    "\n",
    "Likaså sägs det ofta att pengar inte kan köpa lycka - i alla fall inte när man kommit tillräckligt högt upp på inkomstskalan. När man väl har finansiell trygghet är det kanske annat som behövs för att skapa lycka. Ett annat exempel på ickelinjära samband är mellan valdeltagande och ålder - medelålders röstar oftare än unga vuxna, men valdeltagandet är något lägre bland de riktigt gamla.\n",
    "\n",
    "**Vi kan dock lätt undersöka sådana samband med vanlig regressionsanalys, genom att behandla våra oberoende variabler på ett särskilt sätt.** Lösningen är att använda sig av så kallade kvadratiska termer. Vi \"kvadrerar\" vår oberoende variabel, vilket betyder att vi multiplicerar den med sig själv. Det betecknas genom att man skriver en upphöjd 2 efter variabeln, såhär: $variabel^2$.\n",
    "Därefter lägger vi in både den vanliga variabeln och den kvadrerade varianten i regressionsanalysen. Genom att tolka de två koefficienterna tillsammans kan vi beskriva ett samband som böjer sig en gång. Det blir en kurva (Man kan också göra modeller där man har två eller fler svängar. Teorier som beskriver sådana samband är dock mycket mer sällsynta och komplicerade, så vi håller oss här till en sväng).\n",
    "\n",
    "Förklaringen är att den kvadrerade variabeln växer mycket snabbare än den vanliga variabeln. V kan till exempel ta ålder som ett exempel. I tabellen nedan visas vad kvadraten av ålder blir vid olika värden av ålder.\n",
    "\n",
    "| $Ålder$ | $Ålder^2$ |\n",
    "|-------|-----------------|\n",
    "| 0     | 0               |\n",
    "| 1     | 1               |\n",
    "| 2     | 4               |\n",
    "| 3     | 9               |\n",
    "| 4     | 16              |\n",
    "| 5     | 25              |\n",
    "\n",
    "Den vanliga åldersvariabeln ökar med ett steg per rad, men den kvadrerade ökar först med 1, sen med 3, sen med 5, sen med 7, sen med 9. Den sticker iväg.\n",
    "\n",
    "I regressionsanalysen kommer koefficienten för den vanliga åldersvariabeln oftast vara större än den för ålder i kvadrat. Men i takt med att den kvadrerade variabeln blir mycket större blir den koefficienten mycket viktigare. Om den vanliga koefficienten är positiv, och den kvadrerade negativ, kan vi då få en situation där koefficienten för den kvadrerade variabeln efter hand tar ut den vanliga. Det gör att kurvan vänder neråt.\n",
    "\n",
    "## Kan pengar köpa lycka?\n",
    "\n",
    "Kanske är det lite svårt att greppa. Men förhoppningsvis klarnar det med ett exempel. Vi ska använda amerikansk enkätdata för att undersöka sambandet mellan inkomst och lycka, som nämndes tidigare. Vi börjar med att ladda in data från [General Social Survey](https://gss.norc.org/get-the-data/stata), insamlad 2016. "
   ]
  },
  {
   "cell_type": "code",
   "execution_count": 31,
   "metadata": {},
   "outputs": [],
   "source": [
    "use \"/Users/xsunde/Dropbox/Jupyter/stathelp/data/GSS2016.dta\", clear"
   ]
  },
  {
   "cell_type": "markdown",
   "metadata": {},
   "source": [
    "Vi ska använda oss av variabeln \"happy\", som är en fråga där respondenten får ange om den är \"Very happy\" (1), \"Pretty happy\" (2) eller \"Not too happy\" (3). För att göra det lite mer lättolkat gör vi en ny variabel (\"happy_new\") som bygger på samma information, men där \"Very happy\" är kodat som 3 och \"Not too happy\" som 1. Vi gör det med kommandot [`generate`](recodings_sv.html), och tar 4 minus värdet på variabeln \"happy\". De som tidigare hade värdet 3 (not too happy) får nu värdet 4-3 = 1, och så vidare."
   ]
  },
  {
   "cell_type": "code",
   "execution_count": 34,
   "metadata": {},
   "outputs": [
    {
     "name": "stdout",
     "output_type": "stream",
     "text": [
      "(8 missing values generated)\n"
     ]
    }
   ],
   "source": [
    "gen happy_new = 4 - happy"
   ]
  },
  {
   "cell_type": "markdown",
   "metadata": {},
   "source": [
    "För att mäta inkomst har vi en variabel som heter \"realinc\", där respondentens hushållsinkomst per år anges i dollar. Det lägsta värdet i datan är 234, och det högsta 131677. Stora skillnader alltså. För att det ska bli lättare att tolka resultaten delar vi variabeln med 10000, så att den mäter årsinkomst i tiotusentals dollar."
   ]
  },
  {
   "cell_type": "code",
   "execution_count": 36,
   "metadata": {},
   "outputs": [
    {
     "name": "stdout",
     "output_type": "stream",
     "text": [
      "(271 missing values generated)\n"
     ]
    }
   ],
   "source": [
    "gen inc_10000 = realinc/10000"
   ]
  },
  {
   "cell_type": "markdown",
   "metadata": {},
   "source": [
    "## Vanlig regressionsanalys\n",
    "Vi börjar med att göra en vanlig regressionsanalys på sambandet. Vi sätter \"happy_new\" som beroende variabel, och \"inc_10000\" som oberoende."
   ]
  },
  {
   "cell_type": "code",
   "execution_count": 37,
   "metadata": {},
   "outputs": [
    {
     "name": "stdout",
     "output_type": "stream",
     "text": [
      "\n",
      "      Source |       SS           df       MS      Number of obs   =     2,591\n",
      "-------------+----------------------------------   F(1, 2589)      =    129.39\n",
      "       Model |  51.3696466         1  51.3696466   Prob > F        =    0.0000\n",
      "    Residual |  1027.85459     2,589   .39700834   R-squared       =    0.0476\n",
      "-------------+----------------------------------   Adj R-squared   =    0.0472\n",
      "       Total |  1079.22424     2,590  .416688895   Root MSE        =    .63009\n",
      "\n",
      "------------------------------------------------------------------------------\n",
      "   happy_new |      Coef.   Std. Err.      t    P>|t|     [95% Conf. Interval]\n",
      "-------------+----------------------------------------------------------------\n",
      "   inc_10000 |   .0446972   .0039294    11.38   0.000     .0369921    .0524023\n",
      "       _cons |   1.981089   .0178246   111.14   0.000     1.946137    2.016041\n",
      "------------------------------------------------------------------------------\n"
     ]
    }
   ],
   "source": [
    "reg happy_new inc_10000"
   ]
  },
  {
   "cell_type": "markdown",
   "metadata": {},
   "source": [
    "Vi kan se att det finns ett positivt samband - de som tjänar mer är lyckligare. För varje 10000 dollar ytterligare personens hushåll tjänar ökar lyckan med 0,04 på vår lilla lyckoskala. Sambandet är statistiskt signifikant, men förklarar inte jättemycket av variationen i lycka - $R^2$-värdet är knappt fem procent.\n",
    "\n",
    "Vi ser också att konstanten - det vill säga den förväntade lyckan för folk med 0 inkomst - är 1,98, alltså nästan precis på \"Pretty happy\".\n",
    "\n",
    "## Regressionsanalys med kvadratisk term\n",
    "\n",
    "Nu ska vi se om det är så att pengar slutar att vara bra för lyckan vid någon viss nivå, eller om mer pengar alltid är att föredra. Vi tar då först och skapar en ny variabel, som är inkomst gånger inkomst, alltså `inc_10000 * inc_10000`."
   ]
  },
  {
   "cell_type": "code",
   "execution_count": 38,
   "metadata": {},
   "outputs": [
    {
     "name": "stdout",
     "output_type": "stream",
     "text": [
      "(271 missing values generated)\n"
     ]
    }
   ],
   "source": [
    "gen inc_10000_sq = inc_10000 * inc_10000"
   ]
  },
  {
   "cell_type": "markdown",
   "metadata": {},
   "source": [
    "Vi döper den till samma sak, fast med \"sq\" på slutet, för att visa att den är kvadrerad (squared på engelska).\n",
    "\n",
    "**Nu lägger vi in både den nya variabeln OCH den gamla i regressionsanalysen. Att ha med båda är helt nödvändigt. Om vi bara lägger in den kvadrerade blir det helt fel.**"
   ]
  },
  {
   "cell_type": "code",
   "execution_count": 39,
   "metadata": {},
   "outputs": [
    {
     "name": "stdout",
     "output_type": "stream",
     "text": [
      "\n",
      "      Source |       SS           df       MS      Number of obs   =     2,591\n",
      "-------------+----------------------------------   F(2, 2588)      =    107.47\n",
      "       Model |  82.7623282         2  41.3811641   Prob > F        =    0.0000\n",
      "    Residual |   996.46191     2,588   .38503165   R-squared       =    0.0767\n",
      "-------------+----------------------------------   Adj R-squared   =    0.0760\n",
      "       Total |  1079.22424     2,590  .416688895   Root MSE        =    .62051\n",
      "\n",
      "------------------------------------------------------------------------------\n",
      "   happy_new |      Coef.   Std. Err.      t    P>|t|     [95% Conf. Interval]\n",
      "-------------+----------------------------------------------------------------\n",
      "   inc_10000 |   .1466397   .0119347    12.29   0.000     .1232373    .1700422\n",
      "inc_10000_sq |  -.0081405   .0009015    -9.03   0.000    -.0099083   -.0063727\n",
      "       _cons |   1.815863   .0253567    71.61   0.000     1.766141    1.865584\n",
      "------------------------------------------------------------------------------\n"
     ]
    }
   ],
   "source": [
    "reg happy_new inc_10000 inc_10000_sq"
   ]
  },
  {
   "cell_type": "markdown",
   "metadata": {},
   "source": [
    "Blev analysen bättre? Ett sätt att avgöra det är att titta på den förklarade variansen, $R^2$. I den förra analysen var det värdet 0,0476. Nu har det stigit till 0,0767. Fortfarande inte jättehögt, men en klar förbättring. Vår \"modell\" beskriver nu datan lite bättre.\n",
    "\n",
    "Vi kan också titta på koefficienternas signifikans. Om den kvadratiska termens koefficient är signifikant indikerar det att vi tillför något genom att lägga in den (här gör det inget om den vanliga termen är insignifikant).\n",
    "\n",
    "## Tolkning\n",
    "\n",
    "Vad är det då vi ser? Vi kan tolka koefficienterna i ordning. Koefficienten på den vanliga variabeln är positiv. Det betyder att effekten av att öka sin inkomst först är positiv. Ju mer pengar, desto gladare blir man.\n",
    "\n",
    "Koefficienten på den kvadrerade variabeln är negativ. Det betyder att den positiva effekten av pengar kommer minska med tiden - kanske blir den till och med negativ någonstans på skalan. Precis som man kunde ana!\n",
    "\n",
    "Koefficienten för den kvadrerade variabeln är alltså vad som händer sen, längre upp på skalan. Den har inte alltid motsatt tecken som den vanliga variabeln. Hade den varit positiv hade det i det här fallet betytt att man blir gladare och gladare ju mer pengar man får. Effekten blir större och större.\n",
    "\n",
    "Har man två negativa koefficienter betyder det på motsvarande sätt att man har en negativ effekt, som blir mer och mer negativ längre upp på skalan.\n",
    "\n",
    "## Räkna ut hur lycklig en person är\n",
    "\n",
    "Hur lyckliga är personer med olika inkomst? Regressionsekvationen för att gissa vad en persons lyckonivå blir som följer:<br>\n",
    "happy_new = 1,815863 + 0,1466397 * inc_10000 -0,0081405 * inc_10000_sq\n",
    "\n",
    "Det är alltså interceptet plus koefficienterna för variablerna, gånger variabelvärdena. En person vars hushåll tjänar 10000 dollar får värdet 1 på variabeln \"inc_10000\", och också värdet 1 på variabeln \"inc_10000_sq\", eftersom 1 gånger 1 fortfarande är 1. Om vi ska gissa hur lycklig den personen är blir det\n",
    "\n",
    "happy_new = 1,815863 + 0,1466397 * 1 - 0,0081405 * 1\n",
    "\n",
    "Vilket ger värdet 1,95.\n",
    "\n",
    "En person vars hushåll tjänar 100000 dollar om året har istället värdet 10 på inc_10000, och värdet 100 på variabeln inc_10000_sq. Ekvationen blir då:\n",
    "\n",
    "happy_new = 1,815863 + 0,1466397 * 10 - 0,0081405 * 100\n",
    "\n",
    "Vilket ger värdet 2,47. Den som tjänar mer är alltså gladare.\n",
    "\n",
    "## Räkna ut vändpunkten ##\n",
    "Men hur mycket pengar är tillräckligt? Det är lite mer komplicerat att räkna ut (men inte jättekomplicerat). **Den som inte är intresserad av att veta exakt kan hoppa över detta avsnitt. Det går att se ungefärligt med hjälp av grafer.**\n",
    "\n",
    "Vi får fram vändpunkten genom att räkna ut [*derivatan*](https://sv.wikipedia.org/wiki/Derivata) på vår regressionsfunktion. Derivatan är ett ord för lutningen på linjen vid en viss punkt. För en rät linje är derivatan samma över hela linjen; lutningen är densamma hela tiden.\n",
    "\n",
    "För vår böjda funktion blir derivatan annorlunda. Kurvan kommer luta brant uppåt i början, och sen bli plattare och plattare, och sedan kanske till och med vända nedåt. Det betyder att derivatan först är hög, och sedan blir lägre och lägre.\n",
    "\n",
    "Funktionen vi vill ta derivatan av är följande:\n",
    "\n",
    "happy_new = 1,815863 + 0,1466397 * inc_10000 - 0,0081405 * inc_10000_sq\n",
    "\n",
    "Jag tänker här inte gå in i detalj på principen för hur man tar derivatan av ett uttryck ([men kolla gärna in denna sida för den generella principen)](https://eddler.se/lektioner/deriveringsregler-potensfunktioner/), utan bara ge en mall att följa för kvadratiska funktioner av den här typen.\n",
    "\n",
    "1. Först tar vi bort alla delar som inte innehåller variabeln vi är intresserade av, alltså inc_10000. I det här fallet innebär det att vi tar bort konstanten.\n",
    "2. Koefficienten för den vanliga variabeln låter vi vara som den är, men vi tar bort själva variabeln inc_10000.\n",
    "3. Koefficienten för den kvadrerade variabeln multiplicerar vi med två, och så byter vi ut inc_10000_sq mot den vanliga inc_10000.\n",
    "\n",
    "Ekvationen för att räkna ut derivatan blir alltså:\n",
    "\n",
    "derivatan av inc_10000 = 0,1466397 - 0,016281 * inc_10000\n",
    "\n",
    "Derivatan är lutningen på kurvan vid varje punkt. Vi kan tolka det som effekten av ytterligare pengar, vid just den punkter. Vad är till exempel lutningen när man tjänar 10000 dollar om året, och inc_10000 är 1? Lutningen är 0,146639 - 0,0081405 * 1 = 0,1384985.\n",
    "\n",
    "**Nu sätter vi derivatan till noll**, och löser ekvationen för att se vid vilket värde av inc_10000 som derivatan är noll, alltså den punkt där effekten av pengar slutar att vara positiv. Det här är högstadiematte, och målet är att få inc_10000 ensamt på ena sidan.\n",
    "\n",
    "0 = 0,1466397 - 0,016281 * inc_10000\n",
    "\n",
    "Först lägger vi till 0,016281 * inc_10000 på båda sidor:\n",
    "\n",
    "0,016281 * inc_10000 = 0,1466397\n",
    "\n",
    "Därefter dividerar vi båda sidor med 0,016281:\n",
    "\n",
    "inc_10000 = 9,0068\n",
    "\n",
    "Voila! Först när inc_10000 är 9 - alltså när hushållet tjänar 90000 dollar om året - slutar pengar att vara positivt för lyckan. Pengar kan alltså köpa en hel del lycka.\n",
    "\n",
    "## Visa kurvlinjära samband i grafer\n",
    "\n",
    "Det enklaste sättet att förstå kurvlinjära samband är dock genom grafer. I det här fallet är scatterplots dock inte särskilt informativa, eftersom det bara finns tre värden på den beroende variabeln. Vi kan därför börja med att göra en graf som drar en linje som försöker passa sig så bra som möjligt till punkterna, och kan svänga nästan hur som helst. Funktionen kallas \"local polynomial smoothing\". Vi gör det med hjälp av `twoway`-kommandot. I en parentes skriver vi `lpoly` följt av variabeln vi vill ha på y-axeln, och därefter variabeln vi vill ha på x-axeln:"
   ]
  },
  {
   "cell_type": "code",
   "execution_count": 48,
   "metadata": {},
   "outputs": [
    {
     "data": {
      "application/pdf": "[encoded data removed]",
      "image/svg+xml": [
       "<?xml version=\"1.0\" encoding=\"UTF-8\" standalone=\"no\"?>\n",
       "<!-- This is a Stata 16.0 generated SVG file (http://www.stata.com) -->\n",
       "\n",
       "<svg version=\"1.1\" width=\"600px\" height=\"436px\" viewBox=\"0 0 3960 2880\" xmlns=\"http://www.w3.org/2000/svg\" xmlns:xlink=\"http://www.w3.org/1999/xlink\">\n",
       "\t<desc>Stata Graph - Graph</desc>\n",
       "\t<rect x=\"0\" y=\"0\" width=\"3960\" height=\"2880\" style=\"fill:#EAF2F3;stroke:none\"/>\n",
       "\t<rect x=\"0.00\" y=\"0.00\" width=\"3959.88\" height=\"2880.00\" style=\"fill:#EAF2F3\"/>\n",
       "\t<rect x=\"2.88\" y=\"2.88\" width=\"3954.12\" height=\"2874.24\" style=\"fill:none;stroke:#EAF2F3;stroke-width:5.76\"/>\n",
       "\t<rect x=\"390.80\" y=\"100.86\" width=\"3468.22\" height=\"2388.33\" style=\"fill:#FFFFFF\"/>\n",
       "\t<rect x=\"393.68\" y=\"103.74\" width=\"3462.46\" height=\"2382.57\" style=\"fill:none;stroke:#FFFFFF;stroke-width:5.76\"/>\n",
       "\t<line x1=\"390.80\" y1=\"2425.82\" x2=\"3859.02\" y2=\"2425.82\" style=\"stroke:#EAF2F3;stroke-width:8.64\"/>\n",
       "\t<line x1=\"390.80\" y1=\"1996.03\" x2=\"3859.02\" y2=\"1996.03\" style=\"stroke:#EAF2F3;stroke-width:8.64\"/>\n",
       "\t<line x1=\"390.80\" y1=\"1566.23\" x2=\"3859.02\" y2=\"1566.23\" style=\"stroke:#EAF2F3;stroke-width:8.64\"/>\n",
       "\t<line x1=\"390.80\" y1=\"1136.43\" x2=\"3859.02\" y2=\"1136.43\" style=\"stroke:#EAF2F3;stroke-width:8.64\"/>\n",
       "\t<line x1=\"390.80\" y1=\"706.63\" x2=\"3859.02\" y2=\"706.63\" style=\"stroke:#EAF2F3;stroke-width:8.64\"/>\n",
       "\t<line x1=\"390.80\" y1=\"276.84\" x2=\"3859.02\" y2=\"276.84\" style=\"stroke:#EAF2F3;stroke-width:8.64\"/>\n",
       "\t<path d=\" M459.24 2387.83 L519.01 2307.89 L578.78 2225.59 L638.55 2150.84 L698.32 2062.98 L758.09 1957.29 L817.86 1863.61 L877.63 1742.58 L937.41 1612.64 L997.18 1485.05 L1056.83 1334.56 L1116.60 1199.17 L1176.37 1083.71 L1236.14 995.35 L1295.91 915.04 L1355.68 851.55 L1415.45 788.31 L1475.22 756.01 L1534.99 730.52 L1594.77 729.41 L1654.41 722.10 L1714.18 699.33 L1773.96 672.11 L1833.73 647.60 L1893.50 627.43 L1953.27 600.08 L2013.04 575.70 L2072.81 560.73 L2132.58 539.57 L2192.23 503.31 L2252.00 468.78 L2311.77 411.48 L2371.55 287.60 L2431.32 164.22 L2491.09 164.22 L2550.86 164.22 L2909.36 449.97 L2969.13 449.97 L3028.91 449.97 L3088.68 449.97 L3148.45 449.97 L3208.22 449.97 L3267.99 449.97 L3327.76 449.97 L3387.41 449.97\" stroke-linejoin=\"round\" style=\"fill:none;stroke:#1A476F;stroke-width:8.64\"/>\n",
       "\t<line x1=\"390.80\" y1=\"2489.19\" x2=\"390.80\" y2=\"100.86\" style=\"stroke:#000000;stroke-width:5.76\"/>\n",
       "\t<line x1=\"390.80\" y1=\"2425.82\" x2=\"350.83\" y2=\"2425.82\" style=\"stroke:#000000;stroke-width:5.76\"/>\n",
       "\t<text x=\"300.72\" y=\"2425.82\" style=\"font-family:'Helvetica';font-size:99.99px;fill:#000000\" transform=\"rotate(-90 300.72,2425.82)\" text-anchor=\"middle\">1.9</text>\n",
       "\t<line x1=\"390.80\" y1=\"1996.03\" x2=\"350.83\" y2=\"1996.03\" style=\"stroke:#000000;stroke-width:5.76\"/>\n",
       "\t<text x=\"300.72\" y=\"1996.03\" style=\"font-family:'Helvetica';font-size:99.99px;fill:#000000\" transform=\"rotate(-90 300.72,1996.03)\" text-anchor=\"middle\">2</text>\n",
       "\t<line x1=\"390.80\" y1=\"1566.23\" x2=\"350.83\" y2=\"1566.23\" style=\"stroke:#000000;stroke-width:5.76\"/>\n",
       "\t<text x=\"300.72\" y=\"1566.23\" style=\"font-family:'Helvetica';font-size:99.99px;fill:#000000\" transform=\"rotate(-90 300.72,1566.23)\" text-anchor=\"middle\">2.1</text>\n",
       "\t<line x1=\"390.80\" y1=\"1136.43\" x2=\"350.83\" y2=\"1136.43\" style=\"stroke:#000000;stroke-width:5.76\"/>\n",
       "\t<text x=\"300.72\" y=\"1136.43\" style=\"font-family:'Helvetica';font-size:99.99px;fill:#000000\" transform=\"rotate(-90 300.72,1136.43)\" text-anchor=\"middle\">2.2</text>\n",
       "\t<line x1=\"390.80\" y1=\"706.63\" x2=\"350.83\" y2=\"706.63\" style=\"stroke:#000000;stroke-width:5.76\"/>\n",
       "\t<text x=\"300.72\" y=\"706.63\" style=\"font-family:'Helvetica';font-size:99.99px;fill:#000000\" transform=\"rotate(-90 300.72,706.63)\" text-anchor=\"middle\">2.3</text>\n",
       "\t<line x1=\"390.80\" y1=\"276.84\" x2=\"350.83\" y2=\"276.84\" style=\"stroke:#000000;stroke-width:5.76\"/>\n",
       "\t<text x=\"300.72\" y=\"276.84\" style=\"font-family:'Helvetica';font-size:99.99px;fill:#000000\" transform=\"rotate(-90 300.72,276.84)\" text-anchor=\"middle\">2.4</text>\n",
       "\t<text x=\"190.71\" y=\"1294.96\" style=\"font-family:'Helvetica';font-size:99.99px;fill:#000000\" transform=\"rotate(-90 190.71,1294.96)\" text-anchor=\"middle\">lpoly smooth: happy_new</text>\n",
       "\t<line x1=\"390.80\" y1=\"2489.19\" x2=\"3859.02\" y2=\"2489.19\" style=\"stroke:#000000;stroke-width:5.76\"/>\n",
       "\t<line x1=\"454.16\" y1=\"2489.19\" x2=\"454.16\" y2=\"2529.16\" style=\"stroke:#000000;stroke-width:5.76\"/>\n",
       "\t<text x=\"454.16\" y=\"2619.14\" style=\"font-family:'Helvetica';font-size:99.99px;fill:#000000\" text-anchor=\"middle\">0</text>\n",
       "\t<line x1=\"1568.04\" y1=\"2489.19\" x2=\"1568.04\" y2=\"2529.16\" style=\"stroke:#000000;stroke-width:5.76\"/>\n",
       "\t<text x=\"1568.04\" y=\"2619.14\" style=\"font-family:'Helvetica';font-size:99.99px;fill:#000000\" text-anchor=\"middle\">5</text>\n",
       "\t<line x1=\"2681.91\" y1=\"2489.19\" x2=\"2681.91\" y2=\"2529.16\" style=\"stroke:#000000;stroke-width:5.76\"/>\n",
       "\t<text x=\"2681.91\" y=\"2619.14\" style=\"font-family:'Helvetica';font-size:99.99px;fill:#000000\" text-anchor=\"middle\">10</text>\n",
       "\t<line x1=\"3795.66\" y1=\"2489.19\" x2=\"3795.66\" y2=\"2529.16\" style=\"stroke:#000000;stroke-width:5.76\"/>\n",
       "\t<text x=\"3795.66\" y=\"2619.14\" style=\"font-family:'Helvetica';font-size:99.99px;fill:#000000\" text-anchor=\"middle\">15</text>\n",
       "\t<text x=\"2124.91\" y=\"2729.16\" style=\"font-family:'Helvetica';font-size:99.99px;fill:#000000\" text-anchor=\"middle\">lpoly smoothing grid</text>\n",
       "</svg>\n"
      ],
      "text/html": [
       "                <iframe frameborder=\"0\" scrolling=\"no\" height=\"436\" width=\"600\"                srcdoc=\"<html><body>&lt;?xml version=&quot;1.0&quot; encoding=&quot;UTF-8&quot; standalone=&quot;no&quot;?&gt;\n",
       "&lt;!-- This is a Stata 16.0 generated SVG file (http://www.stata.com) --&gt;\n",
       "\n",
       "&lt;svg version=&quot;1.1&quot; width=&quot;600px&quot; height=&quot;436px&quot; viewBox=&quot;0 0 3960 2880&quot; xmlns=&quot;http://www.w3.org/2000/svg&quot; xmlns:xlink=&quot;http://www.w3.org/1999/xlink&quot;&gt;\n",
       "\t&lt;desc&gt;Stata Graph - Graph&lt;/desc&gt;\n",
       "\t&lt;rect x=&quot;0&quot; y=&quot;0&quot; width=&quot;3960&quot; height=&quot;2880&quot; style=&quot;fill:#EAF2F3;stroke:none&quot;/&gt;\n",
       "\t&lt;rect x=&quot;0.00&quot; y=&quot;0.00&quot; width=&quot;3959.88&quot; height=&quot;2880.00&quot; style=&quot;fill:#EAF2F3&quot;/&gt;\n",
       "\t&lt;rect x=&quot;2.88&quot; y=&quot;2.88&quot; width=&quot;3954.12&quot; height=&quot;2874.24&quot; style=&quot;fill:none;stroke:#EAF2F3;stroke-width:5.76&quot;/&gt;\n",
       "\t&lt;rect x=&quot;390.80&quot; y=&quot;100.86&quot; width=&quot;3468.22&quot; height=&quot;2388.33&quot; style=&quot;fill:#FFFFFF&quot;/&gt;\n",
       "\t&lt;rect x=&quot;393.68&quot; y=&quot;103.74&quot; width=&quot;3462.46&quot; height=&quot;2382.57&quot; style=&quot;fill:none;stroke:#FFFFFF;stroke-width:5.76&quot;/&gt;\n",
       "\t&lt;line x1=&quot;390.80&quot; y1=&quot;2425.82&quot; x2=&quot;3859.02&quot; y2=&quot;2425.82&quot; style=&quot;stroke:#EAF2F3;stroke-width:8.64&quot;/&gt;\n",
       "\t&lt;line x1=&quot;390.80&quot; y1=&quot;1996.03&quot; x2=&quot;3859.02&quot; y2=&quot;1996.03&quot; style=&quot;stroke:#EAF2F3;stroke-width:8.64&quot;/&gt;\n",
       "\t&lt;line x1=&quot;390.80&quot; y1=&quot;1566.23&quot; x2=&quot;3859.02&quot; y2=&quot;1566.23&quot; style=&quot;stroke:#EAF2F3;stroke-width:8.64&quot;/&gt;\n",
       "\t&lt;line x1=&quot;390.80&quot; y1=&quot;1136.43&quot; x2=&quot;3859.02&quot; y2=&quot;1136.43&quot; style=&quot;stroke:#EAF2F3;stroke-width:8.64&quot;/&gt;\n",
       "\t&lt;line x1=&quot;390.80&quot; y1=&quot;706.63&quot; x2=&quot;3859.02&quot; y2=&quot;706.63&quot; style=&quot;stroke:#EAF2F3;stroke-width:8.64&quot;/&gt;\n",
       "\t&lt;line x1=&quot;390.80&quot; y1=&quot;276.84&quot; x2=&quot;3859.02&quot; y2=&quot;276.84&quot; style=&quot;stroke:#EAF2F3;stroke-width:8.64&quot;/&gt;\n",
       "\t&lt;path d=&quot; M459.24 2387.83 L519.01 2307.89 L578.78 2225.59 L638.55 2150.84 L698.32 2062.98 L758.09 1957.29 L817.86 1863.61 L877.63 1742.58 L937.41 1612.64 L997.18 1485.05 L1056.83 1334.56 L1116.60 1199.17 L1176.37 1083.71 L1236.14 995.35 L1295.91 915.04 L1355.68 851.55 L1415.45 788.31 L1475.22 756.01 L1534.99 730.52 L1594.77 729.41 L1654.41 722.10 L1714.18 699.33 L1773.96 672.11 L1833.73 647.60 L1893.50 627.43 L1953.27 600.08 L2013.04 575.70 L2072.81 560.73 L2132.58 539.57 L2192.23 503.31 L2252.00 468.78 L2311.77 411.48 L2371.55 287.60 L2431.32 164.22 L2491.09 164.22 L2550.86 164.22 L2909.36 449.97 L2969.13 449.97 L3028.91 449.97 L3088.68 449.97 L3148.45 449.97 L3208.22 449.97 L3267.99 449.97 L3327.76 449.97 L3387.41 449.97&quot; stroke-linejoin=&quot;round&quot; style=&quot;fill:none;stroke:#1A476F;stroke-width:8.64&quot;/&gt;\n",
       "\t&lt;line x1=&quot;390.80&quot; y1=&quot;2489.19&quot; x2=&quot;390.80&quot; y2=&quot;100.86&quot; style=&quot;stroke:#000000;stroke-width:5.76&quot;/&gt;\n",
       "\t&lt;line x1=&quot;390.80&quot; y1=&quot;2425.82&quot; x2=&quot;350.83&quot; y2=&quot;2425.82&quot; style=&quot;stroke:#000000;stroke-width:5.76&quot;/&gt;\n",
       "\t&lt;text x=&quot;300.72&quot; y=&quot;2425.82&quot; style=&quot;font-family:&#x27;Helvetica&#x27;;font-size:99.99px;fill:#000000&quot; transform=&quot;rotate(-90 300.72,2425.82)&quot; text-anchor=&quot;middle&quot;&gt;1.9&lt;/text&gt;\n",
       "\t&lt;line x1=&quot;390.80&quot; y1=&quot;1996.03&quot; x2=&quot;350.83&quot; y2=&quot;1996.03&quot; style=&quot;stroke:#000000;stroke-width:5.76&quot;/&gt;\n",
       "\t&lt;text x=&quot;300.72&quot; y=&quot;1996.03&quot; style=&quot;font-family:&#x27;Helvetica&#x27;;font-size:99.99px;fill:#000000&quot; transform=&quot;rotate(-90 300.72,1996.03)&quot; text-anchor=&quot;middle&quot;&gt;2&lt;/text&gt;\n",
       "\t&lt;line x1=&quot;390.80&quot; y1=&quot;1566.23&quot; x2=&quot;350.83&quot; y2=&quot;1566.23&quot; style=&quot;stroke:#000000;stroke-width:5.76&quot;/&gt;\n",
       "\t&lt;text x=&quot;300.72&quot; y=&quot;1566.23&quot; style=&quot;font-family:&#x27;Helvetica&#x27;;font-size:99.99px;fill:#000000&quot; transform=&quot;rotate(-90 300.72,1566.23)&quot; text-anchor=&quot;middle&quot;&gt;2.1&lt;/text&gt;\n",
       "\t&lt;line x1=&quot;390.80&quot; y1=&quot;1136.43&quot; x2=&quot;350.83&quot; y2=&quot;1136.43&quot; style=&quot;stroke:#000000;stroke-width:5.76&quot;/&gt;\n",
       "\t&lt;text x=&quot;300.72&quot; y=&quot;1136.43&quot; style=&quot;font-family:&#x27;Helvetica&#x27;;font-size:99.99px;fill:#000000&quot; transform=&quot;rotate(-90 300.72,1136.43)&quot; text-anchor=&quot;middle&quot;&gt;2.2&lt;/text&gt;\n",
       "\t&lt;line x1=&quot;390.80&quot; y1=&quot;706.63&quot; x2=&quot;350.83&quot; y2=&quot;706.63&quot; style=&quot;stroke:#000000;stroke-width:5.76&quot;/&gt;\n",
       "\t&lt;text x=&quot;300.72&quot; y=&quot;706.63&quot; style=&quot;font-family:&#x27;Helvetica&#x27;;font-size:99.99px;fill:#000000&quot; transform=&quot;rotate(-90 300.72,706.63)&quot; text-anchor=&quot;middle&quot;&gt;2.3&lt;/text&gt;\n",
       "\t&lt;line x1=&quot;390.80&quot; y1=&quot;276.84&quot; x2=&quot;350.83&quot; y2=&quot;276.84&quot; style=&quot;stroke:#000000;stroke-width:5.76&quot;/&gt;\n",
       "\t&lt;text x=&quot;300.72&quot; y=&quot;276.84&quot; style=&quot;font-family:&#x27;Helvetica&#x27;;font-size:99.99px;fill:#000000&quot; transform=&quot;rotate(-90 300.72,276.84)&quot; text-anchor=&quot;middle&quot;&gt;2.4&lt;/text&gt;\n",
       "\t&lt;text x=&quot;190.71&quot; y=&quot;1294.96&quot; style=&quot;font-family:&#x27;Helvetica&#x27;;font-size:99.99px;fill:#000000&quot; transform=&quot;rotate(-90 190.71,1294.96)&quot; text-anchor=&quot;middle&quot;&gt;lpoly smooth: happy_new&lt;/text&gt;\n",
       "\t&lt;line x1=&quot;390.80&quot; y1=&quot;2489.19&quot; x2=&quot;3859.02&quot; y2=&quot;2489.19&quot; style=&quot;stroke:#000000;stroke-width:5.76&quot;/&gt;\n",
       "\t&lt;line x1=&quot;454.16&quot; y1=&quot;2489.19&quot; x2=&quot;454.16&quot; y2=&quot;2529.16&quot; style=&quot;stroke:#000000;stroke-width:5.76&quot;/&gt;\n",
       "\t&lt;text x=&quot;454.16&quot; y=&quot;2619.14&quot; style=&quot;font-family:&#x27;Helvetica&#x27;;font-size:99.99px;fill:#000000&quot; text-anchor=&quot;middle&quot;&gt;0&lt;/text&gt;\n",
       "\t&lt;line x1=&quot;1568.04&quot; y1=&quot;2489.19&quot; x2=&quot;1568.04&quot; y2=&quot;2529.16&quot; style=&quot;stroke:#000000;stroke-width:5.76&quot;/&gt;\n",
       "\t&lt;text x=&quot;1568.04&quot; y=&quot;2619.14&quot; style=&quot;font-family:&#x27;Helvetica&#x27;;font-size:99.99px;fill:#000000&quot; text-anchor=&quot;middle&quot;&gt;5&lt;/text&gt;\n",
       "\t&lt;line x1=&quot;2681.91&quot; y1=&quot;2489.19&quot; x2=&quot;2681.91&quot; y2=&quot;2529.16&quot; style=&quot;stroke:#000000;stroke-width:5.76&quot;/&gt;\n",
       "\t&lt;text x=&quot;2681.91&quot; y=&quot;2619.14&quot; style=&quot;font-family:&#x27;Helvetica&#x27;;font-size:99.99px;fill:#000000&quot; text-anchor=&quot;middle&quot;&gt;10&lt;/text&gt;\n",
       "\t&lt;line x1=&quot;3795.66&quot; y1=&quot;2489.19&quot; x2=&quot;3795.66&quot; y2=&quot;2529.16&quot; style=&quot;stroke:#000000;stroke-width:5.76&quot;/&gt;\n",
       "\t&lt;text x=&quot;3795.66&quot; y=&quot;2619.14&quot; style=&quot;font-family:&#x27;Helvetica&#x27;;font-size:99.99px;fill:#000000&quot; text-anchor=&quot;middle&quot;&gt;15&lt;/text&gt;\n",
       "\t&lt;text x=&quot;2124.91&quot; y=&quot;2729.16&quot; style=&quot;font-family:&#x27;Helvetica&#x27;;font-size:99.99px;fill:#000000&quot; text-anchor=&quot;middle&quot;&gt;lpoly smoothing grid&lt;/text&gt;\n",
       "&lt;/svg&gt;\n",
       "</body></html>\"></iframe>\n"
      ],
      "text/plain": [
       "This front-end cannot display the desired image type."
      ]
     },
     "metadata": {
      "image/svg+xml": {
       "height": 436,
       "width": 600
      },
      "text/html": {
       "height": 436,
       "width": 600
      }
     },
     "output_type": "display_data"
    }
   ],
   "source": [
    "twoway (lpoly happy_new inc_10000)"
   ]
  },
  {
   "cell_type": "markdown",
   "metadata": {},
   "source": [
    "Här har vi mönstret i datan som vi vill beskriva. Vi ser återigen att när vi går till höger (inkomsterna ökar) så ökar också lyckan (högre värden på y-axeln). Men det verkar också plana ut.\n",
    "\n",
    "Nu lägger vi till den räta regressionslinjen i en egen parentes, med kommandot `lfit`. "
   ]
  },
  {
   "cell_type": "code",
   "execution_count": 49,
   "metadata": {},
   "outputs": [
    {
     "data": {
      "application/pdf": "[encoded data removed]",
      "image/svg+xml": [
       "<?xml version=\"1.0\" encoding=\"UTF-8\" standalone=\"no\"?>\n",
       "<!-- This is a Stata 16.0 generated SVG file (http://www.stata.com) -->\n",
       "\n",
       "<svg version=\"1.1\" width=\"600px\" height=\"436px\" viewBox=\"0 0 3960 2880\" xmlns=\"http://www.w3.org/2000/svg\" xmlns:xlink=\"http://www.w3.org/1999/xlink\">\n",
       "\t<desc>Stata Graph - Graph</desc>\n",
       "\t<rect x=\"0\" y=\"0\" width=\"3960\" height=\"2880\" style=\"fill:#EAF2F3;stroke:none\"/>\n",
       "\t<rect x=\"0.00\" y=\"0.00\" width=\"3959.88\" height=\"2880.00\" style=\"fill:#EAF2F3\"/>\n",
       "\t<rect x=\"2.88\" y=\"2.88\" width=\"3954.12\" height=\"2874.24\" style=\"fill:none;stroke:#EAF2F3;stroke-width:5.76\"/>\n",
       "\t<rect x=\"290.81\" y=\"100.86\" width=\"3568.21\" height=\"2232.77\" style=\"fill:#FFFFFF\"/>\n",
       "\t<rect x=\"293.69\" y=\"103.74\" width=\"3562.45\" height=\"2227.01\" style=\"fill:none;stroke:#FFFFFF;stroke-width:5.76\"/>\n",
       "\t<line x1=\"290.81\" y1=\"2270.39\" x2=\"3859.02\" y2=\"2270.39\" style=\"stroke:#EAF2F3;stroke-width:8.64\"/>\n",
       "\t<line x1=\"290.81\" y1=\"1743.82\" x2=\"3859.02\" y2=\"1743.82\" style=\"stroke:#EAF2F3;stroke-width:8.64\"/>\n",
       "\t<line x1=\"290.81\" y1=\"1217.24\" x2=\"3859.02\" y2=\"1217.24\" style=\"stroke:#EAF2F3;stroke-width:8.64\"/>\n",
       "\t<line x1=\"290.81\" y1=\"690.67\" x2=\"3859.02\" y2=\"690.67\" style=\"stroke:#EAF2F3;stroke-width:8.64\"/>\n",
       "\t<line x1=\"290.81\" y1=\"164.22\" x2=\"3859.02\" y2=\"164.22\" style=\"stroke:#EAF2F3;stroke-width:8.64\"/>\n",
       "\t<path d=\" M359.49 1983.77 L421.00 1934.77 L482.50 1884.40 L544.13 1838.61 L605.63 1784.78 L667.14 1720.06 L728.76 1662.63 L790.27 1588.50 L851.77 1508.93 L913.40 1430.84 L974.90 1338.65 L1036.41 1255.73 L1098.03 1184.94 L1159.54 1130.86 L1221.16 1081.61 L1282.67 1042.75 L1344.17 1004.02 L1405.80 984.21 L1467.30 968.62 L1528.81 967.88 L1590.43 963.42 L1651.94 949.44 L1713.44 932.86 L1775.07 917.88 L1836.57 905.38 L1898.08 888.68 L1959.70 873.83 L2021.21 864.67 L2082.71 851.67 L2144.34 829.40 L2205.84 808.24 L2267.35 773.09 L2328.97 697.23 L2390.48 621.74 L2452.11 621.74 L2513.61 621.74 L2882.88 796.73 L2944.38 796.73 L3006.01 796.73 L3067.51 796.73 L3129.02 796.73 L3190.65 796.73 L3252.15 796.73 L3313.65 796.73 L3375.28 796.73\" stroke-linejoin=\"round\" style=\"fill:none;stroke:#1A476F;stroke-width:8.64\"/>\n",
       "\t<path d=\" M359.49 1790.84 L1867.39 1017.50 L3375.28 244.17\" stroke-linejoin=\"round\" style=\"fill:none;stroke:#90353B;stroke-width:8.64\"/>\n",
       "\t<line x1=\"290.81\" y1=\"2333.63\" x2=\"290.81\" y2=\"100.86\" style=\"stroke:#000000;stroke-width:5.76\"/>\n",
       "\t<line x1=\"290.81\" y1=\"2270.39\" x2=\"250.84\" y2=\"2270.39\" style=\"stroke:#000000;stroke-width:5.76\"/>\n",
       "\t<text x=\"200.73\" y=\"2270.39\" style=\"font-family:'Helvetica';font-size:99.99px;fill:#000000\" transform=\"rotate(-90 200.73,2270.39)\" text-anchor=\"middle\">1.8</text>\n",
       "\t<line x1=\"290.81\" y1=\"1743.82\" x2=\"250.84\" y2=\"1743.82\" style=\"stroke:#000000;stroke-width:5.76\"/>\n",
       "\t<text x=\"200.73\" y=\"1743.82\" style=\"font-family:'Helvetica';font-size:99.99px;fill:#000000\" transform=\"rotate(-90 200.73,1743.82)\" text-anchor=\"middle\">2</text>\n",
       "\t<line x1=\"290.81\" y1=\"1217.24\" x2=\"250.84\" y2=\"1217.24\" style=\"stroke:#000000;stroke-width:5.76\"/>\n",
       "\t<text x=\"200.73\" y=\"1217.24\" style=\"font-family:'Helvetica';font-size:99.99px;fill:#000000\" transform=\"rotate(-90 200.73,1217.24)\" text-anchor=\"middle\">2.2</text>\n",
       "\t<line x1=\"290.81\" y1=\"690.67\" x2=\"250.84\" y2=\"690.67\" style=\"stroke:#000000;stroke-width:5.76\"/>\n",
       "\t<text x=\"200.73\" y=\"690.67\" style=\"font-family:'Helvetica';font-size:99.99px;fill:#000000\" transform=\"rotate(-90 200.73,690.67)\" text-anchor=\"middle\">2.4</text>\n",
       "\t<line x1=\"290.81\" y1=\"164.22\" x2=\"250.84\" y2=\"164.22\" style=\"stroke:#000000;stroke-width:5.76\"/>\n",
       "\t<text x=\"200.73\" y=\"164.22\" style=\"font-family:'Helvetica';font-size:99.99px;fill:#000000\" transform=\"rotate(-90 200.73,164.22)\" text-anchor=\"middle\">2.6</text>\n",
       "\t<line x1=\"290.81\" y1=\"2333.63\" x2=\"3859.02\" y2=\"2333.63\" style=\"stroke:#000000;stroke-width:5.76\"/>\n",
       "\t<line x1=\"354.17\" y1=\"2333.63\" x2=\"354.17\" y2=\"2373.72\" style=\"stroke:#000000;stroke-width:5.76\"/>\n",
       "\t<text x=\"354.17\" y=\"2463.58\" style=\"font-family:'Helvetica';font-size:99.99px;fill:#000000\" text-anchor=\"middle\">0</text>\n",
       "\t<line x1=\"1501.34\" y1=\"2333.63\" x2=\"1501.34\" y2=\"2373.72\" style=\"stroke:#000000;stroke-width:5.76\"/>\n",
       "\t<text x=\"1501.34\" y=\"2463.58\" style=\"font-family:'Helvetica';font-size:99.99px;fill:#000000\" text-anchor=\"middle\">5</text>\n",
       "\t<line x1=\"2648.50\" y1=\"2333.63\" x2=\"2648.50\" y2=\"2373.72\" style=\"stroke:#000000;stroke-width:5.76\"/>\n",
       "\t<text x=\"2648.50\" y=\"2463.58\" style=\"font-family:'Helvetica';font-size:99.99px;fill:#000000\" text-anchor=\"middle\">10</text>\n",
       "\t<line x1=\"3795.66\" y1=\"2333.63\" x2=\"3795.66\" y2=\"2373.72\" style=\"stroke:#000000;stroke-width:5.76\"/>\n",
       "\t<text x=\"3795.66\" y=\"2463.58\" style=\"font-family:'Helvetica';font-size:99.99px;fill:#000000\" text-anchor=\"middle\">15</text>\n",
       "\t<rect x=\"653.28\" y=\"2558.24\" width=\"2843.28\" height=\"186.37\" style=\"fill:#FFFFFF\"/>\n",
       "\t<rect x=\"656.16\" y=\"2561.12\" width=\"2837.52\" height=\"180.61\" style=\"fill:none;stroke:#000000;stroke-width:5.76\"/>\n",
       "\t<line x1=\"696.47\" y1=\"2651.43\" x2=\"1070.81\" y2=\"2651.43\" style=\"stroke:#1A476F;stroke-width:8.64\"/>\n",
       "\t<line x1=\"2433.17\" y1=\"2651.43\" x2=\"2807.52\" y2=\"2651.43\" style=\"stroke:#90353B;stroke-width:8.64\"/>\n",
       "\t<text x=\"1130.83\" y=\"2686.46\" style=\"font-family:'Helvetica';font-size:99.99px;fill:#000000\">lpoly smooth: happy_new</text>\n",
       "\t<text x=\"2867.53\" y=\"2686.46\" style=\"font-family:'Helvetica';font-size:99.99px;fill:#000000\">Fitted values</text>\n",
       "</svg>\n"
      ],
      "text/html": [
       "                <iframe frameborder=\"0\" scrolling=\"no\" height=\"436\" width=\"600\"                srcdoc=\"<html><body>&lt;?xml version=&quot;1.0&quot; encoding=&quot;UTF-8&quot; standalone=&quot;no&quot;?&gt;\n",
       "&lt;!-- This is a Stata 16.0 generated SVG file (http://www.stata.com) --&gt;\n",
       "\n",
       "&lt;svg version=&quot;1.1&quot; width=&quot;600px&quot; height=&quot;436px&quot; viewBox=&quot;0 0 3960 2880&quot; xmlns=&quot;http://www.w3.org/2000/svg&quot; xmlns:xlink=&quot;http://www.w3.org/1999/xlink&quot;&gt;\n",
       "\t&lt;desc&gt;Stata Graph - Graph&lt;/desc&gt;\n",
       "\t&lt;rect x=&quot;0&quot; y=&quot;0&quot; width=&quot;3960&quot; height=&quot;2880&quot; style=&quot;fill:#EAF2F3;stroke:none&quot;/&gt;\n",
       "\t&lt;rect x=&quot;0.00&quot; y=&quot;0.00&quot; width=&quot;3959.88&quot; height=&quot;2880.00&quot; style=&quot;fill:#EAF2F3&quot;/&gt;\n",
       "\t&lt;rect x=&quot;2.88&quot; y=&quot;2.88&quot; width=&quot;3954.12&quot; height=&quot;2874.24&quot; style=&quot;fill:none;stroke:#EAF2F3;stroke-width:5.76&quot;/&gt;\n",
       "\t&lt;rect x=&quot;290.81&quot; y=&quot;100.86&quot; width=&quot;3568.21&quot; height=&quot;2232.77&quot; style=&quot;fill:#FFFFFF&quot;/&gt;\n",
       "\t&lt;rect x=&quot;293.69&quot; y=&quot;103.74&quot; width=&quot;3562.45&quot; height=&quot;2227.01&quot; style=&quot;fill:none;stroke:#FFFFFF;stroke-width:5.76&quot;/&gt;\n",
       "\t&lt;line x1=&quot;290.81&quot; y1=&quot;2270.39&quot; x2=&quot;3859.02&quot; y2=&quot;2270.39&quot; style=&quot;stroke:#EAF2F3;stroke-width:8.64&quot;/&gt;\n",
       "\t&lt;line x1=&quot;290.81&quot; y1=&quot;1743.82&quot; x2=&quot;3859.02&quot; y2=&quot;1743.82&quot; style=&quot;stroke:#EAF2F3;stroke-width:8.64&quot;/&gt;\n",
       "\t&lt;line x1=&quot;290.81&quot; y1=&quot;1217.24&quot; x2=&quot;3859.02&quot; y2=&quot;1217.24&quot; style=&quot;stroke:#EAF2F3;stroke-width:8.64&quot;/&gt;\n",
       "\t&lt;line x1=&quot;290.81&quot; y1=&quot;690.67&quot; x2=&quot;3859.02&quot; y2=&quot;690.67&quot; style=&quot;stroke:#EAF2F3;stroke-width:8.64&quot;/&gt;\n",
       "\t&lt;line x1=&quot;290.81&quot; y1=&quot;164.22&quot; x2=&quot;3859.02&quot; y2=&quot;164.22&quot; style=&quot;stroke:#EAF2F3;stroke-width:8.64&quot;/&gt;\n",
       "\t&lt;path d=&quot; M359.49 1983.77 L421.00 1934.77 L482.50 1884.40 L544.13 1838.61 L605.63 1784.78 L667.14 1720.06 L728.76 1662.63 L790.27 1588.50 L851.77 1508.93 L913.40 1430.84 L974.90 1338.65 L1036.41 1255.73 L1098.03 1184.94 L1159.54 1130.86 L1221.16 1081.61 L1282.67 1042.75 L1344.17 1004.02 L1405.80 984.21 L1467.30 968.62 L1528.81 967.88 L1590.43 963.42 L1651.94 949.44 L1713.44 932.86 L1775.07 917.88 L1836.57 905.38 L1898.08 888.68 L1959.70 873.83 L2021.21 864.67 L2082.71 851.67 L2144.34 829.40 L2205.84 808.24 L2267.35 773.09 L2328.97 697.23 L2390.48 621.74 L2452.11 621.74 L2513.61 621.74 L2882.88 796.73 L2944.38 796.73 L3006.01 796.73 L3067.51 796.73 L3129.02 796.73 L3190.65 796.73 L3252.15 796.73 L3313.65 796.73 L3375.28 796.73&quot; stroke-linejoin=&quot;round&quot; style=&quot;fill:none;stroke:#1A476F;stroke-width:8.64&quot;/&gt;\n",
       "\t&lt;path d=&quot; M359.49 1790.84 L1867.39 1017.50 L3375.28 244.17&quot; stroke-linejoin=&quot;round&quot; style=&quot;fill:none;stroke:#90353B;stroke-width:8.64&quot;/&gt;\n",
       "\t&lt;line x1=&quot;290.81&quot; y1=&quot;2333.63&quot; x2=&quot;290.81&quot; y2=&quot;100.86&quot; style=&quot;stroke:#000000;stroke-width:5.76&quot;/&gt;\n",
       "\t&lt;line x1=&quot;290.81&quot; y1=&quot;2270.39&quot; x2=&quot;250.84&quot; y2=&quot;2270.39&quot; style=&quot;stroke:#000000;stroke-width:5.76&quot;/&gt;\n",
       "\t&lt;text x=&quot;200.73&quot; y=&quot;2270.39&quot; style=&quot;font-family:&#x27;Helvetica&#x27;;font-size:99.99px;fill:#000000&quot; transform=&quot;rotate(-90 200.73,2270.39)&quot; text-anchor=&quot;middle&quot;&gt;1.8&lt;/text&gt;\n",
       "\t&lt;line x1=&quot;290.81&quot; y1=&quot;1743.82&quot; x2=&quot;250.84&quot; y2=&quot;1743.82&quot; style=&quot;stroke:#000000;stroke-width:5.76&quot;/&gt;\n",
       "\t&lt;text x=&quot;200.73&quot; y=&quot;1743.82&quot; style=&quot;font-family:&#x27;Helvetica&#x27;;font-size:99.99px;fill:#000000&quot; transform=&quot;rotate(-90 200.73,1743.82)&quot; text-anchor=&quot;middle&quot;&gt;2&lt;/text&gt;\n",
       "\t&lt;line x1=&quot;290.81&quot; y1=&quot;1217.24&quot; x2=&quot;250.84&quot; y2=&quot;1217.24&quot; style=&quot;stroke:#000000;stroke-width:5.76&quot;/&gt;\n",
       "\t&lt;text x=&quot;200.73&quot; y=&quot;1217.24&quot; style=&quot;font-family:&#x27;Helvetica&#x27;;font-size:99.99px;fill:#000000&quot; transform=&quot;rotate(-90 200.73,1217.24)&quot; text-anchor=&quot;middle&quot;&gt;2.2&lt;/text&gt;\n",
       "\t&lt;line x1=&quot;290.81&quot; y1=&quot;690.67&quot; x2=&quot;250.84&quot; y2=&quot;690.67&quot; style=&quot;stroke:#000000;stroke-width:5.76&quot;/&gt;\n",
       "\t&lt;text x=&quot;200.73&quot; y=&quot;690.67&quot; style=&quot;font-family:&#x27;Helvetica&#x27;;font-size:99.99px;fill:#000000&quot; transform=&quot;rotate(-90 200.73,690.67)&quot; text-anchor=&quot;middle&quot;&gt;2.4&lt;/text&gt;\n",
       "\t&lt;line x1=&quot;290.81&quot; y1=&quot;164.22&quot; x2=&quot;250.84&quot; y2=&quot;164.22&quot; style=&quot;stroke:#000000;stroke-width:5.76&quot;/&gt;\n",
       "\t&lt;text x=&quot;200.73&quot; y=&quot;164.22&quot; style=&quot;font-family:&#x27;Helvetica&#x27;;font-size:99.99px;fill:#000000&quot; transform=&quot;rotate(-90 200.73,164.22)&quot; text-anchor=&quot;middle&quot;&gt;2.6&lt;/text&gt;\n",
       "\t&lt;line x1=&quot;290.81&quot; y1=&quot;2333.63&quot; x2=&quot;3859.02&quot; y2=&quot;2333.63&quot; style=&quot;stroke:#000000;stroke-width:5.76&quot;/&gt;\n",
       "\t&lt;line x1=&quot;354.17&quot; y1=&quot;2333.63&quot; x2=&quot;354.17&quot; y2=&quot;2373.72&quot; style=&quot;stroke:#000000;stroke-width:5.76&quot;/&gt;\n",
       "\t&lt;text x=&quot;354.17&quot; y=&quot;2463.58&quot; style=&quot;font-family:&#x27;Helvetica&#x27;;font-size:99.99px;fill:#000000&quot; text-anchor=&quot;middle&quot;&gt;0&lt;/text&gt;\n",
       "\t&lt;line x1=&quot;1501.34&quot; y1=&quot;2333.63&quot; x2=&quot;1501.34&quot; y2=&quot;2373.72&quot; style=&quot;stroke:#000000;stroke-width:5.76&quot;/&gt;\n",
       "\t&lt;text x=&quot;1501.34&quot; y=&quot;2463.58&quot; style=&quot;font-family:&#x27;Helvetica&#x27;;font-size:99.99px;fill:#000000&quot; text-anchor=&quot;middle&quot;&gt;5&lt;/text&gt;\n",
       "\t&lt;line x1=&quot;2648.50&quot; y1=&quot;2333.63&quot; x2=&quot;2648.50&quot; y2=&quot;2373.72&quot; style=&quot;stroke:#000000;stroke-width:5.76&quot;/&gt;\n",
       "\t&lt;text x=&quot;2648.50&quot; y=&quot;2463.58&quot; style=&quot;font-family:&#x27;Helvetica&#x27;;font-size:99.99px;fill:#000000&quot; text-anchor=&quot;middle&quot;&gt;10&lt;/text&gt;\n",
       "\t&lt;line x1=&quot;3795.66&quot; y1=&quot;2333.63&quot; x2=&quot;3795.66&quot; y2=&quot;2373.72&quot; style=&quot;stroke:#000000;stroke-width:5.76&quot;/&gt;\n",
       "\t&lt;text x=&quot;3795.66&quot; y=&quot;2463.58&quot; style=&quot;font-family:&#x27;Helvetica&#x27;;font-size:99.99px;fill:#000000&quot; text-anchor=&quot;middle&quot;&gt;15&lt;/text&gt;\n",
       "\t&lt;rect x=&quot;653.28&quot; y=&quot;2558.24&quot; width=&quot;2843.28&quot; height=&quot;186.37&quot; style=&quot;fill:#FFFFFF&quot;/&gt;\n",
       "\t&lt;rect x=&quot;656.16&quot; y=&quot;2561.12&quot; width=&quot;2837.52&quot; height=&quot;180.61&quot; style=&quot;fill:none;stroke:#000000;stroke-width:5.76&quot;/&gt;\n",
       "\t&lt;line x1=&quot;696.47&quot; y1=&quot;2651.43&quot; x2=&quot;1070.81&quot; y2=&quot;2651.43&quot; style=&quot;stroke:#1A476F;stroke-width:8.64&quot;/&gt;\n",
       "\t&lt;line x1=&quot;2433.17&quot; y1=&quot;2651.43&quot; x2=&quot;2807.52&quot; y2=&quot;2651.43&quot; style=&quot;stroke:#90353B;stroke-width:8.64&quot;/&gt;\n",
       "\t&lt;text x=&quot;1130.83&quot; y=&quot;2686.46&quot; style=&quot;font-family:&#x27;Helvetica&#x27;;font-size:99.99px;fill:#000000&quot;&gt;lpoly smooth: happy_new&lt;/text&gt;\n",
       "\t&lt;text x=&quot;2867.53&quot; y=&quot;2686.46&quot; style=&quot;font-family:&#x27;Helvetica&#x27;;font-size:99.99px;fill:#000000&quot;&gt;Fitted values&lt;/text&gt;\n",
       "&lt;/svg&gt;\n",
       "</body></html>\"></iframe>\n"
      ],
      "text/plain": [
       "This front-end cannot display the desired image type."
      ]
     },
     "metadata": {
      "image/svg+xml": {
       "height": 436,
       "width": 600
      },
      "text/html": {
       "height": 436,
       "width": 600
      }
     },
     "output_type": "display_data"
    }
   ],
   "source": [
    "twoway (lpoly happy_new inc_10000) (lfit happy_new inc_10000)"
   ]
  },
  {
   "cell_type": "markdown",
   "metadata": {},
   "source": [
    "Det vi nu ser motsvarar den första regressionstabellen, där bara inc_10000 var inkluderat. Det är ett mycket tydligt samband. Men vi ser också att vår röda regressionslinje fortsätter uppåt i all evighet, och att den därför överskattar lyckan hos de allra rikaste, jämfört med den blåa linjen, som utgör \"facit\". Därför provar vi att lägga till en kvadratisk, böjd, linje med kommandot `qfit`."
   ]
  },
  {
   "cell_type": "code",
   "execution_count": 50,
   "metadata": {},
   "outputs": [
    {
     "data": {
      "application/pdf": "[encoded data removed]",
      "image/svg+xml": [
       "<?xml version=\"1.0\" encoding=\"UTF-8\" standalone=\"no\"?>\n",
       "<!-- This is a Stata 16.0 generated SVG file (http://www.stata.com) -->\n",
       "\n",
       "<svg version=\"1.1\" width=\"600px\" height=\"436px\" viewBox=\"0 0 3960 2880\" xmlns=\"http://www.w3.org/2000/svg\" xmlns:xlink=\"http://www.w3.org/1999/xlink\">\n",
       "\t<desc>Stata Graph - Graph</desc>\n",
       "\t<rect x=\"0\" y=\"0\" width=\"3960\" height=\"2880\" style=\"fill:#EAF2F3;stroke:none\"/>\n",
       "\t<rect x=\"0.00\" y=\"0.00\" width=\"3959.88\" height=\"2880.00\" style=\"fill:#EAF2F3\"/>\n",
       "\t<rect x=\"2.88\" y=\"2.88\" width=\"3954.12\" height=\"2874.24\" style=\"fill:none;stroke:#EAF2F3;stroke-width:5.76\"/>\n",
       "\t<rect x=\"290.81\" y=\"100.86\" width=\"3568.21\" height=\"2092.80\" style=\"fill:#FFFFFF\"/>\n",
       "\t<rect x=\"293.69\" y=\"103.74\" width=\"3562.45\" height=\"2087.04\" style=\"fill:none;stroke:#FFFFFF;stroke-width:5.76\"/>\n",
       "\t<line x1=\"290.81\" y1=\"2130.30\" x2=\"3859.02\" y2=\"2130.30\" style=\"stroke:#EAF2F3;stroke-width:8.64\"/>\n",
       "\t<line x1=\"290.81\" y1=\"1638.75\" x2=\"3859.02\" y2=\"1638.75\" style=\"stroke:#EAF2F3;stroke-width:8.64\"/>\n",
       "\t<line x1=\"290.81\" y1=\"1147.20\" x2=\"3859.02\" y2=\"1147.20\" style=\"stroke:#EAF2F3;stroke-width:8.64\"/>\n",
       "\t<line x1=\"290.81\" y1=\"655.65\" x2=\"3859.02\" y2=\"655.65\" style=\"stroke:#EAF2F3;stroke-width:8.64\"/>\n",
       "\t<line x1=\"290.81\" y1=\"164.22\" x2=\"3859.02\" y2=\"164.22\" style=\"stroke:#EAF2F3;stroke-width:8.64\"/>\n",
       "\t<path d=\" M359.49 1862.87 L421.00 1817.08 L482.50 1770.05 L544.13 1727.36 L605.63 1677.11 L667.14 1616.60 L728.76 1563.01 L790.27 1493.83 L851.77 1419.58 L913.40 1346.57 L974.90 1260.56 L1036.41 1183.21 L1098.03 1117.13 L1159.54 1066.63 L1221.16 1020.72 L1282.67 984.34 L1344.17 948.20 L1405.80 929.76 L1467.30 915.16 L1528.81 914.42 L1590.43 910.33 L1651.94 897.34 L1713.44 881.75 L1775.07 867.76 L1836.57 856.13 L1898.08 840.54 L1959.70 826.55 L2021.21 818.01 L2082.71 805.89 L2144.34 785.22 L2205.84 765.42 L2267.35 732.62 L2328.97 661.84 L2390.48 591.30 L2452.11 591.30 L2513.61 591.30 L2882.88 754.65 L2944.38 754.65 L3006.01 754.65 L3067.51 754.65 L3129.02 754.65 L3190.65 754.65 L3252.15 754.65 L3313.65 754.65 L3375.28 754.65\" stroke-linejoin=\"round\" style=\"fill:none;stroke:#1A476F;stroke-width:8.64\"/>\n",
       "\t<path d=\" M359.49 1682.81 L1867.39 960.83 L3375.28 238.84\" stroke-linejoin=\"round\" style=\"fill:none;stroke:#90353B;stroke-width:8.64\"/>\n",
       "\t<path d=\" M359.49 2083.03 L389.94 2035.63 L420.38 1988.97 L450.82 1942.94 L481.26 1897.77 L511.71 1853.21 L542.27 1809.28 L572.72 1766.22 L603.16 1723.77 L633.60 1682.06 L664.04 1640.98 L694.49 1600.63 L725.05 1561.03 L755.49 1522.17 L785.94 1483.93 L816.38 1446.44 L846.82 1409.68 L877.26 1373.54 L907.83 1338.15 L938.27 1303.50 L968.72 1269.59 L999.16 1236.30 L1029.60 1203.75 L1060.04 1171.83 L1090.61 1140.76 L1121.05 1110.32 L1151.49 1080.50 L1181.94 1051.54 L1212.38 1023.20 L1242.82 995.60 L1273.39 968.62 L1303.83 942.39 L1334.27 916.89 L1364.71 892.14 L1395.16 868.01 L1425.60 844.62 L1456.17 821.97 L1486.61 799.94 L1517.05 778.66 L1547.49 758.12 L1577.94 738.19 L1608.38 719.13 L1638.82 700.57 L1669.39 682.87 L1699.83 665.80 L1730.27 649.46 L1760.71 633.87 L1791.16 618.89 L1821.60 604.66 L1852.17 591.17 L1882.61 578.43 L1913.05 566.30 L1943.49 554.91 L1973.94 544.15 L2004.38 534.25 L2034.94 524.96 L2065.39 516.30 L2095.83 508.50 L2126.27 501.33 L2156.72 494.89 L2187.16 489.08 L2217.72 484.00 L2248.17 479.67 L2278.61 476.08 L2309.05 473.11 L2339.49 470.88 L2369.94 469.40 L2400.50 468.53 L2430.95 468.41 L2461.39 469.03 L2491.83 470.26 L2522.27 472.37 L2552.72 474.97 L2583.28 478.43 L2613.72 482.52 L2644.17 487.34 L2674.61 492.91 L2705.05 499.10 L2735.49 506.03 L2766.06 513.70 L2796.50 522.12 L2826.95 531.15 L2857.39 540.93 L2887.83 551.32 L2918.27 562.59 L2948.72 574.47 L2979.28 586.96 L3009.72 600.33 L3040.17 614.31 L3070.61 629.04 L3101.05 644.39 L3131.49 660.47 L3162.06 677.30 L3192.50 694.88 L3222.95 713.07 L3253.39 732.00 L3283.83 751.68 L3314.27 771.98 L3344.84 793.01 L3375.28 814.80\" stroke-linejoin=\"round\" style=\"fill:none;stroke:#55752F;stroke-width:8.64\"/>\n",
       "\t<line x1=\"290.81\" y1=\"2193.66\" x2=\"290.81\" y2=\"100.86\" style=\"stroke:#000000;stroke-width:5.76\"/>\n",
       "\t<line x1=\"290.81\" y1=\"2130.30\" x2=\"250.84\" y2=\"2130.30\" style=\"stroke:#000000;stroke-width:5.76\"/>\n",
       "\t<text x=\"200.73\" y=\"2130.30\" style=\"font-family:'Helvetica';font-size:99.99px;fill:#000000\" transform=\"rotate(-90 200.73,2130.30)\" text-anchor=\"middle\">1.8</text>\n",
       "\t<line x1=\"290.81\" y1=\"1638.75\" x2=\"250.84\" y2=\"1638.75\" style=\"stroke:#000000;stroke-width:5.76\"/>\n",
       "\t<text x=\"200.73\" y=\"1638.75\" style=\"font-family:'Helvetica';font-size:99.99px;fill:#000000\" transform=\"rotate(-90 200.73,1638.75)\" text-anchor=\"middle\">2</text>\n",
       "\t<line x1=\"290.81\" y1=\"1147.20\" x2=\"250.84\" y2=\"1147.20\" style=\"stroke:#000000;stroke-width:5.76\"/>\n",
       "\t<text x=\"200.73\" y=\"1147.20\" style=\"font-family:'Helvetica';font-size:99.99px;fill:#000000\" transform=\"rotate(-90 200.73,1147.20)\" text-anchor=\"middle\">2.2</text>\n",
       "\t<line x1=\"290.81\" y1=\"655.65\" x2=\"250.84\" y2=\"655.65\" style=\"stroke:#000000;stroke-width:5.76\"/>\n",
       "\t<text x=\"200.73\" y=\"655.65\" style=\"font-family:'Helvetica';font-size:99.99px;fill:#000000\" transform=\"rotate(-90 200.73,655.65)\" text-anchor=\"middle\">2.4</text>\n",
       "\t<line x1=\"290.81\" y1=\"164.22\" x2=\"250.84\" y2=\"164.22\" style=\"stroke:#000000;stroke-width:5.76\"/>\n",
       "\t<text x=\"200.73\" y=\"164.22\" style=\"font-family:'Helvetica';font-size:99.99px;fill:#000000\" transform=\"rotate(-90 200.73,164.22)\" text-anchor=\"middle\">2.6</text>\n",
       "\t<line x1=\"290.81\" y1=\"2193.66\" x2=\"3859.02\" y2=\"2193.66\" style=\"stroke:#000000;stroke-width:5.76\"/>\n",
       "\t<line x1=\"354.17\" y1=\"2193.66\" x2=\"354.17\" y2=\"2233.63\" style=\"stroke:#000000;stroke-width:5.76\"/>\n",
       "\t<text x=\"354.17\" y=\"2323.61\" style=\"font-family:'Helvetica';font-size:99.99px;fill:#000000\" text-anchor=\"middle\">0</text>\n",
       "\t<line x1=\"1501.34\" y1=\"2193.66\" x2=\"1501.34\" y2=\"2233.63\" style=\"stroke:#000000;stroke-width:5.76\"/>\n",
       "\t<text x=\"1501.34\" y=\"2323.61\" style=\"font-family:'Helvetica';font-size:99.99px;fill:#000000\" text-anchor=\"middle\">5</text>\n",
       "\t<line x1=\"2648.50\" y1=\"2193.66\" x2=\"2648.50\" y2=\"2233.63\" style=\"stroke:#000000;stroke-width:5.76\"/>\n",
       "\t<text x=\"2648.50\" y=\"2323.61\" style=\"font-family:'Helvetica';font-size:99.99px;fill:#000000\" text-anchor=\"middle\">10</text>\n",
       "\t<line x1=\"3795.66\" y1=\"2193.66\" x2=\"3795.66\" y2=\"2233.63\" style=\"stroke:#000000;stroke-width:5.76\"/>\n",
       "\t<text x=\"3795.66\" y=\"2323.61\" style=\"font-family:'Helvetica';font-size:99.99px;fill:#000000\" text-anchor=\"middle\">15</text>\n",
       "\t<rect x=\"653.28\" y=\"2418.27\" width=\"2843.28\" height=\"326.34\" style=\"fill:#FFFFFF\"/>\n",
       "\t<rect x=\"656.16\" y=\"2421.15\" width=\"2837.52\" height=\"320.58\" style=\"fill:none;stroke:#000000;stroke-width:5.76\"/>\n",
       "\t<line x1=\"696.47\" y1=\"2511.46\" x2=\"1070.81\" y2=\"2511.46\" style=\"stroke:#1A476F;stroke-width:8.64\"/>\n",
       "\t<line x1=\"2433.17\" y1=\"2511.46\" x2=\"2807.52\" y2=\"2511.46\" style=\"stroke:#90353B;stroke-width:8.64\"/>\n",
       "\t<line x1=\"696.47\" y1=\"2651.43\" x2=\"1070.81\" y2=\"2651.43\" style=\"stroke:#55752F;stroke-width:8.64\"/>\n",
       "\t<text x=\"1130.83\" y=\"2546.49\" style=\"font-family:'Helvetica';font-size:99.99px;fill:#000000\">lpoly smooth: happy_new</text>\n",
       "\t<text x=\"2867.53\" y=\"2546.49\" style=\"font-family:'Helvetica';font-size:99.99px;fill:#000000\">Fitted values</text>\n",
       "\t<text x=\"1130.83\" y=\"2686.46\" style=\"font-family:'Helvetica';font-size:99.99px;fill:#000000\">Fitted values</text>\n",
       "</svg>\n"
      ],
      "text/html": [
       "                <iframe frameborder=\"0\" scrolling=\"no\" height=\"436\" width=\"600\"                srcdoc=\"<html><body>&lt;?xml version=&quot;1.0&quot; encoding=&quot;UTF-8&quot; standalone=&quot;no&quot;?&gt;\n",
       "&lt;!-- This is a Stata 16.0 generated SVG file (http://www.stata.com) --&gt;\n",
       "\n",
       "&lt;svg version=&quot;1.1&quot; width=&quot;600px&quot; height=&quot;436px&quot; viewBox=&quot;0 0 3960 2880&quot; xmlns=&quot;http://www.w3.org/2000/svg&quot; xmlns:xlink=&quot;http://www.w3.org/1999/xlink&quot;&gt;\n",
       "\t&lt;desc&gt;Stata Graph - Graph&lt;/desc&gt;\n",
       "\t&lt;rect x=&quot;0&quot; y=&quot;0&quot; width=&quot;3960&quot; height=&quot;2880&quot; style=&quot;fill:#EAF2F3;stroke:none&quot;/&gt;\n",
       "\t&lt;rect x=&quot;0.00&quot; y=&quot;0.00&quot; width=&quot;3959.88&quot; height=&quot;2880.00&quot; style=&quot;fill:#EAF2F3&quot;/&gt;\n",
       "\t&lt;rect x=&quot;2.88&quot; y=&quot;2.88&quot; width=&quot;3954.12&quot; height=&quot;2874.24&quot; style=&quot;fill:none;stroke:#EAF2F3;stroke-width:5.76&quot;/&gt;\n",
       "\t&lt;rect x=&quot;290.81&quot; y=&quot;100.86&quot; width=&quot;3568.21&quot; height=&quot;2092.80&quot; style=&quot;fill:#FFFFFF&quot;/&gt;\n",
       "\t&lt;rect x=&quot;293.69&quot; y=&quot;103.74&quot; width=&quot;3562.45&quot; height=&quot;2087.04&quot; style=&quot;fill:none;stroke:#FFFFFF;stroke-width:5.76&quot;/&gt;\n",
       "\t&lt;line x1=&quot;290.81&quot; y1=&quot;2130.30&quot; x2=&quot;3859.02&quot; y2=&quot;2130.30&quot; style=&quot;stroke:#EAF2F3;stroke-width:8.64&quot;/&gt;\n",
       "\t&lt;line x1=&quot;290.81&quot; y1=&quot;1638.75&quot; x2=&quot;3859.02&quot; y2=&quot;1638.75&quot; style=&quot;stroke:#EAF2F3;stroke-width:8.64&quot;/&gt;\n",
       "\t&lt;line x1=&quot;290.81&quot; y1=&quot;1147.20&quot; x2=&quot;3859.02&quot; y2=&quot;1147.20&quot; style=&quot;stroke:#EAF2F3;stroke-width:8.64&quot;/&gt;\n",
       "\t&lt;line x1=&quot;290.81&quot; y1=&quot;655.65&quot; x2=&quot;3859.02&quot; y2=&quot;655.65&quot; style=&quot;stroke:#EAF2F3;stroke-width:8.64&quot;/&gt;\n",
       "\t&lt;line x1=&quot;290.81&quot; y1=&quot;164.22&quot; x2=&quot;3859.02&quot; y2=&quot;164.22&quot; style=&quot;stroke:#EAF2F3;stroke-width:8.64&quot;/&gt;\n",
       "\t&lt;path d=&quot; M359.49 1862.87 L421.00 1817.08 L482.50 1770.05 L544.13 1727.36 L605.63 1677.11 L667.14 1616.60 L728.76 1563.01 L790.27 1493.83 L851.77 1419.58 L913.40 1346.57 L974.90 1260.56 L1036.41 1183.21 L1098.03 1117.13 L1159.54 1066.63 L1221.16 1020.72 L1282.67 984.34 L1344.17 948.20 L1405.80 929.76 L1467.30 915.16 L1528.81 914.42 L1590.43 910.33 L1651.94 897.34 L1713.44 881.75 L1775.07 867.76 L1836.57 856.13 L1898.08 840.54 L1959.70 826.55 L2021.21 818.01 L2082.71 805.89 L2144.34 785.22 L2205.84 765.42 L2267.35 732.62 L2328.97 661.84 L2390.48 591.30 L2452.11 591.30 L2513.61 591.30 L2882.88 754.65 L2944.38 754.65 L3006.01 754.65 L3067.51 754.65 L3129.02 754.65 L3190.65 754.65 L3252.15 754.65 L3313.65 754.65 L3375.28 754.65&quot; stroke-linejoin=&quot;round&quot; style=&quot;fill:none;stroke:#1A476F;stroke-width:8.64&quot;/&gt;\n",
       "\t&lt;path d=&quot; M359.49 1682.81 L1867.39 960.83 L3375.28 238.84&quot; stroke-linejoin=&quot;round&quot; style=&quot;fill:none;stroke:#90353B;stroke-width:8.64&quot;/&gt;\n",
       "\t&lt;path d=&quot; M359.49 2083.03 L389.94 2035.63 L420.38 1988.97 L450.82 1942.94 L481.26 1897.77 L511.71 1853.21 L542.27 1809.28 L572.72 1766.22 L603.16 1723.77 L633.60 1682.06 L664.04 1640.98 L694.49 1600.63 L725.05 1561.03 L755.49 1522.17 L785.94 1483.93 L816.38 1446.44 L846.82 1409.68 L877.26 1373.54 L907.83 1338.15 L938.27 1303.50 L968.72 1269.59 L999.16 1236.30 L1029.60 1203.75 L1060.04 1171.83 L1090.61 1140.76 L1121.05 1110.32 L1151.49 1080.50 L1181.94 1051.54 L1212.38 1023.20 L1242.82 995.60 L1273.39 968.62 L1303.83 942.39 L1334.27 916.89 L1364.71 892.14 L1395.16 868.01 L1425.60 844.62 L1456.17 821.97 L1486.61 799.94 L1517.05 778.66 L1547.49 758.12 L1577.94 738.19 L1608.38 719.13 L1638.82 700.57 L1669.39 682.87 L1699.83 665.80 L1730.27 649.46 L1760.71 633.87 L1791.16 618.89 L1821.60 604.66 L1852.17 591.17 L1882.61 578.43 L1913.05 566.30 L1943.49 554.91 L1973.94 544.15 L2004.38 534.25 L2034.94 524.96 L2065.39 516.30 L2095.83 508.50 L2126.27 501.33 L2156.72 494.89 L2187.16 489.08 L2217.72 484.00 L2248.17 479.67 L2278.61 476.08 L2309.05 473.11 L2339.49 470.88 L2369.94 469.40 L2400.50 468.53 L2430.95 468.41 L2461.39 469.03 L2491.83 470.26 L2522.27 472.37 L2552.72 474.97 L2583.28 478.43 L2613.72 482.52 L2644.17 487.34 L2674.61 492.91 L2705.05 499.10 L2735.49 506.03 L2766.06 513.70 L2796.50 522.12 L2826.95 531.15 L2857.39 540.93 L2887.83 551.32 L2918.27 562.59 L2948.72 574.47 L2979.28 586.96 L3009.72 600.33 L3040.17 614.31 L3070.61 629.04 L3101.05 644.39 L3131.49 660.47 L3162.06 677.30 L3192.50 694.88 L3222.95 713.07 L3253.39 732.00 L3283.83 751.68 L3314.27 771.98 L3344.84 793.01 L3375.28 814.80&quot; stroke-linejoin=&quot;round&quot; style=&quot;fill:none;stroke:#55752F;stroke-width:8.64&quot;/&gt;\n",
       "\t&lt;line x1=&quot;290.81&quot; y1=&quot;2193.66&quot; x2=&quot;290.81&quot; y2=&quot;100.86&quot; style=&quot;stroke:#000000;stroke-width:5.76&quot;/&gt;\n",
       "\t&lt;line x1=&quot;290.81&quot; y1=&quot;2130.30&quot; x2=&quot;250.84&quot; y2=&quot;2130.30&quot; style=&quot;stroke:#000000;stroke-width:5.76&quot;/&gt;\n",
       "\t&lt;text x=&quot;200.73&quot; y=&quot;2130.30&quot; style=&quot;font-family:&#x27;Helvetica&#x27;;font-size:99.99px;fill:#000000&quot; transform=&quot;rotate(-90 200.73,2130.30)&quot; text-anchor=&quot;middle&quot;&gt;1.8&lt;/text&gt;\n",
       "\t&lt;line x1=&quot;290.81&quot; y1=&quot;1638.75&quot; x2=&quot;250.84&quot; y2=&quot;1638.75&quot; style=&quot;stroke:#000000;stroke-width:5.76&quot;/&gt;\n",
       "\t&lt;text x=&quot;200.73&quot; y=&quot;1638.75&quot; style=&quot;font-family:&#x27;Helvetica&#x27;;font-size:99.99px;fill:#000000&quot; transform=&quot;rotate(-90 200.73,1638.75)&quot; text-anchor=&quot;middle&quot;&gt;2&lt;/text&gt;\n",
       "\t&lt;line x1=&quot;290.81&quot; y1=&quot;1147.20&quot; x2=&quot;250.84&quot; y2=&quot;1147.20&quot; style=&quot;stroke:#000000;stroke-width:5.76&quot;/&gt;\n",
       "\t&lt;text x=&quot;200.73&quot; y=&quot;1147.20&quot; style=&quot;font-family:&#x27;Helvetica&#x27;;font-size:99.99px;fill:#000000&quot; transform=&quot;rotate(-90 200.73,1147.20)&quot; text-anchor=&quot;middle&quot;&gt;2.2&lt;/text&gt;\n",
       "\t&lt;line x1=&quot;290.81&quot; y1=&quot;655.65&quot; x2=&quot;250.84&quot; y2=&quot;655.65&quot; style=&quot;stroke:#000000;stroke-width:5.76&quot;/&gt;\n",
       "\t&lt;text x=&quot;200.73&quot; y=&quot;655.65&quot; style=&quot;font-family:&#x27;Helvetica&#x27;;font-size:99.99px;fill:#000000&quot; transform=&quot;rotate(-90 200.73,655.65)&quot; text-anchor=&quot;middle&quot;&gt;2.4&lt;/text&gt;\n",
       "\t&lt;line x1=&quot;290.81&quot; y1=&quot;164.22&quot; x2=&quot;250.84&quot; y2=&quot;164.22&quot; style=&quot;stroke:#000000;stroke-width:5.76&quot;/&gt;\n",
       "\t&lt;text x=&quot;200.73&quot; y=&quot;164.22&quot; style=&quot;font-family:&#x27;Helvetica&#x27;;font-size:99.99px;fill:#000000&quot; transform=&quot;rotate(-90 200.73,164.22)&quot; text-anchor=&quot;middle&quot;&gt;2.6&lt;/text&gt;\n",
       "\t&lt;line x1=&quot;290.81&quot; y1=&quot;2193.66&quot; x2=&quot;3859.02&quot; y2=&quot;2193.66&quot; style=&quot;stroke:#000000;stroke-width:5.76&quot;/&gt;\n",
       "\t&lt;line x1=&quot;354.17&quot; y1=&quot;2193.66&quot; x2=&quot;354.17&quot; y2=&quot;2233.63&quot; style=&quot;stroke:#000000;stroke-width:5.76&quot;/&gt;\n",
       "\t&lt;text x=&quot;354.17&quot; y=&quot;2323.61&quot; style=&quot;font-family:&#x27;Helvetica&#x27;;font-size:99.99px;fill:#000000&quot; text-anchor=&quot;middle&quot;&gt;0&lt;/text&gt;\n",
       "\t&lt;line x1=&quot;1501.34&quot; y1=&quot;2193.66&quot; x2=&quot;1501.34&quot; y2=&quot;2233.63&quot; style=&quot;stroke:#000000;stroke-width:5.76&quot;/&gt;\n",
       "\t&lt;text x=&quot;1501.34&quot; y=&quot;2323.61&quot; style=&quot;font-family:&#x27;Helvetica&#x27;;font-size:99.99px;fill:#000000&quot; text-anchor=&quot;middle&quot;&gt;5&lt;/text&gt;\n",
       "\t&lt;line x1=&quot;2648.50&quot; y1=&quot;2193.66&quot; x2=&quot;2648.50&quot; y2=&quot;2233.63&quot; style=&quot;stroke:#000000;stroke-width:5.76&quot;/&gt;\n",
       "\t&lt;text x=&quot;2648.50&quot; y=&quot;2323.61&quot; style=&quot;font-family:&#x27;Helvetica&#x27;;font-size:99.99px;fill:#000000&quot; text-anchor=&quot;middle&quot;&gt;10&lt;/text&gt;\n",
       "\t&lt;line x1=&quot;3795.66&quot; y1=&quot;2193.66&quot; x2=&quot;3795.66&quot; y2=&quot;2233.63&quot; style=&quot;stroke:#000000;stroke-width:5.76&quot;/&gt;\n",
       "\t&lt;text x=&quot;3795.66&quot; y=&quot;2323.61&quot; style=&quot;font-family:&#x27;Helvetica&#x27;;font-size:99.99px;fill:#000000&quot; text-anchor=&quot;middle&quot;&gt;15&lt;/text&gt;\n",
       "\t&lt;rect x=&quot;653.28&quot; y=&quot;2418.27&quot; width=&quot;2843.28&quot; height=&quot;326.34&quot; style=&quot;fill:#FFFFFF&quot;/&gt;\n",
       "\t&lt;rect x=&quot;656.16&quot; y=&quot;2421.15&quot; width=&quot;2837.52&quot; height=&quot;320.58&quot; style=&quot;fill:none;stroke:#000000;stroke-width:5.76&quot;/&gt;\n",
       "\t&lt;line x1=&quot;696.47&quot; y1=&quot;2511.46&quot; x2=&quot;1070.81&quot; y2=&quot;2511.46&quot; style=&quot;stroke:#1A476F;stroke-width:8.64&quot;/&gt;\n",
       "\t&lt;line x1=&quot;2433.17&quot; y1=&quot;2511.46&quot; x2=&quot;2807.52&quot; y2=&quot;2511.46&quot; style=&quot;stroke:#90353B;stroke-width:8.64&quot;/&gt;\n",
       "\t&lt;line x1=&quot;696.47&quot; y1=&quot;2651.43&quot; x2=&quot;1070.81&quot; y2=&quot;2651.43&quot; style=&quot;stroke:#55752F;stroke-width:8.64&quot;/&gt;\n",
       "\t&lt;text x=&quot;1130.83&quot; y=&quot;2546.49&quot; style=&quot;font-family:&#x27;Helvetica&#x27;;font-size:99.99px;fill:#000000&quot;&gt;lpoly smooth: happy_new&lt;/text&gt;\n",
       "\t&lt;text x=&quot;2867.53&quot; y=&quot;2546.49&quot; style=&quot;font-family:&#x27;Helvetica&#x27;;font-size:99.99px;fill:#000000&quot;&gt;Fitted values&lt;/text&gt;\n",
       "\t&lt;text x=&quot;1130.83&quot; y=&quot;2686.46&quot; style=&quot;font-family:&#x27;Helvetica&#x27;;font-size:99.99px;fill:#000000&quot;&gt;Fitted values&lt;/text&gt;\n",
       "&lt;/svg&gt;\n",
       "</body></html>\"></iframe>\n"
      ],
      "text/plain": [
       "This front-end cannot display the desired image type."
      ]
     },
     "metadata": {
      "image/svg+xml": {
       "height": 436,
       "width": 600
      },
      "text/html": {
       "height": 436,
       "width": 600
      }
     },
     "output_type": "display_data"
    }
   ],
   "source": [
    "twoway (lpoly happy_new inc_10000) (lfit happy_new inc_10000) (qfit happy_new inc_10000)"
   ]
  },
  {
   "cell_type": "markdown",
   "metadata": {},
   "source": [
    "Den gröna linjen motsvarar nu det vi såg i den andra regressionsanalysen. Den gröna linjen visar våra gissningar för hur lycklig en person är, beroende på dennes inkomst. Överlag ligger den gröna linjen närmare den blåa än vad den röda gör, vilket förklarar varför $R^2$ är högre. Vi ser också att den först går uppåt, och sedan neråt, vilket viju listat ut sedan tidigare. Och slutligen ser vi att vändningen kommer vid 9, som vi räknade ut i avsnittet ovan.\n",
    "\n",
    "Samtidigt är den gröna linjen inte heller den en perfekt beskrivning av verkligheten. Om man bara tittar på den gröna linjen ser det som sagt ut som att effekten av mer pengar är negativ vid riktigt höga värden. Men om vi bortser från den lilla knölen kring 9 så ser det snarare ut som att det som egentligen händer är att linjen planar ut.\n",
    "\n",
    "## Avslutning\n",
    "Här har jag inte tagit med några kontrollvariabler, men man behöver inte göra på något annat sätt än i en vanlig regressionsanalys. De behöver inte kvadreras bara för att en annan variabel är kvadrerad. Man tar bara med dem tillsammans.\n",
    "\n",
    "Alla modeller som föreskriver någon sorts förutsägbarhet - en rak linje, en linje med en sväng - innebär en förenkling av verkligheten. Med mer avancerade modeller kan vi bättre beskriva vår data. Samtidigt gäller det att komma ihåg att målet inte är att göra en karta 1:1, utan att förenkla så att vi lättare kan tala om generella mönster. Men utan att förenkla för mycket, så att vi missar viktiga slutsatser.\n",
    "\n",
    "Vart gränsen går är inte helt lätt att avgöra. Därför är det viktigt att tänka, helst före man gör sina analyser. Om man har en teori som föreskriver någon form av avtagande eller tilltagande effekt kan kvadratiska termer vara ett bra sätt att testa de teorierna med hjälp av regressionsanalys."
   ]
  }
 ],
 "metadata": {
  "kernelspec": {
   "display_name": "Stata",
   "language": "stata",
   "name": "stata"
  },
  "language_info": {
   "codemirror_mode": "stata",
   "file_extension": ".do",
   "mimetype": "text/x-stata",
   "name": "stata",
   "version": "15.1"
  }
 },
 "nbformat": 4,
 "nbformat_minor": 4
}
