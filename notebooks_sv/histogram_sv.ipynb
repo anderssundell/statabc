{
 "cells": [
  {
   "cell_type": "markdown",
   "metadata": {},
   "source": [
    "# Histogram\n",
    "\n",
    "*av Anders Sundell*\n",
    "\n",
    "Innan man börjar jobba med sin data är det viktigt att bekanta sig med hur den ser ut. Ett effektivt sätt att göra det, för kontinuerliga variabler med många olika värden, är så kallade *histogram*. I den här guiden kommer vi att gå igenom vad de är för något, hur man använder dem, och hur man kan ställa in dem för att visa exakt det man vill.\n",
    "\n",
    "För att ha något att jobba med kommer vi att använda oss av <a href=\"https://qog.pol.gu.se/data/datadownloads/qogbasicdata\" target=_blank>QoG basic-datamängden</a>. Här har jag skrivit in sökvägen till datamängden direkt på internet, men man kan givetvis ladda ned den till sin dator och öppna den därifrån istället - det är vanligtvis att rekommendera. "
   ]
  },
  {
   "cell_type": "code",
   "execution_count": 2,
   "metadata": {},
   "outputs": [
    {
     "name": "stdout",
     "output_type": "stream",
     "text": [
      "(Quality of Government Basic dataset 2018 - Cross-Section)\n"
     ]
    }
   ],
   "source": [
    "use \"https://www.qogdata.pol.gu.se/data/qog_bas_cs_jan18.dta\", clear"
   ]
  },
  {
   "cell_type": "markdown",
   "metadata": {},
   "source": [
    "## Ett enkelt histogram\n",
    "\n",
    "Vad är då ett histogram? Det visar en variabels fördelning, genom att dela in variabeln i grupper, och göra staplar som är olika höga beroende på hur många observationer som återfinns i varje grupp. På så sätt ser man snabbt var på skalan de flesta observationerna är, om fördelningen är normal eller skev, om det finns några outliers, med mera.\n",
    "\n",
    "Vi ska titta närmare på variabeln gle_rgdpc, som visar BNP per capita för varje land i QoG-datamängden.\n",
    "\n",
    "Kommandot är extremt enkelt. För att få fram default-histogrammet skriver man bara:"
   ]
  },
  {
   "cell_type": "code",
   "execution_count": 3,
   "metadata": {},
   "outputs": [
    {
     "name": "stdout",
     "output_type": "stream",
     "text": [
      "(bin=13, start=285.95001, width=7339.3091)\n"
     ]
    },
    {
     "data": {
      "application/pdf": "[encoded data removed]",
      "image/svg+xml": [
       "<?xml version=\"1.0\" encoding=\"UTF-8\" standalone=\"no\"?>\n",
       "<!-- This is a Stata 15.0 generated SVG file (http://www.stata.com) -->\n",
       "\n",
       "<svg version=\"1.1\" width=\"600px\" height=\"436px\" viewBox=\"0 0 3960 2880\" xmlns=\"http://www.w3.org/2000/svg\" xmlns:xlink=\"http://www.w3.org/1999/xlink\">\n",
       "\t<desc>Stata Graph - Graph</desc>\n",
       "\t<rect x=\"0\" y=\"0\" width=\"3960\" height=\"2880\" style=\"fill:#EAF2F3;stroke:none\"/>\n",
       "\t<rect x=\"0.00\" y=\"0.00\" width=\"3959.88\" height=\"2880.00\" style=\"fill:#EAF2F3\"/>\n",
       "\t<rect x=\"2.88\" y=\"2.88\" width=\"3954.12\" height=\"2874.24\" style=\"fill:none;stroke:#EAF2F3;stroke-width:5.76\"/>\n",
       "\t<rect x=\"390.80\" y=\"100.86\" width=\"3468.22\" height=\"2388.33\" style=\"fill:#FFFFFF\"/>\n",
       "\t<rect x=\"393.68\" y=\"103.74\" width=\"3462.46\" height=\"2382.57\" style=\"fill:none;stroke:#FFFFFF;stroke-width:5.76\"/>\n",
       "\t<line x1=\"390.80\" y1=\"2489.19\" x2=\"3859.02\" y2=\"2489.19\" style=\"stroke:#EAF2F3;stroke-width:8.64\"/>\n",
       "\t<line x1=\"390.80\" y1=\"1907.91\" x2=\"3859.02\" y2=\"1907.91\" style=\"stroke:#EAF2F3;stroke-width:8.64\"/>\n",
       "\t<line x1=\"390.80\" y1=\"1326.64\" x2=\"3859.02\" y2=\"1326.64\" style=\"stroke:#EAF2F3;stroke-width:8.64\"/>\n",
       "\t<line x1=\"390.80\" y1=\"745.37\" x2=\"3859.02\" y2=\"745.37\" style=\"stroke:#EAF2F3;stroke-width:8.64\"/>\n",
       "\t<line x1=\"390.80\" y1=\"164.22\" x2=\"3859.02\" y2=\"164.22\" style=\"stroke:#EAF2F3;stroke-width:8.64\"/>\n",
       "\t<rect x=\"572.72\" y=\"447.37\" width=\"237.23\" height=\"2041.82\" style=\"fill:#CAC27E\"/>\n",
       "\t<rect x=\"577.03\" y=\"451.69\" width=\"228.59\" height=\"2033.18\" style=\"fill:none;stroke:#D7D29E;stroke-width:8.64\"/>\n",
       "\t<rect x=\"809.94\" y=\"1664.24\" width=\"237.23\" height=\"824.94\" style=\"fill:#CAC27E\"/>\n",
       "\t<rect x=\"814.26\" y=\"1668.56\" width=\"228.59\" height=\"816.30\" style=\"fill:none;stroke:#D7D29E;stroke-width:8.64\"/>\n",
       "\t<rect x=\"1047.17\" y=\"2117.92\" width=\"237.23\" height=\"371.26\" style=\"fill:#CAC27E\"/>\n",
       "\t<rect x=\"1051.49\" y=\"2122.24\" width=\"228.59\" height=\"362.62\" style=\"fill:none;stroke:#D7D29E;stroke-width:8.64\"/>\n",
       "\t<rect x=\"1284.40\" y=\"2283.01\" width=\"237.23\" height=\"206.17\" style=\"fill:#CAC27E\"/>\n",
       "\t<rect x=\"1288.72\" y=\"2287.33\" width=\"228.59\" height=\"197.53\" style=\"fill:none;stroke:#D7D29E;stroke-width:8.64\"/>\n",
       "\t<rect x=\"1521.63\" y=\"2241.68\" width=\"237.23\" height=\"247.51\" style=\"fill:#CAC27E\"/>\n",
       "\t<rect x=\"1525.95\" y=\"2246.00\" width=\"228.59\" height=\"238.87\" style=\"fill:none;stroke:#D7D29E;stroke-width:8.64\"/>\n",
       "\t<rect x=\"1758.86\" y=\"2386.10\" width=\"237.23\" height=\"103.09\" style=\"fill:#CAC27E\"/>\n",
       "\t<rect x=\"1763.18\" y=\"2390.42\" width=\"228.59\" height=\"94.45\" style=\"fill:none;stroke:#D7D29E;stroke-width:8.64\"/>\n",
       "\t<rect x=\"1996.09\" y=\"2427.31\" width=\"237.23\" height=\"61.88\" style=\"fill:#CAC27E\"/>\n",
       "\t<rect x=\"2000.41\" y=\"2431.63\" width=\"228.59\" height=\"53.24\" style=\"fill:none;stroke:#D7D29E;stroke-width:8.64\"/>\n",
       "\t<rect x=\"2233.32\" y=\"2447.98\" width=\"237.23\" height=\"41.21\" style=\"fill:#CAC27E\"/>\n",
       "\t<rect x=\"2237.64\" y=\"2452.30\" width=\"228.59\" height=\"32.57\" style=\"fill:none;stroke:#D7D29E;stroke-width:8.64\"/>\n",
       "\t<rect x=\"3419.46\" y=\"2427.31\" width=\"237.23\" height=\"61.88\" style=\"fill:#CAC27E\"/>\n",
       "\t<rect x=\"3423.78\" y=\"2431.63\" width=\"228.59\" height=\"53.24\" style=\"fill:none;stroke:#D7D29E;stroke-width:8.64\"/>\n",
       "\t<line x1=\"390.80\" y1=\"2489.19\" x2=\"390.80\" y2=\"100.86\" style=\"stroke:#000000;stroke-width:5.76\"/>\n",
       "\t<line x1=\"390.80\" y1=\"2489.19\" x2=\"350.83\" y2=\"2489.19\" style=\"stroke:#000000;stroke-width:5.76\"/>\n",
       "\t<text x=\"300.72\" y=\"2489.19\" style=\"font-family:'Helvetica';font-size:99.99px;fill:#000000\" transform=\"rotate(-90 300.72,2489.19)\" text-anchor=\"middle\">0</text>\n",
       "\t<line x1=\"390.80\" y1=\"1907.91\" x2=\"350.83\" y2=\"1907.91\" style=\"stroke:#000000;stroke-width:5.76\"/>\n",
       "\t<text x=\"300.72\" y=\"1907.91\" style=\"font-family:'Helvetica';font-size:99.99px;fill:#000000\" transform=\"rotate(-90 300.72,1907.91)\" text-anchor=\"middle\">2.0e-05</text>\n",
       "\t<line x1=\"390.80\" y1=\"1326.64\" x2=\"350.83\" y2=\"1326.64\" style=\"stroke:#000000;stroke-width:5.76\"/>\n",
       "\t<text x=\"300.72\" y=\"1326.64\" style=\"font-family:'Helvetica';font-size:99.99px;fill:#000000\" transform=\"rotate(-90 300.72,1326.64)\" text-anchor=\"middle\">4.0e-05</text>\n",
       "\t<line x1=\"390.80\" y1=\"745.37\" x2=\"350.83\" y2=\"745.37\" style=\"stroke:#000000;stroke-width:5.76\"/>\n",
       "\t<text x=\"300.72\" y=\"745.37\" style=\"font-family:'Helvetica';font-size:99.99px;fill:#000000\" transform=\"rotate(-90 300.72,745.37)\" text-anchor=\"middle\">6.0e-05</text>\n",
       "\t<line x1=\"390.80\" y1=\"164.22\" x2=\"350.83\" y2=\"164.22\" style=\"stroke:#000000;stroke-width:5.76\"/>\n",
       "\t<text x=\"300.72\" y=\"164.22\" style=\"font-family:'Helvetica';font-size:99.99px;fill:#000000\" transform=\"rotate(-90 300.72,164.22)\" text-anchor=\"middle\">8.0e-05</text>\n",
       "\t<text x=\"190.71\" y=\"1294.96\" style=\"font-family:'Helvetica';font-size:99.99px;fill:#000000\" transform=\"rotate(-90 190.71,1294.96)\" text-anchor=\"middle\">Density</text>\n",
       "\t<line x1=\"390.80\" y1=\"2489.19\" x2=\"3859.02\" y2=\"2489.19\" style=\"stroke:#000000;stroke-width:5.76\"/>\n",
       "\t<line x1=\"563.56\" y1=\"2489.19\" x2=\"563.56\" y2=\"2529.16\" style=\"stroke:#000000;stroke-width:5.76\"/>\n",
       "\t<text x=\"563.56\" y=\"2619.14\" style=\"font-family:'Helvetica';font-size:99.99px;fill:#000000\" text-anchor=\"middle\">0</text>\n",
       "\t<line x1=\"1209.90\" y1=\"2489.19\" x2=\"1209.90\" y2=\"2529.16\" style=\"stroke:#000000;stroke-width:5.76\"/>\n",
       "\t<text x=\"1209.90\" y=\"2619.14\" style=\"font-family:'Helvetica';font-size:99.99px;fill:#000000\" text-anchor=\"middle\">20000</text>\n",
       "\t<line x1=\"1856.37\" y1=\"2489.19\" x2=\"1856.37\" y2=\"2529.16\" style=\"stroke:#000000;stroke-width:5.76\"/>\n",
       "\t<text x=\"1856.37\" y=\"2619.14\" style=\"font-family:'Helvetica';font-size:99.99px;fill:#000000\" text-anchor=\"middle\">40000</text>\n",
       "\t<line x1=\"2502.84\" y1=\"2489.19\" x2=\"2502.84\" y2=\"2529.16\" style=\"stroke:#000000;stroke-width:5.76\"/>\n",
       "\t<text x=\"2502.84\" y=\"2619.14\" style=\"font-family:'Helvetica';font-size:99.99px;fill:#000000\" text-anchor=\"middle\">60000</text>\n",
       "\t<line x1=\"3149.31\" y1=\"2489.19\" x2=\"3149.31\" y2=\"2529.16\" style=\"stroke:#000000;stroke-width:5.76\"/>\n",
       "\t<text x=\"3149.31\" y=\"2619.14\" style=\"font-family:'Helvetica';font-size:99.99px;fill:#000000\" text-anchor=\"middle\">80000</text>\n",
       "\t<line x1=\"3795.66\" y1=\"2489.19\" x2=\"3795.66\" y2=\"2529.16\" style=\"stroke:#000000;stroke-width:5.76\"/>\n",
       "\t<text x=\"3795.66\" y=\"2619.14\" style=\"font-family:'Helvetica';font-size:99.99px;fill:#000000\" text-anchor=\"middle\">100000</text>\n",
       "\t<text x=\"2124.91\" y=\"2729.16\" style=\"font-family:'Helvetica';font-size:99.99px;fill:#000000\" text-anchor=\"middle\">Real GDP per Capita (2005)</text>\n",
       "</svg>\n"
      ],
      "text/plain": [
       "This front-end cannot display the desired image type."
      ]
     },
     "metadata": {
      "image/svg+xml": {
       "height": 436,
       "width": 600
      }
     },
     "output_type": "display_data"
    },
    {
     "name": "stdout",
     "output_type": "stream",
     "text": [
      "\n",
      "\n",
      "\n"
     ]
    }
   ],
   "source": [
    "histogram gle_rgdpc"
   ]
  },
  {
   "cell_type": "markdown",
   "metadata": {},
   "source": [
    "På x-axeln visas BNP per capita i amerikanska dollar. Staplarna visar hur många länder som befinner sig i varje intervall. Vi ser alltså att det är en skev fördelning - det finns många fattiga länder, och några få väldigt rika."
   ]
  },
  {
   "cell_type": "markdown",
   "metadata": {},
   "source": [
    "## Ändra inställningarna för y-axeln\n",
    "\n",
    "Men diagrammet lämnar en del att önska. Det som visas på y-axeln är densitet, vilket är ganska ointuitivt för en oinsatt läsare. Om man istället vill visa antalet länder får vi läga till ett option, freq."
   ]
  },
  {
   "cell_type": "code",
   "execution_count": 6,
   "metadata": {},
   "outputs": [
    {
     "name": "stdout",
     "output_type": "stream",
     "text": [
      "(bin=13, start=285.95001, width=7339.3091)\n"
     ]
    },
    {
     "data": {
      "application/pdf": "[encoded data removed]",
      "image/svg+xml": [
       "<?xml version=\"1.0\" encoding=\"UTF-8\" standalone=\"no\"?>\n",
       "<!-- This is a Stata 15.0 generated SVG file (http://www.stata.com) -->\n",
       "\n",
       "<svg version=\"1.1\" width=\"600px\" height=\"436px\" viewBox=\"0 0 3960 2880\" xmlns=\"http://www.w3.org/2000/svg\" xmlns:xlink=\"http://www.w3.org/1999/xlink\">\n",
       "\t<desc>Stata Graph - Graph</desc>\n",
       "\t<rect x=\"0\" y=\"0\" width=\"3960\" height=\"2880\" style=\"fill:#EAF2F3;stroke:none\"/>\n",
       "\t<rect x=\"0.00\" y=\"0.00\" width=\"3959.88\" height=\"2880.00\" style=\"fill:#EAF2F3\"/>\n",
       "\t<rect x=\"2.88\" y=\"2.88\" width=\"3954.12\" height=\"2874.24\" style=\"fill:none;stroke:#EAF2F3;stroke-width:5.76\"/>\n",
       "\t<rect x=\"390.80\" y=\"100.86\" width=\"3468.22\" height=\"2388.33\" style=\"fill:#FFFFFF\"/>\n",
       "\t<rect x=\"393.68\" y=\"103.74\" width=\"3462.46\" height=\"2382.57\" style=\"fill:none;stroke:#FFFFFF;stroke-width:5.76\"/>\n",
       "\t<line x1=\"390.80\" y1=\"2489.19\" x2=\"3859.02\" y2=\"2489.19\" style=\"stroke:#EAF2F3;stroke-width:8.64\"/>\n",
       "\t<line x1=\"390.80\" y1=\"2024.24\" x2=\"3859.02\" y2=\"2024.24\" style=\"stroke:#EAF2F3;stroke-width:8.64\"/>\n",
       "\t<line x1=\"390.80\" y1=\"1559.17\" x2=\"3859.02\" y2=\"1559.17\" style=\"stroke:#EAF2F3;stroke-width:8.64\"/>\n",
       "\t<line x1=\"390.80\" y1=\"1094.23\" x2=\"3859.02\" y2=\"1094.23\" style=\"stroke:#EAF2F3;stroke-width:8.64\"/>\n",
       "\t<line x1=\"390.80\" y1=\"629.16\" x2=\"3859.02\" y2=\"629.16\" style=\"stroke:#EAF2F3;stroke-width:8.64\"/>\n",
       "\t<line x1=\"390.80\" y1=\"164.22\" x2=\"3859.02\" y2=\"164.22\" style=\"stroke:#EAF2F3;stroke-width:8.64\"/>\n",
       "\t<rect x=\"572.72\" y=\"187.36\" width=\"237.23\" height=\"2301.82\" style=\"fill:#CAC27E\"/>\n",
       "\t<rect x=\"577.03\" y=\"191.68\" width=\"228.59\" height=\"2293.18\" style=\"fill:none;stroke:#D7D29E;stroke-width:8.64\"/>\n",
       "\t<rect x=\"809.94\" y=\"1559.17\" width=\"237.23\" height=\"930.01\" style=\"fill:#CAC27E\"/>\n",
       "\t<rect x=\"814.26\" y=\"1563.49\" width=\"228.59\" height=\"921.37\" style=\"fill:none;stroke:#D7D29E;stroke-width:8.64\"/>\n",
       "\t<rect x=\"1047.17\" y=\"2070.65\" width=\"237.23\" height=\"418.54\" style=\"fill:#CAC27E\"/>\n",
       "\t<rect x=\"1051.49\" y=\"2074.97\" width=\"228.59\" height=\"409.90\" style=\"fill:none;stroke:#D7D29E;stroke-width:8.64\"/>\n",
       "\t<rect x=\"1284.40\" y=\"2256.65\" width=\"237.23\" height=\"232.53\" style=\"fill:#CAC27E\"/>\n",
       "\t<rect x=\"1288.72\" y=\"2260.97\" width=\"228.59\" height=\"223.89\" style=\"fill:none;stroke:#D7D29E;stroke-width:8.64\"/>\n",
       "\t<rect x=\"1521.63\" y=\"2210.24\" width=\"237.23\" height=\"278.94\" style=\"fill:#CAC27E\"/>\n",
       "\t<rect x=\"1525.95\" y=\"2214.56\" width=\"228.59\" height=\"270.30\" style=\"fill:none;stroke:#D7D29E;stroke-width:8.64\"/>\n",
       "\t<rect x=\"1758.86\" y=\"2372.98\" width=\"237.23\" height=\"116.20\" style=\"fill:#CAC27E\"/>\n",
       "\t<rect x=\"1763.18\" y=\"2377.30\" width=\"228.59\" height=\"107.57\" style=\"fill:none;stroke:#D7D29E;stroke-width:8.64\"/>\n",
       "\t<rect x=\"1996.09\" y=\"2419.51\" width=\"237.23\" height=\"69.67\" style=\"fill:#CAC27E\"/>\n",
       "\t<rect x=\"2000.41\" y=\"2423.83\" width=\"228.59\" height=\"61.03\" style=\"fill:none;stroke:#D7D29E;stroke-width:8.64\"/>\n",
       "\t<rect x=\"2233.32\" y=\"2442.65\" width=\"237.23\" height=\"46.53\" style=\"fill:#CAC27E\"/>\n",
       "\t<rect x=\"2237.64\" y=\"2446.97\" width=\"228.59\" height=\"37.89\" style=\"fill:none;stroke:#D7D29E;stroke-width:8.64\"/>\n",
       "\t<rect x=\"3419.46\" y=\"2419.51\" width=\"237.23\" height=\"69.67\" style=\"fill:#CAC27E\"/>\n",
       "\t<rect x=\"3423.78\" y=\"2423.83\" width=\"228.59\" height=\"61.03\" style=\"fill:none;stroke:#D7D29E;stroke-width:8.64\"/>\n",
       "\t<line x1=\"390.80\" y1=\"2489.19\" x2=\"390.80\" y2=\"100.86\" style=\"stroke:#000000;stroke-width:5.76\"/>\n",
       "\t<line x1=\"390.80\" y1=\"2489.19\" x2=\"350.83\" y2=\"2489.19\" style=\"stroke:#000000;stroke-width:5.76\"/>\n",
       "\t<text x=\"300.72\" y=\"2489.19\" style=\"font-family:'Helvetica';font-size:99.99px;fill:#000000\" transform=\"rotate(-90 300.72,2489.19)\" text-anchor=\"middle\">0</text>\n",
       "\t<line x1=\"390.80\" y1=\"2024.24\" x2=\"350.83\" y2=\"2024.24\" style=\"stroke:#000000;stroke-width:5.76\"/>\n",
       "\t<text x=\"300.72\" y=\"2024.24\" style=\"font-family:'Helvetica';font-size:99.99px;fill:#000000\" transform=\"rotate(-90 300.72,2024.24)\" text-anchor=\"middle\">20</text>\n",
       "\t<line x1=\"390.80\" y1=\"1559.17\" x2=\"350.83\" y2=\"1559.17\" style=\"stroke:#000000;stroke-width:5.76\"/>\n",
       "\t<text x=\"300.72\" y=\"1559.17\" style=\"font-family:'Helvetica';font-size:99.99px;fill:#000000\" transform=\"rotate(-90 300.72,1559.17)\" text-anchor=\"middle\">40</text>\n",
       "\t<line x1=\"390.80\" y1=\"1094.23\" x2=\"350.83\" y2=\"1094.23\" style=\"stroke:#000000;stroke-width:5.76\"/>\n",
       "\t<text x=\"300.72\" y=\"1094.23\" style=\"font-family:'Helvetica';font-size:99.99px;fill:#000000\" transform=\"rotate(-90 300.72,1094.23)\" text-anchor=\"middle\">60</text>\n",
       "\t<line x1=\"390.80\" y1=\"629.16\" x2=\"350.83\" y2=\"629.16\" style=\"stroke:#000000;stroke-width:5.76\"/>\n",
       "\t<text x=\"300.72\" y=\"629.16\" style=\"font-family:'Helvetica';font-size:99.99px;fill:#000000\" transform=\"rotate(-90 300.72,629.16)\" text-anchor=\"middle\">80</text>\n",
       "\t<line x1=\"390.80\" y1=\"164.22\" x2=\"350.83\" y2=\"164.22\" style=\"stroke:#000000;stroke-width:5.76\"/>\n",
       "\t<text x=\"300.72\" y=\"164.22\" style=\"font-family:'Helvetica';font-size:99.99px;fill:#000000\" transform=\"rotate(-90 300.72,164.22)\" text-anchor=\"middle\">100</text>\n",
       "\t<text x=\"190.71\" y=\"1294.96\" style=\"font-family:'Helvetica';font-size:99.99px;fill:#000000\" transform=\"rotate(-90 190.71,1294.96)\" text-anchor=\"middle\">Frequency</text>\n",
       "\t<line x1=\"390.80\" y1=\"2489.19\" x2=\"3859.02\" y2=\"2489.19\" style=\"stroke:#000000;stroke-width:5.76\"/>\n",
       "\t<line x1=\"563.56\" y1=\"2489.19\" x2=\"563.56\" y2=\"2529.16\" style=\"stroke:#000000;stroke-width:5.76\"/>\n",
       "\t<text x=\"563.56\" y=\"2619.14\" style=\"font-family:'Helvetica';font-size:99.99px;fill:#000000\" text-anchor=\"middle\">0</text>\n",
       "\t<line x1=\"1209.90\" y1=\"2489.19\" x2=\"1209.90\" y2=\"2529.16\" style=\"stroke:#000000;stroke-width:5.76\"/>\n",
       "\t<text x=\"1209.90\" y=\"2619.14\" style=\"font-family:'Helvetica';font-size:99.99px;fill:#000000\" text-anchor=\"middle\">20000</text>\n",
       "\t<line x1=\"1856.37\" y1=\"2489.19\" x2=\"1856.37\" y2=\"2529.16\" style=\"stroke:#000000;stroke-width:5.76\"/>\n",
       "\t<text x=\"1856.37\" y=\"2619.14\" style=\"font-family:'Helvetica';font-size:99.99px;fill:#000000\" text-anchor=\"middle\">40000</text>\n",
       "\t<line x1=\"2502.84\" y1=\"2489.19\" x2=\"2502.84\" y2=\"2529.16\" style=\"stroke:#000000;stroke-width:5.76\"/>\n",
       "\t<text x=\"2502.84\" y=\"2619.14\" style=\"font-family:'Helvetica';font-size:99.99px;fill:#000000\" text-anchor=\"middle\">60000</text>\n",
       "\t<line x1=\"3149.31\" y1=\"2489.19\" x2=\"3149.31\" y2=\"2529.16\" style=\"stroke:#000000;stroke-width:5.76\"/>\n",
       "\t<text x=\"3149.31\" y=\"2619.14\" style=\"font-family:'Helvetica';font-size:99.99px;fill:#000000\" text-anchor=\"middle\">80000</text>\n",
       "\t<line x1=\"3795.66\" y1=\"2489.19\" x2=\"3795.66\" y2=\"2529.16\" style=\"stroke:#000000;stroke-width:5.76\"/>\n",
       "\t<text x=\"3795.66\" y=\"2619.14\" style=\"font-family:'Helvetica';font-size:99.99px;fill:#000000\" text-anchor=\"middle\">100000</text>\n",
       "\t<text x=\"2124.91\" y=\"2729.16\" style=\"font-family:'Helvetica';font-size:99.99px;fill:#000000\" text-anchor=\"middle\">Real GDP per Capita (2005)</text>\n",
       "</svg>\n"
      ],
      "text/plain": [
       "This front-end cannot display the desired image type."
      ]
     },
     "metadata": {
      "image/svg+xml": {
       "height": 436,
       "width": 600
      }
     },
     "output_type": "display_data"
    },
    {
     "name": "stdout",
     "output_type": "stream",
     "text": [
      "\n",
      "\n",
      "\n"
     ]
    }
   ],
   "source": [
    "histogram gle_rgdpc, freq"
   ]
  },
  {
   "cell_type": "markdown",
   "metadata": {},
   "source": [
    "Vi kan nu se att nästan hundra länder återfinns i den lägsta stapeln. Det är ganska pedagogiskt när det handlar om länder, där det är ganska välkänt att det finns ungefär 200. Men i många andra fall är det inte lika känt, och det absoluta antalet är inte särskilt intressant. Till exempel i en enkätundersökning. Då är andelen mycket intressantare. Vi kan få fram procentandelen genom att byta ut freq mot percent. Vi kan då se att fler än hälften av alla länder finns i den fattigaste stapeln."
   ]
  },
  {
   "cell_type": "code",
   "execution_count": 7,
   "metadata": {},
   "outputs": [
    {
     "name": "stdout",
     "output_type": "stream",
     "text": [
      "(bin=13, start=285.95001, width=7339.3091)\n"
     ]
    },
    {
     "data": {
      "application/pdf": "[encoded data removed]",
      "image/svg+xml": [
       "<?xml version=\"1.0\" encoding=\"UTF-8\" standalone=\"no\"?>\n",
       "<!-- This is a Stata 15.0 generated SVG file (http://www.stata.com) -->\n",
       "\n",
       "<svg version=\"1.1\" width=\"600px\" height=\"436px\" viewBox=\"0 0 3960 2880\" xmlns=\"http://www.w3.org/2000/svg\" xmlns:xlink=\"http://www.w3.org/1999/xlink\">\n",
       "\t<desc>Stata Graph - Graph</desc>\n",
       "\t<rect x=\"0\" y=\"0\" width=\"3960\" height=\"2880\" style=\"fill:#EAF2F3;stroke:none\"/>\n",
       "\t<rect x=\"0.00\" y=\"0.00\" width=\"3959.88\" height=\"2880.00\" style=\"fill:#EAF2F3\"/>\n",
       "\t<rect x=\"2.88\" y=\"2.88\" width=\"3954.12\" height=\"2874.24\" style=\"fill:none;stroke:#EAF2F3;stroke-width:5.76\"/>\n",
       "\t<rect x=\"390.80\" y=\"100.86\" width=\"3468.22\" height=\"2388.33\" style=\"fill:#FFFFFF\"/>\n",
       "\t<rect x=\"393.68\" y=\"103.74\" width=\"3462.46\" height=\"2382.57\" style=\"fill:none;stroke:#FFFFFF;stroke-width:5.76\"/>\n",
       "\t<line x1=\"390.80\" y1=\"2489.19\" x2=\"3859.02\" y2=\"2489.19\" style=\"stroke:#EAF2F3;stroke-width:8.64\"/>\n",
       "\t<line x1=\"390.80\" y1=\"2038.35\" x2=\"3859.02\" y2=\"2038.35\" style=\"stroke:#EAF2F3;stroke-width:8.64\"/>\n",
       "\t<line x1=\"390.80\" y1=\"1587.39\" x2=\"3859.02\" y2=\"1587.39\" style=\"stroke:#EAF2F3;stroke-width:8.64\"/>\n",
       "\t<line x1=\"390.80\" y1=\"1136.43\" x2=\"3859.02\" y2=\"1136.43\" style=\"stroke:#EAF2F3;stroke-width:8.64\"/>\n",
       "\t<line x1=\"390.80\" y1=\"685.47\" x2=\"3859.02\" y2=\"685.47\" style=\"stroke:#EAF2F3;stroke-width:8.64\"/>\n",
       "\t<line x1=\"390.80\" y1=\"234.64\" x2=\"3859.02\" y2=\"234.64\" style=\"stroke:#EAF2F3;stroke-width:8.64\"/>\n",
       "\t<rect x=\"572.72\" y=\"164.22\" width=\"237.23\" height=\"2324.96\" style=\"fill:#CAC27E\"/>\n",
       "\t<rect x=\"577.03\" y=\"168.54\" width=\"228.59\" height=\"2316.32\" style=\"fill:none;stroke:#D7D29E;stroke-width:8.64\"/>\n",
       "\t<rect x=\"809.94\" y=\"1549.77\" width=\"237.23\" height=\"939.42\" style=\"fill:#CAC27E\"/>\n",
       "\t<rect x=\"814.26\" y=\"1554.09\" width=\"228.59\" height=\"930.78\" style=\"fill:none;stroke:#D7D29E;stroke-width:8.64\"/>\n",
       "\t<rect x=\"1047.17\" y=\"2066.44\" width=\"237.23\" height=\"422.74\" style=\"fill:#CAC27E\"/>\n",
       "\t<rect x=\"1051.49\" y=\"2070.76\" width=\"228.59\" height=\"414.10\" style=\"fill:none;stroke:#D7D29E;stroke-width:8.64\"/>\n",
       "\t<rect x=\"1284.40\" y=\"2254.30\" width=\"237.23\" height=\"234.88\" style=\"fill:#CAC27E\"/>\n",
       "\t<rect x=\"1288.72\" y=\"2258.62\" width=\"228.59\" height=\"226.25\" style=\"fill:none;stroke:#D7D29E;stroke-width:8.64\"/>\n",
       "\t<rect x=\"1521.63\" y=\"2207.40\" width=\"237.23\" height=\"281.79\" style=\"fill:#CAC27E\"/>\n",
       "\t<rect x=\"1525.95\" y=\"2211.72\" width=\"228.59\" height=\"273.15\" style=\"fill:none;stroke:#D7D29E;stroke-width:8.64\"/>\n",
       "\t<rect x=\"1758.86\" y=\"2371.74\" width=\"237.23\" height=\"117.44\" style=\"fill:#CAC27E\"/>\n",
       "\t<rect x=\"1763.18\" y=\"2376.06\" width=\"228.59\" height=\"108.80\" style=\"fill:none;stroke:#D7D29E;stroke-width:8.64\"/>\n",
       "\t<rect x=\"1996.09\" y=\"2418.77\" width=\"237.23\" height=\"70.42\" style=\"fill:#CAC27E\"/>\n",
       "\t<rect x=\"2000.41\" y=\"2423.09\" width=\"228.59\" height=\"61.78\" style=\"fill:none;stroke:#D7D29E;stroke-width:8.64\"/>\n",
       "\t<rect x=\"2233.32\" y=\"2442.28\" width=\"237.23\" height=\"46.90\" style=\"fill:#CAC27E\"/>\n",
       "\t<rect x=\"2237.64\" y=\"2446.60\" width=\"228.59\" height=\"38.26\" style=\"fill:none;stroke:#D7D29E;stroke-width:8.64\"/>\n",
       "\t<rect x=\"3419.46\" y=\"2418.77\" width=\"237.23\" height=\"70.42\" style=\"fill:#CAC27E\"/>\n",
       "\t<rect x=\"3423.78\" y=\"2423.09\" width=\"228.59\" height=\"61.78\" style=\"fill:none;stroke:#D7D29E;stroke-width:8.64\"/>\n",
       "\t<line x1=\"390.80\" y1=\"2489.19\" x2=\"390.80\" y2=\"100.86\" style=\"stroke:#000000;stroke-width:5.76\"/>\n",
       "\t<line x1=\"390.80\" y1=\"2489.19\" x2=\"350.83\" y2=\"2489.19\" style=\"stroke:#000000;stroke-width:5.76\"/>\n",
       "\t<text x=\"300.72\" y=\"2489.19\" style=\"font-family:'Helvetica';font-size:99.99px;fill:#000000\" transform=\"rotate(-90 300.72,2489.19)\" text-anchor=\"middle\">0</text>\n",
       "\t<line x1=\"390.80\" y1=\"2038.35\" x2=\"350.83\" y2=\"2038.35\" style=\"stroke:#000000;stroke-width:5.76\"/>\n",
       "\t<text x=\"300.72\" y=\"2038.35\" style=\"font-family:'Helvetica';font-size:99.99px;fill:#000000\" transform=\"rotate(-90 300.72,2038.35)\" text-anchor=\"middle\">10</text>\n",
       "\t<line x1=\"390.80\" y1=\"1587.39\" x2=\"350.83\" y2=\"1587.39\" style=\"stroke:#000000;stroke-width:5.76\"/>\n",
       "\t<text x=\"300.72\" y=\"1587.39\" style=\"font-family:'Helvetica';font-size:99.99px;fill:#000000\" transform=\"rotate(-90 300.72,1587.39)\" text-anchor=\"middle\">20</text>\n",
       "\t<line x1=\"390.80\" y1=\"1136.43\" x2=\"350.83\" y2=\"1136.43\" style=\"stroke:#000000;stroke-width:5.76\"/>\n",
       "\t<text x=\"300.72\" y=\"1136.43\" style=\"font-family:'Helvetica';font-size:99.99px;fill:#000000\" transform=\"rotate(-90 300.72,1136.43)\" text-anchor=\"middle\">30</text>\n",
       "\t<line x1=\"390.80\" y1=\"685.47\" x2=\"350.83\" y2=\"685.47\" style=\"stroke:#000000;stroke-width:5.76\"/>\n",
       "\t<text x=\"300.72\" y=\"685.47\" style=\"font-family:'Helvetica';font-size:99.99px;fill:#000000\" transform=\"rotate(-90 300.72,685.47)\" text-anchor=\"middle\">40</text>\n",
       "\t<line x1=\"390.80\" y1=\"234.64\" x2=\"350.83\" y2=\"234.64\" style=\"stroke:#000000;stroke-width:5.76\"/>\n",
       "\t<text x=\"300.72\" y=\"234.64\" style=\"font-family:'Helvetica';font-size:99.99px;fill:#000000\" transform=\"rotate(-90 300.72,234.64)\" text-anchor=\"middle\">50</text>\n",
       "\t<text x=\"190.71\" y=\"1294.96\" style=\"font-family:'Helvetica';font-size:99.99px;fill:#000000\" transform=\"rotate(-90 190.71,1294.96)\" text-anchor=\"middle\">Percent</text>\n",
       "\t<line x1=\"390.80\" y1=\"2489.19\" x2=\"3859.02\" y2=\"2489.19\" style=\"stroke:#000000;stroke-width:5.76\"/>\n",
       "\t<line x1=\"563.56\" y1=\"2489.19\" x2=\"563.56\" y2=\"2529.16\" style=\"stroke:#000000;stroke-width:5.76\"/>\n",
       "\t<text x=\"563.56\" y=\"2619.14\" style=\"font-family:'Helvetica';font-size:99.99px;fill:#000000\" text-anchor=\"middle\">0</text>\n",
       "\t<line x1=\"1209.90\" y1=\"2489.19\" x2=\"1209.90\" y2=\"2529.16\" style=\"stroke:#000000;stroke-width:5.76\"/>\n",
       "\t<text x=\"1209.90\" y=\"2619.14\" style=\"font-family:'Helvetica';font-size:99.99px;fill:#000000\" text-anchor=\"middle\">20000</text>\n",
       "\t<line x1=\"1856.37\" y1=\"2489.19\" x2=\"1856.37\" y2=\"2529.16\" style=\"stroke:#000000;stroke-width:5.76\"/>\n",
       "\t<text x=\"1856.37\" y=\"2619.14\" style=\"font-family:'Helvetica';font-size:99.99px;fill:#000000\" text-anchor=\"middle\">40000</text>\n",
       "\t<line x1=\"2502.84\" y1=\"2489.19\" x2=\"2502.84\" y2=\"2529.16\" style=\"stroke:#000000;stroke-width:5.76\"/>\n",
       "\t<text x=\"2502.84\" y=\"2619.14\" style=\"font-family:'Helvetica';font-size:99.99px;fill:#000000\" text-anchor=\"middle\">60000</text>\n",
       "\t<line x1=\"3149.31\" y1=\"2489.19\" x2=\"3149.31\" y2=\"2529.16\" style=\"stroke:#000000;stroke-width:5.76\"/>\n",
       "\t<text x=\"3149.31\" y=\"2619.14\" style=\"font-family:'Helvetica';font-size:99.99px;fill:#000000\" text-anchor=\"middle\">80000</text>\n",
       "\t<line x1=\"3795.66\" y1=\"2489.19\" x2=\"3795.66\" y2=\"2529.16\" style=\"stroke:#000000;stroke-width:5.76\"/>\n",
       "\t<text x=\"3795.66\" y=\"2619.14\" style=\"font-family:'Helvetica';font-size:99.99px;fill:#000000\" text-anchor=\"middle\">100000</text>\n",
       "\t<text x=\"2124.91\" y=\"2729.16\" style=\"font-family:'Helvetica';font-size:99.99px;fill:#000000\" text-anchor=\"middle\">Real GDP per Capita (2005)</text>\n",
       "</svg>\n"
      ],
      "text/plain": [
       "This front-end cannot display the desired image type."
      ]
     },
     "metadata": {
      "image/svg+xml": {
       "height": 436,
       "width": 600
      }
     },
     "output_type": "display_data"
    },
    {
     "name": "stdout",
     "output_type": "stream",
     "text": [
      "\n",
      "\n",
      "\n"
     ]
    }
   ],
   "source": [
    "histogram gle_rgdpc, percent"
   ]
  },
  {
   "cell_type": "markdown",
   "metadata": {},
   "source": [
    "## Ändra staplarnas bredd\n",
    "\n",
    "Men det är fortfarande inte helt lät att avgöra hur fattiga länderna är. I detaljerna innan själva diagrammet ser vi att den första stapeln börjar på det minsta värdet i datamängden, 285,95, och att varje stapel är 7339 bred. Det är inte särskilt pedagogiskt. Det duger när man själv bara vill få en snabb överblick, men när man ska presentera sina resultat för någon annan bör det vara så lättöverskådligt som möjligt.\n",
    "\n",
    "Därför bör vi ändra så att staplarna börjar på 0, och sen följer något jämnt och fint intervall, till exempel 5000 dollar. Det gör vi genom att lägga till två ytterligare options. Det spelar ingen roll i vilken ordning vi skriver options."
   ]
  },
  {
   "cell_type": "code",
   "execution_count": 8,
   "metadata": {},
   "outputs": [
    {
     "name": "stdout",
     "output_type": "stream",
     "text": [
      "(bin=20, start=0, width=5000)\n",
      "\n",
      "(note: file /Users/anderssundell/.stata_kernel_cache/graph6.svg not found)\n"
     ]
    },
    {
     "data": {
      "application/pdf": "[encoded data removed]",
      "image/svg+xml": [
       "<?xml version=\"1.0\" encoding=\"UTF-8\" standalone=\"no\"?>\n",
       "<!-- This is a Stata 15.0 generated SVG file (http://www.stata.com) -->\n",
       "\n",
       "<svg version=\"1.1\" width=\"600px\" height=\"436px\" viewBox=\"0 0 3960 2880\" xmlns=\"http://www.w3.org/2000/svg\" xmlns:xlink=\"http://www.w3.org/1999/xlink\">\n",
       "\t<desc>Stata Graph - Graph</desc>\n",
       "\t<rect x=\"0\" y=\"0\" width=\"3960\" height=\"2880\" style=\"fill:#EAF2F3;stroke:none\"/>\n",
       "\t<rect x=\"0.00\" y=\"0.00\" width=\"3959.88\" height=\"2880.00\" style=\"fill:#EAF2F3\"/>\n",
       "\t<rect x=\"2.88\" y=\"2.88\" width=\"3954.12\" height=\"2874.24\" style=\"fill:none;stroke:#EAF2F3;stroke-width:5.76\"/>\n",
       "\t<rect x=\"390.80\" y=\"100.86\" width=\"3468.22\" height=\"2388.33\" style=\"fill:#FFFFFF\"/>\n",
       "\t<rect x=\"393.68\" y=\"103.74\" width=\"3462.46\" height=\"2382.57\" style=\"fill:none;stroke:#FFFFFF;stroke-width:5.76\"/>\n",
       "\t<line x1=\"390.80\" y1=\"2489.19\" x2=\"3859.02\" y2=\"2489.19\" style=\"stroke:#EAF2F3;stroke-width:8.64\"/>\n",
       "\t<line x1=\"390.80\" y1=\"1963.97\" x2=\"3859.02\" y2=\"1963.97\" style=\"stroke:#EAF2F3;stroke-width:8.64\"/>\n",
       "\t<line x1=\"390.80\" y1=\"1438.89\" x2=\"3859.02\" y2=\"1438.89\" style=\"stroke:#EAF2F3;stroke-width:8.64\"/>\n",
       "\t<line x1=\"390.80\" y1=\"913.67\" x2=\"3859.02\" y2=\"913.67\" style=\"stroke:#EAF2F3;stroke-width:8.64\"/>\n",
       "\t<line x1=\"390.80\" y1=\"388.46\" x2=\"3859.02\" y2=\"388.46\" style=\"stroke:#EAF2F3;stroke-width:8.64\"/>\n",
       "\t<rect x=\"535.59\" y=\"164.22\" width=\"163.10\" height=\"2324.96\" style=\"fill:#CAC27E\"/>\n",
       "\t<rect x=\"539.91\" y=\"168.54\" width=\"154.46\" height=\"2316.32\" style=\"fill:none;stroke:#D7D29E;stroke-width:8.64\"/>\n",
       "\t<rect x=\"698.69\" y=\"1641.22\" width=\"162.98\" height=\"847.96\" style=\"fill:#CAC27E\"/>\n",
       "\t<rect x=\"703.01\" y=\"1645.54\" width=\"154.34\" height=\"839.32\" style=\"fill:none;stroke:#D7D29E;stroke-width:8.64\"/>\n",
       "\t<rect x=\"861.67\" y=\"1860.02\" width=\"162.98\" height=\"629.16\" style=\"fill:#CAC27E\"/>\n",
       "\t<rect x=\"865.99\" y=\"1864.34\" width=\"154.34\" height=\"620.52\" style=\"fill:none;stroke:#D7D29E;stroke-width:8.64\"/>\n",
       "\t<rect x=\"1024.65\" y=\"2133.64\" width=\"162.98\" height=\"355.54\" style=\"fill:#CAC27E\"/>\n",
       "\t<rect x=\"1028.97\" y=\"2137.96\" width=\"154.34\" height=\"346.91\" style=\"fill:none;stroke:#D7D29E;stroke-width:8.64\"/>\n",
       "\t<rect x=\"1187.63\" y=\"2215.69\" width=\"162.98\" height=\"273.50\" style=\"fill:#CAC27E\"/>\n",
       "\t<rect x=\"1191.95\" y=\"2220.01\" width=\"154.34\" height=\"264.86\" style=\"fill:none;stroke:#D7D29E;stroke-width:8.64\"/>\n",
       "\t<rect x=\"1350.61\" y=\"2297.74\" width=\"163.10\" height=\"191.45\" style=\"fill:#CAC27E\"/>\n",
       "\t<rect x=\"1354.93\" y=\"2302.06\" width=\"154.46\" height=\"182.81\" style=\"fill:none;stroke:#D7D29E;stroke-width:8.64\"/>\n",
       "\t<rect x=\"1513.71\" y=\"2215.69\" width=\"162.98\" height=\"273.50\" style=\"fill:#CAC27E\"/>\n",
       "\t<rect x=\"1518.03\" y=\"2220.01\" width=\"154.34\" height=\"264.86\" style=\"fill:none;stroke:#D7D29E;stroke-width:8.64\"/>\n",
       "\t<rect x=\"1676.69\" y=\"2434.49\" width=\"162.98\" height=\"54.70\" style=\"fill:#CAC27E\"/>\n",
       "\t<rect x=\"1681.01\" y=\"2438.81\" width=\"154.34\" height=\"46.06\" style=\"fill:none;stroke:#D7D29E;stroke-width:8.64\"/>\n",
       "\t<rect x=\"1839.67\" y=\"2379.79\" width=\"162.98\" height=\"109.40\" style=\"fill:#CAC27E\"/>\n",
       "\t<rect x=\"1843.99\" y=\"2384.11\" width=\"154.34\" height=\"100.76\" style=\"fill:none;stroke:#D7D29E;stroke-width:8.64\"/>\n",
       "\t<rect x=\"2002.65\" y=\"2461.84\" width=\"162.98\" height=\"27.35\" style=\"fill:#CAC27E\"/>\n",
       "\t<rect x=\"2006.97\" y=\"2466.16\" width=\"154.34\" height=\"18.71\" style=\"fill:none;stroke:#D7D29E;stroke-width:8.64\"/>\n",
       "\t<rect x=\"2165.62\" y=\"2434.49\" width=\"163.10\" height=\"54.70\" style=\"fill:#CAC27E\"/>\n",
       "\t<rect x=\"2169.94\" y=\"2438.81\" width=\"154.46\" height=\"46.06\" style=\"fill:none;stroke:#D7D29E;stroke-width:8.64\"/>\n",
       "\t<rect x=\"2328.73\" y=\"2461.84\" width=\"162.98\" height=\"27.35\" style=\"fill:#CAC27E\"/>\n",
       "\t<rect x=\"2333.05\" y=\"2466.16\" width=\"154.34\" height=\"18.71\" style=\"fill:none;stroke:#D7D29E;stroke-width:8.64\"/>\n",
       "\t<rect x=\"3469.70\" y=\"2434.49\" width=\"162.98\" height=\"54.70\" style=\"fill:#CAC27E\"/>\n",
       "\t<rect x=\"3474.02\" y=\"2438.81\" width=\"154.34\" height=\"46.06\" style=\"fill:none;stroke:#D7D29E;stroke-width:8.64\"/>\n",
       "\t<rect x=\"3632.68\" y=\"2461.84\" width=\"162.98\" height=\"27.35\" style=\"fill:#CAC27E\"/>\n",
       "\t<rect x=\"3637.00\" y=\"2466.16\" width=\"154.34\" height=\"18.71\" style=\"fill:none;stroke:#D7D29E;stroke-width:8.64\"/>\n",
       "\t<line x1=\"390.80\" y1=\"2489.19\" x2=\"390.80\" y2=\"100.86\" style=\"stroke:#000000;stroke-width:5.76\"/>\n",
       "\t<line x1=\"390.80\" y1=\"2489.19\" x2=\"350.83\" y2=\"2489.19\" style=\"stroke:#000000;stroke-width:5.76\"/>\n",
       "\t<text x=\"300.72\" y=\"2489.19\" style=\"font-family:'Helvetica';font-size:99.99px;fill:#000000\" transform=\"rotate(-90 300.72,2489.19)\" text-anchor=\"middle\">0</text>\n",
       "\t<line x1=\"390.80\" y1=\"1963.97\" x2=\"350.83\" y2=\"1963.97\" style=\"stroke:#000000;stroke-width:5.76\"/>\n",
       "\t<text x=\"300.72\" y=\"1963.97\" style=\"font-family:'Helvetica';font-size:99.99px;fill:#000000\" transform=\"rotate(-90 300.72,1963.97)\" text-anchor=\"middle\">10</text>\n",
       "\t<line x1=\"390.80\" y1=\"1438.89\" x2=\"350.83\" y2=\"1438.89\" style=\"stroke:#000000;stroke-width:5.76\"/>\n",
       "\t<text x=\"300.72\" y=\"1438.89\" style=\"font-family:'Helvetica';font-size:99.99px;fill:#000000\" transform=\"rotate(-90 300.72,1438.89)\" text-anchor=\"middle\">20</text>\n",
       "\t<line x1=\"390.80\" y1=\"913.67\" x2=\"350.83\" y2=\"913.67\" style=\"stroke:#000000;stroke-width:5.76\"/>\n",
       "\t<text x=\"300.72\" y=\"913.67\" style=\"font-family:'Helvetica';font-size:99.99px;fill:#000000\" transform=\"rotate(-90 300.72,913.67)\" text-anchor=\"middle\">30</text>\n",
       "\t<line x1=\"390.80\" y1=\"388.46\" x2=\"350.83\" y2=\"388.46\" style=\"stroke:#000000;stroke-width:5.76\"/>\n",
       "\t<text x=\"300.72\" y=\"388.46\" style=\"font-family:'Helvetica';font-size:99.99px;fill:#000000\" transform=\"rotate(-90 300.72,388.46)\" text-anchor=\"middle\">40</text>\n",
       "\t<text x=\"190.71\" y=\"1294.96\" style=\"font-family:'Helvetica';font-size:99.99px;fill:#000000\" transform=\"rotate(-90 190.71,1294.96)\" text-anchor=\"middle\">Percent</text>\n",
       "\t<line x1=\"390.80\" y1=\"2489.19\" x2=\"3859.02\" y2=\"2489.19\" style=\"stroke:#000000;stroke-width:5.76\"/>\n",
       "\t<line x1=\"535.59\" y1=\"2489.19\" x2=\"535.59\" y2=\"2529.16\" style=\"stroke:#000000;stroke-width:5.76\"/>\n",
       "\t<text x=\"535.59\" y=\"2619.14\" style=\"font-family:'Helvetica';font-size:99.99px;fill:#000000\" text-anchor=\"middle\">0</text>\n",
       "\t<line x1=\"1187.63\" y1=\"2489.19\" x2=\"1187.63\" y2=\"2529.16\" style=\"stroke:#000000;stroke-width:5.76\"/>\n",
       "\t<text x=\"1187.63\" y=\"2619.14\" style=\"font-family:'Helvetica';font-size:99.99px;fill:#000000\" text-anchor=\"middle\">20000</text>\n",
       "\t<line x1=\"1839.67\" y1=\"2489.19\" x2=\"1839.67\" y2=\"2529.16\" style=\"stroke:#000000;stroke-width:5.76\"/>\n",
       "\t<text x=\"1839.67\" y=\"2619.14\" style=\"font-family:'Helvetica';font-size:99.99px;fill:#000000\" text-anchor=\"middle\">40000</text>\n",
       "\t<line x1=\"2491.71\" y1=\"2489.19\" x2=\"2491.71\" y2=\"2529.16\" style=\"stroke:#000000;stroke-width:5.76\"/>\n",
       "\t<text x=\"2491.71\" y=\"2619.14\" style=\"font-family:'Helvetica';font-size:99.99px;fill:#000000\" text-anchor=\"middle\">60000</text>\n",
       "\t<line x1=\"3143.74\" y1=\"2489.19\" x2=\"3143.74\" y2=\"2529.16\" style=\"stroke:#000000;stroke-width:5.76\"/>\n",
       "\t<text x=\"3143.74\" y=\"2619.14\" style=\"font-family:'Helvetica';font-size:99.99px;fill:#000000\" text-anchor=\"middle\">80000</text>\n",
       "\t<line x1=\"3795.66\" y1=\"2489.19\" x2=\"3795.66\" y2=\"2529.16\" style=\"stroke:#000000;stroke-width:5.76\"/>\n",
       "\t<text x=\"3795.66\" y=\"2619.14\" style=\"font-family:'Helvetica';font-size:99.99px;fill:#000000\" text-anchor=\"middle\">100000</text>\n",
       "\t<text x=\"2124.91\" y=\"2729.16\" style=\"font-family:'Helvetica';font-size:99.99px;fill:#000000\" text-anchor=\"middle\">Real GDP per Capita (2005)</text>\n",
       "</svg>\n"
      ],
      "text/plain": [
       "This front-end cannot display the desired image type."
      ]
     },
     "metadata": {
      "image/svg+xml": {
       "height": 436,
       "width": 600
      }
     },
     "output_type": "display_data"
    },
    {
     "name": "stdout",
     "output_type": "stream",
     "text": [
      "\n",
      "\n"
     ]
    }
   ],
   "source": [
    "histogram gle_rgdpc, percent start(0) width(5000)"
   ]
  },
  {
   "cell_type": "markdown",
   "metadata": {},
   "source": [
    "Det blev nu lite fler staplar, och de är lite smalare. Men det blir mycket lättare att prata om resultaten. Vi kan till exempel se att det är något fler än 40 procent av länderna som har mellan 0 och 5000 dollar i BNP per capita. Vill man göra det ännu tydligare kan man lägga till etiketter som visar exakt hur höga staplarna är, med option addlabels. I det här fallet tycker jag att det blir lite plottrigt, men det kan ju vara intressant att kolla upp för egen del, och så kan man beskriva viktiga värden i texten."
   ]
  },
  {
   "cell_type": "code",
   "execution_count": 9,
   "metadata": {},
   "outputs": [
    {
     "name": "stdout",
     "output_type": "stream",
     "text": [
      "(bin=20, start=0, width=5000)\n",
      "\n",
      "(note: file /Users/anderssundell/.stata_kernel_cache/graph7.svg not found)\n"
     ]
    },
    {
     "data": {
      "application/pdf": "[encoded data removed]",
      "image/svg+xml": [
       "<?xml version=\"1.0\" encoding=\"UTF-8\" standalone=\"no\"?>\n",
       "<!-- This is a Stata 15.0 generated SVG file (http://www.stata.com) -->\n",
       "\n",
       "<svg version=\"1.1\" width=\"600px\" height=\"436px\" viewBox=\"0 0 3960 2880\" xmlns=\"http://www.w3.org/2000/svg\" xmlns:xlink=\"http://www.w3.org/1999/xlink\">\n",
       "\t<desc>Stata Graph - Graph</desc>\n",
       "\t<rect x=\"0\" y=\"0\" width=\"3960\" height=\"2880\" style=\"fill:#EAF2F3;stroke:none\"/>\n",
       "\t<rect x=\"0.00\" y=\"0.00\" width=\"3959.88\" height=\"2880.00\" style=\"fill:#EAF2F3\"/>\n",
       "\t<rect x=\"2.88\" y=\"2.88\" width=\"3954.12\" height=\"2874.24\" style=\"fill:none;stroke:#EAF2F3;stroke-width:5.76\"/>\n",
       "\t<rect x=\"390.80\" y=\"100.86\" width=\"3468.22\" height=\"2388.33\" style=\"fill:#FFFFFF\"/>\n",
       "\t<rect x=\"393.68\" y=\"103.74\" width=\"3462.46\" height=\"2382.57\" style=\"fill:none;stroke:#FFFFFF;stroke-width:5.76\"/>\n",
       "\t<line x1=\"390.80\" y1=\"2489.19\" x2=\"3859.02\" y2=\"2489.19\" style=\"stroke:#EAF2F3;stroke-width:8.64\"/>\n",
       "\t<line x1=\"390.80\" y1=\"1963.97\" x2=\"3859.02\" y2=\"1963.97\" style=\"stroke:#EAF2F3;stroke-width:8.64\"/>\n",
       "\t<line x1=\"390.80\" y1=\"1438.89\" x2=\"3859.02\" y2=\"1438.89\" style=\"stroke:#EAF2F3;stroke-width:8.64\"/>\n",
       "\t<line x1=\"390.80\" y1=\"913.67\" x2=\"3859.02\" y2=\"913.67\" style=\"stroke:#EAF2F3;stroke-width:8.64\"/>\n",
       "\t<line x1=\"390.80\" y1=\"388.46\" x2=\"3859.02\" y2=\"388.46\" style=\"stroke:#EAF2F3;stroke-width:8.64\"/>\n",
       "\t<rect x=\"535.59\" y=\"164.22\" width=\"163.10\" height=\"2324.96\" style=\"fill:#CAC27E\"/>\n",
       "\t<rect x=\"539.91\" y=\"168.54\" width=\"154.46\" height=\"2316.32\" style=\"fill:none;stroke:#D7D29E;stroke-width:8.64\"/>\n",
       "\t<rect x=\"698.69\" y=\"1641.22\" width=\"162.98\" height=\"847.96\" style=\"fill:#CAC27E\"/>\n",
       "\t<rect x=\"703.01\" y=\"1645.54\" width=\"154.34\" height=\"839.32\" style=\"fill:none;stroke:#D7D29E;stroke-width:8.64\"/>\n",
       "\t<rect x=\"861.67\" y=\"1860.02\" width=\"162.98\" height=\"629.16\" style=\"fill:#CAC27E\"/>\n",
       "\t<rect x=\"865.99\" y=\"1864.34\" width=\"154.34\" height=\"620.52\" style=\"fill:none;stroke:#D7D29E;stroke-width:8.64\"/>\n",
       "\t<rect x=\"1024.65\" y=\"2133.64\" width=\"162.98\" height=\"355.54\" style=\"fill:#CAC27E\"/>\n",
       "\t<rect x=\"1028.97\" y=\"2137.96\" width=\"154.34\" height=\"346.91\" style=\"fill:none;stroke:#D7D29E;stroke-width:8.64\"/>\n",
       "\t<rect x=\"1187.63\" y=\"2215.69\" width=\"162.98\" height=\"273.50\" style=\"fill:#CAC27E\"/>\n",
       "\t<rect x=\"1191.95\" y=\"2220.01\" width=\"154.34\" height=\"264.86\" style=\"fill:none;stroke:#D7D29E;stroke-width:8.64\"/>\n",
       "\t<rect x=\"1350.61\" y=\"2297.74\" width=\"163.10\" height=\"191.45\" style=\"fill:#CAC27E\"/>\n",
       "\t<rect x=\"1354.93\" y=\"2302.06\" width=\"154.46\" height=\"182.81\" style=\"fill:none;stroke:#D7D29E;stroke-width:8.64\"/>\n",
       "\t<rect x=\"1513.71\" y=\"2215.69\" width=\"162.98\" height=\"273.50\" style=\"fill:#CAC27E\"/>\n",
       "\t<rect x=\"1518.03\" y=\"2220.01\" width=\"154.34\" height=\"264.86\" style=\"fill:none;stroke:#D7D29E;stroke-width:8.64\"/>\n",
       "\t<rect x=\"1676.69\" y=\"2434.49\" width=\"162.98\" height=\"54.70\" style=\"fill:#CAC27E\"/>\n",
       "\t<rect x=\"1681.01\" y=\"2438.81\" width=\"154.34\" height=\"46.06\" style=\"fill:none;stroke:#D7D29E;stroke-width:8.64\"/>\n",
       "\t<rect x=\"1839.67\" y=\"2379.79\" width=\"162.98\" height=\"109.40\" style=\"fill:#CAC27E\"/>\n",
       "\t<rect x=\"1843.99\" y=\"2384.11\" width=\"154.34\" height=\"100.76\" style=\"fill:none;stroke:#D7D29E;stroke-width:8.64\"/>\n",
       "\t<rect x=\"2002.65\" y=\"2461.84\" width=\"162.98\" height=\"27.35\" style=\"fill:#CAC27E\"/>\n",
       "\t<rect x=\"2006.97\" y=\"2466.16\" width=\"154.34\" height=\"18.71\" style=\"fill:none;stroke:#D7D29E;stroke-width:8.64\"/>\n",
       "\t<rect x=\"2165.62\" y=\"2434.49\" width=\"163.10\" height=\"54.70\" style=\"fill:#CAC27E\"/>\n",
       "\t<rect x=\"2169.94\" y=\"2438.81\" width=\"154.46\" height=\"46.06\" style=\"fill:none;stroke:#D7D29E;stroke-width:8.64\"/>\n",
       "\t<rect x=\"2328.73\" y=\"2461.84\" width=\"162.98\" height=\"27.35\" style=\"fill:#CAC27E\"/>\n",
       "\t<rect x=\"2333.05\" y=\"2466.16\" width=\"154.34\" height=\"18.71\" style=\"fill:none;stroke:#D7D29E;stroke-width:8.64\"/>\n",
       "\t<rect x=\"3469.70\" y=\"2434.49\" width=\"162.98\" height=\"54.70\" style=\"fill:#CAC27E\"/>\n",
       "\t<rect x=\"3474.02\" y=\"2438.81\" width=\"154.34\" height=\"46.06\" style=\"fill:none;stroke:#D7D29E;stroke-width:8.64\"/>\n",
       "\t<rect x=\"3632.68\" y=\"2461.84\" width=\"162.98\" height=\"27.35\" style=\"fill:#CAC27E\"/>\n",
       "\t<rect x=\"3637.00\" y=\"2466.16\" width=\"154.34\" height=\"18.71\" style=\"fill:none;stroke:#D7D29E;stroke-width:8.64\"/>\n",
       "\t<text x=\"617.14\" y=\"116.20\" style=\"font-family:'Helvetica';font-size:79.94px;fill:#000000\" text-anchor=\"middle\">44.27</text>\n",
       "\t<text x=\"780.12\" y=\"1593.21\" style=\"font-family:'Helvetica';font-size:79.94px;fill:#000000\" text-anchor=\"middle\">16.15</text>\n",
       "\t<text x=\"943.10\" y=\"1812.00\" style=\"font-family:'Helvetica';font-size:79.94px;fill:#000000\" text-anchor=\"middle\">11.98</text>\n",
       "\t<text x=\"1106.20\" y=\"2085.62\" style=\"font-family:'Helvetica';font-size:79.94px;fill:#000000\" text-anchor=\"middle\">6.771</text>\n",
       "\t<text x=\"1269.18\" y=\"2167.67\" style=\"font-family:'Helvetica';font-size:79.94px;fill:#000000\" text-anchor=\"middle\">5.208</text>\n",
       "\t<text x=\"1432.16\" y=\"2249.72\" style=\"font-family:'Helvetica';font-size:79.94px;fill:#000000\" text-anchor=\"middle\">3.646</text>\n",
       "\t<text x=\"1595.14\" y=\"2167.67\" style=\"font-family:'Helvetica';font-size:79.94px;fill:#000000\" text-anchor=\"middle\">5.208</text>\n",
       "\t<text x=\"1758.12\" y=\"2386.47\" style=\"font-family:'Helvetica';font-size:79.94px;fill:#000000\" text-anchor=\"middle\">1.042</text>\n",
       "\t<text x=\"1921.22\" y=\"2331.77\" style=\"font-family:'Helvetica';font-size:79.94px;fill:#000000\" text-anchor=\"middle\">2.083</text>\n",
       "\t<text x=\"2084.20\" y=\"2413.82\" style=\"font-family:'Helvetica';font-size:79.94px;fill:#000000\" text-anchor=\"middle\">.5208</text>\n",
       "\t<text x=\"2247.18\" y=\"2386.47\" style=\"font-family:'Helvetica';font-size:79.94px;fill:#000000\" text-anchor=\"middle\">1.042</text>\n",
       "\t<text x=\"2410.16\" y=\"2413.82\" style=\"font-family:'Helvetica';font-size:79.94px;fill:#000000\" text-anchor=\"middle\">.5208</text>\n",
       "\t<text x=\"3551.25\" y=\"2386.47\" style=\"font-family:'Helvetica';font-size:79.94px;fill:#000000\" text-anchor=\"middle\">1.042</text>\n",
       "\t<text x=\"3714.23\" y=\"2413.82\" style=\"font-family:'Helvetica';font-size:79.94px;fill:#000000\" text-anchor=\"middle\">.5208</text>\n",
       "\t<line x1=\"390.80\" y1=\"2489.19\" x2=\"390.80\" y2=\"100.86\" style=\"stroke:#000000;stroke-width:5.76\"/>\n",
       "\t<line x1=\"390.80\" y1=\"2489.19\" x2=\"350.83\" y2=\"2489.19\" style=\"stroke:#000000;stroke-width:5.76\"/>\n",
       "\t<text x=\"300.72\" y=\"2489.19\" style=\"font-family:'Helvetica';font-size:99.99px;fill:#000000\" transform=\"rotate(-90 300.72,2489.19)\" text-anchor=\"middle\">0</text>\n",
       "\t<line x1=\"390.80\" y1=\"1963.97\" x2=\"350.83\" y2=\"1963.97\" style=\"stroke:#000000;stroke-width:5.76\"/>\n",
       "\t<text x=\"300.72\" y=\"1963.97\" style=\"font-family:'Helvetica';font-size:99.99px;fill:#000000\" transform=\"rotate(-90 300.72,1963.97)\" text-anchor=\"middle\">10</text>\n",
       "\t<line x1=\"390.80\" y1=\"1438.89\" x2=\"350.83\" y2=\"1438.89\" style=\"stroke:#000000;stroke-width:5.76\"/>\n",
       "\t<text x=\"300.72\" y=\"1438.89\" style=\"font-family:'Helvetica';font-size:99.99px;fill:#000000\" transform=\"rotate(-90 300.72,1438.89)\" text-anchor=\"middle\">20</text>\n",
       "\t<line x1=\"390.80\" y1=\"913.67\" x2=\"350.83\" y2=\"913.67\" style=\"stroke:#000000;stroke-width:5.76\"/>\n",
       "\t<text x=\"300.72\" y=\"913.67\" style=\"font-family:'Helvetica';font-size:99.99px;fill:#000000\" transform=\"rotate(-90 300.72,913.67)\" text-anchor=\"middle\">30</text>\n",
       "\t<line x1=\"390.80\" y1=\"388.46\" x2=\"350.83\" y2=\"388.46\" style=\"stroke:#000000;stroke-width:5.76\"/>\n",
       "\t<text x=\"300.72\" y=\"388.46\" style=\"font-family:'Helvetica';font-size:99.99px;fill:#000000\" transform=\"rotate(-90 300.72,388.46)\" text-anchor=\"middle\">40</text>\n",
       "\t<text x=\"190.71\" y=\"1294.96\" style=\"font-family:'Helvetica';font-size:99.99px;fill:#000000\" transform=\"rotate(-90 190.71,1294.96)\" text-anchor=\"middle\">Percent</text>\n",
       "\t<line x1=\"390.80\" y1=\"2489.19\" x2=\"3859.02\" y2=\"2489.19\" style=\"stroke:#000000;stroke-width:5.76\"/>\n",
       "\t<line x1=\"535.59\" y1=\"2489.19\" x2=\"535.59\" y2=\"2529.16\" style=\"stroke:#000000;stroke-width:5.76\"/>\n",
       "\t<text x=\"535.59\" y=\"2619.14\" style=\"font-family:'Helvetica';font-size:99.99px;fill:#000000\" text-anchor=\"middle\">0</text>\n",
       "\t<line x1=\"1187.63\" y1=\"2489.19\" x2=\"1187.63\" y2=\"2529.16\" style=\"stroke:#000000;stroke-width:5.76\"/>\n",
       "\t<text x=\"1187.63\" y=\"2619.14\" style=\"font-family:'Helvetica';font-size:99.99px;fill:#000000\" text-anchor=\"middle\">20000</text>\n",
       "\t<line x1=\"1839.67\" y1=\"2489.19\" x2=\"1839.67\" y2=\"2529.16\" style=\"stroke:#000000;stroke-width:5.76\"/>\n",
       "\t<text x=\"1839.67\" y=\"2619.14\" style=\"font-family:'Helvetica';font-size:99.99px;fill:#000000\" text-anchor=\"middle\">40000</text>\n",
       "\t<line x1=\"2491.71\" y1=\"2489.19\" x2=\"2491.71\" y2=\"2529.16\" style=\"stroke:#000000;stroke-width:5.76\"/>\n",
       "\t<text x=\"2491.71\" y=\"2619.14\" style=\"font-family:'Helvetica';font-size:99.99px;fill:#000000\" text-anchor=\"middle\">60000</text>\n",
       "\t<line x1=\"3143.74\" y1=\"2489.19\" x2=\"3143.74\" y2=\"2529.16\" style=\"stroke:#000000;stroke-width:5.76\"/>\n",
       "\t<text x=\"3143.74\" y=\"2619.14\" style=\"font-family:'Helvetica';font-size:99.99px;fill:#000000\" text-anchor=\"middle\">80000</text>\n",
       "\t<line x1=\"3795.66\" y1=\"2489.19\" x2=\"3795.66\" y2=\"2529.16\" style=\"stroke:#000000;stroke-width:5.76\"/>\n",
       "\t<text x=\"3795.66\" y=\"2619.14\" style=\"font-family:'Helvetica';font-size:99.99px;fill:#000000\" text-anchor=\"middle\">100000</text>\n",
       "\t<text x=\"2124.91\" y=\"2729.16\" style=\"font-family:'Helvetica';font-size:99.99px;fill:#000000\" text-anchor=\"middle\">Real GDP per Capita (2005)</text>\n",
       "</svg>\n"
      ],
      "text/plain": [
       "This front-end cannot display the desired image type."
      ]
     },
     "metadata": {
      "image/svg+xml": {
       "height": 436,
       "width": 600
      }
     },
     "output_type": "display_data"
    },
    {
     "name": "stdout",
     "output_type": "stream",
     "text": [
      "\n",
      "\n"
     ]
    }
   ],
   "source": [
    "histogram gle_rgdpc, percent start(0) width(5000) addlabels"
   ]
  },
  {
   "cell_type": "markdown",
   "metadata": {},
   "source": [
    "## Ändra utseende\n",
    "\n",
    "Som med alla diagram kan man ställa in alla aspekter av utseendet, och där är det framförallt en fråga om tycke och smak. Jag tycker själv att diagram gör sig bättre i tryck om de har vit bakgrund. Ett enkelt sätt att ändra många olika aspekter av diagrammet på samma gång är att använda sig av option scheme(), som anger ett visuellt tema. Det finns flera olika, och du kan se en lista genom att köra kommandot \"help schemes\".\n",
    "\n",
    "Jag gillar s1mono, som är rätt avskalat, särskilt i kombination med plotregion(lwidth(none)) som tar bort ramen runt själva grafen.\n",
    "\n",
    "Men för att liva upp det är det kul om staplarna har någon färg. Det kan man få till med fcolor(pink) till exempel. Pröva dig fram!\n",
    "\n",
    "Slutligen kan det också vara bra att känna till option ytitle(\"\") och xtitle(\"\") som låter dig ändra på beteckningen på axlarna, om man till exempel vill ha det på svenska.\n",
    "\n"
   ]
  },
  {
   "cell_type": "code",
   "execution_count": 27,
   "metadata": {},
   "outputs": [
    {
     "name": "stdout",
     "output_type": "stream",
     "text": [
      "(bin=20, start=0, width=5000)\n",
      "\n",
      "(note: file /Users/anderssundell/.stata_kernel_cache/graph24.svg not found)\n"
     ]
    },
    {
     "data": {
      "application/pdf": "[encoded data removed]",
      "image/svg+xml": [
       "<?xml version=\"1.0\" encoding=\"UTF-8\" standalone=\"no\"?>\n",
       "<!-- This is a Stata 15.0 generated SVG file (http://www.stata.com) -->\n",
       "\n",
       "<svg version=\"1.1\" width=\"600px\" height=\"436px\" viewBox=\"0 0 3960 2880\" xmlns=\"http://www.w3.org/2000/svg\" xmlns:xlink=\"http://www.w3.org/1999/xlink\">\n",
       "\t<desc>Stata Graph - Graph</desc>\n",
       "\t<rect x=\"0\" y=\"0\" width=\"3960\" height=\"2880\" style=\"fill:#FFFFFF;stroke:none\"/>\n",
       "\t<rect x=\"0.00\" y=\"0.00\" width=\"3959.88\" height=\"2880.00\" style=\"fill:#FFFFFF\"/>\n",
       "\t<rect x=\"2.88\" y=\"2.88\" width=\"3954.12\" height=\"2874.24\" style=\"fill:none;stroke:#FFFFFF;stroke-width:5.76\"/>\n",
       "\t<rect x=\"535.59\" y=\"164.22\" width=\"163.10\" height=\"2324.96\" style=\"fill:#FF0080\"/>\n",
       "\t<rect x=\"539.91\" y=\"168.54\" width=\"154.46\" height=\"2316.32\" style=\"fill:none;stroke:#000000;stroke-width:8.64\"/>\n",
       "\t<rect x=\"698.69\" y=\"1641.22\" width=\"162.98\" height=\"847.96\" style=\"fill:#FF0080\"/>\n",
       "\t<rect x=\"703.01\" y=\"1645.54\" width=\"154.34\" height=\"839.32\" style=\"fill:none;stroke:#000000;stroke-width:8.64\"/>\n",
       "\t<rect x=\"861.67\" y=\"1860.02\" width=\"162.98\" height=\"629.16\" style=\"fill:#FF0080\"/>\n",
       "\t<rect x=\"865.99\" y=\"1864.34\" width=\"154.34\" height=\"620.52\" style=\"fill:none;stroke:#000000;stroke-width:8.64\"/>\n",
       "\t<rect x=\"1024.65\" y=\"2133.64\" width=\"162.98\" height=\"355.54\" style=\"fill:#FF0080\"/>\n",
       "\t<rect x=\"1028.97\" y=\"2137.96\" width=\"154.34\" height=\"346.91\" style=\"fill:none;stroke:#000000;stroke-width:8.64\"/>\n",
       "\t<rect x=\"1187.63\" y=\"2215.69\" width=\"162.98\" height=\"273.50\" style=\"fill:#FF0080\"/>\n",
       "\t<rect x=\"1191.95\" y=\"2220.01\" width=\"154.34\" height=\"264.86\" style=\"fill:none;stroke:#000000;stroke-width:8.64\"/>\n",
       "\t<rect x=\"1350.61\" y=\"2297.74\" width=\"163.10\" height=\"191.45\" style=\"fill:#FF0080\"/>\n",
       "\t<rect x=\"1354.93\" y=\"2302.06\" width=\"154.46\" height=\"182.81\" style=\"fill:none;stroke:#000000;stroke-width:8.64\"/>\n",
       "\t<rect x=\"1513.71\" y=\"2215.69\" width=\"162.98\" height=\"273.50\" style=\"fill:#FF0080\"/>\n",
       "\t<rect x=\"1518.03\" y=\"2220.01\" width=\"154.34\" height=\"264.86\" style=\"fill:none;stroke:#000000;stroke-width:8.64\"/>\n",
       "\t<rect x=\"1676.69\" y=\"2434.49\" width=\"162.98\" height=\"54.70\" style=\"fill:#FF0080\"/>\n",
       "\t<rect x=\"1681.01\" y=\"2438.81\" width=\"154.34\" height=\"46.06\" style=\"fill:none;stroke:#000000;stroke-width:8.64\"/>\n",
       "\t<rect x=\"1839.67\" y=\"2379.79\" width=\"162.98\" height=\"109.40\" style=\"fill:#FF0080\"/>\n",
       "\t<rect x=\"1843.99\" y=\"2384.11\" width=\"154.34\" height=\"100.76\" style=\"fill:none;stroke:#000000;stroke-width:8.64\"/>\n",
       "\t<rect x=\"2002.65\" y=\"2461.84\" width=\"162.98\" height=\"27.35\" style=\"fill:#FF0080\"/>\n",
       "\t<rect x=\"2006.97\" y=\"2466.16\" width=\"154.34\" height=\"18.71\" style=\"fill:none;stroke:#000000;stroke-width:8.64\"/>\n",
       "\t<rect x=\"2165.62\" y=\"2434.49\" width=\"163.10\" height=\"54.70\" style=\"fill:#FF0080\"/>\n",
       "\t<rect x=\"2169.94\" y=\"2438.81\" width=\"154.46\" height=\"46.06\" style=\"fill:none;stroke:#000000;stroke-width:8.64\"/>\n",
       "\t<rect x=\"2328.73\" y=\"2461.84\" width=\"162.98\" height=\"27.35\" style=\"fill:#FF0080\"/>\n",
       "\t<rect x=\"2333.05\" y=\"2466.16\" width=\"154.34\" height=\"18.71\" style=\"fill:none;stroke:#000000;stroke-width:8.64\"/>\n",
       "\t<rect x=\"3469.70\" y=\"2434.49\" width=\"162.98\" height=\"54.70\" style=\"fill:#FF0080\"/>\n",
       "\t<rect x=\"3474.02\" y=\"2438.81\" width=\"154.34\" height=\"46.06\" style=\"fill:none;stroke:#000000;stroke-width:8.64\"/>\n",
       "\t<rect x=\"3632.68\" y=\"2461.84\" width=\"162.98\" height=\"27.35\" style=\"fill:#FF0080\"/>\n",
       "\t<rect x=\"3637.00\" y=\"2466.16\" width=\"154.34\" height=\"18.71\" style=\"fill:none;stroke:#000000;stroke-width:8.64\"/>\n",
       "\t<line x1=\"390.80\" y1=\"2489.19\" x2=\"390.80\" y2=\"100.86\" style=\"stroke:#000000;stroke-width:5.76\"/>\n",
       "\t<line x1=\"390.80\" y1=\"2489.19\" x2=\"350.83\" y2=\"2489.19\" style=\"stroke:#000000;stroke-width:5.76\"/>\n",
       "\t<text x=\"300.72\" y=\"2489.19\" style=\"font-family:'Helvetica';font-size:99.99px;fill:#000000\" transform=\"rotate(-90 300.72,2489.19)\" text-anchor=\"middle\">0</text>\n",
       "\t<line x1=\"390.80\" y1=\"1963.97\" x2=\"350.83\" y2=\"1963.97\" style=\"stroke:#000000;stroke-width:5.76\"/>\n",
       "\t<text x=\"300.72\" y=\"1963.97\" style=\"font-family:'Helvetica';font-size:99.99px;fill:#000000\" transform=\"rotate(-90 300.72,1963.97)\" text-anchor=\"middle\">10</text>\n",
       "\t<line x1=\"390.80\" y1=\"1438.89\" x2=\"350.83\" y2=\"1438.89\" style=\"stroke:#000000;stroke-width:5.76\"/>\n",
       "\t<text x=\"300.72\" y=\"1438.89\" style=\"font-family:'Helvetica';font-size:99.99px;fill:#000000\" transform=\"rotate(-90 300.72,1438.89)\" text-anchor=\"middle\">20</text>\n",
       "\t<line x1=\"390.80\" y1=\"913.67\" x2=\"350.83\" y2=\"913.67\" style=\"stroke:#000000;stroke-width:5.76\"/>\n",
       "\t<text x=\"300.72\" y=\"913.67\" style=\"font-family:'Helvetica';font-size:99.99px;fill:#000000\" transform=\"rotate(-90 300.72,913.67)\" text-anchor=\"middle\">30</text>\n",
       "\t<line x1=\"390.80\" y1=\"388.46\" x2=\"350.83\" y2=\"388.46\" style=\"stroke:#000000;stroke-width:5.76\"/>\n",
       "\t<text x=\"300.72\" y=\"388.46\" style=\"font-family:'Helvetica';font-size:99.99px;fill:#000000\" transform=\"rotate(-90 300.72,388.46)\" text-anchor=\"middle\">40</text>\n",
       "\t<text x=\"190.71\" y=\"1294.96\" style=\"font-family:'Helvetica';font-size:99.99px;fill:#000000\" transform=\"rotate(-90 190.71,1294.96)\" text-anchor=\"middle\">Procent</text>\n",
       "\t<line x1=\"390.80\" y1=\"2489.19\" x2=\"3859.02\" y2=\"2489.19\" style=\"stroke:#000000;stroke-width:5.76\"/>\n",
       "\t<line x1=\"535.59\" y1=\"2489.19\" x2=\"535.59\" y2=\"2529.16\" style=\"stroke:#000000;stroke-width:5.76\"/>\n",
       "\t<text x=\"535.59\" y=\"2619.14\" style=\"font-family:'Helvetica';font-size:99.99px;fill:#000000\" text-anchor=\"middle\">0</text>\n",
       "\t<line x1=\"1187.63\" y1=\"2489.19\" x2=\"1187.63\" y2=\"2529.16\" style=\"stroke:#000000;stroke-width:5.76\"/>\n",
       "\t<text x=\"1187.63\" y=\"2619.14\" style=\"font-family:'Helvetica';font-size:99.99px;fill:#000000\" text-anchor=\"middle\">20000</text>\n",
       "\t<line x1=\"1839.67\" y1=\"2489.19\" x2=\"1839.67\" y2=\"2529.16\" style=\"stroke:#000000;stroke-width:5.76\"/>\n",
       "\t<text x=\"1839.67\" y=\"2619.14\" style=\"font-family:'Helvetica';font-size:99.99px;fill:#000000\" text-anchor=\"middle\">40000</text>\n",
       "\t<line x1=\"2491.71\" y1=\"2489.19\" x2=\"2491.71\" y2=\"2529.16\" style=\"stroke:#000000;stroke-width:5.76\"/>\n",
       "\t<text x=\"2491.71\" y=\"2619.14\" style=\"font-family:'Helvetica';font-size:99.99px;fill:#000000\" text-anchor=\"middle\">60000</text>\n",
       "\t<line x1=\"3143.74\" y1=\"2489.19\" x2=\"3143.74\" y2=\"2529.16\" style=\"stroke:#000000;stroke-width:5.76\"/>\n",
       "\t<text x=\"3143.74\" y=\"2619.14\" style=\"font-family:'Helvetica';font-size:99.99px;fill:#000000\" text-anchor=\"middle\">80000</text>\n",
       "\t<line x1=\"3795.66\" y1=\"2489.19\" x2=\"3795.66\" y2=\"2529.16\" style=\"stroke:#000000;stroke-width:5.76\"/>\n",
       "\t<text x=\"3795.66\" y=\"2619.14\" style=\"font-family:'Helvetica';font-size:99.99px;fill:#000000\" text-anchor=\"middle\">100000</text>\n",
       "\t<text x=\"2124.91\" y=\"2729.16\" style=\"font-family:'Helvetica';font-size:99.99px;fill:#000000\" text-anchor=\"middle\">BNP per capita (USD)</text>\n",
       "</svg>\n"
      ],
      "text/plain": [
       "This front-end cannot display the desired image type."
      ]
     },
     "metadata": {
      "image/svg+xml": {
       "height": 436,
       "width": 600
      }
     },
     "output_type": "display_data"
    },
    {
     "name": "stdout",
     "output_type": "stream",
     "text": [
      "\n",
      "\n"
     ]
    }
   ],
   "source": [
    "histogram gle_rgdpc, percent start(0) width(5000) scheme(s1mono) plotregion(lwidth(none)) fcolor(pink) ytitle(\"Procent\") xtitle(\"BNP per capita (USD)\")"
   ]
  },
  {
   "cell_type": "markdown",
   "metadata": {},
   "source": [
    "## Exportera diagrammet\n",
    "\n",
    "För att spara diagrammet för att inkludera i någon rapport behöver vi exportera det. Det gör vi genom att direkt nedanför histogram-kommandot i vår dofil lägga till kommandot graph export. Man skriver bara in namnet och sökvägen till filen. Har man i sin do-fil ställt in projektmappen med cd (beskrivet i guiden <a href=\"intro_sv.html\"> \"Komma igång med Stata\"</a>) behöver man inte skriva något annat än namnet, filen hamnar då i projektmappen.\n",
    "\n",
    "Genom att ange ändelsen, till exempel .pdf .png eller .jpg bestämmer man vilken filtyp det blir. Slutligen lägger jag också till option replace, vilket betyder att om det redan finns en fil med samma namn ska den skrivas över. Det är praktiskt när man uppdaterar sin graf flera gånger, till exempel för att man ändrar utseendet."
   ]
  },
  {
   "cell_type": "code",
   "execution_count": 31,
   "metadata": {},
   "outputs": [
    {
     "name": "stdout",
     "output_type": "stream",
     "text": [
      "(file bnphistogram.pdf written in PDF format)\n"
     ]
    }
   ],
   "source": [
    "graph export \"bnphistogram.pdf\", replace"
   ]
  }
 ],
 "metadata": {
  "kernelspec": {
   "display_name": "Stata",
   "language": "stata",
   "name": "stata"
  },
  "language_info": {
   "file_extension": ".do",
   "mimetype": "text/x-stata",
   "name": "stata"
  }
 },
 "nbformat": 4,
 "nbformat_minor": 2
}
