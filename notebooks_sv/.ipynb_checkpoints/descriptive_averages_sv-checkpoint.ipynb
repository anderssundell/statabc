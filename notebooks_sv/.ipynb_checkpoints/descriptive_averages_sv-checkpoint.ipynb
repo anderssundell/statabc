{
 "cells": [
  {
   "cell_type": "markdown",
   "metadata": {},
   "source": [
    "# Korstabeller\n",
    "*av Anders Sundell*\n",
    "\n",
    "En statistisk analys ska vara korrekt, men den ska också gå att förklara på ett pedagogiskt och bra sätt. Går det att använda en enkel metod är det, allt annat lika, att föredra.\n",
    "\n",
    "En av de enklaste metoderna för att undersöka samband är så kallade korstabeller. Fördelen med dem är att de är relativt lätta att förstå och att de går snabbt att göra. Nackdelen är att det är krångligt (men inte omöjligt) att ta hänsyn till fler än två variabler. För det är regressionsanalys bättre. Men korstabeller kan vara bra för att ge en snabb överblick av ett samband.\n",
    "\n",
    "För att ha något att jobba med kommer vi i det här exemplet att använda oss av <a href=\"https://qog.pol.gu.se/data/datadownloads/qogbasicdata\" target=_blank>QoG basic-datamängden</a>. Här har jag skrivit in sökvägen till datamängden direkt på internet, men man kan givetvis ladda ned den till sin dator och öppna den därifrån istället - det är vanligtvis att rekommendera."
   ]
  },
  {
   "cell_type": "code",
   "execution_count": 1,
   "metadata": {},
   "outputs": [
    {
     "name": "stdout",
     "output_type": "stream",
     "text": [
      "(Quality of Government Basic dataset 2018 - Cross-Section)\n"
     ]
    }
   ],
   "source": [
    "use \"https://www.qogdata.pol.gu.se/data/qog_bas_cs_jan18.dta\", clear"
   ]
  },
  {
   "cell_type": "markdown",
   "metadata": {},
   "source": [
    "## En enkel korstabell \n",
    "\n",
    "I det här exemplet ska vi titta närmare på sambandet mellan ett lands grad av demokrati och dess system för politisk representation, närmare bestämt om man har proportionell representation (PR) eller inte. PR innebär att man i valen fördelar mandat i förhållande till partiernas valresultat, som i Sverige. I den amerikanska kongressen har man inte PR, utan där väljer man ledamöter i enmansvalkretsar, där den som får flest röster i en valkrets väljs. Det kan bland annat få konsekvensen att ett parti som bara har något fler röster får en stor majoritet i parlamentet. En del forskning pekar också på att PR skulle vara mer gynnsamt för demokratin.\n",
    "\n",
    "En korstabell kan inte säga något om orsak och verkan, men vi kan åtminstone se om det är så att länder som har PR också är mer demokratiska.\n",
    "\n",
    "Som demokratiindikator använder vi oss av __fh_status__, som visar hur fritt ett land är, enligt den amerikanska organisationen Freedom House. För att mäta PR använder vi variabeln __dpi_pr__, från Database of Political Institutions.\n",
    "\n",
    "Kommandot man använder är __tab__. Man skriver först kommandot, sedan variabeln man vill ha i rader, och sedan variabeln man vill ha i kolumnerna:"
   ]
  },
  {
   "cell_type": "code",
   "execution_count": 2,
   "metadata": {},
   "outputs": [
    {
     "name": "stdout",
     "output_type": "stream",
     "text": [
      "\n",
      "Proportion |\n",
      "        al |\n",
      "Representa |          Freedom Status\n",
      "      tion |      Free  Partly Fr   Not Free |     Total\n",
      "-----------+---------------------------------+----------\n",
      "         0 |        17         21         22 |        60 \n",
      "         1 |        54         30         17 |       101 \n",
      "-----------+---------------------------------+----------\n",
      "     Total |        71         51         39 |       161 \n",
      "\n"
     ]
    }
   ],
   "source": [
    "tab dpi_pr fh_status"
   ]
  },
  {
   "cell_type": "markdown",
   "metadata": {},
   "source": [
    "Här ser vi nu antalet fall, uppdelat på kombinationen av de två variablerna. Vi ser att det är 17 länder som har en nolla på dpi_pr (de har alltså inte PR) och är samtidigt \"Free\" enligt Freedom House. 21 av länderna utan PR är \"Partly free\", och 22 \"Not free\".\n",
    "\n",
    "Hela 54 länder har istället en etta på dpi_pr och är samtidigt \"Free\", medan bara 17 har PR och är \"Not free\". \n",
    "\n",
    "Ute i kanterna ser vi totalsiffrorna. Där framgår dock att det är många fler länder som har PR än som inte har det, 101 jämfört med 60. Det försvårar jämförelser. Om vi vill säga att PR hänger ihop med mer demokrati räcker det inte att säga att antalet länder som har PR och är Free är större än antalet som inte har PR och är Free. På motsvarande sätt vore det konstigt att säga att kineser är rikare än svenskar bara för att det finns fler miljardärer i Kina - de är ju också många fler. Andelarna är mycket intressantare.\n",
    "\n",
    "\n"
   ]
  },
  {
   "cell_type": "markdown",
   "metadata": {},
   "source": [
    "## Räkna procent\n",
    "\n",
    "För att få fram andelarna behöver vi räkna procent, vilket vi kan göra på tre olika sätt. Som man kan se i tabellen ovan så finns det tre olika typer av totalsiffror:\n",
    "\n",
    "Totalen för alla enheter i hela tabellen: 161.<br>\n",
    "Totalen för alla länder som har och inte har PR: 101 respektive 60.<br>\n",
    "Totalen för alla länder med olika grad av frihet: 71, 51 och 39.<br>\n",
    "\n",
    "Varje cells andel av samtliga, 161, är *totalprocenten*.<br>\n",
    "Varje cells andel av samtliga inom varje rad, 60 respektive 101, är *radprocenten*.<br>\n",
    "Varje cells andel av samtliga inom varje kolumn, 71, 51 och 39, är *kolumnprocenten*.<br>\n",
    "\n",
    "Det är viktigt att hålla kolla på vad det betyder att räkna procenten åt olika håll. Om vi i tabellen tar radprocenten får vi fram hur stor andel av PR-länderna som är fria, och hur stor andel av icke PR-länderna som är fria. Tar vi istället kolumnprocentne får vi fram hur stor del av de fria länderna som har PR, och hur stor andel av de ofria länderna som har PR, osv. __Det är inte samma sak!__\n",
    "\n",
    "Min tumregel är att jag alltid lägger den oberoende variabeln - dvs det jag tänker mig påverkar - i raderna och sedan räknar jag alltid radprocent, men det gör man givetvis som man vill.\n",
    "\n",
    "Procenten får man fram genom att lägga till ett option och sedan skriva __row__, __col__, eller __total__:\n"
   ]
  },
  {
   "cell_type": "code",
   "execution_count": 3,
   "metadata": {},
   "outputs": [
    {
     "name": "stdout",
     "output_type": "stream",
     "text": [
      "\n",
      "+----------------+\n",
      "| Key            |\n",
      "|----------------|\n",
      "|   frequency    |\n",
      "| row percentage |\n",
      "+----------------+\n",
      "\n",
      "Proportion |\n",
      "        al |\n",
      "Representa |          Freedom Status\n",
      "      tion |      Free  Partly Fr   Not Free |     Total\n",
      "-----------+---------------------------------+----------\n",
      "         0 |        17         21         22 |        60 \n",
      "           |     28.33      35.00      36.67 |    100.00 \n",
      "-----------+---------------------------------+----------\n",
      "         1 |        54         30         17 |       101 \n",
      "           |     53.47      29.70      16.83 |    100.00 \n",
      "-----------+---------------------------------+----------\n",
      "     Total |        71         51         39 |       161 \n",
      "           |     44.10      31.68      24.22 |    100.00 \n",
      "\n"
     ]
    }
   ],
   "source": [
    "tab dpi_pr fh_status, row"
   ]
  },
  {
   "cell_type": "markdown",
   "metadata": {},
   "source": [
    "Vi ser nu att radprocenten summerar till hundra ute till höger. De tre kategorierna Free, Partly free och Not free blir tillsammans hundra procent, i varje rad.\n",
    "\n",
    "Det gör att vi kan jämföra de olika raderna med varandra. Vi ser nu att 28,33% av länder utan PR räknas som Free, medan hela 53.47% av länderna med PR räknas som fria. Det omvända förhållandet hittar vi om vi tittar på kategorin Not free. En mindre andel av PR-länderna är Not free.\n",
    "\n",
    "Som sagt - detta säger ingenting om kausaliteten. Kanske är det så att fria länder är mer benägna att införa proportionell representation. För att ta reda på det behöver man andra typer av analyser. Men korstabellen gör det mer angeläget att gå vidare, nu när vi sett att det verkar finnas ett samband i alla fall.\n",
    "\n",
    "Som jämförelse tar vi också fram kolumnprocenten:"
   ]
  },
  {
   "cell_type": "code",
   "execution_count": 4,
   "metadata": {},
   "outputs": [
    {
     "name": "stdout",
     "output_type": "stream",
     "text": [
      "\n",
      "+-------------------+\n",
      "| Key               |\n",
      "|-------------------|\n",
      "|     frequency     |\n",
      "| column percentage |\n",
      "+-------------------+\n",
      "\n",
      "Proportion |\n",
      "        al |\n",
      "Representa |          Freedom Status\n",
      "      tion |      Free  Partly Fr   Not Free |     Total\n",
      "-----------+---------------------------------+----------\n",
      "         0 |        17         21         22 |        60 \n",
      "           |     23.94      41.18      56.41 |     37.27 \n",
      "-----------+---------------------------------+----------\n",
      "         1 |        54         30         17 |       101 \n",
      "           |     76.06      58.82      43.59 |     62.73 \n",
      "-----------+---------------------------------+----------\n",
      "     Total |        71         51         39 |       161 \n",
      "           |    100.00     100.00     100.00 |    100.00 \n",
      "\n"
     ]
    }
   ],
   "source": [
    "tab dpi_pr fh_status, col"
   ]
  },
  {
   "cell_type": "markdown",
   "metadata": {},
   "source": [
    "Tabellen summerar nu till hundra i varje kolumn. Antalet länder är givetvis detsamma, och procentsiffrorna belyser det, men man kan inte jämföra på samma sätt som vi gjorde ovan. I kolumnen Free ser vi nu att det är 76% i PR-raden, och bara 24% i icke PR-raden. Men det betyder __inte__ att det är tre gånger så vanligt för länder att vara fria om de har PR. Det visar bara att det är många fler länder överlag som har PR. Vill man säga något om sannolikheten att vara fri, beroende på om man har PR eller inte, är det radprocenten vi ska ta fram.\n",
    "\n",
    "Den här tabellen kan istället användas för att se om det är vanligare att ha PR bland länder med olika grader av demokrati. Och då kan vi se att PR är vanligast inom kategorin Free, och ovanligast i kategorin Not free.\n",
    "\n",
    "Frågeställningen är naturligtvis snarlik, men inte identisk. Och för att inte gå vilse är det därför bäst att han en tydlig teoretisk idé om vad som påverkar vad. Den statistiska analysen kan inte bevisa det, men hjälper till att strukturera tänkandet och presentationen."
   ]
  },
  {
   "cell_type": "markdown",
   "metadata": {},
   "source": [
    "## Avslutning\n",
    "\n",
    "Även om korstabeller inte säger något om kausaliteten är de ofta bra för att introducera ett samband, innan man går vidare med mer avancerade analyser. Det är dock nästan alltid nödvändigt att räkna procent för att göra sambandet begripligt, och då är det viktigt att man räknar \"åt rätt håll.\"\n",
    "\n",
    "Korstabeller lämpar sig bara för variabler med ett begränsat antal värden, till exempel kategoriska variabler. Kontinuerliga skalor - till exempel ett lands BNP eller en persons ålder - ger tabeller med hundratals celler, vilket blir helt oöverblickbart. Då är det bättre att visa det hela grafiskt, eller att räkna fram medelvärden i olika grupper."
   ]
  }
 ],
 "metadata": {
  "kernelspec": {
   "display_name": "Stata",
   "language": "stata",
   "name": "stata"
  },
  "language_info": {
   "file_extension": ".do",
   "mimetype": "text/x-stata",
   "name": "stata"
  }
 },
 "nbformat": 4,
 "nbformat_minor": 2
}
