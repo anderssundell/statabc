{
 "cells": [
  {
   "cell_type": "markdown",
   "metadata": {},
   "source": [
    "# Stapeldiagram"
   ]
  },
  {
   "cell_type": "markdown",
   "metadata": {},
   "source": [
    "*Av Anders Sundell*\n",
    "\n",
    "Scatterplots är bra för att visa samband mellan två kontinuerlinga variabler, med värden jämt utspridda på en skala. Men om man till exempel jobbar med enkätdata finns det ofta ett begränsat antal svarsalternativ, vilket gör att respondenterna återfinns inom några få kombinationer. Det gör scatterplots olämpliga.\n",
    "\n",
    "Ett alternativ för att visualisera datan är då att använda sig av stapeldiagram. Ett av Statas kommandon för dem låter oss snabbt summera variabler och visa dem på ett överskådligt sett. I det här exemplet ska vi titta närmare på sambandet mellan utbildning och inkomst i USA, med hjälp av den amerikanska General Social Survey. Den går att ladda ned här https://gss.norc.org/get-the-data/stata och vi kommer använda 2018-upplagan."
   ]
  },
  {
   "cell_type": "code",
   "execution_count": 35,
   "metadata": {},
   "outputs": [
    {
     "name": "stdout",
     "output_type": "stream",
     "text": [
      "\n",
      "/Users/anderssundell/Dropbox/Jupyter/stathelp/data\n",
      "\n"
     ]
    }
   ],
   "source": [
    "cd \"/Users/anderssundell/Dropbox/Jupyter/stathelp/data/\"\n",
    "use \"GSS2018.dta\", clear"
   ]
  },
  {
   "cell_type": "markdown",
   "metadata": {},
   "source": [
    "Variabeln för utbildning heter `degree` och har fem värden. Variabeln för inkomst är en skala som anger respondentens inkomst i dollar, `realrinc`. USA är känt för att ha en hög \"education premium\", dvs att det lönar sig väldigt väl att utbilda sig. Löneskillnaderna är stora. Vi tar fram ett stapeldiagram med `graph bar`-kommandot, anger att vi vill ha medelvärden av variabeln `realrinc`, och säger till sist att vi vill ha en stapel för varje värde av variabeln `degree`. Eftersom `degree` har fem värden blir det fem staplar."
   ]
  },
  {
   "cell_type": "code",
   "execution_count": 17,
   "metadata": {},
   "outputs": [
    {
     "data": {
      "application/pdf": "[encoded data removed]",
      "image/svg+xml": [
       "<?xml version=\"1.0\" encoding=\"UTF-8\" standalone=\"no\"?>\n",
       "<!-- This is a Stata 16.0 generated SVG file (http://www.stata.com) -->\n",
       "\n",
       "<svg version=\"1.1\" width=\"600px\" height=\"436px\" viewBox=\"0 0 3960 2880\" xmlns=\"http://www.w3.org/2000/svg\" xmlns:xlink=\"http://www.w3.org/1999/xlink\">\n",
       "\t<desc>Stata Graph - Graph</desc>\n",
       "\t<rect x=\"0\" y=\"0\" width=\"3960\" height=\"2880\" style=\"fill:#EAF2F3;stroke:none\"/>\n",
       "\t<rect x=\"0.00\" y=\"0.00\" width=\"3959.88\" height=\"2880.00\" style=\"fill:#EAF2F3\"/>\n",
       "\t<rect x=\"2.88\" y=\"2.88\" width=\"3954.12\" height=\"2874.24\" style=\"fill:none;stroke:#EAF2F3;stroke-width:5.76\"/>\n",
       "\t<rect x=\"390.80\" y=\"100.86\" width=\"3468.22\" height=\"2518.39\" style=\"fill:#FFFFFF\"/>\n",
       "\t<rect x=\"393.68\" y=\"103.74\" width=\"3462.46\" height=\"2512.63\" style=\"fill:none;stroke:#FFFFFF;stroke-width:5.76\"/>\n",
       "\t<line x1=\"390.80\" y1=\"2619.25\" x2=\"3859.02\" y2=\"2619.25\" style=\"stroke:#EAF2F3;stroke-width:8.64\"/>\n",
       "\t<line x1=\"390.80\" y1=\"2135.74\" x2=\"3859.02\" y2=\"2135.74\" style=\"stroke:#EAF2F3;stroke-width:8.64\"/>\n",
       "\t<line x1=\"390.80\" y1=\"1652.11\" x2=\"3859.02\" y2=\"1652.11\" style=\"stroke:#EAF2F3;stroke-width:8.64\"/>\n",
       "\t<line x1=\"390.80\" y1=\"1168.61\" x2=\"3859.02\" y2=\"1168.61\" style=\"stroke:#EAF2F3;stroke-width:8.64\"/>\n",
       "\t<line x1=\"390.80\" y1=\"685.10\" x2=\"3859.02\" y2=\"685.10\" style=\"stroke:#EAF2F3;stroke-width:8.64\"/>\n",
       "\t<line x1=\"390.80\" y1=\"201.60\" x2=\"3859.02\" y2=\"201.60\" style=\"stroke:#EAF2F3;stroke-width:8.64\"/>\n",
       "\t<rect x=\"572.47\" y=\"2043.92\" width=\"404.29\" height=\"575.33\" style=\"fill:#1A476F\"/>\n",
       "\t<rect x=\"575.35\" y=\"2046.80\" width=\"398.53\" height=\"569.57\" style=\"fill:none;stroke:#1A476F;stroke-width:5.76\"/>\n",
       "\t<rect x=\"1247.65\" y=\"1733.17\" width=\"404.29\" height=\"886.08\" style=\"fill:#1A476F\"/>\n",
       "\t<rect x=\"1250.53\" y=\"1736.05\" width=\"398.53\" height=\"880.32\" style=\"fill:none;stroke:#1A476F;stroke-width:5.76\"/>\n",
       "\t<rect x=\"1922.83\" y=\"1721.91\" width=\"404.29\" height=\"897.34\" style=\"fill:#1A476F\"/>\n",
       "\t<rect x=\"1925.71\" y=\"1724.79\" width=\"398.53\" height=\"891.58\" style=\"fill:none;stroke:#1A476F;stroke-width:5.76\"/>\n",
       "\t<rect x=\"2598.01\" y=\"931.62\" width=\"404.29\" height=\"1687.63\" style=\"fill:#1A476F\"/>\n",
       "\t<rect x=\"2600.89\" y=\"934.50\" width=\"398.53\" height=\"1681.87\" style=\"fill:none;stroke:#1A476F;stroke-width:5.76\"/>\n",
       "\t<rect x=\"3273.19\" y=\"413.96\" width=\"404.29\" height=\"2205.29\" style=\"fill:#1A476F\"/>\n",
       "\t<rect x=\"3276.07\" y=\"416.84\" width=\"398.53\" height=\"2199.53\" style=\"fill:none;stroke:#1A476F;stroke-width:5.76\"/>\n",
       "\t<line x1=\"390.80\" y1=\"2619.25\" x2=\"390.80\" y2=\"100.86\" style=\"stroke:#000000;stroke-width:5.76\"/>\n",
       "\t<line x1=\"390.80\" y1=\"2619.25\" x2=\"350.83\" y2=\"2619.25\" style=\"stroke:#000000;stroke-width:5.76\"/>\n",
       "\t<text x=\"300.72\" y=\"2619.25\" style=\"font-family:'Helvetica';font-size:99.99px;fill:#000000\" transform=\"rotate(-90 300.72,2619.25)\" text-anchor=\"middle\">0</text>\n",
       "\t<line x1=\"390.80\" y1=\"2135.74\" x2=\"350.83\" y2=\"2135.74\" style=\"stroke:#000000;stroke-width:5.76\"/>\n",
       "\t<text x=\"300.72\" y=\"2135.74\" style=\"font-family:'Helvetica';font-size:99.99px;fill:#000000\" transform=\"rotate(-90 300.72,2135.74)\" text-anchor=\"middle\">10,000</text>\n",
       "\t<line x1=\"390.80\" y1=\"1652.11\" x2=\"350.83\" y2=\"1652.11\" style=\"stroke:#000000;stroke-width:5.76\"/>\n",
       "\t<text x=\"300.72\" y=\"1652.11\" style=\"font-family:'Helvetica';font-size:99.99px;fill:#000000\" transform=\"rotate(-90 300.72,1652.11)\" text-anchor=\"middle\">20,000</text>\n",
       "\t<line x1=\"390.80\" y1=\"1168.61\" x2=\"350.83\" y2=\"1168.61\" style=\"stroke:#000000;stroke-width:5.76\"/>\n",
       "\t<text x=\"300.72\" y=\"1168.61\" style=\"font-family:'Helvetica';font-size:99.99px;fill:#000000\" transform=\"rotate(-90 300.72,1168.61)\" text-anchor=\"middle\">30,000</text>\n",
       "\t<line x1=\"390.80\" y1=\"685.10\" x2=\"350.83\" y2=\"685.10\" style=\"stroke:#000000;stroke-width:5.76\"/>\n",
       "\t<text x=\"300.72\" y=\"685.10\" style=\"font-family:'Helvetica';font-size:99.99px;fill:#000000\" transform=\"rotate(-90 300.72,685.10)\" text-anchor=\"middle\">40,000</text>\n",
       "\t<line x1=\"390.80\" y1=\"201.60\" x2=\"350.83\" y2=\"201.60\" style=\"stroke:#000000;stroke-width:5.76\"/>\n",
       "\t<text x=\"300.72\" y=\"201.60\" style=\"font-family:'Helvetica';font-size:99.99px;fill:#000000\" transform=\"rotate(-90 300.72,201.60)\" text-anchor=\"middle\">50,000</text>\n",
       "\t<text x=\"190.71\" y=\"1360.06\" style=\"font-family:'Helvetica';font-size:99.99px;fill:#000000\" transform=\"rotate(-90 190.71,1360.06)\" text-anchor=\"middle\">mean of realrinc</text>\n",
       "\t<line x1=\"390.80\" y1=\"2619.25\" x2=\"3859.02\" y2=\"2619.25\" style=\"stroke:#000000;stroke-width:5.76\"/>\n",
       "\t<text x=\"774.55\" y=\"2729.16\" style=\"font-family:'Helvetica';font-size:99.99px;fill:#000000\" text-anchor=\"middle\">lt high school</text>\n",
       "\t<text x=\"1449.73\" y=\"2729.16\" style=\"font-family:'Helvetica';font-size:99.99px;fill:#000000\" text-anchor=\"middle\">high school</text>\n",
       "\t<text x=\"2124.91\" y=\"2729.16\" style=\"font-family:'Helvetica';font-size:99.99px;fill:#000000\" text-anchor=\"middle\">junior college</text>\n",
       "\t<text x=\"2800.09\" y=\"2729.16\" style=\"font-family:'Helvetica';font-size:99.99px;fill:#000000\" text-anchor=\"middle\">bachelor</text>\n",
       "\t<text x=\"3475.27\" y=\"2729.16\" style=\"font-family:'Helvetica';font-size:99.99px;fill:#000000\" text-anchor=\"middle\">graduate</text>\n",
       "</svg>\n"
      ],
      "text/plain": [
       "This front-end cannot display the desired image type."
      ]
     },
     "metadata": {
      "image/svg+xml": {
       "height": 436,
       "width": 600
      }
     },
     "output_type": "display_data"
    }
   ],
   "source": [
    "graph bar (mean) realrinc, over(degree)"
   ]
  },
  {
   "cell_type": "markdown",
   "metadata": {},
   "source": [
    "Diagrammet visar på väldigt tydliga skillnader: De som till exempel har en kandidatexamen tjänar ungefär dubbelt så mycket som de som bara har gått high school eller junior college.\n",
    "\n",
    "## Horisontella staplar\n",
    "\n",
    "Vill vi ha liggande staplar (till exempel om man har mycket text i kategorimarkörerna) är det lätt gjort: det är bara att byta ut `graph bar` mot `graph hbar` i koden."
   ]
  },
  {
   "cell_type": "code",
   "execution_count": 18,
   "metadata": {},
   "outputs": [
    {
     "data": {
      "application/pdf": "[encoded data removed]",
      "image/svg+xml": [
       "<?xml version=\"1.0\" encoding=\"UTF-8\" standalone=\"no\"?>\n",
       "<!-- This is a Stata 16.0 generated SVG file (http://www.stata.com) -->\n",
       "\n",
       "<svg version=\"1.1\" width=\"600px\" height=\"436px\" viewBox=\"0 0 3960 2880\" xmlns=\"http://www.w3.org/2000/svg\" xmlns:xlink=\"http://www.w3.org/1999/xlink\">\n",
       "\t<desc>Stata Graph - Graph</desc>\n",
       "\t<rect x=\"0\" y=\"0\" width=\"3960\" height=\"2880\" style=\"fill:#EAF2F3;stroke:none\"/>\n",
       "\t<rect x=\"0.00\" y=\"0.00\" width=\"3959.88\" height=\"2880.00\" style=\"fill:#EAF2F3\"/>\n",
       "\t<rect x=\"2.88\" y=\"2.88\" width=\"3954.12\" height=\"2874.24\" style=\"fill:none;stroke:#EAF2F3;stroke-width:5.76\"/>\n",
       "\t<rect x=\"800.17\" y=\"100.86\" width=\"3058.85\" height=\"2388.33\" style=\"fill:#FFFFFF\"/>\n",
       "\t<rect x=\"803.05\" y=\"103.74\" width=\"3053.09\" height=\"2382.57\" style=\"fill:none;stroke:#FFFFFF;stroke-width:5.76\"/>\n",
       "\t<line x1=\"800.17\" y1=\"2489.19\" x2=\"800.17\" y2=\"100.86\" style=\"stroke:#EAF2F3;stroke-width:8.64\"/>\n",
       "\t<line x1=\"1391.82\" y1=\"2489.19\" x2=\"1391.82\" y2=\"100.86\" style=\"stroke:#EAF2F3;stroke-width:8.64\"/>\n",
       "\t<line x1=\"1983.46\" y1=\"2489.19\" x2=\"1983.46\" y2=\"100.86\" style=\"stroke:#EAF2F3;stroke-width:8.64\"/>\n",
       "\t<line x1=\"2575.11\" y1=\"2489.19\" x2=\"2575.11\" y2=\"100.86\" style=\"stroke:#EAF2F3;stroke-width:8.64\"/>\n",
       "\t<line x1=\"3166.64\" y1=\"2489.19\" x2=\"3166.64\" y2=\"100.86\" style=\"stroke:#EAF2F3;stroke-width:8.64\"/>\n",
       "\t<line x1=\"3758.29\" y1=\"2489.19\" x2=\"3758.29\" y2=\"100.86\" style=\"stroke:#EAF2F3;stroke-width:8.64\"/>\n",
       "\t<rect x=\"800.17\" y=\"2063.60\" width=\"2698.24\" height=\"270.65\" style=\"fill:#1A476F\"/>\n",
       "\t<rect x=\"803.05\" y=\"2066.48\" width=\"2692.49\" height=\"264.89\" style=\"fill:none;stroke:#1A476F;stroke-width:5.76\"/>\n",
       "\t<rect x=\"800.17\" y=\"1611.65\" width=\"2065.02\" height=\"270.65\" style=\"fill:#1A476F\"/>\n",
       "\t<rect x=\"803.05\" y=\"1614.53\" width=\"2059.26\" height=\"264.89\" style=\"fill:none;stroke:#1A476F;stroke-width:5.76\"/>\n",
       "\t<rect x=\"800.17\" y=\"1159.70\" width=\"1097.91\" height=\"270.65\" style=\"fill:#1A476F\"/>\n",
       "\t<rect x=\"803.05\" y=\"1162.58\" width=\"1092.15\" height=\"264.89\" style=\"fill:none;stroke:#1A476F;stroke-width:5.76\"/>\n",
       "\t<rect x=\"800.17\" y=\"707.75\" width=\"1084.17\" height=\"270.65\" style=\"fill:#1A476F\"/>\n",
       "\t<rect x=\"803.05\" y=\"710.63\" width=\"1078.41\" height=\"264.89\" style=\"fill:none;stroke:#1A476F;stroke-width:5.76\"/>\n",
       "\t<rect x=\"800.17\" y=\"255.68\" width=\"704.01\" height=\"270.65\" style=\"fill:#1A476F\"/>\n",
       "\t<rect x=\"803.05\" y=\"258.56\" width=\"698.25\" height=\"264.89\" style=\"fill:none;stroke:#1A476F;stroke-width:5.76\"/>\n",
       "\t<line x1=\"800.17\" y1=\"2489.19\" x2=\"3859.02\" y2=\"2489.19\" style=\"stroke:#000000;stroke-width:5.76\"/>\n",
       "\t<line x1=\"800.17\" y1=\"2489.19\" x2=\"800.17\" y2=\"2529.16\" style=\"stroke:#000000;stroke-width:5.76\"/>\n",
       "\t<text x=\"800.17\" y=\"2619.14\" style=\"font-family:'Helvetica';font-size:99.99px;fill:#000000\" text-anchor=\"middle\">0</text>\n",
       "\t<line x1=\"1391.82\" y1=\"2489.19\" x2=\"1391.82\" y2=\"2529.16\" style=\"stroke:#000000;stroke-width:5.76\"/>\n",
       "\t<text x=\"1391.82\" y=\"2619.14\" style=\"font-family:'Helvetica';font-size:99.99px;fill:#000000\" text-anchor=\"middle\">10,000</text>\n",
       "\t<line x1=\"1983.46\" y1=\"2489.19\" x2=\"1983.46\" y2=\"2529.16\" style=\"stroke:#000000;stroke-width:5.76\"/>\n",
       "\t<text x=\"1983.46\" y=\"2619.14\" style=\"font-family:'Helvetica';font-size:99.99px;fill:#000000\" text-anchor=\"middle\">20,000</text>\n",
       "\t<line x1=\"2575.11\" y1=\"2489.19\" x2=\"2575.11\" y2=\"2529.16\" style=\"stroke:#000000;stroke-width:5.76\"/>\n",
       "\t<text x=\"2575.11\" y=\"2619.14\" style=\"font-family:'Helvetica';font-size:99.99px;fill:#000000\" text-anchor=\"middle\">30,000</text>\n",
       "\t<line x1=\"3166.64\" y1=\"2489.19\" x2=\"3166.64\" y2=\"2529.16\" style=\"stroke:#000000;stroke-width:5.76\"/>\n",
       "\t<text x=\"3166.64\" y=\"2619.14\" style=\"font-family:'Helvetica';font-size:99.99px;fill:#000000\" text-anchor=\"middle\">40,000</text>\n",
       "\t<line x1=\"3758.29\" y1=\"2489.19\" x2=\"3758.29\" y2=\"2529.16\" style=\"stroke:#000000;stroke-width:5.76\"/>\n",
       "\t<text x=\"3758.29\" y=\"2619.14\" style=\"font-family:'Helvetica';font-size:99.99px;fill:#000000\" text-anchor=\"middle\">50,000</text>\n",
       "\t<text x=\"2329.59\" y=\"2729.16\" style=\"font-family:'Helvetica';font-size:99.99px;fill:#000000\" text-anchor=\"middle\">mean of realrinc</text>\n",
       "\t<line x1=\"800.17\" y1=\"2489.19\" x2=\"800.17\" y2=\"100.86\" style=\"stroke:#000000;stroke-width:5.76\"/>\n",
       "\t<text x=\"760.20\" y=\"2234.01\" style=\"font-family:'Helvetica';font-size:99.99px;fill:#000000\" text-anchor=\"end\">graduate</text>\n",
       "\t<text x=\"760.20\" y=\"1782.06\" style=\"font-family:'Helvetica';font-size:99.99px;fill:#000000\" text-anchor=\"end\">bachelor</text>\n",
       "\t<text x=\"760.20\" y=\"1329.99\" style=\"font-family:'Helvetica';font-size:99.99px;fill:#000000\" text-anchor=\"end\">junior college</text>\n",
       "\t<text x=\"760.20\" y=\"878.04\" style=\"font-family:'Helvetica';font-size:99.99px;fill:#000000\" text-anchor=\"end\">high school</text>\n",
       "\t<text x=\"760.20\" y=\"426.09\" style=\"font-family:'Helvetica';font-size:99.99px;fill:#000000\" text-anchor=\"end\">lt high school</text>\n",
       "</svg>\n"
      ],
      "text/plain": [
       "This front-end cannot display the desired image type."
      ]
     },
     "metadata": {
      "image/svg+xml": {
       "height": 436,
       "width": 600
      }
     },
     "output_type": "display_data"
    }
   ],
   "source": [
    "graph hbar (mean) realrinc, over(degree)"
   ]
  },
  {
   "cell_type": "markdown",
   "metadata": {},
   "source": [
    "## Lägga till etiketter\n",
    "\n",
    "Stapeldiagrammet visar snabbt ungefär hur mycket de olika grupperna tjänar. Men om man vill veta exakt kan det vara bra att skriva ut de faktiska siffrorna. Det gör vi genom att lägga till etiketter som visar staplarnas höjd.\n",
    "\n",
    "För det behöver vi ett option `blabel(bar)`. Det lägger vi till efter over. Vi kan även prova att byta ut medelvärdet mot medianen, vilket ofta är lämpligt när man jobbar med inkomster, eftersom några få med extrema inkomster drar upp medelvärdet mycket.\n",
    "\n",
    "Vi gör också två kosmetiska förändringar: Vi byter ut texten på y-axeln till något prydligare med option `ytitle`, och ändrar färgen på staplarna med `bar(1, color(purple))`."
   ]
  },
  {
   "cell_type": "code",
   "execution_count": 38,
   "metadata": {},
   "outputs": [
    {
     "data": {
      "application/pdf": "[encoded data removed]",
      "image/svg+xml": [
       "<?xml version=\"1.0\" encoding=\"UTF-8\" standalone=\"no\"?>\n",
       "<!-- This is a Stata 16.0 generated SVG file (http://www.stata.com) -->\n",
       "\n",
       "<svg version=\"1.1\" width=\"600px\" height=\"436px\" viewBox=\"0 0 3960 2880\" xmlns=\"http://www.w3.org/2000/svg\" xmlns:xlink=\"http://www.w3.org/1999/xlink\">\n",
       "\t<desc>Stata Graph - Graph</desc>\n",
       "\t<rect x=\"0\" y=\"0\" width=\"3960\" height=\"2880\" style=\"fill:#EAF2F3;stroke:none\"/>\n",
       "\t<rect x=\"0.00\" y=\"0.00\" width=\"3959.88\" height=\"2880.00\" style=\"fill:#EAF2F3\"/>\n",
       "\t<rect x=\"2.88\" y=\"2.88\" width=\"3954.12\" height=\"2874.24\" style=\"fill:none;stroke:#EAF2F3;stroke-width:5.76\"/>\n",
       "\t<rect x=\"390.80\" y=\"100.86\" width=\"3468.22\" height=\"2518.39\" style=\"fill:#FFFFFF\"/>\n",
       "\t<rect x=\"393.68\" y=\"103.74\" width=\"3462.46\" height=\"2512.63\" style=\"fill:none;stroke:#FFFFFF;stroke-width:5.76\"/>\n",
       "\t<line x1=\"390.80\" y1=\"2619.25\" x2=\"3859.02\" y2=\"2619.25\" style=\"stroke:#EAF2F3;stroke-width:8.64\"/>\n",
       "\t<line x1=\"390.80\" y1=\"2014.84\" x2=\"3859.02\" y2=\"2014.84\" style=\"stroke:#EAF2F3;stroke-width:8.64\"/>\n",
       "\t<line x1=\"390.80\" y1=\"1410.42\" x2=\"3859.02\" y2=\"1410.42\" style=\"stroke:#EAF2F3;stroke-width:8.64\"/>\n",
       "\t<line x1=\"390.80\" y1=\"806.01\" x2=\"3859.02\" y2=\"806.01\" style=\"stroke:#EAF2F3;stroke-width:8.64\"/>\n",
       "\t<line x1=\"390.80\" y1=\"201.60\" x2=\"3859.02\" y2=\"201.60\" style=\"stroke:#EAF2F3;stroke-width:8.64\"/>\n",
       "\t<rect x=\"572.47\" y=\"2036.12\" width=\"404.29\" height=\"583.13\" style=\"fill:#800080\"/>\n",
       "\t<rect x=\"575.35\" y=\"2039.00\" width=\"398.53\" height=\"577.37\" style=\"fill:none;stroke:#800080;stroke-width:5.76\"/>\n",
       "\t<rect x=\"1247.65\" y=\"1864.60\" width=\"404.29\" height=\"754.65\" style=\"fill:#800080\"/>\n",
       "\t<rect x=\"1250.53\" y=\"1867.48\" width=\"398.53\" height=\"748.89\" style=\"fill:none;stroke:#800080;stroke-width:5.76\"/>\n",
       "\t<rect x=\"1922.83\" y=\"1590.24\" width=\"404.29\" height=\"1029.01\" style=\"fill:#800080\"/>\n",
       "\t<rect x=\"1925.71\" y=\"1593.12\" width=\"398.53\" height=\"1023.25\" style=\"fill:none;stroke:#800080;stroke-width:5.76\"/>\n",
       "\t<rect x=\"2598.01\" y=\"1110.07\" width=\"404.29\" height=\"1509.18\" style=\"fill:#800080\"/>\n",
       "\t<rect x=\"2600.89\" y=\"1112.95\" width=\"398.53\" height=\"1503.42\" style=\"fill:none;stroke:#800080;stroke-width:5.76\"/>\n",
       "\t<rect x=\"3273.19\" y=\"355.42\" width=\"404.29\" height=\"2263.83\" style=\"fill:#800080\"/>\n",
       "\t<rect x=\"3276.07\" y=\"358.30\" width=\"398.53\" height=\"2258.07\" style=\"fill:none;stroke:#800080;stroke-width:5.76\"/>\n",
       "\t<text x=\"774.55\" y=\"1984.19\" style=\"font-family:'Helvetica';font-size:79.94px;fill:#000000\" text-anchor=\"middle\">9647.5</text>\n",
       "\t<text x=\"1449.73\" y=\"1812.67\" style=\"font-family:'Helvetica';font-size:79.94px;fill:#000000\" text-anchor=\"middle\">12485</text>\n",
       "\t<text x=\"2124.91\" y=\"1538.30\" style=\"font-family:'Helvetica';font-size:79.94px;fill:#000000\" text-anchor=\"middle\">17025</text>\n",
       "\t<text x=\"2800.09\" y=\"1058.02\" style=\"font-family:'Helvetica';font-size:79.94px;fill:#000000\" text-anchor=\"middle\">24970</text>\n",
       "\t<text x=\"3475.27\" y=\"303.49\" style=\"font-family:'Helvetica';font-size:79.94px;fill:#000000\" text-anchor=\"middle\">37455</text>\n",
       "\t<line x1=\"390.80\" y1=\"2619.25\" x2=\"390.80\" y2=\"100.86\" style=\"stroke:#000000;stroke-width:5.76\"/>\n",
       "\t<line x1=\"390.80\" y1=\"2619.25\" x2=\"350.83\" y2=\"2619.25\" style=\"stroke:#000000;stroke-width:5.76\"/>\n",
       "\t<text x=\"300.72\" y=\"2619.25\" style=\"font-family:'Helvetica';font-size:99.99px;fill:#000000\" transform=\"rotate(-90 300.72,2619.25)\" text-anchor=\"middle\">0</text>\n",
       "\t<line x1=\"390.80\" y1=\"2014.84\" x2=\"350.83\" y2=\"2014.84\" style=\"stroke:#000000;stroke-width:5.76\"/>\n",
       "\t<text x=\"300.72\" y=\"2014.84\" style=\"font-family:'Helvetica';font-size:99.99px;fill:#000000\" transform=\"rotate(-90 300.72,2014.84)\" text-anchor=\"middle\">10,000</text>\n",
       "\t<line x1=\"390.80\" y1=\"1410.42\" x2=\"350.83\" y2=\"1410.42\" style=\"stroke:#000000;stroke-width:5.76\"/>\n",
       "\t<text x=\"300.72\" y=\"1410.42\" style=\"font-family:'Helvetica';font-size:99.99px;fill:#000000\" transform=\"rotate(-90 300.72,1410.42)\" text-anchor=\"middle\">20,000</text>\n",
       "\t<line x1=\"390.80\" y1=\"806.01\" x2=\"350.83\" y2=\"806.01\" style=\"stroke:#000000;stroke-width:5.76\"/>\n",
       "\t<text x=\"300.72\" y=\"806.01\" style=\"font-family:'Helvetica';font-size:99.99px;fill:#000000\" transform=\"rotate(-90 300.72,806.01)\" text-anchor=\"middle\">30,000</text>\n",
       "\t<line x1=\"390.80\" y1=\"201.60\" x2=\"350.83\" y2=\"201.60\" style=\"stroke:#000000;stroke-width:5.76\"/>\n",
       "\t<text x=\"300.72\" y=\"201.60\" style=\"font-family:'Helvetica';font-size:99.99px;fill:#000000\" transform=\"rotate(-90 300.72,201.60)\" text-anchor=\"middle\">40,000</text>\n",
       "\t<text x=\"190.71\" y=\"1360.06\" style=\"font-family:'Helvetica';font-size:99.99px;fill:#000000\" transform=\"rotate(-90 190.71,1360.06)\" text-anchor=\"middle\">Medianinkomst i dollar</text>\n",
       "\t<line x1=\"390.80\" y1=\"2619.25\" x2=\"3859.02\" y2=\"2619.25\" style=\"stroke:#000000;stroke-width:5.76\"/>\n",
       "\t<text x=\"774.55\" y=\"2729.16\" style=\"font-family:'Helvetica';font-size:99.99px;fill:#000000\" text-anchor=\"middle\">lt high school</text>\n",
       "\t<text x=\"1449.73\" y=\"2729.16\" style=\"font-family:'Helvetica';font-size:99.99px;fill:#000000\" text-anchor=\"middle\">high school</text>\n",
       "\t<text x=\"2124.91\" y=\"2729.16\" style=\"font-family:'Helvetica';font-size:99.99px;fill:#000000\" text-anchor=\"middle\">junior college</text>\n",
       "\t<text x=\"2800.09\" y=\"2729.16\" style=\"font-family:'Helvetica';font-size:99.99px;fill:#000000\" text-anchor=\"middle\">bachelor</text>\n",
       "\t<text x=\"3475.27\" y=\"2729.16\" style=\"font-family:'Helvetica';font-size:99.99px;fill:#000000\" text-anchor=\"middle\">graduate</text>\n",
       "</svg>\n"
      ],
      "text/plain": [
       "This front-end cannot display the desired image type."
      ]
     },
     "metadata": {
      "image/svg+xml": {
       "height": 436,
       "width": 600
      }
     },
     "output_type": "display_data"
    }
   ],
   "source": [
    "graph bar (median) realrinc, over(degree) blabel(bar) ytitle(\"Medianinkomst i dollar\") bar(1, color(purple))"
   ]
  },
  {
   "cell_type": "markdown",
   "metadata": {},
   "source": [
    "Nu framträder mönstret ännu tydligare. De med graduate degree - motsvarande masterexamen - tjäner nästan fyra gånger så mycket i genomsnitt som de med den lägsta utbildningsnivån.\n",
    "\n",
    "\n",
    "## Avslutning\n",
    "\n",
    "Precis som med alla grafer kan man lägga oändligt med tid på att slipa på dem för att få dem exakt som man vill. Men bara med de ganska snabba inställningarna vi använt här kommer man långt, och ett prydligt stapeldiagram gör ofta mycket för att förmedla huvuddragen i en datamängd."
   ]
  }
 ],
 "metadata": {
  "kernelspec": {
   "display_name": "Stata",
   "language": "stata",
   "name": "stata"
  },
  "language_info": {
   "file_extension": ".do",
   "mimetype": "text/x-stata",
   "name": "stata"
  }
 },
 "nbformat": 4,
 "nbformat_minor": 2
}
