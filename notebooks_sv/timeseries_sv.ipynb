{
 "cells": [
  {
   "cell_type": "markdown",
   "metadata": {},
   "source": [
    "# Tidsserier\n",
    "English version | [Startsida](../index.html)\n",
    "\n",
    "I det här inlägget ska jag gå igenom grundläggande kommandon för att jobba med tidsseriedata. Med det avses data där en och samma sak mäts om och om igen, över tid.\n",
    "\n",
    "Man kan analysera sådan data genom att bara lägga in den som vanligt och använda helt vanliga kommandon. Men det går att göra mer. Med speciella tidsseriekommandon kan vi undersöka förändring, och hur olika tidpunkter förhåller sig till varandra.\n",
    "\n",
    "Datan vi ska analysera är börskurser, närmare bestämt dagliga slutkurser för Dow Jones Index i USA, från april 2019 till april 2020. [Datan kan laddas ned här.](../data/stocks.dta) I koden nedan laddar vi in datan och tittar på de 10 första raderna:"
   ]
  },
  {
   "cell_type": "code",
   "execution_count": 46,
   "metadata": {},
   "outputs": [
    {
     "name": "stdout",
     "output_type": "stream",
     "text": [
      "\n",
      "\n",
      "\n",
      "     +---------------------------------+\n",
      "     |      date   dowjo~se   dowjo~me |\n",
      "     |---------------------------------|\n",
      "  1. | 29apr2019    26554.4    2.8e+08 |\n",
      "  2. | 30apr2019    26592.9    3.4e+08 |\n",
      "  3. | 01may2019    26430.1    3.0e+08 |\n",
      "  4. | 02may2019    26307.8    2.9e+08 |\n",
      "  5. | 03may2019    26504.9    2.5e+08 |\n",
      "     |---------------------------------|\n",
      "  6. | 06may2019    26438.5    2.8e+08 |\n",
      "  7. | 07may2019    25965.1    3.3e+08 |\n",
      "  8. | 08may2019    25967.3    2.8e+08 |\n",
      "  9. | 09may2019    25828.4    3.3e+08 |\n",
      " 10. | 10may2019    25942.4    2.9e+08 |\n",
      "     +---------------------------------+\n"
     ]
    }
   ],
   "source": [
    "use \"../data/stocks.dta\", clear\n",
    "list in 1/10"
   ]
  },
  {
   "cell_type": "markdown",
   "metadata": {},
   "source": [
    "## Ange tidsserien med `tsset`\n",
    "När man jobbar med tidsserier behöver vi en variabel som visar tiden, det vill säga i vilken ordning observationerna kommer.\n",
    "\n",
    "I datan finns det tre variabler: date, dowjones_close och dowjones_volume. Datumvariabeln är vår tidsvariabel. Den är formaterad enligt Statas princip för datumvariabler. Stata fattar alltså att 20:e april är en dag efter 19:e april och en vecka efter 13:e april, till exempel. Hur man ställer in variablerna på det sättet kommer jag gå igenom i ett annat inlägg.\n",
    "\n",
    "Man måste dock inte ha en sådan variabel. Man kan också ha en variabel som bara anger ett nummer i en sekvens, alltså 1, 2, 3, och så vidare. Är datan mätt varje dag blir det såklart mest intuitivt att använda datumvariabeln som tidsvariabel.\n",
    "\n",
    "**Vi ska nu berätta för Stata vilken variabel som är vår tidsvariabel.** Det gör vi med kommandot `tsset`. Man skriver bara `tsset` följt av variabeln som anger tiden, i vårt fall variabeln date."
   ]
  },
  {
   "cell_type": "code",
   "execution_count": 47,
   "metadata": {},
   "outputs": [
    {
     "name": "stdout",
     "output_type": "stream",
     "text": [
      "        time variable:  date, 29apr2019 to 28apr2020, but with gaps\n",
      "                delta:  1 day\n"
     ]
    }
   ],
   "source": [
    "tsset date"
   ]
  },
  {
   "cell_type": "markdown",
   "metadata": {},
   "source": [
    "Stata beskriver att variabeln går från 29 april 2019 till 28 april 2020, fast att det är vissa hål. På helgerna har till exempel börserna stängt, och de finns därförinte med i datan.\n",
    "\n",
    "Raden \"delta\" visar hur stort \"ett steg\" är: en dag. Vanligtvis behöver man inte ange det, men om vi till exempel bara skulle ha en observation per vecka hade vi kunnat skriva `tsset date, delta(7)` för att visa att varje \"steg\" är en vecka. Men det behövs alltså inte här."
   ]
  },
  {
   "cell_type": "markdown",
   "metadata": {},
   "source": [
    "## Rita upp en linjegraf\n",
    "Nu kan vi rita upp datan i ett linjediagram, för att se hur den utvecklats över tid. Eftersom vi angett vad tidsvariabeln är kan vi använda kommandot `tsline`. Vi skriver då bara `tsline` och vilken variabel det är vi vill rita ut, till exempel stängningskursen för Dow Jones:"
   ]
  },
  {
   "cell_type": "code",
   "execution_count": 48,
   "metadata": {},
   "outputs": [
    {
     "data": {
      "application/pdf": "[encoded data removed]",
      "image/svg+xml": [
       "<?xml version=\"1.0\" encoding=\"UTF-8\" standalone=\"no\"?>\n",
       "<!-- This is a Stata 16.0 generated SVG file (http://www.stata.com) -->\n",
       "\n",
       "<svg version=\"1.1\" width=\"600px\" height=\"436px\" viewBox=\"0 0 3960 2880\" xmlns=\"http://www.w3.org/2000/svg\" xmlns:xlink=\"http://www.w3.org/1999/xlink\">\n",
       "\t<desc>Stata Graph - Graph</desc>\n",
       "\t<rect x=\"0\" y=\"0\" width=\"3960\" height=\"2880\" style=\"fill:#EAF2F3;stroke:none\"/>\n",
       "\t<rect x=\"0.00\" y=\"0.00\" width=\"3959.88\" height=\"2880.00\" style=\"fill:#EAF2F3\"/>\n",
       "\t<rect x=\"2.88\" y=\"2.88\" width=\"3954.12\" height=\"2874.24\" style=\"fill:none;stroke:#EAF2F3;stroke-width:5.76\"/>\n",
       "\t<rect x=\"390.80\" y=\"100.86\" width=\"3468.22\" height=\"2388.33\" style=\"fill:#FFFFFF\"/>\n",
       "\t<rect x=\"393.68\" y=\"103.74\" width=\"3462.46\" height=\"2382.57\" style=\"fill:none;stroke:#FFFFFF;stroke-width:5.76\"/>\n",
       "\t<line x1=\"390.80\" y1=\"1671.91\" x2=\"3859.02\" y2=\"1671.91\" style=\"stroke:#EAF2F3;stroke-width:8.64\"/>\n",
       "\t<line x1=\"390.80\" y1=\"918.01\" x2=\"3859.02\" y2=\"918.01\" style=\"stroke:#EAF2F3;stroke-width:8.64\"/>\n",
       "\t<line x1=\"390.80\" y1=\"164.22\" x2=\"3859.02\" y2=\"164.22\" style=\"stroke:#EAF2F3;stroke-width:8.64\"/>\n",
       "\t<path d=\" M692.13 683.74 L700.67 677.92 L709.21 702.43 L717.63 720.99 L726.16 691.17 L751.66 701.19 L760.20 772.60 L768.74 772.22 L777.15 793.26 L785.69 776.06 L811.18 869.12 L819.72 837.94 L828.26 820.36 L836.67 788.06 L845.21 802.92 L870.71 815.66 L879.24 785.84 L887.66 801.06 L896.20 844.13 L904.74 829.77 L938.77 865.66 L947.18 899.07 L955.72 892.51 L964.26 945.97 L989.75 945.23 L998.29 868.01 L1006.71 836.70 L1015.25 809.47 L1023.78 769.75 L1049.28 757.87 L1057.82 759.97 L1066.23 766.66 L1074.77 751.19 L1083.31 753.78 L1108.80 750.32 L1117.34 697.11 L1125.75 691.29 L1134.29 653.79 L1142.83 658.87 L1168.32 657.63 L1176.86 684.73 L1185.28 686.34 L1193.82 687.95 L1202.36 676.93 L1227.85 659.11 L1236.39 648.72 L1244.80 621.74 L1261.88 628.30 L1287.37 645.75 L1295.91 649.21 L1304.33 637.58 L1312.86 603.30 L1321.40 566.55 L1346.89 562.46 L1355.31 565.93 L1363.85 583.38 L1372.39 582.88 L1380.93 593.28 L1406.42 590.68 L1414.83 563.95 L1423.37 575.83 L1431.91 595.26 L1440.45 587.58 L1465.94 583.13 L1474.36 586.72 L1482.90 637.08 L1491.43 679.41 L1499.97 694.26 L1525.47 809.85 L1533.88 762.94 L1542.42 766.28 L1550.96 710.35 L1559.37 723.96 L1584.99 782.99 L1593.40 725.07 L1601.94 845.86 L1610.48 830.76 L1618.90 784.48 L1644.51 746.85 L1652.93 772.97 L1661.47 736.83 L1670.01 729.28 L1678.42 823.33 L1704.04 782.62 L1712.45 800.81 L1720.99 761.95 L1729.53 712.70 L1737.94 706.51 L1771.98 749.58 L1780.52 713.69 L1789.05 657.50 L1797.47 647.11 L1822.96 641.42 L1831.50 630.15 L1840.04 595.87 L1848.58 589.07 L1856.99 583.50 L1882.48 605.03 L1891.02 599.83 L1899.56 594.39 L1908.10 602.31 L1916.52 626.32 L1942.01 624.09 L1950.55 645.50 L1959.09 621.00 L1967.62 633.00 L1976.04 643.64 L2001.53 629.04 L2010.07 680.89 L2018.61 755.52 L2027.03 737.08 L2035.56 680.89 L2061.06 695.25 L2069.59 742.65 L2078.13 715.17 L2086.55 692.40 L2095.09 644.26 L2120.58 648.59 L2129.12 612.83 L2137.66 616.29 L2146.07 612.71 L2154.61 651.19 L2180.10 642.53 L2188.64 648.47 L2197.18 641.54 L2205.60 645.87 L2214.14 622.85 L2239.63 602.93 L2248.17 605.78 L2256.70 588.45 L2265.12 609.61 L2273.66 564.19 L2299.15 546.87 L2307.69 542.29 L2316.23 542.29 L2324.64 514.82 L2333.18 513.83 L2358.68 512.34 L2367.21 512.34 L2375.75 498.36 L2384.17 498.60 L2392.71 465.07 L2418.20 460.36 L2426.74 475.71 L2435.28 492.79 L2443.69 501.08 L2452.23 484.50 L2477.72 455.79 L2486.26 447.49 L2494.68 441.06 L2511.75 458.01 L2537.25 498.48 L2545.78 540.80 L2554.20 518.53 L2562.74 514.32 L2571.28 463.46 L2596.77 479.42 L2605.31 483.63 L2613.72 479.17 L2622.26 445.89 L2630.80 445.39 L2656.29 430.17 L2664.83 425.47 L2673.25 429.67 L2681.79 408.88 L2690.32 397.13 L2715.82 382.65 L2724.36 388.09 L2741.31 372.13 L2749.85 368.54 L2775.34 396.14 L2783.88 384.63 L2800.83 334.75 L2809.37 370.02 L2834.86 359.75 L2843.40 377.82 L2851.82 353.44 L2860.36 321.51 L2868.90 341.56 L2894.39 329.06 L2902.93 324.11 L2911.34 310.50 L2919.88 270.15 L2928.42 262.48 L2962.45 285.50 L2970.87 286.86 L2979.41 290.82 L2987.94 316.56 L3013.44 385.00 L3021.85 356.78 L3030.39 355.05 L3038.93 336.24 L3047.47 427.20 L3072.96 405.54 L3081.38 344.04 L3089.91 271.14 L3098.45 257.78 L3106.99 299.48 L3132.48 273.25 L3140.90 273.37 L3149.44 231.91 L3157.98 251.22 L3166.51 254.93 L3200.42 279.93 L3208.96 262.48 L3217.50 281.79 L3225.91 316.19 L3251.53 471.75 L3259.95 604.29 L3268.49 622.98 L3277.02 802.54 L3285.44 856.38 L3311.05 661.34 L3319.47 779.77 L3328.01 602.81 L3336.55 749.08 L3344.96 787.69 L3370.58 1091.39 L3378.99 915.41 L3387.53 1136.31 L3396.07 1490.99 L3404.49 1191.75 L3430.10 1643.58 L3438.52 1485.42 L3447.06 1687.26 L3455.59 1658.92 L3464.01 1796.53 L3489.50 1884.28 L3498.04 1565.73 L3506.58 1490.99 L3515.12 1287.16 L3523.53 1425.27 L3549.03 1321.07 L3557.57 1382.95 L3566.10 1529.72 L3574.64 1458.93 L3583.06 1513.26 L3608.55 1267.98 L3617.09 1271.82 L3625.63 1154.25 L3634.17 1111.19 L3668.07 1160.81 L3676.61 1076.41 L3685.15 1143.61 L3693.57 1138.66 L3702.11 1032.35 L3727.60 1121.58 L3736.14 1216.87 L3744.68 1147.94 L3753.09 1142.00 L3761.63 1102.77 L3787.12 1048.69 L3795.66 1037.06\" stroke-linejoin=\"round\" style=\"fill:none;stroke:#1A476F;stroke-width:8.64\"/>\n",
       "\t<line x1=\"390.80\" y1=\"2489.19\" x2=\"390.80\" y2=\"100.86\" style=\"stroke:#000000;stroke-width:5.76\"/>\n",
       "\t<line x1=\"390.80\" y1=\"2425.82\" x2=\"350.83\" y2=\"2425.82\" style=\"stroke:#000000;stroke-width:5.76\"/>\n",
       "\t<text x=\"300.72\" y=\"2425.82\" style=\"font-family:'Helvetica';font-size:99.99px;fill:#000000\" transform=\"rotate(-90 300.72,2425.82)\" text-anchor=\"middle\">15000</text>\n",
       "\t<line x1=\"390.80\" y1=\"1671.91\" x2=\"350.83\" y2=\"1671.91\" style=\"stroke:#000000;stroke-width:5.76\"/>\n",
       "\t<text x=\"300.72\" y=\"1671.91\" style=\"font-family:'Helvetica';font-size:99.99px;fill:#000000\" transform=\"rotate(-90 300.72,1671.91)\" text-anchor=\"middle\">20000</text>\n",
       "\t<line x1=\"390.80\" y1=\"918.01\" x2=\"350.83\" y2=\"918.01\" style=\"stroke:#000000;stroke-width:5.76\"/>\n",
       "\t<text x=\"300.72\" y=\"918.01\" style=\"font-family:'Helvetica';font-size:99.99px;fill:#000000\" transform=\"rotate(-90 300.72,918.01)\" text-anchor=\"middle\">25000</text>\n",
       "\t<line x1=\"390.80\" y1=\"164.22\" x2=\"350.83\" y2=\"164.22\" style=\"stroke:#000000;stroke-width:5.76\"/>\n",
       "\t<text x=\"300.72\" y=\"164.22\" style=\"font-family:'Helvetica';font-size:99.99px;fill:#000000\" transform=\"rotate(-90 300.72,164.22)\" text-anchor=\"middle\">30000</text>\n",
       "\t<text x=\"190.71\" y=\"1294.96\" style=\"font-family:'Helvetica';font-size:99.99px;fill:#000000\" transform=\"rotate(-90 190.71,1294.96)\" text-anchor=\"middle\">dowjones_close</text>\n",
       "\t<line x1=\"390.80\" y1=\"2489.19\" x2=\"3859.02\" y2=\"2489.19\" style=\"stroke:#000000;stroke-width:5.76\"/>\n",
       "\t<line x1=\"454.16\" y1=\"2489.19\" x2=\"454.16\" y2=\"2529.16\" style=\"stroke:#000000;stroke-width:5.76\"/>\n",
       "\t<text x=\"454.16\" y=\"2619.14\" style=\"font-family:'Helvetica';font-size:99.99px;fill:#000000\" text-anchor=\"middle\">01apr2019</text>\n",
       "\t<line x1=\"1227.85\" y1=\"2489.19\" x2=\"1227.85\" y2=\"2529.16\" style=\"stroke:#000000;stroke-width:5.76\"/>\n",
       "\t<text x=\"1227.85\" y=\"2619.14\" style=\"font-family:'Helvetica';font-size:99.99px;fill:#000000\" text-anchor=\"middle\">01jul2019</text>\n",
       "\t<line x1=\"2010.19\" y1=\"2489.19\" x2=\"2010.19\" y2=\"2529.16\" style=\"stroke:#000000;stroke-width:5.76\"/>\n",
       "\t<text x=\"2010.19\" y=\"2619.14\" style=\"font-family:'Helvetica';font-size:99.99px;fill:#000000\" text-anchor=\"middle\">01oct2019</text>\n",
       "\t<line x1=\"2792.42\" y1=\"2489.19\" x2=\"2792.42\" y2=\"2529.16\" style=\"stroke:#000000;stroke-width:5.76\"/>\n",
       "\t<text x=\"2792.42\" y=\"2619.14\" style=\"font-family:'Helvetica';font-size:99.99px;fill:#000000\" text-anchor=\"middle\">01jan2020</text>\n",
       "\t<line x1=\"3566.10\" y1=\"2489.19\" x2=\"3566.10\" y2=\"2529.16\" style=\"stroke:#000000;stroke-width:5.76\"/>\n",
       "\t<text x=\"3566.10\" y=\"2619.14\" style=\"font-family:'Helvetica';font-size:99.99px;fill:#000000\" text-anchor=\"middle\">01apr2020</text>\n",
       "\t<text x=\"2124.91\" y=\"2729.16\" style=\"font-family:'Helvetica';font-size:99.99px;fill:#000000\" text-anchor=\"middle\">date</text>\n",
       "</svg>\n"
      ],
      "text/plain": [
       "This front-end cannot display the desired image type."
      ]
     },
     "metadata": {
      "image/svg+xml": {
       "height": 436,
       "width": 600
      }
     },
     "output_type": "display_data"
    }
   ],
   "source": [
    "tsline dowjones_close"
   ]
  },
  {
   "cell_type": "markdown",
   "metadata": {},
   "source": [
    "Coronapandemin i Mars 2020 gör ett tydligt avtryck! Resultatet blir exakt samma som om vi gjort det med det vanliga twowaykommandot, alltså `twoway (line dowjones_close date)` men det här är lite snabbare."
   ]
  },
  {
   "cell_type": "markdown",
   "metadata": {},
   "source": [
    "## Skapa olika typer av tidsvariabler (laggade, ledande, delta)\n"
   ]
  },
  {
   "cell_type": "markdown",
   "metadata": {},
   "source": [
    "Nu kommer vi till fördelarna med att ställa in tidsserien, nämligen inbyggda kommandon för att skapa olika variabler som har att göra med just tiden.\n",
    "\n",
    "### Laggade variabler\n",
    "Först har vi de laggade variablerna. De visar vad en variabel hade för värde vid en tidigare tidpunkt. Hur förhåller sig till exempel Dow Jones-indexet till sig själv, en dag eller en vecka tidigare? Vi kan lätt ta reda på det genom att använda prefixet `l.` framför en variabel. Skriver vi `l.dowjones_close` avses värdet på Dow Jones en dag tidigare. Skriver vi `l7.dowjones_close` får vi värdet sju dagar tidigare, och så vidare.\n",
    "\n",
    "Vi kan till exempel ta fram en korrelationsmatris som visar hur dagens värde korrelerar med värdet för en vecka sedan, och för två veckor sedan:"
   ]
  },
  {
   "cell_type": "code",
   "execution_count": 44,
   "metadata": {},
   "outputs": [
    {
     "name": "stdout",
     "output_type": "stream",
     "text": [
      "(obs=180)\n",
      "\n",
      "             |                 L.      L7.     L14.\n",
      "             | dowjo~se dowjo~se dowjo~se dowjo~se\n",
      "-------------+------------------------------------\n",
      "dowjones_c~e |\n",
      "         --. |   1.0000\n",
      "         L1. |   0.9752   1.0000\n",
      "         L7. |   0.8791   0.8967   1.0000\n",
      "        L14. |   0.7413   0.7574   0.8722   1.0000\n",
      "\n"
     ]
    }
   ],
   "source": [
    "corr dowjones_close l.dowjones_close l7.dowjones_close l14.dowjones_close"
   ]
  },
  {
   "cell_type": "markdown",
   "metadata": {},
   "source": [
    "Korrelationen mellan dagens börskurs och gårdagens är alltså väldigt stark: 0.98. Sambandet med kursen en vecka sedan är något svagare, och med två veckor tidigare ännu svagare (vilket inte är konstigt, mer har ju hunnit förändras).\n",
    "\n",
    "Vi kan också använda dessa kommandon när vi gör grafer. Vi förskjuter då linjen till höger. I grafen nedan visar den blåa linjen dagens värde, och den röda linjen vad börskursen var två veckor tidigare."
   ]
  },
  {
   "cell_type": "code",
   "execution_count": 49,
   "metadata": {},
   "outputs": [
    {
     "data": {
      "application/pdf": "[encoded data removed]",
      "image/svg+xml": [
       "<?xml version=\"1.0\" encoding=\"UTF-8\" standalone=\"no\"?>\n",
       "<!-- This is a Stata 16.0 generated SVG file (http://www.stata.com) -->\n",
       "\n",
       "<svg version=\"1.1\" width=\"600px\" height=\"436px\" viewBox=\"0 0 3960 2880\" xmlns=\"http://www.w3.org/2000/svg\" xmlns:xlink=\"http://www.w3.org/1999/xlink\">\n",
       "\t<desc>Stata Graph - Graph</desc>\n",
       "\t<rect x=\"0\" y=\"0\" width=\"3960\" height=\"2880\" style=\"fill:#EAF2F3;stroke:none\"/>\n",
       "\t<rect x=\"0.00\" y=\"0.00\" width=\"3959.88\" height=\"2880.00\" style=\"fill:#EAF2F3\"/>\n",
       "\t<rect x=\"2.88\" y=\"2.88\" width=\"3954.12\" height=\"2874.24\" style=\"fill:none;stroke:#EAF2F3;stroke-width:5.76\"/>\n",
       "\t<rect x=\"290.81\" y=\"100.86\" width=\"3568.21\" height=\"2132.77\" style=\"fill:#FFFFFF\"/>\n",
       "\t<rect x=\"293.69\" y=\"103.74\" width=\"3562.45\" height=\"2127.01\" style=\"fill:none;stroke:#FFFFFF;stroke-width:5.76\"/>\n",
       "\t<line x1=\"290.81\" y1=\"1501.63\" x2=\"3859.02\" y2=\"1501.63\" style=\"stroke:#EAF2F3;stroke-width:8.64\"/>\n",
       "\t<line x1=\"290.81\" y1=\"832.86\" x2=\"3859.02\" y2=\"832.86\" style=\"stroke:#EAF2F3;stroke-width:8.64\"/>\n",
       "\t<line x1=\"290.81\" y1=\"164.22\" x2=\"3859.02\" y2=\"164.22\" style=\"stroke:#EAF2F3;stroke-width:8.64\"/>\n",
       "\t<path d=\" M599.32 625.08 L607.98 619.88 L616.77 641.66 L625.56 658.00 L634.34 631.64 L660.58 640.55 L669.36 703.91 L678.15 703.54 L686.81 722.10 L695.60 706.88 L721.83 789.43 L730.62 761.83 L739.41 746.24 L748.19 717.52 L756.86 730.77 L783.21 742.03 L792.00 715.54 L800.66 729.03 L809.45 767.40 L818.24 754.65 L853.26 786.46 L862.04 816.03 L870.71 810.22 L879.49 857.74 L905.73 857.00 L914.51 788.56 L923.30 760.84 L932.09 736.58 L940.87 701.31 L967.11 690.79 L975.89 692.65 L984.55 698.59 L993.34 684.98 L1002.13 687.21 L1028.36 684.11 L1037.15 636.96 L1045.93 631.76 L1054.60 598.47 L1063.38 603.05 L1089.74 601.94 L1098.40 625.82 L1107.19 627.43 L1115.98 628.79 L1124.76 619.02 L1151.00 603.30 L1159.79 594.02 L1168.45 570.01 L1186.02 575.83 L1212.26 591.42 L1221.04 594.39 L1229.83 584.12 L1238.61 553.67 L1247.28 521.00 L1273.63 517.41 L1282.30 520.51 L1291.08 536.10 L1299.87 535.61 L1308.66 544.89 L1334.89 542.41 L1343.68 518.78 L1352.34 529.30 L1361.13 546.62 L1369.91 539.69 L1396.15 535.85 L1404.93 538.95 L1413.72 583.62 L1422.51 621.12 L1431.17 634.36 L1457.53 736.95 L1466.19 695.25 L1474.98 698.22 L1483.76 648.59 L1492.55 660.72 L1518.78 713.07 L1527.57 661.71 L1536.36 768.88 L1545.02 755.39 L1553.81 714.43 L1580.04 681.02 L1588.83 704.28 L1597.61 672.11 L1606.40 665.42 L1615.06 748.83 L1641.42 712.70 L1650.21 728.91 L1658.87 694.38 L1667.65 650.70 L1676.44 645.25 L1711.46 683.37 L1720.25 651.69 L1728.91 601.82 L1737.70 592.53 L1763.93 587.46 L1772.72 577.56 L1781.51 547.12 L1790.29 541.05 L1799.08 536.10 L1825.31 555.16 L1834.10 550.58 L1842.76 545.75 L1851.55 552.81 L1860.33 574.09 L1886.57 572.11 L1895.36 591.17 L1904.14 569.39 L1912.80 580.03 L1921.59 589.44 L1947.95 576.57 L1956.61 622.61 L1965.40 688.69 L1974.18 672.35 L1982.97 622.48 L2009.20 635.23 L2017.99 677.30 L2026.65 652.93 L2035.44 632.75 L2044.23 589.93 L2070.46 593.89 L2079.25 562.09 L2088.03 565.18 L2096.82 561.97 L2105.48 596.25 L2131.84 588.45 L2140.50 593.77 L2149.29 587.71 L2158.08 591.42 L2166.86 571.12 L2193.10 553.30 L2201.88 555.90 L2210.55 540.43 L2219.33 559.24 L2228.12 519.02 L2254.35 503.68 L2263.14 499.59 L2271.93 499.59 L2280.71 475.21 L2289.38 474.35 L2315.73 472.99 L2324.40 472.99 L2333.18 460.61 L2341.97 460.86 L2350.76 431.03 L2376.99 426.83 L2385.78 440.56 L2394.56 455.66 L2403.22 462.96 L2412.01 448.36 L2438.25 422.87 L2447.03 415.44 L2455.82 409.75 L2473.27 424.85 L2499.63 460.74 L2508.41 498.23 L2517.07 478.56 L2525.86 474.84 L2534.65 429.67 L2560.88 443.78 L2569.67 447.49 L2578.45 443.53 L2587.12 414.08 L2595.90 413.59 L2622.14 400.22 L2630.93 396.01 L2639.71 399.72 L2648.50 381.29 L2657.28 370.89 L2683.52 357.90 L2692.30 362.72 L2709.75 348.61 L2718.54 345.40 L2744.78 369.90 L2753.56 359.75 L2771.01 315.57 L2779.80 346.76 L2806.16 337.60 L2814.82 353.69 L2823.60 332.03 L2832.39 303.69 L2841.18 321.51 L2867.41 310.37 L2876.20 306.04 L2884.86 293.92 L2893.65 258.15 L2902.43 251.47 L2937.45 271.76 L2946.24 273.00 L2955.03 276.59 L2963.69 299.36 L2990.05 360.00 L2998.71 335.00 L3007.50 333.52 L3016.28 316.81 L3025.07 397.50 L3051.30 378.19 L3060.09 323.74 L3068.75 259.02 L3077.54 247.14 L3086.32 284.26 L3112.56 261.00 L3121.35 261.00 L3130.13 224.24 L3138.92 241.32 L3147.58 244.79 L3182.60 266.94 L3191.39 251.47 L3200.18 268.55 L3208.96 298.99 L3235.20 436.97 L3243.98 554.54 L3252.77 571.12 L3261.43 730.40 L3270.22 778.16 L3296.45 605.16 L3305.24 710.22 L3314.03 553.30 L3322.81 683.00 L3331.47 717.28 L3357.83 986.57 L3366.49 830.51 L3375.28 1026.41 L3384.07 1341.12 L3392.85 1075.67 L3419.09 1476.51 L3427.88 1336.17 L3436.66 1515.24 L3445.32 1490.00 L3454.11 1612.14 L3480.34 1689.98 L3489.13 1407.33 L3497.92 1341.12 L3506.70 1160.32 L3515.49 1282.71 L3541.72 1190.39 L3550.51 1245.21 L3559.17 1375.52 L3567.96 1312.66 L3576.75 1360.92 L3602.98 1143.24 L3611.77 1146.70 L3620.55 1042.50 L3629.22 1004.26 L3664.36 1048.20 L3673.02 973.45 L3681.81 1032.97 L3690.60 1028.52 L3699.38 934.22 L3725.62 1013.42 L3734.40 1097.94 L3743.07 1036.81 L3751.85 1031.49 L3760.64 996.71 L3786.87 948.82 L3795.66 938.43\" stroke-linejoin=\"round\" style=\"fill:none;stroke:#1A476F;stroke-width:8.64\"/>\n",
       "\t<path d=\" M721.83 625.08 L730.62 619.88 L739.41 641.66 L748.19 658.00 L756.86 631.64 L783.21 640.55 L792.00 703.91 L800.66 703.54 L809.45 722.10 L818.24 706.88 L844.47 789.43 L853.26 761.83 L862.04 746.24 L870.71 717.52 L879.49 730.77 L905.73 742.03 L914.51 715.54 L923.30 729.03 L932.09 767.40 L940.87 754.65 L975.89 786.46 L984.55 816.03 L993.34 810.22 L1002.13 857.74 L1028.36 857.00 L1037.15 788.56 L1045.93 760.84 L1054.60 736.58 L1063.38 701.31 L1089.74 690.79 L1098.40 692.65 L1107.19 698.59 L1115.98 684.98 L1124.76 687.21 L1151.00 684.11 L1159.79 636.96 L1168.45 631.76 L1177.23 598.47 L1186.02 603.05 L1212.26 601.94 L1221.04 625.82 L1229.83 627.43 L1238.61 628.79 L1247.28 619.02 L1273.63 603.30 L1282.30 594.02 L1291.08 570.01 L1308.66 575.83 L1334.89 591.42 L1343.68 594.39 L1352.34 584.12 L1361.13 553.67 L1369.91 521.00 L1396.15 517.41 L1404.93 520.51 L1413.72 536.10 L1422.51 535.61 L1431.17 544.89 L1457.53 542.41 L1466.19 518.78 L1474.98 529.30 L1483.76 546.62 L1492.55 539.69 L1518.78 535.85 L1527.57 538.95 L1536.36 583.62 L1545.02 621.12 L1553.81 634.36 L1580.04 736.95 L1588.83 695.25 L1597.61 698.22 L1606.40 648.59 L1615.06 660.72 L1641.42 713.07 L1650.21 661.71 L1658.87 768.88 L1667.65 755.39 L1676.44 714.43 L1702.68 681.02 L1711.46 704.28 L1720.25 672.11 L1728.91 665.42 L1737.70 748.83 L1763.93 712.70 L1772.72 728.91 L1781.51 694.38 L1790.29 650.70 L1799.08 645.25 L1834.10 683.37 L1842.76 651.69 L1851.55 601.82 L1860.33 592.53 L1886.57 587.46 L1895.36 577.56 L1904.14 547.12 L1912.80 541.05 L1921.59 536.10 L1947.95 555.16 L1956.61 550.58 L1965.40 545.75 L1974.18 552.81 L1982.97 574.09 L2009.20 572.11 L2017.99 591.17 L2026.65 569.39 L2035.44 580.03 L2044.23 589.44 L2070.46 576.57 L2079.25 622.61 L2088.03 688.69 L2096.82 672.35 L2105.48 622.48 L2131.84 635.23 L2140.50 677.30 L2149.29 652.93 L2158.08 632.75 L2166.86 589.93 L2193.10 593.89 L2201.88 562.09 L2210.55 565.18 L2219.33 561.97 L2228.12 596.25 L2254.35 588.45 L2263.14 593.77 L2271.93 587.71 L2280.71 591.42 L2289.38 571.12 L2315.73 553.30 L2324.40 555.90 L2333.18 540.43 L2341.97 559.24 L2350.76 519.02 L2376.99 503.68 L2385.78 499.59 L2394.56 499.59 L2403.22 475.21 L2412.01 474.35 L2438.25 472.99 L2447.03 472.99 L2455.82 460.61 L2464.61 460.86 L2473.27 431.03 L2499.63 426.83 L2508.41 440.56 L2517.07 455.66 L2525.86 462.96 L2534.65 448.36 L2560.88 422.87 L2569.67 415.44 L2578.45 409.75 L2595.90 424.85 L2622.14 460.74 L2630.93 498.23 L2639.71 478.56 L2648.50 474.84 L2657.28 429.67 L2683.52 443.78 L2692.30 447.49 L2700.97 443.53 L2709.75 414.08 L2718.54 413.59 L2744.78 400.22 L2753.56 396.01 L2771.01 381.29 L2779.80 370.89 L2806.16 357.90 L2814.82 362.72 L2832.39 348.61 L2841.18 345.40 L2867.41 369.90 L2876.20 359.75 L2893.65 315.57 L2902.43 346.76 L2928.67 337.60 L2937.45 353.69 L2946.24 332.03 L2955.03 303.69 L2963.69 321.51 L2990.05 310.37 L2998.71 306.04 L3007.50 293.92 L3016.28 258.15 L3025.07 251.47 L3060.09 271.76 L3068.75 273.00 L3077.54 276.59 L3086.32 299.36 L3112.56 360.00 L3121.35 335.00 L3130.13 333.52 L3138.92 316.81 L3147.58 397.50 L3173.94 378.19 L3182.60 323.74 L3191.39 259.02 L3200.18 247.14 L3208.96 284.26 L3235.20 261.00 L3243.98 261.00 L3252.77 224.24 L3261.43 241.32 L3270.22 244.79 L3305.24 266.94 L3314.03 251.47 L3322.81 268.55 L3331.47 298.99 L3357.83 436.97 L3366.49 554.54 L3375.28 571.12 L3384.07 730.40 L3392.85 778.16 L3419.09 605.16 L3427.88 710.22 L3436.66 553.30 L3445.32 683.00 L3454.11 717.28 L3480.34 986.57 L3489.13 830.51 L3497.92 1026.41 L3506.70 1341.12 L3515.49 1075.67 L3541.72 1476.51 L3550.51 1336.17 L3559.17 1515.24 L3567.96 1490.00 L3576.75 1612.14 L3602.98 1689.98 L3611.77 1407.33 L3620.55 1341.12 L3629.22 1160.32 L3638.00 1282.71 L3664.36 1190.39 L3673.02 1245.21 L3681.81 1375.52 L3690.60 1312.66 L3699.38 1360.92 L3725.62 1143.24 L3734.40 1146.70 L3743.07 1042.50 L3751.85 1004.26 L3786.87 1048.20 L3795.66 973.45\" stroke-linejoin=\"round\" style=\"fill:none;stroke:#90353B;stroke-width:8.64\"/>\n",
       "\t<line x1=\"290.81\" y1=\"2233.63\" x2=\"290.81\" y2=\"100.86\" style=\"stroke:#000000;stroke-width:5.76\"/>\n",
       "\t<line x1=\"290.81\" y1=\"2170.27\" x2=\"250.84\" y2=\"2170.27\" style=\"stroke:#000000;stroke-width:5.76\"/>\n",
       "\t<text x=\"200.73\" y=\"2170.27\" style=\"font-family:'Helvetica';font-size:99.99px;fill:#000000\" transform=\"rotate(-90 200.73,2170.27)\" text-anchor=\"middle\">15000</text>\n",
       "\t<line x1=\"290.81\" y1=\"1501.63\" x2=\"250.84\" y2=\"1501.63\" style=\"stroke:#000000;stroke-width:5.76\"/>\n",
       "\t<text x=\"200.73\" y=\"1501.63\" style=\"font-family:'Helvetica';font-size:99.99px;fill:#000000\" transform=\"rotate(-90 200.73,1501.63)\" text-anchor=\"middle\">20000</text>\n",
       "\t<line x1=\"290.81\" y1=\"832.86\" x2=\"250.84\" y2=\"832.86\" style=\"stroke:#000000;stroke-width:5.76\"/>\n",
       "\t<text x=\"200.73\" y=\"832.86\" style=\"font-family:'Helvetica';font-size:99.99px;fill:#000000\" transform=\"rotate(-90 200.73,832.86)\" text-anchor=\"middle\">25000</text>\n",
       "\t<line x1=\"290.81\" y1=\"164.22\" x2=\"250.84\" y2=\"164.22\" style=\"stroke:#000000;stroke-width:5.76\"/>\n",
       "\t<text x=\"200.73\" y=\"164.22\" style=\"font-family:'Helvetica';font-size:99.99px;fill:#000000\" transform=\"rotate(-90 200.73,164.22)\" text-anchor=\"middle\">30000</text>\n",
       "\t<line x1=\"290.81\" y1=\"2233.63\" x2=\"3859.02\" y2=\"2233.63\" style=\"stroke:#000000;stroke-width:5.76\"/>\n",
       "\t<line x1=\"354.17\" y1=\"2233.63\" x2=\"354.17\" y2=\"2273.73\" style=\"stroke:#000000;stroke-width:5.76\"/>\n",
       "\t<text x=\"354.17\" y=\"2363.59\" style=\"font-family:'Helvetica';font-size:99.99px;fill:#000000\" text-anchor=\"middle\">01apr2019</text>\n",
       "\t<line x1=\"1151.00\" y1=\"2233.63\" x2=\"1151.00\" y2=\"2273.73\" style=\"stroke:#000000;stroke-width:5.76\"/>\n",
       "\t<text x=\"1151.00\" y=\"2363.59\" style=\"font-family:'Helvetica';font-size:99.99px;fill:#000000\" text-anchor=\"middle\">01jul2019</text>\n",
       "\t<line x1=\"1956.73\" y1=\"2233.63\" x2=\"1956.73\" y2=\"2273.73\" style=\"stroke:#000000;stroke-width:5.76\"/>\n",
       "\t<text x=\"1956.73\" y=\"2363.59\" style=\"font-family:'Helvetica';font-size:99.99px;fill:#000000\" text-anchor=\"middle\">01oct2019</text>\n",
       "\t<line x1=\"2762.35\" y1=\"2233.63\" x2=\"2762.35\" y2=\"2273.73\" style=\"stroke:#000000;stroke-width:5.76\"/>\n",
       "\t<text x=\"2762.35\" y=\"2363.59\" style=\"font-family:'Helvetica';font-size:99.99px;fill:#000000\" text-anchor=\"middle\">01jan2020</text>\n",
       "\t<line x1=\"3559.30\" y1=\"2233.63\" x2=\"3559.30\" y2=\"2273.73\" style=\"stroke:#000000;stroke-width:5.76\"/>\n",
       "\t<text x=\"3559.30\" y=\"2363.59\" style=\"font-family:'Helvetica';font-size:99.99px;fill:#000000\" text-anchor=\"middle\">01apr2020</text>\n",
       "\t<text x=\"2074.92\" y=\"2473.60\" style=\"font-family:'Helvetica';font-size:99.99px;fill:#000000\" text-anchor=\"middle\">date</text>\n",
       "\t<rect x=\"696.34\" y=\"2558.24\" width=\"2757.27\" height=\"186.37\" style=\"fill:#FFFFFF\"/>\n",
       "\t<rect x=\"699.22\" y=\"2561.12\" width=\"2751.51\" height=\"180.61\" style=\"fill:none;stroke:#000000;stroke-width:5.76\"/>\n",
       "\t<line x1=\"739.53\" y1=\"2651.43\" x2=\"1113.87\" y2=\"2651.43\" style=\"stroke:#1A476F;stroke-width:8.64\"/>\n",
       "\t<line x1=\"2044.60\" y1=\"2651.43\" x2=\"2419.07\" y2=\"2651.43\" style=\"stroke:#90353B;stroke-width:8.64\"/>\n",
       "\t<text x=\"1173.89\" y=\"2686.46\" style=\"font-family:'Helvetica';font-size:99.99px;fill:#000000\">dowjones_close</text>\n",
       "\t<text x=\"2479.08\" y=\"2686.46\" style=\"font-family:'Helvetica';font-size:99.99px;fill:#000000\">L14.dowjones_close</text>\n",
       "</svg>\n"
      ],
      "text/plain": [
       "This front-end cannot display the desired image type."
      ]
     },
     "metadata": {
      "image/svg+xml": {
       "height": 436,
       "width": 600
      }
     },
     "output_type": "display_data"
    }
   ],
   "source": [
    "tsline dowjones_close l14.dowjones_close"
   ]
  },
  {
   "cell_type": "markdown",
   "metadata": {},
   "source": [
    "### Ledande variabler\n",
    "Ledande variabler är precis samma som de laggade, fast för framtiden. De visar alltså vad värdet kommer vara längre fram. Prefixet vi använder för dem är `f.`. `f1.dowjones_close` visar vilket värde Dow Jones har dagen efter det aktuella datumet, och `f14.dowjones_close` visar värdet två veckor senare."
   ]
  },
  {
   "cell_type": "code",
   "execution_count": 50,
   "metadata": {},
   "outputs": [
    {
     "name": "stdout",
     "output_type": "stream",
     "text": [
      "(obs=181)\n",
      "\n",
      "             |                 F.     F14.\n",
      "             | dowjo~se dowjo~se dowjo~se\n",
      "-------------+---------------------------\n",
      "dowjones_c~e |\n",
      "         --. |   1.0000\n",
      "         F1. |   0.9741   1.0000\n",
      "        F14. |   0.7330   0.7619   1.0000\n",
      "\n"
     ]
    }
   ],
   "source": [
    "corr dowjones_close f1.dowjones_close f14.dowjones_close"
   ]
  },
  {
   "cell_type": "markdown",
   "metadata": {},
   "source": [
    "### Deltavariabler (förändringsvariabler)\n",
    "Delta står i de här sammanhangen för förändring. Med prefixed `d.` får vi fram hur variabeln har förändrats sedan föregående tidsenhet - i det här fallet sedan dagen innan. Här får man dock tänka på att det är en dags förändring (eftersom vi ställde in att en dag är ett steg). Så måndagarna jämförs med söndagarna, då börsen är stängd, och inte fredagarna. Eftersom det inte finns något värde på söndag försvinner också måndagarna när vi kollar på förändring på det här sättet.\n",
    "\n",
    "Nedan kollar vi på hur Dow Jones Index förändrats från dag till dag, över tid:"
   ]
  },
  {
   "cell_type": "code",
   "execution_count": 51,
   "metadata": {},
   "outputs": [
    {
     "data": {
      "application/pdf": "[encoded data removed]",
      "image/svg+xml": [
       "<?xml version=\"1.0\" encoding=\"UTF-8\" standalone=\"no\"?>\n",
       "<!-- This is a Stata 16.0 generated SVG file (http://www.stata.com) -->\n",
       "\n",
       "<svg version=\"1.1\" width=\"600px\" height=\"436px\" viewBox=\"0 0 3960 2880\" xmlns=\"http://www.w3.org/2000/svg\" xmlns:xlink=\"http://www.w3.org/1999/xlink\">\n",
       "\t<desc>Stata Graph - Graph</desc>\n",
       "\t<rect x=\"0\" y=\"0\" width=\"3960\" height=\"2880\" style=\"fill:#EAF2F3;stroke:none\"/>\n",
       "\t<rect x=\"0.00\" y=\"0.00\" width=\"3959.88\" height=\"2880.00\" style=\"fill:#EAF2F3\"/>\n",
       "\t<rect x=\"2.88\" y=\"2.88\" width=\"3954.12\" height=\"2874.24\" style=\"fill:none;stroke:#EAF2F3;stroke-width:5.76\"/>\n",
       "\t<rect x=\"390.80\" y=\"100.86\" width=\"3468.22\" height=\"2388.33\" style=\"fill:#FFFFFF\"/>\n",
       "\t<rect x=\"393.68\" y=\"103.74\" width=\"3462.46\" height=\"2382.57\" style=\"fill:none;stroke:#FFFFFF;stroke-width:5.76\"/>\n",
       "\t<line x1=\"390.80\" y1=\"2247.25\" x2=\"3859.02\" y2=\"2247.25\" style=\"stroke:#EAF2F3;stroke-width:8.64\"/>\n",
       "\t<line x1=\"390.80\" y1=\"1740.85\" x2=\"3859.02\" y2=\"1740.85\" style=\"stroke:#EAF2F3;stroke-width:8.64\"/>\n",
       "\t<line x1=\"390.80\" y1=\"1234.32\" x2=\"3859.02\" y2=\"1234.32\" style=\"stroke:#EAF2F3;stroke-width:8.64\"/>\n",
       "\t<line x1=\"390.80\" y1=\"727.80\" x2=\"3859.02\" y2=\"727.80\" style=\"stroke:#EAF2F3;stroke-width:8.64\"/>\n",
       "\t<line x1=\"390.80\" y1=\"221.40\" x2=\"3859.02\" y2=\"221.40\" style=\"stroke:#EAF2F3;stroke-width:8.64\"/>\n",
       "\t<path d=\" M700.67 1214.89 L709.21 1316.86 L717.63 1296.32 L726.16 1134.58 L760.20 1474.16 L768.74 1233.21 L777.15 1304.74 L785.69 1176.65 L819.72 1129.50 L828.26 1175.66 L836.67 1125.67 L845.21 1284.32 L879.24 1134.45 L887.66 1285.43 L896.20 1379.36 L904.74 1186.18 L947.18 1346.44 L955.72 1212.42 L964.26 1414.14 L998.29 974.81 L1006.71 1129.38 L1015.25 1142.62 L1023.78 1101.04 L1057.82 1241.62 L1066.23 1256.47 L1074.77 1182.72 L1083.31 1243.11 L1117.34 1055.62 L1125.75 1214.89 L1134.29 1108.22 L1142.83 1251.65 L1176.86 1325.16 L1185.28 1240.14 L1193.82 1239.52 L1202.36 1197.19 L1236.39 1199.30 L1244.80 1143.61 L1295.91 1245.83 L1304.33 1195.59 L1312.86 1118.98 L1321.40 1110.81 L1355.31 1246.33 L1363.85 1292.98 L1372.39 1232.84 L1380.93 1269.22 L1414.83 1144.60 L1423.37 1274.54 L1431.91 1299.66 L1440.45 1208.33 L1474.36 1246.20 L1482.90 1403.37 L1491.43 1376.64 L1499.97 1284.19 L1533.88 1076.53 L1542.42 1245.71 L1550.96 1046.46 L1559.37 1280.36 L1593.40 1040.15 L1601.94 1639.86 L1610.48 1183.71 L1618.90 1079.13 L1652.93 1322.19 L1661.47 1112.67 L1670.01 1209.32 L1678.42 1550.14 L1712.45 1295.58 L1720.99 1103.64 L1729.53 1069.23 L1737.94 1213.65 L1780.52 1114.16 L1789.05 1045.60 L1797.47 1199.30 L1831.50 1196.95 L1840.04 1119.11 L1848.58 1211.43 L1856.99 1215.63 L1891.02 1217.12 L1899.56 1216.01 L1908.10 1260.93 L1916.52 1315.26 L1950.55 1306.47 L1959.09 1151.90 L1967.62 1274.66 L1976.04 1270.33 L2010.07 1408.57 L2018.61 1484.80 L2027.03 1172.44 L2035.56 1045.60 L2069.59 1393.47 L2078.13 1142.25 L2086.55 1158.09 L2095.09 1072.33 L2129.12 1114.16 L2137.66 1245.95 L2146.07 1222.32 L2154.61 1363.89 L2188.64 1254.37 L2197.18 1211.18 L2205.60 1248.80 L2214.14 1157.10 L2248.17 1244.10 L2256.70 1176.03 L2265.12 1305.48 L2273.66 1081.86 L2307.69 1218.98 L2316.23 1234.44 L2324.64 1142.12 L2333.18 1231.10 L2367.21 1234.44 L2375.75 1187.79 L2384.17 1235.19 L2392.71 1121.46 L2426.74 1286.17 L2435.28 1291.62 L2443.69 1262.17 L2452.23 1179.00 L2486.26 1206.48 L2494.68 1212.91 L2545.78 1376.27 L2554.20 1159.94 L2562.74 1220.21 L2571.28 1063.54 L2605.31 1248.55 L2613.72 1219.35 L2622.26 1122.57 L2630.80 1232.71 L2664.83 1218.60 L2673.25 1248.55 L2681.79 1164.65 L2690.32 1194.84 L2724.36 1252.64 L2749.85 1222.32 L2783.88 1195.71 L2809.37 1352.88 L2843.40 1294.96 L2851.82 1152.64 L2860.36 1127.15 L2868.90 1301.77 L2902.93 1217.86 L2911.34 1188.53 L2919.88 1098.93 L2928.42 1208.83 L2970.87 1239.27 L2979.41 1247.69 L2987.94 1320.70 L3021.85 1139.65 L3030.39 1228.50 L3038.93 1171.08 L3047.47 1539.99 L3081.38 1027.78 L3089.91 989.66 L3098.45 1189.40 L3106.99 1374.78 L3140.90 1234.57 L3149.44 1095.10 L3157.98 1299.29 L3166.51 1247.19 L3208.96 1175.66 L3217.50 1299.29 L3225.91 1349.66 L3259.95 1679.83 L3268.49 1297.06 L3277.02 1837.62 L3285.44 1415.37 L3319.47 1632.44 L3328.01 640.06 L3336.55 1725.50 L3344.96 1364.26 L3378.99 643.27 L3387.53 1976.35 L3396.07 2425.95 L3404.49 229.07 L3438.52 703.17 L3447.06 1912.24 L3455.59 1139.03 L3464.01 1696.91 L3498.04 164.22 L3506.58 983.35 L3515.12 549.84 L3523.53 1698.03 L3557.57 1442.23 L3566.10 1727.48 L3574.64 996.34 L3583.06 1417.23 L3617.09 1247.56 L3625.63 839.42 L3634.17 1089.65 L3676.61 951.30 L3685.15 1459.92 L3693.57 1217.49 L3702.11 877.41 L3736.14 1554.22 L3744.68 1002.90 L3753.09 1214.40 L3761.63 1102.65 L3795.66 1195.21\" stroke-linejoin=\"round\" style=\"fill:none;stroke:#1A476F;stroke-width:8.64\"/>\n",
       "\t<line x1=\"390.80\" y1=\"2489.19\" x2=\"390.80\" y2=\"100.86\" style=\"stroke:#000000;stroke-width:5.76\"/>\n",
       "\t<line x1=\"390.80\" y1=\"2247.25\" x2=\"350.83\" y2=\"2247.25\" style=\"stroke:#000000;stroke-width:5.76\"/>\n",
       "\t<text x=\"300.72\" y=\"2247.25\" style=\"font-family:'Helvetica';font-size:99.99px;fill:#000000\" transform=\"rotate(-90 300.72,2247.25)\" text-anchor=\"middle\">-2000</text>\n",
       "\t<line x1=\"390.80\" y1=\"1740.85\" x2=\"350.83\" y2=\"1740.85\" style=\"stroke:#000000;stroke-width:5.76\"/>\n",
       "\t<text x=\"300.72\" y=\"1740.85\" style=\"font-family:'Helvetica';font-size:99.99px;fill:#000000\" transform=\"rotate(-90 300.72,1740.85)\" text-anchor=\"middle\">-1000</text>\n",
       "\t<line x1=\"390.80\" y1=\"1234.32\" x2=\"350.83\" y2=\"1234.32\" style=\"stroke:#000000;stroke-width:5.76\"/>\n",
       "\t<text x=\"300.72\" y=\"1234.32\" style=\"font-family:'Helvetica';font-size:99.99px;fill:#000000\" transform=\"rotate(-90 300.72,1234.32)\" text-anchor=\"middle\">0</text>\n",
       "\t<line x1=\"390.80\" y1=\"727.80\" x2=\"350.83\" y2=\"727.80\" style=\"stroke:#000000;stroke-width:5.76\"/>\n",
       "\t<text x=\"300.72\" y=\"727.80\" style=\"font-family:'Helvetica';font-size:99.99px;fill:#000000\" transform=\"rotate(-90 300.72,727.80)\" text-anchor=\"middle\">1000</text>\n",
       "\t<line x1=\"390.80\" y1=\"221.40\" x2=\"350.83\" y2=\"221.40\" style=\"stroke:#000000;stroke-width:5.76\"/>\n",
       "\t<text x=\"300.72\" y=\"221.40\" style=\"font-family:'Helvetica';font-size:99.99px;fill:#000000\" transform=\"rotate(-90 300.72,221.40)\" text-anchor=\"middle\">2000</text>\n",
       "\t<text x=\"190.71\" y=\"1294.96\" style=\"font-family:'Helvetica';font-size:99.99px;fill:#000000\" transform=\"rotate(-90 190.71,1294.96)\" text-anchor=\"middle\">D.dowjones_close</text>\n",
       "\t<line x1=\"390.80\" y1=\"2489.19\" x2=\"3859.02\" y2=\"2489.19\" style=\"stroke:#000000;stroke-width:5.76\"/>\n",
       "\t<line x1=\"454.16\" y1=\"2489.19\" x2=\"454.16\" y2=\"2529.16\" style=\"stroke:#000000;stroke-width:5.76\"/>\n",
       "\t<text x=\"454.16\" y=\"2619.14\" style=\"font-family:'Helvetica';font-size:99.99px;fill:#000000\" text-anchor=\"middle\">01apr2019</text>\n",
       "\t<line x1=\"1227.85\" y1=\"2489.19\" x2=\"1227.85\" y2=\"2529.16\" style=\"stroke:#000000;stroke-width:5.76\"/>\n",
       "\t<text x=\"1227.85\" y=\"2619.14\" style=\"font-family:'Helvetica';font-size:99.99px;fill:#000000\" text-anchor=\"middle\">01jul2019</text>\n",
       "\t<line x1=\"2010.19\" y1=\"2489.19\" x2=\"2010.19\" y2=\"2529.16\" style=\"stroke:#000000;stroke-width:5.76\"/>\n",
       "\t<text x=\"2010.19\" y=\"2619.14\" style=\"font-family:'Helvetica';font-size:99.99px;fill:#000000\" text-anchor=\"middle\">01oct2019</text>\n",
       "\t<line x1=\"2792.42\" y1=\"2489.19\" x2=\"2792.42\" y2=\"2529.16\" style=\"stroke:#000000;stroke-width:5.76\"/>\n",
       "\t<text x=\"2792.42\" y=\"2619.14\" style=\"font-family:'Helvetica';font-size:99.99px;fill:#000000\" text-anchor=\"middle\">01jan2020</text>\n",
       "\t<line x1=\"3566.10\" y1=\"2489.19\" x2=\"3566.10\" y2=\"2529.16\" style=\"stroke:#000000;stroke-width:5.76\"/>\n",
       "\t<text x=\"3566.10\" y=\"2619.14\" style=\"font-family:'Helvetica';font-size:99.99px;fill:#000000\" text-anchor=\"middle\">01apr2020</text>\n",
       "\t<text x=\"2124.91\" y=\"2729.16\" style=\"font-family:'Helvetica';font-size:99.99px;fill:#000000\" text-anchor=\"middle\">date</text>\n",
       "</svg>\n"
      ],
      "text/plain": [
       "This front-end cannot display the desired image type."
      ]
     },
     "metadata": {
      "image/svg+xml": {
       "height": 436,
       "width": 600
      }
     },
     "output_type": "display_data"
    }
   ],
   "source": [
    "tsline d.dowjones_close"
   ]
  },
  {
   "cell_type": "markdown",
   "metadata": {},
   "source": [
    "Det går upp och ned, med extrema svängningar under Coronapandemin.\n",
    "\n",
    "Vi kan också lagga förändringsvariabler. Om vi till exempel skriver `l.d.dowjones_close` får vi gårdagens förändring, alltså förändring mellan i förrgår och igår. I grafen nedan jämför vi förändringen från igår till idag (alltså i relation till det aktuella datumet) med förändringen från i förrgår till igår. Här har jag gjort en scatterplot med en utritad regressionslinje:"
   ]
  },
  {
   "cell_type": "code",
   "execution_count": 52,
   "metadata": {},
   "outputs": [
    {
     "data": {
      "application/pdf": "[encoded data removed]",
      "image/svg+xml": [
       "<?xml version=\"1.0\" encoding=\"UTF-8\" standalone=\"no\"?>\n",
       "<!-- This is a Stata 16.0 generated SVG file (http://www.stata.com) -->\n",
       "\n",
       "<svg version=\"1.1\" width=\"600px\" height=\"436px\" viewBox=\"0 0 3960 2880\" xmlns=\"http://www.w3.org/2000/svg\" xmlns:xlink=\"http://www.w3.org/1999/xlink\">\n",
       "\t<desc>Stata Graph - Graph</desc>\n",
       "\t<rect x=\"0\" y=\"0\" width=\"3960\" height=\"2880\" style=\"fill:#EAF2F3;stroke:none\"/>\n",
       "\t<rect x=\"0.00\" y=\"0.00\" width=\"3959.88\" height=\"2880.00\" style=\"fill:#EAF2F3\"/>\n",
       "\t<rect x=\"2.88\" y=\"2.88\" width=\"3954.12\" height=\"2874.24\" style=\"fill:none;stroke:#EAF2F3;stroke-width:5.76\"/>\n",
       "\t<rect x=\"290.81\" y=\"100.86\" width=\"3568.21\" height=\"2132.77\" style=\"fill:#FFFFFF\"/>\n",
       "\t<rect x=\"293.69\" y=\"103.74\" width=\"3562.45\" height=\"2127.01\" style=\"fill:none;stroke:#FFFFFF;stroke-width:5.76\"/>\n",
       "\t<line x1=\"290.81\" y1=\"2011.87\" x2=\"3859.02\" y2=\"2011.87\" style=\"stroke:#EAF2F3;stroke-width:8.64\"/>\n",
       "\t<line x1=\"290.81\" y1=\"1562.64\" x2=\"3859.02\" y2=\"1562.64\" style=\"stroke:#EAF2F3;stroke-width:8.64\"/>\n",
       "\t<line x1=\"290.81\" y1=\"1113.41\" x2=\"3859.02\" y2=\"1113.41\" style=\"stroke:#EAF2F3;stroke-width:8.64\"/>\n",
       "\t<line x1=\"290.81\" y1=\"664.19\" x2=\"3859.02\" y2=\"664.19\" style=\"stroke:#EAF2F3;stroke-width:8.64\"/>\n",
       "\t<line x1=\"290.81\" y1=\"214.96\" x2=\"3859.02\" y2=\"214.96\" style=\"stroke:#EAF2F3;stroke-width:8.64\"/>\n",
       "\t<circle cx=\"2196.93\" cy=\"1186.55\" r=\"26.35\" style=\"fill:#1A476F\"/>\n",
       "\t<circle cx=\"2196.93\" cy=\"1186.55\" r=\"22.03\" style=\"fill:none;stroke:#1A476F;stroke-width:8.64\"/>\n",
       "\t<circle cx=\"2041.75\" cy=\"1168.48\" r=\"26.35\" style=\"fill:#1A476F\"/>\n",
       "\t<circle cx=\"2041.75\" cy=\"1168.48\" r=\"22.03\" style=\"fill:none;stroke:#1A476F;stroke-width:8.64\"/>\n",
       "\t<circle cx=\"2072.94\" cy=\"1024.93\" r=\"26.35\" style=\"fill:#1A476F\"/>\n",
       "\t<circle cx=\"2072.94\" cy=\"1024.93\" r=\"22.03\" style=\"fill:none;stroke:#1A476F;stroke-width:8.64\"/>\n",
       "\t<circle cx=\"1802.42\" cy=\"1112.42\" r=\"26.35\" style=\"fill:#1A476F\"/>\n",
       "\t<circle cx=\"1802.42\" cy=\"1112.42\" r=\"22.03\" style=\"fill:none;stroke:#1A476F;stroke-width:8.64\"/>\n",
       "\t<circle cx=\"2168.97\" cy=\"1175.91\" r=\"26.35\" style=\"fill:#1A476F\"/>\n",
       "\t<circle cx=\"2168.97\" cy=\"1175.91\" r=\"22.03\" style=\"fill:none;stroke:#1A476F;stroke-width:8.64\"/>\n",
       "\t<circle cx=\"2060.07\" cy=\"1062.30\" r=\"26.35\" style=\"fill:#1A476F\"/>\n",
       "\t<circle cx=\"2060.07\" cy=\"1062.30\" r=\"22.03\" style=\"fill:none;stroke:#1A476F;stroke-width:8.64\"/>\n",
       "\t<circle cx=\"2326.75\" cy=\"1061.44\" r=\"26.35\" style=\"fill:#1A476F\"/>\n",
       "\t<circle cx=\"2326.75\" cy=\"1061.44\" r=\"22.03\" style=\"fill:none;stroke:#1A476F;stroke-width:8.64\"/>\n",
       "\t<circle cx=\"2256.58\" cy=\"1017.01\" r=\"26.35\" style=\"fill:#1A476F\"/>\n",
       "\t<circle cx=\"2256.58\" cy=\"1017.01\" r=\"22.03\" style=\"fill:none;stroke:#1A476F;stroke-width:8.64\"/>\n",
       "\t<circle cx=\"2332.69\" cy=\"1157.84\" r=\"26.35\" style=\"fill:#1A476F\"/>\n",
       "\t<circle cx=\"2332.69\" cy=\"1157.84\" r=\"22.03\" style=\"fill:none;stroke:#1A476F;stroke-width:8.64\"/>\n",
       "\t<circle cx=\"2319.32\" cy=\"1158.71\" r=\"26.35\" style=\"fill:#1A476F\"/>\n",
       "\t<circle cx=\"2319.32\" cy=\"1158.71\" r=\"22.03\" style=\"fill:none;stroke:#1A476F;stroke-width:8.64\"/>\n",
       "\t<circle cx=\"2089.64\" cy=\"1241.99\" r=\"26.35\" style=\"fill:#1A476F\"/>\n",
       "\t<circle cx=\"2089.64\" cy=\"1241.99\" r=\"22.03\" style=\"fill:none;stroke:#1A476F;stroke-width:8.64\"/>\n",
       "\t<circle cx=\"1946.71\" cy=\"1070.72\" r=\"26.35\" style=\"fill:#1A476F\"/>\n",
       "\t<circle cx=\"1946.71\" cy=\"1070.72\" r=\"22.03\" style=\"fill:none;stroke:#1A476F;stroke-width:8.64\"/>\n",
       "\t<circle cx=\"1996.58\" cy=\"1093.98\" r=\"26.35\" style=\"fill:#1A476F\"/>\n",
       "\t<circle cx=\"1996.58\" cy=\"1093.98\" r=\"22.03\" style=\"fill:none;stroke:#1A476F;stroke-width:8.64\"/>\n",
       "\t<circle cx=\"2200.77\" cy=\"1272.93\" r=\"26.35\" style=\"fill:#1A476F\"/>\n",
       "\t<circle cx=\"2200.77\" cy=\"1272.93\" r=\"22.03\" style=\"fill:none;stroke:#1A476F;stroke-width:8.64\"/>\n",
       "\t<circle cx=\"2562.12\" cy=\"1020.35\" r=\"26.35\" style=\"fill:#1A476F\"/>\n",
       "\t<circle cx=\"2562.12\" cy=\"1020.35\" r=\"22.03\" style=\"fill:none;stroke:#1A476F;stroke-width:8.64\"/>\n",
       "\t<circle cx=\"2326.99\" cy=\"1032.11\" r=\"26.35\" style=\"fill:#1A476F\"/>\n",
       "\t<circle cx=\"2326.99\" cy=\"1032.11\" r=\"22.03\" style=\"fill:none;stroke:#1A476F;stroke-width:8.64\"/>\n",
       "\t<circle cx=\"2306.82\" cy=\"995.23\" r=\"26.35\" style=\"fill:#1A476F\"/>\n",
       "\t<circle cx=\"2306.82\" cy=\"995.23\" r=\"22.03\" style=\"fill:none;stroke:#1A476F;stroke-width:8.64\"/>\n",
       "\t<circle cx=\"2156.34\" cy=\"1133.09\" r=\"26.35\" style=\"fill:#1A476F\"/>\n",
       "\t<circle cx=\"2156.34\" cy=\"1133.09\" r=\"22.03\" style=\"fill:none;stroke:#1A476F;stroke-width:8.64\"/>\n",
       "\t<circle cx=\"2133.57\" cy=\"1067.62\" r=\"26.35\" style=\"fill:#1A476F\"/>\n",
       "\t<circle cx=\"2133.57\" cy=\"1067.62\" r=\"22.03\" style=\"fill:none;stroke:#1A476F;stroke-width:8.64\"/>\n",
       "\t<circle cx=\"2245.82\" cy=\"1121.21\" r=\"26.35\" style=\"fill:#1A476F\"/>\n",
       "\t<circle cx=\"2245.82\" cy=\"1121.21\" r=\"22.03\" style=\"fill:none;stroke:#1A476F;stroke-width:8.64\"/>\n",
       "\t<circle cx=\"2439.24\" cy=\"1096.21\" r=\"26.35\" style=\"fill:#1A476F\"/>\n",
       "\t<circle cx=\"2439.24\" cy=\"1096.21\" r=\"22.03\" style=\"fill:none;stroke:#1A476F;stroke-width:8.64\"/>\n",
       "\t<circle cx=\"2196.81\" cy=\"1001.54\" r=\"26.35\" style=\"fill:#1A476F\"/>\n",
       "\t<circle cx=\"2196.81\" cy=\"1001.54\" r=\"22.03\" style=\"fill:none;stroke:#1A476F;stroke-width:8.64\"/>\n",
       "\t<circle cx=\"2359.29\" cy=\"1128.76\" r=\"26.35\" style=\"fill:#1A476F\"/>\n",
       "\t<circle cx=\"2359.29\" cy=\"1128.76\" r=\"22.03\" style=\"fill:none;stroke:#1A476F;stroke-width:8.64\"/>\n",
       "\t<circle cx=\"2029.01\" cy=\"1118.61\" r=\"26.35\" style=\"fill:#1A476F\"/>\n",
       "\t<circle cx=\"2029.01\" cy=\"1118.61\" r=\"22.03\" style=\"fill:none;stroke:#1A476F;stroke-width:8.64\"/>\n",
       "\t<circle cx=\"2158.45\" cy=\"1118.12\" r=\"26.35\" style=\"fill:#1A476F\"/>\n",
       "\t<circle cx=\"2158.45\" cy=\"1118.12\" r=\"22.03\" style=\"fill:none;stroke:#1A476F;stroke-width:8.64\"/>\n",
       "\t<circle cx=\"2159.31\" cy=\"1080.50\" r=\"26.35\" style=\"fill:#1A476F\"/>\n",
       "\t<circle cx=\"2159.31\" cy=\"1080.50\" r=\"22.03\" style=\"fill:none;stroke:#1A476F;stroke-width:8.64\"/>\n",
       "\t<circle cx=\"2220.57\" cy=\"1032.97\" r=\"26.35\" style=\"fill:#1A476F\"/>\n",
       "\t<circle cx=\"2220.57\" cy=\"1032.97\" r=\"22.03\" style=\"fill:none;stroke:#1A476F;stroke-width:8.64\"/>\n",
       "\t<circle cx=\"2149.78\" cy=\"1079.01\" r=\"26.35\" style=\"fill:#1A476F\"/>\n",
       "\t<circle cx=\"2149.78\" cy=\"1079.01\" r=\"22.03\" style=\"fill:none;stroke:#1A476F;stroke-width:8.64\"/>\n",
       "\t<circle cx=\"2226.39\" cy=\"1011.07\" r=\"26.35\" style=\"fill:#1A476F\"/>\n",
       "\t<circle cx=\"2226.39\" cy=\"1011.07\" r=\"22.03\" style=\"fill:none;stroke:#1A476F;stroke-width:8.64\"/>\n",
       "\t<circle cx=\"2342.84\" cy=\"1003.89\" r=\"26.35\" style=\"fill:#1A476F\"/>\n",
       "\t<circle cx=\"2342.84\" cy=\"1003.89\" r=\"22.03\" style=\"fill:none;stroke:#1A476F;stroke-width:8.64\"/>\n",
       "\t<circle cx=\"2149.04\" cy=\"1165.51\" r=\"26.35\" style=\"fill:#1A476F\"/>\n",
       "\t<circle cx=\"2149.04\" cy=\"1165.51\" r=\"22.03\" style=\"fill:none;stroke:#1A476F;stroke-width:8.64\"/>\n",
       "\t<circle cx=\"2078.01\" cy=\"1112.05\" r=\"26.35\" style=\"fill:#1A476F\"/>\n",
       "\t<circle cx=\"2078.01\" cy=\"1112.05\" r=\"22.03\" style=\"fill:none;stroke:#1A476F;stroke-width:8.64\"/>\n",
       "\t<circle cx=\"2169.59\" cy=\"1144.35\" r=\"26.35\" style=\"fill:#1A476F\"/>\n",
       "\t<circle cx=\"2169.59\" cy=\"1144.35\" r=\"22.03\" style=\"fill:none;stroke:#1A476F;stroke-width:8.64\"/>\n",
       "\t<circle cx=\"2303.85\" cy=\"1149.05\" r=\"26.35\" style=\"fill:#1A476F\"/>\n",
       "\t<circle cx=\"2303.85\" cy=\"1149.05\" r=\"22.03\" style=\"fill:none;stroke:#1A476F;stroke-width:8.64\"/>\n",
       "\t<circle cx=\"2106.10\" cy=\"1171.45\" r=\"26.35\" style=\"fill:#1A476F\"/>\n",
       "\t<circle cx=\"2106.10\" cy=\"1171.45\" r=\"22.03\" style=\"fill:none;stroke:#1A476F;stroke-width:8.64\"/>\n",
       "\t<circle cx=\"2067.74\" cy=\"1090.40\" r=\"26.35\" style=\"fill:#1A476F\"/>\n",
       "\t<circle cx=\"2067.74\" cy=\"1090.40\" r=\"22.03\" style=\"fill:none;stroke:#1A476F;stroke-width:8.64\"/>\n",
       "\t<circle cx=\"2149.17\" cy=\"1263.40\" r=\"26.35\" style=\"fill:#1A476F\"/>\n",
       "\t<circle cx=\"2149.17\" cy=\"1263.40\" r=\"22.03\" style=\"fill:none;stroke:#1A476F;stroke-width:8.64\"/>\n",
       "\t<circle cx=\"1909.96\" cy=\"1239.64\" r=\"26.35\" style=\"fill:#1A476F\"/>\n",
       "\t<circle cx=\"1909.96\" cy=\"1239.64\" r=\"22.03\" style=\"fill:none;stroke:#1A476F;stroke-width:8.64\"/>\n",
       "\t<circle cx=\"1950.80\" cy=\"1157.72\" r=\"26.35\" style=\"fill:#1A476F\"/>\n",
       "\t<circle cx=\"1950.80\" cy=\"1157.72\" r=\"22.03\" style=\"fill:none;stroke:#1A476F;stroke-width:8.64\"/>\n",
       "\t<circle cx=\"2407.43\" cy=\"1123.56\" r=\"26.35\" style=\"fill:#1A476F\"/>\n",
       "\t<circle cx=\"2407.43\" cy=\"1123.56\" r=\"22.03\" style=\"fill:none;stroke:#1A476F;stroke-width:8.64\"/>\n",
       "\t<circle cx=\"2149.91\" cy=\"946.72\" r=\"26.35\" style=\"fill:#1A476F\"/>\n",
       "\t<circle cx=\"2149.91\" cy=\"946.72\" r=\"22.03\" style=\"fill:none;stroke:#1A476F;stroke-width:8.64\"/>\n",
       "\t<circle cx=\"2453.22\" cy=\"1154.25\" r=\"26.35\" style=\"fill:#1A476F\"/>\n",
       "\t<circle cx=\"2453.22\" cy=\"1154.25\" r=\"22.03\" style=\"fill:none;stroke:#1A476F;stroke-width:8.64\"/>\n",
       "\t<circle cx=\"2462.75\" cy=\"1473.04\" r=\"26.35\" style=\"fill:#1A476F\"/>\n",
       "\t<circle cx=\"2462.75\" cy=\"1473.04\" r=\"22.03\" style=\"fill:none;stroke:#1A476F;stroke-width:8.64\"/>\n",
       "\t<circle cx=\"1550.22\" cy=\"1068.61\" r=\"26.35\" style=\"fill:#1A476F\"/>\n",
       "\t<circle cx=\"1550.22\" cy=\"1068.61\" r=\"22.03\" style=\"fill:none;stroke:#1A476F;stroke-width:8.64\"/>\n",
       "\t<circle cx=\"2244.21\" cy=\"975.68\" r=\"26.35\" style=\"fill:#1A476F\"/>\n",
       "\t<circle cx=\"2244.21\" cy=\"975.68\" r=\"22.03\" style=\"fill:none;stroke:#1A476F;stroke-width:8.64\"/>\n",
       "\t<circle cx=\"2033.58\" cy=\"1005.50\" r=\"26.35\" style=\"fill:#1A476F\"/>\n",
       "\t<circle cx=\"2033.58\" cy=\"1005.50\" r=\"22.03\" style=\"fill:none;stroke:#1A476F;stroke-width:8.64\"/>\n",
       "\t<circle cx=\"2352.36\" cy=\"1091.26\" r=\"26.35\" style=\"fill:#1A476F\"/>\n",
       "\t<circle cx=\"2352.36\" cy=\"1091.26\" r=\"22.03\" style=\"fill:none;stroke:#1A476F;stroke-width:8.64\"/>\n",
       "\t<circle cx=\"2205.35\" cy=\"1393.47\" r=\"26.35\" style=\"fill:#1A476F\"/>\n",
       "\t<circle cx=\"2205.35\" cy=\"1393.47\" r=\"22.03\" style=\"fill:none;stroke:#1A476F;stroke-width:8.64\"/>\n",
       "\t<circle cx=\"2074.05\" cy=\"997.46\" r=\"26.35\" style=\"fill:#1A476F\"/>\n",
       "\t<circle cx=\"2074.05\" cy=\"997.46\" r=\"22.03\" style=\"fill:none;stroke:#1A476F;stroke-width:8.64\"/>\n",
       "\t<circle cx=\"2366.22\" cy=\"967.01\" r=\"26.35\" style=\"fill:#1A476F\"/>\n",
       "\t<circle cx=\"2366.22\" cy=\"967.01\" r=\"22.03\" style=\"fill:none;stroke:#1A476F;stroke-width:8.64\"/>\n",
       "\t<circle cx=\"2418.57\" cy=\"1095.10\" r=\"26.35\" style=\"fill:#1A476F\"/>\n",
       "\t<circle cx=\"2418.57\" cy=\"1095.10\" r=\"22.03\" style=\"fill:none;stroke:#1A476F;stroke-width:8.64\"/>\n",
       "\t<circle cx=\"2350.26\" cy=\"946.10\" r=\"26.35\" style=\"fill:#1A476F\"/>\n",
       "\t<circle cx=\"2350.26\" cy=\"946.10\" r=\"22.03\" style=\"fill:none;stroke:#1A476F;stroke-width:8.64\"/>\n",
       "\t<circle cx=\"2454.46\" cy=\"1082.35\" r=\"26.35\" style=\"fill:#1A476F\"/>\n",
       "\t<circle cx=\"2454.46\" cy=\"1082.35\" r=\"22.03\" style=\"fill:none;stroke:#1A476F;stroke-width:8.64\"/>\n",
       "\t<circle cx=\"2224.16\" cy=\"1011.19\" r=\"26.35\" style=\"fill:#1A476F\"/>\n",
       "\t<circle cx=\"2224.16\" cy=\"1011.19\" r=\"22.03\" style=\"fill:none;stroke:#1A476F;stroke-width:8.64\"/>\n",
       "\t<circle cx=\"2342.59\" cy=\"1093.12\" r=\"26.35\" style=\"fill:#1A476F\"/>\n",
       "\t<circle cx=\"2342.59\" cy=\"1093.12\" r=\"22.03\" style=\"fill:none;stroke:#1A476F;stroke-width:8.64\"/>\n",
       "\t<circle cx=\"2202.26\" cy=\"1096.83\" r=\"26.35\" style=\"fill:#1A476F\"/>\n",
       "\t<circle cx=\"2202.26\" cy=\"1096.83\" r=\"22.03\" style=\"fill:none;stroke:#1A476F;stroke-width:8.64\"/>\n",
       "\t<circle cx=\"2193.34\" cy=\"1097.20\" r=\"26.35\" style=\"fill:#1A476F\"/>\n",
       "\t<circle cx=\"2193.34\" cy=\"1097.20\" r=\"22.03\" style=\"fill:none;stroke:#1A476F;stroke-width:8.64\"/>\n",
       "\t<circle cx=\"2195.20\" cy=\"1136.93\" r=\"26.35\" style=\"fill:#1A476F\"/>\n",
       "\t<circle cx=\"2195.20\" cy=\"1136.93\" r=\"22.03\" style=\"fill:none;stroke:#1A476F;stroke-width:8.64\"/>\n",
       "\t<circle cx=\"2126.89\" cy=\"1185.19\" r=\"26.35\" style=\"fill:#1A476F\"/>\n",
       "\t<circle cx=\"2126.89\" cy=\"1185.19\" r=\"22.03\" style=\"fill:none;stroke:#1A476F;stroke-width:8.64\"/>\n",
       "\t<circle cx=\"2057.59\" cy=\"1040.28\" r=\"26.35\" style=\"fill:#1A476F\"/>\n",
       "\t<circle cx=\"2057.59\" cy=\"1040.28\" r=\"22.03\" style=\"fill:none;stroke:#1A476F;stroke-width:8.64\"/>\n",
       "\t<circle cx=\"2292.84\" cy=\"1149.18\" r=\"26.35\" style=\"fill:#1A476F\"/>\n",
       "\t<circle cx=\"2292.84\" cy=\"1149.18\" r=\"22.03\" style=\"fill:none;stroke:#1A476F;stroke-width:8.64\"/>\n",
       "\t<circle cx=\"2105.85\" cy=\"1145.34\" r=\"26.35\" style=\"fill:#1A476F\"/>\n",
       "\t<circle cx=\"2105.85\" cy=\"1145.34\" r=\"22.03\" style=\"fill:none;stroke:#1A476F;stroke-width:8.64\"/>\n",
       "\t<circle cx=\"1902.29\" cy=\"1335.55\" r=\"26.35\" style=\"fill:#1A476F\"/>\n",
       "\t<circle cx=\"1902.29\" cy=\"1335.55\" r=\"22.03\" style=\"fill:none;stroke:#1A476F;stroke-width:8.64\"/>\n",
       "\t<circle cx=\"1786.21\" cy=\"1058.47\" r=\"26.35\" style=\"fill:#1A476F\"/>\n",
       "\t<circle cx=\"1786.21\" cy=\"1058.47\" r=\"22.03\" style=\"fill:none;stroke:#1A476F;stroke-width:8.64\"/>\n",
       "\t<circle cx=\"2261.53\" cy=\"946.10\" r=\"26.35\" style=\"fill:#1A476F\"/>\n",
       "\t<circle cx=\"2261.53\" cy=\"946.10\" r=\"22.03\" style=\"fill:none;stroke:#1A476F;stroke-width:8.64\"/>\n",
       "\t<circle cx=\"1925.18\" cy=\"1031.74\" r=\"26.35\" style=\"fill:#1A476F\"/>\n",
       "\t<circle cx=\"1925.18\" cy=\"1031.74\" r=\"22.03\" style=\"fill:none;stroke:#1A476F;stroke-width:8.64\"/>\n",
       "\t<circle cx=\"2307.44\" cy=\"1045.84\" r=\"26.35\" style=\"fill:#1A476F\"/>\n",
       "\t<circle cx=\"2307.44\" cy=\"1045.84\" r=\"22.03\" style=\"fill:none;stroke:#1A476F;stroke-width:8.64\"/>\n",
       "\t<circle cx=\"2283.31\" cy=\"969.74\" r=\"26.35\" style=\"fill:#1A476F\"/>\n",
       "\t<circle cx=\"2283.31\" cy=\"969.74\" r=\"22.03\" style=\"fill:none;stroke:#1A476F;stroke-width:8.64\"/>\n",
       "\t<circle cx=\"2350.26\" cy=\"1123.69\" r=\"26.35\" style=\"fill:#1A476F\"/>\n",
       "\t<circle cx=\"2350.26\" cy=\"1123.69\" r=\"22.03\" style=\"fill:none;stroke:#1A476F;stroke-width:8.64\"/>\n",
       "\t<circle cx=\"2149.66\" cy=\"1102.77\" r=\"26.35\" style=\"fill:#1A476F\"/>\n",
       "\t<circle cx=\"2149.66\" cy=\"1102.77\" r=\"22.03\" style=\"fill:none;stroke:#1A476F;stroke-width:8.64\"/>\n",
       "\t<circle cx=\"2185.67\" cy=\"1228.38\" r=\"26.35\" style=\"fill:#1A476F\"/>\n",
       "\t<circle cx=\"2185.67\" cy=\"1228.38\" r=\"22.03\" style=\"fill:none;stroke:#1A476F;stroke-width:8.64\"/>\n",
       "\t<circle cx=\"2136.79\" cy=\"1092.87\" r=\"26.35\" style=\"fill:#1A476F\"/>\n",
       "\t<circle cx=\"2136.79\" cy=\"1092.87\" r=\"22.03\" style=\"fill:none;stroke:#1A476F;stroke-width:8.64\"/>\n",
       "\t<circle cx=\"2202.50\" cy=\"1126.28\" r=\"26.35\" style=\"fill:#1A476F\"/>\n",
       "\t<circle cx=\"2202.50\" cy=\"1126.28\" r=\"22.03\" style=\"fill:none;stroke:#1A476F;stroke-width:8.64\"/>\n",
       "\t<circle cx=\"2145.33\" cy=\"1044.98\" r=\"26.35\" style=\"fill:#1A476F\"/>\n",
       "\t<circle cx=\"2145.33\" cy=\"1044.98\" r=\"22.03\" style=\"fill:none;stroke:#1A476F;stroke-width:8.64\"/>\n",
       "\t<circle cx=\"2152.38\" cy=\"1061.68\" r=\"26.35\" style=\"fill:#1A476F\"/>\n",
       "\t<circle cx=\"2152.38\" cy=\"1061.68\" r=\"22.03\" style=\"fill:none;stroke:#1A476F;stroke-width:8.64\"/>\n",
       "\t<circle cx=\"2255.96\" cy=\"1176.53\" r=\"26.35\" style=\"fill:#1A476F\"/>\n",
       "\t<circle cx=\"2255.96\" cy=\"1176.53\" r=\"22.03\" style=\"fill:none;stroke:#1A476F;stroke-width:8.64\"/>\n",
       "\t<circle cx=\"2058.95\" cy=\"978.15\" r=\"26.35\" style=\"fill:#1A476F\"/>\n",
       "\t<circle cx=\"2058.95\" cy=\"978.15\" r=\"22.03\" style=\"fill:none;stroke:#1A476F;stroke-width:8.64\"/>\n",
       "\t<circle cx=\"2190.75\" cy=\"1113.54\" r=\"26.35\" style=\"fill:#1A476F\"/>\n",
       "\t<circle cx=\"2190.75\" cy=\"1113.54\" r=\"22.03\" style=\"fill:none;stroke:#1A476F;stroke-width:8.64\"/>\n",
       "\t<circle cx=\"2167.11\" cy=\"1031.61\" r=\"26.35\" style=\"fill:#1A476F\"/>\n",
       "\t<circle cx=\"2167.11\" cy=\"1031.61\" r=\"22.03\" style=\"fill:none;stroke:#1A476F;stroke-width:8.64\"/>\n",
       "\t<circle cx=\"2307.69\" cy=\"1110.57\" r=\"26.35\" style=\"fill:#1A476F\"/>\n",
       "\t<circle cx=\"2307.69\" cy=\"1110.57\" r=\"22.03\" style=\"fill:none;stroke:#1A476F;stroke-width:8.64\"/>\n",
       "\t<circle cx=\"2167.23\" cy=\"1072.08\" r=\"26.35\" style=\"fill:#1A476F\"/>\n",
       "\t<circle cx=\"2167.23\" cy=\"1072.08\" r=\"22.03\" style=\"fill:none;stroke:#1A476F;stroke-width:8.64\"/>\n",
       "\t<circle cx=\"2238.14\" cy=\"1114.16\" r=\"26.35\" style=\"fill:#1A476F\"/>\n",
       "\t<circle cx=\"2238.14\" cy=\"1114.16\" r=\"22.03\" style=\"fill:none;stroke:#1A476F;stroke-width:8.64\"/>\n",
       "\t<circle cx=\"2166.00\" cy=\"1013.30\" r=\"26.35\" style=\"fill:#1A476F\"/>\n",
       "\t<circle cx=\"2166.00\" cy=\"1013.30\" r=\"22.03\" style=\"fill:none;stroke:#1A476F;stroke-width:8.64\"/>\n",
       "\t<circle cx=\"2088.41\" cy=\"1164.15\" r=\"26.35\" style=\"fill:#1A476F\"/>\n",
       "\t<circle cx=\"2088.41\" cy=\"1164.15\" r=\"22.03\" style=\"fill:none;stroke:#1A476F;stroke-width:8.64\"/>\n",
       "\t<circle cx=\"2080.11\" cy=\"1138.04\" r=\"26.35\" style=\"fill:#1A476F\"/>\n",
       "\t<circle cx=\"2080.11\" cy=\"1138.04\" r=\"22.03\" style=\"fill:none;stroke:#1A476F;stroke-width:8.64\"/>\n",
       "\t<circle cx=\"2124.91\" cy=\"1064.41\" r=\"26.35\" style=\"fill:#1A476F\"/>\n",
       "\t<circle cx=\"2124.91\" cy=\"1064.41\" r=\"22.03\" style=\"fill:none;stroke:#1A476F;stroke-width:8.64\"/>\n",
       "\t<circle cx=\"2209.80\" cy=\"1094.48\" r=\"26.35\" style=\"fill:#1A476F\"/>\n",
       "\t<circle cx=\"2209.80\" cy=\"1094.48\" r=\"22.03\" style=\"fill:none;stroke:#1A476F;stroke-width:8.64\"/>\n",
       "\t<circle cx=\"1951.29\" cy=\"1047.45\" r=\"26.35\" style=\"fill:#1A476F\"/>\n",
       "\t<circle cx=\"1951.29\" cy=\"1047.45\" r=\"22.03\" style=\"fill:none;stroke:#1A476F;stroke-width:8.64\"/>\n",
       "\t<circle cx=\"2280.47\" cy=\"1100.91\" r=\"26.35\" style=\"fill:#1A476F\"/>\n",
       "\t<circle cx=\"2280.47\" cy=\"1100.91\" r=\"22.03\" style=\"fill:none;stroke:#1A476F;stroke-width:8.64\"/>\n",
       "\t<circle cx=\"2188.77\" cy=\"961.94\" r=\"26.35\" style=\"fill:#1A476F\"/>\n",
       "\t<circle cx=\"2188.77\" cy=\"961.94\" r=\"22.03\" style=\"fill:none;stroke:#1A476F;stroke-width:8.64\"/>\n",
       "\t<circle cx=\"2145.70\" cy=\"1100.17\" r=\"26.35\" style=\"fill:#1A476F\"/>\n",
       "\t<circle cx=\"2145.70\" cy=\"1100.17\" r=\"22.03\" style=\"fill:none;stroke:#1A476F;stroke-width:8.64\"/>\n",
       "\t<circle cx=\"2190.00\" cy=\"1014.29\" r=\"26.35\" style=\"fill:#1A476F\"/>\n",
       "\t<circle cx=\"2190.00\" cy=\"1014.29\" r=\"22.03\" style=\"fill:none;stroke:#1A476F;stroke-width:8.64\"/>\n",
       "\t<circle cx=\"2337.39\" cy=\"1111.93\" r=\"26.35\" style=\"fill:#1A476F\"/>\n",
       "\t<circle cx=\"2337.39\" cy=\"1111.93\" r=\"22.03\" style=\"fill:none;stroke:#1A476F;stroke-width:8.64\"/>\n",
       "\t<circle cx=\"2191.36\" cy=\"1126.04\" r=\"26.35\" style=\"fill:#1A476F\"/>\n",
       "\t<circle cx=\"2191.36\" cy=\"1126.04\" r=\"22.03\" style=\"fill:none;stroke:#1A476F;stroke-width:8.64\"/>\n",
       "\t<circle cx=\"2145.70\" cy=\"1051.66\" r=\"26.35\" style=\"fill:#1A476F\"/>\n",
       "\t<circle cx=\"2145.70\" cy=\"1051.66\" r=\"22.03\" style=\"fill:none;stroke:#1A476F;stroke-width:8.64\"/>\n",
       "\t<circle cx=\"2273.29\" cy=\"1078.39\" r=\"26.35\" style=\"fill:#1A476F\"/>\n",
       "\t<circle cx=\"2273.29\" cy=\"1078.39\" r=\"22.03\" style=\"fill:none;stroke:#1A476F;stroke-width:8.64\"/>\n",
       "\t<circle cx=\"2074.92\" cy=\"1041.02\" r=\"26.35\" style=\"fill:#1A476F\"/>\n",
       "\t<circle cx=\"2074.92\" cy=\"1041.02\" r=\"22.03\" style=\"fill:none;stroke:#1A476F;stroke-width:8.64\"/>\n",
       "\t<circle cx=\"2291.60\" cy=\"1018.37\" r=\"26.35\" style=\"fill:#1A476F\"/>\n",
       "\t<circle cx=\"2291.60\" cy=\"1018.37\" r=\"22.03\" style=\"fill:none;stroke:#1A476F;stroke-width:8.64\"/>\n",
       "\t<circle cx=\"2330.46\" cy=\"1173.31\" r=\"26.35\" style=\"fill:#1A476F\"/>\n",
       "\t<circle cx=\"2330.46\" cy=\"1173.31\" r=\"22.03\" style=\"fill:none;stroke:#1A476F;stroke-width:8.64\"/>\n",
       "\t<circle cx=\"2192.36\" cy=\"1072.82\" r=\"26.35\" style=\"fill:#1A476F\"/>\n",
       "\t<circle cx=\"2192.36\" cy=\"1072.82\" r=\"22.03\" style=\"fill:none;stroke:#1A476F;stroke-width:8.64\"/>\n",
       "\t<circle cx=\"2237.03\" cy=\"993.37\" r=\"26.35\" style=\"fill:#1A476F\"/>\n",
       "\t<circle cx=\"2237.03\" cy=\"993.37\" r=\"22.03\" style=\"fill:none;stroke:#1A476F;stroke-width:8.64\"/>\n",
       "\t<circle cx=\"2373.28\" cy=\"1090.77\" r=\"26.35\" style=\"fill:#1A476F\"/>\n",
       "\t<circle cx=\"2373.28\" cy=\"1090.77\" r=\"22.03\" style=\"fill:none;stroke:#1A476F;stroke-width:8.64\"/>\n",
       "\t<circle cx=\"2159.68\" cy=\"1125.29\" r=\"26.35\" style=\"fill:#1A476F\"/>\n",
       "\t<circle cx=\"2159.68\" cy=\"1125.29\" r=\"22.03\" style=\"fill:none;stroke:#1A476F;stroke-width:8.64\"/>\n",
       "\t<circle cx=\"2147.06\" cy=\"1190.02\" r=\"26.35\" style=\"fill:#1A476F\"/>\n",
       "\t<circle cx=\"2147.06\" cy=\"1190.02\" r=\"22.03\" style=\"fill:none;stroke:#1A476F;stroke-width:8.64\"/>\n",
       "\t<circle cx=\"2311.40\" cy=\"1108.22\" r=\"26.35\" style=\"fill:#1A476F\"/>\n",
       "\t<circle cx=\"2311.40\" cy=\"1108.22\" r=\"22.03\" style=\"fill:none;stroke:#1A476F;stroke-width:8.64\"/>\n",
       "\t<circle cx=\"2176.14\" cy=\"1057.35\" r=\"26.35\" style=\"fill:#1A476F\"/>\n",
       "\t<circle cx=\"2176.14\" cy=\"1057.35\" r=\"22.03\" style=\"fill:none;stroke:#1A476F;stroke-width:8.64\"/>\n",
       "\t<circle cx=\"2263.51\" cy=\"1384.56\" r=\"26.35\" style=\"fill:#1A476F\"/>\n",
       "\t<circle cx=\"2263.51\" cy=\"1384.56\" r=\"22.03\" style=\"fill:none;stroke:#1A476F;stroke-width:8.64\"/>\n",
       "\t<circle cx=\"2481.56\" cy=\"896.35\" r=\"26.35\" style=\"fill:#1A476F\"/>\n",
       "\t<circle cx=\"2481.56\" cy=\"896.35\" r=\"22.03\" style=\"fill:none;stroke:#1A476F;stroke-width:8.64\"/>\n",
       "\t<circle cx=\"2539.60\" cy=\"1073.56\" r=\"26.35\" style=\"fill:#1A476F\"/>\n",
       "\t<circle cx=\"2539.60\" cy=\"1073.56\" r=\"22.03\" style=\"fill:none;stroke:#1A476F;stroke-width:8.64\"/>\n",
       "\t<circle cx=\"2235.79\" cy=\"1238.03\" r=\"26.35\" style=\"fill:#1A476F\"/>\n",
       "\t<circle cx=\"2235.79\" cy=\"1238.03\" r=\"22.03\" style=\"fill:none;stroke:#1A476F;stroke-width:8.64\"/>\n",
       "\t<circle cx=\"2166.86\" cy=\"989.91\" r=\"26.35\" style=\"fill:#1A476F\"/>\n",
       "\t<circle cx=\"2166.86\" cy=\"989.91\" r=\"22.03\" style=\"fill:none;stroke:#1A476F;stroke-width:8.64\"/>\n",
       "\t<circle cx=\"2379.22\" cy=\"1171.08\" r=\"26.35\" style=\"fill:#1A476F\"/>\n",
       "\t<circle cx=\"2379.22\" cy=\"1171.08\" r=\"22.03\" style=\"fill:none;stroke:#1A476F;stroke-width:8.64\"/>\n",
       "\t<circle cx=\"2068.48\" cy=\"1124.80\" r=\"26.35\" style=\"fill:#1A476F\"/>\n",
       "\t<circle cx=\"2068.48\" cy=\"1124.80\" r=\"22.03\" style=\"fill:none;stroke:#1A476F;stroke-width:8.64\"/>\n",
       "\t<circle cx=\"2256.46\" cy=\"1170.96\" r=\"26.35\" style=\"fill:#1A476F\"/>\n",
       "\t<circle cx=\"2256.46\" cy=\"1170.96\" r=\"22.03\" style=\"fill:none;stroke:#1A476F;stroke-width:8.64\"/>\n",
       "\t<circle cx=\"2068.48\" cy=\"1215.76\" r=\"26.35\" style=\"fill:#1A476F\"/>\n",
       "\t<circle cx=\"2068.48\" cy=\"1215.76\" r=\"22.03\" style=\"fill:none;stroke:#1A476F;stroke-width:8.64\"/>\n",
       "\t<circle cx=\"1489.45\" cy=\"1169.10\" r=\"26.35\" style=\"fill:#1A476F\"/>\n",
       "\t<circle cx=\"1489.45\" cy=\"1169.10\" r=\"22.03\" style=\"fill:none;stroke:#1A476F;stroke-width:8.64\"/>\n",
       "\t<circle cx=\"2071.82\" cy=\"1648.53\" r=\"26.35\" style=\"fill:#1A476F\"/>\n",
       "\t<circle cx=\"2071.82\" cy=\"1648.53\" r=\"22.03\" style=\"fill:none;stroke:#1A476F;stroke-width:8.64\"/>\n",
       "\t<circle cx=\"1249.38\" cy=\"1274.05\" r=\"26.35\" style=\"fill:#1A476F\"/>\n",
       "\t<circle cx=\"1249.38\" cy=\"1274.05\" r=\"22.03\" style=\"fill:none;stroke:#1A476F;stroke-width:8.64\"/>\n",
       "\t<circle cx=\"1561.48\" cy=\"586.35\" r=\"26.35\" style=\"fill:#1A476F\"/>\n",
       "\t<circle cx=\"1561.48\" cy=\"586.35\" r=\"22.03\" style=\"fill:none;stroke:#1A476F;stroke-width:8.64\"/>\n",
       "\t<circle cx=\"3071.60\" cy=\"1549.03\" r=\"26.35\" style=\"fill:#1A476F\"/>\n",
       "\t<circle cx=\"3071.60\" cy=\"1549.03\" r=\"22.03\" style=\"fill:none;stroke:#1A476F;stroke-width:8.64\"/>\n",
       "\t<circle cx=\"1419.91\" cy=\"1228.75\" r=\"26.35\" style=\"fill:#1A476F\"/>\n",
       "\t<circle cx=\"1419.91\" cy=\"1228.75\" r=\"22.03\" style=\"fill:none;stroke:#1A476F;stroke-width:8.64\"/>\n",
       "\t<circle cx=\"3066.65\" cy=\"1771.66\" r=\"26.35\" style=\"fill:#1A476F\"/>\n",
       "\t<circle cx=\"3066.65\" cy=\"1771.66\" r=\"22.03\" style=\"fill:none;stroke:#1A476F;stroke-width:8.64\"/>\n",
       "\t<circle cx=\"1038.14\" cy=\"2170.40\" r=\"26.35\" style=\"fill:#1A476F\"/>\n",
       "\t<circle cx=\"1038.14\" cy=\"2170.40\" r=\"22.03\" style=\"fill:none;stroke:#1A476F;stroke-width:8.64\"/>\n",
       "\t<circle cx=\"354.05\" cy=\"221.77\" r=\"26.35\" style=\"fill:#1A476F\"/>\n",
       "\t<circle cx=\"354.05\" cy=\"221.77\" r=\"22.03\" style=\"fill:none;stroke:#1A476F;stroke-width:8.64\"/>\n",
       "\t<circle cx=\"2975.57\" cy=\"1714.73\" r=\"26.35\" style=\"fill:#1A476F\"/>\n",
       "\t<circle cx=\"2975.57\" cy=\"1714.73\" r=\"22.03\" style=\"fill:none;stroke:#1A476F;stroke-width:8.64\"/>\n",
       "\t<circle cx=\"1135.65\" cy=\"1028.89\" r=\"26.35\" style=\"fill:#1A476F\"/>\n",
       "\t<circle cx=\"1135.65\" cy=\"1028.89\" r=\"22.03\" style=\"fill:none;stroke:#1A476F;stroke-width:8.64\"/>\n",
       "\t<circle cx=\"2312.27\" cy=\"1523.78\" r=\"26.35\" style=\"fill:#1A476F\"/>\n",
       "\t<circle cx=\"2312.27\" cy=\"1523.78\" r=\"22.03\" style=\"fill:none;stroke:#1A476F;stroke-width:8.64\"/>\n",
       "\t<circle cx=\"3795.66\" cy=\"890.78\" r=\"26.35\" style=\"fill:#1A476F\"/>\n",
       "\t<circle cx=\"3795.66\" cy=\"890.78\" r=\"22.03\" style=\"fill:none;stroke:#1A476F;stroke-width:8.64\"/>\n",
       "\t<circle cx=\"2549.25\" cy=\"506.28\" r=\"26.35\" style=\"fill:#1A476F\"/>\n",
       "\t<circle cx=\"2549.25\" cy=\"506.28\" r=\"22.03\" style=\"fill:none;stroke:#1A476F;stroke-width:8.64\"/>\n",
       "\t<circle cx=\"3208.84\" cy=\"1524.77\" r=\"26.35\" style=\"fill:#1A476F\"/>\n",
       "\t<circle cx=\"3208.84\" cy=\"1524.77\" r=\"22.03\" style=\"fill:none;stroke:#1A476F;stroke-width:8.64\"/>\n",
       "\t<circle cx=\"1850.93\" cy=\"1550.88\" r=\"26.35\" style=\"fill:#1A476F\"/>\n",
       "\t<circle cx=\"1850.93\" cy=\"1550.88\" r=\"22.03\" style=\"fill:none;stroke:#1A476F;stroke-width:8.64\"/>\n",
       "\t<circle cx=\"1416.81\" cy=\"902.41\" r=\"26.35\" style=\"fill:#1A476F\"/>\n",
       "\t<circle cx=\"1416.81\" cy=\"902.41\" r=\"22.03\" style=\"fill:none;stroke:#1A476F;stroke-width:8.64\"/>\n",
       "\t<circle cx=\"2529.33\" cy=\"1275.65\" r=\"26.35\" style=\"fill:#1A476F\"/>\n",
       "\t<circle cx=\"2529.33\" cy=\"1275.65\" r=\"22.03\" style=\"fill:none;stroke:#1A476F;stroke-width:8.64\"/>\n",
       "\t<circle cx=\"2147.06\" cy=\"763.19\" r=\"26.35\" style=\"fill:#1A476F\"/>\n",
       "\t<circle cx=\"2147.06\" cy=\"763.19\" r=\"22.03\" style=\"fill:none;stroke:#1A476F;stroke-width:8.64\"/>\n",
       "\t<circle cx=\"2768.16\" cy=\"985.08\" r=\"26.35\" style=\"fill:#1A476F\"/>\n",
       "\t<circle cx=\"2768.16\" cy=\"985.08\" r=\"22.03\" style=\"fill:none;stroke:#1A476F;stroke-width:8.64\"/>\n",
       "\t<circle cx=\"2598.01\" cy=\"1313.52\" r=\"26.35\" style=\"fill:#1A476F\"/>\n",
       "\t<circle cx=\"2598.01\" cy=\"1313.52\" r=\"22.03\" style=\"fill:none;stroke:#1A476F;stroke-width:8.64\"/>\n",
       "\t<circle cx=\"1823.95\" cy=\"1098.56\" r=\"26.35\" style=\"fill:#1A476F\"/>\n",
       "\t<circle cx=\"1823.95\" cy=\"1098.56\" r=\"22.03\" style=\"fill:none;stroke:#1A476F;stroke-width:8.64\"/>\n",
       "\t<circle cx=\"2192.85\" cy=\"796.85\" r=\"26.35\" style=\"fill:#1A476F\"/>\n",
       "\t<circle cx=\"2192.85\" cy=\"796.85\" r=\"22.03\" style=\"fill:none;stroke:#1A476F;stroke-width:8.64\"/>\n",
       "\t<circle cx=\"1680.53\" cy=\"908.23\" r=\"26.35\" style=\"fill:#1A476F\"/>\n",
       "\t<circle cx=\"1680.53\" cy=\"908.23\" r=\"22.03\" style=\"fill:none;stroke:#1A476F;stroke-width:8.64\"/>\n",
       "\t<circle cx=\"2519.43\" cy=\"1095.72\" r=\"26.35\" style=\"fill:#1A476F\"/>\n",
       "\t<circle cx=\"2519.43\" cy=\"1095.72\" r=\"22.03\" style=\"fill:none;stroke:#1A476F;stroke-width:8.64\"/>\n",
       "\t<circle cx=\"2197.55\" cy=\"996.71\" r=\"26.35\" style=\"fill:#1A476F\"/>\n",
       "\t<circle cx=\"2197.55\" cy=\"996.71\" r=\"22.03\" style=\"fill:none;stroke:#1A476F;stroke-width:8.64\"/>\n",
       "\t<path d=\" M354.05 924.19 L2074.92 1103.14 L3795.66 1282.09\" stroke-linejoin=\"round\" style=\"fill:none;stroke:#90353B;stroke-width:8.64\"/>\n",
       "\t<line x1=\"290.81\" y1=\"2233.63\" x2=\"290.81\" y2=\"100.86\" style=\"stroke:#000000;stroke-width:5.76\"/>\n",
       "\t<line x1=\"290.81\" y1=\"2011.87\" x2=\"250.84\" y2=\"2011.87\" style=\"stroke:#000000;stroke-width:5.76\"/>\n",
       "\t<text x=\"200.73\" y=\"2011.87\" style=\"font-family:'Helvetica';font-size:99.99px;fill:#000000\" transform=\"rotate(-90 200.73,2011.87)\" text-anchor=\"middle\">-2000</text>\n",
       "\t<line x1=\"290.81\" y1=\"1562.64\" x2=\"250.84\" y2=\"1562.64\" style=\"stroke:#000000;stroke-width:5.76\"/>\n",
       "\t<text x=\"200.73\" y=\"1562.64\" style=\"font-family:'Helvetica';font-size:99.99px;fill:#000000\" transform=\"rotate(-90 200.73,1562.64)\" text-anchor=\"middle\">-1000</text>\n",
       "\t<line x1=\"290.81\" y1=\"1113.41\" x2=\"250.84\" y2=\"1113.41\" style=\"stroke:#000000;stroke-width:5.76\"/>\n",
       "\t<text x=\"200.73\" y=\"1113.41\" style=\"font-family:'Helvetica';font-size:99.99px;fill:#000000\" transform=\"rotate(-90 200.73,1113.41)\" text-anchor=\"middle\">0</text>\n",
       "\t<line x1=\"290.81\" y1=\"664.19\" x2=\"250.84\" y2=\"664.19\" style=\"stroke:#000000;stroke-width:5.76\"/>\n",
       "\t<text x=\"200.73\" y=\"664.19\" style=\"font-family:'Helvetica';font-size:99.99px;fill:#000000\" transform=\"rotate(-90 200.73,664.19)\" text-anchor=\"middle\">1000</text>\n",
       "\t<line x1=\"290.81\" y1=\"214.96\" x2=\"250.84\" y2=\"214.96\" style=\"stroke:#000000;stroke-width:5.76\"/>\n",
       "\t<text x=\"200.73\" y=\"214.96\" style=\"font-family:'Helvetica';font-size:99.99px;fill:#000000\" transform=\"rotate(-90 200.73,214.96)\" text-anchor=\"middle\">2000</text>\n",
       "\t<line x1=\"290.81\" y1=\"2233.63\" x2=\"3859.02\" y2=\"2233.63\" style=\"stroke:#000000;stroke-width:5.76\"/>\n",
       "\t<line x1=\"625.93\" y1=\"2233.63\" x2=\"625.93\" y2=\"2273.73\" style=\"stroke:#000000;stroke-width:5.76\"/>\n",
       "\t<text x=\"625.93\" y=\"2363.59\" style=\"font-family:'Helvetica';font-size:99.99px;fill:#000000\" text-anchor=\"middle\">-2000</text>\n",
       "\t<line x1=\"1396.52\" y1=\"2233.63\" x2=\"1396.52\" y2=\"2273.73\" style=\"stroke:#000000;stroke-width:5.76\"/>\n",
       "\t<text x=\"1396.52\" y=\"2363.59\" style=\"font-family:'Helvetica';font-size:99.99px;fill:#000000\" text-anchor=\"middle\">-1000</text>\n",
       "\t<line x1=\"2167.23\" y1=\"2233.63\" x2=\"2167.23\" y2=\"2273.73\" style=\"stroke:#000000;stroke-width:5.76\"/>\n",
       "\t<text x=\"2167.23\" y=\"2363.59\" style=\"font-family:'Helvetica';font-size:99.99px;fill:#000000\" text-anchor=\"middle\">0</text>\n",
       "\t<line x1=\"2937.95\" y1=\"2233.63\" x2=\"2937.95\" y2=\"2273.73\" style=\"stroke:#000000;stroke-width:5.76\"/>\n",
       "\t<text x=\"2937.95\" y=\"2363.59\" style=\"font-family:'Helvetica';font-size:99.99px;fill:#000000\" text-anchor=\"middle\">1000</text>\n",
       "\t<line x1=\"3708.66\" y1=\"2233.63\" x2=\"3708.66\" y2=\"2273.73\" style=\"stroke:#000000;stroke-width:5.76\"/>\n",
       "\t<text x=\"3708.66\" y=\"2363.59\" style=\"font-family:'Helvetica';font-size:99.99px;fill:#000000\" text-anchor=\"middle\">2000</text>\n",
       "\t<text x=\"2074.92\" y=\"2473.60\" style=\"font-family:'Helvetica';font-size:99.99px;fill:#000000\" text-anchor=\"middle\">LD.dowjones_close</text>\n",
       "\t<rect x=\"981.71\" y=\"2558.24\" width=\"2186.41\" height=\"186.37\" style=\"fill:#FFFFFF\"/>\n",
       "\t<rect x=\"984.59\" y=\"2561.12\" width=\"2180.66\" height=\"180.61\" style=\"fill:none;stroke:#000000;stroke-width:5.76\"/>\n",
       "\t<circle cx=\"1046.92\" cy=\"2651.43\" r=\"26.35\" style=\"fill:#1A476F\"/>\n",
       "\t<circle cx=\"1046.92\" cy=\"2651.43\" r=\"22.03\" style=\"fill:none;stroke:#1A476F;stroke-width:8.64\"/>\n",
       "\t<line x1=\"2104.74\" y1=\"2651.43\" x2=\"2479.08\" y2=\"2651.43\" style=\"stroke:#90353B;stroke-width:8.64\"/>\n",
       "\t<text x=\"1128.97\" y=\"2686.46\" style=\"font-family:'Helvetica';font-size:99.99px;fill:#000000\">D.dowjones_close</text>\n",
       "\t<text x=\"2539.10\" y=\"2686.46\" style=\"font-family:'Helvetica';font-size:99.99px;fill:#000000\">Fitted values</text>\n",
       "</svg>\n"
      ],
      "text/plain": [
       "This front-end cannot display the desired image type."
      ]
     },
     "metadata": {
      "image/svg+xml": {
       "height": 436,
       "width": 600
      }
     },
     "output_type": "display_data"
    }
   ],
   "source": [
    "twoway (scatter d.dowjones_close l.d.dowjones_close) (lfit d.dowjones_close l.d.dowjones_close)"
   ]
  },
  {
   "cell_type": "markdown",
   "metadata": {},
   "source": [
    "Sambandet är inte jättestarkt, men regressionslinjen lutar nedåt. Det betyder att dagar med stora ökningar (dvs långt till höger i grafen) tenderar att följas av dagar med minskningar. Alltså en återgång till medelvärdet. På samma sätt brukar stora minskningar i genomsnitt följas av ökningar.\n",
    "\n",
    "Punkten längst upp till vänster är till exempel 13 mars 2020. Mellan 11 och 12 mars sjönk Dow Jones med över 2000 punkter. Men mellan 12 och 13 mars ökade det istället med 2000 punkter, och hämtade igen nedgången!"
   ]
  },
  {
   "cell_type": "markdown",
   "metadata": {},
   "source": [
    "## Spara variablerna\n",
    "När man använder de här olika prefixen skapas tillfälliga variabler. De går att använda i analyserna, men syns inte i datamängden. Om man vill spara variablerna går det också bra. Då använder vi `generate`-kommandot, och gör på samma sätt. Till exempel skapar vi i koden nedan variabler som visar värdet på Dow Jones dagen innan det aktuella datumet, samt förändringen från dagen innan."
   ]
  },
  {
   "cell_type": "code",
   "execution_count": 53,
   "metadata": {},
   "outputs": [
    {
     "name": "stdout",
     "output_type": "stream",
     "text": [
      "\n",
      "(61 missing values generated)\n",
      "\n",
      "(65 missing values generated)\n"
     ]
    }
   ],
   "source": [
    "gen l_dowjones_close = l.dowjones_close\n",
    "gen d_dowjones_close = d.dowjones_close"
   ]
  },
  {
   "cell_type": "markdown",
   "metadata": {},
   "source": [
    "De nya variablerna kan man kalla vad man vill. Personligen gillar jag att använda samma bokstäver som i Statas egna kommandon, fast med understreck istället för punkter. Om vi nu tittar på datan igen ser vi att de nya variablerna dykt upp:"
   ]
  },
  {
   "cell_type": "code",
   "execution_count": 54,
   "metadata": {},
   "outputs": [
    {
     "name": "stdout",
     "output_type": "stream",
     "text": [
      "\n",
      "     +--------------------------------------------------------+\n",
      "     |      date   dowjo~se   dowjo~me   l_dowj~e   d_dowjo~e |\n",
      "     |--------------------------------------------------------|\n",
      "  1. | 29apr2019    26554.4    2.8e+08          .           . |\n",
      "  2. | 30apr2019    26592.9    3.4e+08   26554.39    38.51953 |\n",
      "  3. | 01may2019    26430.1    3.0e+08   26592.91   -162.7695 |\n",
      "  4. | 02may2019    26307.8    2.9e+08   26430.14   -122.3516 |\n",
      "  5. | 03may2019    26504.9    2.5e+08   26307.79    197.1602 |\n",
      "     |--------------------------------------------------------|\n",
      "  6. | 06may2019    26438.5    2.8e+08          .           . |\n",
      "  7. | 07may2019    25965.1    3.3e+08   26438.48   -473.3906 |\n",
      "  8. | 08may2019    25967.3    2.8e+08   25965.09    2.240234 |\n",
      "  9. | 09may2019    25828.4    3.3e+08   25967.33   -138.9707 |\n",
      " 10. | 10may2019    25942.4    2.9e+08   25828.36    114.0098 |\n",
      "     +--------------------------------------------------------+\n"
     ]
    }
   ],
   "source": [
    "list in 1/10"
   ]
  },
  {
   "cell_type": "markdown",
   "metadata": {},
   "source": [
    "Vi ser också att det matchar: Den 30:e april är värdet på l_dowjones_close 26554.39, samma som värdet på dowjones_close dagen innan."
   ]
  },
  {
   "cell_type": "markdown",
   "metadata": {},
   "source": [
    "## Avslutning\n",
    "Det här var en mycket grundläggande introduktion till hur man ställer in datan för tidsserieanalys. Att analysera datan med regressionsanalyser och liknande kräver lite speciella hänsyn, som vi får gå igenom i ett annat inlägg.\n",
    "\n",
    "Vi hade här också bara en tidsserie. Ofta har man data över tid, på flera enheter. Det kallas då paneldata. Det kräver i sin tur lite andra inställningar (men prefixen `l.`, `f.` och `d.` funkar även där."
   ]
  }
 ],
 "metadata": {
  "kernelspec": {
   "display_name": "Stata",
   "language": "stata",
   "name": "stata"
  },
  "language_info": {
   "file_extension": ".do",
   "mimetype": "text/x-stata",
   "name": "stata"
  }
 },
 "nbformat": 4,
 "nbformat_minor": 4
}
