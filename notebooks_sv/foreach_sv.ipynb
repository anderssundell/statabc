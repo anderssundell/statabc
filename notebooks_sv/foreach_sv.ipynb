{
 "cells": [
  {
   "cell_type": "markdown",
   "metadata": {},
   "source": [
    "# Loopar med `foreach`"
   ]
  },
  {
   "cell_type": "markdown",
   "metadata": {},
   "source": [
    "*Av Anders Sundell*\n",
    "\n",
    "I en annan guide gick vi igenom hur man gör loopar med kommandot `forvalues`. Med det kan vi köra en serie kommandon och byta ut ett värde som räknas upp eller ner kontinuerligt.\n",
    "\n",
    "I den här guiden ska vi prata om ett besläktat kommando: `foreach`. Det är nästan exakt samma sak, men med det kan vi loopa över en lista godtyckliga värden, inklusive textsträngar.\n",
    "\n",
    "Det är bland annat användbart för att loopa över olika variabler, eller för att till exempel göra en serie analyser eller grafer för ett flertal länder, eller vad det nu kan vara.\n",
    "\n",
    "## En enkel loop\n",
    "Principen är alltså att vi tillhandahåller en lista med värden, och så kör Stata en serie kommandon, en runda för varje värde i listan. Och så kan vi stoppa in det aktuella värdet var som helst i serien kommandon.\n",
    "\n",
    "Den första loopen är den enklast tänkbara: Vi ska göra en lista över några landsnamn, och låta Stata skriva ut landsnamnen. Vi skriver då till exempel `foreach country in \"Sweden\" \"Denmark\" \"Norway\" {}`. Listan består alltså av tre landsnamn, separerade med citationstecknen och mellanslag. Loopen kommer köras tre gånger, och varje gång kommer [macrot](macros_sv.html) \"country\" att ha olika värden (antingen \"Sweden\", \"Denmark\" eller \"Norway\"). Varje runda loopen körs utför Stata de kommandon som står innanför klammerparenteserna.\n",
    "\n",
    "Vi använder kommandot `display` för att skriva ut värdet av country."
   ]
  },
  {
   "cell_type": "code",
   "execution_count": 2,
   "metadata": {},
   "outputs": [
    {
     "name": "stdout",
     "output_type": "stream",
     "text": [
      "\n",
      "Sweden\n",
      "Denmark\n",
      "Norway\n"
     ]
    }
   ],
   "source": [
    "foreach country in \"Sweden\" \"Denmark\" \"Norway\"{\n",
    "display \"`country'\"\n",
    "}"
   ]
  },
  {
   "cell_type": "markdown",
   "metadata": {},
   "source": [
    "Notera att jag var tvungen att skriva \"`country'\", dvs sätta citationstecken kring country. Stata kommer annars läsa \"display Sweden\" och tro att Sweden är någon sorts variabel eller liknande.\n",
    "\n",
    "Vi kan också göra det med nummer:"
   ]
  },
  {
   "cell_type": "code",
   "execution_count": 3,
   "metadata": {},
   "outputs": [
    {
     "name": "stdout",
     "output_type": "stream",
     "text": [
      "\n",
      "5\n",
      "74\n",
      "17\n",
      "12\n"
     ]
    }
   ],
   "source": [
    "foreach number in 5 74 17 12 {\n",
    "display `number'\n",
    "}"
   ]
  },
  {
   "cell_type": "markdown",
   "metadata": {},
   "source": [
    "Nu behövde vi inte sätta citationstecken kring number - det fungerar olika med tal och text.\n",
    "\n",
    "## Loopa över variabelnamn\n",
    "\n",
    "Vi ska nu prova att upprepa en och samma analys, fast använda en loop för att stoppa in olika variabler i analysen. Låt säga att vi bland världens länder vill se hur korruption, etnisk fragmentering och avstånd från ekvatorn hänger ihop med graden av demokrati, med bivariata regressionsanalyser. Dvs vi ska ha demokrati som beroende variabel, och de tre olika variablerna som oberoende, fast inte samtidigt.\n",
    "För att slippa skriva i princip samma sak flera gånger använder vi då en loop.\n",
    "\n",
    "Listan med värden vi anger kommer att vara de tre variabelnamnen. Och inom klammerparenteserna i loopen skriver vi regressionskommandot.\n",
    "\n",
    "För att det inte ska bli så rörigt så skriver vi `quietly` framför regressionskommandot, så att det inte blir någon output. Istället sparar vi resultaten med estimates store m_`var'. När loopen är slut kan vi sedan använda [esttab](esttab_sv.html) för att visa det viktigaste i resultaten"
   ]
  },
  {
   "cell_type": "code",
   "execution_count": 11,
   "metadata": {},
   "outputs": [
    {
     "name": "stdout",
     "output_type": "stream",
     "text": [
      "\n",
      "(Quality of Government Basic dataset 2018 - Cross-Section)\n",
      "\n",
      "\n",
      "\n",
      "------------------------------------------------------------\n",
      "                      (1)             (2)             (3)   \n",
      "                p_polity2       p_polity2       p_polity2   \n",
      "------------------------------------------------------------\n",
      "ti_cpi              0.137***                                \n",
      "                   (6.15)                                   \n",
      "\n",
      "al_ethnic                          -5.306**                 \n",
      "                                  (-2.81)                   \n",
      "\n",
      "lp_lat_abst                                         9.281** \n",
      "                                                   (3.23)   \n",
      "\n",
      "_cons              -1.644           6.522***        1.810*  \n",
      "                  (-1.60)          (6.59)          (2.01)   \n",
      "------------------------------------------------------------\n",
      "N                     164             159             134   \n",
      "------------------------------------------------------------\n",
      "t statistics in parentheses\n",
      "* p<0.05, ** p<0.01, *** p<0.001\n"
     ]
    }
   ],
   "source": [
    "use \"https://www.qogdata.pol.gu.se/dataarchive/qog_bas_cs_jan18.dta\", clear\n",
    "\n",
    "foreach var in ti_cpi al_ethnic lp_lat_abst {\n",
    "quietly reg p_polity2 `var'\n",
    "estimates store m_`var'\n",
    "}\n",
    "\n",
    "esttab m*"
   ]
  },
  {
   "cell_type": "markdown",
   "metadata": {},
   "source": [
    "Vi har fått tre regressionsmodeller, som var och en innehåller en bivariat regressionsanlays, med tre olika oberoende variabler.\n",
    "\n",
    "Kanske inte jättetidseffektivt i det här fallet, men det blir smidigare och smidigare ju fler variabler man behöver göra en analys på. Ju mer kod vi skulle behöva upprepa, desto smidigare blir det också."
   ]
  },
  {
   "cell_type": "markdown",
   "metadata": {},
   "source": [
    "## Loopa över länder som väljs ut i ett dataset\n",
    "För att illustrera hur smidigt det kan vara ska vi nu ta ett exempel där vi loopar över en lite större mängd kod.\n",
    "\n",
    "Det vi ska göra är att göra en graf som visar ett lands nivå av arbetslöshet över tid. Vi kommer använda oss av en datamängd där varje observation är ett land-år. I koden kommer vi ange en [if-sats](ifstatements_sv.html), som anger att grafen bara ska göras på de observationer som uppfyller kriteriet att landsnamnet är det som är aktuellt inom loopen.\n",
    "\n",
    "Vi fixar också till grafen lite, så att den i titeln skriver ut landsnamnet. Därutöver ser vi till att skalan på y-axeln går från 0 till 12, och att färgschemat är s1mono.\n",
    "\n",
    "Slutligen exporterar vi varje graf till en .png-fil."
   ]
  },
  {
   "cell_type": "code",
   "execution_count": 21,
   "metadata": {},
   "outputs": [
    {
     "name": "stdout",
     "output_type": "stream",
     "text": [
      "\n",
      "(Quality of Government Basic dataset 2018 - Time-Series)\n"
     ]
    },
    {
     "data": {
      "application/pdf": "[encoded data removed]",
      "image/svg+xml": [
       "<?xml version=\"1.0\" encoding=\"UTF-8\" standalone=\"no\"?>\n",
       "<!-- This is a Stata 16.0 generated SVG file (http://www.stata.com) -->\n",
       "\n",
       "<svg version=\"1.1\" width=\"600px\" height=\"436px\" viewBox=\"0 0 3960 2880\" xmlns=\"http://www.w3.org/2000/svg\" xmlns:xlink=\"http://www.w3.org/1999/xlink\">\n",
       "\t<desc>Stata Graph - Graph</desc>\n",
       "\t<rect x=\"0\" y=\"0\" width=\"3960\" height=\"2880\" style=\"fill:#FFFFFF;stroke:none\"/>\n",
       "\t<rect x=\"0.00\" y=\"0.00\" width=\"3959.88\" height=\"2880.00\" style=\"fill:#FFFFFF\"/>\n",
       "\t<rect x=\"2.88\" y=\"2.88\" width=\"3954.12\" height=\"2874.24\" style=\"fill:none;stroke:#FFFFFF;stroke-width:5.76\"/>\n",
       "\t<rect x=\"393.68\" y=\"278.23\" width=\"3462.46\" height=\"2208.07\" style=\"fill:none;stroke:#000000;stroke-width:5.76\"/>\n",
       "\t<path d=\" M2584.39 1861.88 L2626.10 1430.72 L2667.93 803.16 L2709.63 759.72 L2751.46 878.53 L2793.16 765.42 L2834.99 624.21 L2876.69 870.86 L2918.52 1102.89 L2960.22 1475.27 L3002.05 1603.23 L3043.76 1562.39 L3085.58 1459.80 L3127.29 1261.79 L3169.11 1123.93 L3210.94 1196.95 L3252.64 1354.36 L3294.47 1341.49 L3336.18 973.45 L3378.00 928.40 L3419.71 1068.61 L3461.53 1038.67 L3503.24 1025.42 L3545.07 1042.63 L3586.77 1133.34 L3628.60 1192.24\" stroke-linejoin=\"round\" style=\"fill:none;stroke:#606060;stroke-width:8.64\"/>\n",
       "\t<line x1=\"390.80\" y1=\"2489.19\" x2=\"390.80\" y2=\"275.35\" style=\"stroke:#000000;stroke-width:5.76\"/>\n",
       "\t<line x1=\"390.80\" y1=\"2425.82\" x2=\"350.83\" y2=\"2425.82\" style=\"stroke:#000000;stroke-width:5.76\"/>\n",
       "\t<text x=\"300.72\" y=\"2425.82\" style=\"font-family:'Helvetica';font-size:99.99px;fill:#000000\" transform=\"rotate(-90 300.72,2425.82)\" text-anchor=\"middle\">0</text>\n",
       "\t<line x1=\"390.80\" y1=\"2077.95\" x2=\"350.83\" y2=\"2077.95\" style=\"stroke:#000000;stroke-width:5.76\"/>\n",
       "\t<text x=\"300.72\" y=\"2077.95\" style=\"font-family:'Helvetica';font-size:99.99px;fill:#000000\" transform=\"rotate(-90 300.72,2077.95)\" text-anchor=\"middle\">2</text>\n",
       "\t<line x1=\"390.80\" y1=\"1730.08\" x2=\"350.83\" y2=\"1730.08\" style=\"stroke:#000000;stroke-width:5.76\"/>\n",
       "\t<text x=\"300.72\" y=\"1730.08\" style=\"font-family:'Helvetica';font-size:99.99px;fill:#000000\" transform=\"rotate(-90 300.72,1730.08)\" text-anchor=\"middle\">4</text>\n",
       "\t<line x1=\"390.80\" y1=\"1382.33\" x2=\"350.83\" y2=\"1382.33\" style=\"stroke:#000000;stroke-width:5.76\"/>\n",
       "\t<text x=\"300.72\" y=\"1382.33\" style=\"font-family:'Helvetica';font-size:99.99px;fill:#000000\" transform=\"rotate(-90 300.72,1382.33)\" text-anchor=\"middle\">6</text>\n",
       "\t<line x1=\"390.80\" y1=\"1034.46\" x2=\"350.83\" y2=\"1034.46\" style=\"stroke:#000000;stroke-width:5.76\"/>\n",
       "\t<text x=\"300.72\" y=\"1034.46\" style=\"font-family:'Helvetica';font-size:99.99px;fill:#000000\" transform=\"rotate(-90 300.72,1034.46)\" text-anchor=\"middle\">8</text>\n",
       "\t<line x1=\"390.80\" y1=\"686.59\" x2=\"350.83\" y2=\"686.59\" style=\"stroke:#000000;stroke-width:5.76\"/>\n",
       "\t<text x=\"300.72\" y=\"686.59\" style=\"font-family:'Helvetica';font-size:99.99px;fill:#000000\" transform=\"rotate(-90 300.72,686.59)\" text-anchor=\"middle\">10</text>\n",
       "\t<line x1=\"390.80\" y1=\"338.71\" x2=\"350.83\" y2=\"338.71\" style=\"stroke:#000000;stroke-width:5.76\"/>\n",
       "\t<text x=\"300.72\" y=\"338.71\" style=\"font-family:'Helvetica';font-size:99.99px;fill:#000000\" transform=\"rotate(-90 300.72,338.71)\" text-anchor=\"middle\">12</text>\n",
       "\t<text x=\"190.71\" y=\"1382.33\" style=\"font-family:'Helvetica';font-size:99.99px;fill:#000000\" transform=\"rotate(-90 190.71,1382.33)\" text-anchor=\"middle\">Unemployment, total (% of total labor force) (modeled ILO estimate)</text>\n",
       "\t<line x1=\"390.80\" y1=\"2489.19\" x2=\"3859.02\" y2=\"2489.19\" style=\"stroke:#000000;stroke-width:5.76\"/>\n",
       "\t<line x1=\"454.16\" y1=\"2489.19\" x2=\"454.16\" y2=\"2529.16\" style=\"stroke:#000000;stroke-width:5.76\"/>\n",
       "\t<text x=\"454.16\" y=\"2619.14\" style=\"font-family:'Helvetica';font-size:99.99px;fill:#000000\" text-anchor=\"middle\">1940</text>\n",
       "\t<line x1=\"1289.47\" y1=\"2489.19\" x2=\"1289.47\" y2=\"2529.16\" style=\"stroke:#000000;stroke-width:5.76\"/>\n",
       "\t<text x=\"1289.47\" y=\"2619.14\" style=\"font-family:'Helvetica';font-size:99.99px;fill:#000000\" text-anchor=\"middle\">1960</text>\n",
       "\t<line x1=\"2124.91\" y1=\"2489.19\" x2=\"2124.91\" y2=\"2529.16\" style=\"stroke:#000000;stroke-width:5.76\"/>\n",
       "\t<text x=\"2124.91\" y=\"2619.14\" style=\"font-family:'Helvetica';font-size:99.99px;fill:#000000\" text-anchor=\"middle\">1980</text>\n",
       "\t<line x1=\"2960.35\" y1=\"2489.19\" x2=\"2960.35\" y2=\"2529.16\" style=\"stroke:#000000;stroke-width:5.76\"/>\n",
       "\t<text x=\"2960.35\" y=\"2619.14\" style=\"font-family:'Helvetica';font-size:99.99px;fill:#000000\" text-anchor=\"middle\">2000</text>\n",
       "\t<line x1=\"3795.66\" y1=\"2489.19\" x2=\"3795.66\" y2=\"2529.16\" style=\"stroke:#000000;stroke-width:5.76\"/>\n",
       "\t<text x=\"3795.66\" y=\"2619.14\" style=\"font-family:'Helvetica';font-size:99.99px;fill:#000000\" text-anchor=\"middle\">2020</text>\n",
       "\t<text x=\"2124.91\" y=\"2729.16\" style=\"font-family:'Helvetica';font-size:99.99px;fill:#000000\" text-anchor=\"middle\">Year</text>\n",
       "\t<text x=\"2124.91\" y=\"215.98\" style=\"font-family:'Helvetica';font-size:139.96px;fill:#000000\" text-anchor=\"middle\">Unemployment in Sweden</text>\n",
       "</svg>\n"
      ],
      "text/plain": [
       "This front-end cannot display the desired image type."
      ]
     },
     "metadata": {
      "image/svg+xml": {
       "height": 436,
       "width": 600
      }
     },
     "output_type": "display_data"
    },
    {
     "name": "stdout",
     "output_type": "stream",
     "text": [
      "\n",
      "\n",
      "(file unemployment_Sweden.pdf written in PDF format)\n"
     ]
    },
    {
     "data": {
      "application/pdf": "[encoded data removed]",
      "image/svg+xml": [
       "<?xml version=\"1.0\" encoding=\"UTF-8\" standalone=\"no\"?>\n",
       "<!-- This is a Stata 16.0 generated SVG file (http://www.stata.com) -->\n",
       "\n",
       "<svg version=\"1.1\" width=\"600px\" height=\"436px\" viewBox=\"0 0 3960 2880\" xmlns=\"http://www.w3.org/2000/svg\" xmlns:xlink=\"http://www.w3.org/1999/xlink\">\n",
       "\t<desc>Stata Graph - Graph</desc>\n",
       "\t<rect x=\"0\" y=\"0\" width=\"3960\" height=\"2880\" style=\"fill:#FFFFFF;stroke:none\"/>\n",
       "\t<rect x=\"0.00\" y=\"0.00\" width=\"3959.88\" height=\"2880.00\" style=\"fill:#FFFFFF\"/>\n",
       "\t<rect x=\"2.88\" y=\"2.88\" width=\"3954.12\" height=\"2874.24\" style=\"fill:none;stroke:#FFFFFF;stroke-width:5.76\"/>\n",
       "\t<rect x=\"393.68\" y=\"278.23\" width=\"3462.46\" height=\"2208.07\" style=\"fill:none;stroke:#000000;stroke-width:5.76\"/>\n",
       "\t<path d=\" M2584.39 843.38 L2626.10 855.88 L2667.93 561.60 L2709.63 1028.27 L2751.46 1209.82 L2793.16 1235.56 L2834.99 1486.66 L2876.69 1549.52 L2918.52 1531.70 L2960.22 1647.41 L3002.05 1701.62 L3043.76 1682.56 L3085.58 1487.03 L3127.29 1520.81 L3169.11 1585.78 L3210.94 1748.15 L3252.64 1764.85 L3294.47 1828.59 L3336.18 1381.09 L3378.00 1127.77 L3419.71 1108.71 L3461.53 1116.88 L3503.24 1208.95 L3545.07 1279.86 L3586.77 1353.12 L3628.60 1373.42\" stroke-linejoin=\"round\" style=\"fill:none;stroke:#606060;stroke-width:8.64\"/>\n",
       "\t<line x1=\"390.80\" y1=\"2489.19\" x2=\"390.80\" y2=\"275.35\" style=\"stroke:#000000;stroke-width:5.76\"/>\n",
       "\t<line x1=\"390.80\" y1=\"2425.82\" x2=\"350.83\" y2=\"2425.82\" style=\"stroke:#000000;stroke-width:5.76\"/>\n",
       "\t<text x=\"300.72\" y=\"2425.82\" style=\"font-family:'Helvetica';font-size:99.99px;fill:#000000\" transform=\"rotate(-90 300.72,2425.82)\" text-anchor=\"middle\">0</text>\n",
       "\t<line x1=\"390.80\" y1=\"2077.95\" x2=\"350.83\" y2=\"2077.95\" style=\"stroke:#000000;stroke-width:5.76\"/>\n",
       "\t<text x=\"300.72\" y=\"2077.95\" style=\"font-family:'Helvetica';font-size:99.99px;fill:#000000\" transform=\"rotate(-90 300.72,2077.95)\" text-anchor=\"middle\">2</text>\n",
       "\t<line x1=\"390.80\" y1=\"1730.08\" x2=\"350.83\" y2=\"1730.08\" style=\"stroke:#000000;stroke-width:5.76\"/>\n",
       "\t<text x=\"300.72\" y=\"1730.08\" style=\"font-family:'Helvetica';font-size:99.99px;fill:#000000\" transform=\"rotate(-90 300.72,1730.08)\" text-anchor=\"middle\">4</text>\n",
       "\t<line x1=\"390.80\" y1=\"1382.33\" x2=\"350.83\" y2=\"1382.33\" style=\"stroke:#000000;stroke-width:5.76\"/>\n",
       "\t<text x=\"300.72\" y=\"1382.33\" style=\"font-family:'Helvetica';font-size:99.99px;fill:#000000\" transform=\"rotate(-90 300.72,1382.33)\" text-anchor=\"middle\">6</text>\n",
       "\t<line x1=\"390.80\" y1=\"1034.46\" x2=\"350.83\" y2=\"1034.46\" style=\"stroke:#000000;stroke-width:5.76\"/>\n",
       "\t<text x=\"300.72\" y=\"1034.46\" style=\"font-family:'Helvetica';font-size:99.99px;fill:#000000\" transform=\"rotate(-90 300.72,1034.46)\" text-anchor=\"middle\">8</text>\n",
       "\t<line x1=\"390.80\" y1=\"686.59\" x2=\"350.83\" y2=\"686.59\" style=\"stroke:#000000;stroke-width:5.76\"/>\n",
       "\t<text x=\"300.72\" y=\"686.59\" style=\"font-family:'Helvetica';font-size:99.99px;fill:#000000\" transform=\"rotate(-90 300.72,686.59)\" text-anchor=\"middle\">10</text>\n",
       "\t<line x1=\"390.80\" y1=\"338.71\" x2=\"350.83\" y2=\"338.71\" style=\"stroke:#000000;stroke-width:5.76\"/>\n",
       "\t<text x=\"300.72\" y=\"338.71\" style=\"font-family:'Helvetica';font-size:99.99px;fill:#000000\" transform=\"rotate(-90 300.72,338.71)\" text-anchor=\"middle\">12</text>\n",
       "\t<text x=\"190.71\" y=\"1382.33\" style=\"font-family:'Helvetica';font-size:99.99px;fill:#000000\" transform=\"rotate(-90 190.71,1382.33)\" text-anchor=\"middle\">Unemployment, total (% of total labor force) (modeled ILO estimate)</text>\n",
       "\t<line x1=\"390.80\" y1=\"2489.19\" x2=\"3859.02\" y2=\"2489.19\" style=\"stroke:#000000;stroke-width:5.76\"/>\n",
       "\t<line x1=\"454.16\" y1=\"2489.19\" x2=\"454.16\" y2=\"2529.16\" style=\"stroke:#000000;stroke-width:5.76\"/>\n",
       "\t<text x=\"454.16\" y=\"2619.14\" style=\"font-family:'Helvetica';font-size:99.99px;fill:#000000\" text-anchor=\"middle\">1940</text>\n",
       "\t<line x1=\"1289.47\" y1=\"2489.19\" x2=\"1289.47\" y2=\"2529.16\" style=\"stroke:#000000;stroke-width:5.76\"/>\n",
       "\t<text x=\"1289.47\" y=\"2619.14\" style=\"font-family:'Helvetica';font-size:99.99px;fill:#000000\" text-anchor=\"middle\">1960</text>\n",
       "\t<line x1=\"2124.91\" y1=\"2489.19\" x2=\"2124.91\" y2=\"2529.16\" style=\"stroke:#000000;stroke-width:5.76\"/>\n",
       "\t<text x=\"2124.91\" y=\"2619.14\" style=\"font-family:'Helvetica';font-size:99.99px;fill:#000000\" text-anchor=\"middle\">1980</text>\n",
       "\t<line x1=\"2960.35\" y1=\"2489.19\" x2=\"2960.35\" y2=\"2529.16\" style=\"stroke:#000000;stroke-width:5.76\"/>\n",
       "\t<text x=\"2960.35\" y=\"2619.14\" style=\"font-family:'Helvetica';font-size:99.99px;fill:#000000\" text-anchor=\"middle\">2000</text>\n",
       "\t<line x1=\"3795.66\" y1=\"2489.19\" x2=\"3795.66\" y2=\"2529.16\" style=\"stroke:#000000;stroke-width:5.76\"/>\n",
       "\t<text x=\"3795.66\" y=\"2619.14\" style=\"font-family:'Helvetica';font-size:99.99px;fill:#000000\" text-anchor=\"middle\">2020</text>\n",
       "\t<text x=\"2124.91\" y=\"2729.16\" style=\"font-family:'Helvetica';font-size:99.99px;fill:#000000\" text-anchor=\"middle\">Year</text>\n",
       "\t<text x=\"2124.91\" y=\"215.98\" style=\"font-family:'Helvetica';font-size:139.96px;fill:#000000\" text-anchor=\"middle\">Unemployment in Denmark</text>\n",
       "</svg>\n"
      ],
      "text/plain": [
       "This front-end cannot display the desired image type."
      ]
     },
     "metadata": {
      "image/svg+xml": {
       "height": 436,
       "width": 600
      }
     },
     "output_type": "display_data"
    },
    {
     "name": "stdout",
     "output_type": "stream",
     "text": [
      "\n",
      "(file unemployment_Denmark.pdf written in PDF format)\n"
     ]
    }
   ],
   "source": [
    "use \"https://www.qogdata.pol.gu.se/dataarchive/qog_bas_ts_jan18.dta\", clear\n",
    "\n",
    "foreach country in \"Sweden\" \"Denmark\" {\n",
    "\n",
    "twoway (line wdi_unempilo year) if cname==\"`country'\", ///\n",
    "title(\"Unemployment in `country'\") ylabel(0(2)12) scheme(s1mono)\n",
    "\n",
    "graph export \"unemployment_`country'.pdf\", replace\n",
    "\n",
    "}\n"
   ]
  },
  {
   "cell_type": "markdown",
   "metadata": {},
   "source": [
    "Inte så tokigt va? Listan här vara bara två land lång, men det blir såklart riktigt effektivt om man har många länder.\n",
    "\n",
    "## Avslutning\n",
    "\n",
    "Precis som med `forvalues` kan vi använda `foreach` på en massa olika sätt. För enklare analyser är det inte särskilt nödvändigt. Men i större projekt, där man ska göra många likartade analyser, eller en mängd omkodningar av variabler på samma sätt, eller exportera en mängd grafer, kan det vara effektivt.\n",
    "\n",
    "Loopar kan minska risken för slarvfel eftersom man bara behöver skriva koden en gång. Om man istället kopierar ett och samma stycke flera gånger ökar risken att det ska smyga sig in ett fel någonstans.\n",
    "\n",
    "Kom ihåg att värdena som loopen loopar över sparas i ett macro som man anger själv. Läs guiden till [macron](macros_sv.html) för att få bättre koll på hur de fungerar."
   ]
  }
 ],
 "metadata": {
  "kernelspec": {
   "display_name": "Stata",
   "language": "stata",
   "name": "stata"
  },
  "language_info": {
   "file_extension": ".do",
   "mimetype": "text/x-stata",
   "name": "stata"
  }
 },
 "nbformat": 4,
 "nbformat_minor": 4
}
