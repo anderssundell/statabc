{
 "cells": [
  {
   "cell_type": "markdown",
   "metadata": {},
   "source": [
    "# Regressionsanalys med kontrollvariabler"
   ]
  },
  {
   "cell_type": "markdown",
   "metadata": {},
   "source": [
    "En stor styrka med regressionsanalysen är att man kan kontrollera samband för alternativa förklaringar. Du har antagligen hört uttrycket \"korrelation är inte kausalitet.\" Det innebär att bara för att vi kan se att två variabler hänger ihop betyder det inte att den ena har orsakat den andra.\n",
    "\n",
    "Det ska sägas att det inte finns någon statistisk metod som kan bevisa att kausalitet föreligger. Däremot kan vi göra det mer eller mindre troligt. Och allra minst kan vi undersöka om ett samband är ett skensamband (spuiröst, med ett annat ord), som egentligen orsakas av andra faktorer.\n",
    "\n",
    "För att ta ett simpelt exempel. Tänk att vi vill undersöka effekten av en människas längd på hur snabbt personen springer. Som data tar vi tiderna för alla som sprang OS-finaler 2016. Vi kommer då finna att de som var längre sprang snabbare, i genomsnitt. Sambandet är faktiskt ganska starkt.\n",
    "\n",
    "Om det vore ett orsakssamband - till exempel för att det går snabbare om man har långa ben - skulle vi uppmuntra långa ungdomar att satsa på löpträning.\n",
    "\n",
    "Men det vore oklokt, utan att ta hänsyn till andra möjliga bakomliggande variabler, som kan tänkas påverka både längd och löphastighet. Den uppenbara variabeln är kön. I genomsnitt är män längre än kvinnor, och har också andra fysiologiska förutsättningar som gör att de kan springa snabbare. Om vi inte tar hänsyn till löparnas kön missar vi det.\n",
    "\n",
    "Att \"kontrollera\" för variabeln kön innebär i princip att vi jämför män med män, och kvinnor med kvinnor. Vi undersöker då om det är så att långa kvinnor springer snabbare än korta kvinnor, och om långa män springer snabbare än kortare män. Och om man gör analysen (jag har provat!) så kommer man se att det då inte kvarstår något samband mellan längd och löphastighet. Sambandet mellan längd och hastighet var spuriöst.\n",
    "\n",
    "Om det hade kvarstått ett samband mellan längd och hastighet även under kontroll för kön hade det inte betytt att det funnits ett kausalt samband, men det hade i alla fall gjort det mindre osannolikt."
   ]
  },
  {
   "cell_type": "markdown",
   "metadata": {},
   "source": [
    "## Ett exempel med relevant data"
   ]
  },
  {
   "cell_type": "markdown",
   "metadata": {},
   "source": [
    "Vi börjar med att ladda in datamängden, som i det här fallet är QoG Basic, med information om världens länder. Analysenheten är land, och så har vi information om länderna i variablerna. <a href=\"https://qog.pol.gu.se/data/datadownloads/qogbasicdata\">Datamängden finns att ladda ned här.</a>"
   ]
  },
  {
   "cell_type": "code",
   "execution_count": 23,
   "metadata": {},
   "outputs": [
    {
     "name": "stdout",
     "output_type": "stream",
     "text": [
      "(Quality of Government Basic dataset 2018 - Cross-Section)\n"
     ]
    }
   ],
   "source": [
    "use \"qog_bas_cs_jan18.dta\", clear"
   ]
  },
  {
   "cell_type": "markdown",
   "metadata": {},
   "source": [
    "I kommandot måste man skriva in sökvägen till var man har datamängden på datorn, till exempel \"/Users/anders/data/qog_bas_cs_jan18.dta\", annars kommer det inte fungera.\n",
    "\n",
    "Datamängden har en mängd olika variabler. Vi ska kolla på sambandet mellan demokrati och förväntad livslängd. Är det så att folk lever längre i mer demokratiska länder, och i så fall, är det på grund av att de är demokratiska, eller beror det på något annat? Man skulle till exempel kunna tänka att demokratin gör att staten tar bättre hand om sina medborgare.\n",
    "\n",
    "Som beroende variabel har vi ett mått på förväntad livslängd, wdi_lifexp, och som oberoende ska vi ha graden av demokrati som mät enligt Polity-projektet. Vi kan börja med att ta fram några grundfakta genom att skriva:"
   ]
  },
  {
   "cell_type": "code",
   "execution_count": 4,
   "metadata": {},
   "outputs": [
    {
     "name": "stdout",
     "output_type": "stream",
     "text": [
      "\n",
      "    Variable |        Obs        Mean    Std. Dev.       Min        Max\n",
      "-------------+---------------------------------------------------------\n",
      "  wdi_lifexp |        185    71.25413    8.138066   50.59105   83.58781\n",
      "   p_polity2 |        165    4.072727    6.158044        -10         10\n"
     ]
    }
   ],
   "source": [
    "sum wdi_lifexp p_polity2"
   ]
  },
  {
   "cell_type": "markdown",
   "metadata": {},
   "source": [
    "Vi ser då att vi har information om 185 länder, och att den förväntade livslängden i genomsnitt är 71,25 år. Vi har däremot bara information om graden av demokrati för 165 länder. Våra analyser baseras bara på de länder där vi har all information.\n",
    "\n",
    "Demokrativariabeln går från -10 (max diktatur) till +10 (max demokrati), med ett medelvärde på 4,07.\n",
    "\n",
    "Nu är det dags att göra en regressionsanalys. Det gör vi genom att skriva:"
   ]
  },
  {
   "cell_type": "code",
   "execution_count": 6,
   "metadata": {},
   "outputs": [
    {
     "name": "stdout",
     "output_type": "stream",
     "text": [
      "\n",
      "      Source |       SS           df       MS      Number of obs   =       164\n",
      "-------------+----------------------------------   F(1, 162)       =     14.93\n",
      "       Model |  961.395196         1  961.395196   Prob > F        =    0.0002\n",
      "    Residual |  10432.0079       162  64.3951106   R-squared       =    0.0844\n",
      "-------------+----------------------------------   Adj R-squared   =    0.0787\n",
      "       Total |  11393.4031       163  69.8981786   Root MSE        =    8.0247\n",
      "\n",
      "------------------------------------------------------------------------------\n",
      "  wdi_lifexp |      Coef.   Std. Err.      t    P>|t|     [95% Conf. Interval]\n",
      "-------------+----------------------------------------------------------------\n",
      "   p_polity2 |   .3942974   .1020468     3.86   0.000      .192784    .5958109\n",
      "       _cons |   69.20107   .7498878    92.28   0.000     67.72025    70.68188\n",
      "------------------------------------------------------------------------------\n"
     ]
    }
   ],
   "source": [
    "reg wdi_lifexp p_polity2"
   ]
  },
  {
   "cell_type": "markdown",
   "metadata": {},
   "source": [
    "Här ser vi nu många intressanta saker. Det viktigaste är b-koefficienten för demokrativariabeln, som vi ser i kolumnen \"Coef.\" Den är 0,39. Det betyder att för varje steg vi tar uppåt på demokrativariabeln ökar livslängden i genomsnitt med 0,39 år. Sambandet är statistiskt signifikant, ser vi i kolumnen \"P>|t\", eftersom signifikansvärdet är under 0,050.\n",
    "\n",
    "Uppe till höger, ser vi att \"R-squared = 0.0844\". Det betyder att variablerna i modellen - alltså bara demokrati - förklarar 8,4% av variationen i den beroende variabeln. Inte jättemycket, men något. Här finns det inga specifika tröskelvärden att förhålla sig till.\n",
    "\n",
    "Om vi istället vill titta på sambandet kan vi skriva såhär:"
   ]
  },
  {
   "cell_type": "code",
   "execution_count": 7,
   "metadata": {},
   "outputs": [
    {
     "data": {
      "application/pdf": "[encoded data removed]",
      "image/svg+xml": [
       "<?xml version=\"1.0\" encoding=\"UTF-8\" standalone=\"no\"?>\n",
       "<!-- This is a Stata 15.1 generated SVG file (http://www.stata.com) -->\n",
       "\n",
       "<svg version=\"1.1\" width=\"600px\" height=\"436px\" viewBox=\"0 0 3960 2880\" xmlns=\"http://www.w3.org/2000/svg\" xmlns:xlink=\"http://www.w3.org/1999/xlink\">\n",
       "\t<desc>Stata Graph - Graph</desc>\n",
       "\t<rect x=\"0\" y=\"0\" width=\"3960\" height=\"2880\" style=\"fill:#EAF2F3;stroke:none\"/>\n",
       "\t<rect x=\"0.00\" y=\"0.00\" width=\"3959.88\" height=\"2880.00\" style=\"fill:#EAF2F3\"/>\n",
       "\t<rect x=\"2.88\" y=\"2.88\" width=\"3954.12\" height=\"2874.24\" style=\"fill:none;stroke:#EAF2F3;stroke-width:5.76\"/>\n",
       "\t<rect x=\"290.81\" y=\"100.86\" width=\"3568.21\" height=\"2132.77\" style=\"fill:#FFFFFF\"/>\n",
       "\t<rect x=\"293.69\" y=\"103.74\" width=\"3562.45\" height=\"2127.01\" style=\"fill:none;stroke:#FFFFFF;stroke-width:5.76\"/>\n",
       "\t<line x1=\"290.81\" y1=\"2170.27\" x2=\"3859.02\" y2=\"2170.27\" style=\"stroke:#EAF2F3;stroke-width:8.64\"/>\n",
       "\t<line x1=\"290.81\" y1=\"1668.82\" x2=\"3859.02\" y2=\"1668.82\" style=\"stroke:#EAF2F3;stroke-width:8.64\"/>\n",
       "\t<line x1=\"290.81\" y1=\"1167.25\" x2=\"3859.02\" y2=\"1167.25\" style=\"stroke:#EAF2F3;stroke-width:8.64\"/>\n",
       "\t<line x1=\"290.81\" y1=\"665.67\" x2=\"3859.02\" y2=\"665.67\" style=\"stroke:#EAF2F3;stroke-width:8.64\"/>\n",
       "\t<circle cx=\"1902.78\" cy=\"1523.29\" r=\"26.35\" style=\"fill:#1A476F\"/>\n",
       "\t<circle cx=\"1902.78\" cy=\"1523.29\" r=\"22.03\" style=\"fill:none;stroke:#1A476F;stroke-width:8.64\"/>\n",
       "\t<circle cx=\"3623.52\" cy=\"766.16\" r=\"26.35\" style=\"fill:#1A476F\"/>\n",
       "\t<circle cx=\"3623.52\" cy=\"766.16\" r=\"22.03\" style=\"fill:none;stroke:#1A476F;stroke-width:8.64\"/>\n",
       "\t<circle cx=\"2419.07\" cy=\"884.72\" r=\"26.35\" style=\"fill:#1A476F\"/>\n",
       "\t<circle cx=\"2419.07\" cy=\"884.72\" r=\"22.03\" style=\"fill:none;stroke:#1A476F;stroke-width:8.64\"/>\n",
       "\t<circle cx=\"1730.77\" cy=\"1628.35\" r=\"26.35\" style=\"fill:#1A476F\"/>\n",
       "\t<circle cx=\"1730.77\" cy=\"1628.35\" r=\"22.03\" style=\"fill:none;stroke:#1A476F;stroke-width:8.64\"/>\n",
       "\t<circle cx=\"870.33\" cy=\"1080.74\" r=\"26.35\" style=\"fill:#1A476F\"/>\n",
       "\t<circle cx=\"870.33\" cy=\"1080.74\" r=\"22.03\" style=\"fill:none;stroke:#1A476F;stroke-width:8.64\"/>\n",
       "\t<circle cx=\"3451.51\" cy=\"859.72\" r=\"26.35\" style=\"fill:#1A476F\"/>\n",
       "\t<circle cx=\"3451.51\" cy=\"859.72\" r=\"22.03\" style=\"fill:none;stroke:#1A476F;stroke-width:8.64\"/>\n",
       "\t<circle cx=\"3795.66\" cy=\"550.46\" r=\"26.35\" style=\"fill:#1A476F\"/>\n",
       "\t<circle cx=\"3795.66\" cy=\"550.46\" r=\"22.03\" style=\"fill:none;stroke:#1A476F;stroke-width:8.64\"/>\n",
       "\t<circle cx=\"3795.66\" cy=\"591.05\" r=\"26.35\" style=\"fill:#1A476F\"/>\n",
       "\t<circle cx=\"3795.66\" cy=\"591.05\" r=\"22.03\" style=\"fill:none;stroke:#1A476F;stroke-width:8.64\"/>\n",
       "\t<circle cx=\"354.05\" cy=\"830.02\" r=\"26.35\" style=\"fill:#1A476F\"/>\n",
       "\t<circle cx=\"354.05\" cy=\"830.02\" r=\"22.03\" style=\"fill:none;stroke:#1A476F;stroke-width:8.64\"/>\n",
       "\t<circle cx=\"2246.93\" cy=\"1073.44\" r=\"26.35\" style=\"fill:#1A476F\"/>\n",
       "\t<circle cx=\"2246.93\" cy=\"1073.44\" r=\"22.03\" style=\"fill:none;stroke:#1A476F;stroke-width:8.64\"/>\n",
       "\t<circle cx=\"2935.23\" cy=\"965.65\" r=\"26.35\" style=\"fill:#1A476F\"/>\n",
       "\t<circle cx=\"2935.23\" cy=\"965.65\" r=\"22.03\" style=\"fill:none;stroke:#1A476F;stroke-width:8.64\"/>\n",
       "\t<circle cx=\"3451.51\" cy=\"601.20\" r=\"26.35\" style=\"fill:#1A476F\"/>\n",
       "\t<circle cx=\"3451.51\" cy=\"601.20\" r=\"22.03\" style=\"fill:none;stroke:#1A476F;stroke-width:8.64\"/>\n",
       "\t<circle cx=\"2935.23\" cy=\"1196.45\" r=\"26.35\" style=\"fill:#1A476F\"/>\n",
       "\t<circle cx=\"2935.23\" cy=\"1196.45\" r=\"22.03\" style=\"fill:none;stroke:#1A476F;stroke-width:8.64\"/>\n",
       "\t<circle cx=\"3279.38\" cy=\"1250.04\" r=\"26.35\" style=\"fill:#1A476F\"/>\n",
       "\t<circle cx=\"3279.38\" cy=\"1250.04\" r=\"22.03\" style=\"fill:none;stroke:#1A476F;stroke-width:8.64\"/>\n",
       "\t<circle cx=\"3451.51\" cy=\"1433.44\" r=\"26.35\" style=\"fill:#1A476F\"/>\n",
       "\t<circle cx=\"3451.51\" cy=\"1433.44\" r=\"22.03\" style=\"fill:none;stroke:#1A476F;stroke-width:8.64\"/>\n",
       "\t<circle cx=\"3451.51\" cy=\"918.62\" r=\"26.35\" style=\"fill:#1A476F\"/>\n",
       "\t<circle cx=\"3451.51\" cy=\"918.62\" r=\"22.03\" style=\"fill:none;stroke:#1A476F;stroke-width:8.64\"/>\n",
       "\t<circle cx=\"3451.51\" cy=\"1159.20\" r=\"26.35\" style=\"fill:#1A476F\"/>\n",
       "\t<circle cx=\"3451.51\" cy=\"1159.20\" r=\"22.03\" style=\"fill:none;stroke:#1A476F;stroke-width:8.64\"/>\n",
       "\t<circle cx=\"3623.52\" cy=\"943.38\" r=\"26.35\" style=\"fill:#1A476F\"/>\n",
       "\t<circle cx=\"3623.52\" cy=\"943.38\" r=\"22.03\" style=\"fill:none;stroke:#1A476F;stroke-width:8.64\"/>\n",
       "\t<circle cx=\"1558.63\" cy=\"1357.58\" r=\"26.35\" style=\"fill:#1A476F\"/>\n",
       "\t<circle cx=\"1558.63\" cy=\"1357.58\" r=\"22.03\" style=\"fill:none;stroke:#1A476F;stroke-width:8.64\"/>\n",
       "\t<circle cx=\"3107.36\" cy=\"1836.14\" r=\"26.35\" style=\"fill:#1A476F\"/>\n",
       "\t<circle cx=\"3107.36\" cy=\"1836.14\" r=\"22.03\" style=\"fill:none;stroke:#1A476F;stroke-width:8.64\"/>\n",
       "\t<circle cx=\"870.33\" cy=\"1018.37\" r=\"26.35\" style=\"fill:#1A476F\"/>\n",
       "\t<circle cx=\"870.33\" cy=\"1018.37\" r=\"22.03\" style=\"fill:none;stroke:#1A476F;stroke-width:8.64\"/>\n",
       "\t<circle cx=\"2419.07\" cy=\"1262.29\" r=\"26.35\" style=\"fill:#1A476F\"/>\n",
       "\t<circle cx=\"2419.07\" cy=\"1262.29\" r=\"22.03\" style=\"fill:none;stroke:#1A476F;stroke-width:8.64\"/>\n",
       "\t<circle cx=\"1386.49\" cy=\"1814.85\" r=\"26.35\" style=\"fill:#1A476F\"/>\n",
       "\t<circle cx=\"1386.49\" cy=\"1814.85\" r=\"22.03\" style=\"fill:none;stroke:#1A476F;stroke-width:8.64\"/>\n",
       "\t<circle cx=\"3795.66\" cy=\"567.78\" r=\"26.35\" style=\"fill:#1A476F\"/>\n",
       "\t<circle cx=\"3795.66\" cy=\"567.78\" r=\"22.03\" style=\"fill:none;stroke:#1A476F;stroke-width:8.64\"/>\n",
       "\t<circle cx=\"3795.66\" cy=\"1054.26\" r=\"26.35\" style=\"fill:#1A476F\"/>\n",
       "\t<circle cx=\"3795.66\" cy=\"1054.26\" r=\"22.03\" style=\"fill:none;stroke:#1A476F;stroke-width:8.64\"/>\n",
       "\t<circle cx=\"2074.92\" cy=\"2140.69\" r=\"26.35\" style=\"fill:#1A476F\"/>\n",
       "\t<circle cx=\"2074.92\" cy=\"2140.69\" r=\"22.03\" style=\"fill:none;stroke:#1A476F;stroke-width:8.64\"/>\n",
       "\t<circle cx=\"2591.08\" cy=\"925.80\" r=\"26.35\" style=\"fill:#1A476F\"/>\n",
       "\t<circle cx=\"2591.08\" cy=\"925.80\" r=\"22.03\" style=\"fill:none;stroke:#1A476F;stroke-width:8.64\"/>\n",
       "\t<circle cx=\"1730.77\" cy=\"2061.00\" r=\"26.35\" style=\"fill:#1A476F\"/>\n",
       "\t<circle cx=\"1730.77\" cy=\"2061.00\" r=\"22.03\" style=\"fill:none;stroke:#1A476F;stroke-width:8.64\"/>\n",
       "\t<circle cx=\"3795.66\" cy=\"717.65\" r=\"26.35\" style=\"fill:#1A476F\"/>\n",
       "\t<circle cx=\"3795.66\" cy=\"717.65\" r=\"22.03\" style=\"fill:none;stroke:#1A476F;stroke-width:8.64\"/>\n",
       "\t<circle cx=\"870.33\" cy=\"868.50\" r=\"26.35\" style=\"fill:#1A476F\"/>\n",
       "\t<circle cx=\"870.33\" cy=\"868.50\" r=\"22.03\" style=\"fill:none;stroke:#1A476F;stroke-width:8.64\"/>\n",
       "\t<circle cx=\"3279.38\" cy=\"967.76\" r=\"26.35\" style=\"fill:#1A476F\"/>\n",
       "\t<circle cx=\"3279.38\" cy=\"967.76\" r=\"22.03\" style=\"fill:none;stroke:#1A476F;stroke-width:8.64\"/>\n",
       "\t<circle cx=\"3623.52\" cy=\"1508.19\" r=\"26.35\" style=\"fill:#1A476F\"/>\n",
       "\t<circle cx=\"3623.52\" cy=\"1508.19\" r=\"22.03\" style=\"fill:none;stroke:#1A476F;stroke-width:8.64\"/>\n",
       "\t<circle cx=\"1386.49\" cy=\"1492.60\" r=\"26.35\" style=\"fill:#1A476F\"/>\n",
       "\t<circle cx=\"1386.49\" cy=\"1492.60\" r=\"22.03\" style=\"fill:none;stroke:#1A476F;stroke-width:8.64\"/>\n",
       "\t<circle cx=\"2935.23\" cy=\"1731.56\" r=\"26.35\" style=\"fill:#1A476F\"/>\n",
       "\t<circle cx=\"2935.23\" cy=\"1731.56\" r=\"22.03\" style=\"fill:none;stroke:#1A476F;stroke-width:8.64\"/>\n",
       "\t<circle cx=\"3795.66\" cy=\"695.00\" r=\"26.35\" style=\"fill:#1A476F\"/>\n",
       "\t<circle cx=\"3795.66\" cy=\"695.00\" r=\"22.03\" style=\"fill:none;stroke:#1A476F;stroke-width:8.64\"/>\n",
       "\t<circle cx=\"3623.52\" cy=\"792.27\" r=\"26.35\" style=\"fill:#1A476F\"/>\n",
       "\t<circle cx=\"3623.52\" cy=\"792.27\" r=\"22.03\" style=\"fill:none;stroke:#1A476F;stroke-width:8.64\"/>\n",
       "\t<circle cx=\"870.33\" cy=\"696.36\" r=\"26.35\" style=\"fill:#1A476F\"/>\n",
       "\t<circle cx=\"870.33\" cy=\"696.36\" r=\"22.03\" style=\"fill:none;stroke:#1A476F;stroke-width:8.64\"/>\n",
       "\t<circle cx=\"3795.66\" cy=\"659.61\" r=\"26.35\" style=\"fill:#1A476F\"/>\n",
       "\t<circle cx=\"3795.66\" cy=\"659.61\" r=\"22.03\" style=\"fill:none;stroke:#1A476F;stroke-width:8.64\"/>\n",
       "\t<circle cx=\"3623.52\" cy=\"724.70\" r=\"26.35\" style=\"fill:#1A476F\"/>\n",
       "\t<circle cx=\"3623.52\" cy=\"724.70\" r=\"22.03\" style=\"fill:none;stroke:#1A476F;stroke-width:8.64\"/>\n",
       "\t<circle cx=\"3279.38\" cy=\"1652.86\" r=\"26.35\" style=\"fill:#1A476F\"/>\n",
       "\t<circle cx=\"3279.38\" cy=\"1652.86\" r=\"22.03\" style=\"fill:none;stroke:#1A476F;stroke-width:8.64\"/>\n",
       "\t<circle cx=\"3795.66\" cy=\"630.65\" r=\"26.35\" style=\"fill:#1A476F\"/>\n",
       "\t<circle cx=\"3795.66\" cy=\"630.65\" r=\"22.03\" style=\"fill:none;stroke:#1A476F;stroke-width:8.64\"/>\n",
       "\t<circle cx=\"3451.51\" cy=\"990.90\" r=\"26.35\" style=\"fill:#1A476F\"/>\n",
       "\t<circle cx=\"3451.51\" cy=\"990.90\" r=\"22.03\" style=\"fill:none;stroke:#1A476F;stroke-width:8.64\"/>\n",
       "\t<circle cx=\"2935.23\" cy=\"873.45\" r=\"26.35\" style=\"fill:#1A476F\"/>\n",
       "\t<circle cx=\"2935.23\" cy=\"873.45\" r=\"22.03\" style=\"fill:none;stroke:#1A476F;stroke-width:8.64\"/>\n",
       "\t<circle cx=\"3451.51\" cy=\"1029.14\" r=\"26.35\" style=\"fill:#1A476F\"/>\n",
       "\t<circle cx=\"3451.51\" cy=\"1029.14\" r=\"22.03\" style=\"fill:none;stroke:#1A476F;stroke-width:8.64\"/>\n",
       "\t<circle cx=\"1042.35\" cy=\"1806.44\" r=\"26.35\" style=\"fill:#1A476F\"/>\n",
       "\t<circle cx=\"1042.35\" cy=\"1806.44\" r=\"22.03\" style=\"fill:none;stroke:#1A476F;stroke-width:8.64\"/>\n",
       "\t<circle cx=\"1558.63\" cy=\"1442.85\" r=\"26.35\" style=\"fill:#1A476F\"/>\n",
       "\t<circle cx=\"1558.63\" cy=\"1442.85\" r=\"22.03\" style=\"fill:none;stroke:#1A476F;stroke-width:8.64\"/>\n",
       "\t<circle cx=\"870.33\" cy=\"1460.05\" r=\"26.35\" style=\"fill:#1A476F\"/>\n",
       "\t<circle cx=\"870.33\" cy=\"1460.05\" r=\"22.03\" style=\"fill:none;stroke:#1A476F;stroke-width:8.64\"/>\n",
       "\t<circle cx=\"3623.52\" cy=\"814.55\" r=\"26.35\" style=\"fill:#1A476F\"/>\n",
       "\t<circle cx=\"3623.52\" cy=\"814.55\" r=\"22.03\" style=\"fill:none;stroke:#1A476F;stroke-width:8.64\"/>\n",
       "\t<circle cx=\"2419.07\" cy=\"1163.78\" r=\"26.35\" style=\"fill:#1A476F\"/>\n",
       "\t<circle cx=\"2419.07\" cy=\"1163.78\" r=\"22.03\" style=\"fill:none;stroke:#1A476F;stroke-width:8.64\"/>\n",
       "\t<circle cx=\"3795.66\" cy=\"606.52\" r=\"26.35\" style=\"fill:#1A476F\"/>\n",
       "\t<circle cx=\"3795.66\" cy=\"606.52\" r=\"22.03\" style=\"fill:none;stroke:#1A476F;stroke-width:8.64\"/>\n",
       "\t<circle cx=\"3623.52\" cy=\"531.77\" r=\"26.35\" style=\"fill:#1A476F\"/>\n",
       "\t<circle cx=\"3623.52\" cy=\"531.77\" r=\"22.03\" style=\"fill:none;stroke:#1A476F;stroke-width:8.64\"/>\n",
       "\t<circle cx=\"2591.08\" cy=\"1568.83\" r=\"26.35\" style=\"fill:#1A476F\"/>\n",
       "\t<circle cx=\"2591.08\" cy=\"1568.83\" r=\"22.03\" style=\"fill:none;stroke:#1A476F;stroke-width:8.64\"/>\n",
       "\t<circle cx=\"2591.08\" cy=\"1407.95\" r=\"26.35\" style=\"fill:#1A476F\"/>\n",
       "\t<circle cx=\"2591.08\" cy=\"1407.95\" r=\"22.03\" style=\"fill:none;stroke:#1A476F;stroke-width:8.64\"/>\n",
       "\t<circle cx=\"3279.38\" cy=\"1025.80\" r=\"26.35\" style=\"fill:#1A476F\"/>\n",
       "\t<circle cx=\"3279.38\" cy=\"1025.80\" r=\"22.03\" style=\"fill:none;stroke:#1A476F;stroke-width:8.64\"/>\n",
       "\t<circle cx=\"1214.48\" cy=\"1633.06\" r=\"26.35\" style=\"fill:#1A476F\"/>\n",
       "\t<circle cx=\"1214.48\" cy=\"1633.06\" r=\"22.03\" style=\"fill:none;stroke:#1A476F;stroke-width:8.64\"/>\n",
       "\t<circle cx=\"3795.66\" cy=\"611.10\" r=\"26.35\" style=\"fill:#1A476F\"/>\n",
       "\t<circle cx=\"3795.66\" cy=\"611.10\" r=\"22.03\" style=\"fill:none;stroke:#1A476F;stroke-width:8.64\"/>\n",
       "\t<circle cx=\"3451.51\" cy=\"1562.89\" r=\"26.35\" style=\"fill:#1A476F\"/>\n",
       "\t<circle cx=\"3451.51\" cy=\"1562.89\" r=\"22.03\" style=\"fill:none;stroke:#1A476F;stroke-width:8.64\"/>\n",
       "\t<circle cx=\"3795.66\" cy=\"593.77\" r=\"26.35\" style=\"fill:#1A476F\"/>\n",
       "\t<circle cx=\"3795.66\" cy=\"593.77\" r=\"22.03\" style=\"fill:none;stroke:#1A476F;stroke-width:8.64\"/>\n",
       "\t<circle cx=\"3451.51\" cy=\"1028.77\" r=\"26.35\" style=\"fill:#1A476F\"/>\n",
       "\t<circle cx=\"3451.51\" cy=\"1028.77\" r=\"22.03\" style=\"fill:none;stroke:#1A476F;stroke-width:8.64\"/>\n",
       "\t<circle cx=\"2763.21\" cy=\"1727.73\" r=\"26.35\" style=\"fill:#1A476F\"/>\n",
       "\t<circle cx=\"2763.21\" cy=\"1727.73\" r=\"22.03\" style=\"fill:none;stroke:#1A476F;stroke-width:8.64\"/>\n",
       "\t<circle cx=\"3107.36\" cy=\"1346.57\" r=\"26.35\" style=\"fill:#1A476F\"/>\n",
       "\t<circle cx=\"3107.36\" cy=\"1346.57\" r=\"22.03\" style=\"fill:none;stroke:#1A476F;stroke-width:8.64\"/>\n",
       "\t<circle cx=\"2074.92\" cy=\"1532.82\" r=\"26.35\" style=\"fill:#1A476F\"/>\n",
       "\t<circle cx=\"2074.92\" cy=\"1532.82\" r=\"22.03\" style=\"fill:none;stroke:#1A476F;stroke-width:8.64\"/>\n",
       "\t<circle cx=\"3279.38\" cy=\"1010.33\" r=\"26.35\" style=\"fill:#1A476F\"/>\n",
       "\t<circle cx=\"3279.38\" cy=\"1010.33\" r=\"22.03\" style=\"fill:none;stroke:#1A476F;stroke-width:8.64\"/>\n",
       "\t<circle cx=\"3795.66\" cy=\"878.28\" r=\"26.35\" style=\"fill:#1A476F\"/>\n",
       "\t<circle cx=\"3795.66\" cy=\"878.28\" r=\"22.03\" style=\"fill:none;stroke:#1A476F;stroke-width:8.64\"/>\n",
       "\t<circle cx=\"3623.52\" cy=\"1265.14\" r=\"26.35\" style=\"fill:#1A476F\"/>\n",
       "\t<circle cx=\"3623.52\" cy=\"1265.14\" r=\"22.03\" style=\"fill:none;stroke:#1A476F;stroke-width:8.64\"/>\n",
       "\t<circle cx=\"3623.52\" cy=\"1224.05\" r=\"26.35\" style=\"fill:#1A476F\"/>\n",
       "\t<circle cx=\"3623.52\" cy=\"1224.05\" r=\"22.03\" style=\"fill:none;stroke:#1A476F;stroke-width:8.64\"/>\n",
       "\t<circle cx=\"870.33\" cy=\"892.51\" r=\"26.35\" style=\"fill:#1A476F\"/>\n",
       "\t<circle cx=\"870.33\" cy=\"892.51\" r=\"22.03\" style=\"fill:none;stroke:#1A476F;stroke-width:8.64\"/>\n",
       "\t<circle cx=\"3107.36\" cy=\"1196.08\" r=\"26.35\" style=\"fill:#1A476F\"/>\n",
       "\t<circle cx=\"3107.36\" cy=\"1196.08\" r=\"22.03\" style=\"fill:none;stroke:#1A476F;stroke-width:8.64\"/>\n",
       "\t<circle cx=\"3795.66\" cy=\"598.10\" r=\"26.35\" style=\"fill:#1A476F\"/>\n",
       "\t<circle cx=\"3795.66\" cy=\"598.10\" r=\"22.03\" style=\"fill:none;stroke:#1A476F;stroke-width:8.64\"/>\n",
       "\t<circle cx=\"3107.36\" cy=\"557.76\" r=\"26.35\" style=\"fill:#1A476F\"/>\n",
       "\t<circle cx=\"3107.36\" cy=\"557.76\" r=\"22.03\" style=\"fill:none;stroke:#1A476F;stroke-width:8.64\"/>\n",
       "\t<circle cx=\"3795.66\" cy=\"510.73\" r=\"26.35\" style=\"fill:#1A476F\"/>\n",
       "\t<circle cx=\"3795.66\" cy=\"510.73\" r=\"22.03\" style=\"fill:none;stroke:#1A476F;stroke-width:8.64\"/>\n",
       "\t<circle cx=\"2763.21\" cy=\"2042.68\" r=\"26.35\" style=\"fill:#1A476F\"/>\n",
       "\t<circle cx=\"2763.21\" cy=\"2042.68\" r=\"22.03\" style=\"fill:none;stroke:#1A476F;stroke-width:8.64\"/>\n",
       "\t<circle cx=\"3623.52\" cy=\"883.48\" r=\"26.35\" style=\"fill:#1A476F\"/>\n",
       "\t<circle cx=\"3623.52\" cy=\"883.48\" r=\"22.03\" style=\"fill:none;stroke:#1A476F;stroke-width:8.64\"/>\n",
       "\t<circle cx=\"3795.66\" cy=\"485.86\" r=\"26.35\" style=\"fill:#1A476F\"/>\n",
       "\t<circle cx=\"3795.66\" cy=\"485.86\" r=\"22.03\" style=\"fill:none;stroke:#1A476F;stroke-width:8.64\"/>\n",
       "\t<circle cx=\"1042.35\" cy=\"1086.06\" r=\"26.35\" style=\"fill:#1A476F\"/>\n",
       "\t<circle cx=\"1042.35\" cy=\"1086.06\" r=\"22.03\" style=\"fill:none;stroke:#1A476F;stroke-width:8.64\"/>\n",
       "\t<circle cx=\"1558.63\" cy=\"964.41\" r=\"26.35\" style=\"fill:#1A476F\"/>\n",
       "\t<circle cx=\"1558.63\" cy=\"964.41\" r=\"22.03\" style=\"fill:none;stroke:#1A476F;stroke-width:8.64\"/>\n",
       "\t<circle cx=\"3623.52\" cy=\"1358.20\" r=\"26.35\" style=\"fill:#1A476F\"/>\n",
       "\t<circle cx=\"3623.52\" cy=\"1358.20\" r=\"22.03\" style=\"fill:none;stroke:#1A476F;stroke-width:8.64\"/>\n",
       "\t<circle cx=\"354.05\" cy=\"1119.60\" r=\"26.35\" style=\"fill:#1A476F\"/>\n",
       "\t<circle cx=\"354.05\" cy=\"1119.60\" r=\"22.03\" style=\"fill:none;stroke:#1A476F;stroke-width:8.64\"/>\n",
       "\t<circle cx=\"3451.51\" cy=\"557.63\" r=\"26.35\" style=\"fill:#1A476F\"/>\n",
       "\t<circle cx=\"3451.51\" cy=\"557.63\" r=\"22.03\" style=\"fill:none;stroke:#1A476F;stroke-width:8.64\"/>\n",
       "\t<circle cx=\"870.33\" cy=\"935.46\" r=\"26.35\" style=\"fill:#1A476F\"/>\n",
       "\t<circle cx=\"870.33\" cy=\"935.46\" r=\"22.03\" style=\"fill:none;stroke:#1A476F;stroke-width:8.64\"/>\n",
       "\t<circle cx=\"3279.38\" cy=\"1147.07\" r=\"26.35\" style=\"fill:#1A476F\"/>\n",
       "\t<circle cx=\"3279.38\" cy=\"1147.07\" r=\"22.03\" style=\"fill:none;stroke:#1A476F;stroke-width:8.64\"/>\n",
       "\t<circle cx=\"870.33\" cy=\"1371.81\" r=\"26.35\" style=\"fill:#1A476F\"/>\n",
       "\t<circle cx=\"870.33\" cy=\"1371.81\" r=\"22.03\" style=\"fill:none;stroke:#1A476F;stroke-width:8.64\"/>\n",
       "\t<circle cx=\"3107.36\" cy=\"699.58\" r=\"26.35\" style=\"fill:#1A476F\"/>\n",
       "\t<circle cx=\"3107.36\" cy=\"699.58\" r=\"22.03\" style=\"fill:none;stroke:#1A476F;stroke-width:8.64\"/>\n",
       "\t<circle cx=\"3451.51\" cy=\"2015.21\" r=\"26.35\" style=\"fill:#1A476F\"/>\n",
       "\t<circle cx=\"3451.51\" cy=\"2015.21\" r=\"22.03\" style=\"fill:none;stroke:#1A476F;stroke-width:8.64\"/>\n",
       "\t<circle cx=\"3451.51\" cy=\"960.45\" r=\"26.35\" style=\"fill:#1A476F\"/>\n",
       "\t<circle cx=\"3451.51\" cy=\"960.45\" r=\"22.03\" style=\"fill:none;stroke:#1A476F;stroke-width:8.64\"/>\n",
       "\t<circle cx=\"3107.36\" cy=\"1593.58\" r=\"26.35\" style=\"fill:#1A476F\"/>\n",
       "\t<circle cx=\"3107.36\" cy=\"1593.58\" r=\"22.03\" style=\"fill:none;stroke:#1A476F;stroke-width:8.64\"/>\n",
       "\t<circle cx=\"2074.92\" cy=\"1081.11\" r=\"26.35\" style=\"fill:#1A476F\"/>\n",
       "\t<circle cx=\"2074.92\" cy=\"1081.11\" r=\"22.03\" style=\"fill:none;stroke:#1A476F;stroke-width:8.64\"/>\n",
       "\t<circle cx=\"3795.66\" cy=\"940.78\" r=\"26.35\" style=\"fill:#1A476F\"/>\n",
       "\t<circle cx=\"3795.66\" cy=\"940.78\" r=\"22.03\" style=\"fill:none;stroke:#1A476F;stroke-width:8.64\"/>\n",
       "\t<circle cx=\"3795.66\" cy=\"553.92\" r=\"26.35\" style=\"fill:#1A476F\"/>\n",
       "\t<circle cx=\"3795.66\" cy=\"553.92\" r=\"22.03\" style=\"fill:none;stroke:#1A476F;stroke-width:8.64\"/>\n",
       "\t<circle cx=\"3107.36\" cy=\"1413.02\" r=\"26.35\" style=\"fill:#1A476F\"/>\n",
       "\t<circle cx=\"3107.36\" cy=\"1413.02\" r=\"22.03\" style=\"fill:none;stroke:#1A476F;stroke-width:8.64\"/>\n",
       "\t<circle cx=\"3107.36\" cy=\"1577.74\" r=\"26.35\" style=\"fill:#1A476F\"/>\n",
       "\t<circle cx=\"3107.36\" cy=\"1577.74\" r=\"22.03\" style=\"fill:none;stroke:#1A476F;stroke-width:8.64\"/>\n",
       "\t<circle cx=\"2935.23\" cy=\"913.80\" r=\"26.35\" style=\"fill:#1A476F\"/>\n",
       "\t<circle cx=\"2935.23\" cy=\"913.80\" r=\"22.03\" style=\"fill:none;stroke:#1A476F;stroke-width:8.64\"/>\n",
       "\t<circle cx=\"2935.23\" cy=\"1819.92\" r=\"26.35\" style=\"fill:#1A476F\"/>\n",
       "\t<circle cx=\"2935.23\" cy=\"1819.92\" r=\"22.03\" style=\"fill:none;stroke:#1A476F;stroke-width:8.64\"/>\n",
       "\t<circle cx=\"1730.77\" cy=\"1524.90\" r=\"26.35\" style=\"fill:#1A476F\"/>\n",
       "\t<circle cx=\"1730.77\" cy=\"1524.90\" r=\"22.03\" style=\"fill:none;stroke:#1A476F;stroke-width:8.64\"/>\n",
       "\t<circle cx=\"3795.66\" cy=\"956.99\" r=\"26.35\" style=\"fill:#1A476F\"/>\n",
       "\t<circle cx=\"3795.66\" cy=\"956.99\" r=\"22.03\" style=\"fill:none;stroke:#1A476F;stroke-width:8.64\"/>\n",
       "\t<circle cx=\"3451.51\" cy=\"831.25\" r=\"26.35\" style=\"fill:#1A476F\"/>\n",
       "\t<circle cx=\"3451.51\" cy=\"831.25\" r=\"22.03\" style=\"fill:none;stroke:#1A476F;stroke-width:8.64\"/>\n",
       "\t<circle cx=\"3795.66\" cy=\"1223.31\" r=\"26.35\" style=\"fill:#1A476F\"/>\n",
       "\t<circle cx=\"3795.66\" cy=\"1223.31\" r=\"22.03\" style=\"fill:none;stroke:#1A476F;stroke-width:8.64\"/>\n",
       "\t<circle cx=\"3623.52\" cy=\"1109.08\" r=\"26.35\" style=\"fill:#1A476F\"/>\n",
       "\t<circle cx=\"3623.52\" cy=\"1109.08\" r=\"22.03\" style=\"fill:none;stroke:#1A476F;stroke-width:8.64\"/>\n",
       "\t<circle cx=\"3623.52\" cy=\"834.35\" r=\"26.35\" style=\"fill:#1A476F\"/>\n",
       "\t<circle cx=\"3623.52\" cy=\"834.35\" r=\"22.03\" style=\"fill:none;stroke:#1A476F;stroke-width:8.64\"/>\n",
       "\t<circle cx=\"1386.49\" cy=\"903.77\" r=\"26.35\" style=\"fill:#1A476F\"/>\n",
       "\t<circle cx=\"1386.49\" cy=\"903.77\" r=\"22.03\" style=\"fill:none;stroke:#1A476F;stroke-width:8.64\"/>\n",
       "\t<circle cx=\"2935.23\" cy=\"1819.55\" r=\"26.35\" style=\"fill:#1A476F\"/>\n",
       "\t<circle cx=\"2935.23\" cy=\"1819.55\" r=\"22.03\" style=\"fill:none;stroke:#1A476F;stroke-width:8.64\"/>\n",
       "\t<circle cx=\"698.20\" cy=\"821.48\" r=\"26.35\" style=\"fill:#1A476F\"/>\n",
       "\t<circle cx=\"698.20\" cy=\"821.48\" r=\"22.03\" style=\"fill:none;stroke:#1A476F;stroke-width:8.64\"/>\n",
       "\t<circle cx=\"3107.36\" cy=\"1526.50\" r=\"26.35\" style=\"fill:#1A476F\"/>\n",
       "\t<circle cx=\"3107.36\" cy=\"1526.50\" r=\"22.03\" style=\"fill:none;stroke:#1A476F;stroke-width:8.64\"/>\n",
       "\t<circle cx=\"3107.36\" cy=\"1192.49\" r=\"26.35\" style=\"fill:#1A476F\"/>\n",
       "\t<circle cx=\"3107.36\" cy=\"1192.49\" r=\"22.03\" style=\"fill:none;stroke:#1A476F;stroke-width:8.64\"/>\n",
       "\t<circle cx=\"3795.66\" cy=\"580.16\" r=\"26.35\" style=\"fill:#1A476F\"/>\n",
       "\t<circle cx=\"3795.66\" cy=\"580.16\" r=\"22.03\" style=\"fill:none;stroke:#1A476F;stroke-width:8.64\"/>\n",
       "\t<circle cx=\"3795.66\" cy=\"595.26\" r=\"26.35\" style=\"fill:#1A476F\"/>\n",
       "\t<circle cx=\"3795.66\" cy=\"595.26\" r=\"22.03\" style=\"fill:none;stroke:#1A476F;stroke-width:8.64\"/>\n",
       "\t<circle cx=\"3623.52\" cy=\"927.91\" r=\"26.35\" style=\"fill:#1A476F\"/>\n",
       "\t<circle cx=\"3623.52\" cy=\"927.91\" r=\"22.03\" style=\"fill:none;stroke:#1A476F;stroke-width:8.64\"/>\n",
       "\t<circle cx=\"3107.36\" cy=\"1706.94\" r=\"26.35\" style=\"fill:#1A476F\"/>\n",
       "\t<circle cx=\"3107.36\" cy=\"1706.94\" r=\"22.03\" style=\"fill:none;stroke:#1A476F;stroke-width:8.64\"/>\n",
       "\t<circle cx=\"2763.21\" cy=\"2042.93\" r=\"26.35\" style=\"fill:#1A476F\"/>\n",
       "\t<circle cx=\"2763.21\" cy=\"2042.93\" r=\"22.03\" style=\"fill:none;stroke:#1A476F;stroke-width:8.64\"/>\n",
       "\t<circle cx=\"3795.66\" cy=\"560.48\" r=\"26.35\" style=\"fill:#1A476F\"/>\n",
       "\t<circle cx=\"3795.66\" cy=\"560.48\" r=\"22.03\" style=\"fill:none;stroke:#1A476F;stroke-width:8.64\"/>\n",
       "\t<circle cx=\"3279.38\" cy=\"1360.43\" r=\"26.35\" style=\"fill:#1A476F\"/>\n",
       "\t<circle cx=\"3279.38\" cy=\"1360.43\" r=\"22.03\" style=\"fill:none;stroke:#1A476F;stroke-width:8.64\"/>\n",
       "\t<circle cx=\"3623.52\" cy=\"784.85\" r=\"26.35\" style=\"fill:#1A476F\"/>\n",
       "\t<circle cx=\"3623.52\" cy=\"784.85\" r=\"22.03\" style=\"fill:none;stroke:#1A476F;stroke-width:8.64\"/>\n",
       "\t<circle cx=\"2935.23\" cy=\"1406.34\" r=\"26.35\" style=\"fill:#1A476F\"/>\n",
       "\t<circle cx=\"2935.23\" cy=\"1406.34\" r=\"22.03\" style=\"fill:none;stroke:#1A476F;stroke-width:8.64\"/>\n",
       "\t<circle cx=\"3623.52\" cy=\"1020.23\" r=\"26.35\" style=\"fill:#1A476F\"/>\n",
       "\t<circle cx=\"3623.52\" cy=\"1020.23\" r=\"22.03\" style=\"fill:none;stroke:#1A476F;stroke-width:8.64\"/>\n",
       "\t<circle cx=\"3623.52\" cy=\"942.39\" r=\"26.35\" style=\"fill:#1A476F\"/>\n",
       "\t<circle cx=\"3623.52\" cy=\"942.39\" r=\"22.03\" style=\"fill:none;stroke:#1A476F;stroke-width:8.64\"/>\n",
       "\t<circle cx=\"3451.51\" cy=\"1223.93\" r=\"26.35\" style=\"fill:#1A476F\"/>\n",
       "\t<circle cx=\"3451.51\" cy=\"1223.93\" r=\"22.03\" style=\"fill:none;stroke:#1A476F;stroke-width:8.64\"/>\n",
       "\t<circle cx=\"3795.66\" cy=\"785.96\" r=\"26.35\" style=\"fill:#1A476F\"/>\n",
       "\t<circle cx=\"3795.66\" cy=\"785.96\" r=\"22.03\" style=\"fill:none;stroke:#1A476F;stroke-width:8.64\"/>\n",
       "\t<circle cx=\"3795.66\" cy=\"609.49\" r=\"26.35\" style=\"fill:#1A476F\"/>\n",
       "\t<circle cx=\"3795.66\" cy=\"609.49\" r=\"22.03\" style=\"fill:none;stroke:#1A476F;stroke-width:8.64\"/>\n",
       "\t<circle cx=\"3107.36\" cy=\"1841.95\" r=\"26.35\" style=\"fill:#1A476F\"/>\n",
       "\t<circle cx=\"3107.36\" cy=\"1841.95\" r=\"22.03\" style=\"fill:none;stroke:#1A476F;stroke-width:8.64\"/>\n",
       "\t<circle cx=\"3451.51\" cy=\"1252.88\" r=\"26.35\" style=\"fill:#1A476F\"/>\n",
       "\t<circle cx=\"3451.51\" cy=\"1252.88\" r=\"22.03\" style=\"fill:none;stroke:#1A476F;stroke-width:8.64\"/>\n",
       "\t<circle cx=\"354.05\" cy=\"750.81\" r=\"26.35\" style=\"fill:#1A476F\"/>\n",
       "\t<circle cx=\"354.05\" cy=\"750.81\" r=\"22.03\" style=\"fill:none;stroke:#1A476F;stroke-width:8.64\"/>\n",
       "\t<circle cx=\"3623.52\" cy=\"918.50\" r=\"26.35\" style=\"fill:#1A476F\"/>\n",
       "\t<circle cx=\"3623.52\" cy=\"918.50\" r=\"22.03\" style=\"fill:none;stroke:#1A476F;stroke-width:8.64\"/>\n",
       "\t<circle cx=\"2763.21\" cy=\"1130.00\" r=\"26.35\" style=\"fill:#1A476F\"/>\n",
       "\t<circle cx=\"2763.21\" cy=\"1130.00\" r=\"22.03\" style=\"fill:none;stroke:#1A476F;stroke-width:8.64\"/>\n",
       "\t<circle cx=\"1558.63\" cy=\"1362.28\" r=\"26.35\" style=\"fill:#1A476F\"/>\n",
       "\t<circle cx=\"1558.63\" cy=\"1362.28\" r=\"22.03\" style=\"fill:none;stroke:#1A476F;stroke-width:8.64\"/>\n",
       "\t<circle cx=\"354.05\" cy=\"946.72\" r=\"26.35\" style=\"fill:#1A476F\"/>\n",
       "\t<circle cx=\"354.05\" cy=\"946.72\" r=\"22.03\" style=\"fill:none;stroke:#1A476F;stroke-width:8.64\"/>\n",
       "\t<circle cx=\"3279.38\" cy=\"1354.98\" r=\"26.35\" style=\"fill:#1A476F\"/>\n",
       "\t<circle cx=\"3279.38\" cy=\"1354.98\" r=\"22.03\" style=\"fill:none;stroke:#1A476F;stroke-width:8.64\"/>\n",
       "\t<circle cx=\"3451.51\" cy=\"899.69\" r=\"26.35\" style=\"fill:#1A476F\"/>\n",
       "\t<circle cx=\"3451.51\" cy=\"899.69\" r=\"22.03\" style=\"fill:none;stroke:#1A476F;stroke-width:8.64\"/>\n",
       "\t<circle cx=\"3279.38\" cy=\"2123.12\" r=\"26.35\" style=\"fill:#1A476F\"/>\n",
       "\t<circle cx=\"3279.38\" cy=\"2123.12\" r=\"22.03\" style=\"fill:none;stroke:#1A476F;stroke-width:8.64\"/>\n",
       "\t<circle cx=\"1730.77\" cy=\"540.68\" r=\"26.35\" style=\"fill:#1A476F\"/>\n",
       "\t<circle cx=\"1730.77\" cy=\"540.68\" r=\"22.03\" style=\"fill:none;stroke:#1A476F;stroke-width:8.64\"/>\n",
       "\t<circle cx=\"3795.66\" cy=\"825.69\" r=\"26.35\" style=\"fill:#1A476F\"/>\n",
       "\t<circle cx=\"3795.66\" cy=\"825.69\" r=\"22.03\" style=\"fill:none;stroke:#1A476F;stroke-width:8.64\"/>\n",
       "\t<circle cx=\"870.33\" cy=\"881.62\" r=\"26.35\" style=\"fill:#1A476F\"/>\n",
       "\t<circle cx=\"870.33\" cy=\"881.62\" r=\"22.03\" style=\"fill:none;stroke:#1A476F;stroke-width:8.64\"/>\n",
       "\t<circle cx=\"3795.66\" cy=\"611.72\" r=\"26.35\" style=\"fill:#1A476F\"/>\n",
       "\t<circle cx=\"3795.66\" cy=\"611.72\" r=\"22.03\" style=\"fill:none;stroke:#1A476F;stroke-width:8.64\"/>\n",
       "\t<circle cx=\"2935.23\" cy=\"1896.28\" r=\"26.35\" style=\"fill:#1A476F\"/>\n",
       "\t<circle cx=\"2935.23\" cy=\"1896.28\" r=\"22.03\" style=\"fill:none;stroke:#1A476F;stroke-width:8.64\"/>\n",
       "\t<circle cx=\"3623.52\" cy=\"1620.93\" r=\"26.35\" style=\"fill:#1A476F\"/>\n",
       "\t<circle cx=\"3623.52\" cy=\"1620.93\" r=\"22.03\" style=\"fill:none;stroke:#1A476F;stroke-width:8.64\"/>\n",
       "\t<circle cx=\"2763.21\" cy=\"1706.69\" r=\"26.35\" style=\"fill:#1A476F\"/>\n",
       "\t<circle cx=\"2763.21\" cy=\"1706.69\" r=\"22.03\" style=\"fill:none;stroke:#1A476F;stroke-width:8.64\"/>\n",
       "\t<circle cx=\"3795.66\" cy=\"503.80\" r=\"26.35\" style=\"fill:#1A476F\"/>\n",
       "\t<circle cx=\"3795.66\" cy=\"503.80\" r=\"22.03\" style=\"fill:none;stroke:#1A476F;stroke-width:8.64\"/>\n",
       "\t<circle cx=\"2074.92\" cy=\"1879.70\" r=\"26.35\" style=\"fill:#1A476F\"/>\n",
       "\t<circle cx=\"2074.92\" cy=\"1879.70\" r=\"22.03\" style=\"fill:none;stroke:#1A476F;stroke-width:8.64\"/>\n",
       "\t<circle cx=\"1386.49\" cy=\"1469.45\" r=\"26.35\" style=\"fill:#1A476F\"/>\n",
       "\t<circle cx=\"1386.49\" cy=\"1469.45\" r=\"22.03\" style=\"fill:none;stroke:#1A476F;stroke-width:8.64\"/>\n",
       "\t<circle cx=\"2935.23\" cy=\"1109.82\" r=\"26.35\" style=\"fill:#1A476F\"/>\n",
       "\t<circle cx=\"2935.23\" cy=\"1109.82\" r=\"22.03\" style=\"fill:none;stroke:#1A476F;stroke-width:8.64\"/>\n",
       "\t<circle cx=\"526.18\" cy=\"1864.35\" r=\"26.35\" style=\"fill:#1A476F\"/>\n",
       "\t<circle cx=\"526.18\" cy=\"1864.35\" r=\"22.03\" style=\"fill:none;stroke:#1A476F;stroke-width:8.64\"/>\n",
       "\t<circle cx=\"3795.66\" cy=\"552.68\" r=\"26.35\" style=\"fill:#1A476F\"/>\n",
       "\t<circle cx=\"3795.66\" cy=\"552.68\" r=\"22.03\" style=\"fill:none;stroke:#1A476F;stroke-width:8.64\"/>\n",
       "\t<circle cx=\"3795.66\" cy=\"505.41\" r=\"26.35\" style=\"fill:#1A476F\"/>\n",
       "\t<circle cx=\"3795.66\" cy=\"505.41\" r=\"22.03\" style=\"fill:none;stroke:#1A476F;stroke-width:8.64\"/>\n",
       "\t<circle cx=\"526.18\" cy=\"1159.08\" r=\"26.35\" style=\"fill:#1A476F\"/>\n",
       "\t<circle cx=\"526.18\" cy=\"1159.08\" r=\"22.03\" style=\"fill:none;stroke:#1A476F;stroke-width:8.64\"/>\n",
       "\t<circle cx=\"1558.63\" cy=\"1125.79\" r=\"26.35\" style=\"fill:#1A476F\"/>\n",
       "\t<circle cx=\"1558.63\" cy=\"1125.79\" r=\"22.03\" style=\"fill:none;stroke:#1A476F;stroke-width:8.64\"/>\n",
       "\t<circle cx=\"1558.63\" cy=\"923.33\" r=\"26.35\" style=\"fill:#1A476F\"/>\n",
       "\t<circle cx=\"1558.63\" cy=\"923.33\" r=\"22.03\" style=\"fill:none;stroke:#1A476F;stroke-width:8.64\"/>\n",
       "\t<circle cx=\"1730.77\" cy=\"1690.11\" r=\"26.35\" style=\"fill:#1A476F\"/>\n",
       "\t<circle cx=\"1730.77\" cy=\"1690.11\" r=\"22.03\" style=\"fill:none;stroke:#1A476F;stroke-width:8.64\"/>\n",
       "\t<circle cx=\"3795.66\" cy=\"1144.23\" r=\"26.35\" style=\"fill:#1A476F\"/>\n",
       "\t<circle cx=\"3795.66\" cy=\"1144.23\" r=\"22.03\" style=\"fill:none;stroke:#1A476F;stroke-width:8.64\"/>\n",
       "\t<circle cx=\"698.20\" cy=\"799.70\" r=\"26.35\" style=\"fill:#1A476F\"/>\n",
       "\t<circle cx=\"698.20\" cy=\"799.70\" r=\"22.03\" style=\"fill:none;stroke:#1A476F;stroke-width:8.64\"/>\n",
       "\t<circle cx=\"3279.38\" cy=\"900.80\" r=\"26.35\" style=\"fill:#1A476F\"/>\n",
       "\t<circle cx=\"3279.38\" cy=\"900.80\" r=\"22.03\" style=\"fill:none;stroke:#1A476F;stroke-width:8.64\"/>\n",
       "\t<circle cx=\"2591.08\" cy=\"908.85\" r=\"26.35\" style=\"fill:#1A476F\"/>\n",
       "\t<circle cx=\"2591.08\" cy=\"908.85\" r=\"22.03\" style=\"fill:none;stroke:#1A476F;stroke-width:8.64\"/>\n",
       "\t<circle cx=\"698.20\" cy=\"1293.10\" r=\"26.35\" style=\"fill:#1A476F\"/>\n",
       "\t<circle cx=\"698.20\" cy=\"1293.10\" r=\"22.03\" style=\"fill:none;stroke:#1A476F;stroke-width:8.64\"/>\n",
       "\t<circle cx=\"1902.78\" cy=\"1711.14\" r=\"26.35\" style=\"fill:#1A476F\"/>\n",
       "\t<circle cx=\"1902.78\" cy=\"1711.14\" r=\"22.03\" style=\"fill:none;stroke:#1A476F;stroke-width:8.64\"/>\n",
       "\t<circle cx=\"2763.21\" cy=\"1107.84\" r=\"26.35\" style=\"fill:#1A476F\"/>\n",
       "\t<circle cx=\"2763.21\" cy=\"1107.84\" r=\"22.03\" style=\"fill:none;stroke:#1A476F;stroke-width:8.64\"/>\n",
       "\t<circle cx=\"3623.52\" cy=\"898.58\" r=\"26.35\" style=\"fill:#1A476F\"/>\n",
       "\t<circle cx=\"3623.52\" cy=\"898.58\" r=\"22.03\" style=\"fill:none;stroke:#1A476F;stroke-width:8.64\"/>\n",
       "\t<circle cx=\"1386.49\" cy=\"1111.68\" r=\"26.35\" style=\"fill:#1A476F\"/>\n",
       "\t<circle cx=\"1386.49\" cy=\"1111.68\" r=\"22.03\" style=\"fill:none;stroke:#1A476F;stroke-width:8.64\"/>\n",
       "\t<circle cx=\"3795.66\" cy=\"600.33\" r=\"26.35\" style=\"fill:#1A476F\"/>\n",
       "\t<circle cx=\"3795.66\" cy=\"600.33\" r=\"22.03\" style=\"fill:none;stroke:#1A476F;stroke-width:8.64\"/>\n",
       "\t<circle cx=\"1902.78\" cy=\"1462.28\" r=\"26.35\" style=\"fill:#1A476F\"/>\n",
       "\t<circle cx=\"1902.78\" cy=\"1462.28\" r=\"22.03\" style=\"fill:none;stroke:#1A476F;stroke-width:8.64\"/>\n",
       "\t<circle cx=\"3795.66\" cy=\"728.91\" r=\"26.35\" style=\"fill:#1A476F\"/>\n",
       "\t<circle cx=\"3795.66\" cy=\"728.91\" r=\"22.03\" style=\"fill:none;stroke:#1A476F;stroke-width:8.64\"/>\n",
       "\t<circle cx=\"2074.92\" cy=\"1700.13\" r=\"26.35\" style=\"fill:#1A476F\"/>\n",
       "\t<circle cx=\"2074.92\" cy=\"1700.13\" r=\"22.03\" style=\"fill:none;stroke:#1A476F;stroke-width:8.64\"/>\n",
       "\t<circle cx=\"3795.66\" cy=\"817.15\" r=\"26.35\" style=\"fill:#1A476F\"/>\n",
       "\t<circle cx=\"3795.66\" cy=\"817.15\" r=\"22.03\" style=\"fill:none;stroke:#1A476F;stroke-width:8.64\"/>\n",
       "\t<circle cx=\"526.18\" cy=\"1117.50\" r=\"26.35\" style=\"fill:#1A476F\"/>\n",
       "\t<circle cx=\"526.18\" cy=\"1117.50\" r=\"22.03\" style=\"fill:none;stroke:#1A476F;stroke-width:8.64\"/>\n",
       "\t<circle cx=\"2763.21\" cy=\"955.38\" r=\"26.35\" style=\"fill:#1A476F\"/>\n",
       "\t<circle cx=\"2763.21\" cy=\"955.38\" r=\"22.03\" style=\"fill:none;stroke:#1A476F;stroke-width:8.64\"/>\n",
       "\t<circle cx=\"2074.92\" cy=\"1442.85\" r=\"26.35\" style=\"fill:#1A476F\"/>\n",
       "\t<circle cx=\"2074.92\" cy=\"1442.85\" r=\"22.03\" style=\"fill:none;stroke:#1A476F;stroke-width:8.64\"/>\n",
       "\t<circle cx=\"3279.38\" cy=\"1632.93\" r=\"26.35\" style=\"fill:#1A476F\"/>\n",
       "\t<circle cx=\"3279.38\" cy=\"1632.93\" r=\"22.03\" style=\"fill:none;stroke:#1A476F;stroke-width:8.64\"/>\n",
       "\t<line x1=\"354.05\" y1=\"1405.10\" x2=\"2074.92\" y2=\"1207.34\" stroke-linecap=\"round\" style=\"stroke:#90353B;stroke-width:8.64\"/>\n",
       "\t<line x1=\"2074.92\" y1=\"1207.34\" x2=\"3795.66\" y2=\"1009.58\" stroke-linecap=\"round\" style=\"stroke:#90353B;stroke-width:8.64\"/>\n",
       "\t<line x1=\"290.81\" y1=\"2233.63\" x2=\"290.81\" y2=\"100.86\" style=\"stroke:#000000;stroke-width:5.76\"/>\n",
       "\t<line x1=\"290.81\" y1=\"2170.27\" x2=\"250.84\" y2=\"2170.27\" style=\"stroke:#000000;stroke-width:5.76\"/>\n",
       "\t<text x=\"200.73\" y=\"2170.27\" style=\"font-family:'Helvetica';font-size:99.99px;fill:#000000\" transform=\"rotate(-90 200.73,2170.27)\" text-anchor=\"middle\">50</text>\n",
       "\t<line x1=\"290.81\" y1=\"1668.82\" x2=\"250.84\" y2=\"1668.82\" style=\"stroke:#000000;stroke-width:5.76\"/>\n",
       "\t<text x=\"200.73\" y=\"1668.82\" style=\"font-family:'Helvetica';font-size:99.99px;fill:#000000\" transform=\"rotate(-90 200.73,1668.82)\" text-anchor=\"middle\">60</text>\n",
       "\t<line x1=\"290.81\" y1=\"1167.25\" x2=\"250.84\" y2=\"1167.25\" style=\"stroke:#000000;stroke-width:5.76\"/>\n",
       "\t<text x=\"200.73\" y=\"1167.25\" style=\"font-family:'Helvetica';font-size:99.99px;fill:#000000\" transform=\"rotate(-90 200.73,1167.25)\" text-anchor=\"middle\">70</text>\n",
       "\t<line x1=\"290.81\" y1=\"665.67\" x2=\"250.84\" y2=\"665.67\" style=\"stroke:#000000;stroke-width:5.76\"/>\n",
       "\t<text x=\"200.73\" y=\"665.67\" style=\"font-family:'Helvetica';font-size:99.99px;fill:#000000\" transform=\"rotate(-90 200.73,665.67)\" text-anchor=\"middle\">80</text>\n",
       "\t<line x1=\"290.81\" y1=\"164.22\" x2=\"250.84\" y2=\"164.22\" style=\"stroke:#000000;stroke-width:5.76\"/>\n",
       "\t<text x=\"200.73\" y=\"164.22\" style=\"font-family:'Helvetica';font-size:99.99px;fill:#000000\" transform=\"rotate(-90 200.73,164.22)\" text-anchor=\"middle\">90</text>\n",
       "\t<line x1=\"290.81\" y1=\"2233.63\" x2=\"3859.02\" y2=\"2233.63\" style=\"stroke:#000000;stroke-width:5.76\"/>\n",
       "\t<line x1=\"354.17\" y1=\"2233.63\" x2=\"354.17\" y2=\"2273.73\" style=\"stroke:#000000;stroke-width:5.76\"/>\n",
       "\t<text x=\"354.17\" y=\"2363.59\" style=\"font-family:'Helvetica';font-size:99.99px;fill:#000000\" text-anchor=\"middle\">-10</text>\n",
       "\t<line x1=\"1214.48\" y1=\"2233.63\" x2=\"1214.48\" y2=\"2273.73\" style=\"stroke:#000000;stroke-width:5.76\"/>\n",
       "\t<text x=\"1214.48\" y=\"2363.59\" style=\"font-family:'Helvetica';font-size:99.99px;fill:#000000\" text-anchor=\"middle\">-5</text>\n",
       "\t<line x1=\"2074.92\" y1=\"2233.63\" x2=\"2074.92\" y2=\"2273.73\" style=\"stroke:#000000;stroke-width:5.76\"/>\n",
       "\t<text x=\"2074.92\" y=\"2363.59\" style=\"font-family:'Helvetica';font-size:99.99px;fill:#000000\" text-anchor=\"middle\">0</text>\n",
       "\t<line x1=\"2935.35\" y1=\"2233.63\" x2=\"2935.35\" y2=\"2273.73\" style=\"stroke:#000000;stroke-width:5.76\"/>\n",
       "\t<text x=\"2935.35\" y=\"2363.59\" style=\"font-family:'Helvetica';font-size:99.99px;fill:#000000\" text-anchor=\"middle\">5</text>\n",
       "\t<line x1=\"3795.66\" y1=\"2233.63\" x2=\"3795.66\" y2=\"2273.73\" style=\"stroke:#000000;stroke-width:5.76\"/>\n",
       "\t<text x=\"3795.66\" y=\"2363.59\" style=\"font-family:'Helvetica';font-size:99.99px;fill:#000000\" text-anchor=\"middle\">10</text>\n",
       "\t<text x=\"2074.92\" y=\"2473.60\" style=\"font-family:'Helvetica';font-size:99.99px;fill:#000000\" text-anchor=\"middle\">Revised Combined Polity Score</text>\n",
       "\t<rect x=\"567.52\" y=\"2558.24\" width=\"3014.80\" height=\"186.37\" style=\"fill:#FFFFFF\"/>\n",
       "\t<rect x=\"570.40\" y=\"2561.12\" width=\"3009.04\" height=\"180.61\" style=\"fill:none;stroke:#000000;stroke-width:5.76\"/>\n",
       "\t<circle cx=\"632.73\" cy=\"2651.43\" r=\"26.35\" style=\"fill:#1A476F\"/>\n",
       "\t<circle cx=\"632.73\" cy=\"2651.43\" r=\"22.03\" style=\"fill:none;stroke:#1A476F;stroke-width:8.64\"/>\n",
       "\t<line x1=\"2518.93\" y1=\"2651.43\" x2=\"2893.28\" y2=\"2651.43\" style=\"stroke:#90353B;stroke-width:8.64\"/>\n",
       "\t<text x=\"714.66\" y=\"2686.46\" style=\"font-family:'Helvetica';font-size:99.99px;fill:#000000\">Life expectancy at birth, total (years)</text>\n",
       "\t<text x=\"2953.29\" y=\"2686.46\" style=\"font-family:'Helvetica';font-size:99.99px;fill:#000000\">Fitted values</text>\n",
       "</svg>\n"
      ],
      "text/plain": [
       "This front-end cannot display the desired image type."
      ]
     },
     "metadata": {
      "image/svg+xml": {
       "height": 436,
       "width": 600
      }
     },
     "output_type": "display_data"
    }
   ],
   "source": [
    "twoway (scatter wdi_lifexp p_polity2) (lfit wdi_lifexp p_polity2)"
   ]
  },
  {
   "cell_type": "markdown",
   "metadata": {},
   "source": [
    "Vi ser att den röda regressionslinjen lutar svagt uppåt, vilket regressionsanalysen ovan också visade. Men vi ser också att linjen inte passar särskilt väl till punkterna - de är spridda mycket kring linjen. Det förklarar det låga R2-värdet.\n",
    "\n",
    "Betyder det positiva samband som vi hittat att demokrati gör att livslängden ökar? Det är inte säkert. Det kan finnas annat som gör att ett land både är demokratiskt och har en hög livslängd. Demokrati och långa liv kan vara två symptom, snarare än orsak och verkan.\n",
    "\n",
    "Den uppenbara kandidaten är nivån av ekonomisk utveckling. Demokratiforskning visar att länder med högre ekonomiskt välstånd har lättare att demokratisera och behålla demokratin. Rika länder har också råd att finansiera mer sjukvård och förebygga sjukdomar som kommer av till exempel undermålig vattenförsörjning eller avfallshantering.\n",
    "\n",
    "För att bättre pröva hypotesen att demokrati leder till ökad livslängd ska vi alltså kontrollera för ekonomisk utveckling. Ett standardmått på det är BNP per capita:"
   ]
  },
  {
   "cell_type": "code",
   "execution_count": 14,
   "metadata": {},
   "outputs": [
    {
     "name": "stdout",
     "output_type": "stream",
     "text": [
      "\n",
      "    Variable |        Obs        Mean    Std. Dev.       Min        Max\n",
      "-------------+---------------------------------------------------------\n",
      "   gle_rgdpc |        192     12596.3     15803.7     285.95   95696.97\n"
     ]
    }
   ],
   "source": [
    "sum gle_rgdpc"
   ]
  },
  {
   "cell_type": "markdown",
   "metadata": {},
   "source": [
    "Variabeln gle_rgdpc visar ett lands BNP per capita i dollar. Medelvärdet är 12596 dollar, men det fattigaste landet (Kongo-Kinshasa) har bara knappa 286, medan det rikaste (Monaco) har hela 95697.\n",
    "\n",
    "För att säkerställa att det är en relevant kontrollvariabel, och att vi har tänkt rätt, kan vi titta på de bivariata korrelationerna mellan kontrollvariabeln, demokrati och förväntad livslängd. Det gör vi genom att skriva:"
   ]
  },
  {
   "cell_type": "code",
   "execution_count": 17,
   "metadata": {},
   "outputs": [
    {
     "name": "stdout",
     "output_type": "stream",
     "text": [
      "\n",
      "             | gle_rg~c p_poli~2 wdi_li~p\n",
      "-------------+---------------------------\n",
      "   gle_rgdpc |   1.0000 \n",
      "   p_polity2 |   0.1512   1.0000 \n",
      "  wdi_lifexp |   0.6329   0.2905   1.0000 \n"
     ]
    }
   ],
   "source": [
    "pwcorr gle_rgdpc p_polity2 wdi_lifexp"
   ]
  },
  {
   "cell_type": "markdown",
   "metadata": {},
   "source": [
    "I den här matrisen ser vi nu tre olika samband, standardiserade enligt ett mått som går från -1 (perfekt negativt samband) till +1 (perfekt positivt samband). Sambandet mellan demokrati (p_polity2) och BNP (gle_rgdpc) är 0,15. Mer BNP per capita hänger ihop med mer demokrati, och mer demokrati hänger ihop med mer BNP per capita. Demokratiska länder är alltså rikare, i genomsnitt.\n",
    "\n",
    "Hög BNP per capita hänger också ihop med en högre förväntad livslängd. Sambandet är också väldigt starkt, 0,63. Det är betydligt mer än sambandet mellan demokrati och livslängd (0,29).\n",
    "\n",
    "När man kontrollerar för variabler som har en positiv korrelation med både beroende och oberoende variabel kommer det ursprungliga sambandet att gå nedåt. Detsamma gäller om man kontrollerar för en variabel som har en negativ korrelation med både beroende och oberoende. Det är alltså troligt att sambandet mellan demokrati och livslängd minskar under kontroll för BNP per capita.\n",
    "\n",
    "Omvänt kommer det ursprungliga sambandet gå uppåt om vi kontrollerar för något som har en positiv korrelation med den beroende och en negativ med den oberoende. Huvudsambandet går också uppåt om vi kontrollerar för något som har en negativ korrelation med den beroende och en positiv korrelation med den obereonde.\n",
    "\n",
    "Genom att göra en regressionsanalys där både demokrati och BNP per capita ingår kan vi, enkelt uttryckt,jämföra rika demokratier med rika ickedemokratier, och fattiga demokratier med fattiga ickedemokratier. Jämförelsen blir mer rättvis. Kommer det då kvarstå något samband mellan demokrati och livslängd?\n",
    "\n",
    "När vi ska göra analysen skriver vi exakt som tidigare, men lägger bara till gle_rgpdc efter p_polity2. Vill man lägga till fler variabler är det bara att skriva dit dem också."
   ]
  },
  {
   "cell_type": "code",
   "execution_count": 18,
   "metadata": {},
   "outputs": [
    {
     "name": "stdout",
     "output_type": "stream",
     "text": [
      "\n",
      "      Source |       SS           df       MS      Number of obs   =       162\n",
      "-------------+----------------------------------   F(2, 159)       =     67.06\n",
      "       Model |  5087.66756         2  2543.83378   Prob > F        =    0.0000\n",
      "    Residual |  6031.42779       159  37.9335081   R-squared       =    0.4576\n",
      "-------------+----------------------------------   Adj R-squared   =    0.4507\n",
      "       Total |  11119.0954       161  69.0627041   Root MSE        =     6.159\n",
      "\n",
      "------------------------------------------------------------------------------\n",
      "  wdi_lifexp |      Coef.   Std. Err.      t    P>|t|     [95% Conf. Interval]\n",
      "-------------+----------------------------------------------------------------\n",
      "   p_polity2 |   .2590328   .0796837     3.25   0.001     .1016577    .4164078\n",
      "   gle_rgdpc |   .0003713   .0000353    10.53   0.000     .0003017     .000441\n",
      "       _cons |   65.53559   .6865968    95.45   0.000     64.17957    66.89162\n",
      "------------------------------------------------------------------------------\n"
     ]
    }
   ],
   "source": [
    "reg wdi_lifexp p_polity2 gle_rgdpc"
   ]
  },
  {
   "cell_type": "markdown",
   "metadata": {},
   "source": [
    "Vad hände med det ursprungliga sambandet? Koefficienten sjönk från 0,39 till 0,26. Men det är fortfarande positivt, och statistiskt signifikant. Men en del av det ursprungliga sambandet berodde alltså på att de demokratiska länderna i genomsnitt är rikare. När vi håller graden av ekonomisk utveckling konstant är sambandet inte lika tydligt.\n",
    "\n",
    "Koefficienten för BNP per capita är som väntat positiv. En ökning av BNP per capita med en dollar hänger ihop med en förväntad ökning av livslängden med 0,00037 år. Det låter inte så mycket, men en dollars ökning är inte heller så mycket. Ökar vi BNP per capita med 10000 dollar blir det 3,7 år istället, vilket är ganska mycket.\n",
    "\n",
    "R2 har också ökat kraftigt jämfört med modellen med bara demokrati. Tillsammans förklarar demokrati och BNP per capita 45,7% av variationen i den beroende variabeln. Framförallt beror det på BNP-variabelns stora förklaringskraft. Man lever mycket längre i rikare länder.\n",
    "\n",
    "Slutsatsen är ändå att det kvarstår ett samband mellan demokrati och förväntad livslängd. *Det betyder dock inte att vi nu har visat att det rör sig om en kausal effekt.* Det finns mycket annat relevant att kontrollera för, och i en uppsats bör man definitivt göra det. Men principen är då densamma, man lägger bara till fler variabler i regressionsanalysen."
   ]
  },
  {
   "cell_type": "markdown",
   "metadata": {},
   "source": [
    "## Avslutning"
   ]
  },
  {
   "cell_type": "markdown",
   "metadata": {},
   "source": [
    "Att bevisa att ett samband är kausalt är extremt svårt. Det är synd, eftersom det oftast är det vi behöver för att kunna utfärda rekommendationer, oavsett om det handlar om hälsoråd eller politik.\n",
    "\n",
    "Men regressionsanalys med kontrollvariabler hjälper oss i alla fall att kontrollera för de enklaste fällorna. I det här exemplet kunde vi se att sambandet mellan demokrati och livslängd inte helt berodde på att demokratiska länder är rikare, och att ickedemokratiska länder är fattigare. Vi har tagit hänsyn till en alternativ förklaring till det ursprungliga sambandet.\n",
    "\n",
    "Man bör dock tänka igenom vilka kontrollvariabler man tar med i sin analys. Analysen blir inte bättre eller mer sofistikerad bara för att man kontrollerar för många variabler. Man ska till exempel inte (i det här sammanhanget) kontrollera för variabler som kommer efter i orsakskedjan. Det vill säga, om demokrati orsakar något som i sin tur leder till högre livslängd ska vi inte kontrollera för det. För att utesluta alternativa förklaringar ska vi bara kontrollera för sådant som kommer före både oberoende och beroende variabel.\n",
    "\n",
    "Det kan också vara bra att i sina analyser lägga till en kontrollvariabel i taget, för att se hur huvudsambandet förändras. På så vis får man själv bättre koll på vad som händer, och kan tänka teoretiskt kring det. Hur man sedan presenterar resultatet är en annan fråga, där behöver man inte alltid redovisa alla stegen."
   ]
  }
 ],
 "metadata": {
  "kernelspec": {
   "display_name": "Stata",
   "language": "stata",
   "name": "stata"
  },
  "language_info": {
   "file_extension": ".do",
   "mimetype": "text/x-stata",
   "name": "stata"
  }
 },
 "nbformat": 4,
 "nbformat_minor": 2
}
