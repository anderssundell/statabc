{
 "cells": [
  {
   "cell_type": "markdown",
   "metadata": {},
   "source": [
    "Guide till scatterplot"
   ]
  },
  {
   "cell_type": "code",
   "execution_count": 1,
   "metadata": {},
   "outputs": [
    {
     "name": "stdout",
     "output_type": "stream",
     "text": [
      "(1978 Automobile Data)\n"
     ]
    }
   ],
   "source": [
    "sysuse auto"
   ]
  },
  {
   "cell_type": "code",
   "execution_count": 2,
   "metadata": {},
   "outputs": [
    {
     "name": "stdout",
     "output_type": "stream",
     "text": [
      "(bin=8, start=12, width=3.625)\n"
     ]
    },
    {
     "data": {
      "application/pdf": "[encoded data removed]",
      "image/svg+xml": [
       "<?xml version=\"1.0\" encoding=\"UTF-8\" standalone=\"no\"?>\n",
       "<!-- This is a Stata 15.1 generated SVG file (http://www.stata.com) -->\n",
       "\n",
       "<svg version=\"1.1\" width=\"600px\" height=\"436px\" viewBox=\"0 0 3960 2880\" xmlns=\"http://www.w3.org/2000/svg\" xmlns:xlink=\"http://www.w3.org/1999/xlink\">\n",
       "\t<desc>Stata Graph - Graph</desc>\n",
       "\t<rect x=\"0\" y=\"0\" width=\"3960\" height=\"2880\" style=\"fill:#EAF2F3;stroke:none\"/>\n",
       "\t<rect x=\"0.00\" y=\"0.00\" width=\"3959.88\" height=\"2880.00\" style=\"fill:#EAF2F3\"/>\n",
       "\t<rect x=\"2.88\" y=\"2.88\" width=\"3954.12\" height=\"2874.24\" style=\"fill:none;stroke:#EAF2F3;stroke-width:5.76\"/>\n",
       "\t<rect x=\"390.80\" y=\"100.86\" width=\"3468.22\" height=\"2388.33\" style=\"fill:#FFFFFF\"/>\n",
       "\t<rect x=\"393.68\" y=\"103.74\" width=\"3462.46\" height=\"2382.57\" style=\"fill:none;stroke:#FFFFFF;stroke-width:5.76\"/>\n",
       "\t<line x1=\"390.80\" y1=\"2489.19\" x2=\"3859.02\" y2=\"2489.19\" style=\"stroke:#EAF2F3;stroke-width:8.64\"/>\n",
       "\t<line x1=\"390.80\" y1=\"2024.24\" x2=\"3859.02\" y2=\"2024.24\" style=\"stroke:#EAF2F3;stroke-width:8.64\"/>\n",
       "\t<line x1=\"390.80\" y1=\"1559.17\" x2=\"3859.02\" y2=\"1559.17\" style=\"stroke:#EAF2F3;stroke-width:8.64\"/>\n",
       "\t<line x1=\"390.80\" y1=\"1094.23\" x2=\"3859.02\" y2=\"1094.23\" style=\"stroke:#EAF2F3;stroke-width:8.64\"/>\n",
       "\t<line x1=\"390.80\" y1=\"629.16\" x2=\"3859.02\" y2=\"629.16\" style=\"stroke:#EAF2F3;stroke-width:8.64\"/>\n",
       "\t<line x1=\"390.80\" y1=\"164.22\" x2=\"3859.02\" y2=\"164.22\" style=\"stroke:#EAF2F3;stroke-width:8.64\"/>\n",
       "\t<rect x=\"669.74\" y=\"1622.41\" width=\"390.68\" height=\"866.77\" style=\"fill:#CAC27E\"/>\n",
       "\t<rect x=\"674.05\" y=\"1626.73\" width=\"382.04\" height=\"858.13\" style=\"fill:none;stroke:#D7D29E;stroke-width:8.64\"/>\n",
       "\t<rect x=\"1060.41\" y=\"322.38\" width=\"390.80\" height=\"2166.81\" style=\"fill:#CAC27E\"/>\n",
       "\t<rect x=\"1064.73\" y=\"326.70\" width=\"382.16\" height=\"2158.17\" style=\"fill:none;stroke:#D7D29E;stroke-width:8.64\"/>\n",
       "\t<rect x=\"1451.22\" y=\"1362.41\" width=\"390.80\" height=\"1126.78\" style=\"fill:#CAC27E\"/>\n",
       "\t<rect x=\"1455.54\" y=\"1366.73\" width=\"382.16\" height=\"1118.14\" style=\"fill:none;stroke:#D7D29E;stroke-width:8.64\"/>\n",
       "\t<rect x=\"1842.02\" y=\"1189.03\" width=\"390.68\" height=\"1300.16\" style=\"fill:#CAC27E\"/>\n",
       "\t<rect x=\"1846.34\" y=\"1193.35\" width=\"382.04\" height=\"1291.52\" style=\"fill:none;stroke:#D7D29E;stroke-width:8.64\"/>\n",
       "\t<rect x=\"2232.70\" y=\"1969.17\" width=\"390.80\" height=\"520.01\" style=\"fill:#CAC27E\"/>\n",
       "\t<rect x=\"2237.02\" y=\"1973.49\" width=\"382.16\" height=\"511.37\" style=\"fill:none;stroke:#D7D29E;stroke-width:8.64\"/>\n",
       "\t<rect x=\"2623.50\" y=\"2402.56\" width=\"390.68\" height=\"86.63\" style=\"fill:#CAC27E\"/>\n",
       "\t<rect x=\"2627.82\" y=\"2406.88\" width=\"382.04\" height=\"77.99\" style=\"fill:none;stroke:#D7D29E;stroke-width:8.64\"/>\n",
       "\t<rect x=\"3014.18\" y=\"2229.18\" width=\"390.80\" height=\"260.01\" style=\"fill:#CAC27E\"/>\n",
       "\t<rect x=\"3018.50\" y=\"2233.50\" width=\"382.16\" height=\"251.37\" style=\"fill:none;stroke:#D7D29E;stroke-width:8.64\"/>\n",
       "\t<rect x=\"3404.98\" y=\"2402.56\" width=\"390.68\" height=\"86.63\" style=\"fill:#CAC27E\"/>\n",
       "\t<rect x=\"3409.30\" y=\"2406.88\" width=\"382.04\" height=\"77.99\" style=\"fill:none;stroke:#D7D29E;stroke-width:8.64\"/>\n",
       "\t<line x1=\"390.80\" y1=\"2489.19\" x2=\"390.80\" y2=\"100.86\" style=\"stroke:#000000;stroke-width:5.76\"/>\n",
       "\t<line x1=\"390.80\" y1=\"2489.19\" x2=\"350.83\" y2=\"2489.19\" style=\"stroke:#000000;stroke-width:5.76\"/>\n",
       "\t<text x=\"300.72\" y=\"2489.19\" style=\"font-family:'Helvetica';font-size:99.99px;fill:#000000\" transform=\"rotate(-90 300.72,2489.19)\" text-anchor=\"middle\">0</text>\n",
       "\t<line x1=\"390.80\" y1=\"2024.24\" x2=\"350.83\" y2=\"2024.24\" style=\"stroke:#000000;stroke-width:5.76\"/>\n",
       "\t<text x=\"300.72\" y=\"2024.24\" style=\"font-family:'Helvetica';font-size:99.99px;fill:#000000\" transform=\"rotate(-90 300.72,2024.24)\" text-anchor=\"middle\">.02</text>\n",
       "\t<line x1=\"390.80\" y1=\"1559.17\" x2=\"350.83\" y2=\"1559.17\" style=\"stroke:#000000;stroke-width:5.76\"/>\n",
       "\t<text x=\"300.72\" y=\"1559.17\" style=\"font-family:'Helvetica';font-size:99.99px;fill:#000000\" transform=\"rotate(-90 300.72,1559.17)\" text-anchor=\"middle\">.04</text>\n",
       "\t<line x1=\"390.80\" y1=\"1094.23\" x2=\"350.83\" y2=\"1094.23\" style=\"stroke:#000000;stroke-width:5.76\"/>\n",
       "\t<text x=\"300.72\" y=\"1094.23\" style=\"font-family:'Helvetica';font-size:99.99px;fill:#000000\" transform=\"rotate(-90 300.72,1094.23)\" text-anchor=\"middle\">.06</text>\n",
       "\t<line x1=\"390.80\" y1=\"629.16\" x2=\"350.83\" y2=\"629.16\" style=\"stroke:#000000;stroke-width:5.76\"/>\n",
       "\t<text x=\"300.72\" y=\"629.16\" style=\"font-family:'Helvetica';font-size:99.99px;fill:#000000\" transform=\"rotate(-90 300.72,629.16)\" text-anchor=\"middle\">.08</text>\n",
       "\t<line x1=\"390.80\" y1=\"164.22\" x2=\"350.83\" y2=\"164.22\" style=\"stroke:#000000;stroke-width:5.76\"/>\n",
       "\t<text x=\"300.72\" y=\"164.22\" style=\"font-family:'Helvetica';font-size:99.99px;fill:#000000\" transform=\"rotate(-90 300.72,164.22)\" text-anchor=\"middle\">.1</text>\n",
       "\t<text x=\"190.71\" y=\"1294.96\" style=\"font-family:'Helvetica';font-size:99.99px;fill:#000000\" transform=\"rotate(-90 190.71,1294.96)\" text-anchor=\"middle\">Density</text>\n",
       "\t<line x1=\"390.80\" y1=\"2489.19\" x2=\"3859.02\" y2=\"2489.19\" style=\"stroke:#000000;stroke-width:5.76\"/>\n",
       "\t<line x1=\"454.16\" y1=\"2489.19\" x2=\"454.16\" y2=\"2529.16\" style=\"stroke:#000000;stroke-width:5.76\"/>\n",
       "\t<text x=\"454.16\" y=\"2619.14\" style=\"font-family:'Helvetica';font-size:99.99px;fill:#000000\" text-anchor=\"middle\">10</text>\n",
       "\t<line x1=\"1532.03\" y1=\"2489.19\" x2=\"1532.03\" y2=\"2529.16\" style=\"stroke:#000000;stroke-width:5.76\"/>\n",
       "\t<text x=\"1532.03\" y=\"2619.14\" style=\"font-family:'Helvetica';font-size:99.99px;fill:#000000\" text-anchor=\"middle\">20</text>\n",
       "\t<line x1=\"2610.01\" y1=\"2489.19\" x2=\"2610.01\" y2=\"2529.16\" style=\"stroke:#000000;stroke-width:5.76\"/>\n",
       "\t<text x=\"2610.01\" y=\"2619.14\" style=\"font-family:'Helvetica';font-size:99.99px;fill:#000000\" text-anchor=\"middle\">30</text>\n",
       "\t<line x1=\"3687.87\" y1=\"2489.19\" x2=\"3687.87\" y2=\"2529.16\" style=\"stroke:#000000;stroke-width:5.76\"/>\n",
       "\t<text x=\"3687.87\" y=\"2619.14\" style=\"font-family:'Helvetica';font-size:99.99px;fill:#000000\" text-anchor=\"middle\">40</text>\n",
       "\t<text x=\"2124.91\" y=\"2729.16\" style=\"font-family:'Helvetica';font-size:99.99px;fill:#000000\" text-anchor=\"middle\">Mileage (mpg)</text>\n",
       "</svg>\n"
      ],
      "text/plain": [
       "This front-end cannot display the desired image type."
      ]
     },
     "metadata": {
      "image/svg+xml": {
       "height": 436,
       "width": 600
      }
     },
     "output_type": "display_data"
    },
    {
     "name": "stdout",
     "output_type": "stream",
     "text": [
      "\n",
      "\n"
     ]
    }
   ],
   "source": [
    "histogram mpg"
   ]
  },
  {
   "cell_type": "code",
   "execution_count": 4,
   "metadata": {},
   "outputs": [
    {
     "data": {
      "application/pdf": "[encoded data removed]",
      "image/svg+xml": [
       "<?xml version=\"1.0\" encoding=\"UTF-8\" standalone=\"no\"?>\n",
       "<!-- This is a Stata 15.1 generated SVG file (http://www.stata.com) -->\n",
       "\n",
       "<svg version=\"1.1\" width=\"600px\" height=\"436px\" viewBox=\"0 0 3960 2880\" xmlns=\"http://www.w3.org/2000/svg\" xmlns:xlink=\"http://www.w3.org/1999/xlink\">\n",
       "\t<desc>Stata Graph - Graph</desc>\n",
       "\t<rect x=\"0\" y=\"0\" width=\"3960\" height=\"2880\" style=\"fill:#EAF2F3;stroke:none\"/>\n",
       "\t<rect x=\"0.00\" y=\"0.00\" width=\"3959.88\" height=\"2880.00\" style=\"fill:#EAF2F3\"/>\n",
       "\t<rect x=\"2.88\" y=\"2.88\" width=\"3954.12\" height=\"2874.24\" style=\"fill:none;stroke:#EAF2F3;stroke-width:5.76\"/>\n",
       "\t<rect x=\"390.80\" y=\"100.86\" width=\"3468.22\" height=\"2388.33\" style=\"fill:#FFFFFF\"/>\n",
       "\t<rect x=\"393.68\" y=\"103.74\" width=\"3462.46\" height=\"2382.57\" style=\"fill:none;stroke:#FFFFFF;stroke-width:5.76\"/>\n",
       "\t<line x1=\"390.80\" y1=\"2425.82\" x2=\"3859.02\" y2=\"2425.82\" style=\"stroke:#EAF2F3;stroke-width:8.64\"/>\n",
       "\t<line x1=\"390.80\" y1=\"1696.29\" x2=\"3859.02\" y2=\"1696.29\" style=\"stroke:#EAF2F3;stroke-width:8.64\"/>\n",
       "\t<line x1=\"390.80\" y1=\"966.64\" x2=\"3859.02\" y2=\"966.64\" style=\"stroke:#EAF2F3;stroke-width:8.64\"/>\n",
       "\t<line x1=\"390.80\" y1=\"237.11\" x2=\"3859.02\" y2=\"237.11\" style=\"stroke:#EAF2F3;stroke-width:8.64\"/>\n",
       "\t<circle cx=\"1315.21\" cy=\"1550.39\" r=\"26.35\" style=\"fill:#1A476F\"/>\n",
       "\t<circle cx=\"1315.21\" cy=\"1550.39\" r=\"22.03\" style=\"fill:none;stroke:#1A476F;stroke-width:8.64\"/>\n",
       "\t<circle cx=\"1451.71\" cy=\"1915.21\" r=\"26.35\" style=\"fill:#1A476F\"/>\n",
       "\t<circle cx=\"1451.71\" cy=\"1915.21\" r=\"22.03\" style=\"fill:none;stroke:#1A476F;stroke-width:8.64\"/>\n",
       "\t<circle cx=\"1252.23\" cy=\"1550.39\" r=\"26.35\" style=\"fill:#1A476F\"/>\n",
       "\t<circle cx=\"1252.23\" cy=\"1550.39\" r=\"22.03\" style=\"fill:none;stroke:#1A476F;stroke-width:8.64\"/>\n",
       "\t<circle cx=\"1465.82\" cy=\"1696.29\" r=\"26.35\" style=\"fill:#1A476F\"/>\n",
       "\t<circle cx=\"1465.82\" cy=\"1696.29\" r=\"22.03\" style=\"fill:none;stroke:#1A476F;stroke-width:8.64\"/>\n",
       "\t<circle cx=\"2098.43\" cy=\"2061.12\" r=\"26.35\" style=\"fill:#1A476F\"/>\n",
       "\t<circle cx=\"2098.43\" cy=\"2061.12\" r=\"22.03\" style=\"fill:none;stroke:#1A476F;stroke-width:8.64\"/>\n",
       "\t<circle cx=\"1670.01\" cy=\"1842.20\" r=\"26.35\" style=\"fill:#1A476F\"/>\n",
       "\t<circle cx=\"1670.01\" cy=\"1842.20\" r=\"22.03\" style=\"fill:none;stroke:#1A476F;stroke-width:8.64\"/>\n",
       "\t<circle cx=\"1389.59\" cy=\"1258.58\" r=\"26.35\" style=\"fill:#1A476F\"/>\n",
       "\t<circle cx=\"1389.59\" cy=\"1258.58\" r=\"22.03\" style=\"fill:none;stroke:#1A476F;stroke-width:8.64\"/>\n",
       "\t<circle cx=\"1544.15\" cy=\"1696.29\" r=\"26.35\" style=\"fill:#1A476F\"/>\n",
       "\t<circle cx=\"1544.15\" cy=\"1696.29\" r=\"22.03\" style=\"fill:none;stroke:#1A476F;stroke-width:8.64\"/>\n",
       "\t<circle cx=\"2633.03\" cy=\"1988.11\" r=\"26.35\" style=\"fill:#1A476F\"/>\n",
       "\t<circle cx=\"2633.03\" cy=\"1988.11\" r=\"22.03\" style=\"fill:none;stroke:#1A476F;stroke-width:8.64\"/>\n",
       "\t<circle cx=\"1311.63\" cy=\"1769.31\" r=\"26.35\" style=\"fill:#1A476F\"/>\n",
       "\t<circle cx=\"1311.63\" cy=\"1769.31\" r=\"22.03\" style=\"fill:none;stroke:#1A476F;stroke-width:8.64\"/>\n",
       "\t<circle cx=\"2845.88\" cy=\"2134.14\" r=\"26.35\" style=\"fill:#1A476F\"/>\n",
       "\t<circle cx=\"2845.88\" cy=\"2134.14\" r=\"22.03\" style=\"fill:none;stroke:#1A476F;stroke-width:8.64\"/>\n",
       "\t<circle cx=\"3500.27\" cy=\"2134.14\" r=\"26.35\" style=\"fill:#1A476F\"/>\n",
       "\t<circle cx=\"3500.27\" cy=\"2134.14\" r=\"22.03\" style=\"fill:none;stroke:#1A476F;stroke-width:8.64\"/>\n",
       "\t<circle cx=\"3795.66\" cy=\"1623.40\" r=\"26.35\" style=\"fill:#1A476F\"/>\n",
       "\t<circle cx=\"3795.66\" cy=\"1623.40\" r=\"22.03\" style=\"fill:none;stroke:#1A476F;stroke-width:8.64\"/>\n",
       "\t<circle cx=\"1147.16\" cy=\"1039.66\" r=\"26.35\" style=\"fill:#1A476F\"/>\n",
       "\t<circle cx=\"1147.16\" cy=\"1039.66\" r=\"22.03\" style=\"fill:none;stroke:#1A476F;stroke-width:8.64\"/>\n",
       "\t<circle cx=\"1652.56\" cy=\"1988.11\" r=\"26.35\" style=\"fill:#1A476F\"/>\n",
       "\t<circle cx=\"1652.56\" cy=\"1988.11\" r=\"22.03\" style=\"fill:none;stroke:#1A476F;stroke-width:8.64\"/>\n",
       "\t<circle cx=\"1400.23\" cy=\"1550.39\" r=\"26.35\" style=\"fill:#1A476F\"/>\n",
       "\t<circle cx=\"1400.23\" cy=\"1550.39\" r=\"22.03\" style=\"fill:none;stroke:#1A476F;stroke-width:8.64\"/>\n",
       "\t<circle cx=\"1526.33\" cy=\"1550.39\" r=\"26.35\" style=\"fill:#1A476F\"/>\n",
       "\t<circle cx=\"1526.33\" cy=\"1550.39\" r=\"22.03\" style=\"fill:none;stroke:#1A476F;stroke-width:8.64\"/>\n",
       "\t<circle cx=\"1224.51\" cy=\"1404.48\" r=\"26.35\" style=\"fill:#1A476F\"/>\n",
       "\t<circle cx=\"1224.51\" cy=\"1404.48\" r=\"22.03\" style=\"fill:none;stroke:#1A476F;stroke-width:8.64\"/>\n",
       "\t<circle cx=\"1284.90\" cy=\"1769.31\" r=\"26.35\" style=\"fill:#1A476F\"/>\n",
       "\t<circle cx=\"1284.90\" cy=\"1769.31\" r=\"22.03\" style=\"fill:none;stroke:#1A476F;stroke-width:8.64\"/>\n",
       "\t<circle cx=\"1291.08\" cy=\"966.77\" r=\"26.35\" style=\"fill:#1A476F\"/>\n",
       "\t<circle cx=\"1291.08\" cy=\"966.77\" r=\"22.03\" style=\"fill:none;stroke:#1A476F;stroke-width:8.64\"/>\n",
       "\t<circle cx=\"1296.53\" cy=\"1842.20\" r=\"26.35\" style=\"fill:#1A476F\"/>\n",
       "\t<circle cx=\"1296.53\" cy=\"1842.20\" r=\"22.03\" style=\"fill:none;stroke:#1A476F;stroke-width:8.64\"/>\n",
       "\t<circle cx=\"1690.67\" cy=\"1988.11\" r=\"26.35\" style=\"fill:#1A476F\"/>\n",
       "\t<circle cx=\"1690.67\" cy=\"1988.11\" r=\"22.03\" style=\"fill:none;stroke:#1A476F;stroke-width:8.64\"/>\n",
       "\t<circle cx=\"1786.45\" cy=\"1915.21\" r=\"26.35\" style=\"fill:#1A476F\"/>\n",
       "\t<circle cx=\"1786.45\" cy=\"1915.21\" r=\"22.03\" style=\"fill:none;stroke:#1A476F;stroke-width:8.64\"/>\n",
       "\t<circle cx=\"1376.10\" cy=\"1112.67\" r=\"26.35\" style=\"fill:#1A476F\"/>\n",
       "\t<circle cx=\"1376.10\" cy=\"1112.67\" r=\"22.03\" style=\"fill:none;stroke:#1A476F;stroke-width:8.64\"/>\n",
       "\t<circle cx=\"1333.65\" cy=\"1623.40\" r=\"26.35\" style=\"fill:#1A476F\"/>\n",
       "\t<circle cx=\"1333.65\" cy=\"1623.40\" r=\"22.03\" style=\"fill:none;stroke:#1A476F;stroke-width:8.64\"/>\n",
       "\t<circle cx=\"2869.39\" cy=\"2280.04\" r=\"26.35\" style=\"fill:#1A476F\"/>\n",
       "\t<circle cx=\"2869.39\" cy=\"2280.04\" r=\"22.03\" style=\"fill:none;stroke:#1A476F;stroke-width:8.64\"/>\n",
       "\t<circle cx=\"3309.94\" cy=\"2280.04\" r=\"26.35\" style=\"fill:#1A476F\"/>\n",
       "\t<circle cx=\"3309.94\" cy=\"2280.04\" r=\"22.03\" style=\"fill:none;stroke:#1A476F;stroke-width:8.64\"/>\n",
       "\t<circle cx=\"3283.09\" cy=\"2134.14\" r=\"26.35\" style=\"fill:#1A476F\"/>\n",
       "\t<circle cx=\"3283.09\" cy=\"2134.14\" r=\"22.03\" style=\"fill:none;stroke:#1A476F;stroke-width:8.64\"/>\n",
       "\t<circle cx=\"1258.54\" cy=\"1550.39\" r=\"26.35\" style=\"fill:#1A476F\"/>\n",
       "\t<circle cx=\"1258.54\" cy=\"1550.39\" r=\"22.03\" style=\"fill:none;stroke:#1A476F;stroke-width:8.64\"/>\n",
       "\t<circle cx=\"1584.12\" cy=\"2134.14\" r=\"26.35\" style=\"fill:#1A476F\"/>\n",
       "\t<circle cx=\"1584.12\" cy=\"2134.14\" r=\"22.03\" style=\"fill:none;stroke:#1A476F;stroke-width:8.64\"/>\n",
       "\t<circle cx=\"1749.21\" cy=\"2061.12\" r=\"26.35\" style=\"fill:#1A476F\"/>\n",
       "\t<circle cx=\"1749.21\" cy=\"2061.12\" r=\"22.03\" style=\"fill:none;stroke:#1A476F;stroke-width:8.64\"/>\n",
       "\t<circle cx=\"1402.83\" cy=\"1842.20\" r=\"26.35\" style=\"fill:#1A476F\"/>\n",
       "\t<circle cx=\"1402.83\" cy=\"1842.20\" r=\"22.03\" style=\"fill:none;stroke:#1A476F;stroke-width:8.64\"/>\n",
       "\t<circle cx=\"1778.29\" cy=\"2134.14\" r=\"26.35\" style=\"fill:#1A476F\"/>\n",
       "\t<circle cx=\"1778.29\" cy=\"2134.14\" r=\"22.03\" style=\"fill:none;stroke:#1A476F;stroke-width:8.64\"/>\n",
       "\t<circle cx=\"1145.43\" cy=\"1696.29\" r=\"26.35\" style=\"fill:#1A476F\"/>\n",
       "\t<circle cx=\"1145.43\" cy=\"1696.29\" r=\"22.03\" style=\"fill:none;stroke:#1A476F;stroke-width:8.64\"/>\n",
       "\t<circle cx=\"2305.71\" cy=\"1623.40\" r=\"26.35\" style=\"fill:#1A476F\"/>\n",
       "\t<circle cx=\"2305.71\" cy=\"1623.40\" r=\"22.03\" style=\"fill:none;stroke:#1A476F;stroke-width:8.64\"/>\n",
       "\t<circle cx=\"1540.69\" cy=\"1769.31\" r=\"26.35\" style=\"fill:#1A476F\"/>\n",
       "\t<circle cx=\"1540.69\" cy=\"1769.31\" r=\"22.03\" style=\"fill:none;stroke:#1A476F;stroke-width:8.64\"/>\n",
       "\t<circle cx=\"1448.37\" cy=\"1769.31\" r=\"26.35\" style=\"fill:#1A476F\"/>\n",
       "\t<circle cx=\"1448.37\" cy=\"1769.31\" r=\"22.03\" style=\"fill:none;stroke:#1A476F;stroke-width:8.64\"/>\n",
       "\t<circle cx=\"1481.41\" cy=\"1842.20\" r=\"26.35\" style=\"fill:#1A476F\"/>\n",
       "\t<circle cx=\"1481.41\" cy=\"1842.20\" r=\"22.03\" style=\"fill:none;stroke:#1A476F;stroke-width:8.64\"/>\n",
       "\t<circle cx=\"1332.42\" cy=\"1769.31\" r=\"26.35\" style=\"fill:#1A476F\"/>\n",
       "\t<circle cx=\"1332.42\" cy=\"1769.31\" r=\"22.03\" style=\"fill:none;stroke:#1A476F;stroke-width:8.64\"/>\n",
       "\t<circle cx=\"1335.39\" cy=\"1404.48\" r=\"26.35\" style=\"fill:#1A476F\"/>\n",
       "\t<circle cx=\"1335.39\" cy=\"1404.48\" r=\"22.03\" style=\"fill:none;stroke:#1A476F;stroke-width:8.64\"/>\n",
       "\t<circle cx=\"2632.91\" cy=\"1988.11\" r=\"26.35\" style=\"fill:#1A476F\"/>\n",
       "\t<circle cx=\"2632.91\" cy=\"1988.11\" r=\"22.03\" style=\"fill:none;stroke:#1A476F;stroke-width:8.64\"/>\n",
       "\t<circle cx=\"1430.30\" cy=\"1112.67\" r=\"26.35\" style=\"fill:#1A476F\"/>\n",
       "\t<circle cx=\"1430.30\" cy=\"1112.67\" r=\"22.03\" style=\"fill:none;stroke:#1A476F;stroke-width:8.64\"/>\n",
       "\t<circle cx=\"1383.65\" cy=\"674.95\" r=\"26.35\" style=\"fill:#1A476F\"/>\n",
       "\t<circle cx=\"1383.65\" cy=\"674.95\" r=\"22.03\" style=\"fill:none;stroke:#1A476F;stroke-width:8.64\"/>\n",
       "\t<circle cx=\"1395.65\" cy=\"1331.59\" r=\"26.35\" style=\"fill:#1A476F\"/>\n",
       "\t<circle cx=\"1395.65\" cy=\"1331.59\" r=\"22.03\" style=\"fill:none;stroke:#1A476F;stroke-width:8.64\"/>\n",
       "\t<circle cx=\"1816.65\" cy=\"1258.58\" r=\"26.35\" style=\"fill:#1A476F\"/>\n",
       "\t<circle cx=\"1816.65\" cy=\"1258.58\" r=\"22.03\" style=\"fill:none;stroke:#1A476F;stroke-width:8.64\"/>\n",
       "\t<circle cx=\"1307.05\" cy=\"1842.20\" r=\"26.35\" style=\"fill:#1A476F\"/>\n",
       "\t<circle cx=\"1307.05\" cy=\"1842.20\" r=\"22.03\" style=\"fill:none;stroke:#1A476F;stroke-width:8.64\"/>\n",
       "\t<circle cx=\"1672.11\" cy=\"1842.20\" r=\"26.35\" style=\"fill:#1A476F\"/>\n",
       "\t<circle cx=\"1672.11\" cy=\"1842.20\" r=\"22.03\" style=\"fill:none;stroke:#1A476F;stroke-width:8.64\"/>\n",
       "\t<circle cx=\"1490.57\" cy=\"1842.20\" r=\"26.35\" style=\"fill:#1A476F\"/>\n",
       "\t<circle cx=\"1490.57\" cy=\"1842.20\" r=\"22.03\" style=\"fill:none;stroke:#1A476F;stroke-width:8.64\"/>\n",
       "\t<circle cx=\"1551.08\" cy=\"1769.31\" r=\"26.35\" style=\"fill:#1A476F\"/>\n",
       "\t<circle cx=\"1551.08\" cy=\"1769.31\" r=\"22.03\" style=\"fill:none;stroke:#1A476F;stroke-width:8.64\"/>\n",
       "\t<circle cx=\"1446.27\" cy=\"1769.31\" r=\"26.35\" style=\"fill:#1A476F\"/>\n",
       "\t<circle cx=\"1446.27\" cy=\"1769.31\" r=\"22.03\" style=\"fill:none;stroke:#1A476F;stroke-width:8.64\"/>\n",
       "\t<circle cx=\"1383.53\" cy=\"1769.31\" r=\"26.35\" style=\"fill:#1A476F\"/>\n",
       "\t<circle cx=\"1383.53\" cy=\"1769.31\" r=\"22.03\" style=\"fill:none;stroke:#1A476F;stroke-width:8.64\"/>\n",
       "\t<circle cx=\"1330.56\" cy=\"1404.48\" r=\"26.35\" style=\"fill:#1A476F\"/>\n",
       "\t<circle cx=\"1330.56\" cy=\"1404.48\" r=\"22.03\" style=\"fill:none;stroke:#1A476F;stroke-width:8.64\"/>\n",
       "\t<circle cx=\"2489.73\" cy=\"1915.21\" r=\"26.35\" style=\"fill:#1A476F\"/>\n",
       "\t<circle cx=\"2489.73\" cy=\"1915.21\" r=\"22.03\" style=\"fill:none;stroke:#1A476F;stroke-width:8.64\"/>\n",
       "\t<circle cx=\"1776.56\" cy=\"1477.50\" r=\"26.35\" style=\"fill:#1A476F\"/>\n",
       "\t<circle cx=\"1776.56\" cy=\"1477.50\" r=\"22.03\" style=\"fill:none;stroke:#1A476F;stroke-width:8.64\"/>\n",
       "\t<circle cx=\"2499.26\" cy=\"1331.59\" r=\"26.35\" style=\"fill:#1A476F\"/>\n",
       "\t<circle cx=\"2499.26\" cy=\"1331.59\" r=\"22.03\" style=\"fill:none;stroke:#1A476F;stroke-width:8.64\"/>\n",
       "\t<circle cx=\"1762.69\" cy=\"1477.50\" r=\"26.35\" style=\"fill:#1A476F\"/>\n",
       "\t<circle cx=\"1762.69\" cy=\"1477.50\" r=\"22.03\" style=\"fill:none;stroke:#1A476F;stroke-width:8.64\"/>\n",
       "\t<circle cx=\"1418.17\" cy=\"601.94\" r=\"26.35\" style=\"fill:#1A476F\"/>\n",
       "\t<circle cx=\"1418.17\" cy=\"601.94\" r=\"22.03\" style=\"fill:none;stroke:#1A476F;stroke-width:8.64\"/>\n",
       "\t<circle cx=\"1521.13\" cy=\"1404.48\" r=\"26.35\" style=\"fill:#1A476F\"/>\n",
       "\t<circle cx=\"1521.13\" cy=\"1404.48\" r=\"22.03\" style=\"fill:none;stroke:#1A476F;stroke-width:8.64\"/>\n",
       "\t<circle cx=\"2161.79\" cy=\"1623.40\" r=\"26.35\" style=\"fill:#1A476F\"/>\n",
       "\t<circle cx=\"2161.79\" cy=\"1623.40\" r=\"22.03\" style=\"fill:none;stroke:#1A476F;stroke-width:8.64\"/>\n",
       "\t<circle cx=\"1356.55\" cy=\"1623.40\" r=\"26.35\" style=\"fill:#1A476F\"/>\n",
       "\t<circle cx=\"1356.55\" cy=\"1623.40\" r=\"22.03\" style=\"fill:none;stroke:#1A476F;stroke-width:8.64\"/>\n",
       "\t<circle cx=\"1672.36\" cy=\"1331.59\" r=\"26.35\" style=\"fill:#1A476F\"/>\n",
       "\t<circle cx=\"1672.36\" cy=\"1331.59\" r=\"22.03\" style=\"fill:none;stroke:#1A476F;stroke-width:8.64\"/>\n",
       "\t<circle cx=\"1399.24\" cy=\"1112.67\" r=\"26.35\" style=\"fill:#1A476F\"/>\n",
       "\t<circle cx=\"1399.24\" cy=\"1112.67\" r=\"22.03\" style=\"fill:none;stroke:#1A476F;stroke-width:8.64\"/>\n",
       "\t<circle cx=\"1293.31\" cy=\"966.77\" r=\"26.35\" style=\"fill:#1A476F\"/>\n",
       "\t<circle cx=\"1293.31\" cy=\"966.77\" r=\"22.03\" style=\"fill:none;stroke:#1A476F;stroke-width:8.64\"/>\n",
       "\t<circle cx=\"3183.10\" cy=\"2134.14\" r=\"26.35\" style=\"fill:#1A476F\"/>\n",
       "\t<circle cx=\"3183.10\" cy=\"2134.14\" r=\"22.03\" style=\"fill:none;stroke:#1A476F;stroke-width:8.64\"/>\n",
       "\t<circle cx=\"1272.40\" cy=\"1258.58\" r=\"26.35\" style=\"fill:#1A476F\"/>\n",
       "\t<circle cx=\"1272.40\" cy=\"1258.58\" r=\"22.03\" style=\"fill:none;stroke:#1A476F;stroke-width:8.64\"/>\n",
       "\t<circle cx=\"1251.98\" cy=\"601.94\" r=\"26.35\" style=\"fill:#1A476F\"/>\n",
       "\t<circle cx=\"1251.98\" cy=\"601.94\" r=\"22.03\" style=\"fill:none;stroke:#1A476F;stroke-width:8.64\"/>\n",
       "\t<circle cx=\"1693.39\" cy=\"1842.20\" r=\"26.35\" style=\"fill:#1A476F\"/>\n",
       "\t<circle cx=\"1693.39\" cy=\"1842.20\" r=\"22.03\" style=\"fill:none;stroke:#1A476F;stroke-width:8.64\"/>\n",
       "\t<circle cx=\"1241.46\" cy=\"893.75\" r=\"26.35\" style=\"fill:#1A476F\"/>\n",
       "\t<circle cx=\"1241.46\" cy=\"893.75\" r=\"22.03\" style=\"fill:none;stroke:#1A476F;stroke-width:8.64\"/>\n",
       "\t<circle cx=\"1655.53\" cy=\"1842.20\" r=\"26.35\" style=\"fill:#1A476F\"/>\n",
       "\t<circle cx=\"1655.53\" cy=\"1842.20\" r=\"22.03\" style=\"fill:none;stroke:#1A476F;stroke-width:8.64\"/>\n",
       "\t<circle cx=\"1954.01\" cy=\"1477.50\" r=\"26.35\" style=\"fill:#1A476F\"/>\n",
       "\t<circle cx=\"1954.01\" cy=\"1477.50\" r=\"22.03\" style=\"fill:none;stroke:#1A476F;stroke-width:8.64\"/>\n",
       "\t<circle cx=\"1587.84\" cy=\"164.22\" r=\"26.35\" style=\"fill:#1A476F\"/>\n",
       "\t<circle cx=\"1587.84\" cy=\"164.22\" r=\"22.03\" style=\"fill:none;stroke:#1A476F;stroke-width:8.64\"/>\n",
       "\t<circle cx=\"1440.82\" cy=\"1331.59\" r=\"26.35\" style=\"fill:#1A476F\"/>\n",
       "\t<circle cx=\"1440.82\" cy=\"1331.59\" r=\"22.03\" style=\"fill:none;stroke:#1A476F;stroke-width:8.64\"/>\n",
       "\t<circle cx=\"1893.13\" cy=\"1331.59\" r=\"26.35\" style=\"fill:#1A476F\"/>\n",
       "\t<circle cx=\"1893.13\" cy=\"1331.59\" r=\"22.03\" style=\"fill:none;stroke:#1A476F;stroke-width:8.64\"/>\n",
       "\t<circle cx=\"2974.08\" cy=\"1915.21\" r=\"26.35\" style=\"fill:#1A476F\"/>\n",
       "\t<circle cx=\"2974.08\" cy=\"1915.21\" r=\"22.03\" style=\"fill:none;stroke:#1A476F;stroke-width:8.64\"/>\n",
       "\t<line x1=\"390.80\" y1=\"2489.19\" x2=\"390.80\" y2=\"100.86\" style=\"stroke:#000000;stroke-width:5.76\"/>\n",
       "\t<line x1=\"390.80\" y1=\"2425.82\" x2=\"350.83\" y2=\"2425.82\" style=\"stroke:#000000;stroke-width:5.76\"/>\n",
       "\t<text x=\"300.72\" y=\"2425.82\" style=\"font-family:'Helvetica';font-size:99.99px;fill:#000000\" transform=\"rotate(-90 300.72,2425.82)\" text-anchor=\"middle\">10</text>\n",
       "\t<line x1=\"390.80\" y1=\"1696.29\" x2=\"350.83\" y2=\"1696.29\" style=\"stroke:#000000;stroke-width:5.76\"/>\n",
       "\t<text x=\"300.72\" y=\"1696.29\" style=\"font-family:'Helvetica';font-size:99.99px;fill:#000000\" transform=\"rotate(-90 300.72,1696.29)\" text-anchor=\"middle\">20</text>\n",
       "\t<line x1=\"390.80\" y1=\"966.64\" x2=\"350.83\" y2=\"966.64\" style=\"stroke:#000000;stroke-width:5.76\"/>\n",
       "\t<text x=\"300.72\" y=\"966.64\" style=\"font-family:'Helvetica';font-size:99.99px;fill:#000000\" transform=\"rotate(-90 300.72,966.64)\" text-anchor=\"middle\">30</text>\n",
       "\t<line x1=\"390.80\" y1=\"237.11\" x2=\"350.83\" y2=\"237.11\" style=\"stroke:#000000;stroke-width:5.76\"/>\n",
       "\t<text x=\"300.72\" y=\"237.11\" style=\"font-family:'Helvetica';font-size:99.99px;fill:#000000\" transform=\"rotate(-90 300.72,237.11)\" text-anchor=\"middle\">40</text>\n",
       "\t<text x=\"190.71\" y=\"1294.96\" style=\"font-family:'Helvetica';font-size:99.99px;fill:#000000\" transform=\"rotate(-90 190.71,1294.96)\" text-anchor=\"middle\">Mileage (mpg)</text>\n",
       "\t<line x1=\"390.80\" y1=\"2489.19\" x2=\"3859.02\" y2=\"2489.19\" style=\"stroke:#000000;stroke-width:5.76\"/>\n",
       "\t<line x1=\"454.16\" y1=\"2489.19\" x2=\"454.16\" y2=\"2529.16\" style=\"stroke:#000000;stroke-width:5.76\"/>\n",
       "\t<text x=\"454.16\" y=\"2619.14\" style=\"font-family:'Helvetica';font-size:99.99px;fill:#000000\" text-anchor=\"middle\">0</text>\n",
       "\t<line x1=\"1504.55\" y1=\"2489.19\" x2=\"1504.55\" y2=\"2529.16\" style=\"stroke:#000000;stroke-width:5.76\"/>\n",
       "\t<text x=\"1504.55\" y=\"2619.14\" style=\"font-family:'Helvetica';font-size:99.99px;fill:#000000\" text-anchor=\"middle\">5,000</text>\n",
       "\t<line x1=\"2554.94\" y1=\"2489.19\" x2=\"2554.94\" y2=\"2529.16\" style=\"stroke:#000000;stroke-width:5.76\"/>\n",
       "\t<text x=\"2554.94\" y=\"2619.14\" style=\"font-family:'Helvetica';font-size:99.99px;fill:#000000\" text-anchor=\"middle\">10,000</text>\n",
       "\t<line x1=\"3605.33\" y1=\"2489.19\" x2=\"3605.33\" y2=\"2529.16\" style=\"stroke:#000000;stroke-width:5.76\"/>\n",
       "\t<text x=\"3605.33\" y=\"2619.14\" style=\"font-family:'Helvetica';font-size:99.99px;fill:#000000\" text-anchor=\"middle\">15,000</text>\n",
       "\t<text x=\"2124.91\" y=\"2729.16\" style=\"font-family:'Helvetica';font-size:99.99px;fill:#000000\" text-anchor=\"middle\">Price</text>\n",
       "</svg>\n"
      ],
      "text/plain": [
       "This front-end cannot display the desired image type."
      ]
     },
     "metadata": {
      "image/svg+xml": {
       "height": 436,
       "width": 600
      }
     },
     "output_type": "display_data"
    }
   ],
   "source": [
    "scatter mpg price"
   ]
  },
  {
   "cell_type": "code",
   "execution_count": null,
   "metadata": {},
   "outputs": [],
   "source": []
  }
 ],
 "metadata": {
  "kernelspec": {
   "display_name": "Stata",
   "language": "stata",
   "name": "stata"
  },
  "language_info": {
   "file_extension": ".do",
   "mimetype": "text/x-stata",
   "name": "stata"
  }
 },
 "nbformat": 4,
 "nbformat_minor": 2
}
